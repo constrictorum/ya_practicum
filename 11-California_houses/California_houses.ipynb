{
 "cells": [
  {
   "cell_type": "markdown",
   "id": "085aea6c-6f0c-49f2-82cd-2fc36fda275a",
   "metadata": {},
   "source": [
    "# Предсказание цены недвижимости в Калифорнии\n",
    "\n",
    "В проекте вам нужно обучить модель линейной регрессии на данных о жилье в Калифорнии\n",
    "в 1990 году. \n",
    "\n",
    "## Данные\n",
    "\n",
    "В колонках датасета содержатся следующие данные:\n",
    "- longitude — широта;\n",
    "- latitude — долгота;\n",
    "- housing_median_age — медианный возраст жителей жилого массива;\n",
    "- total_rooms — общее количество комнат в домах жилого массива;\n",
    "- total_bedrooms — общее количество спален в домах жилого массива;\n",
    "- population — количество человек, которые проживают в жилом массиве;\n",
    "- households — количество домовладений в жилом массиве;\n",
    "- median_income — медианный доход жителей жилого массива;\n",
    "- median_house_value — медианная стоимость дома в жилом массиве;\n",
    "- ocean_proximity — близость к океану.\n",
    "\n",
    "## Цель\n",
    "\n",
    "На основе данных нужно предсказать медианную стоимость дома в жилом массиве — median_house_value. Для оценки качества модели следует использовать метрики RMSE, MAE и R2."
   ]
  },
  {
   "cell_type": "code",
   "execution_count": 1,
   "id": "eb9dcab9",
   "metadata": {},
   "outputs": [],
   "source": [
    "import warnings\n",
    "\n",
    "import pandas as pd\n",
    "from pyspark.ml import Pipeline\n",
    "from pyspark.ml.evaluation import RegressionEvaluator\n",
    "from pyspark.ml.feature import Imputer, OneHotEncoder, StandardScaler, StringIndexer, VectorAssembler\n",
    "from pyspark.ml.regression import LinearRegression\n",
    "from pyspark.ml.tuning import CrossValidator, ParamGridBuilder\n",
    "from pyspark.sql import SparkSession\n",
    "from pyspark.sql import functions as F\n",
    "from pyspark.sql.utils import AnalysisException"
   ]
  },
  {
   "cell_type": "raw",
   "id": "5d10ec17",
   "metadata": {},
   "source": [
    "warnings.simplefilter(action=\"ignore\", category=\"CSVHeaderChecker\")"
   ]
  },
  {
   "cell_type": "code",
   "execution_count": 2,
   "id": "31270f9b",
   "metadata": {},
   "outputs": [],
   "source": [
    "spark = (\n",
    "    SparkSession.builder.master(\"local\")\n",
    "    .appName(\"Python Spark SQL basic example\")\n",
    "    .getOrCreate()\n",
    ")"
   ]
  },
  {
   "cell_type": "code",
   "execution_count": 3,
   "id": "4b5ff0c7",
   "metadata": {},
   "outputs": [],
   "source": [
    "sc = spark.sparkContext"
   ]
  },
  {
   "cell_type": "code",
   "execution_count": 4,
   "id": "d56f2087",
   "metadata": {},
   "outputs": [],
   "source": [
    "try:\n",
    "    df = spark.read.load(\n",
    "        \"/datasets/housing.csv\", format=\"csv\", inferSchema=True, header=True\n",
    "    )\n",
    "except AnalysisException:\n",
    "    df = spark.read.load(\n",
    "        \"./data/housing.csv\", format=\"csv\", inferSchema=True, header=True\n",
    "    )"
   ]
  },
  {
   "cell_type": "code",
   "execution_count": 5,
   "id": "9ae8cdd1",
   "metadata": {},
   "outputs": [
    {
     "name": "stdout",
     "output_type": "stream",
     "text": [
      "+---------+--------+------------------+-----------+--------------+----------+----------+-------------+------------------+---------------+\n",
      "|longitude|latitude|housing_median_age|total_rooms|total_bedrooms|population|households|median_income|median_house_value|ocean_proximity|\n",
      "+---------+--------+------------------+-----------+--------------+----------+----------+-------------+------------------+---------------+\n",
      "|  -122.23|   37.88|              41.0|      880.0|         129.0|     322.0|     126.0|       8.3252|          452600.0|       NEAR BAY|\n",
      "|  -122.22|   37.86|              21.0|     7099.0|        1106.0|    2401.0|    1138.0|       8.3014|          358500.0|       NEAR BAY|\n",
      "|  -122.24|   37.85|              52.0|     1467.0|         190.0|     496.0|     177.0|       7.2574|          352100.0|       NEAR BAY|\n",
      "|  -122.25|   37.85|              52.0|     1274.0|         235.0|     558.0|     219.0|       5.6431|          341300.0|       NEAR BAY|\n",
      "|  -122.25|   37.85|              52.0|     1627.0|         280.0|     565.0|     259.0|       3.8462|          342200.0|       NEAR BAY|\n",
      "+---------+--------+------------------+-----------+--------------+----------+----------+-------------+------------------+---------------+\n",
      "only showing top 5 rows\n",
      "\n"
     ]
    }
   ],
   "source": [
    "df.show(5)"
   ]
  },
  {
   "cell_type": "code",
   "execution_count": 6,
   "id": "340056bb",
   "metadata": {},
   "outputs": [
    {
     "name": "stdout",
     "output_type": "stream",
     "text": [
      "root\n",
      " |-- longitude: double (nullable = true)\n",
      " |-- latitude: double (nullable = true)\n",
      " |-- housing_median_age: double (nullable = true)\n",
      " |-- total_rooms: double (nullable = true)\n",
      " |-- total_bedrooms: double (nullable = true)\n",
      " |-- population: double (nullable = true)\n",
      " |-- households: double (nullable = true)\n",
      " |-- median_income: double (nullable = true)\n",
      " |-- median_house_value: double (nullable = true)\n",
      " |-- ocean_proximity: string (nullable = true)\n",
      "\n"
     ]
    }
   ],
   "source": [
    "# код ревьюера для проверки\n",
    "df.printSchema()"
   ]
  },
  {
   "cell_type": "markdown",
   "id": "601247d8",
   "metadata": {},
   "source": [
    "# Подготовка данных\n",
    "\n",
    "Посмотрим типы колонок датафрейма"
   ]
  },
  {
   "cell_type": "code",
   "execution_count": 7,
   "id": "6b92e541",
   "metadata": {},
   "outputs": [
    {
     "data": {
      "text/plain": [
       "[('longitude', 'double'),\n",
       " ('latitude', 'double'),\n",
       " ('housing_median_age', 'double'),\n",
       " ('total_rooms', 'double'),\n",
       " ('total_bedrooms', 'double'),\n",
       " ('population', 'double'),\n",
       " ('households', 'double'),\n",
       " ('median_income', 'double'),\n",
       " ('median_house_value', 'double'),\n",
       " ('ocean_proximity', 'string')]"
      ]
     },
     "execution_count": 7,
     "metadata": {},
     "output_type": "execute_result"
    }
   ],
   "source": [
    "df.dtypes"
   ]
  },
  {
   "cell_type": "markdown",
   "id": "303015eb",
   "metadata": {},
   "source": [
    "Все колонки кроме первой (целочисленный индекс) и последней (строковый категориальный признак) имеют тип `double`. В принципе, для количества комнат (`total_rooms`, `total_bedrooms`) и количества людей (`population`, `households`) следовало использовать целый тип, но это не критично."
   ]
  },
  {
   "cell_type": "markdown",
   "id": "ad87d93d",
   "metadata": {},
   "source": [
    "Первым делом разобъём датасет на обучающую и тестовую части. Для этого используем функцию Spark randomSplit"
   ]
  },
  {
   "cell_type": "code",
   "execution_count": 8,
   "id": "1f1eb9c4",
   "metadata": {},
   "outputs": [],
   "source": [
    "df_train, df_test = df.randomSplit(weights = [0.80, 0.20], seed = 42)"
   ]
  },
  {
   "cell_type": "markdown",
   "id": "989edde2",
   "metadata": {},
   "source": [
    "Проверим датафреймы на пропуски:"
   ]
  },
  {
   "cell_type": "code",
   "execution_count": 9,
   "id": "6b13f297",
   "metadata": {},
   "outputs": [
    {
     "name": "stdout",
     "output_type": "stream",
     "text": [
      "+---------+--------+------------------+-----------+--------------+----------+----------+-------------+------------------+---------------+\n",
      "|longitude|latitude|housing_median_age|total_rooms|total_bedrooms|population|households|median_income|median_house_value|ocean_proximity|\n",
      "+---------+--------+------------------+-----------+--------------+----------+----------+-------------+------------------+---------------+\n",
      "|        0|       0|                 0|          0|           163|         0|         0|            0|                 0|              0|\n",
      "+---------+--------+------------------+-----------+--------------+----------+----------+-------------+------------------+---------------+\n",
      "\n"
     ]
    }
   ],
   "source": [
    "df_train.select([F.count(F.when(F.col(c).isNull(), c)).alias(c) for c in df_train.columns]).show()"
   ]
  },
  {
   "cell_type": "code",
   "execution_count": 10,
   "id": "8793cd95",
   "metadata": {},
   "outputs": [
    {
     "name": "stdout",
     "output_type": "stream",
     "text": [
      "+---------+--------+------------------+-----------+--------------+----------+----------+-------------+------------------+---------------+\n",
      "|longitude|latitude|housing_median_age|total_rooms|total_bedrooms|population|households|median_income|median_house_value|ocean_proximity|\n",
      "+---------+--------+------------------+-----------+--------------+----------+----------+-------------+------------------+---------------+\n",
      "|        0|       0|                 0|          0|            44|         0|         0|            0|                 0|              0|\n",
      "+---------+--------+------------------+-----------+--------------+----------+----------+-------------+------------------+---------------+\n",
      "\n"
     ]
    }
   ],
   "source": [
    "df_test.select([F.count(F.when(F.col(c).isNull(), c)).alias(c) for c in df_test.columns]).show()"
   ]
  },
  {
   "cell_type": "markdown",
   "id": "980003d7",
   "metadata": {},
   "source": [
    "Пропуски обнаружились в колонке \"Количество спален\". Разумно заменить пропуски медианным значением"
   ]
  },
  {
   "cell_type": "code",
   "execution_count": 11,
   "id": "7ed085b2",
   "metadata": {},
   "outputs": [],
   "source": [
    "imputer=Imputer(strategy=\"median\", inputCols=[\"total_bedrooms\"], outputCols=[\"total_bedrooms_filled\"])"
   ]
  },
  {
   "cell_type": "markdown",
   "id": "6713d3a1",
   "metadata": {},
   "source": [
    "Преобразуем строковый категориальный признак \"рассояние до океана\" в числовой техникой One hot encoding:"
   ]
  },
  {
   "cell_type": "code",
   "execution_count": 12,
   "id": "7caf76bc",
   "metadata": {},
   "outputs": [],
   "source": [
    "indexer = StringIndexer(\n",
    "    inputCol=\"ocean_proximity\", outputCol=\"ocean_proximity_idx\"\n",
    ").fit(df_train)\n",
    "ohe = OneHotEncoder(inputCol=\"ocean_proximity_idx\", outputCol=\"ocean_proximity_vec\")"
   ]
  },
  {
   "cell_type": "markdown",
   "id": "1dd1eccc",
   "metadata": {},
   "source": [
    "Осталось подготовить вектора данных для моделей. Поскольку мы планируем обучать две модели и векторов нужно построить два."
   ]
  },
  {
   "cell_type": "code",
   "execution_count": 13,
   "id": "7b5350c9",
   "metadata": {},
   "outputs": [],
   "source": [
    "vectorAssembler_num = VectorAssembler(\n",
    "    inputCols=[\n",
    "        \"longitude\",\n",
    "        \"latitude\",\n",
    "        \"housing_median_age\",\n",
    "        \"total_rooms\",\n",
    "        \"total_bedrooms_filled\",\n",
    "        \"population\",\n",
    "        \"households\",\n",
    "        \"median_income\",\n",
    "    ],\n",
    "    outputCol=\"features\",\n",
    ")"
   ]
  },
  {
   "cell_type": "code",
   "execution_count": 14,
   "id": "afd23192",
   "metadata": {},
   "outputs": [],
   "source": [
    "vectorAssembler_all = VectorAssembler(\n",
    "    inputCols=[\n",
    "        \"longitude\",\n",
    "        \"latitude\",\n",
    "        \"housing_median_age\",\n",
    "        \"total_rooms\",\n",
    "        \"total_bedrooms_filled\",\n",
    "        \"population\",\n",
    "        \"households\",\n",
    "        \"median_income\",\n",
    "        \"ocean_proximity_vec\",\n",
    "    ],\n",
    "    outputCol=\"features\",\n",
    ")"
   ]
  },
  {
   "cell_type": "markdown",
   "id": "f259b40c",
   "metadata": {},
   "source": [
    "Последнее, что стоит сделать с данными перед обучением модели - номализовать их. Воспользуемся для этого функцией `StandardScaler`"
   ]
  },
  {
   "cell_type": "code",
   "execution_count": 15,
   "id": "d7cb8545",
   "metadata": {},
   "outputs": [],
   "source": [
    "scaler = StandardScaler(inputCol=\"features\", outputCol=\"features_scaled\", withStd=True, withMean=True)"
   ]
  },
  {
   "cell_type": "markdown",
   "id": "e51d774e",
   "metadata": {},
   "source": [
    "# Обучение моделей\n",
    "\n",
    "Обучим две мадели линейной регрессии: одну только на числовых данных, а вторую на числовых и категориальных. В качестве метрик в обоих случаях используем `RMSE`, `MAE` и `R2`.\n",
    "\n",
    "Начнём с модели, которую обучим только на числовых данных. Создадим модель и подберём её гиперпараметры на кросс-валидации. Для этого создадим evaluator, estimator (наша модель) и карту параметров, на которой будет работать алгоритм:  "
   ]
  },
  {
   "cell_type": "code",
   "execution_count": 16,
   "id": "cadde950",
   "metadata": {},
   "outputs": [],
   "source": [
    "lr = LinearRegression(\n",
    "    featuresCol=\"features_scaled\", labelCol=\"median_house_value\", solver=\"l-bfgs\", maxIter=30\n",
    ")\n",
    "evaluator = RegressionEvaluator(\n",
    "    predictionCol=\"prediction\", labelCol=\"median_house_value\"\n",
    ")\n",
    "gs = (\n",
    "    ParamGridBuilder()\n",
    "    .addGrid(lr.regParam, [0.01, 0.05, 0.1])\n",
    "    .addGrid(lr.elasticNetParam, [0.5, 0.75, 1.0])\n",
    "    .build()\n",
    ")\n",
    "\n",
    "cv = CrossValidator(estimator=lr, estimatorParamMaps=gs, evaluator=evaluator)"
   ]
  },
  {
   "cell_type": "markdown",
   "id": "fd1967dc",
   "metadata": {},
   "source": [
    "Соберём pipline для построения моделей:"
   ]
  },
  {
   "cell_type": "code",
   "execution_count": 17,
   "id": "39d60423",
   "metadata": {},
   "outputs": [
    {
     "name": "stdout",
     "output_type": "stream",
     "text": [
      "CPU times: user 2.05 s, sys: 663 ms, total: 2.71 s\n",
      "Wall time: 2min 52s\n"
     ]
    }
   ],
   "source": [
    "%%time\n",
    "model_num = Pipeline(stages=[imputer, indexer, ohe, vectorAssembler_num, scaler, cv]).fit(df_train)\n",
    "model_all = Pipeline(stages=[imputer, indexer, ohe, vectorAssembler_all, scaler, cv]).fit(df_train)"
   ]
  },
  {
   "cell_type": "code",
   "execution_count": 18,
   "id": "0b9616b3",
   "metadata": {},
   "outputs": [],
   "source": [
    "predict_num = model_num.transform(df_test)\n",
    "predict_all = model_all.transform(df_test)"
   ]
  },
  {
   "cell_type": "markdown",
   "id": "9402b288",
   "metadata": {},
   "source": [
    "Посмотрим метрики полученных моделей:"
   ]
  },
  {
   "cell_type": "code",
   "execution_count": 19,
   "id": "806ab0ed",
   "metadata": {},
   "outputs": [],
   "source": [
    "eval = RegressionEvaluator(labelCol=\"median_house_value\", predictionCol=\"prediction\", metricName=\"rmse\")"
   ]
  },
  {
   "cell_type": "code",
   "execution_count": 20,
   "id": "4b29e6d5",
   "metadata": {},
   "outputs": [
    {
     "name": "stdout",
     "output_type": "stream",
     "text": [
      "Numeric features model RMSE on test: 70410.94\n",
      "Numeric features model MAE  on test: 50951.74\n",
      "Numeric features model R2   on test: 0.6306\n"
     ]
    }
   ],
   "source": [
    "rmse_num = eval.evaluate(predict_num)\n",
    "mae_num = eval.evaluate(predict_num, {eval.metricName: \"mae\"})\n",
    "r2_num = eval.evaluate(predict_num, {eval.metricName: \"r2\"})\n",
    "\n",
    "print(f\"Numeric features model RMSE on test: {rmse_num:.2f}\")\n",
    "print(f\"Numeric features model MAE  on test: {mae_num:.2f}\")\n",
    "print(f\"Numeric features model R2   on test: {r2_num:.4f}\")"
   ]
  },
  {
   "cell_type": "code",
   "execution_count": 21,
   "id": "9941844d",
   "metadata": {},
   "outputs": [
    {
     "name": "stdout",
     "output_type": "stream",
     "text": [
      "Numeric features model RMSE on test: 69572.90\n",
      "Numeric features model MAE  on test: 49872.67\n",
      "Numeric features model R2   on test: 0.6394\n"
     ]
    }
   ],
   "source": [
    "rmse_all = eval.evaluate(predict_all)\n",
    "mae_all = eval.evaluate(predict_all, {eval.metricName: \"mae\"})\n",
    "r2_all = eval.evaluate(predict_all, {eval.metricName: \"r2\"})\n",
    "\n",
    "print(f\"Numeric features model RMSE on test: {rmse_all:.2f}\")\n",
    "print(f\"Numeric features model MAE  on test: {mae_all:.2f}\")\n",
    "print(f\"Numeric features model R2   on test: {r2_all:.4f}\")"
   ]
  },
  {
   "cell_type": "markdown",
   "id": "894463fc",
   "metadata": {},
   "source": [
    "# Анализ результатов\n",
    "\n",
    "Видно, что метрики обеих моделий весьма близки. При этом по среднеквадратичной ошибке и по средней абсолютной ошибке чуть лучше была первая модель, тогда как по метрике R2 - вторая. Прирост метрик второй модели над первой оказался следующим:"
   ]
  },
  {
   "cell_type": "code",
   "execution_count": 22,
   "id": "f80f2709",
   "metadata": {},
   "outputs": [
    {
     "name": "stdout",
     "output_type": "stream",
     "text": [
      "Прирост RMSE: -1.19%\n",
      "Прирост MAE: -2.12%\n",
      "Прирост R2: 1.39%\n"
     ]
    }
   ],
   "source": [
    "print(f'Прирост RMSE: {(rmse_all-rmse_num)/rmse_num:.02%}')\n",
    "print(f'Прирост MAE: {(mae_all-mae_num)/mae_num:.02%}')\n",
    "print(f'Прирост R2: {(r2_all-r2_num)/r2_num:.02%}')"
   ]
  },
  {
   "cell_type": "markdown",
   "id": "e2d86139",
   "metadata": {},
   "source": [
    "Из полученных результатов можно сделать вывод, что модель линейной регрессии на всех признаках показала себя лучше константной модели, в сравнении с линейной регрессией только на числовых признаках. Но это улучшение сопровождалось бОльшим разбросом значений, что вызвало прирост среднеквадратичной и средней абсолютной ошибок. Очевидно, виной всему - зашумлённые входные данные."
   ]
  },
  {
   "cell_type": "code",
   "execution_count": 23,
   "id": "8530fb7d",
   "metadata": {},
   "outputs": [],
   "source": [
    "from tqdm import tqdm"
   ]
  },
  {
   "cell_type": "code",
   "execution_count": 24,
   "id": "f5499297",
   "metadata": {},
   "outputs": [
    {
     "name": "stderr",
     "output_type": "stream",
     "text": [
      "100%|██████████| 100/100 [01:08<00:00,  1.47it/s]\n"
     ]
    }
   ],
   "source": [
    "# код ревьюера для объяснения\n",
    "for _ in tqdm(range(100)):\n",
    "    df_train_new, df_test_new = df.randomSplit(weights = [0.80, 0.20], seed = 42)\n",
    "    assert df_train.count() == df_train_new.count(), f'Train size: {df_train.count()} != {df_train_new.count()}'\n",
    "    assert df_test.count() == df_test_new.count(), f'Test size: {df_test.count()} != {df_test_new.count()}'"
   ]
  },
  {
   "cell_type": "code",
   "execution_count": 25,
   "id": "61a3a716",
   "metadata": {},
   "outputs": [
    {
     "name": "stdout",
     "output_type": "stream",
     "text": [
      "Train size: 16549 = 16549\n",
      "Test size:  4091 = 4091\n"
     ]
    }
   ],
   "source": [
    "print(f'Train size: {df_train.count()} = {df_train_new.count()}')\n",
    "print(f'Test size:  {df_test.count()} = {df_test_new.count()}')"
   ]
  },
  {
   "cell_type": "code",
   "execution_count": 26,
   "id": "ecbe2434",
   "metadata": {},
   "outputs": [],
   "source": [
    "# код ревьюера\n",
    "spark.stop()"
   ]
  }
 ],
 "metadata": {
  "ExecuteTimeLog": [
   {
    "duration": 1078,
    "start_time": "2022-02-21T07:34:59.995Z"
   },
   {
    "duration": 3,
    "start_time": "2022-02-21T07:35:01.075Z"
   },
   {
    "duration": 837,
    "start_time": "2022-02-21T07:45:06.105Z"
   },
   {
    "duration": 2,
    "start_time": "2022-02-21T07:45:06.944Z"
   },
   {
    "duration": 774,
    "start_time": "2022-02-21T07:56:57.269Z"
   },
   {
    "duration": 3,
    "start_time": "2022-02-21T07:57:00.103Z"
   },
   {
    "duration": 3,
    "start_time": "2022-02-21T08:00:09.079Z"
   },
   {
    "duration": 3,
    "start_time": "2022-02-21T08:00:11.937Z"
   },
   {
    "duration": 13745,
    "start_time": "2022-02-21T08:00:14.014Z"
   },
   {
    "duration": 79,
    "start_time": "2022-02-21T08:00:42.354Z"
   },
   {
    "duration": 3,
    "start_time": "2022-02-21T08:00:54.446Z"
   },
   {
    "duration": 6711,
    "start_time": "2022-02-21T08:01:01.030Z"
   },
   {
    "duration": 670,
    "start_time": "2022-02-21T08:01:11.065Z"
   },
   {
    "duration": 864,
    "start_time": "2022-02-21T08:01:19.228Z"
   },
   {
    "duration": 3,
    "start_time": "2022-02-21T08:01:20.095Z"
   },
   {
    "duration": 865,
    "start_time": "2022-02-21T08:02:59.758Z"
   },
   {
    "duration": 5,
    "start_time": "2022-02-21T08:03:00.625Z"
   },
   {
    "duration": 946,
    "start_time": "2022-02-21T08:38:20.625Z"
   },
   {
    "duration": 3,
    "start_time": "2022-02-21T08:38:21.573Z"
   },
   {
    "duration": 737,
    "start_time": "2022-02-21T08:42:31.981Z"
   },
   {
    "duration": 2,
    "start_time": "2022-02-21T08:42:33.971Z"
   },
   {
    "duration": 874,
    "start_time": "2022-02-21T08:43:25.521Z"
   },
   {
    "duration": 13600,
    "start_time": "2022-02-21T08:43:28.733Z"
   },
   {
    "duration": 3,
    "start_time": "2022-02-21T08:43:48.799Z"
   },
   {
    "duration": 6445,
    "start_time": "2022-02-21T08:43:49.623Z"
   },
   {
    "duration": 604,
    "start_time": "2022-02-21T08:43:58.634Z"
   },
   {
    "duration": 33,
    "start_time": "2022-02-21T08:44:00.759Z"
   },
   {
    "duration": 1935,
    "start_time": "2022-02-21T08:44:01.807Z"
   },
   {
    "duration": 1000,
    "start_time": "2022-02-21T08:44:04.543Z"
   },
   {
    "duration": 777,
    "start_time": "2022-02-21T08:44:06.087Z"
   },
   {
    "duration": 113,
    "start_time": "2022-02-21T08:44:06.929Z"
   },
   {
    "duration": 812,
    "start_time": "2022-02-21T08:44:07.440Z"
   },
   {
    "duration": 1742,
    "start_time": "2022-02-21T08:44:08.819Z"
   },
   {
    "duration": 598,
    "start_time": "2022-02-21T08:44:10.563Z"
   },
   {
    "duration": 472,
    "start_time": "2022-02-21T08:44:11.897Z"
   },
   {
    "duration": 42,
    "start_time": "2022-02-21T08:44:14.331Z"
   },
   {
    "duration": 73107,
    "start_time": "2022-02-21T08:44:15.151Z"
   },
   {
    "duration": 2,
    "start_time": "2022-02-21T08:45:28.260Z"
   },
   {
    "duration": 13,
    "start_time": "2022-02-21T08:45:28.264Z"
   },
   {
    "duration": 54355,
    "start_time": "2022-02-21T08:45:28.279Z"
   },
   {
    "duration": 2,
    "start_time": "2022-02-21T08:46:22.637Z"
   },
   {
    "duration": 6,
    "start_time": "2022-02-21T08:46:22.641Z"
   },
   {
    "duration": 6,
    "start_time": "2022-02-21T08:46:22.648Z"
   },
   {
    "duration": 506,
    "start_time": "2022-02-21T08:46:22.657Z"
   },
   {
    "duration": 1704,
    "start_time": "2022-02-21T08:49:15.112Z"
   },
   {
    "duration": 14227,
    "start_time": "2022-02-21T08:49:16.818Z"
   },
   {
    "duration": 3,
    "start_time": "2022-02-21T08:49:31.048Z"
   },
   {
    "duration": 6679,
    "start_time": "2022-02-21T08:49:31.053Z"
   },
   {
    "duration": 622,
    "start_time": "2022-02-21T08:49:37.734Z"
   },
   {
    "duration": 108,
    "start_time": "2022-02-21T08:49:38.358Z"
   },
   {
    "duration": 1883,
    "start_time": "2022-02-21T08:49:38.468Z"
   },
   {
    "duration": 1189,
    "start_time": "2022-02-21T08:49:40.354Z"
   },
   {
    "duration": 894,
    "start_time": "2022-02-21T08:49:41.545Z"
   },
   {
    "duration": 120,
    "start_time": "2022-02-21T08:49:42.442Z"
   },
   {
    "duration": 1204,
    "start_time": "2022-02-21T08:49:42.564Z"
   },
   {
    "duration": 1841,
    "start_time": "2022-02-21T08:49:43.830Z"
   },
   {
    "duration": 632,
    "start_time": "2022-02-21T08:49:45.731Z"
   },
   {
    "duration": 507,
    "start_time": "2022-02-21T08:49:46.364Z"
   },
   {
    "duration": 38,
    "start_time": "2022-02-21T08:49:46.930Z"
   },
   {
    "duration": 71698,
    "start_time": "2022-02-21T08:49:46.970Z"
   },
   {
    "duration": 3,
    "start_time": "2022-02-21T08:50:58.670Z"
   },
   {
    "duration": 10,
    "start_time": "2022-02-21T08:50:58.731Z"
   },
   {
    "duration": 53622,
    "start_time": "2022-02-21T08:50:58.743Z"
   },
   {
    "duration": 2,
    "start_time": "2022-02-21T08:51:52.367Z"
   },
   {
    "duration": 7,
    "start_time": "2022-02-21T08:51:52.371Z"
   },
   {
    "duration": 6,
    "start_time": "2022-02-21T08:51:52.380Z"
   },
   {
    "duration": 246,
    "start_time": "2022-02-21T08:51:52.389Z"
   },
   {
    "duration": 4,
    "start_time": "2022-02-21T09:12:30.707Z"
   },
   {
    "duration": 535,
    "start_time": "2022-02-21T09:14:27.196Z"
   },
   {
    "duration": 878,
    "start_time": "2022-02-21T09:15:02.163Z"
   },
   {
    "duration": 439,
    "start_time": "2022-02-21T09:15:06.731Z"
   },
   {
    "duration": 4,
    "start_time": "2022-02-21T09:38:49.145Z"
   },
   {
    "duration": 386,
    "start_time": "2022-02-21T09:39:05.479Z"
   },
   {
    "duration": 351,
    "start_time": "2022-02-21T09:42:54.788Z"
   },
   {
    "duration": 658,
    "start_time": "2022-02-21T09:45:21.736Z"
   },
   {
    "duration": 5,
    "start_time": "2022-02-21T09:45:28.634Z"
   },
   {
    "duration": 297,
    "start_time": "2022-02-21T09:47:14.237Z"
   },
   {
    "duration": 332,
    "start_time": "2022-02-23T05:00:50.522Z"
   },
   {
    "duration": 816,
    "start_time": "2022-02-23T05:01:56.873Z"
   },
   {
    "duration": 17929,
    "start_time": "2022-02-23T05:01:57.691Z"
   },
   {
    "duration": 3,
    "start_time": "2022-02-23T05:02:15.622Z"
   },
   {
    "duration": 6633,
    "start_time": "2022-02-23T05:02:15.626Z"
   },
   {
    "duration": 607,
    "start_time": "2022-02-23T05:02:22.261Z"
   },
   {
    "duration": 9,
    "start_time": "2022-02-23T05:02:22.870Z"
   },
   {
    "duration": 88,
    "start_time": "2022-02-23T05:02:22.880Z"
   },
   {
    "duration": 24,
    "start_time": "2022-02-23T05:03:05.843Z"
   },
   {
    "duration": 3385,
    "start_time": "2022-02-23T05:04:10.669Z"
   },
   {
    "duration": 2019,
    "start_time": "2022-02-23T05:05:04.430Z"
   },
   {
    "duration": 1232,
    "start_time": "2022-02-23T05:05:50.573Z"
   },
   {
    "duration": 1329,
    "start_time": "2022-02-23T05:06:17.227Z"
   },
   {
    "duration": 547,
    "start_time": "2022-02-23T05:06:39.221Z"
   },
   {
    "duration": 84,
    "start_time": "2022-02-23T05:07:16.768Z"
   },
   {
    "duration": 1156,
    "start_time": "2022-02-23T05:08:05.008Z"
   },
   {
    "duration": 120,
    "start_time": "2022-02-23T05:08:52.392Z"
   },
   {
    "duration": 2287,
    "start_time": "2022-02-23T05:10:40.660Z"
   },
   {
    "duration": 446,
    "start_time": "2022-02-23T05:11:42.433Z"
   },
   {
    "duration": 392,
    "start_time": "2022-02-23T05:11:45.121Z"
   },
   {
    "duration": 327,
    "start_time": "2022-02-23T05:11:57.230Z"
   },
   {
    "duration": 358,
    "start_time": "2022-02-23T05:12:24.568Z"
   },
   {
    "duration": 42,
    "start_time": "2022-02-23T05:13:17.750Z"
   },
   {
    "duration": 614,
    "start_time": "2022-02-23T05:13:48.369Z"
   },
   {
    "duration": 534,
    "start_time": "2022-02-23T05:13:50.062Z"
   },
   {
    "duration": 351,
    "start_time": "2022-02-23T05:13:59.637Z"
   },
   {
    "duration": 381,
    "start_time": "2022-02-23T05:14:02.782Z"
   },
   {
    "duration": 819,
    "start_time": "2022-02-23T05:14:05.690Z"
   },
   {
    "duration": 772,
    "start_time": "2022-02-23T05:14:54.131Z"
   },
   {
    "duration": 12768,
    "start_time": "2022-02-23T05:14:54.905Z"
   },
   {
    "duration": 3,
    "start_time": "2022-02-23T05:15:07.675Z"
   },
   {
    "duration": 6678,
    "start_time": "2022-02-23T05:15:07.680Z"
   },
   {
    "duration": 534,
    "start_time": "2022-02-23T05:15:14.360Z"
   },
   {
    "duration": 10,
    "start_time": "2022-02-23T05:15:14.895Z"
   },
   {
    "duration": 63,
    "start_time": "2022-02-23T05:15:14.906Z"
   },
   {
    "duration": 26,
    "start_time": "2022-02-23T05:15:14.971Z"
   },
   {
    "duration": 3780,
    "start_time": "2022-02-23T05:15:14.999Z"
   },
   {
    "duration": 1882,
    "start_time": "2022-02-23T05:15:18.781Z"
   },
   {
    "duration": 785,
    "start_time": "2022-02-23T05:15:20.664Z"
   },
   {
    "duration": 111,
    "start_time": "2022-02-23T05:15:21.451Z"
   },
   {
    "duration": 899,
    "start_time": "2022-02-23T05:15:21.564Z"
   },
   {
    "duration": 812,
    "start_time": "2022-02-23T05:15:22.465Z"
   },
   {
    "duration": 1184,
    "start_time": "2022-02-23T05:15:23.279Z"
   },
   {
    "duration": 788,
    "start_time": "2022-02-23T05:15:24.465Z"
   },
   {
    "duration": 633,
    "start_time": "2022-02-23T05:15:36.649Z"
   },
   {
    "duration": 14,
    "start_time": "2022-02-23T05:17:16.825Z"
   },
   {
    "duration": 594,
    "start_time": "2022-02-23T05:17:17.856Z"
   },
   {
    "duration": 441,
    "start_time": "2022-02-23T05:17:19.234Z"
   },
   {
    "duration": 8,
    "start_time": "2022-02-23T05:18:25.253Z"
   },
   {
    "duration": 482,
    "start_time": "2022-02-23T05:18:51.485Z"
   },
   {
    "duration": 486,
    "start_time": "2022-02-23T05:19:19.772Z"
   },
   {
    "duration": 752,
    "start_time": "2022-02-23T05:59:13.133Z"
   },
   {
    "duration": 624,
    "start_time": "2022-02-23T05:59:15.950Z"
   },
   {
    "duration": 3,
    "start_time": "2022-02-23T06:01:34.231Z"
   },
   {
    "duration": 4,
    "start_time": "2022-02-23T06:36:14.830Z"
   },
   {
    "duration": 1347,
    "start_time": "2022-02-23T06:40:30.152Z"
   },
   {
    "duration": 14173,
    "start_time": "2022-02-23T06:40:31.501Z"
   },
   {
    "duration": 2,
    "start_time": "2022-02-23T06:40:45.677Z"
   },
   {
    "duration": 6495,
    "start_time": "2022-02-23T06:40:45.681Z"
   },
   {
    "duration": 580,
    "start_time": "2022-02-23T06:40:52.178Z"
   },
   {
    "duration": 8,
    "start_time": "2022-02-23T06:40:52.760Z"
   },
   {
    "duration": 29,
    "start_time": "2022-02-23T06:40:52.770Z"
   },
   {
    "duration": 65,
    "start_time": "2022-02-23T06:40:52.801Z"
   },
   {
    "duration": 2189,
    "start_time": "2022-02-23T06:40:52.869Z"
   },
   {
    "duration": 1302,
    "start_time": "2022-02-23T06:40:55.060Z"
   },
   {
    "duration": 402,
    "start_time": "2022-02-23T06:40:56.363Z"
   },
   {
    "duration": -62,
    "start_time": "2022-02-23T06:40:56.833Z"
   },
   {
    "duration": -70,
    "start_time": "2022-02-23T06:40:56.842Z"
   },
   {
    "duration": -79,
    "start_time": "2022-02-23T06:40:56.852Z"
   },
   {
    "duration": -81,
    "start_time": "2022-02-23T06:40:56.855Z"
   },
   {
    "duration": -86,
    "start_time": "2022-02-23T06:40:56.861Z"
   },
   {
    "duration": -93,
    "start_time": "2022-02-23T06:40:56.869Z"
   },
   {
    "duration": -94,
    "start_time": "2022-02-23T06:40:56.871Z"
   },
   {
    "duration": -99,
    "start_time": "2022-02-23T06:40:56.877Z"
   },
   {
    "duration": -106,
    "start_time": "2022-02-23T06:40:56.885Z"
   },
   {
    "duration": -108,
    "start_time": "2022-02-23T06:40:56.888Z"
   },
   {
    "duration": -112,
    "start_time": "2022-02-23T06:40:56.894Z"
   },
   {
    "duration": -119,
    "start_time": "2022-02-23T06:40:56.902Z"
   },
   {
    "duration": -122,
    "start_time": "2022-02-23T06:40:56.905Z"
   },
   {
    "duration": 31,
    "start_time": "2022-02-23T06:42:03.517Z"
   },
   {
    "duration": 1158,
    "start_time": "2022-02-23T06:42:10.706Z"
   },
   {
    "duration": 10,
    "start_time": "2022-02-23T06:42:18.415Z"
   },
   {
    "duration": 7,
    "start_time": "2022-02-23T06:42:21.326Z"
   },
   {
    "duration": 12,
    "start_time": "2022-02-23T06:42:25.437Z"
   },
   {
    "duration": 42,
    "start_time": "2022-02-23T06:42:28.175Z"
   },
   {
    "duration": 127530,
    "start_time": "2022-02-23T06:42:32.718Z"
   },
   {
    "duration": 381,
    "start_time": "2022-02-23T06:53:36.870Z"
   },
   {
    "duration": 131,
    "start_time": "2022-02-23T06:54:21.543Z"
   },
   {
    "duration": 3,
    "start_time": "2022-02-23T06:54:52.239Z"
   },
   {
    "duration": 296,
    "start_time": "2022-02-23T06:55:37.980Z"
   },
   {
    "duration": 256,
    "start_time": "2022-02-23T07:05:28.428Z"
   },
   {
    "duration": 7,
    "start_time": "2022-02-23T07:05:31.193Z"
   },
   {
    "duration": 1101,
    "start_time": "2022-02-23T07:05:33.148Z"
   },
   {
    "duration": 6,
    "start_time": "2022-02-23T07:06:10.870Z"
   },
   {
    "duration": 654,
    "start_time": "2022-02-23T07:06:11.957Z"
   },
   {
    "duration": 682,
    "start_time": "2022-02-23T07:06:18.318Z"
   },
   {
    "duration": 560,
    "start_time": "2022-02-23T07:06:50.333Z"
   },
   {
    "duration": 684,
    "start_time": "2022-02-23T07:06:51.011Z"
   },
   {
    "duration": 4,
    "start_time": "2022-02-23T07:08:37.662Z"
   },
   {
    "duration": 768,
    "start_time": "2022-02-23T07:10:57.249Z"
   },
   {
    "duration": 13460,
    "start_time": "2022-02-23T07:10:58.018Z"
   },
   {
    "duration": 3,
    "start_time": "2022-02-23T07:11:11.481Z"
   },
   {
    "duration": 6398,
    "start_time": "2022-02-23T07:11:11.486Z"
   },
   {
    "duration": 585,
    "start_time": "2022-02-23T07:11:17.886Z"
   },
   {
    "duration": 10,
    "start_time": "2022-02-23T07:11:18.473Z"
   },
   {
    "duration": 90,
    "start_time": "2022-02-23T07:11:18.484Z"
   },
   {
    "duration": 21,
    "start_time": "2022-02-23T07:11:18.576Z"
   },
   {
    "duration": 2248,
    "start_time": "2022-02-23T07:11:18.599Z"
   },
   {
    "duration": 1313,
    "start_time": "2022-02-23T07:11:20.849Z"
   },
   {
    "duration": 82,
    "start_time": "2022-02-23T07:11:22.164Z"
   },
   {
    "duration": 1107,
    "start_time": "2022-02-23T07:11:22.248Z"
   },
   {
    "duration": 10,
    "start_time": "2022-02-23T07:11:23.357Z"
   },
   {
    "duration": 6,
    "start_time": "2022-02-23T07:11:23.368Z"
   },
   {
    "duration": 9,
    "start_time": "2022-02-23T07:11:23.376Z"
   },
   {
    "duration": 86,
    "start_time": "2022-02-23T07:11:23.387Z"
   },
   {
    "duration": 130139,
    "start_time": "2022-02-23T07:11:23.474Z"
   },
   {
    "duration": 261,
    "start_time": "2022-02-23T07:13:33.615Z"
   },
   {
    "duration": 5,
    "start_time": "2022-02-23T07:13:33.878Z"
   },
   {
    "duration": 1286,
    "start_time": "2022-02-23T07:13:33.885Z"
   },
   {
    "duration": -499,
    "start_time": "2022-02-23T07:13:35.672Z"
   },
   {
    "duration": -511,
    "start_time": "2022-02-23T07:13:35.685Z"
   },
   {
    "duration": -515,
    "start_time": "2022-02-23T07:13:35.690Z"
   },
   {
    "duration": 514,
    "start_time": "2022-02-23T07:14:08.370Z"
   },
   {
    "duration": 681,
    "start_time": "2022-02-23T07:14:21.276Z"
   },
   {
    "duration": 4,
    "start_time": "2022-02-23T07:14:29.795Z"
   },
   {
    "duration": 182,
    "start_time": "2022-02-23T07:14:38.846Z"
   },
   {
    "duration": 1275,
    "start_time": "2022-02-23T09:34:11.207Z"
   },
   {
    "duration": 32509,
    "start_time": "2022-02-23T09:34:12.485Z"
   },
   {
    "duration": 3,
    "start_time": "2022-02-23T09:34:44.997Z"
   },
   {
    "duration": 11117,
    "start_time": "2022-02-23T09:34:45.002Z"
   },
   {
    "duration": 726,
    "start_time": "2022-02-23T09:34:56.122Z"
   },
   {
    "duration": 57,
    "start_time": "2022-02-23T09:34:56.850Z"
   },
   {
    "duration": 37,
    "start_time": "2022-02-23T09:34:56.909Z"
   },
   {
    "duration": 68,
    "start_time": "2022-02-23T09:34:56.948Z"
   },
   {
    "duration": 2996,
    "start_time": "2022-02-23T09:34:57.019Z"
   },
   {
    "duration": 1397,
    "start_time": "2022-02-23T09:35:00.018Z"
   },
   {
    "duration": 356,
    "start_time": "2022-02-23T09:35:01.417Z"
   },
   {
    "duration": 2540,
    "start_time": "2022-02-23T09:35:01.776Z"
   },
   {
    "duration": 31,
    "start_time": "2022-02-23T09:35:04.318Z"
   },
   {
    "duration": 8,
    "start_time": "2022-02-23T09:35:04.351Z"
   },
   {
    "duration": 26,
    "start_time": "2022-02-23T09:35:04.408Z"
   },
   {
    "duration": 138,
    "start_time": "2022-02-23T09:35:04.437Z"
   },
   {
    "duration": 168655,
    "start_time": "2022-02-23T09:35:04.578Z"
   },
   {
    "duration": 308,
    "start_time": "2022-02-23T09:37:53.236Z"
   },
   {
    "duration": 8,
    "start_time": "2022-02-23T09:37:53.546Z"
   },
   {
    "duration": 809,
    "start_time": "2022-02-23T09:37:53.557Z"
   },
   {
    "duration": 816,
    "start_time": "2022-02-23T09:37:54.368Z"
   },
   {
    "duration": 4,
    "start_time": "2022-02-23T09:37:55.186Z"
   },
   {
    "duration": 181,
    "start_time": "2022-02-23T09:37:55.193Z"
   },
   {
    "duration": 420,
    "start_time": "2022-02-23T09:40:33.521Z"
   },
   {
    "duration": 7,
    "start_time": "2022-02-23T09:40:57.569Z"
   },
   {
    "duration": 5,
    "start_time": "2022-02-23T09:41:04.728Z"
   },
   {
    "duration": 283,
    "start_time": "2022-02-23T09:41:07.921Z"
   },
   {
    "duration": 229,
    "start_time": "2022-02-23T09:41:17.999Z"
   },
   {
    "duration": 359,
    "start_time": "2022-02-23T09:41:19.919Z"
   },
   {
    "duration": 286,
    "start_time": "2022-02-23T09:41:32.405Z"
   },
   {
    "duration": 5,
    "start_time": "2022-02-23T09:43:02.232Z"
   },
   {
    "duration": 493,
    "start_time": "2022-02-23T09:43:06.378Z"
   },
   {
    "duration": 892,
    "start_time": "2022-02-23T09:44:41.029Z"
   },
   {
    "duration": 13801,
    "start_time": "2022-02-23T09:44:41.923Z"
   },
   {
    "duration": 3,
    "start_time": "2022-02-23T09:44:55.731Z"
   },
   {
    "duration": 7986,
    "start_time": "2022-02-23T09:44:55.737Z"
   },
   {
    "duration": 710,
    "start_time": "2022-02-23T09:45:03.725Z"
   },
   {
    "duration": 73,
    "start_time": "2022-02-23T09:45:04.438Z"
   },
   {
    "duration": 36,
    "start_time": "2022-02-23T09:45:04.517Z"
   },
   {
    "duration": 71,
    "start_time": "2022-02-23T09:45:04.556Z"
   },
   {
    "duration": 2983,
    "start_time": "2022-02-23T09:45:04.629Z"
   },
   {
    "duration": 1512,
    "start_time": "2022-02-23T09:45:07.614Z"
   },
   {
    "duration": 106,
    "start_time": "2022-02-23T09:45:09.129Z"
   },
   {
    "duration": 1586,
    "start_time": "2022-02-23T09:45:09.238Z"
   },
   {
    "duration": 14,
    "start_time": "2022-02-23T09:45:10.827Z"
   },
   {
    "duration": 13,
    "start_time": "2022-02-23T09:45:10.843Z"
   },
   {
    "duration": 56,
    "start_time": "2022-02-23T09:45:10.858Z"
   },
   {
    "duration": 53,
    "start_time": "2022-02-23T09:45:10.916Z"
   },
   {
    "duration": 170642,
    "start_time": "2022-02-23T09:45:10.972Z"
   },
   {
    "duration": 393,
    "start_time": "2022-02-23T09:48:01.617Z"
   },
   {
    "duration": 8,
    "start_time": "2022-02-23T09:48:02.012Z"
   },
   {
    "duration": 849,
    "start_time": "2022-02-23T09:48:02.022Z"
   },
   {
    "duration": 813,
    "start_time": "2022-02-23T09:48:02.873Z"
   },
   {
    "duration": 5,
    "start_time": "2022-02-23T09:48:03.689Z"
   },
   {
    "duration": 595828,
    "start_time": "2022-02-23T09:48:03.708Z"
   },
   {
    "duration": 1379,
    "start_time": "2022-02-23T09:57:58.160Z"
   },
   {
    "duration": 298,
    "start_time": "2022-02-23T09:58:03.860Z"
   },
   {
    "duration": 12,
    "start_time": "2022-02-23T09:58:34.183Z"
   },
   {
    "duration": 869,
    "start_time": "2022-02-23T09:59:31.444Z"
   },
   {
    "duration": 14511,
    "start_time": "2022-02-23T09:59:32.315Z"
   },
   {
    "duration": 4,
    "start_time": "2022-02-23T09:59:46.830Z"
   },
   {
    "duration": 8097,
    "start_time": "2022-02-23T09:59:46.836Z"
   },
   {
    "duration": 886,
    "start_time": "2022-02-23T09:59:54.936Z"
   },
   {
    "duration": 11,
    "start_time": "2022-02-23T09:59:55.824Z"
   },
   {
    "duration": 102,
    "start_time": "2022-02-23T09:59:55.838Z"
   },
   {
    "duration": 70,
    "start_time": "2022-02-23T09:59:55.943Z"
   },
   {
    "duration": 3116,
    "start_time": "2022-02-23T09:59:56.016Z"
   },
   {
    "duration": 1487,
    "start_time": "2022-02-23T09:59:59.134Z"
   },
   {
    "duration": 85,
    "start_time": "2022-02-23T10:00:00.623Z"
   },
   {
    "duration": 1537,
    "start_time": "2022-02-23T10:00:00.710Z"
   },
   {
    "duration": 14,
    "start_time": "2022-02-23T10:00:02.250Z"
   },
   {
    "duration": 41,
    "start_time": "2022-02-23T10:00:02.266Z"
   },
   {
    "duration": 21,
    "start_time": "2022-02-23T10:00:02.310Z"
   },
   {
    "duration": 81,
    "start_time": "2022-02-23T10:00:02.334Z"
   },
   {
    "duration": 176355,
    "start_time": "2022-02-23T10:00:02.417Z"
   },
   {
    "duration": 351,
    "start_time": "2022-02-23T10:02:58.774Z"
   },
   {
    "duration": 8,
    "start_time": "2022-02-23T10:02:59.127Z"
   },
   {
    "duration": 845,
    "start_time": "2022-02-23T10:02:59.137Z"
   },
   {
    "duration": 833,
    "start_time": "2022-02-23T10:02:59.984Z"
   },
   {
    "duration": 4,
    "start_time": "2022-02-23T10:03:00.819Z"
   },
   {
    "duration": 66,
    "start_time": "2022-02-23T10:03:00.826Z"
   },
   {
    "duration": 66848,
    "start_time": "2022-02-23T10:03:00.895Z"
   },
   {
    "duration": 605,
    "start_time": "2022-02-23T10:04:07.745Z"
   },
   {
    "duration": 394,
    "start_time": "2022-02-23T10:04:08.352Z"
   },
   {
    "duration": 907,
    "start_time": "2022-02-23T10:10:14.136Z"
   },
   {
    "duration": 15074,
    "start_time": "2022-02-23T10:10:15.047Z"
   },
   {
    "duration": 4,
    "start_time": "2022-02-23T10:10:30.125Z"
   },
   {
    "duration": 8013,
    "start_time": "2022-02-23T10:10:30.131Z"
   },
   {
    "duration": 765,
    "start_time": "2022-02-23T10:10:38.146Z"
   },
   {
    "duration": 12,
    "start_time": "2022-02-23T10:10:38.913Z"
   },
   {
    "duration": 81,
    "start_time": "2022-02-23T10:10:38.927Z"
   },
   {
    "duration": 26,
    "start_time": "2022-02-23T10:10:39.012Z"
   },
   {
    "duration": 2592,
    "start_time": "2022-02-23T10:10:39.041Z"
   },
   {
    "duration": 1682,
    "start_time": "2022-02-23T10:10:41.637Z"
   },
   {
    "duration": 91,
    "start_time": "2022-02-23T10:10:43.322Z"
   },
   {
    "duration": 1215,
    "start_time": "2022-02-23T10:10:43.415Z"
   },
   {
    "duration": 12,
    "start_time": "2022-02-23T10:10:44.632Z"
   },
   {
    "duration": 65,
    "start_time": "2022-02-23T10:10:44.646Z"
   },
   {
    "duration": 13,
    "start_time": "2022-02-23T10:10:44.714Z"
   },
   {
    "duration": 105,
    "start_time": "2022-02-23T10:10:44.729Z"
   },
   {
    "duration": 161977,
    "start_time": "2022-02-23T10:10:44.837Z"
   },
   {
    "duration": 236,
    "start_time": "2022-02-23T10:13:26.816Z"
   },
   {
    "duration": 7,
    "start_time": "2022-02-23T10:13:27.055Z"
   },
   {
    "duration": 726,
    "start_time": "2022-02-23T10:13:27.108Z"
   },
   {
    "duration": 804,
    "start_time": "2022-02-23T10:13:27.836Z"
   },
   {
    "duration": 4,
    "start_time": "2022-02-23T10:13:28.641Z"
   },
   {
    "duration": 19,
    "start_time": "2022-02-23T10:13:28.648Z"
   },
   {
    "duration": 67649,
    "start_time": "2022-02-23T10:13:28.669Z"
   },
   {
    "duration": 623,
    "start_time": "2022-02-23T10:14:36.320Z"
   },
   {
    "duration": 189,
    "start_time": "2022-02-23T10:14:36.945Z"
   },
   {
    "duration": 1191,
    "start_time": "2022-02-23T10:18:03.730Z"
   },
   {
    "duration": 14524,
    "start_time": "2022-02-23T10:18:04.924Z"
   },
   {
    "duration": 57,
    "start_time": "2022-02-23T10:18:19.451Z"
   },
   {
    "duration": 7720,
    "start_time": "2022-02-23T10:18:19.510Z"
   },
   {
    "duration": 716,
    "start_time": "2022-02-23T10:18:27.232Z"
   },
   {
    "duration": 64,
    "start_time": "2022-02-23T10:18:27.950Z"
   },
   {
    "duration": 93,
    "start_time": "2022-02-23T10:18:28.016Z"
   },
   {
    "duration": 27,
    "start_time": "2022-02-23T10:18:28.112Z"
   },
   {
    "duration": 2613,
    "start_time": "2022-02-23T10:18:28.142Z"
   },
   {
    "duration": 1401,
    "start_time": "2022-02-23T10:18:30.809Z"
   },
   {
    "duration": 25,
    "start_time": "2022-02-23T10:18:32.213Z"
   },
   {
    "duration": 1680,
    "start_time": "2022-02-23T10:18:32.240Z"
   },
   {
    "duration": 11,
    "start_time": "2022-02-23T10:18:33.922Z"
   },
   {
    "duration": 7,
    "start_time": "2022-02-23T10:18:33.935Z"
   },
   {
    "duration": 10,
    "start_time": "2022-02-23T10:18:33.944Z"
   },
   {
    "duration": 68,
    "start_time": "2022-02-23T10:18:33.956Z"
   },
   {
    "duration": 172986,
    "start_time": "2022-02-23T10:18:34.026Z"
   },
   {
    "duration": 304,
    "start_time": "2022-02-23T10:21:27.014Z"
   },
   {
    "duration": 7,
    "start_time": "2022-02-23T10:21:27.320Z"
   },
   {
    "duration": 886,
    "start_time": "2022-02-23T10:21:27.329Z"
   },
   {
    "duration": 895,
    "start_time": "2022-02-23T10:21:28.217Z"
   },
   {
    "duration": 3,
    "start_time": "2022-02-23T10:21:29.114Z"
   },
   {
    "duration": 11,
    "start_time": "2022-02-23T10:21:29.121Z"
   },
   {
    "duration": 68017,
    "start_time": "2022-02-23T10:21:29.135Z"
   },
   {
    "duration": 665,
    "start_time": "2022-02-23T10:22:37.155Z"
   },
   {
    "duration": 552,
    "start_time": "2022-02-23T10:22:37.822Z"
   }
  ],
  "kernelspec": {
   "display_name": "Python 3 (ipykernel)",
   "language": "python",
   "name": "python3"
  },
  "language_info": {
   "codemirror_mode": {
    "name": "ipython",
    "version": 3
   },
   "file_extension": ".py",
   "mimetype": "text/x-python",
   "name": "python",
   "nbconvert_exporter": "python",
   "pygments_lexer": "ipython3",
   "version": "3.10.6"
  },
  "toc": {
   "base_numbering": 1,
   "nav_menu": {},
   "number_sections": true,
   "sideBar": true,
   "skip_h1_title": true,
   "title_cell": "Table of Contents",
   "title_sidebar": "Contents",
   "toc_cell": false,
   "toc_position": {},
   "toc_section_display": true,
   "toc_window_display": false
  }
 },
 "nbformat": 4,
 "nbformat_minor": 5
}
