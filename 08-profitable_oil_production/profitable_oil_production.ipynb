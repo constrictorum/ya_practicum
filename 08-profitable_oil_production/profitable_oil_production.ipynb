{
 "cells": [
  {
   "cell_type": "markdown",
   "id": "bff40f89",
   "metadata": {},
   "source": [
    "# Выбор локации для скважины\n",
    "\n",
    "Для обеспечения наивысшей рентабильности добывающей компании «ГлавРосГосНефть», нужно решить, где бурить новую скважину.\n",
    "\n",
    "Нам предоставлены пробы нефти в трёх регионах: в каждом 10 000 месторождений, где измерили качество нефти и объём её запасов. \n",
    "\n",
    "## Цель\n",
    "\n",
    "Постройте модель машинного обучения, которая поможет определить регион, где добыча принесёт наибольшую прибыль. Проанализируем возможную прибыль и риски техникой Bootstrap.\n",
    "\n",
    "## Задачи\n",
    "\n",
    "-    Построить модель для каждого региона, где ищут месторождения и оцениваем объём запасов.\n",
    "-    Выбираем месторождения с самым высокими оценками запасов. Количество месторождений будет зависеть от бюджета компании и стоимости разработки одной скважины.\n",
    "-    Оцениваем прибыль ненфтедобычи, которая равна суммарной прибыли отобранных месторождений.\n",
    "\n",
    "## Дополнительные условия\n",
    "\n",
    "- Для обучения модели подходит только линейная регрессия (остальные — недостаточно предсказуемые).\n",
    "- При разведке региона исследуют 500 точек, из которых с помощью машинного обучения выбирают 200 лучших для разработки.\n",
    "- Бюджет на разработку скважин в регионе — 10 млрд рублей.\n",
    "- При нынешних ценах один баррель сырья приносит 450 рублей дохода. Доход с каждой единицы продукта составляет 450 тыс. рублей, поскольку объём указан в тысячах баррелей.\n",
    "- После оценки рисков нужно оставить лишь те регионы, в которых вероятность убытков меньше 2.5%. Среди них выбирают регион с наибольшей средней прибылью."
   ]
  },
  {
   "cell_type": "markdown",
   "id": "3987dd68",
   "metadata": {},
   "source": [
    "## Загрузка необходимых библиотек и наборов данных"
   ]
  },
  {
   "cell_type": "code",
   "execution_count": 1,
   "id": "99a73a5f",
   "metadata": {},
   "outputs": [],
   "source": [
    "import warnings\n",
    "from typing import Tuple\n",
    "\n",
    "import matplotlib.pyplot as plt\n",
    "import numpy as np\n",
    "import pandas as pd\n",
    "import seaborn as sns\n",
    "from scipy.stats import t\n",
    "from sklearn.linear_model import LinearRegression\n",
    "from sklearn.metrics import mean_squared_error\n",
    "from sklearn.model_selection import GridSearchCV, train_test_split\n",
    "from sklearn.preprocessing import StandardScaler\n",
    "from sklearn.utils import resample"
   ]
  },
  {
   "cell_type": "code",
   "execution_count": 2,
   "id": "5954fd18",
   "metadata": {},
   "outputs": [],
   "source": [
    "pd.set_option(\"display.precision\", 2)\n",
    "pd.set_option(\"display.max_columns\", 100)\n",
    "pd.options.mode.chained_assignment = None\n",
    "\n",
    "warnings.filterwarnings(\"ignore\")"
   ]
  },
  {
   "cell_type": "code",
   "execution_count": 3,
   "id": "d8dffaec",
   "metadata": {},
   "outputs": [],
   "source": [
    "try:\n",
    "    geo0 = pd.read_csv(\"./geo_data_0.csv\")\n",
    "    geo1 = pd.read_csv(\"./geo_data_1.csv\")\n",
    "    geo2 = pd.read_csv(\"./geo_data_2.csv\")\n",
    "except FileNotFoundError:\n",
    "    geo0 = pd.read_csv(\"/datasets/geo_data_0.csv\")\n",
    "    geo1 = pd.read_csv(\"/datasets/geo_data_1.csv\")\n",
    "    geo2 = pd.read_csv(\"/datasets/geo_data_2.csv\")"
   ]
  },
  {
   "cell_type": "code",
   "execution_count": 4,
   "id": "2051910f",
   "metadata": {
    "tags": []
   },
   "outputs": [
    {
     "data": {
      "text/html": [
       "<div>\n",
       "<style scoped>\n",
       "    .dataframe tbody tr th:only-of-type {\n",
       "        vertical-align: middle;\n",
       "    }\n",
       "\n",
       "    .dataframe tbody tr th {\n",
       "        vertical-align: top;\n",
       "    }\n",
       "\n",
       "    .dataframe thead th {\n",
       "        text-align: right;\n",
       "    }\n",
       "</style>\n",
       "<table border=\"1\" class=\"dataframe\">\n",
       "  <thead>\n",
       "    <tr style=\"text-align: right;\">\n",
       "      <th></th>\n",
       "      <th>id</th>\n",
       "      <th>f0</th>\n",
       "      <th>f1</th>\n",
       "      <th>f2</th>\n",
       "      <th>product</th>\n",
       "    </tr>\n",
       "  </thead>\n",
       "  <tbody>\n",
       "    <tr>\n",
       "      <td>0</td>\n",
       "      <td>txEyH</td>\n",
       "      <td>0.71</td>\n",
       "      <td>-0.50</td>\n",
       "      <td>1.22</td>\n",
       "      <td>105.28</td>\n",
       "    </tr>\n",
       "    <tr>\n",
       "      <td>1</td>\n",
       "      <td>2acmU</td>\n",
       "      <td>1.33</td>\n",
       "      <td>-0.34</td>\n",
       "      <td>4.37</td>\n",
       "      <td>73.04</td>\n",
       "    </tr>\n",
       "    <tr>\n",
       "      <td>2</td>\n",
       "      <td>409Wp</td>\n",
       "      <td>1.02</td>\n",
       "      <td>0.15</td>\n",
       "      <td>1.42</td>\n",
       "      <td>85.27</td>\n",
       "    </tr>\n",
       "    <tr>\n",
       "      <td>3</td>\n",
       "      <td>iJLyR</td>\n",
       "      <td>-0.03</td>\n",
       "      <td>0.14</td>\n",
       "      <td>2.98</td>\n",
       "      <td>168.62</td>\n",
       "    </tr>\n",
       "    <tr>\n",
       "      <td>4</td>\n",
       "      <td>Xdl7t</td>\n",
       "      <td>1.99</td>\n",
       "      <td>0.16</td>\n",
       "      <td>4.75</td>\n",
       "      <td>154.04</td>\n",
       "    </tr>\n",
       "  </tbody>\n",
       "</table>\n",
       "</div>"
      ],
      "text/plain": [
       "      id    f0    f1    f2  product\n",
       "0  txEyH  0.71 -0.50  1.22   105.28\n",
       "1  2acmU  1.33 -0.34  4.37    73.04\n",
       "2  409Wp  1.02  0.15  1.42    85.27\n",
       "3  iJLyR -0.03  0.14  2.98   168.62\n",
       "4  Xdl7t  1.99  0.16  4.75   154.04"
      ]
     },
     "execution_count": 4,
     "metadata": {},
     "output_type": "execute_result"
    }
   ],
   "source": [
    "geo0.head()"
   ]
  },
  {
   "cell_type": "code",
   "execution_count": 5,
   "id": "b9b95c85",
   "metadata": {},
   "outputs": [
    {
     "data": {
      "text/html": [
       "<div>\n",
       "<style scoped>\n",
       "    .dataframe tbody tr th:only-of-type {\n",
       "        vertical-align: middle;\n",
       "    }\n",
       "\n",
       "    .dataframe tbody tr th {\n",
       "        vertical-align: top;\n",
       "    }\n",
       "\n",
       "    .dataframe thead th {\n",
       "        text-align: right;\n",
       "    }\n",
       "</style>\n",
       "<table border=\"1\" class=\"dataframe\">\n",
       "  <thead>\n",
       "    <tr style=\"text-align: right;\">\n",
       "      <th></th>\n",
       "      <th>f0</th>\n",
       "      <th>f1</th>\n",
       "      <th>f2</th>\n",
       "      <th>product</th>\n",
       "    </tr>\n",
       "  </thead>\n",
       "  <tbody>\n",
       "    <tr>\n",
       "      <td>count</td>\n",
       "      <td>100000.00</td>\n",
       "      <td>100000.00</td>\n",
       "      <td>100000.00</td>\n",
       "      <td>100000.00</td>\n",
       "    </tr>\n",
       "    <tr>\n",
       "      <td>mean</td>\n",
       "      <td>0.50</td>\n",
       "      <td>0.25</td>\n",
       "      <td>2.50</td>\n",
       "      <td>92.50</td>\n",
       "    </tr>\n",
       "    <tr>\n",
       "      <td>std</td>\n",
       "      <td>0.87</td>\n",
       "      <td>0.50</td>\n",
       "      <td>3.25</td>\n",
       "      <td>44.29</td>\n",
       "    </tr>\n",
       "    <tr>\n",
       "      <td>min</td>\n",
       "      <td>-1.41</td>\n",
       "      <td>-0.85</td>\n",
       "      <td>-12.09</td>\n",
       "      <td>0.00</td>\n",
       "    </tr>\n",
       "    <tr>\n",
       "      <td>25%</td>\n",
       "      <td>-0.07</td>\n",
       "      <td>-0.20</td>\n",
       "      <td>0.29</td>\n",
       "      <td>56.50</td>\n",
       "    </tr>\n",
       "    <tr>\n",
       "      <td>50%</td>\n",
       "      <td>0.50</td>\n",
       "      <td>0.25</td>\n",
       "      <td>2.52</td>\n",
       "      <td>91.85</td>\n",
       "    </tr>\n",
       "    <tr>\n",
       "      <td>75%</td>\n",
       "      <td>1.07</td>\n",
       "      <td>0.70</td>\n",
       "      <td>4.72</td>\n",
       "      <td>128.56</td>\n",
       "    </tr>\n",
       "    <tr>\n",
       "      <td>max</td>\n",
       "      <td>2.36</td>\n",
       "      <td>1.34</td>\n",
       "      <td>16.00</td>\n",
       "      <td>185.36</td>\n",
       "    </tr>\n",
       "  </tbody>\n",
       "</table>\n",
       "</div>"
      ],
      "text/plain": [
       "              f0         f1         f2    product\n",
       "count  100000.00  100000.00  100000.00  100000.00\n",
       "mean        0.50       0.25       2.50      92.50\n",
       "std         0.87       0.50       3.25      44.29\n",
       "min        -1.41      -0.85     -12.09       0.00\n",
       "25%        -0.07      -0.20       0.29      56.50\n",
       "50%         0.50       0.25       2.52      91.85\n",
       "75%         1.07       0.70       4.72     128.56\n",
       "max         2.36       1.34      16.00     185.36"
      ]
     },
     "execution_count": 5,
     "metadata": {},
     "output_type": "execute_result"
    }
   ],
   "source": [
    "geo0.describe()"
   ]
  },
  {
   "cell_type": "code",
   "execution_count": 6,
   "id": "d2eae3dd",
   "metadata": {
    "tags": []
   },
   "outputs": [
    {
     "data": {
      "text/html": [
       "<div>\n",
       "<style scoped>\n",
       "    .dataframe tbody tr th:only-of-type {\n",
       "        vertical-align: middle;\n",
       "    }\n",
       "\n",
       "    .dataframe tbody tr th {\n",
       "        vertical-align: top;\n",
       "    }\n",
       "\n",
       "    .dataframe thead th {\n",
       "        text-align: right;\n",
       "    }\n",
       "</style>\n",
       "<table border=\"1\" class=\"dataframe\">\n",
       "  <thead>\n",
       "    <tr style=\"text-align: right;\">\n",
       "      <th></th>\n",
       "      <th>id</th>\n",
       "      <th>f0</th>\n",
       "      <th>f1</th>\n",
       "      <th>f2</th>\n",
       "      <th>product</th>\n",
       "    </tr>\n",
       "  </thead>\n",
       "  <tbody>\n",
       "    <tr>\n",
       "      <td>0</td>\n",
       "      <td>kBEdx</td>\n",
       "      <td>-15.00</td>\n",
       "      <td>-8.28</td>\n",
       "      <td>-5.88e-03</td>\n",
       "      <td>3.18</td>\n",
       "    </tr>\n",
       "    <tr>\n",
       "      <td>1</td>\n",
       "      <td>62mP7</td>\n",
       "      <td>14.27</td>\n",
       "      <td>-3.48</td>\n",
       "      <td>9.99e-01</td>\n",
       "      <td>26.95</td>\n",
       "    </tr>\n",
       "    <tr>\n",
       "      <td>2</td>\n",
       "      <td>vyE1P</td>\n",
       "      <td>6.26</td>\n",
       "      <td>-5.95</td>\n",
       "      <td>5.00e+00</td>\n",
       "      <td>134.77</td>\n",
       "    </tr>\n",
       "    <tr>\n",
       "      <td>3</td>\n",
       "      <td>KcrkZ</td>\n",
       "      <td>-13.08</td>\n",
       "      <td>-11.51</td>\n",
       "      <td>5.00e+00</td>\n",
       "      <td>137.95</td>\n",
       "    </tr>\n",
       "    <tr>\n",
       "      <td>4</td>\n",
       "      <td>AHL4O</td>\n",
       "      <td>12.70</td>\n",
       "      <td>-8.15</td>\n",
       "      <td>5.00e+00</td>\n",
       "      <td>134.77</td>\n",
       "    </tr>\n",
       "  </tbody>\n",
       "</table>\n",
       "</div>"
      ],
      "text/plain": [
       "      id     f0     f1        f2  product\n",
       "0  kBEdx -15.00  -8.28 -5.88e-03     3.18\n",
       "1  62mP7  14.27  -3.48  9.99e-01    26.95\n",
       "2  vyE1P   6.26  -5.95  5.00e+00   134.77\n",
       "3  KcrkZ -13.08 -11.51  5.00e+00   137.95\n",
       "4  AHL4O  12.70  -8.15  5.00e+00   134.77"
      ]
     },
     "execution_count": 6,
     "metadata": {},
     "output_type": "execute_result"
    }
   ],
   "source": [
    "geo1.head()"
   ]
  },
  {
   "cell_type": "code",
   "execution_count": 7,
   "id": "0c95469f",
   "metadata": {},
   "outputs": [
    {
     "data": {
      "text/html": [
       "<div>\n",
       "<style scoped>\n",
       "    .dataframe tbody tr th:only-of-type {\n",
       "        vertical-align: middle;\n",
       "    }\n",
       "\n",
       "    .dataframe tbody tr th {\n",
       "        vertical-align: top;\n",
       "    }\n",
       "\n",
       "    .dataframe thead th {\n",
       "        text-align: right;\n",
       "    }\n",
       "</style>\n",
       "<table border=\"1\" class=\"dataframe\">\n",
       "  <thead>\n",
       "    <tr style=\"text-align: right;\">\n",
       "      <th></th>\n",
       "      <th>f0</th>\n",
       "      <th>f1</th>\n",
       "      <th>f2</th>\n",
       "      <th>product</th>\n",
       "    </tr>\n",
       "  </thead>\n",
       "  <tbody>\n",
       "    <tr>\n",
       "      <td>count</td>\n",
       "      <td>100000.00</td>\n",
       "      <td>100000.00</td>\n",
       "      <td>100000.00</td>\n",
       "      <td>100000.00</td>\n",
       "    </tr>\n",
       "    <tr>\n",
       "      <td>mean</td>\n",
       "      <td>1.14</td>\n",
       "      <td>-4.80</td>\n",
       "      <td>2.49</td>\n",
       "      <td>68.83</td>\n",
       "    </tr>\n",
       "    <tr>\n",
       "      <td>std</td>\n",
       "      <td>8.97</td>\n",
       "      <td>5.12</td>\n",
       "      <td>1.70</td>\n",
       "      <td>45.94</td>\n",
       "    </tr>\n",
       "    <tr>\n",
       "      <td>min</td>\n",
       "      <td>-31.61</td>\n",
       "      <td>-26.36</td>\n",
       "      <td>-0.02</td>\n",
       "      <td>0.00</td>\n",
       "    </tr>\n",
       "    <tr>\n",
       "      <td>25%</td>\n",
       "      <td>-6.30</td>\n",
       "      <td>-8.27</td>\n",
       "      <td>1.00</td>\n",
       "      <td>26.95</td>\n",
       "    </tr>\n",
       "    <tr>\n",
       "      <td>50%</td>\n",
       "      <td>1.15</td>\n",
       "      <td>-4.81</td>\n",
       "      <td>2.01</td>\n",
       "      <td>57.09</td>\n",
       "    </tr>\n",
       "    <tr>\n",
       "      <td>75%</td>\n",
       "      <td>8.62</td>\n",
       "      <td>-1.33</td>\n",
       "      <td>4.00</td>\n",
       "      <td>107.81</td>\n",
       "    </tr>\n",
       "    <tr>\n",
       "      <td>max</td>\n",
       "      <td>29.42</td>\n",
       "      <td>18.73</td>\n",
       "      <td>5.02</td>\n",
       "      <td>137.95</td>\n",
       "    </tr>\n",
       "  </tbody>\n",
       "</table>\n",
       "</div>"
      ],
      "text/plain": [
       "              f0         f1         f2    product\n",
       "count  100000.00  100000.00  100000.00  100000.00\n",
       "mean        1.14      -4.80       2.49      68.83\n",
       "std         8.97       5.12       1.70      45.94\n",
       "min       -31.61     -26.36      -0.02       0.00\n",
       "25%        -6.30      -8.27       1.00      26.95\n",
       "50%         1.15      -4.81       2.01      57.09\n",
       "75%         8.62      -1.33       4.00     107.81\n",
       "max        29.42      18.73       5.02     137.95"
      ]
     },
     "execution_count": 7,
     "metadata": {},
     "output_type": "execute_result"
    }
   ],
   "source": [
    "geo1.describe()"
   ]
  },
  {
   "cell_type": "code",
   "execution_count": 8,
   "id": "9c54bc2d",
   "metadata": {
    "tags": []
   },
   "outputs": [
    {
     "data": {
      "text/html": [
       "<div>\n",
       "<style scoped>\n",
       "    .dataframe tbody tr th:only-of-type {\n",
       "        vertical-align: middle;\n",
       "    }\n",
       "\n",
       "    .dataframe tbody tr th {\n",
       "        vertical-align: top;\n",
       "    }\n",
       "\n",
       "    .dataframe thead th {\n",
       "        text-align: right;\n",
       "    }\n",
       "</style>\n",
       "<table border=\"1\" class=\"dataframe\">\n",
       "  <thead>\n",
       "    <tr style=\"text-align: right;\">\n",
       "      <th></th>\n",
       "      <th>id</th>\n",
       "      <th>f0</th>\n",
       "      <th>f1</th>\n",
       "      <th>f2</th>\n",
       "      <th>product</th>\n",
       "    </tr>\n",
       "  </thead>\n",
       "  <tbody>\n",
       "    <tr>\n",
       "      <td>0</td>\n",
       "      <td>fwXo0</td>\n",
       "      <td>-1.15</td>\n",
       "      <td>0.96</td>\n",
       "      <td>-0.83</td>\n",
       "      <td>27.76</td>\n",
       "    </tr>\n",
       "    <tr>\n",
       "      <td>1</td>\n",
       "      <td>WJtFt</td>\n",
       "      <td>0.26</td>\n",
       "      <td>0.27</td>\n",
       "      <td>-2.53</td>\n",
       "      <td>56.07</td>\n",
       "    </tr>\n",
       "    <tr>\n",
       "      <td>2</td>\n",
       "      <td>ovLUW</td>\n",
       "      <td>0.19</td>\n",
       "      <td>0.29</td>\n",
       "      <td>-5.59</td>\n",
       "      <td>62.87</td>\n",
       "    </tr>\n",
       "    <tr>\n",
       "      <td>3</td>\n",
       "      <td>q6cA6</td>\n",
       "      <td>2.24</td>\n",
       "      <td>-0.55</td>\n",
       "      <td>0.93</td>\n",
       "      <td>114.57</td>\n",
       "    </tr>\n",
       "    <tr>\n",
       "      <td>4</td>\n",
       "      <td>WPMUX</td>\n",
       "      <td>-0.52</td>\n",
       "      <td>1.72</td>\n",
       "      <td>5.90</td>\n",
       "      <td>149.60</td>\n",
       "    </tr>\n",
       "  </tbody>\n",
       "</table>\n",
       "</div>"
      ],
      "text/plain": [
       "      id    f0    f1    f2  product\n",
       "0  fwXo0 -1.15  0.96 -0.83    27.76\n",
       "1  WJtFt  0.26  0.27 -2.53    56.07\n",
       "2  ovLUW  0.19  0.29 -5.59    62.87\n",
       "3  q6cA6  2.24 -0.55  0.93   114.57\n",
       "4  WPMUX -0.52  1.72  5.90   149.60"
      ]
     },
     "execution_count": 8,
     "metadata": {},
     "output_type": "execute_result"
    }
   ],
   "source": [
    "geo2.head()"
   ]
  },
  {
   "cell_type": "code",
   "execution_count": 9,
   "id": "efb6505c",
   "metadata": {},
   "outputs": [
    {
     "data": {
      "text/html": [
       "<div>\n",
       "<style scoped>\n",
       "    .dataframe tbody tr th:only-of-type {\n",
       "        vertical-align: middle;\n",
       "    }\n",
       "\n",
       "    .dataframe tbody tr th {\n",
       "        vertical-align: top;\n",
       "    }\n",
       "\n",
       "    .dataframe thead th {\n",
       "        text-align: right;\n",
       "    }\n",
       "</style>\n",
       "<table border=\"1\" class=\"dataframe\">\n",
       "  <thead>\n",
       "    <tr style=\"text-align: right;\">\n",
       "      <th></th>\n",
       "      <th>f0</th>\n",
       "      <th>f1</th>\n",
       "      <th>f2</th>\n",
       "      <th>product</th>\n",
       "    </tr>\n",
       "  </thead>\n",
       "  <tbody>\n",
       "    <tr>\n",
       "      <td>count</td>\n",
       "      <td>1.00e+05</td>\n",
       "      <td>1.00e+05</td>\n",
       "      <td>100000.00</td>\n",
       "      <td>100000.00</td>\n",
       "    </tr>\n",
       "    <tr>\n",
       "      <td>mean</td>\n",
       "      <td>2.02e-03</td>\n",
       "      <td>-2.08e-03</td>\n",
       "      <td>2.50</td>\n",
       "      <td>95.00</td>\n",
       "    </tr>\n",
       "    <tr>\n",
       "      <td>std</td>\n",
       "      <td>1.73e+00</td>\n",
       "      <td>1.73e+00</td>\n",
       "      <td>3.47</td>\n",
       "      <td>44.75</td>\n",
       "    </tr>\n",
       "    <tr>\n",
       "      <td>min</td>\n",
       "      <td>-8.76e+00</td>\n",
       "      <td>-7.08e+00</td>\n",
       "      <td>-11.97</td>\n",
       "      <td>0.00</td>\n",
       "    </tr>\n",
       "    <tr>\n",
       "      <td>25%</td>\n",
       "      <td>-1.16e+00</td>\n",
       "      <td>-1.17e+00</td>\n",
       "      <td>0.13</td>\n",
       "      <td>59.45</td>\n",
       "    </tr>\n",
       "    <tr>\n",
       "      <td>50%</td>\n",
       "      <td>9.42e-03</td>\n",
       "      <td>-9.48e-03</td>\n",
       "      <td>2.48</td>\n",
       "      <td>94.93</td>\n",
       "    </tr>\n",
       "    <tr>\n",
       "      <td>75%</td>\n",
       "      <td>1.16e+00</td>\n",
       "      <td>1.16e+00</td>\n",
       "      <td>4.86</td>\n",
       "      <td>130.60</td>\n",
       "    </tr>\n",
       "    <tr>\n",
       "      <td>max</td>\n",
       "      <td>7.24e+00</td>\n",
       "      <td>7.84e+00</td>\n",
       "      <td>16.74</td>\n",
       "      <td>190.03</td>\n",
       "    </tr>\n",
       "  </tbody>\n",
       "</table>\n",
       "</div>"
      ],
      "text/plain": [
       "             f0        f1         f2    product\n",
       "count  1.00e+05  1.00e+05  100000.00  100000.00\n",
       "mean   2.02e-03 -2.08e-03       2.50      95.00\n",
       "std    1.73e+00  1.73e+00       3.47      44.75\n",
       "min   -8.76e+00 -7.08e+00     -11.97       0.00\n",
       "25%   -1.16e+00 -1.17e+00       0.13      59.45\n",
       "50%    9.42e-03 -9.48e-03       2.48      94.93\n",
       "75%    1.16e+00  1.16e+00       4.86     130.60\n",
       "max    7.24e+00  7.84e+00      16.74     190.03"
      ]
     },
     "execution_count": 9,
     "metadata": {},
     "output_type": "execute_result"
    }
   ],
   "source": [
    "geo2.describe()"
   ]
  },
  {
   "cell_type": "markdown",
   "id": "0718ad5c",
   "metadata": {},
   "source": [
    "Пропусков в данных нет, но параметры `f0`, `f1`, `f2` различаются масштабом: среднее значение `f2` во всех регионах около 2,5.  В то же время, дисперсия `f2` меняется от региона к региону в диапазоне [1.7, 3.45]. При этом среднее `f1` лежит в диапазоне [$-2\\cdot 10^{-3}$, 2.5], а `f0`&nbsp;&mdash; [$2\\cdot 10^{-3}$, 1.14].\n",
    "\n",
    "Признаки необходимо нормировать.\n",
    "\n",
    "Разделим данные на тренировочную и валидационную выборки и нормируем."
   ]
  },
  {
   "cell_type": "code",
   "execution_count": 10,
   "id": "f39e25c3",
   "metadata": {},
   "outputs": [],
   "source": [
    "geo0_X = geo0.drop([\"id\", \"product\"], axis=1)\n",
    "geo1_X = geo1.drop([\"id\", \"product\"], axis=1)\n",
    "geo2_X = geo2.drop([\"id\", \"product\"], axis=1)\n",
    "geo0_y = geo0[\"product\"]\n",
    "geo1_y = geo1[\"product\"]\n",
    "geo2_y = geo2[\"product\"]\n",
    "# geo0_ids = geo0[\"id\"]\n",
    "# geo1_ids = geo1[\"id\"]\n",
    "# geo2_ids = geo2[\"id\"]"
   ]
  },
  {
   "cell_type": "code",
   "execution_count": 11,
   "id": "7afaaba9",
   "metadata": {},
   "outputs": [],
   "source": [
    "geo0_X_train, geo0_X_valid, geo0_y_train, geo0_y_valid = train_test_split(\n",
    "    geo0_X, geo0_y, test_size=0.25, random_state=42\n",
    ")\n",
    "geo1_X_train, geo1_X_valid, geo1_y_train, geo1_y_valid = train_test_split(\n",
    "    geo1_X, geo1_y, test_size=0.25, random_state=42\n",
    ")\n",
    "geo2_X_train, geo2_X_valid, geo2_y_train, geo2_y_valid = train_test_split(\n",
    "    geo2_X, geo2_y, test_size=0.25, random_state=42\n",
    ")"
   ]
  },
  {
   "cell_type": "markdown",
   "id": "9ef5fe6c",
   "metadata": {},
   "source": [
    "Прежде чем выбирать метод нормализации данных посмотрим на распределения значений параметров "
   ]
  },
  {
   "cell_type": "code",
   "execution_count": 12,
   "id": "750af7a2",
   "metadata": {},
   "outputs": [
    {
     "data": {
      "image/png": "[encoded data removed]",
      "text/plain": [
       "<Figure size 1080x360 with 3 Axes>"
      ]
     },
     "metadata": {
      "needs_background": "light"
     },
     "output_type": "display_data"
    }
   ],
   "source": [
    "fig, axes = plt.subplots(1, 3, figsize=(15, 5), sharey=True)\n",
    "fig.suptitle(\"Распределение значений параметров в регионе 0\")\n",
    "sns.distplot(geo0[\"f0\"], ax=axes[0])\n",
    "sns.distplot(geo0[\"f1\"], ax=axes[1])\n",
    "sns.distplot(geo0[\"f2\"], ax=axes[2])\n",
    "axes[0].set_ylabel(\"Плотность распределения\")\n",
    "axes[0].set_xlabel(r\"$f_0$\")\n",
    "axes[1].set_xlabel(r\"$f_1$\")\n",
    "axes[2].set_xlabel(r\"$f_2$\");"
   ]
  },
  {
   "cell_type": "code",
   "execution_count": 13,
   "id": "6bb32ae6",
   "metadata": {},
   "outputs": [
    {
     "data": {
      "image/png": "[encoded data removed]",
      "text/plain": [
       "<Figure size 1080x360 with 3 Axes>"
      ]
     },
     "metadata": {
      "needs_background": "light"
     },
     "output_type": "display_data"
    }
   ],
   "source": [
    "fig, axes = plt.subplots(1, 3, figsize=(15, 5), sharey=True)\n",
    "fig.suptitle(\"Распределение значений параметров в регионе 1\")\n",
    "sns.distplot(geo1[\"f0\"], ax=axes[0])\n",
    "sns.distplot(geo1[\"f1\"], ax=axes[1])\n",
    "sns.distplot(geo1[\"f2\"], ax=axes[2])\n",
    "axes[0].set_ylabel(\"Плотность распределения\")\n",
    "axes[0].set_xlabel(r\"$f_0$\")\n",
    "axes[1].set_xlabel(r\"$f_1$\")\n",
    "axes[2].set_xlabel(r\"$f_2$\");"
   ]
  },
  {
   "cell_type": "code",
   "execution_count": 14,
   "id": "b8b63960",
   "metadata": {},
   "outputs": [
    {
     "data": {
      "image/png": "[encoded data removed]",
      "text/plain": [
       "<Figure size 1080x360 with 3 Axes>"
      ]
     },
     "metadata": {
      "needs_background": "light"
     },
     "output_type": "display_data"
    }
   ],
   "source": [
    "fig, axes = plt.subplots(1, 3, figsize=(15, 5), sharey=True)\n",
    "fig.suptitle(\"Распределение значений параметров в регионе 2\")\n",
    "sns.distplot(geo2[\"f0\"], ax=axes[0])\n",
    "sns.distplot(geo2[\"f1\"], ax=axes[1])\n",
    "sns.distplot(geo2[\"f2\"], ax=axes[2])\n",
    "axes[0].set_ylabel(\"Плотность распределения\")\n",
    "axes[0].set_xlabel(r\"$f_0$\")\n",
    "axes[1].set_xlabel(r\"$f_1$\")\n",
    "axes[2].set_xlabel(r\"$f_2$\");"
   ]
  },
  {
   "cell_type": "markdown",
   "id": "3e22c266",
   "metadata": {},
   "source": [
    "Видно, что в регионе 2 параметры распределены более-менее по Гауссу, в остальных&nbsp;&mdash; приблизительно колоколообразно, хотя и мультимодально. Это означаеть, что с одной стороны сложно говорить о дисперсии в классическом понимании, с другой&nbsp;&mdash; значения имеют хвосты, а стало быть потенциально не ограничены предопрееделёнными значениями [min, max]. \n",
    "\n",
    "В этой ситуации более предпочтительной видится процедура стандартизации данных: сведение их к значениям с нулевым средним и единичной дисперсией.  "
   ]
  },
  {
   "cell_type": "code",
   "execution_count": 15,
   "id": "e6f77844",
   "metadata": {},
   "outputs": [],
   "source": [
    "scaler = StandardScaler()"
   ]
  },
  {
   "cell_type": "code",
   "execution_count": 16,
   "id": "79c6448c",
   "metadata": {},
   "outputs": [],
   "source": [
    "scaler.fit(geo0_X_train)\n",
    "geo0_X_train[[\"f0\", \"f1\", \"f2\"]] = scaler.transform(geo0_X_train)\n",
    "geo0_X_valid[[\"f0\", \"f1\", \"f2\"]] = scaler.transform(geo0_X_valid)"
   ]
  },
  {
   "cell_type": "code",
   "execution_count": 17,
   "id": "022c1cf9",
   "metadata": {},
   "outputs": [],
   "source": [
    "scaler.fit(geo1_X_train)\n",
    "geo1_X_train[[\"f0\", \"f1\", \"f2\"]] = scaler.transform(geo1_X_train)\n",
    "geo1_X_valid[[\"f0\", \"f1\", \"f2\"]] = scaler.transform(geo1_X_valid)"
   ]
  },
  {
   "cell_type": "code",
   "execution_count": 18,
   "id": "80cbf4c8",
   "metadata": {},
   "outputs": [],
   "source": [
    "scaler.fit(geo2_X_train)\n",
    "geo2_X_train[[\"f0\", \"f1\", \"f2\"]] = scaler.transform(geo2_X_train)\n",
    "geo2_X_valid[[\"f0\", \"f1\", \"f2\"]] = scaler.transform(geo2_X_valid)"
   ]
  },
  {
   "cell_type": "code",
   "execution_count": 19,
   "id": "4882f0d6",
   "metadata": {},
   "outputs": [
    {
     "data": {
      "text/html": [
       "<div>\n",
       "<style scoped>\n",
       "    .dataframe tbody tr th:only-of-type {\n",
       "        vertical-align: middle;\n",
       "    }\n",
       "\n",
       "    .dataframe tbody tr th {\n",
       "        vertical-align: top;\n",
       "    }\n",
       "\n",
       "    .dataframe thead th {\n",
       "        text-align: right;\n",
       "    }\n",
       "</style>\n",
       "<table border=\"1\" class=\"dataframe\">\n",
       "  <thead>\n",
       "    <tr style=\"text-align: right;\">\n",
       "      <th></th>\n",
       "      <th>f0</th>\n",
       "      <th>f1</th>\n",
       "      <th>f2</th>\n",
       "    </tr>\n",
       "  </thead>\n",
       "  <tbody>\n",
       "    <tr>\n",
       "      <td>count</td>\n",
       "      <td>7.50e+04</td>\n",
       "      <td>7.50e+04</td>\n",
       "      <td>7.50e+04</td>\n",
       "    </tr>\n",
       "    <tr>\n",
       "      <td>mean</td>\n",
       "      <td>-9.18e-17</td>\n",
       "      <td>3.96e-17</td>\n",
       "      <td>3.21e-17</td>\n",
       "    </tr>\n",
       "    <tr>\n",
       "      <td>std</td>\n",
       "      <td>1.00e+00</td>\n",
       "      <td>1.00e+00</td>\n",
       "      <td>1.00e+00</td>\n",
       "    </tr>\n",
       "    <tr>\n",
       "      <td>min</td>\n",
       "      <td>-2.19e+00</td>\n",
       "      <td>-2.18e+00</td>\n",
       "      <td>-3.89e+00</td>\n",
       "    </tr>\n",
       "    <tr>\n",
       "      <td>25%</td>\n",
       "      <td>-6.59e-01</td>\n",
       "      <td>-8.92e-01</td>\n",
       "      <td>-6.84e-01</td>\n",
       "    </tr>\n",
       "    <tr>\n",
       "      <td>50%</td>\n",
       "      <td>3.21e-03</td>\n",
       "      <td>2.61e-03</td>\n",
       "      <td>4.89e-03</td>\n",
       "    </tr>\n",
       "    <tr>\n",
       "      <td>75%</td>\n",
       "      <td>6.55e-01</td>\n",
       "      <td>8.90e-01</td>\n",
       "      <td>6.81e-01</td>\n",
       "    </tr>\n",
       "    <tr>\n",
       "      <td>max</td>\n",
       "      <td>2.14e+00</td>\n",
       "      <td>2.15e+00</td>\n",
       "      <td>4.15e+00</td>\n",
       "    </tr>\n",
       "  </tbody>\n",
       "</table>\n",
       "</div>"
      ],
      "text/plain": [
       "             f0        f1        f2\n",
       "count  7.50e+04  7.50e+04  7.50e+04\n",
       "mean  -9.18e-17  3.96e-17  3.21e-17\n",
       "std    1.00e+00  1.00e+00  1.00e+00\n",
       "min   -2.19e+00 -2.18e+00 -3.89e+00\n",
       "25%   -6.59e-01 -8.92e-01 -6.84e-01\n",
       "50%    3.21e-03  2.61e-03  4.89e-03\n",
       "75%    6.55e-01  8.90e-01  6.81e-01\n",
       "max    2.14e+00  2.15e+00  4.15e+00"
      ]
     },
     "execution_count": 19,
     "metadata": {},
     "output_type": "execute_result"
    }
   ],
   "source": [
    "geo0_X_train.describe()"
   ]
  },
  {
   "cell_type": "code",
   "execution_count": 20,
   "id": "8c464100",
   "metadata": {},
   "outputs": [
    {
     "data": {
      "text/html": [
       "<div>\n",
       "<style scoped>\n",
       "    .dataframe tbody tr th:only-of-type {\n",
       "        vertical-align: middle;\n",
       "    }\n",
       "\n",
       "    .dataframe tbody tr th {\n",
       "        vertical-align: top;\n",
       "    }\n",
       "\n",
       "    .dataframe thead th {\n",
       "        text-align: right;\n",
       "    }\n",
       "</style>\n",
       "<table border=\"1\" class=\"dataframe\">\n",
       "  <thead>\n",
       "    <tr style=\"text-align: right;\">\n",
       "      <th></th>\n",
       "      <th>f0</th>\n",
       "      <th>f1</th>\n",
       "      <th>f2</th>\n",
       "    </tr>\n",
       "  </thead>\n",
       "  <tbody>\n",
       "    <tr>\n",
       "      <td>count</td>\n",
       "      <td>2.50e+04</td>\n",
       "      <td>2.50e+04</td>\n",
       "      <td>2.50e+04</td>\n",
       "    </tr>\n",
       "    <tr>\n",
       "      <td>mean</td>\n",
       "      <td>1.95e-03</td>\n",
       "      <td>-5.98e-03</td>\n",
       "      <td>-9.74e-03</td>\n",
       "    </tr>\n",
       "    <tr>\n",
       "      <td>std</td>\n",
       "      <td>9.98e-01</td>\n",
       "      <td>1.01e+00</td>\n",
       "      <td>9.99e-01</td>\n",
       "    </tr>\n",
       "    <tr>\n",
       "      <td>min</td>\n",
       "      <td>-2.02e+00</td>\n",
       "      <td>-2.18e+00</td>\n",
       "      <td>-4.49e+00</td>\n",
       "    </tr>\n",
       "    <tr>\n",
       "      <td>25%</td>\n",
       "      <td>-6.51e-01</td>\n",
       "      <td>-9.15e-01</td>\n",
       "      <td>-6.86e-01</td>\n",
       "    </tr>\n",
       "    <tr>\n",
       "      <td>50%</td>\n",
       "      <td>4.11e-04</td>\n",
       "      <td>-1.30e-02</td>\n",
       "      <td>-7.61e-03</td>\n",
       "    </tr>\n",
       "    <tr>\n",
       "      <td>75%</td>\n",
       "      <td>6.66e-01</td>\n",
       "      <td>9.01e-01</td>\n",
       "      <td>6.73e-01</td>\n",
       "    </tr>\n",
       "    <tr>\n",
       "      <td>max</td>\n",
       "      <td>2.04e+00</td>\n",
       "      <td>2.17e+00</td>\n",
       "      <td>3.85e+00</td>\n",
       "    </tr>\n",
       "  </tbody>\n",
       "</table>\n",
       "</div>"
      ],
      "text/plain": [
       "             f0        f1        f2\n",
       "count  2.50e+04  2.50e+04  2.50e+04\n",
       "mean   1.95e-03 -5.98e-03 -9.74e-03\n",
       "std    9.98e-01  1.01e+00  9.99e-01\n",
       "min   -2.02e+00 -2.18e+00 -4.49e+00\n",
       "25%   -6.51e-01 -9.15e-01 -6.86e-01\n",
       "50%    4.11e-04 -1.30e-02 -7.61e-03\n",
       "75%    6.66e-01  9.01e-01  6.73e-01\n",
       "max    2.04e+00  2.17e+00  3.85e+00"
      ]
     },
     "execution_count": 20,
     "metadata": {},
     "output_type": "execute_result"
    }
   ],
   "source": [
    "geo0_X_valid.describe()"
   ]
  },
  {
   "cell_type": "markdown",
   "id": "3ef38b6e",
   "metadata": {},
   "source": [
    "### Выводы\n",
    "\n",
    "Входные данные загружены, проверены на пропуски и стандартизованы."
   ]
  },
  {
   "cell_type": "markdown",
   "id": "437a59b3",
   "metadata": {},
   "source": [
    "## Обучение модели\n",
    "\n",
    "По условиям задачи в качестве модели, будем использовать линейную регрессию, как наиболее устойчивую к шумам в данных "
   ]
  },
  {
   "cell_type": "code",
   "execution_count": 21,
   "id": "080dc4cf",
   "metadata": {},
   "outputs": [],
   "source": [
    "model0 = LinearRegression(n_jobs=-1).fit(geo0_X_train, geo0_y_train)\n",
    "model1 = LinearRegression(n_jobs=-1).fit(geo1_X_train, geo1_y_train)\n",
    "model2 = LinearRegression(n_jobs=-1).fit(geo2_X_train, geo2_y_train)"
   ]
  },
  {
   "cell_type": "code",
   "execution_count": 22,
   "id": "ac070cab",
   "metadata": {},
   "outputs": [],
   "source": [
    "pred0 = model0.predict(geo0_X_valid)\n",
    "pred1 = model1.predict(geo1_X_valid)\n",
    "pred2 = model2.predict(geo2_X_valid)"
   ]
  },
  {
   "cell_type": "code",
   "execution_count": 23,
   "id": "9da29d71",
   "metadata": {},
   "outputs": [],
   "source": [
    "pred0 = pd.Series(pred0, index=geo0_y_valid.index)\n",
    "pred1 = pd.Series(pred1, index=geo0_y_valid.index)\n",
    "pred2 = pd.Series(pred2, index=geo0_y_valid.index)"
   ]
  },
  {
   "cell_type": "code",
   "execution_count": 24,
   "id": "2cf356b0",
   "metadata": {},
   "outputs": [
    {
     "name": "stdout",
     "output_type": "stream",
     "text": [
      "mean predict: 92.39879990657768\n",
      "mean true: 92.32595637084387\n",
      "mean delta: 0.08%\n",
      "RMSE: 37.75660035026169\n"
     ]
    }
   ],
   "source": [
    "mean_debit0v = geo0_y_valid.mean()\n",
    "mean_debit0p = pred0.mean()\n",
    "print(f\"mean predict: {mean_debit0p}\")\n",
    "print(f\"mean true: {mean_debit0v}\")\n",
    "print(f\"mean delta: {abs(mean_debit0v-mean_debit0p)/mean_debit0v:.2%}\")\n",
    "print(f\"RMSE: {mean_squared_error(geo0_y_valid, pred0)**.5}\")"
   ]
  },
  {
   "cell_type": "code",
   "execution_count": 25,
   "id": "dfd7cb2b",
   "metadata": {},
   "outputs": [
    {
     "name": "stdout",
     "output_type": "stream",
     "text": [
      "mean predict: 68.71287803913762\n",
      "mean true: 68.72538074722745\n",
      "mean delta: 0.02%\n",
      "RMSE: 0.8902801001028834\n"
     ]
    }
   ],
   "source": [
    "mean_debit1v = geo1_y_valid.mean()\n",
    "mean_debit1p = pred1.mean()\n",
    "print(f\"mean predict: {mean_debit1p}\")\n",
    "print(f\"mean true: {mean_debit1v}\")\n",
    "print(f\"mean delta: {abs(mean_debit1v-mean_debit1p)/mean_debit1v:.2%}\")\n",
    "print(f\"RMSE: {mean_squared_error(geo1_y_valid,pred1)**.5}\")"
   ]
  },
  {
   "cell_type": "code",
   "execution_count": 26,
   "id": "1b29076f",
   "metadata": {},
   "outputs": [
    {
     "name": "stdout",
     "output_type": "stream",
     "text": [
      "mean predict: 94.77102387765939\n",
      "mean true: 95.15099907171961\n",
      "mean delta: 0.40%\n",
      "RMSE: 40.145872311342174\n"
     ]
    }
   ],
   "source": [
    "mean_debit2v = geo2_y_valid.mean()\n",
    "mean_debit2p = pred2.mean()\n",
    "print(f\"mean predict: {mean_debit2p}\")\n",
    "print(f\"mean true: {mean_debit2v}\")\n",
    "print(f\"mean delta: {abs(mean_debit2v-mean_debit2p)/mean_debit2v:.2%}\")\n",
    "print(f\"RMSE: {mean_squared_error(geo2_y_valid,pred2)**.5}\")"
   ]
  },
  {
   "cell_type": "markdown",
   "id": "81e6a9e9",
   "metadata": {},
   "source": [
    "### Выводы\n",
    "\n",
    "Предсказанные занения запасов сырья оказались весьма близки к истинным (отклонение составляет доли процента). С другой стороны среднеквадратичная ошибка прогноза весьма велика в регионах 0 и 2."
   ]
  },
  {
   "cell_type": "markdown",
   "id": "bb37cdd7",
   "metadata": {},
   "source": [
    "## Подготовка к расчёту прибыли"
   ]
  },
  {
   "cell_type": "markdown",
   "id": "62f39e7a",
   "metadata": {},
   "source": [
    "Прежде всего, найдём уровень безубыточности скважин. Бюджет на обустройство скважин в регионе — 10 млрд рублей. Доход с каждой единицы продукта составляет 450 тыс. рублей. "
   ]
  },
  {
   "cell_type": "code",
   "execution_count": 27,
   "id": "b59d4421",
   "metadata": {},
   "outputs": [
    {
     "data": {
      "text/plain": [
       "22222.222222222223"
      ]
     },
     "execution_count": 27,
     "metadata": {},
     "output_type": "execute_result"
    }
   ],
   "source": [
    "min_debit = 1e10 / 450e3\n",
    "min_debit"
   ]
  },
  {
   "cell_type": "markdown",
   "id": "fb2e35a4",
   "metadata": {},
   "source": [
    "Таким образом, чтобы окупить обустройство скважин, необходимо извлечь не менее 22 222 единиц нефти. Посмотрим среднюю продуктивность каждого из регионов"
   ]
  },
  {
   "cell_type": "code",
   "execution_count": 28,
   "id": "57674598",
   "metadata": {},
   "outputs": [
    {
     "name": "stdout",
     "output_type": "stream",
     "text": [
      "mean debit region 0: 18479.759981315536\n",
      "mean debit region 1: 13742.575607827524\n",
      "mean debit region 2: 18954.204775531878\n"
     ]
    }
   ],
   "source": [
    "print(f\"mean debit region 0: {mean_debit0p * 200}\")\n",
    "print(f\"mean debit region 1: {mean_debit1p * 200}\")\n",
    "print(f\"mean debit region 2: {mean_debit2p * 200}\")"
   ]
  },
  {
   "cell_type": "markdown",
   "id": "7961ac86",
   "metadata": {},
   "source": [
    "Видно, что среднестатистические 200 скважин не дают необходимого запаса сырья. Значит целевые скважины нужно выбирать более тщательно. \n",
    "\n",
    "Для удобства оценки перспективности скважин, напишем функцию, вычисляющую прибыль по заданному набору скважин."
   ]
  },
  {
   "cell_type": "code",
   "execution_count": 29,
   "id": "bc872dc3",
   "metadata": {},
   "outputs": [],
   "source": [
    "def squaters_profit(\n",
    "    squaters: pd.core.series.Series, N: int = 200, net: int = 1e10\n",
    ") -> float:\n",
    "    \"\"\"\n",
    "    функция принимает на вход pd.Series с запасами скважин, выбирает из них N лучших и для них вычисляет прибыль от извлечения их запасов\n",
    "    \"\"\"\n",
    "    return squaters.sort_values(ascending=False)[:N].sum() * 450e3 - net"
   ]
  },
  {
   "cell_type": "code",
   "execution_count": 30,
   "id": "89815483",
   "metadata": {},
   "outputs": [],
   "source": [
    "def squaters_profit(\n",
    "    predicted: pd.core.series.Series, \n",
    "    true: pd.core.series.Series, \n",
    "    net: int = 1e10\n",
    ") -> float:\n",
    "    \"\"\"\n",
    "    функция принимает на вход pd.Series лучших скаважин по предсказанным запасам и Series с истинными запасами скважин, вычисляет прибыль от извлечения их запасов\n",
    "    \"\"\"\n",
    "    return true[predicted.index].sum() * 450e3 - net"
   ]
  },
  {
   "cell_type": "markdown",
   "id": "8974c119",
   "metadata": {},
   "source": [
    "### Выводы\n",
    "\n",
    "Мы расчитали уровень безубыточности для нефтедобывающего проекта, он оказался выше, чем запасы 200 средне-статистических скважин во всех трёх регионах. Нужно будет организовать подбор наиболее богатых скважин. Для оценки качества набора скважин была написана функция, вычисляющая их прибыльность."
   ]
  },
  {
   "cell_type": "markdown",
   "id": "3b8c115d",
   "metadata": {},
   "source": [
    "## Расчёт прибыли и рисков"
   ]
  },
  {
   "cell_type": "markdown",
   "id": "b42f3078",
   "metadata": {},
   "source": [
    "Воспользуемся методом `Bootstrap`, чтобы найти распределение прибыли и оценить возможные риски"
   ]
  },
  {
   "cell_type": "code",
   "execution_count": 31,
   "id": "8fce81fd",
   "metadata": {},
   "outputs": [],
   "source": [
    "def bootstrap(\n",
    "    predicted: pd.core.series.Series,\n",
    "    true: pd.core.series.Series,\n",
    "    steps: int = 1000,\n",
    "    exploration: int = 500,\n",
    "    mining: int = 200,\n",
    "    alpha: float = 0.95,\n",
    "    breaker: int = 1e10,\n",
    ") -> Tuple[float, Tuple[float, float], float]:\n",
    "    \"\"\"\n",
    "    Функция принимает на вход pd.Series с прогнозами запасов всех скважин региона, выбирает из них exploration разведочных скважин, среди которых выбирает mining лучших добычных скважин.\n",
    "    Для добычных скважин вычисляется прибыль, которая аккумулируется в списке. Потом по списку строится средняя прибыль по региону и доверительный интервал.\n",
    "    \"\"\"\n",
    "    state = np.random.RandomState(42)\n",
    "\n",
    "    profits = []\n",
    "    for _ in range(steps):\n",
    "        explorations = resample(predicted, n_samples=exploration, random_state=state)\n",
    "        minings = explorations.sort_values(ascending=False).iloc[:mining]\n",
    "        profits.append(squaters_profit(minings, true))\n",
    "    profits = pd.Series(profits) \n",
    "    loss_risk = (profits < 0).mean()\n",
    "    profit_lo = profits.quantile((1 - alpha) / 2)\n",
    "    profit_hi = profits.quantile(alpha + (1 - alpha) / 2)\n",
    "    ax = sns.distplot(profits / 1e6)\n",
    "    ax.set(xlabel=\"Прибыль, млн.руб\", ylabel=\"Плотность распределения\")\n",
    "    plt.axvline(profit_lo / 1e6, 0, 0.3)\n",
    "    plt.axvline(profit_hi / 1e6, 0, 0.3)\n",
    "    return (\n",
    "        profits.mean(),\n",
    "        (profit_lo, profit_hi),\n",
    "        loss_risk,\n",
    "    )"
   ]
  },
  {
   "cell_type": "code",
   "execution_count": 32,
   "id": "500313ad",
   "metadata": {},
   "outputs": [
    {
     "data": {
      "image/png": "[encoded data removed]",
      "text/plain": [
       "<Figure size 432x288 with 1 Axes>"
      ]
     },
     "metadata": {
      "needs_background": "light"
     },
     "output_type": "display_data"
    }
   ],
   "source": [
    "\n",
    "geo0_profit, geo0_interval, geo0_risk = bootstrap(pred0, geo0_y_valid)"
   ]
  },
  {
   "cell_type": "code",
   "execution_count": 33,
   "id": "da7f9215",
   "metadata": {},
   "outputs": [
    {
     "data": {
      "image/png": "[encoded data removed]",
      "text/plain": [
       "<Figure size 432x288 with 1 Axes>"
      ]
     },
     "metadata": {
      "needs_background": "light"
     },
     "output_type": "display_data"
    }
   ],
   "source": [
    "geo1_profit, geo1_interval, geo1_risk = bootstrap(pred1, geo1_y_valid)"
   ]
  },
  {
   "cell_type": "code",
   "execution_count": 34,
   "id": "3ed9de9e",
   "metadata": {},
   "outputs": [
    {
     "data": {
      "image/png": "[encoded data removed]",
      "text/plain": [
       "<Figure size 432x288 with 1 Axes>"
      ]
     },
     "metadata": {
      "needs_background": "light"
     },
     "output_type": "display_data"
    }
   ],
   "source": [
    "geo2_profit, geo2_interval, geo2_risk = bootstrap(pred2, geo2_y_valid)"
   ]
  },
  {
   "cell_type": "code",
   "execution_count": 35,
   "id": "1bdc83fb",
   "metadata": {},
   "outputs": [
    {
     "name": "stdout",
     "output_type": "stream",
     "text": [
      "Region 0: mean profit is 399575478.05422974, 95% interval is (-110467895.33197214, 897460327.7178793), loss risk is 6.00%\n",
      "Region 1: mean profit is 452048890.9064584, 95% interval is (61684479.654226795, 845340177.5073848), loss risk is 1.50%\n",
      "Region 2: mean profit is 375009902.915329, 95% interval is (-144766727.30489266, 888390403.5342213), loss risk is 8.00%\n"
     ]
    }
   ],
   "source": [
    "print(\n",
    "    f\"Region 0: mean profit is {geo0_profit}, 95% interval is {geo0_interval}, loss risk is {geo0_risk:.2%}\"\n",
    ")\n",
    "print(\n",
    "    f\"Region 1: mean profit is {geo1_profit}, 95% interval is {geo1_interval}, loss risk is {geo1_risk:.2%}\"\n",
    ")\n",
    "print(\n",
    "    f\"Region 2: mean profit is {geo2_profit}, 95% interval is {geo2_interval}, loss risk is {geo2_risk:.2%}\"\n",
    ")"
   ]
  },
  {
   "cell_type": "markdown",
   "id": "fdc8e09b",
   "metadata": {},
   "source": [
    "Уже из графиков видно, что единственный регион у которого точка безубыточности не попадает в доверительный интервал - это регион 1. Таким образом, он единственный имеет риск убытков менее 2,5% (вероятность оказаться слева от 95% доверительного интервала не превышает 2,5%)"
   ]
  },
  {
   "cell_type": "markdown",
   "id": "68f3c14e",
   "metadata": {},
   "source": [
    "## Выводы\n",
    "\n",
    "Были получены данные по запасам нефти в скважинах трёх регионов. Входные данные были нормированы и импользованы для обучения модели линейной регрессии. \n",
    "\n",
    "На основе прогнозов моделей методом `Bootstrap` мы отобрали 200 лучшых добычных скважин из случайных 500 разведочных. На основании полученного ряда прогнозов прибыли мы построили доверительный интервал прибыли и сделали оценку рисков. Наибольшим пригнозируемым значением прибыли и наименьшим риском характеризцуется регион 1: ожидаемая прибыль 452 млн. рублей при риске убытков 1,5%. "
   ]
  }
 ],
 "metadata": {
  "ExecuteTimeLog": [
   {
    "duration": 2100,
    "start_time": "2021-12-11T12:20:38.295Z"
   },
   {
    "duration": 6,
    "start_time": "2021-12-11T12:20:40.399Z"
   },
   {
    "duration": 653,
    "start_time": "2021-12-11T12:20:40.409Z"
   },
   {
    "duration": 17,
    "start_time": "2021-12-11T12:20:41.065Z"
   },
   {
    "duration": 108,
    "start_time": "2021-12-11T12:20:41.084Z"
   },
   {
    "duration": 14,
    "start_time": "2021-12-11T12:20:41.196Z"
   },
   {
    "duration": 61,
    "start_time": "2021-12-11T12:20:41.224Z"
   },
   {
    "duration": 12,
    "start_time": "2021-12-11T12:20:41.288Z"
   },
   {
    "duration": 62,
    "start_time": "2021-12-11T12:20:41.304Z"
   },
   {
    "duration": 12,
    "start_time": "2021-12-11T12:20:41.369Z"
   },
   {
    "duration": 69,
    "start_time": "2021-12-11T12:20:41.384Z"
   },
   {
    "duration": 1458,
    "start_time": "2021-12-11T12:20:41.456Z"
   },
   {
    "duration": 1322,
    "start_time": "2021-12-11T12:20:42.918Z"
   },
   {
    "duration": 1308,
    "start_time": "2021-12-11T12:20:44.242Z"
   },
   {
    "duration": 4,
    "start_time": "2021-12-11T12:20:45.552Z"
   },
   {
    "duration": 22,
    "start_time": "2021-12-11T12:20:45.558Z"
   },
   {
    "duration": 43,
    "start_time": "2021-12-11T12:20:45.582Z"
   },
   {
    "duration": 14,
    "start_time": "2021-12-11T12:20:45.628Z"
   },
   {
    "duration": 39,
    "start_time": "2021-12-11T12:20:45.645Z"
   },
   {
    "duration": 60,
    "start_time": "2021-12-11T12:20:45.687Z"
   },
   {
    "duration": 26,
    "start_time": "2021-12-11T12:20:45.750Z"
   },
   {
    "duration": 48,
    "start_time": "2021-12-11T12:20:45.779Z"
   },
   {
    "duration": 100,
    "start_time": "2021-12-11T12:20:45.835Z"
   },
   {
    "duration": 106,
    "start_time": "2021-12-11T12:20:45.940Z"
   },
   {
    "duration": 9,
    "start_time": "2021-12-11T12:20:46.048Z"
   },
   {
    "duration": 12,
    "start_time": "2021-12-11T12:20:46.059Z"
   },
   {
    "duration": 5,
    "start_time": "2021-12-11T12:20:46.074Z"
   },
   {
    "duration": 13,
    "start_time": "2021-12-11T12:20:46.082Z"
   },
   {
    "duration": 12,
    "start_time": "2021-12-11T12:20:46.123Z"
   },
   {
    "duration": 10,
    "start_time": "2021-12-11T12:20:46.137Z"
   },
   {
    "duration": 13,
    "start_time": "2021-12-11T12:20:46.150Z"
   },
   {
    "duration": 2904,
    "start_time": "2021-12-11T12:20:46.165Z"
   },
   {
    "duration": 3135,
    "start_time": "2021-12-11T12:20:49.071Z"
   },
   {
    "duration": 3015,
    "start_time": "2021-12-11T12:20:52.208Z"
   },
   {
    "duration": 7,
    "start_time": "2021-12-11T12:20:55.227Z"
   }
  ],
  "kernelspec": {
   "display_name": "Python 3 (ipykernel)",
   "language": "python",
   "name": "python3"
  },
  "language_info": {
   "codemirror_mode": {
    "name": "ipython",
    "version": 3
   },
   "file_extension": ".py",
   "mimetype": "text/x-python",
   "name": "python",
   "nbconvert_exporter": "python",
   "pygments_lexer": "ipython3",
   "version": "3.10.6"
  },
  "toc": {
   "base_numbering": 1,
   "nav_menu": {},
   "number_sections": true,
   "sideBar": true,
   "skip_h1_title": true,
   "title_cell": "Table of Contents",
   "title_sidebar": "Contents",
   "toc_cell": false,
   "toc_position": {},
   "toc_section_display": true,
   "toc_window_display": false
  }
 },
 "nbformat": 4,
 "nbformat_minor": 5
}
