{
 "cells": [
  {
   "cell_type": "markdown",
   "id": "8843d7b2-2a10-4014-9aa4-f7c7a0d540b5",
   "metadata": {},
   "source": [
    "# Защита персональных данных клиентов"
   ]
  },
  {
   "cell_type": "markdown",
   "id": "4b0fff73-9e34-4fe2-933d-20814788b48a",
   "metadata": {},
   "source": [
    "## Цель\n",
    "\n",
    "Защитить данные клиентов страховой компании «Хоть потоп». \n",
    "\n",
    "## Задачи\n",
    "\n",
    "1. Разработаем метод преобразования данных, чтобы по ним было сложно восстановить персональную информацию. \n",
    "1. Обосновать корректность его работы.\n",
    "\n",
    "Нужно защитить данные, чтобы при преобразовании качество моделей машинного обучения не ухудшилось. Подбирать наилучшую модель не требуется."
   ]
  },
  {
   "cell_type": "markdown",
   "id": "41950817-b5d5-4014-8f60-1f95d72982b9",
   "metadata": {},
   "source": [
    "## Загрузка необходимых библиотек и набора данных"
   ]
  },
  {
   "cell_type": "code",
   "execution_count": 1,
   "id": "3257ed8f-0a47-4ec3-8e63-86be9a4e5f2e",
   "metadata": {},
   "outputs": [],
   "source": [
    "import warnings\n",
    "\n",
    "import numpy as np\n",
    "import pandas as pd\n",
    "from sklearn.linear_model import LinearRegression\n",
    "from sklearn.metrics import r2_score\n",
    "from sklearn.model_selection import train_test_split"
   ]
  },
  {
   "cell_type": "code",
   "execution_count": 2,
   "id": "79b5d1d5-8daa-4053-9182-0ef81e124b77",
   "metadata": {},
   "outputs": [],
   "source": [
    "pd.set_option(\"display.precision\", 2)\n",
    "pd.set_option(\"display.max_columns\", 100)\n",
    "pd.options.mode.chained_assignment = None\n",
    "\n",
    "warnings.filterwarnings(\"ignore\")"
   ]
  },
  {
   "cell_type": "code",
   "execution_count": 3,
   "id": "25888139-bcd6-43c2-b6c6-6484c9ce383a",
   "metadata": {},
   "outputs": [],
   "source": [
    "try:\n",
    "    df = pd.read_csv(\"./insurance.csv\")\n",
    "except FileNotFoundError:\n",
    "    df = pd.read_csv(\"/datasets/insurance.csv\")"
   ]
  },
  {
   "cell_type": "code",
   "execution_count": 4,
   "id": "4b48e0f5-7e62-47dd-9442-442dd11abe07",
   "metadata": {},
   "outputs": [
    {
     "data": {
      "text/html": [
       "<div>\n",
       "<style scoped>\n",
       "    .dataframe tbody tr th:only-of-type {\n",
       "        vertical-align: middle;\n",
       "    }\n",
       "\n",
       "    .dataframe tbody tr th {\n",
       "        vertical-align: top;\n",
       "    }\n",
       "\n",
       "    .dataframe thead th {\n",
       "        text-align: right;\n",
       "    }\n",
       "</style>\n",
       "<table border=\"1\" class=\"dataframe\">\n",
       "  <thead>\n",
       "    <tr style=\"text-align: right;\">\n",
       "      <th></th>\n",
       "      <th>Пол</th>\n",
       "      <th>Возраст</th>\n",
       "      <th>Зарплата</th>\n",
       "      <th>Члены семьи</th>\n",
       "      <th>Страховые выплаты</th>\n",
       "    </tr>\n",
       "  </thead>\n",
       "  <tbody>\n",
       "    <tr>\n",
       "      <th>0</th>\n",
       "      <td>1</td>\n",
       "      <td>41.0</td>\n",
       "      <td>49600.0</td>\n",
       "      <td>1</td>\n",
       "      <td>0</td>\n",
       "    </tr>\n",
       "    <tr>\n",
       "      <th>1</th>\n",
       "      <td>0</td>\n",
       "      <td>46.0</td>\n",
       "      <td>38000.0</td>\n",
       "      <td>1</td>\n",
       "      <td>1</td>\n",
       "    </tr>\n",
       "    <tr>\n",
       "      <th>2</th>\n",
       "      <td>0</td>\n",
       "      <td>29.0</td>\n",
       "      <td>21000.0</td>\n",
       "      <td>0</td>\n",
       "      <td>0</td>\n",
       "    </tr>\n",
       "    <tr>\n",
       "      <th>3</th>\n",
       "      <td>0</td>\n",
       "      <td>21.0</td>\n",
       "      <td>41700.0</td>\n",
       "      <td>2</td>\n",
       "      <td>0</td>\n",
       "    </tr>\n",
       "    <tr>\n",
       "      <th>4</th>\n",
       "      <td>1</td>\n",
       "      <td>28.0</td>\n",
       "      <td>26100.0</td>\n",
       "      <td>0</td>\n",
       "      <td>0</td>\n",
       "    </tr>\n",
       "  </tbody>\n",
       "</table>\n",
       "</div>"
      ],
      "text/plain": [
       "   Пол  Возраст  Зарплата  Члены семьи  Страховые выплаты\n",
       "0    1     41.0   49600.0            1                  0\n",
       "1    0     46.0   38000.0            1                  1\n",
       "2    0     29.0   21000.0            0                  0\n",
       "3    0     21.0   41700.0            2                  0\n",
       "4    1     28.0   26100.0            0                  0"
      ]
     },
     "execution_count": 4,
     "metadata": {},
     "output_type": "execute_result"
    }
   ],
   "source": [
    "df.head()"
   ]
  },
  {
   "cell_type": "code",
   "execution_count": 5,
   "id": "d0bdddf7-3664-48a5-8003-7055a86f4da4",
   "metadata": {},
   "outputs": [
    {
     "name": "stdout",
     "output_type": "stream",
     "text": [
      "<class 'pandas.core.frame.DataFrame'>\n",
      "RangeIndex: 5000 entries, 0 to 4999\n",
      "Data columns (total 5 columns):\n",
      " #   Column             Non-Null Count  Dtype  \n",
      "---  ------             --------------  -----  \n",
      " 0   Пол                5000 non-null   int64  \n",
      " 1   Возраст            5000 non-null   float64\n",
      " 2   Зарплата           5000 non-null   float64\n",
      " 3   Члены семьи        5000 non-null   int64  \n",
      " 4   Страховые выплаты  5000 non-null   int64  \n",
      "dtypes: float64(2), int64(3)\n",
      "memory usage: 195.4 KB\n"
     ]
    }
   ],
   "source": [
    "df.info()"
   ]
  },
  {
   "cell_type": "code",
   "execution_count": 6,
   "id": "2db3344e-bc2c-4d17-aa3b-b342c736b3f4",
   "metadata": {},
   "outputs": [
    {
     "data": {
      "text/html": [
       "<div>\n",
       "<style scoped>\n",
       "    .dataframe tbody tr th:only-of-type {\n",
       "        vertical-align: middle;\n",
       "    }\n",
       "\n",
       "    .dataframe tbody tr th {\n",
       "        vertical-align: top;\n",
       "    }\n",
       "\n",
       "    .dataframe thead th {\n",
       "        text-align: right;\n",
       "    }\n",
       "</style>\n",
       "<table border=\"1\" class=\"dataframe\">\n",
       "  <thead>\n",
       "    <tr style=\"text-align: right;\">\n",
       "      <th></th>\n",
       "      <th>Пол</th>\n",
       "      <th>Возраст</th>\n",
       "      <th>Зарплата</th>\n",
       "      <th>Члены семьи</th>\n",
       "      <th>Страховые выплаты</th>\n",
       "    </tr>\n",
       "  </thead>\n",
       "  <tbody>\n",
       "    <tr>\n",
       "      <th>count</th>\n",
       "      <td>5000.0</td>\n",
       "      <td>5000.00</td>\n",
       "      <td>5000.00</td>\n",
       "      <td>5000.00</td>\n",
       "      <td>5000.00</td>\n",
       "    </tr>\n",
       "    <tr>\n",
       "      <th>mean</th>\n",
       "      <td>0.5</td>\n",
       "      <td>30.95</td>\n",
       "      <td>39916.36</td>\n",
       "      <td>1.19</td>\n",
       "      <td>0.15</td>\n",
       "    </tr>\n",
       "    <tr>\n",
       "      <th>std</th>\n",
       "      <td>0.5</td>\n",
       "      <td>8.44</td>\n",
       "      <td>9900.08</td>\n",
       "      <td>1.09</td>\n",
       "      <td>0.46</td>\n",
       "    </tr>\n",
       "    <tr>\n",
       "      <th>min</th>\n",
       "      <td>0.0</td>\n",
       "      <td>18.00</td>\n",
       "      <td>5300.00</td>\n",
       "      <td>0.00</td>\n",
       "      <td>0.00</td>\n",
       "    </tr>\n",
       "    <tr>\n",
       "      <th>25%</th>\n",
       "      <td>0.0</td>\n",
       "      <td>24.00</td>\n",
       "      <td>33300.00</td>\n",
       "      <td>0.00</td>\n",
       "      <td>0.00</td>\n",
       "    </tr>\n",
       "    <tr>\n",
       "      <th>50%</th>\n",
       "      <td>0.0</td>\n",
       "      <td>30.00</td>\n",
       "      <td>40200.00</td>\n",
       "      <td>1.00</td>\n",
       "      <td>0.00</td>\n",
       "    </tr>\n",
       "    <tr>\n",
       "      <th>75%</th>\n",
       "      <td>1.0</td>\n",
       "      <td>37.00</td>\n",
       "      <td>46600.00</td>\n",
       "      <td>2.00</td>\n",
       "      <td>0.00</td>\n",
       "    </tr>\n",
       "    <tr>\n",
       "      <th>max</th>\n",
       "      <td>1.0</td>\n",
       "      <td>65.00</td>\n",
       "      <td>79000.00</td>\n",
       "      <td>6.00</td>\n",
       "      <td>5.00</td>\n",
       "    </tr>\n",
       "  </tbody>\n",
       "</table>\n",
       "</div>"
      ],
      "text/plain": [
       "          Пол  Возраст  Зарплата  Члены семьи  Страховые выплаты\n",
       "count  5000.0  5000.00   5000.00      5000.00            5000.00\n",
       "mean      0.5    30.95  39916.36         1.19               0.15\n",
       "std       0.5     8.44   9900.08         1.09               0.46\n",
       "min       0.0    18.00   5300.00         0.00               0.00\n",
       "25%       0.0    24.00  33300.00         0.00               0.00\n",
       "50%       0.0    30.00  40200.00         1.00               0.00\n",
       "75%       1.0    37.00  46600.00         2.00               0.00\n",
       "max       1.0    65.00  79000.00         6.00               5.00"
      ]
     },
     "execution_count": 6,
     "metadata": {},
     "output_type": "execute_result"
    }
   ],
   "source": [
    "df.describe()"
   ]
  },
  {
   "cell_type": "code",
   "execution_count": 7,
   "id": "a94d6196-0c94-4b15-b306-dda3ee257c8b",
   "metadata": {},
   "outputs": [
    {
     "data": {
      "text/plain": [
       "Пол                  0\n",
       "Возраст              0\n",
       "Зарплата             0\n",
       "Члены семьи          0\n",
       "Страховые выплаты    0\n",
       "dtype: int64"
      ]
     },
     "execution_count": 7,
     "metadata": {},
     "output_type": "execute_result"
    }
   ],
   "source": [
    "df.isna().sum()"
   ]
  },
  {
   "cell_type": "markdown",
   "id": "69f2de96-f0ff-40ea-aa2d-03da5a521205",
   "metadata": {},
   "source": [
    "Данные загрузились корректно, типы полей корректны, явные пропуски отсутствуют."
   ]
  },
  {
   "cell_type": "markdown",
   "id": "54310ae3-84e5-4eb4-8d46-bfb5ff2ba81d",
   "metadata": {},
   "source": [
    "## Обфускация данных клиентов"
   ]
  },
  {
   "cell_type": "markdown",
   "id": "7a821b03-542d-45ba-bfe1-9f4fcb339b4f",
   "metadata": {},
   "source": [
    "Наша модель линейной регрессии выглядит как\n",
    "$$\n",
    "y = Xw \n",
    "$$\n",
    "\n",
    "Обучение модели сводится к минимизации невязки прогноза и истинных значений:\n",
    "\n",
    "$$\n",
    "w = \\arg\\min_w MSE(Xw, y)\n",
    "$$\n",
    "\n",
    "Формула линейной регрессии:\n",
    "\n",
    "$$\n",
    "w = (X^T X)^{-1} X^T y \\tag{1}\n",
    "$$\n",
    "\n",
    "Предсказания модели можно записать как \n",
    "$$\n",
    "a = Xw \\tag{2} \n",
    "$$"
   ]
  },
  {
   "cell_type": "markdown",
   "id": "d29f4592",
   "metadata": {},
   "source": [
    "где\n",
    "- $X$ — матрица признаков (нулевой столбец состоит из единиц)\n",
    "- $y$ — вектор целевого признака\n",
    "- $a$ — вектор прогнозов\n",
    "- $w$ — вектор весов линейной регрессии (нулевой элемент равен сдвигу)"
   ]
  },
  {
   "cell_type": "markdown",
   "id": "24a9f88d-a828-4af5-8701-294c5d931be5",
   "metadata": {},
   "source": [
    "В качестве варианта защиты данных можно умножить нашу матрицу признаком $X$ (те самые персональные данные) на обратимую матрицу $P$. \n",
    "\n",
    "В таком случае мы получим линейную регрессию вида \n",
    "\\begin{equation*}\n",
    "XPu=Py \\tag{3}\n",
    "\\end{equation*} что допустимо, в силу обратимости матрицы $P$. Для пущего единообразия можем переобозначить величины: $$XP=Z$$ так что получим \n",
    "$$\n",
    "Zu=a' \\tag{4}\n",
    "$$"
   ]
  },
  {
   "cell_type": "markdown",
   "id": "bc9d8d9c-e2ab-4fdb-8fbe-6f9df4bea5b8",
   "metadata": {},
   "source": [
    "Остаётся убедиться, что для новой матрицы признаков из $(4)$ выполняется условие $(1)$ "
   ]
  },
  {
   "cell_type": "markdown",
   "id": "2cce78cd-3b41-4b6c-adfb-e4255a81567e",
   "metadata": {},
   "source": [
    "Для $u$ из (4)\n",
    "\n",
    "$$ u = (Z^T Z)^{-1} Z^T y\\tag{5}$$\n",
    "\n",
    "Подставив (5) в (4) получим\n",
    "\n",
    "$$a'=Z(Z^T Z)^{-1} Z^T y$$\n",
    "\n",
    "После подставновки значения $Z$ получаем\n",
    "\n",
    "$$\n",
    "a' = XP ((XP)^T (XP))^{-1} (XP)^T y\n",
    "$$\n",
    "\n",
    "Воспользуемся тем, что \n",
    "\n",
    "$$(AB)^{T} = B^TA^T$$\n",
    "    $$(AB)^{-1} = B^{-1}A^{-1}$$\n",
    "    $$ AA^{-1} = E $$\n",
    "    \n",
    "Заметим, что \n",
    "\n",
    "$$\n",
    "((XP)^T XP)^{-1} = (P^T (X^T X) P)^{-1} = P^{-1} (X^T X)^{-1} (P^T)^{-1}\n",
    "$$\n",
    "\n",
    "Таким образом\n",
    "$$a'=XP P^{-1} (X^T X)^{-1} (P^T)^{-1} (XP)^T y = X \\left[P P^{-1}\\right] (X^T X)^{-1}\\left[(P^T)^{-1}P^T\\right] X^Ty$$\n",
    "\n",
    "Заметим, что $PP^{-1}=E$ и $\\left(P^T\\right)^{-1}P^T=E$\n",
    "\n",
    "Но это означает, что\n",
    "\n",
    "$$\n",
    "a' = X\\left( X^TX \\right)^{-1} X^T y = Xw = a\n",
    "$$\n",
    "\n",
    "Таким образом, мы получаем, что прогноз модели, обфусциорванной умножеением на обратимую матрицу совпадает с прогнозом исходной модели."
   ]
  },
  {
   "cell_type": "markdown",
   "id": "deaa7d92-92b2-4496-9dae-c0818ebfec53",
   "metadata": {},
   "source": [
    "Таким образом, мы показали, умножение матрицы признаков, содержащей персональные данные клиентов, приводит к \"сокрытию\" этих данных (делает неочевидной их интерпретацию), но, при этом, не ломает регрессию.  "
   ]
  },
  {
   "cell_type": "markdown",
   "id": "f6749199-5468-4805-a98b-f2f895a19d84",
   "metadata": {},
   "source": [
    "## Вычисление линейной регрессии на исходных и обфусцированных данных \n",
    "\n",
    "Первым делом обучим линейную регрессию на исходных данных"
   ]
  },
  {
   "cell_type": "code",
   "execution_count": 8,
   "id": "7fcac28e-a949-490d-8efb-a161af539020",
   "metadata": {},
   "outputs": [],
   "source": [
    "X = df.drop([\"Страховые выплаты\"], axis=1)\n",
    "y = df[\"Страховые выплаты\"]"
   ]
  },
  {
   "cell_type": "markdown",
   "id": "e45776d9-12f4-434c-af50-1f34c365e8fd",
   "metadata": {},
   "source": [
    "Поскольку у нас нет тестовой выборки, используем для этого часть исходных данных."
   ]
  },
  {
   "cell_type": "code",
   "execution_count": 9,
   "id": "a7fcde73-bb4b-4e6e-b9f6-fc3378272a31",
   "metadata": {},
   "outputs": [],
   "source": [
    "X_train, X_test, y_train, y_test = train_test_split(\n",
    "    X, y, test_size=0.25, random_state=42\n",
    ")"
   ]
  },
  {
   "cell_type": "code",
   "execution_count": 10,
   "id": "dc231aa9-d02b-4c88-a335-b6a1630df4dc",
   "metadata": {},
   "outputs": [],
   "source": [
    "regression = LinearRegression().fit(X_train, y_train)"
   ]
  },
  {
   "cell_type": "code",
   "execution_count": 11,
   "id": "926f5e52-f9f9-4739-ac68-17a7c7634d9c",
   "metadata": {},
   "outputs": [
    {
     "data": {
      "text/plain": [
       "'R2 score on clear personal date: 0.4255'"
      ]
     },
     "metadata": {},
     "output_type": "display_data"
    }
   ],
   "source": [
    "display(\n",
    "    f\"R2 score on clear personal date: {r2_score(y_test, regression.predict(X_test)):0.4f}\"\n",
    ")"
   ]
  },
  {
   "cell_type": "markdown",
   "id": "be077594-8aa7-4d35-af65-3c300cd9b00f",
   "metadata": {},
   "source": [
    "### Обфускация\n",
    "\n",
    "Теперь нам нужно сгенерировать обратимую матрицу, которую мы используем для \"шифрования\" данных. Исходная матрица $X$ содержит 4 признака, значит нам нужно построить квадратную матрицу $[4\\times 4]$\n",
    "\n",
    "\n",
    "Характеристическим признаком обратимой матрицы является ненулевой определитель, воспользуемся этим фактом. "
   ]
  },
  {
   "cell_type": "code",
   "execution_count": 12,
   "id": "122ceb83-053c-48db-9522-696bae6f126e",
   "metadata": {},
   "outputs": [],
   "source": [
    "while True:\n",
    "    M = np.random.random((4, 4))\n",
    "    if np.linalg.det(M) != 0:\n",
    "        break"
   ]
  },
  {
   "cell_type": "code",
   "execution_count": 13,
   "id": "25e144a5-04e9-44a6-9dec-8db9d577e81b",
   "metadata": {},
   "outputs": [
    {
     "data": {
      "text/plain": [
       "array([[0.87654886, 0.04632416, 0.16778134, 0.65677565],\n",
       "       [0.11955524, 0.70970385, 0.5195768 , 0.55386679],\n",
       "       [0.03619994, 0.19293082, 0.78169508, 0.06227338],\n",
       "       [0.42766442, 0.4393048 , 0.49531451, 0.01359199]])"
      ]
     },
     "execution_count": 13,
     "metadata": {},
     "output_type": "execute_result"
    }
   ],
   "source": [
    "M"
   ]
  },
  {
   "cell_type": "code",
   "execution_count": 14,
   "id": "0ea52217-bf57-4353-b2de-2a782335f586",
   "metadata": {},
   "outputs": [
    {
     "data": {
      "text/plain": [
       "-0.22288792157972032"
      ]
     },
     "execution_count": 14,
     "metadata": {},
     "output_type": "execute_result"
    }
   ],
   "source": [
    "np.linalg.det(M)"
   ]
  },
  {
   "cell_type": "markdown",
   "id": "5851f276-11c6-491d-a729-86f31e20e24a",
   "metadata": {},
   "source": [
    "Построим матрицу обфусцированных данных и обучим на ней линейную регрессию"
   ]
  },
  {
   "cell_type": "code",
   "execution_count": 15,
   "id": "20fbf3ea-1c14-4d37-bcb8-845f0aa22e26",
   "metadata": {},
   "outputs": [],
   "source": [
    "Xob_train = np.dot(X_train, M)\n",
    "Xob_test = np.dot(X_test, M)"
   ]
  },
  {
   "cell_type": "code",
   "execution_count": 16,
   "id": "747bdee4-2429-49fe-b322-7ef65714c363",
   "metadata": {},
   "outputs": [
    {
     "data": {
      "text/plain": [
       "((3750, 4), (3750, 4))"
      ]
     },
     "execution_count": 16,
     "metadata": {},
     "output_type": "execute_result"
    }
   ],
   "source": [
    "Xob_train.shape, X_train.shape"
   ]
  },
  {
   "cell_type": "code",
   "execution_count": 17,
   "id": "b432b57b-0c4e-40de-a353-76492a7980bc",
   "metadata": {},
   "outputs": [
    {
     "data": {
      "text/plain": [
       "((1250, 4), (1250, 4))"
      ]
     },
     "execution_count": 17,
     "metadata": {},
     "output_type": "execute_result"
    }
   ],
   "source": [
    "Xob_test.shape, X_test.shape"
   ]
  },
  {
   "cell_type": "code",
   "execution_count": 18,
   "id": "77daf6d8-004e-4ad3-bf9d-38c0dd6aae35",
   "metadata": {},
   "outputs": [
    {
     "data": {
      "text/html": [
       "<div>\n",
       "<style scoped>\n",
       "    .dataframe tbody tr th:only-of-type {\n",
       "        vertical-align: middle;\n",
       "    }\n",
       "\n",
       "    .dataframe tbody tr th {\n",
       "        vertical-align: top;\n",
       "    }\n",
       "\n",
       "    .dataframe thead th {\n",
       "        text-align: right;\n",
       "    }\n",
       "</style>\n",
       "<table border=\"1\" class=\"dataframe\">\n",
       "  <thead>\n",
       "    <tr style=\"text-align: right;\">\n",
       "      <th></th>\n",
       "      <th>Пол</th>\n",
       "      <th>Возраст</th>\n",
       "      <th>Зарплата</th>\n",
       "      <th>Члены семьи</th>\n",
       "    </tr>\n",
       "  </thead>\n",
       "  <tbody>\n",
       "    <tr>\n",
       "      <th>0</th>\n",
       "      <td>1459.30</td>\n",
       "      <td>7779.95</td>\n",
       "      <td>31441.81</td>\n",
       "      <td>2522.22</td>\n",
       "    </tr>\n",
       "    <tr>\n",
       "      <th>1</th>\n",
       "      <td>1208.64</td>\n",
       "      <td>6441.36</td>\n",
       "      <td>26042.89</td>\n",
       "      <td>2086.46</td>\n",
       "    </tr>\n",
       "    <tr>\n",
       "      <th>2</th>\n",
       "      <td>1582.38</td>\n",
       "      <td>8435.91</td>\n",
       "      <td>34099.57</td>\n",
       "      <td>2733.95</td>\n",
       "    </tr>\n",
       "    <tr>\n",
       "      <th>3</th>\n",
       "      <td>1258.13</td>\n",
       "      <td>6701.44</td>\n",
       "      <td>27066.02</td>\n",
       "      <td>2175.27</td>\n",
       "    </tr>\n",
       "    <tr>\n",
       "      <th>4</th>\n",
       "      <td>1488.93</td>\n",
       "      <td>7936.15</td>\n",
       "      <td>32068.70</td>\n",
       "      <td>2573.16</td>\n",
       "    </tr>\n",
       "  </tbody>\n",
       "</table>\n",
       "</div>"
      ],
      "text/plain": [
       "       Пол  Возраст  Зарплата  Члены семьи\n",
       "0  1459.30  7779.95  31441.81      2522.22\n",
       "1  1208.64  6441.36  26042.89      2086.46\n",
       "2  1582.38  8435.91  34099.57      2733.95\n",
       "3  1258.13  6701.44  27066.02      2175.27\n",
       "4  1488.93  7936.15  32068.70      2573.16"
      ]
     },
     "execution_count": 18,
     "metadata": {},
     "output_type": "execute_result"
    }
   ],
   "source": [
    "pd.DataFrame(data=Xob_train, columns=X_train.columns).head()"
   ]
  },
  {
   "cell_type": "markdown",
   "id": "63dc62b1-96e0-4a49-ae00-de793c6d8af4",
   "metadata": {},
   "source": [
    "Уже по первым пяти строкам данных видно, что интерпретировать значения из новой таблицы будет не просто."
   ]
  },
  {
   "cell_type": "code",
   "execution_count": 19,
   "id": "dab4a651-e015-4c2d-8544-482190978b01",
   "metadata": {},
   "outputs": [],
   "source": [
    "regression_ob = LinearRegression().fit(Xob_train, y_train)"
   ]
  },
  {
   "cell_type": "code",
   "execution_count": 20,
   "id": "fb0935bd-a157-4d9e-9c0a-f8cc8f9096c1",
   "metadata": {},
   "outputs": [
    {
     "data": {
      "text/plain": [
       "'R2 score on clear personal date: 0.4255'"
      ]
     },
     "metadata": {},
     "output_type": "display_data"
    },
    {
     "data": {
      "text/plain": [
       "'R2 score on obfuscated personal date: 0.4255'"
      ]
     },
     "metadata": {},
     "output_type": "display_data"
    },
    {
     "data": {
      "text/plain": [
       "'R2 score difference: 1.2212453270876722e-15'"
      ]
     },
     "metadata": {},
     "output_type": "display_data"
    }
   ],
   "source": [
    "display(\n",
    "    f\"R2 score on clear personal date: {r2_score(y_test, regression.predict(X_test)):0.4f}\"\n",
    ")\n",
    "display(\n",
    "    f\"R2 score on obfuscated personal date: {r2_score(y_test, regression_ob.predict(Xob_test)):0.4f}\"\n",
    ")\n",
    "display(\n",
    "    f\"R2 score difference: {r2_score(y_test, regression.predict(X_test))-r2_score(y_test, regression_ob.predict(Xob_test))}\"\n",
    ")"
   ]
  },
  {
   "cell_type": "markdown",
   "id": "3e3db4a0-3721-44ab-bc01-9318b0dfbd56",
   "metadata": {},
   "source": [
    "Как видим, точность регрессии в процессе обфускации не пострадала: разница между мерами R2 в 13м знаке после запятой соответсвует погрешности вычислений. "
   ]
  },
  {
   "cell_type": "markdown",
   "id": "a9cdabc6-5ef8-4d8a-b979-df41bb7e3f1f",
   "metadata": {},
   "source": [
    "# Вывод\n",
    "\n",
    "Мы смогли создать простой и действенный способ защиты персональных данных. Используя это простой метод мы можем без риска утечки ПД передавать массивы данных о клиентах и проводить необходимые вычисления (по крайней мере на линейных моделях), в том числе на сторонних вычислительных ресурсах. "
   ]
  }
 ],
 "metadata": {
  "ExecuteTimeLog": [
   {
    "duration": 241,
    "start_time": "2022-04-03T19:18:38.419Z"
   },
   {
    "duration": 1908,
    "start_time": "2022-04-09T18:42:53.479Z"
   },
   {
    "duration": 4,
    "start_time": "2022-04-09T18:42:56.440Z"
   },
   {
    "duration": 132,
    "start_time": "2022-04-09T18:42:56.696Z"
   },
   {
    "duration": 23,
    "start_time": "2022-04-09T18:42:58.308Z"
   },
   {
    "duration": 16,
    "start_time": "2022-04-09T18:42:58.486Z"
   },
   {
    "duration": 33,
    "start_time": "2022-04-09T18:42:58.654Z"
   },
   {
    "duration": 5,
    "start_time": "2022-04-09T18:43:03.470Z"
   },
   {
    "duration": 8,
    "start_time": "2022-04-09T18:43:03.862Z"
   },
   {
    "duration": 8,
    "start_time": "2022-04-09T18:43:05.456Z"
   },
   {
    "duration": 6,
    "start_time": "2022-04-09T18:43:14.260Z"
   },
   {
    "duration": 11,
    "start_time": "2022-04-09T18:43:32.716Z"
   },
   {
    "duration": 12,
    "start_time": "2022-04-09T18:43:38.823Z"
   },
   {
    "duration": 7,
    "start_time": "2022-04-09T18:44:05.372Z"
   },
   {
    "duration": 14,
    "start_time": "2022-04-09T18:44:08.536Z"
   },
   {
    "duration": 11,
    "start_time": "2022-04-09T18:45:24.627Z"
   },
   {
    "duration": 2089,
    "start_time": "2022-04-17T09:38:17.586Z"
   },
   {
    "duration": 6,
    "start_time": "2022-04-17T09:38:19.678Z"
   },
   {
    "duration": 102,
    "start_time": "2022-04-17T09:38:19.686Z"
   },
   {
    "duration": 23,
    "start_time": "2022-04-17T09:38:19.791Z"
   },
   {
    "duration": 20,
    "start_time": "2022-04-17T09:38:19.817Z"
   },
   {
    "duration": 70,
    "start_time": "2022-04-17T09:38:19.839Z"
   },
   {
    "duration": 11,
    "start_time": "2022-04-17T09:38:19.912Z"
   },
   {
    "duration": 182,
    "start_time": "2022-04-17T09:38:19.925Z"
   },
   {
    "duration": 0,
    "start_time": "2022-04-17T09:38:20.110Z"
   },
   {
    "duration": 0,
    "start_time": "2022-04-17T09:38:20.112Z"
   },
   {
    "duration": 0,
    "start_time": "2022-04-17T09:38:20.113Z"
   },
   {
    "duration": 0,
    "start_time": "2022-04-17T09:38:20.115Z"
   },
   {
    "duration": 0,
    "start_time": "2022-04-17T09:38:20.117Z"
   },
   {
    "duration": 0,
    "start_time": "2022-04-17T09:38:20.119Z"
   },
   {
    "duration": 0,
    "start_time": "2022-04-17T09:38:20.120Z"
   },
   {
    "duration": 0,
    "start_time": "2022-04-17T09:38:20.122Z"
   },
   {
    "duration": 0,
    "start_time": "2022-04-17T09:38:20.123Z"
   },
   {
    "duration": 0,
    "start_time": "2022-04-17T09:38:20.125Z"
   },
   {
    "duration": 0,
    "start_time": "2022-04-17T09:38:20.126Z"
   },
   {
    "duration": 0,
    "start_time": "2022-04-17T09:38:20.129Z"
   },
   {
    "duration": 0,
    "start_time": "2022-04-17T09:38:20.130Z"
   },
   {
    "duration": 7,
    "start_time": "2022-04-17T09:42:30.796Z"
   },
   {
    "duration": 14,
    "start_time": "2022-04-17T09:42:30.806Z"
   },
   {
    "duration": 10,
    "start_time": "2022-04-17T09:42:30.823Z"
   },
   {
    "duration": 16,
    "start_time": "2022-04-17T09:42:30.835Z"
   },
   {
    "duration": 27,
    "start_time": "2022-04-17T09:42:30.854Z"
   },
   {
    "duration": 7,
    "start_time": "2022-04-17T09:42:30.884Z"
   },
   {
    "duration": 22,
    "start_time": "2022-04-17T09:42:30.894Z"
   },
   {
    "duration": 21,
    "start_time": "2022-04-17T09:42:30.918Z"
   },
   {
    "duration": 13,
    "start_time": "2022-04-17T09:42:30.942Z"
   },
   {
    "duration": 10,
    "start_time": "2022-04-17T09:42:30.957Z"
   },
   {
    "duration": 16,
    "start_time": "2022-04-17T09:42:30.970Z"
   },
   {
    "duration": 25,
    "start_time": "2022-04-17T09:42:30.988Z"
   },
   {
    "duration": 23,
    "start_time": "2022-04-17T09:42:31.015Z"
   },
   {
    "duration": 1235,
    "start_time": "2022-04-18T05:39:52.702Z"
   },
   {
    "duration": 4,
    "start_time": "2022-04-18T05:39:53.938Z"
   },
   {
    "duration": 82,
    "start_time": "2022-04-18T05:39:53.944Z"
   },
   {
    "duration": 18,
    "start_time": "2022-04-18T05:39:54.028Z"
   },
   {
    "duration": 12,
    "start_time": "2022-04-18T05:39:54.048Z"
   },
   {
    "duration": 27,
    "start_time": "2022-04-18T05:39:54.062Z"
   },
   {
    "duration": 7,
    "start_time": "2022-04-18T05:39:54.091Z"
   },
   {
    "duration": 6,
    "start_time": "2022-04-18T05:39:54.100Z"
   },
   {
    "duration": 13,
    "start_time": "2022-04-18T05:39:54.108Z"
   },
   {
    "duration": 7,
    "start_time": "2022-04-18T05:39:54.125Z"
   },
   {
    "duration": 14,
    "start_time": "2022-04-18T05:39:54.134Z"
   },
   {
    "duration": 5,
    "start_time": "2022-04-18T05:39:54.150Z"
   },
   {
    "duration": 6,
    "start_time": "2022-04-18T05:39:54.157Z"
   },
   {
    "duration": 5,
    "start_time": "2022-04-18T05:39:54.165Z"
   },
   {
    "duration": 4,
    "start_time": "2022-04-18T05:39:54.194Z"
   },
   {
    "duration": 7,
    "start_time": "2022-04-18T05:39:54.200Z"
   },
   {
    "duration": 11,
    "start_time": "2022-04-18T05:39:54.209Z"
   },
   {
    "duration": 13,
    "start_time": "2022-04-18T05:39:54.222Z"
   },
   {
    "duration": 8,
    "start_time": "2022-04-18T05:39:54.237Z"
   },
   {
    "duration": 47,
    "start_time": "2022-04-18T05:39:54.247Z"
   }
  ],
  "kernelspec": {
   "display_name": "Python 3 (ipykernel)",
   "language": "python",
   "name": "python3"
  },
  "language_info": {
   "codemirror_mode": {
    "name": "ipython",
    "version": 3
   },
   "file_extension": ".py",
   "mimetype": "text/x-python",
   "name": "python",
   "nbconvert_exporter": "python",
   "pygments_lexer": "ipython3",
   "version": "3.10.6"
  },
  "toc": {
   "base_numbering": 1,
   "nav_menu": {},
   "number_sections": true,
   "sideBar": true,
   "skip_h1_title": true,
   "title_cell": "Table of Contents",
   "title_sidebar": "Contents",
   "toc_cell": false,
   "toc_position": {},
   "toc_section_display": true,
   "toc_window_display": false
  }
 },
 "nbformat": 4,
 "nbformat_minor": 5
}
