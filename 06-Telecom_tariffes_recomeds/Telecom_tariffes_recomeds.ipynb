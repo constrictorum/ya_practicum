{
 "cells": [
  {
   "cell_type": "markdown",
   "id": "1ef20ed7",
   "metadata": {},
   "source": [
    "# Проект \"тарифные рекомендации\"\n",
    "\n",
    "Оператор мобильной связи «Мегалайн» выяснил: многие клиенты пользуются архивными\n",
    "тарифами. Они хотят построить систему, способную проанализировать поведение клиентов и\n",
    "предложить пользователям новый тариф: «Смарт» или «Ультра»."
   ]
  },
  {
   "cell_type": "markdown",
   "id": "9cd9a167",
   "metadata": {},
   "source": [
    "## Цель\n",
    "\n",
    "Построить модель для задачи классификации, которая будет выберать подходящий тариф на основе поведения пользователя. Минимальная допустимая точность прогноза &mdash; 75%."
   ]
  },
  {
   "cell_type": "markdown",
   "id": "a4b92a8f",
   "metadata": {},
   "source": [
    "## Задачи\n",
    "\n",
    "Необходимо \n",
    "1. построить модели логистической регрессии, решающего дерева и случайного леса;\n",
    "2. подобрать для моделей гиперпараметры, обеспечивающие наилучшую точность на тестовых данных;\n",
    "3. выбрать лучшую из моделей по показателю `accuracy`."
   ]
  },
  {
   "cell_type": "markdown",
   "id": "6185fc06",
   "metadata": {},
   "source": [
    "## Описание данных\n",
    "\n",
    "Имеется файл с информацией о поведении клиентов. Каждая строка соответвует одному клиенту:\n",
    "- сalls — количество звонков,\n",
    "- minutes — суммарная длительность звонков в минутах,\n",
    "- messages — количество sms-сообщений,\n",
    "- mb_used — израсходованный интернет-трафик в Мб,\n",
    "- is_ultra — каким тарифом пользовался в течение месяца («Ультра» — 1, «Смарт» — 0)."
   ]
  },
  {
   "cell_type": "markdown",
   "id": "369f9774",
   "metadata": {},
   "source": [
    "## Загрузка необходимых библиотек и данных"
   ]
  },
  {
   "cell_type": "code",
   "execution_count": 1,
   "id": "75bdc416",
   "metadata": {},
   "outputs": [],
   "source": [
    "import pandas as pd\n",
    "from sklearn.ensemble import RandomForestClassifier\n",
    "from sklearn.linear_model import LogisticRegression\n",
    "from sklearn.model_selection import GridSearchCV, train_test_split\n",
    "from sklearn.tree import DecisionTreeClassifier, export_graphviz"
   ]
  },
  {
   "cell_type": "code",
   "execution_count": 2,
   "id": "fde9bc08",
   "metadata": {},
   "outputs": [],
   "source": [
    "import warnings\n",
    "\n",
    "warnings.simplefilter(\"ignore\")"
   ]
  },
  {
   "cell_type": "code",
   "execution_count": 3,
   "id": "8dd031c9",
   "metadata": {},
   "outputs": [],
   "source": [
    "from graphviz import Source\n",
    "from IPython.display import HTML, SVG, display"
   ]
  },
  {
   "cell_type": "code",
   "execution_count": 4,
   "id": "24a64bc0",
   "metadata": {},
   "outputs": [],
   "source": [
    "style = \"<style>svg{width:70%!important; height: 70%!important;}</style>\"\n",
    "HTML(style);"
   ]
  },
  {
   "cell_type": "code",
   "execution_count": 5,
   "id": "ef7ef459",
   "metadata": {
    "tags": []
   },
   "outputs": [],
   "source": [
    "pd.set_option(\"display.precision\", 2)\n",
    "pd.set_option(\"display.max_columns\", 100)"
   ]
  },
  {
   "cell_type": "code",
   "execution_count": 6,
   "id": "9f600126",
   "metadata": {},
   "outputs": [],
   "source": [
    "try:\n",
    "    df = pd.read_csv(\"users_behavior.csv\")\n",
    "except FileNotFoundError:\n",
    "    df = pd.read_csv(\"/datasets/users_behavior.csv\")"
   ]
  },
  {
   "cell_type": "markdown",
   "id": "ad786afd",
   "metadata": {},
   "source": [
    "Убедимся, что данные прочитаны адекватно:"
   ]
  },
  {
   "cell_type": "code",
   "execution_count": 7,
   "id": "410535e0",
   "metadata": {},
   "outputs": [
    {
     "data": {
      "text/html": [
       "<div>\n",
       "<style scoped>\n",
       "    .dataframe tbody tr th:only-of-type {\n",
       "        vertical-align: middle;\n",
       "    }\n",
       "\n",
       "    .dataframe tbody tr th {\n",
       "        vertical-align: top;\n",
       "    }\n",
       "\n",
       "    .dataframe thead th {\n",
       "        text-align: right;\n",
       "    }\n",
       "</style>\n",
       "<table border=\"1\" class=\"dataframe\">\n",
       "  <thead>\n",
       "    <tr style=\"text-align: right;\">\n",
       "      <th></th>\n",
       "      <th>calls</th>\n",
       "      <th>minutes</th>\n",
       "      <th>messages</th>\n",
       "      <th>mb_used</th>\n",
       "      <th>is_ultra</th>\n",
       "    </tr>\n",
       "  </thead>\n",
       "  <tbody>\n",
       "    <tr>\n",
       "      <th>0</th>\n",
       "      <td>40.0</td>\n",
       "      <td>311.90</td>\n",
       "      <td>83.0</td>\n",
       "      <td>19915.42</td>\n",
       "      <td>0</td>\n",
       "    </tr>\n",
       "    <tr>\n",
       "      <th>1</th>\n",
       "      <td>85.0</td>\n",
       "      <td>516.75</td>\n",
       "      <td>56.0</td>\n",
       "      <td>22696.96</td>\n",
       "      <td>0</td>\n",
       "    </tr>\n",
       "    <tr>\n",
       "      <th>2</th>\n",
       "      <td>77.0</td>\n",
       "      <td>467.66</td>\n",
       "      <td>86.0</td>\n",
       "      <td>21060.45</td>\n",
       "      <td>0</td>\n",
       "    </tr>\n",
       "    <tr>\n",
       "      <th>3</th>\n",
       "      <td>106.0</td>\n",
       "      <td>745.53</td>\n",
       "      <td>81.0</td>\n",
       "      <td>8437.39</td>\n",
       "      <td>1</td>\n",
       "    </tr>\n",
       "    <tr>\n",
       "      <th>4</th>\n",
       "      <td>66.0</td>\n",
       "      <td>418.74</td>\n",
       "      <td>1.0</td>\n",
       "      <td>14502.75</td>\n",
       "      <td>0</td>\n",
       "    </tr>\n",
       "  </tbody>\n",
       "</table>\n",
       "</div>"
      ],
      "text/plain": [
       "   calls  minutes  messages   mb_used  is_ultra\n",
       "0   40.0   311.90      83.0  19915.42         0\n",
       "1   85.0   516.75      56.0  22696.96         0\n",
       "2   77.0   467.66      86.0  21060.45         0\n",
       "3  106.0   745.53      81.0   8437.39         1\n",
       "4   66.0   418.74       1.0  14502.75         0"
      ]
     },
     "execution_count": 7,
     "metadata": {},
     "output_type": "execute_result"
    }
   ],
   "source": [
    "df.head()"
   ]
  },
  {
   "cell_type": "code",
   "execution_count": 8,
   "id": "fdada15f",
   "metadata": {},
   "outputs": [
    {
     "name": "stdout",
     "output_type": "stream",
     "text": [
      "<class 'pandas.core.frame.DataFrame'>\n",
      "RangeIndex: 3214 entries, 0 to 3213\n",
      "Data columns (total 5 columns):\n",
      " #   Column    Non-Null Count  Dtype  \n",
      "---  ------    --------------  -----  \n",
      " 0   calls     3214 non-null   float64\n",
      " 1   minutes   3214 non-null   float64\n",
      " 2   messages  3214 non-null   float64\n",
      " 3   mb_used   3214 non-null   float64\n",
      " 4   is_ultra  3214 non-null   int64  \n",
      "dtypes: float64(4), int64(1)\n",
      "memory usage: 125.7 KB\n"
     ]
    }
   ],
   "source": [
    "df.info()"
   ]
  },
  {
   "cell_type": "markdown",
   "id": "f20c1983",
   "metadata": {},
   "source": [
    "Видно, что даннные прочитатаны правильно, пропусков нет, типы параметров релевантны данным. "
   ]
  },
  {
   "cell_type": "markdown",
   "id": "475ad828",
   "metadata": {},
   "source": [
    "## Подготовка данных"
   ]
  },
  {
   "cell_type": "markdown",
   "id": "7c48775a",
   "metadata": {},
   "source": [
    "Сразу же отделим признаки от целевого показателя:"
   ]
  },
  {
   "cell_type": "code",
   "execution_count": 9,
   "id": "b0afd4c1",
   "metadata": {},
   "outputs": [],
   "source": [
    "X = df.drop([\"is_ultra\"], axis=1)\n",
    "y = df[\"is_ultra\"]"
   ]
  },
  {
   "cell_type": "markdown",
   "id": "4222093b",
   "metadata": {},
   "source": [
    "Далее отделим тестовую выборку, выделив под тестовый набор 25% первоначальной выборки. 800 наблюдений это не очень много, но и первоначальная выборка у нас не очень велика. Выборка для исследований содержит примерно 2400 наблюдений"
   ]
  },
  {
   "cell_type": "code",
   "execution_count": 10,
   "id": "29abea2d",
   "metadata": {},
   "outputs": [],
   "source": [
    "X_train, X_test, y_train, y_test = train_test_split(\n",
    "    X, y, test_size=0.25, random_state=42\n",
    ")"
   ]
  },
  {
   "cell_type": "markdown",
   "id": "d205c971",
   "metadata": {},
   "source": [
    "## Обучение моделей"
   ]
  },
  {
   "cell_type": "markdown",
   "id": "28cf0259",
   "metadata": {},
   "source": [
    "### Логистическая регрессия"
   ]
  },
  {
   "cell_type": "markdown",
   "id": "e90a8c1b",
   "metadata": {},
   "source": [
    "Начнём с самой простой модели &mdash; логистической регрессии"
   ]
  },
  {
   "cell_type": "code",
   "execution_count": 11,
   "id": "ff0abe89",
   "metadata": {},
   "outputs": [
    {
     "data": {
      "text/plain": [
       "0.7114427860696517"
      ]
     },
     "execution_count": 11,
     "metadata": {},
     "output_type": "execute_result"
    }
   ],
   "source": [
    "lr_model = LogisticRegression(random_state=42, n_jobs=8, max_iter=100,).fit(\n",
    "    X_train,\n",
    "    y_train,\n",
    ")\n",
    "lr_model.score(X_test, y_test)"
   ]
  },
  {
   "cell_type": "markdown",
   "id": "95d36666",
   "metadata": {},
   "source": [
    "Видно, что с настройками по умолчанию точность не дотягивает до минимально необходимой. Однако, выбрав дпугой решатель, точность удаётся поднять "
   ]
  },
  {
   "cell_type": "code",
   "execution_count": 12,
   "id": "e4e0278c",
   "metadata": {},
   "outputs": [
    {
     "name": "stdout",
     "output_type": "stream",
     "text": [
      "CPU times: user 6.89 ms, sys: 0 ns, total: 6.89 ms\n",
      "Wall time: 530 ms\n"
     ]
    }
   ],
   "source": [
    "%%time\n",
    "lr_model = LogisticRegression(random_state=42, n_jobs=8, solver=\"newton-cg\").fit(\n",
    "    X_train, y_train\n",
    ")"
   ]
  },
  {
   "cell_type": "code",
   "execution_count": 25,
   "id": "5ec66e44",
   "metadata": {},
   "outputs": [
    {
     "name": "stdout",
     "output_type": "stream",
     "text": [
      "CPU times: user 2.55 ms, sys: 420 µs, total: 2.97 ms\n",
      "Wall time: 2.22 ms\n"
     ]
    },
    {
     "data": {
      "text/plain": [
       "0.7549751243781094"
      ]
     },
     "execution_count": 25,
     "metadata": {},
     "output_type": "execute_result"
    },
    {
     "name": "stderr",
     "output_type": "stream",
     "text": [
      "/home/sam/.local/share/virtualenvs/00_Praktikum-W4BAQCOP/lib/python3.8/site-packages/scipy/optimize/linesearch.py:478: LineSearchWarning: The line search algorithm did not converge\n",
      "  warn('The line search algorithm did not converge', LineSearchWarning)\n",
      "/home/sam/.local/share/virtualenvs/00_Praktikum-W4BAQCOP/lib/python3.8/site-packages/scipy/optimize/linesearch.py:327: LineSearchWarning: The line search algorithm did not converge\n",
      "  warn('The line search algorithm did not converge', LineSearchWarning)\n"
     ]
    }
   ],
   "source": [
    "%%time\n",
    "lr_model.score(X_test, y_test)"
   ]
  },
  {
   "cell_type": "markdown",
   "id": "d2569d06",
   "metadata": {},
   "source": [
    "Теперь точность предсказания логиситческой регрессии отвечает целевым показателям точности, хотя и по самой грани. Скорее всего на новых данных, хоть немного отличающихся от тренеровочной выборки, точность предсказания снизится и упадёт ниже целевых 75%."
   ]
  },
  {
   "cell_type": "markdown",
   "id": "0c17ed2a",
   "metadata": {},
   "source": [
    "#### Выводы\n",
    "\n",
    "Путём подбора гиперпараметра `solver` (решатель) удалось добиться точности предсказания на тестовой выборке на уровне 75.5%, что формально удовлетворяет требованиям. Но превышение порога настолько невилико, что вряд ли будет устойчивым: малейшие изменения во входных данных, скорее всего, снизит показатель `accuracy` ниже порогового значения. "
   ]
  },
  {
   "cell_type": "markdown",
   "id": "86258c1d",
   "metadata": {},
   "source": [
    "### Решающее дерево\n",
    "\n",
    "Следующая сравнительно простая модель &mdash; решающее дерево. Эта модель уже имеет достаточно большое количество гиперпараметров, перебор которых может заметно влиять на качество обучения и точность прогнозов. Для автоматизации подбора гиперпараметров воспользуемся кросс-валидацией с перебором по сетке гиперпараметров. Наибольший вклад в поведение дерева даёт его максимальная глубина, её и будем варьировать:"
   ]
  },
  {
   "cell_type": "code",
   "execution_count": 14,
   "id": "a1a212c3",
   "metadata": {},
   "outputs": [
    {
     "data": {
      "text/plain": [
       "0.787966804979253"
      ]
     },
     "execution_count": 14,
     "metadata": {},
     "output_type": "execute_result"
    }
   ],
   "source": [
    "dt_gs = GridSearchCV(\n",
    "    DecisionTreeClassifier(random_state=42),\n",
    "    param_grid={\"max_depth\": range(2, 10 + 1)},\n",
    "    n_jobs=8,\n",
    "    cv=5,\n",
    ").fit(X_train, y_train)\n",
    "dt_gs.best_score_"
   ]
  },
  {
   "cell_type": "code",
   "execution_count": 15,
   "id": "5f609e55",
   "metadata": {},
   "outputs": [
    {
     "data": {
      "text/plain": [
       "DecisionTreeClassifier(max_depth=3, random_state=42)"
      ]
     },
     "execution_count": 15,
     "metadata": {},
     "output_type": "execute_result"
    }
   ],
   "source": [
    "dt_gs.best_estimator_"
   ]
  },
  {
   "cell_type": "code",
   "execution_count": 16,
   "id": "7bb422c5",
   "metadata": {},
   "outputs": [
    {
     "name": "stdout",
     "output_type": "stream",
     "text": [
      "CPU times: user 6.56 ms, sys: 988 µs, total: 7.55 ms\n",
      "Wall time: 7.12 ms\n"
     ]
    }
   ],
   "source": [
    "%%time\n",
    "dt_model = DecisionTreeClassifier(max_depth=3, random_state=42).fit(X_train, y_train)"
   ]
  },
  {
   "cell_type": "code",
   "execution_count": 24,
   "id": "dd8b4930",
   "metadata": {},
   "outputs": [
    {
     "name": "stdout",
     "output_type": "stream",
     "text": [
      "CPU times: user 4.18 ms, sys: 50 µs, total: 4.23 ms\n",
      "Wall time: 3.03 ms\n"
     ]
    },
    {
     "data": {
      "text/plain": [
       "0.804726368159204"
      ]
     },
     "execution_count": 24,
     "metadata": {},
     "output_type": "execute_result"
    }
   ],
   "source": [
    "%%time\n",
    "dt_model.score(X_test, y_test)"
   ]
  },
  {
   "cell_type": "markdown",
   "id": "569fed3e",
   "metadata": {},
   "source": [
    "Даже с минимальным тюнингом небольшое дерево с глубиной 3 уверенно вписывается в требования по точности и превосходит по этому показателю логистическую регрессию. То, что показатель `accuracy`, полученный на кросс-валидации не снизился (а даже немного вырос) с переходом к тостовой выборке, указывает на то, что дерево не переобучилось. Интересно, что обучается такое короткое решающее дерево обучается почти также быстро как логистическая регрессия.\n",
    "\n",
    "Замечательным свойством решающего дерева является его человекопонятность. Такое небольшое дерево даже можно легко визуализировать:"
   ]
  },
  {
   "cell_type": "code",
   "execution_count": 18,
   "id": "865d80fe",
   "metadata": {},
   "outputs": [
    {
     "data": {
      "image/svg+xml": [
       "<svg xmlns=\"http://www.w3.org/2000/svg\" xmlns:xlink=\"http://www.w3.org/1999/xlink\" width=\"962pt\" height=\"433pt\" viewBox=\"0.00 0.00 961.50 433.00\">\n",
       "<g id=\"graph0\" class=\"graph\" transform=\"scale(1 1) rotate(0) translate(4 429)\">\n",
       "<title>Tree</title>\n",
       "<polygon fill=\"white\" stroke=\"transparent\" points=\"-4,4 -4,-429 957.5,-429 957.5,4 -4,4\"/>\n",
       "<!-- 0 -->\n",
       "<g id=\"node1\" class=\"node\">\n",
       "<title>0</title>\n",
       "<polygon fill=\"#f1b992\" stroke=\"black\" points=\"545.5,-425 417.5,-425 417.5,-342 545.5,-342 545.5,-425\"/>\n",
       "<text text-anchor=\"middle\" x=\"481.5\" y=\"-409.8\" font-family=\"Times,serif\" font-size=\"14.00\">minutes &lt;= 732.175</text>\n",
       "<text text-anchor=\"middle\" x=\"481.5\" y=\"-394.8\" font-family=\"Times,serif\" font-size=\"14.00\">gini = 0.427</text>\n",
       "<text text-anchor=\"middle\" x=\"481.5\" y=\"-379.8\" font-family=\"Times,serif\" font-size=\"14.00\">samples = 2410</text>\n",
       "<text text-anchor=\"middle\" x=\"481.5\" y=\"-364.8\" font-family=\"Times,serif\" font-size=\"14.00\">value = [1664, 746]</text>\n",
       "<text text-anchor=\"middle\" x=\"481.5\" y=\"-349.8\" font-family=\"Times,serif\" font-size=\"14.00\">class = smart</text>\n",
       "</g>\n",
       "<!-- 1 -->\n",
       "<g id=\"node2\" class=\"node\">\n",
       "<title>1</title>\n",
       "<polygon fill=\"#eeac7d\" stroke=\"black\" points=\"474.5,-306 326.5,-306 326.5,-223 474.5,-223 474.5,-306\"/>\n",
       "<text text-anchor=\"middle\" x=\"400.5\" y=\"-290.8\" font-family=\"Times,serif\" font-size=\"14.00\">mb_used &lt;= 26244.135</text>\n",
       "<text text-anchor=\"middle\" x=\"400.5\" y=\"-275.8\" font-family=\"Times,serif\" font-size=\"14.00\">gini = 0.381</text>\n",
       "<text text-anchor=\"middle\" x=\"400.5\" y=\"-260.8\" font-family=\"Times,serif\" font-size=\"14.00\">samples = 2169</text>\n",
       "<text text-anchor=\"middle\" x=\"400.5\" y=\"-245.8\" font-family=\"Times,serif\" font-size=\"14.00\">value = [1613, 556]</text>\n",
       "<text text-anchor=\"middle\" x=\"400.5\" y=\"-230.8\" font-family=\"Times,serif\" font-size=\"14.00\">class = smart</text>\n",
       "</g>\n",
       "<!-- 0&#45;&gt;1 -->\n",
       "<g id=\"edge1\" class=\"edge\">\n",
       "<title>0-&gt;1</title>\n",
       "<path fill=\"none\" stroke=\"black\" d=\"M453.4,-341.91C447.24,-333.01 440.66,-323.51 434.31,-314.33\"/>\n",
       "<polygon fill=\"black\" stroke=\"black\" points=\"437.12,-312.25 428.55,-306.02 431.37,-316.24 437.12,-312.25\"/>\n",
       "<text text-anchor=\"middle\" x=\"424.08\" y=\"-326.92\" font-family=\"Times,serif\" font-size=\"14.00\">True</text>\n",
       "</g>\n",
       "<!-- 8 -->\n",
       "<g id=\"node9\" class=\"node\">\n",
       "<title>8</title>\n",
       "<polygon fill=\"#6eb7ec\" stroke=\"black\" points=\"640.5,-306 528.5,-306 528.5,-223 640.5,-223 640.5,-306\"/>\n",
       "<text text-anchor=\"middle\" x=\"584.5\" y=\"-290.8\" font-family=\"Times,serif\" font-size=\"14.00\">calls &lt;= 128.5</text>\n",
       "<text text-anchor=\"middle\" x=\"584.5\" y=\"-275.8\" font-family=\"Times,serif\" font-size=\"14.00\">gini = 0.334</text>\n",
       "<text text-anchor=\"middle\" x=\"584.5\" y=\"-260.8\" font-family=\"Times,serif\" font-size=\"14.00\">samples = 241</text>\n",
       "<text text-anchor=\"middle\" x=\"584.5\" y=\"-245.8\" font-family=\"Times,serif\" font-size=\"14.00\">value = [51, 190]</text>\n",
       "<text text-anchor=\"middle\" x=\"584.5\" y=\"-230.8\" font-family=\"Times,serif\" font-size=\"14.00\">class = ultra</text>\n",
       "</g>\n",
       "<!-- 0&#45;&gt;8 -->\n",
       "<g id=\"edge8\" class=\"edge\">\n",
       "<title>0-&gt;8</title>\n",
       "<path fill=\"none\" stroke=\"black\" d=\"M517.24,-341.91C525.22,-332.83 533.77,-323.12 542.01,-313.77\"/>\n",
       "<polygon fill=\"black\" stroke=\"black\" points=\"544.85,-315.84 548.83,-306.02 539.59,-311.21 544.85,-315.84\"/>\n",
       "<text text-anchor=\"middle\" x=\"550.42\" y=\"-327.27\" font-family=\"Times,serif\" font-size=\"14.00\">False</text>\n",
       "</g>\n",
       "<!-- 2 -->\n",
       "<g id=\"node3\" class=\"node\">\n",
       "<title>2</title>\n",
       "<polygon fill=\"#eca36f\" stroke=\"black\" points=\"255,-187 130,-187 130,-104 255,-104 255,-187\"/>\n",
       "<text text-anchor=\"middle\" x=\"192.5\" y=\"-171.8\" font-family=\"Times,serif\" font-size=\"14.00\">messages &lt;= 112.5</text>\n",
       "<text text-anchor=\"middle\" x=\"192.5\" y=\"-156.8\" font-family=\"Times,serif\" font-size=\"14.00\">gini = 0.337</text>\n",
       "<text text-anchor=\"middle\" x=\"192.5\" y=\"-141.8\" font-family=\"Times,serif\" font-size=\"14.00\">samples = 1983</text>\n",
       "<text text-anchor=\"middle\" x=\"192.5\" y=\"-126.8\" font-family=\"Times,serif\" font-size=\"14.00\">value = [1558, 425]</text>\n",
       "<text text-anchor=\"middle\" x=\"192.5\" y=\"-111.8\" font-family=\"Times,serif\" font-size=\"14.00\">class = smart</text>\n",
       "</g>\n",
       "<!-- 1&#45;&gt;2 -->\n",
       "<g id=\"edge2\" class=\"edge\">\n",
       "<title>1-&gt;2</title>\n",
       "<path fill=\"none\" stroke=\"black\" d=\"M328.34,-222.91C307.49,-211.18 284.76,-198.4 263.97,-186.7\"/>\n",
       "<polygon fill=\"black\" stroke=\"black\" points=\"265.61,-183.61 255.18,-181.76 262.18,-189.71 265.61,-183.61\"/>\n",
       "</g>\n",
       "<!-- 5 -->\n",
       "<g id=\"node6\" class=\"node\">\n",
       "<title>5</title>\n",
       "<polygon fill=\"#8cc6f0\" stroke=\"black\" points=\"474.5,-187 326.5,-187 326.5,-104 474.5,-104 474.5,-187\"/>\n",
       "<text text-anchor=\"middle\" x=\"400.5\" y=\"-171.8\" font-family=\"Times,serif\" font-size=\"14.00\">mb_used &lt;= 31774.194</text>\n",
       "<text text-anchor=\"middle\" x=\"400.5\" y=\"-156.8\" font-family=\"Times,serif\" font-size=\"14.00\">gini = 0.417</text>\n",
       "<text text-anchor=\"middle\" x=\"400.5\" y=\"-141.8\" font-family=\"Times,serif\" font-size=\"14.00\">samples = 186</text>\n",
       "<text text-anchor=\"middle\" x=\"400.5\" y=\"-126.8\" font-family=\"Times,serif\" font-size=\"14.00\">value = [55, 131]</text>\n",
       "<text text-anchor=\"middle\" x=\"400.5\" y=\"-111.8\" font-family=\"Times,serif\" font-size=\"14.00\">class = ultra</text>\n",
       "</g>\n",
       "<!-- 1&#45;&gt;5 -->\n",
       "<g id=\"edge5\" class=\"edge\">\n",
       "<title>1-&gt;5</title>\n",
       "<path fill=\"none\" stroke=\"black\" d=\"M400.5,-222.91C400.5,-214.65 400.5,-205.86 400.5,-197.3\"/>\n",
       "<polygon fill=\"black\" stroke=\"black\" points=\"404,-197.02 400.5,-187.02 397,-197.02 404,-197.02\"/>\n",
       "</g>\n",
       "<!-- 3 -->\n",
       "<g id=\"node4\" class=\"node\">\n",
       "<title>3</title>\n",
       "<polygon fill=\"#eba069\" stroke=\"black\" points=\"125,-68 0,-68 0,0 125,0 125,-68\"/>\n",
       "<text text-anchor=\"middle\" x=\"62.5\" y=\"-52.8\" font-family=\"Times,serif\" font-size=\"14.00\">gini = 0.316</text>\n",
       "<text text-anchor=\"middle\" x=\"62.5\" y=\"-37.8\" font-family=\"Times,serif\" font-size=\"14.00\">samples = 1928</text>\n",
       "<text text-anchor=\"middle\" x=\"62.5\" y=\"-22.8\" font-family=\"Times,serif\" font-size=\"14.00\">value = [1549, 379]</text>\n",
       "<text text-anchor=\"middle\" x=\"62.5\" y=\"-7.8\" font-family=\"Times,serif\" font-size=\"14.00\">class = smart</text>\n",
       "</g>\n",
       "<!-- 2&#45;&gt;3 -->\n",
       "<g id=\"edge3\" class=\"edge\">\n",
       "<title>2-&gt;3</title>\n",
       "<path fill=\"none\" stroke=\"black\" d=\"M144.09,-103.73C132.94,-94.33 121.09,-84.35 109.97,-74.99\"/>\n",
       "<polygon fill=\"black\" stroke=\"black\" points=\"111.94,-72.06 102.03,-68.3 107.43,-77.42 111.94,-72.06\"/>\n",
       "</g>\n",
       "<!-- 4 -->\n",
       "<g id=\"node5\" class=\"node\">\n",
       "<title>4</title>\n",
       "<polygon fill=\"#60b0ea\" stroke=\"black\" points=\"241.5,-68 143.5,-68 143.5,0 241.5,0 241.5,-68\"/>\n",
       "<text text-anchor=\"middle\" x=\"192.5\" y=\"-52.8\" font-family=\"Times,serif\" font-size=\"14.00\">gini = 0.274</text>\n",
       "<text text-anchor=\"middle\" x=\"192.5\" y=\"-37.8\" font-family=\"Times,serif\" font-size=\"14.00\">samples = 55</text>\n",
       "<text text-anchor=\"middle\" x=\"192.5\" y=\"-22.8\" font-family=\"Times,serif\" font-size=\"14.00\">value = [9, 46]</text>\n",
       "<text text-anchor=\"middle\" x=\"192.5\" y=\"-7.8\" font-family=\"Times,serif\" font-size=\"14.00\">class = ultra</text>\n",
       "</g>\n",
       "<!-- 2&#45;&gt;4 -->\n",
       "<g id=\"edge4\" class=\"edge\">\n",
       "<title>2-&gt;4</title>\n",
       "<path fill=\"none\" stroke=\"black\" d=\"M192.5,-103.73C192.5,-95.52 192.5,-86.86 192.5,-78.56\"/>\n",
       "<polygon fill=\"black\" stroke=\"black\" points=\"196,-78.3 192.5,-68.3 189,-78.3 196,-78.3\"/>\n",
       "</g>\n",
       "<!-- 6 -->\n",
       "<g id=\"node7\" class=\"node\">\n",
       "<title>6</title>\n",
       "<polygon fill=\"#b2d9f5\" stroke=\"black\" points=\"365,-68 260,-68 260,0 365,0 365,-68\"/>\n",
       "<text text-anchor=\"middle\" x=\"312.5\" y=\"-52.8\" font-family=\"Times,serif\" font-size=\"14.00\">gini = 0.471</text>\n",
       "<text text-anchor=\"middle\" x=\"312.5\" y=\"-37.8\" font-family=\"Times,serif\" font-size=\"14.00\">samples = 124</text>\n",
       "<text text-anchor=\"middle\" x=\"312.5\" y=\"-22.8\" font-family=\"Times,serif\" font-size=\"14.00\">value = [47, 77]</text>\n",
       "<text text-anchor=\"middle\" x=\"312.5\" y=\"-7.8\" font-family=\"Times,serif\" font-size=\"14.00\">class = ultra</text>\n",
       "</g>\n",
       "<!-- 5&#45;&gt;6 -->\n",
       "<g id=\"edge6\" class=\"edge\">\n",
       "<title>5-&gt;6</title>\n",
       "<path fill=\"none\" stroke=\"black\" d=\"M367.73,-103.73C360.55,-94.79 352.94,-85.32 345.74,-76.36\"/>\n",
       "<polygon fill=\"black\" stroke=\"black\" points=\"348.25,-73.9 339.26,-68.3 342.8,-78.29 348.25,-73.9\"/>\n",
       "</g>\n",
       "<!-- 7 -->\n",
       "<g id=\"node8\" class=\"node\">\n",
       "<title>7</title>\n",
       "<polygon fill=\"#56ace9\" stroke=\"black\" points=\"481.5,-68 383.5,-68 383.5,0 481.5,0 481.5,-68\"/>\n",
       "<text text-anchor=\"middle\" x=\"432.5\" y=\"-52.8\" font-family=\"Times,serif\" font-size=\"14.00\">gini = 0.225</text>\n",
       "<text text-anchor=\"middle\" x=\"432.5\" y=\"-37.8\" font-family=\"Times,serif\" font-size=\"14.00\">samples = 62</text>\n",
       "<text text-anchor=\"middle\" x=\"432.5\" y=\"-22.8\" font-family=\"Times,serif\" font-size=\"14.00\">value = [8, 54]</text>\n",
       "<text text-anchor=\"middle\" x=\"432.5\" y=\"-7.8\" font-family=\"Times,serif\" font-size=\"14.00\">class = ultra</text>\n",
       "</g>\n",
       "<!-- 5&#45;&gt;7 -->\n",
       "<g id=\"edge7\" class=\"edge\">\n",
       "<title>5-&gt;7</title>\n",
       "<path fill=\"none\" stroke=\"black\" d=\"M412.42,-103.73C414.87,-95.34 417.46,-86.47 419.93,-78.01\"/>\n",
       "<polygon fill=\"black\" stroke=\"black\" points=\"423.32,-78.88 422.77,-68.3 416.6,-76.92 423.32,-78.88\"/>\n",
       "</g>\n",
       "<!-- 9 -->\n",
       "<g id=\"node10\" class=\"node\">\n",
       "<title>9</title>\n",
       "<polygon fill=\"#93c9f1\" stroke=\"black\" points=\"655,-187 514,-187 514,-104 655,-104 655,-187\"/>\n",
       "<text text-anchor=\"middle\" x=\"584.5\" y=\"-171.8\" font-family=\"Times,serif\" font-size=\"14.00\">mb_used &lt;= 27562.75</text>\n",
       "<text text-anchor=\"middle\" x=\"584.5\" y=\"-156.8\" font-family=\"Times,serif\" font-size=\"14.00\">gini = 0.429</text>\n",
       "<text text-anchor=\"middle\" x=\"584.5\" y=\"-141.8\" font-family=\"Times,serif\" font-size=\"14.00\">samples = 157</text>\n",
       "<text text-anchor=\"middle\" x=\"584.5\" y=\"-126.8\" font-family=\"Times,serif\" font-size=\"14.00\">value = [49, 108]</text>\n",
       "<text text-anchor=\"middle\" x=\"584.5\" y=\"-111.8\" font-family=\"Times,serif\" font-size=\"14.00\">class = ultra</text>\n",
       "</g>\n",
       "<!-- 8&#45;&gt;9 -->\n",
       "<g id=\"edge9\" class=\"edge\">\n",
       "<title>8-&gt;9</title>\n",
       "<path fill=\"none\" stroke=\"black\" d=\"M584.5,-222.91C584.5,-214.65 584.5,-205.86 584.5,-197.3\"/>\n",
       "<polygon fill=\"black\" stroke=\"black\" points=\"588,-197.02 584.5,-187.02 581,-197.02 588,-197.02\"/>\n",
       "</g>\n",
       "<!-- 12 -->\n",
       "<g id=\"node13\" class=\"node\">\n",
       "<title>12</title>\n",
       "<polygon fill=\"#3e9fe6\" stroke=\"black\" points=\"846.5,-187 730.5,-187 730.5,-104 846.5,-104 846.5,-187\"/>\n",
       "<text text-anchor=\"middle\" x=\"788.5\" y=\"-171.8\" font-family=\"Times,serif\" font-size=\"14.00\">messages &lt;= 14.0</text>\n",
       "<text text-anchor=\"middle\" x=\"788.5\" y=\"-156.8\" font-family=\"Times,serif\" font-size=\"14.00\">gini = 0.046</text>\n",
       "<text text-anchor=\"middle\" x=\"788.5\" y=\"-141.8\" font-family=\"Times,serif\" font-size=\"14.00\">samples = 84</text>\n",
       "<text text-anchor=\"middle\" x=\"788.5\" y=\"-126.8\" font-family=\"Times,serif\" font-size=\"14.00\">value = [2, 82]</text>\n",
       "<text text-anchor=\"middle\" x=\"788.5\" y=\"-111.8\" font-family=\"Times,serif\" font-size=\"14.00\">class = ultra</text>\n",
       "</g>\n",
       "<!-- 8&#45;&gt;12 -->\n",
       "<g id=\"edge12\" class=\"edge\">\n",
       "<title>8-&gt;12</title>\n",
       "<path fill=\"none\" stroke=\"black\" d=\"M640.51,-231.37C665.63,-216.97 695.45,-199.87 721.72,-184.8\"/>\n",
       "<polygon fill=\"black\" stroke=\"black\" points=\"723.55,-187.79 730.48,-179.78 720.06,-181.72 723.55,-187.79\"/>\n",
       "</g>\n",
       "<!-- 10 -->\n",
       "<g id=\"node11\" class=\"node\">\n",
       "<title>10</title>\n",
       "<polygon fill=\"#acd6f4\" stroke=\"black\" points=\"605,-68 500,-68 500,0 605,0 605,-68\"/>\n",
       "<text text-anchor=\"middle\" x=\"552.5\" y=\"-52.8\" font-family=\"Times,serif\" font-size=\"14.00\">gini = 0.465</text>\n",
       "<text text-anchor=\"middle\" x=\"552.5\" y=\"-37.8\" font-family=\"Times,serif\" font-size=\"14.00\">samples = 128</text>\n",
       "<text text-anchor=\"middle\" x=\"552.5\" y=\"-22.8\" font-family=\"Times,serif\" font-size=\"14.00\">value = [47, 81]</text>\n",
       "<text text-anchor=\"middle\" x=\"552.5\" y=\"-7.8\" font-family=\"Times,serif\" font-size=\"14.00\">class = ultra</text>\n",
       "</g>\n",
       "<!-- 9&#45;&gt;10 -->\n",
       "<g id=\"edge10\" class=\"edge\">\n",
       "<title>9-&gt;10</title>\n",
       "<path fill=\"none\" stroke=\"black\" d=\"M572.58,-103.73C570.13,-95.34 567.54,-86.47 565.07,-78.01\"/>\n",
       "<polygon fill=\"black\" stroke=\"black\" points=\"568.4,-76.92 562.23,-68.3 561.68,-78.88 568.4,-76.92\"/>\n",
       "</g>\n",
       "<!-- 11 -->\n",
       "<g id=\"node12\" class=\"node\">\n",
       "<title>11</title>\n",
       "<polygon fill=\"#48a4e7\" stroke=\"black\" points=\"721.5,-68 623.5,-68 623.5,0 721.5,0 721.5,-68\"/>\n",
       "<text text-anchor=\"middle\" x=\"672.5\" y=\"-52.8\" font-family=\"Times,serif\" font-size=\"14.00\">gini = 0.128</text>\n",
       "<text text-anchor=\"middle\" x=\"672.5\" y=\"-37.8\" font-family=\"Times,serif\" font-size=\"14.00\">samples = 29</text>\n",
       "<text text-anchor=\"middle\" x=\"672.5\" y=\"-22.8\" font-family=\"Times,serif\" font-size=\"14.00\">value = [2, 27]</text>\n",
       "<text text-anchor=\"middle\" x=\"672.5\" y=\"-7.8\" font-family=\"Times,serif\" font-size=\"14.00\">class = ultra</text>\n",
       "</g>\n",
       "<!-- 9&#45;&gt;11 -->\n",
       "<g id=\"edge11\" class=\"edge\">\n",
       "<title>9-&gt;11</title>\n",
       "<path fill=\"none\" stroke=\"black\" d=\"M617.27,-103.73C624.45,-94.79 632.06,-85.32 639.26,-76.36\"/>\n",
       "<polygon fill=\"black\" stroke=\"black\" points=\"642.2,-78.29 645.74,-68.3 636.75,-73.9 642.2,-78.29\"/>\n",
       "</g>\n",
       "<!-- 13 -->\n",
       "<g id=\"node14\" class=\"node\">\n",
       "<title>13</title>\n",
       "<polygon fill=\"#57ace9\" stroke=\"black\" points=\"837.5,-68 739.5,-68 739.5,0 837.5,0 837.5,-68\"/>\n",
       "<text text-anchor=\"middle\" x=\"788.5\" y=\"-52.8\" font-family=\"Times,serif\" font-size=\"14.00\">gini = 0.231</text>\n",
       "<text text-anchor=\"middle\" x=\"788.5\" y=\"-37.8\" font-family=\"Times,serif\" font-size=\"14.00\">samples = 15</text>\n",
       "<text text-anchor=\"middle\" x=\"788.5\" y=\"-22.8\" font-family=\"Times,serif\" font-size=\"14.00\">value = [2, 13]</text>\n",
       "<text text-anchor=\"middle\" x=\"788.5\" y=\"-7.8\" font-family=\"Times,serif\" font-size=\"14.00\">class = ultra</text>\n",
       "</g>\n",
       "<!-- 12&#45;&gt;13 -->\n",
       "<g id=\"edge13\" class=\"edge\">\n",
       "<title>12-&gt;13</title>\n",
       "<path fill=\"none\" stroke=\"black\" d=\"M788.5,-103.73C788.5,-95.52 788.5,-86.86 788.5,-78.56\"/>\n",
       "<polygon fill=\"black\" stroke=\"black\" points=\"792,-78.3 788.5,-68.3 785,-78.3 792,-78.3\"/>\n",
       "</g>\n",
       "<!-- 14 -->\n",
       "<g id=\"node15\" class=\"node\">\n",
       "<title>14</title>\n",
       "<polygon fill=\"#399de5\" stroke=\"black\" points=\"953.5,-68 855.5,-68 855.5,0 953.5,0 953.5,-68\"/>\n",
       "<text text-anchor=\"middle\" x=\"904.5\" y=\"-52.8\" font-family=\"Times,serif\" font-size=\"14.00\">gini = 0.0</text>\n",
       "<text text-anchor=\"middle\" x=\"904.5\" y=\"-37.8\" font-family=\"Times,serif\" font-size=\"14.00\">samples = 69</text>\n",
       "<text text-anchor=\"middle\" x=\"904.5\" y=\"-22.8\" font-family=\"Times,serif\" font-size=\"14.00\">value = [0, 69]</text>\n",
       "<text text-anchor=\"middle\" x=\"904.5\" y=\"-7.8\" font-family=\"Times,serif\" font-size=\"14.00\">class = ultra</text>\n",
       "</g>\n",
       "<!-- 12&#45;&gt;14 -->\n",
       "<g id=\"edge14\" class=\"edge\">\n",
       "<title>12-&gt;14</title>\n",
       "<path fill=\"none\" stroke=\"black\" d=\"M831.69,-103.73C841.55,-94.42 852.02,-84.54 861.85,-75.26\"/>\n",
       "<polygon fill=\"black\" stroke=\"black\" points=\"864.35,-77.71 869.22,-68.3 859.55,-72.62 864.35,-77.71\"/>\n",
       "</g>\n",
       "</g>\n",
       "</svg>"
      ],
      "text/plain": [
       "<IPython.core.display.SVG object>"
      ]
     },
     "metadata": {},
     "output_type": "display_data"
    }
   ],
   "source": [
    "graph = Source(\n",
    "    export_graphviz(\n",
    "        dt_model,\n",
    "        out_file=None,\n",
    "        feature_names=list(X_test),\n",
    "        class_names=[\"smart\", \"ultra\"],\n",
    "        filled=True,\n",
    "    )\n",
    ")\n",
    "display(SVG(graph.pipe(format=\"svg\")))"
   ]
  },
  {
   "cell_type": "markdown",
   "id": "e9df9eea",
   "metadata": {},
   "source": [
    "#### Выводы\n",
    "\n",
    "Решающее дерево даже небольшой глубины показывает уверенное соответствие требованиям по точности: 80.5% на тестовой выборке. 5-процентный запас внушает уверенность в устойчивости модели к измененим во входных данных. \n",
    "\n",
    "Дополнительный плюс решающего дерева в том, что оно работает достаточно быстро и поддаётся понятной интерпретации человеком."
   ]
  },
  {
   "cell_type": "markdown",
   "id": "baae3820",
   "metadata": {},
   "source": [
    "### Случайный лес\n",
    "\n",
    "Теперь применим к нашим данным случайный лес. Первоначальный подбор гиперпараметров опять будем проводить с помощью кросс-валидации. На этот раз будем перебирать количество деревьев в лесу и максимальную глубину деревьев:"
   ]
  },
  {
   "cell_type": "code",
   "execution_count": 19,
   "id": "909ea4b6",
   "metadata": {},
   "outputs": [
    {
     "data": {
      "text/plain": [
       "0.8012448132780083"
      ]
     },
     "execution_count": 19,
     "metadata": {},
     "output_type": "execute_result"
    }
   ],
   "source": [
    "rf_params = {\n",
    "    \"n_estimators\": range(10, 15 + 1),\n",
    "    \"max_depth\": range(7, 13 + 1),\n",
    "}\n",
    "rf_gs = GridSearchCV(\n",
    "    RandomForestClassifier(random_state=42),\n",
    "    param_grid=rf_params,\n",
    "    n_jobs=-1,\n",
    "    cv=5,\n",
    ").fit(X_train, y_train)\n",
    "rf_gs.best_score_"
   ]
  },
  {
   "cell_type": "code",
   "execution_count": 20,
   "id": "e4bcd420",
   "metadata": {},
   "outputs": [
    {
     "data": {
      "text/plain": [
       "RandomForestClassifier(max_depth=11, n_estimators=12, random_state=42)"
      ]
     },
     "execution_count": 20,
     "metadata": {},
     "output_type": "execute_result"
    }
   ],
   "source": [
    "rf_gs.best_estimator_"
   ]
  },
  {
   "cell_type": "markdown",
   "id": "e5c95309",
   "metadata": {},
   "source": [
    "Теперь обучим полученный лес на всей тренировочной выборке и посмотрим точность на тестовой выборке "
   ]
  },
  {
   "cell_type": "code",
   "execution_count": 21,
   "id": "86b1972a",
   "metadata": {},
   "outputs": [
    {
     "name": "stdout",
     "output_type": "stream",
     "text": [
      "CPU times: user 84.8 ms, sys: 8.57 ms, total: 93.3 ms\n",
      "Wall time: 45.3 ms\n"
     ]
    }
   ],
   "source": [
    "%%time\n",
    "rf_model = RandomForestClassifier(\n",
    "    n_estimators=12,\n",
    "    max_depth=11,\n",
    "    random_state=42,\n",
    "    n_jobs=-1,\n",
    ").fit(X_train, y_train)"
   ]
  },
  {
   "cell_type": "code",
   "execution_count": 23,
   "id": "d339e6cb",
   "metadata": {},
   "outputs": [
    {
     "name": "stdout",
     "output_type": "stream",
     "text": [
      "CPU times: user 12.1 ms, sys: 0 ns, total: 12.1 ms\n",
      "Wall time: 8.71 ms\n"
     ]
    },
    {
     "data": {
      "text/plain": [
       "0.818407960199005"
      ]
     },
     "execution_count": 23,
     "metadata": {},
     "output_type": "execute_result"
    }
   ],
   "source": [
    "%%time\n",
    "rf_model.score(X_test, y_test)"
   ]
  },
  {
   "cell_type": "markdown",
   "id": "3aabd944",
   "metadata": {},
   "source": [
    "Случайный лес демонстрирует набольшее значение `accuracy` заметно выше требуемых 75%. Сравнение точности на кросс-валидации и на тестовой выборке показывает, что лес не переобучен, что не удивительно, ввиду стойкости данной модели к переобучению."
   ]
  },
  {
   "cell_type": "markdown",
   "id": "fca59373",
   "metadata": {},
   "source": [
    "#### Выводы\n",
    "\n",
    "Случайный лес легко удовлетворяет требованиям по `accuracy`: почти 82% на тестовой выборке. К недостаткам данной модели можно отнести затруднительную интерпретация модели (понять, почему в данном конкретном случае сработала та или иная комбинация выводов 12 деревьев с глубиной 11 будет не просто). Другой существенный недостаток случайного леса &mdash; большое время обучения и работы: обучение нашего леса длилось примерно в 13 раз больше, чем обучение логистической регрессии и решающего дерева. Предсказания делаются тоже медленне, но \"всего\" в 3-4 раза. На нашей небольшой выборке это не важно, но на больших массивах данных это может стать проблемой."
   ]
  },
  {
   "cell_type": "markdown",
   "id": "e2aaad6e",
   "metadata": {},
   "source": [
    "## Общие выводы\n",
    "\n",
    "В ходе исследования были построены модели логистической регрессии, решающего дерева и случайного леса. В результате настройки гиперпараметров моделей удалось добиться `accuracy` выше требуемых 75%.\n",
    "\n",
    "- Использование **логистической регрессии** представляется малоперспективным: точность модели на тестовых данных оказалась всего на доли процента выше порога. На новых данных модель легко может опуститься в точности прогноза ниже 75%. По производительности она несущественно опережает решающее дерево.\n",
    "- **Решающее дерево** показало уверенное превышения порога точности и  высокую скорость работы.\n",
    "- **Случайный лес** лишь на пару процентов обогнал решающее дерево по точности, но оказался на порядок более медленным в обучении и в 3 раза более медленным в прогнозировании. "
   ]
  }
 ],
 "metadata": {
  "kernelspec": {
   "display_name": "Python 3 (ipykernel)",
   "language": "python",
   "name": "python3"
  },
  "language_info": {
   "codemirror_mode": {
    "name": "ipython",
    "version": 3
   },
   "file_extension": ".py",
   "mimetype": "text/x-python",
   "name": "python",
   "nbconvert_exporter": "python",
   "pygments_lexer": "ipython3",
   "version": "3.10.6"
  },
  "toc": {
   "base_numbering": 1,
   "nav_menu": {},
   "number_sections": true,
   "sideBar": true,
   "skip_h1_title": true,
   "title_cell": "Table of Contents",
   "title_sidebar": "Contents",
   "toc_cell": false,
   "toc_position": {},
   "toc_section_display": true,
   "toc_window_display": false
  }
 },
 "nbformat": 4,
 "nbformat_minor": 5
}
