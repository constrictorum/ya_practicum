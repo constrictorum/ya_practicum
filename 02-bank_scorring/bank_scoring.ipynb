{
 "cells": [
  {
   "cell_type": "markdown",
   "id": "f34e8b80",
   "metadata": {},
   "source": [
    "# Подготовка данных для кредитного скоринга"
   ]
  },
  {
   "cell_type": "markdown",
   "id": "f4747313",
   "metadata": {},
   "source": [
    "Проект состоит в подготовке данных для кредитного отдела банка. Нужно разобраться, влияет ли семейное положение и количество детей клиента на факт возврата кредита в срок. Входные данные от банка &mdash; набор признаков клиентов с информацией об их платёжеспособности.\n",
    "\n",
    "## Цель проекта\n",
    "\n",
    "Проверить, действительно ли такие показатели как \"количество детей\" и \"семейное положение\" коррелируют с вероятностью невозврата кредита.\n",
    "\n",
    "## Задачи проекта\n",
    "\n",
    "- Подготовка данных: проверка данных на адекватность, выявление и заполнение пропусков в данных\n",
    "- Выявление зависимостей кредитоспособности и целевых параметров\n",
    "- Проверка альтернативных гипотез: какие ещё параметры могут предсказывать кредитоспособность"
   ]
  },
  {
   "cell_type": "markdown",
   "id": "6bf8b821",
   "metadata": {},
   "source": [
    "## Описание данных\n",
    "\n",
    "- `children` — количество детей в семье\n",
    "- `days_employed` — общий трудовой стаж в днях\n",
    "- `dob_years` — возраст клиента в годах\n",
    "- `education` — уровень образования клиента\n",
    "- `education_id` — идентификатор уровня образования\n",
    "- `family_status` — семейное положение\n",
    "- `family_status_id` — идентификатор семейного положения\n",
    "- `gender` — пол клиента\n",
    "- `income_type` — тип занятости\n",
    "- `debt` — имел ли задолженность по возврату кредитов\n",
    "- `total_income` — ежемесячный доход\n",
    "- `purpose` — цель получения кредита"
   ]
  },
  {
   "cell_type": "code",
   "execution_count": 1,
   "id": "c8603b61",
   "metadata": {},
   "outputs": [
    {
     "name": "stdout",
     "output_type": "stream",
     "text": [
      "Defaulting to user installation because normal site-packages is not writeable\n",
      "Requirement already up-to-date: scikit-learn in /home/jovyan/.local/lib/python3.7/site-packages (0.24.2)\n",
      "Requirement already satisfied, skipping upgrade: threadpoolctl>=2.0.0 in /home/jovyan/.local/lib/python3.7/site-packages (from scikit-learn) (2.2.0)\n",
      "Requirement already satisfied, skipping upgrade: scipy>=0.19.1 in /opt/conda/lib/python3.7/site-packages (from scikit-learn) (1.4.1)\n",
      "Requirement already satisfied, skipping upgrade: numpy>=1.13.3 in /opt/conda/lib/python3.7/site-packages (from scikit-learn) (1.19.5)\n",
      "Requirement already satisfied, skipping upgrade: joblib>=0.11 in /opt/conda/lib/python3.7/site-packages (from scikit-learn) (1.0.1)\n",
      "Defaulting to user installation because normal site-packages is not writeable\n",
      "Requirement already up-to-date: seaborn in /home/jovyan/.local/lib/python3.7/site-packages (0.11.1)\n",
      "Requirement already satisfied, skipping upgrade: pandas>=0.23 in /opt/conda/lib/python3.7/site-packages (from seaborn) (0.25.1)\n",
      "Requirement already satisfied, skipping upgrade: numpy>=1.15 in /opt/conda/lib/python3.7/site-packages (from seaborn) (1.19.5)\n",
      "Requirement already satisfied, skipping upgrade: scipy>=1.0 in /opt/conda/lib/python3.7/site-packages (from seaborn) (1.4.1)\n",
      "Requirement already satisfied, skipping upgrade: matplotlib>=2.2 in /opt/conda/lib/python3.7/site-packages (from seaborn) (3.1.0)\n",
      "Requirement already satisfied, skipping upgrade: pytz>=2017.2 in /opt/conda/lib/python3.7/site-packages (from pandas>=0.23->seaborn) (2021.1)\n",
      "Requirement already satisfied, skipping upgrade: python-dateutil>=2.6.1 in /opt/conda/lib/python3.7/site-packages (from pandas>=0.23->seaborn) (2.8.1)\n",
      "Requirement already satisfied, skipping upgrade: kiwisolver>=1.0.1 in /opt/conda/lib/python3.7/site-packages (from matplotlib>=2.2->seaborn) (1.3.1)\n",
      "Requirement already satisfied, skipping upgrade: pyparsing!=2.0.4,!=2.1.2,!=2.1.6,>=2.0.1 in /opt/conda/lib/python3.7/site-packages (from matplotlib>=2.2->seaborn) (2.4.7)\n",
      "Requirement already satisfied, skipping upgrade: cycler>=0.10 in /opt/conda/lib/python3.7/site-packages (from matplotlib>=2.2->seaborn) (0.10.0)\n",
      "Requirement already satisfied, skipping upgrade: six>=1.5 in /opt/conda/lib/python3.7/site-packages (from python-dateutil>=2.6.1->pandas>=0.23->seaborn) (1.15.0)\n"
     ]
    }
   ],
   "source": [
    "!pip install -U scikit-learn\n",
    "!pip install -U seaborn"
   ]
  },
  {
   "cell_type": "code",
   "execution_count": 2,
   "id": "258979b9",
   "metadata": {
    "tags": []
   },
   "outputs": [],
   "source": [
    "import warnings\n",
    "from functools import reduce\n",
    "from collections import Counter\n",
    "\n",
    "import matplotlib.pyplot as plt\n",
    "import numpy as np\n",
    "import pandas as pd\n",
    "import seaborn as sns\n",
    "from pymystem3 import Mystem"
   ]
  },
  {
   "cell_type": "code",
   "execution_count": 4,
   "id": "57b0aafc",
   "metadata": {},
   "outputs": [],
   "source": [
    "warnings.filterwarnings(\"ignore\")\n",
    "pd.set_option('display.float_format', '{:,.2f}'.format)"
   ]
  },
  {
   "cell_type": "code",
   "execution_count": 5,
   "id": "a5664aaa",
   "metadata": {},
   "outputs": [],
   "source": [
    "try:\n",
    "    df = pd.read_csv(\"data.csv\")\n",
    "except FileNotFoundError:\n",
    "    df = pd.read_csv(\"/datasets/data.csv\")"
   ]
  },
  {
   "cell_type": "markdown",
   "id": "841cbb45",
   "metadata": {},
   "source": [
    "## Обзор данных\n",
    "\n",
    "Прежде всего проведём обзор данных (summery analysis). Посмотрим, какие данные есть, каких типов, есть ли пропуски."
   ]
  },
  {
   "cell_type": "code",
   "execution_count": 6,
   "id": "614a83e3",
   "metadata": {
    "tags": []
   },
   "outputs": [
    {
     "data": {
      "text/html": [
       "<div>\n",
       "<style scoped>\n",
       "    .dataframe tbody tr th:only-of-type {\n",
       "        vertical-align: middle;\n",
       "    }\n",
       "\n",
       "    .dataframe tbody tr th {\n",
       "        vertical-align: top;\n",
       "    }\n",
       "\n",
       "    .dataframe thead th {\n",
       "        text-align: right;\n",
       "    }\n",
       "</style>\n",
       "<table border=\"1\" class=\"dataframe\">\n",
       "  <thead>\n",
       "    <tr style=\"text-align: right;\">\n",
       "      <th></th>\n",
       "      <th>children</th>\n",
       "      <th>days_employed</th>\n",
       "      <th>dob_years</th>\n",
       "      <th>education</th>\n",
       "      <th>education_id</th>\n",
       "      <th>family_status</th>\n",
       "      <th>family_status_id</th>\n",
       "      <th>gender</th>\n",
       "      <th>income_type</th>\n",
       "      <th>debt</th>\n",
       "      <th>total_income</th>\n",
       "      <th>purpose</th>\n",
       "    </tr>\n",
       "  </thead>\n",
       "  <tbody>\n",
       "    <tr>\n",
       "      <td>0</td>\n",
       "      <td>1</td>\n",
       "      <td>-8,437.67</td>\n",
       "      <td>42</td>\n",
       "      <td>высшее</td>\n",
       "      <td>0</td>\n",
       "      <td>женат / замужем</td>\n",
       "      <td>0</td>\n",
       "      <td>F</td>\n",
       "      <td>сотрудник</td>\n",
       "      <td>0</td>\n",
       "      <td>253,875.64</td>\n",
       "      <td>покупка жилья</td>\n",
       "    </tr>\n",
       "    <tr>\n",
       "      <td>1</td>\n",
       "      <td>1</td>\n",
       "      <td>-4,024.80</td>\n",
       "      <td>36</td>\n",
       "      <td>среднее</td>\n",
       "      <td>1</td>\n",
       "      <td>женат / замужем</td>\n",
       "      <td>0</td>\n",
       "      <td>F</td>\n",
       "      <td>сотрудник</td>\n",
       "      <td>0</td>\n",
       "      <td>112,080.01</td>\n",
       "      <td>приобретение автомобиля</td>\n",
       "    </tr>\n",
       "    <tr>\n",
       "      <td>2</td>\n",
       "      <td>0</td>\n",
       "      <td>-5,623.42</td>\n",
       "      <td>33</td>\n",
       "      <td>Среднее</td>\n",
       "      <td>1</td>\n",
       "      <td>женат / замужем</td>\n",
       "      <td>0</td>\n",
       "      <td>M</td>\n",
       "      <td>сотрудник</td>\n",
       "      <td>0</td>\n",
       "      <td>145,885.95</td>\n",
       "      <td>покупка жилья</td>\n",
       "    </tr>\n",
       "    <tr>\n",
       "      <td>3</td>\n",
       "      <td>3</td>\n",
       "      <td>-4,124.75</td>\n",
       "      <td>32</td>\n",
       "      <td>среднее</td>\n",
       "      <td>1</td>\n",
       "      <td>женат / замужем</td>\n",
       "      <td>0</td>\n",
       "      <td>M</td>\n",
       "      <td>сотрудник</td>\n",
       "      <td>0</td>\n",
       "      <td>267,628.55</td>\n",
       "      <td>дополнительное образование</td>\n",
       "    </tr>\n",
       "    <tr>\n",
       "      <td>4</td>\n",
       "      <td>0</td>\n",
       "      <td>340,266.07</td>\n",
       "      <td>53</td>\n",
       "      <td>среднее</td>\n",
       "      <td>1</td>\n",
       "      <td>гражданский брак</td>\n",
       "      <td>1</td>\n",
       "      <td>F</td>\n",
       "      <td>пенсионер</td>\n",
       "      <td>0</td>\n",
       "      <td>158,616.08</td>\n",
       "      <td>сыграть свадьбу</td>\n",
       "    </tr>\n",
       "  </tbody>\n",
       "</table>\n",
       "</div>"
      ],
      "text/plain": [
       "   children  days_employed  dob_years education  education_id  \\\n",
       "0         1      -8,437.67         42    высшее             0   \n",
       "1         1      -4,024.80         36   среднее             1   \n",
       "2         0      -5,623.42         33   Среднее             1   \n",
       "3         3      -4,124.75         32   среднее             1   \n",
       "4         0     340,266.07         53   среднее             1   \n",
       "\n",
       "      family_status  family_status_id gender income_type  debt  total_income  \\\n",
       "0   женат / замужем                 0      F   сотрудник     0    253,875.64   \n",
       "1   женат / замужем                 0      F   сотрудник     0    112,080.01   \n",
       "2   женат / замужем                 0      M   сотрудник     0    145,885.95   \n",
       "3   женат / замужем                 0      M   сотрудник     0    267,628.55   \n",
       "4  гражданский брак                 1      F   пенсионер     0    158,616.08   \n",
       "\n",
       "                      purpose  \n",
       "0               покупка жилья  \n",
       "1     приобретение автомобиля  \n",
       "2               покупка жилья  \n",
       "3  дополнительное образование  \n",
       "4             сыграть свадьбу  "
      ]
     },
     "execution_count": 6,
     "metadata": {},
     "output_type": "execute_result"
    }
   ],
   "source": [
    "df.head()"
   ]
  },
  {
   "cell_type": "code",
   "execution_count": 7,
   "id": "c22c65e3",
   "metadata": {},
   "outputs": [
    {
     "data": {
      "text/html": [
       "<div>\n",
       "<style scoped>\n",
       "    .dataframe tbody tr th:only-of-type {\n",
       "        vertical-align: middle;\n",
       "    }\n",
       "\n",
       "    .dataframe tbody tr th {\n",
       "        vertical-align: top;\n",
       "    }\n",
       "\n",
       "    .dataframe thead th {\n",
       "        text-align: right;\n",
       "    }\n",
       "</style>\n",
       "<table border=\"1\" class=\"dataframe\">\n",
       "  <thead>\n",
       "    <tr style=\"text-align: right;\">\n",
       "      <th></th>\n",
       "      <th>children</th>\n",
       "      <th>days_employed</th>\n",
       "      <th>dob_years</th>\n",
       "      <th>education_id</th>\n",
       "      <th>family_status_id</th>\n",
       "      <th>debt</th>\n",
       "      <th>total_income</th>\n",
       "    </tr>\n",
       "  </thead>\n",
       "  <tbody>\n",
       "    <tr>\n",
       "      <td>count</td>\n",
       "      <td>21,525.00</td>\n",
       "      <td>19,351.00</td>\n",
       "      <td>21,525.00</td>\n",
       "      <td>21,525.00</td>\n",
       "      <td>21,525.00</td>\n",
       "      <td>21,525.00</td>\n",
       "      <td>19,351.00</td>\n",
       "    </tr>\n",
       "    <tr>\n",
       "      <td>mean</td>\n",
       "      <td>0.54</td>\n",
       "      <td>63,046.50</td>\n",
       "      <td>43.29</td>\n",
       "      <td>0.82</td>\n",
       "      <td>0.97</td>\n",
       "      <td>0.08</td>\n",
       "      <td>167,422.30</td>\n",
       "    </tr>\n",
       "    <tr>\n",
       "      <td>std</td>\n",
       "      <td>1.38</td>\n",
       "      <td>140,827.31</td>\n",
       "      <td>12.57</td>\n",
       "      <td>0.55</td>\n",
       "      <td>1.42</td>\n",
       "      <td>0.27</td>\n",
       "      <td>102,971.57</td>\n",
       "    </tr>\n",
       "    <tr>\n",
       "      <td>min</td>\n",
       "      <td>-1.00</td>\n",
       "      <td>-18,388.95</td>\n",
       "      <td>0.00</td>\n",
       "      <td>0.00</td>\n",
       "      <td>0.00</td>\n",
       "      <td>0.00</td>\n",
       "      <td>20,667.26</td>\n",
       "    </tr>\n",
       "    <tr>\n",
       "      <td>25%</td>\n",
       "      <td>0.00</td>\n",
       "      <td>-2,747.42</td>\n",
       "      <td>33.00</td>\n",
       "      <td>1.00</td>\n",
       "      <td>0.00</td>\n",
       "      <td>0.00</td>\n",
       "      <td>103,053.15</td>\n",
       "    </tr>\n",
       "    <tr>\n",
       "      <td>50%</td>\n",
       "      <td>0.00</td>\n",
       "      <td>-1,203.37</td>\n",
       "      <td>42.00</td>\n",
       "      <td>1.00</td>\n",
       "      <td>0.00</td>\n",
       "      <td>0.00</td>\n",
       "      <td>145,017.94</td>\n",
       "    </tr>\n",
       "    <tr>\n",
       "      <td>75%</td>\n",
       "      <td>1.00</td>\n",
       "      <td>-291.10</td>\n",
       "      <td>53.00</td>\n",
       "      <td>1.00</td>\n",
       "      <td>1.00</td>\n",
       "      <td>0.00</td>\n",
       "      <td>203,435.07</td>\n",
       "    </tr>\n",
       "    <tr>\n",
       "      <td>max</td>\n",
       "      <td>20.00</td>\n",
       "      <td>401,755.40</td>\n",
       "      <td>75.00</td>\n",
       "      <td>4.00</td>\n",
       "      <td>4.00</td>\n",
       "      <td>1.00</td>\n",
       "      <td>2,265,604.03</td>\n",
       "    </tr>\n",
       "  </tbody>\n",
       "</table>\n",
       "</div>"
      ],
      "text/plain": [
       "       children  days_employed  dob_years  education_id  family_status_id  \\\n",
       "count 21,525.00      19,351.00  21,525.00     21,525.00         21,525.00   \n",
       "mean       0.54      63,046.50      43.29          0.82              0.97   \n",
       "std        1.38     140,827.31      12.57          0.55              1.42   \n",
       "min       -1.00     -18,388.95       0.00          0.00              0.00   \n",
       "25%        0.00      -2,747.42      33.00          1.00              0.00   \n",
       "50%        0.00      -1,203.37      42.00          1.00              0.00   \n",
       "75%        1.00        -291.10      53.00          1.00              1.00   \n",
       "max       20.00     401,755.40      75.00          4.00              4.00   \n",
       "\n",
       "           debt  total_income  \n",
       "count 21,525.00     19,351.00  \n",
       "mean       0.08    167,422.30  \n",
       "std        0.27    102,971.57  \n",
       "min        0.00     20,667.26  \n",
       "25%        0.00    103,053.15  \n",
       "50%        0.00    145,017.94  \n",
       "75%        0.00    203,435.07  \n",
       "max        1.00  2,265,604.03  "
      ]
     },
     "execution_count": 7,
     "metadata": {},
     "output_type": "execute_result"
    }
   ],
   "source": [
    "df.describe()"
   ]
  },
  {
   "cell_type": "code",
   "execution_count": 8,
   "id": "ef00eac8",
   "metadata": {},
   "outputs": [
    {
     "name": "stdout",
     "output_type": "stream",
     "text": [
      "<class 'pandas.core.frame.DataFrame'>\n",
      "RangeIndex: 21525 entries, 0 to 21524\n",
      "Data columns (total 12 columns):\n",
      "children            21525 non-null int64\n",
      "days_employed       19351 non-null float64\n",
      "dob_years           21525 non-null int64\n",
      "education           21525 non-null object\n",
      "education_id        21525 non-null int64\n",
      "family_status       21525 non-null object\n",
      "family_status_id    21525 non-null int64\n",
      "gender              21525 non-null object\n",
      "income_type         21525 non-null object\n",
      "debt                21525 non-null int64\n",
      "total_income        19351 non-null float64\n",
      "purpose             21525 non-null object\n",
      "dtypes: float64(2), int64(5), object(5)\n",
      "memory usage: 2.0+ MB\n"
     ]
    }
   ],
   "source": [
    "df.info()"
   ]
  },
  {
   "cell_type": "markdown",
   "id": "9c23639e",
   "metadata": {},
   "source": [
    "Обзор данных сразу указывает на странности: минимальное количество детей -1, а максимальное &mdash; 20. Минимальный трудовой стаж в днях -18388.949901 (-50 лет). Более того, у большей части клиентов стаж отрицательный, включая третью квартиль (-291). В тоже время максимальное значение положительно и абсурдно велико: 401755.4 дня, что соответсвует 1100 годам.\n",
    "\n",
    "Имеются неявные пропуски: минимальный возраст 0 лет. "
   ]
  },
  {
   "cell_type": "markdown",
   "id": "777e505f",
   "metadata": {},
   "source": [
    "Также видно, что присутствуют явные пропуски, по 2174 в колонках \"стаж\" и \"доход\". "
   ]
  },
  {
   "cell_type": "code",
   "execution_count": 9,
   "id": "a1f7fc0b",
   "metadata": {},
   "outputs": [
    {
     "data": {
      "text/plain": [
       "children               0\n",
       "days_employed       2174\n",
       "dob_years              0\n",
       "education              0\n",
       "education_id           0\n",
       "family_status          0\n",
       "family_status_id       0\n",
       "gender                 0\n",
       "income_type            0\n",
       "debt                   0\n",
       "total_income        2174\n",
       "purpose                0\n",
       "dtype: int64"
      ]
     },
     "execution_count": 9,
     "metadata": {},
     "output_type": "execute_result"
    }
   ],
   "source": [
    "df.isna().sum()"
   ]
  },
  {
   "cell_type": "code",
   "execution_count": 10,
   "id": "8bd5d745",
   "metadata": {},
   "outputs": [
    {
     "data": {
      "text/plain": [
       "0    19784\n",
       "1     1741\n",
       "Name: debt, dtype: int64"
      ]
     },
     "execution_count": 10,
     "metadata": {},
     "output_type": "execute_result"
    }
   ],
   "source": [
    "df[\"debt\"].value_counts()"
   ]
  },
  {
   "cell_type": "markdown",
   "id": "b9409569",
   "metadata": {},
   "source": [
    "Целевой показатель в норме: пропусков нет и количество клиентов с проблемами по погашению кредита выглядит не слишком большим и не очень маленьким: $8.8\\%$"
   ]
  },
  {
   "cell_type": "markdown",
   "id": "2cc17e50",
   "metadata": {},
   "source": [
    "Целей кредита на удивление мало:"
   ]
  },
  {
   "cell_type": "code",
   "execution_count": 11,
   "id": "c6adabcf",
   "metadata": {
    "tags": []
   },
   "outputs": [
    {
     "data": {
      "text/plain": [
       "свадьба                                   797\n",
       "на проведение свадьбы                     777\n",
       "сыграть свадьбу                           774\n",
       "операции с недвижимостью                  676\n",
       "покупка коммерческой недвижимости         664\n",
       "покупка жилья для сдачи                   653\n",
       "операции с жильем                         653\n",
       "операции с коммерческой недвижимостью     651\n",
       "жилье                                     647\n",
       "покупка жилья                             647\n",
       "покупка жилья для семьи                   641\n",
       "строительство собственной недвижимости    635\n",
       "недвижимость                              634\n",
       "операции со своей недвижимостью           630\n",
       "строительство жилой недвижимости          626\n",
       "покупка недвижимости                      624\n",
       "покупка своего жилья                      620\n",
       "строительство недвижимости                620\n",
       "ремонт жилью                              612\n",
       "покупка жилой недвижимости                607\n",
       "на покупку своего автомобиля              505\n",
       "заняться высшим образованием              496\n",
       "автомобиль                                495\n",
       "сделка с подержанным автомобилем          489\n",
       "свой автомобиль                           480\n",
       "на покупку подержанного автомобиля        479\n",
       "автомобили                                478\n",
       "на покупку автомобиля                     472\n",
       "дополнительное образование                462\n",
       "приобретение автомобиля                   462\n",
       "сделка с автомобилем                      455\n",
       "высшее образование                        453\n",
       "получение дополнительного образования     447\n",
       "образование                               447\n",
       "получение образования                     443\n",
       "профильное образование                    436\n",
       "получение высшего образования             426\n",
       "заняться образованием                     412\n",
       "Name: purpose, dtype: int64"
      ]
     },
     "execution_count": 11,
     "metadata": {},
     "output_type": "execute_result"
    }
   ],
   "source": [
    "df[\"purpose\"].value_counts()"
   ]
  },
  {
   "cell_type": "code",
   "execution_count": 12,
   "id": "17fd67ad",
   "metadata": {},
   "outputs": [
    {
     "data": {
      "text/plain": [
       "38"
      ]
     },
     "execution_count": 12,
     "metadata": {},
     "output_type": "execute_result"
    }
   ],
   "source": [
    "df[\"purpose\"].nunique()"
   ]
  },
  {
   "cell_type": "markdown",
   "id": "2fc5c8ab",
   "metadata": {},
   "source": [
    "Всего 38 целей, что странно, если люди указывают цели самостоятельно, что называется \"свободным вводом\". А цель \"ремонт жилью\" наводит на мысль о синтетической природе данных: сложно представить, что люди независимо 612 раз одинаково описАлись. Тем не менее, 38 категорий \"целей получения кредита\" будет подспорьем в выделении дубликатов в условиях, когда нет надёжных ориентиров типа уникального id клиента или идентификатора заявки. "
   ]
  },
  {
   "cell_type": "markdown",
   "id": "4eca6f4d",
   "metadata": {},
   "source": [
    "### Вывод\n",
    "\n",
    "В полученных данных выявлены проблемы: пропуски в колонках \"стаж\", \"доход\" и \"возраст\", также присутствуют ошибки в параметре \"дети\" и \"стаж\"."
   ]
  },
  {
   "cell_type": "markdown",
   "id": "99928121",
   "metadata": {},
   "source": [
    "## Подготовка данных\n",
    "\n",
    "Прежде чем мы начнём вносить изменения в данные, стоит избавиться от дубликатов. Дело в том, что наши заполнения, по определению не точные, могут создать иллюзию дубликатов: когда мы заполняем сходным образом пропуски просто \"по аналогии\", тогда как в реалности, значения могли быть пусть и близкие, но разные."
   ]
  },
  {
   "cell_type": "markdown",
   "id": "9b8c0150",
   "metadata": {},
   "source": [
    "### Удаление дубликатов\n",
    "\n",
    "Первым делом, посмотрим сколько дубликатов есть в сырых данных:"
   ]
  },
  {
   "cell_type": "code",
   "execution_count": 13,
   "id": "096b818a",
   "metadata": {},
   "outputs": [
    {
     "data": {
      "text/plain": [
       "54"
      ]
     },
     "execution_count": 13,
     "metadata": {},
     "output_type": "execute_result"
    }
   ],
   "source": [
    "len(df[df.duplicated()])"
   ]
  },
  {
   "cell_type": "code",
   "execution_count": 14,
   "id": "1f15779b",
   "metadata": {
    "tags": []
   },
   "outputs": [
    {
     "data": {
      "text/html": [
       "<div>\n",
       "<style scoped>\n",
       "    .dataframe tbody tr th:only-of-type {\n",
       "        vertical-align: middle;\n",
       "    }\n",
       "\n",
       "    .dataframe tbody tr th {\n",
       "        vertical-align: top;\n",
       "    }\n",
       "\n",
       "    .dataframe thead th {\n",
       "        text-align: right;\n",
       "    }\n",
       "</style>\n",
       "<table border=\"1\" class=\"dataframe\">\n",
       "  <thead>\n",
       "    <tr style=\"text-align: right;\">\n",
       "      <th></th>\n",
       "      <th>children</th>\n",
       "      <th>days_employed</th>\n",
       "      <th>dob_years</th>\n",
       "      <th>education</th>\n",
       "      <th>education_id</th>\n",
       "      <th>family_status</th>\n",
       "      <th>family_status_id</th>\n",
       "      <th>gender</th>\n",
       "      <th>income_type</th>\n",
       "      <th>debt</th>\n",
       "      <th>total_income</th>\n",
       "      <th>purpose</th>\n",
       "    </tr>\n",
       "  </thead>\n",
       "  <tbody>\n",
       "    <tr>\n",
       "      <td>2849</td>\n",
       "      <td>0</td>\n",
       "      <td>nan</td>\n",
       "      <td>41</td>\n",
       "      <td>среднее</td>\n",
       "      <td>1</td>\n",
       "      <td>женат / замужем</td>\n",
       "      <td>0</td>\n",
       "      <td>F</td>\n",
       "      <td>сотрудник</td>\n",
       "      <td>0</td>\n",
       "      <td>nan</td>\n",
       "      <td>покупка жилья для семьи</td>\n",
       "    </tr>\n",
       "    <tr>\n",
       "      <td>4182</td>\n",
       "      <td>1</td>\n",
       "      <td>nan</td>\n",
       "      <td>34</td>\n",
       "      <td>ВЫСШЕЕ</td>\n",
       "      <td>0</td>\n",
       "      <td>гражданский брак</td>\n",
       "      <td>1</td>\n",
       "      <td>F</td>\n",
       "      <td>сотрудник</td>\n",
       "      <td>0</td>\n",
       "      <td>nan</td>\n",
       "      <td>свадьба</td>\n",
       "    </tr>\n",
       "    <tr>\n",
       "      <td>4851</td>\n",
       "      <td>0</td>\n",
       "      <td>nan</td>\n",
       "      <td>60</td>\n",
       "      <td>среднее</td>\n",
       "      <td>1</td>\n",
       "      <td>гражданский брак</td>\n",
       "      <td>1</td>\n",
       "      <td>F</td>\n",
       "      <td>пенсионер</td>\n",
       "      <td>0</td>\n",
       "      <td>nan</td>\n",
       "      <td>свадьба</td>\n",
       "    </tr>\n",
       "    <tr>\n",
       "      <td>5557</td>\n",
       "      <td>0</td>\n",
       "      <td>nan</td>\n",
       "      <td>58</td>\n",
       "      <td>среднее</td>\n",
       "      <td>1</td>\n",
       "      <td>гражданский брак</td>\n",
       "      <td>1</td>\n",
       "      <td>F</td>\n",
       "      <td>пенсионер</td>\n",
       "      <td>0</td>\n",
       "      <td>nan</td>\n",
       "      <td>сыграть свадьбу</td>\n",
       "    </tr>\n",
       "    <tr>\n",
       "      <td>7808</td>\n",
       "      <td>0</td>\n",
       "      <td>nan</td>\n",
       "      <td>57</td>\n",
       "      <td>среднее</td>\n",
       "      <td>1</td>\n",
       "      <td>гражданский брак</td>\n",
       "      <td>1</td>\n",
       "      <td>F</td>\n",
       "      <td>пенсионер</td>\n",
       "      <td>0</td>\n",
       "      <td>nan</td>\n",
       "      <td>на проведение свадьбы</td>\n",
       "    </tr>\n",
       "    <tr>\n",
       "      <td>8583</td>\n",
       "      <td>0</td>\n",
       "      <td>nan</td>\n",
       "      <td>58</td>\n",
       "      <td>высшее</td>\n",
       "      <td>0</td>\n",
       "      <td>Не женат / не замужем</td>\n",
       "      <td>4</td>\n",
       "      <td>F</td>\n",
       "      <td>пенсионер</td>\n",
       "      <td>0</td>\n",
       "      <td>nan</td>\n",
       "      <td>дополнительное образование</td>\n",
       "    </tr>\n",
       "    <tr>\n",
       "      <td>9238</td>\n",
       "      <td>2</td>\n",
       "      <td>nan</td>\n",
       "      <td>34</td>\n",
       "      <td>среднее</td>\n",
       "      <td>1</td>\n",
       "      <td>женат / замужем</td>\n",
       "      <td>0</td>\n",
       "      <td>F</td>\n",
       "      <td>сотрудник</td>\n",
       "      <td>0</td>\n",
       "      <td>nan</td>\n",
       "      <td>покупка жилья для сдачи</td>\n",
       "    </tr>\n",
       "    <tr>\n",
       "      <td>9528</td>\n",
       "      <td>0</td>\n",
       "      <td>nan</td>\n",
       "      <td>66</td>\n",
       "      <td>среднее</td>\n",
       "      <td>1</td>\n",
       "      <td>вдовец / вдова</td>\n",
       "      <td>2</td>\n",
       "      <td>F</td>\n",
       "      <td>пенсионер</td>\n",
       "      <td>0</td>\n",
       "      <td>nan</td>\n",
       "      <td>операции со своей недвижимостью</td>\n",
       "    </tr>\n",
       "    <tr>\n",
       "      <td>9627</td>\n",
       "      <td>0</td>\n",
       "      <td>nan</td>\n",
       "      <td>56</td>\n",
       "      <td>среднее</td>\n",
       "      <td>1</td>\n",
       "      <td>женат / замужем</td>\n",
       "      <td>0</td>\n",
       "      <td>F</td>\n",
       "      <td>пенсионер</td>\n",
       "      <td>0</td>\n",
       "      <td>nan</td>\n",
       "      <td>операции со своей недвижимостью</td>\n",
       "    </tr>\n",
       "    <tr>\n",
       "      <td>10462</td>\n",
       "      <td>0</td>\n",
       "      <td>nan</td>\n",
       "      <td>62</td>\n",
       "      <td>среднее</td>\n",
       "      <td>1</td>\n",
       "      <td>женат / замужем</td>\n",
       "      <td>0</td>\n",
       "      <td>F</td>\n",
       "      <td>пенсионер</td>\n",
       "      <td>0</td>\n",
       "      <td>nan</td>\n",
       "      <td>покупка коммерческой недвижимости</td>\n",
       "    </tr>\n",
       "  </tbody>\n",
       "</table>\n",
       "</div>"
      ],
      "text/plain": [
       "       children  days_employed  dob_years education  education_id  \\\n",
       "2849          0            nan         41   среднее             1   \n",
       "4182          1            nan         34    ВЫСШЕЕ             0   \n",
       "4851          0            nan         60   среднее             1   \n",
       "5557          0            nan         58   среднее             1   \n",
       "7808          0            nan         57   среднее             1   \n",
       "8583          0            nan         58    высшее             0   \n",
       "9238          2            nan         34   среднее             1   \n",
       "9528          0            nan         66   среднее             1   \n",
       "9627          0            nan         56   среднее             1   \n",
       "10462         0            nan         62   среднее             1   \n",
       "\n",
       "               family_status  family_status_id gender income_type  debt  \\\n",
       "2849         женат / замужем                 0      F   сотрудник     0   \n",
       "4182        гражданский брак                 1      F   сотрудник     0   \n",
       "4851        гражданский брак                 1      F   пенсионер     0   \n",
       "5557        гражданский брак                 1      F   пенсионер     0   \n",
       "7808        гражданский брак                 1      F   пенсионер     0   \n",
       "8583   Не женат / не замужем                 4      F   пенсионер     0   \n",
       "9238         женат / замужем                 0      F   сотрудник     0   \n",
       "9528          вдовец / вдова                 2      F   пенсионер     0   \n",
       "9627         женат / замужем                 0      F   пенсионер     0   \n",
       "10462        женат / замужем                 0      F   пенсионер     0   \n",
       "\n",
       "       total_income                            purpose  \n",
       "2849            nan            покупка жилья для семьи  \n",
       "4182            nan                            свадьба  \n",
       "4851            nan                            свадьба  \n",
       "5557            nan                    сыграть свадьбу  \n",
       "7808            nan              на проведение свадьбы  \n",
       "8583            nan         дополнительное образование  \n",
       "9238            nan            покупка жилья для сдачи  \n",
       "9528            nan    операции со своей недвижимостью  \n",
       "9627            nan    операции со своей недвижимостью  \n",
       "10462           nan  покупка коммерческой недвижимости  "
      ]
     },
     "execution_count": 14,
     "metadata": {},
     "output_type": "execute_result"
    }
   ],
   "source": [
    "df[df.duplicated()].head(10)"
   ]
  },
  {
   "cell_type": "markdown",
   "id": "ab941642",
   "metadata": {},
   "source": [
    "С одной стороны, дубликатов не много: $54$ на $21525$ клиентов ($0.25\\%$) и столь небольшое количество строк можно безболезненно отбросить. С другой, настораживает, что все без исключения дубликаты имеют `NaN` в колонках `days_employed` и `total_income`, что намекает на недостаток данных: если бы эти параметры имели истинные значения, дублей, скорее всего, было бы меньше.\n",
    "\n",
    "В нашей учебной ситуации при отсутствие коммуникации с поставщиками данных, мы не имеем возможности уточнить наши данные. Поэтому придётся принимать волевое решение, считать ли выявленные дубликаты дубликатами. С учётом их малочисленности, это решение вряд ли сильно повлияет на конечный результат, так что лучшим решением видится **сохранение данных**. В конце концов, накопленные данные имеют свою цену и отбрасывать их без веской причины расточительно."
   ]
  },
  {
   "cell_type": "markdown",
   "id": "4675f64b",
   "metadata": {},
   "source": [
    "#### Вывод\n",
    "\n",
    "Было выявлено небольшое (54) количество дубликатов. В итоге было принято решение сохранить их в выборке."
   ]
  },
  {
   "cell_type": "markdown",
   "id": "a1b85a38",
   "metadata": {},
   "source": [
    "Следующий шаг: переходим к анализу конкрентных значений признаков. В первую очередь, нас интересуют те параметры, по которым предполагается строить прогноз: \"семейное положение\" (`family_status`) и \"дети\" (`children`)."
   ]
  },
  {
   "cell_type": "markdown",
   "id": "69b06499",
   "metadata": {},
   "source": [
    "### Количество детей\n",
    "\n",
    "Поскольку постановка задачи предполагает поиск связи целевого показателя (невозврат кредита) с количеством детей, с этого параметра и начнём. Построим распределение клиентов по количеству детей "
   ]
  },
  {
   "cell_type": "code",
   "execution_count": 15,
   "id": "8db26385",
   "metadata": {},
   "outputs": [
    {
     "data": {
      "text/plain": [
       " 0     14149\n",
       " 1      4818\n",
       " 2      2055\n",
       " 3       330\n",
       " 20       76\n",
       "-1        47\n",
       " 4        41\n",
       " 5         9\n",
       "Name: children, dtype: int64"
      ]
     },
     "execution_count": 15,
     "metadata": {},
     "output_type": "execute_result"
    }
   ],
   "source": [
    "df[\"children\"].value_counts()"
   ]
  },
  {
   "cell_type": "markdown",
   "id": "d72f9874",
   "metadata": {},
   "source": [
    "Странные значений здесь &mdash; -1 и 20.  Кажется разумным предположить, что в обоих случаях имел место \"человеческий фактор\": при заполнении данных о клиенте вместо 1 было введено -1 и 20 вместо 2. Видно, что клиентов с 6, 7, 8... детьми нет и семей с 20 детьми в 8 раз больше, чем с 5.\n",
    "\n",
    "Альтернативой подобной замене может быть отбрасывание подозрительных значение. Это в принципе возможно, поскольку $76+47=123$ составляет чуть более $0.5\\%$ от всего массива данных. Но, если мы стремимся к сбережению данных, пока это возможно, более предпочтительным было бы их сохранить и исправить на основе нашего предположения."
   ]
  },
  {
   "cell_type": "code",
   "execution_count": 16,
   "id": "145a5402",
   "metadata": {},
   "outputs": [],
   "source": [
    "df.loc[df[\"children\"] == -1, \"children\"] = 1\n",
    "df.loc[df[\"children\"] == 20, \"children\"] = 2"
   ]
  },
  {
   "cell_type": "code",
   "execution_count": 17,
   "id": "938850ef",
   "metadata": {},
   "outputs": [
    {
     "data": {
      "image/png": "[encoded data removed]",
      "text/plain": [
       "<Figure size 864x576 with 1 Axes>"
      ]
     },
     "metadata": {
      "needs_background": "light"
     },
     "output_type": "display_data"
    }
   ],
   "source": [
    "fig = plt.gcf()\n",
    "fig.set_size_inches(12, 8)\n",
    "\n",
    "ax = sns.histplot(data=df[\"children\"], binwidth=0.5)\n",
    "ax.set_xlabel(\"Количество детей\")\n",
    "ax.set_ylabel(\"Клиенты\")\n",
    "ax.set_title(\"Распределение клиенты по количеству детей\");"
   ]
  },
  {
   "cell_type": "markdown",
   "id": "e9b89bf3",
   "metadata": {},
   "source": [
    "Это распределение уже больше похоже на правду."
   ]
  },
  {
   "cell_type": "markdown",
   "id": "55d06a6f",
   "metadata": {},
   "source": [
    "#### Вывод\n",
    "\n",
    "В параметре \"количество детей\" выли обнаружены два подозрительных значения -1 и 20. Они были исправлены в предполложении, что эти значения явились ошибками ввода данных и правильные значения &mdash; 1 и 2."
   ]
  },
  {
   "cell_type": "markdown",
   "id": "86f41fc5",
   "metadata": {},
   "source": [
    "### Категориальные переменные\n",
    "\n",
    "Ещё один предиктивный параметр в нашей задаче &mdash; семейное положение (`family_status`) &mdash; является категориальным. Ему уже поставлен в соответствие индекс (`family_status_id`). Так что строковое представление можно вынести из основной таблицы. Аналогичная ситуация и с образованием. Этот параметр не является целевым, но его влияние на возврат кредитов тоже можно проверить."
   ]
  },
  {
   "cell_type": "code",
   "execution_count": 18,
   "id": "40ade720",
   "metadata": {},
   "outputs": [
    {
     "data": {
      "text/html": [
       "<div>\n",
       "<style scoped>\n",
       "    .dataframe tbody tr th:only-of-type {\n",
       "        vertical-align: middle;\n",
       "    }\n",
       "\n",
       "    .dataframe tbody tr th {\n",
       "        vertical-align: top;\n",
       "    }\n",
       "\n",
       "    .dataframe thead th {\n",
       "        text-align: right;\n",
       "    }\n",
       "</style>\n",
       "<table border=\"1\" class=\"dataframe\">\n",
       "  <thead>\n",
       "    <tr style=\"text-align: right;\">\n",
       "      <th></th>\n",
       "      <th>family_status</th>\n",
       "    </tr>\n",
       "    <tr>\n",
       "      <th>family_status_id</th>\n",
       "      <th></th>\n",
       "    </tr>\n",
       "  </thead>\n",
       "  <tbody>\n",
       "    <tr>\n",
       "      <td>0</td>\n",
       "      <td>женат / замужем</td>\n",
       "    </tr>\n",
       "    <tr>\n",
       "      <td>1</td>\n",
       "      <td>гражданский брак</td>\n",
       "    </tr>\n",
       "    <tr>\n",
       "      <td>2</td>\n",
       "      <td>вдовец / вдова</td>\n",
       "    </tr>\n",
       "    <tr>\n",
       "      <td>3</td>\n",
       "      <td>в разводе</td>\n",
       "    </tr>\n",
       "    <tr>\n",
       "      <td>4</td>\n",
       "      <td>Не женат / не замужем</td>\n",
       "    </tr>\n",
       "  </tbody>\n",
       "</table>\n",
       "</div>"
      ],
      "text/plain": [
       "                          family_status\n",
       "family_status_id                       \n",
       "0                       женат / замужем\n",
       "1                      гражданский брак\n",
       "2                        вдовец / вдова\n",
       "3                             в разводе\n",
       "4                 Не женат / не замужем"
      ]
     },
     "execution_count": 18,
     "metadata": {},
     "output_type": "execute_result"
    }
   ],
   "source": [
    "family_status_dict = (\n",
    "    df[[\"family_status\", \"family_status_id\"]].drop_duplicates().reset_index(drop=True)\n",
    ")\n",
    "\n",
    "family_status_dict.set_index(\"family_status_id\", inplace=True)\n",
    "family_status_dict"
   ]
  },
  {
   "cell_type": "code",
   "execution_count": 19,
   "id": "777da982",
   "metadata": {},
   "outputs": [
    {
     "data": {
      "text/html": [
       "<div>\n",
       "<style scoped>\n",
       "    .dataframe tbody tr th:only-of-type {\n",
       "        vertical-align: middle;\n",
       "    }\n",
       "\n",
       "    .dataframe tbody tr th {\n",
       "        vertical-align: top;\n",
       "    }\n",
       "\n",
       "    .dataframe thead th {\n",
       "        text-align: right;\n",
       "    }\n",
       "</style>\n",
       "<table border=\"1\" class=\"dataframe\">\n",
       "  <thead>\n",
       "    <tr style=\"text-align: right;\">\n",
       "      <th></th>\n",
       "      <th>education</th>\n",
       "      <th>education_id</th>\n",
       "    </tr>\n",
       "  </thead>\n",
       "  <tbody>\n",
       "    <tr>\n",
       "      <td>0</td>\n",
       "      <td>высшее</td>\n",
       "      <td>0</td>\n",
       "    </tr>\n",
       "    <tr>\n",
       "      <td>1</td>\n",
       "      <td>среднее</td>\n",
       "      <td>1</td>\n",
       "    </tr>\n",
       "    <tr>\n",
       "      <td>2</td>\n",
       "      <td>неоконченное высшее</td>\n",
       "      <td>2</td>\n",
       "    </tr>\n",
       "    <tr>\n",
       "      <td>3</td>\n",
       "      <td>начальное</td>\n",
       "      <td>3</td>\n",
       "    </tr>\n",
       "    <tr>\n",
       "      <td>4</td>\n",
       "      <td>ученая степень</td>\n",
       "      <td>4</td>\n",
       "    </tr>\n",
       "  </tbody>\n",
       "</table>\n",
       "</div>"
      ],
      "text/plain": [
       "             education  education_id\n",
       "0               высшее             0\n",
       "1              среднее             1\n",
       "2  неоконченное высшее             2\n",
       "3            начальное             3\n",
       "4       ученая степень             4"
      ]
     },
     "execution_count": 19,
     "metadata": {},
     "output_type": "execute_result"
    }
   ],
   "source": [
    "pd.set_option(\"mode.chained_assignment\", None)\n",
    "education_dict = df[[\"education\", \"education_id\"]]\n",
    "education_dict[\"education\"] = education_dict[\"education\"].str.lower()\n",
    "education_dict = education_dict.drop_duplicates().reset_index(drop=True)\n",
    "\n",
    "education_dict"
   ]
  },
  {
   "cell_type": "code",
   "execution_count": 20,
   "id": "ba939bb6",
   "metadata": {},
   "outputs": [
    {
     "data": {
      "text/plain": [
       "education_id\n",
       "0     5260\n",
       "1    15233\n",
       "2      744\n",
       "3      282\n",
       "4        6\n",
       "Name: education, dtype: int64"
      ]
     },
     "execution_count": 20,
     "metadata": {},
     "output_type": "execute_result"
    }
   ],
   "source": [
    "df.groupby(\"education_id\")[\"education\"].count()"
   ]
  },
  {
   "cell_type": "markdown",
   "id": "849792df",
   "metadata": {},
   "source": [
    "Ничего неожиданного: большинство со средним образованием, дальше довольно большая группа с высшим и клиентов с научными степенями всего несколько человек.  "
   ]
  },
  {
   "cell_type": "markdown",
   "id": "5763c179",
   "metadata": {},
   "source": [
    "Наконец, есть ещё категориальные признаки \"тип занятости\" (`income_type`) и пол (`gender`). Для них индексы нужно создать:"
   ]
  },
  {
   "cell_type": "code",
   "execution_count": 21,
   "id": "60935f15",
   "metadata": {},
   "outputs": [
    {
     "data": {
      "text/plain": [
       "income_type\n",
       "безработный            2\n",
       "в декрете              1\n",
       "госслужащий         1459\n",
       "компаньон           5085\n",
       "пенсионер           3856\n",
       "предприниматель        2\n",
       "сотрудник          11119\n",
       "студент                1\n",
       "Name: income_type, dtype: int64"
      ]
     },
     "execution_count": 21,
     "metadata": {},
     "output_type": "execute_result"
    }
   ],
   "source": [
    "df.groupby(\"income_type\")[\"income_type\"].count()"
   ]
  },
  {
   "cell_type": "code",
   "execution_count": 22,
   "id": "1c421aad",
   "metadata": {},
   "outputs": [
    {
     "data": {
      "text/html": [
       "<div>\n",
       "<style scoped>\n",
       "    .dataframe tbody tr th:only-of-type {\n",
       "        vertical-align: middle;\n",
       "    }\n",
       "\n",
       "    .dataframe tbody tr th {\n",
       "        vertical-align: top;\n",
       "    }\n",
       "\n",
       "    .dataframe thead th {\n",
       "        text-align: right;\n",
       "    }\n",
       "</style>\n",
       "<table border=\"1\" class=\"dataframe\">\n",
       "  <thead>\n",
       "    <tr style=\"text-align: right;\">\n",
       "      <th></th>\n",
       "      <th>income_type_id</th>\n",
       "      <th>income_type</th>\n",
       "    </tr>\n",
       "  </thead>\n",
       "  <tbody>\n",
       "    <tr>\n",
       "      <td>0</td>\n",
       "      <td>6</td>\n",
       "      <td>сотрудник</td>\n",
       "    </tr>\n",
       "    <tr>\n",
       "      <td>1</td>\n",
       "      <td>4</td>\n",
       "      <td>пенсионер</td>\n",
       "    </tr>\n",
       "    <tr>\n",
       "      <td>2</td>\n",
       "      <td>3</td>\n",
       "      <td>компаньон</td>\n",
       "    </tr>\n",
       "    <tr>\n",
       "      <td>3</td>\n",
       "      <td>2</td>\n",
       "      <td>госслужащий</td>\n",
       "    </tr>\n",
       "    <tr>\n",
       "      <td>4</td>\n",
       "      <td>0</td>\n",
       "      <td>безработный</td>\n",
       "    </tr>\n",
       "    <tr>\n",
       "      <td>5</td>\n",
       "      <td>5</td>\n",
       "      <td>предприниматель</td>\n",
       "    </tr>\n",
       "    <tr>\n",
       "      <td>6</td>\n",
       "      <td>7</td>\n",
       "      <td>студент</td>\n",
       "    </tr>\n",
       "    <tr>\n",
       "      <td>7</td>\n",
       "      <td>1</td>\n",
       "      <td>в декрете</td>\n",
       "    </tr>\n",
       "  </tbody>\n",
       "</table>\n",
       "</div>"
      ],
      "text/plain": [
       "   income_type_id      income_type\n",
       "0               6        сотрудник\n",
       "1               4        пенсионер\n",
       "2               3        компаньон\n",
       "3               2      госслужащий\n",
       "4               0      безработный\n",
       "5               5  предприниматель\n",
       "6               7          студент\n",
       "7               1        в декрете"
      ]
     },
     "execution_count": 22,
     "metadata": {},
     "output_type": "execute_result"
    }
   ],
   "source": [
    "df[\"income_type\"] = df[\"income_type\"].astype(\"category\")\n",
    "df[\"income_type_id\"] = df[\"income_type\"].cat.codes\n",
    "\n",
    "income_type_dict = df[[\"income_type_id\", \"income_type\"]].drop_duplicates().reset_index(drop=True)\n",
    "income_type_dict"
   ]
  },
  {
   "cell_type": "markdown",
   "id": "df25dc1d",
   "metadata": {},
   "source": [
    "Распределение клиентов по типам занятости кажется странным: самая большая группа это \"сотрудники\". Это сотрудники банка? Больше половины кредитов берут собственные сотрудники банка? Следующая по численности группа - \"компаньон\". Кто это? Совладельцы бизнесов? Тогда почему их так много, что особенно странно на фоне того, что \"предпринимателей\" всего 2. Без дополнительных разъяснений значений в этом показателе, он представляется бесполезным для прогноза."
   ]
  },
  {
   "cell_type": "markdown",
   "id": "3ef1cd7e",
   "metadata": {},
   "source": [
    "В категории \"пол\" также имеет место один неявный пропуск."
   ]
  },
  {
   "cell_type": "code",
   "execution_count": 23,
   "id": "f517ccc6",
   "metadata": {},
   "outputs": [
    {
     "data": {
      "text/plain": [
       "F      14236\n",
       "M       7288\n",
       "XNA        1\n",
       "Name: gender, dtype: int64"
      ]
     },
     "execution_count": 23,
     "metadata": {},
     "output_type": "execute_result"
    }
   ],
   "source": [
    "df[\"gender\"].value_counts()"
   ]
  },
  {
   "cell_type": "markdown",
   "id": "50ea08b7",
   "metadata": {},
   "source": [
    "Поскольку $66\\%$ клиентов в нашей выборке &mdash; женщины, наиболее вероятно, что клиент с неопределённым полом тоже женщина."
   ]
  },
  {
   "cell_type": "code",
   "execution_count": 24,
   "id": "7d00980a",
   "metadata": {},
   "outputs": [
    {
     "data": {
      "text/html": [
       "<div>\n",
       "<style scoped>\n",
       "    .dataframe tbody tr th:only-of-type {\n",
       "        vertical-align: middle;\n",
       "    }\n",
       "\n",
       "    .dataframe tbody tr th {\n",
       "        vertical-align: top;\n",
       "    }\n",
       "\n",
       "    .dataframe thead th {\n",
       "        text-align: right;\n",
       "    }\n",
       "</style>\n",
       "<table border=\"1\" class=\"dataframe\">\n",
       "  <thead>\n",
       "    <tr style=\"text-align: right;\">\n",
       "      <th></th>\n",
       "      <th>gender_id</th>\n",
       "      <th>gender</th>\n",
       "    </tr>\n",
       "  </thead>\n",
       "  <tbody>\n",
       "    <tr>\n",
       "      <td>0</td>\n",
       "      <td>0</td>\n",
       "      <td>F</td>\n",
       "    </tr>\n",
       "    <tr>\n",
       "      <td>1</td>\n",
       "      <td>1</td>\n",
       "      <td>M</td>\n",
       "    </tr>\n",
       "  </tbody>\n",
       "</table>\n",
       "</div>"
      ],
      "text/plain": [
       "   gender_id gender\n",
       "0          0      F\n",
       "1          1      M"
      ]
     },
     "execution_count": 24,
     "metadata": {},
     "output_type": "execute_result"
    }
   ],
   "source": [
    "df.loc[df[\"gender\"] == \"XNA\", \"gender\"] = \"F\"\n",
    "\n",
    "df[\"gender\"] = df[\"gender\"].astype(\"category\")\n",
    "df[\"gender_id\"] = df[\"gender\"].cat.codes\n",
    "\n",
    "gender_dict = df[[\"gender_id\", \"gender\"]].drop_duplicates().reset_index(drop=True)\n",
    "gender_dict"
   ]
  },
  {
   "cell_type": "markdown",
   "id": "1aedf1d1",
   "metadata": {},
   "source": [
    "После создания таблиц-словарей, более ненужные колонки можно удалить:"
   ]
  },
  {
   "cell_type": "code",
   "execution_count": 25,
   "id": "111b92ca",
   "metadata": {},
   "outputs": [],
   "source": [
    "df = df.drop(\n",
    "    columns=[\"family_status\", \"education\", \"gender\", \"income_type\"]\n",
    ")"
   ]
  },
  {
   "cell_type": "code",
   "execution_count": 26,
   "id": "5dca9198",
   "metadata": {},
   "outputs": [
    {
     "name": "stdout",
     "output_type": "stream",
     "text": [
      "<class 'pandas.core.frame.DataFrame'>\n",
      "RangeIndex: 21525 entries, 0 to 21524\n",
      "Data columns (total 10 columns):\n",
      "children            21525 non-null int64\n",
      "days_employed       19351 non-null float64\n",
      "dob_years           21525 non-null int64\n",
      "education_id        21525 non-null int64\n",
      "family_status_id    21525 non-null int64\n",
      "debt                21525 non-null int64\n",
      "total_income        19351 non-null float64\n",
      "purpose             21525 non-null object\n",
      "income_type_id      21525 non-null int8\n",
      "gender_id           21525 non-null int8\n",
      "dtypes: float64(2), int64(5), int8(2), object(1)\n",
      "memory usage: 1.4+ MB\n"
     ]
    }
   ],
   "source": [
    "df.info()"
   ]
  },
  {
   "cell_type": "markdown",
   "id": "312f4dee",
   "metadata": {
    "tags": []
   },
   "source": [
    "#### Вывод\n",
    "\n",
    "Все категориальные переменные вынесены в отдельные таблицы-справочники и в основной таблице заменены собственными индексами. Также в процессе подготовки данных был выявлен и заменён один пропуск в колонке \"пол\".\n",
    "\n",
    "Альтернативой использованому методу \"справочной таблицы\" могло бы стать применение метода `DataFrame.astype('category')`. Но это вызвало бы проблемы с заполнением пропусков (см. ниже раздел \"Заполнение пропусков\") "
   ]
  },
  {
   "cell_type": "markdown",
   "id": "457bcd61",
   "metadata": {},
   "source": [
    "### Цель кредита\n",
    "\n",
    "Если я правильно понял задачу, то параметр \"Цель получения кредита\" (`purpose`) имеет отношение исключительно к будущему кредиту, по которому клиент сделал заявку. \n",
    "\n",
    "В таком случае, анализ кредитных рисков на основе показателя \"цель кредита\" антинаучно и сродни гаданию: мы пытаемся делать прогноз на основе целей будущего кредита опираясь на отсутствующие данных о прошлых кредитах. Чтобы это имело хоть какой-то смысл, нам придётся сделать очень смелое предположение, что один и тот же клиент из раза в раз берёт кредиты на одни и теже цели. Это ещё как-то можно допустить, когда речь идёт о покупке авто (распространённая цель кредита и некоторые граждан часто меняют авто). Но повторные и тем более, многократные кредиты на покупку недвижимости (большАя часть клиентов имеет доход в несколько десятков тысяч рублей) или на свадьбу кажется очень маловероятными.\n",
    "\n",
    "Для работы с текстами \"целей кредита\" будем использовать пакет `Pymystem3` от Яндекса, а именно функцию `analyze`, которая не только лемматезирует текст, но и теггирует его, то есть проводит морфологический анализ слова. Дело в том что простой лемматизации не достаточно: мало того, что среди лемм оказываются леммы из пробельных символов, но и ненужные для наших целей слова. Это касается как предлогов, так и глаголов с прилагательными: для того, чтобы понять цель кредита достаточно одних существительных.   "
   ]
  },
  {
   "cell_type": "code",
   "execution_count": 27,
   "id": "00914b19",
   "metadata": {},
   "outputs": [],
   "source": [
    "m = Mystem()\n",
    "df[\"purpose_lemmas\"] = df[\"purpose\"].apply(\n",
    "    lambda y: [\n",
    "        x[\"analysis\"][0][\"lex\"]\n",
    "        for x in m.analyze(y)\n",
    "        if \"analysis\" in x and x[\"analysis\"][0][\"gr\"].startswith(\"S\")\n",
    "    ]\n",
    ")"
   ]
  },
  {
   "cell_type": "markdown",
   "id": "829c5ddc",
   "metadata": {},
   "source": [
    "Проведём анализ каждой цели и сохраним в новой колонке список существительных в нормальной форме."
   ]
  },
  {
   "cell_type": "code",
   "execution_count": 28,
   "id": "98987c02",
   "metadata": {},
   "outputs": [
    {
     "data": {
      "text/html": [
       "<div>\n",
       "<style scoped>\n",
       "    .dataframe tbody tr th:only-of-type {\n",
       "        vertical-align: middle;\n",
       "    }\n",
       "\n",
       "    .dataframe tbody tr th {\n",
       "        vertical-align: top;\n",
       "    }\n",
       "\n",
       "    .dataframe thead th {\n",
       "        text-align: right;\n",
       "    }\n",
       "</style>\n",
       "<table border=\"1\" class=\"dataframe\">\n",
       "  <thead>\n",
       "    <tr style=\"text-align: right;\">\n",
       "      <th></th>\n",
       "      <th>children</th>\n",
       "      <th>days_employed</th>\n",
       "      <th>dob_years</th>\n",
       "      <th>education_id</th>\n",
       "      <th>family_status_id</th>\n",
       "      <th>debt</th>\n",
       "      <th>total_income</th>\n",
       "      <th>purpose</th>\n",
       "      <th>income_type_id</th>\n",
       "      <th>gender_id</th>\n",
       "      <th>purpose_lemmas</th>\n",
       "    </tr>\n",
       "  </thead>\n",
       "  <tbody>\n",
       "    <tr>\n",
       "      <td>0</td>\n",
       "      <td>1</td>\n",
       "      <td>-8,437.67</td>\n",
       "      <td>42</td>\n",
       "      <td>0</td>\n",
       "      <td>0</td>\n",
       "      <td>0</td>\n",
       "      <td>253,875.64</td>\n",
       "      <td>покупка жилья</td>\n",
       "      <td>6</td>\n",
       "      <td>0</td>\n",
       "      <td>[покупка, жилье]</td>\n",
       "    </tr>\n",
       "    <tr>\n",
       "      <td>1</td>\n",
       "      <td>1</td>\n",
       "      <td>-4,024.80</td>\n",
       "      <td>36</td>\n",
       "      <td>1</td>\n",
       "      <td>0</td>\n",
       "      <td>0</td>\n",
       "      <td>112,080.01</td>\n",
       "      <td>приобретение автомобиля</td>\n",
       "      <td>6</td>\n",
       "      <td>0</td>\n",
       "      <td>[приобретение, автомобиль]</td>\n",
       "    </tr>\n",
       "    <tr>\n",
       "      <td>2</td>\n",
       "      <td>0</td>\n",
       "      <td>-5,623.42</td>\n",
       "      <td>33</td>\n",
       "      <td>1</td>\n",
       "      <td>0</td>\n",
       "      <td>0</td>\n",
       "      <td>145,885.95</td>\n",
       "      <td>покупка жилья</td>\n",
       "      <td>6</td>\n",
       "      <td>1</td>\n",
       "      <td>[покупка, жилье]</td>\n",
       "    </tr>\n",
       "    <tr>\n",
       "      <td>3</td>\n",
       "      <td>3</td>\n",
       "      <td>-4,124.75</td>\n",
       "      <td>32</td>\n",
       "      <td>1</td>\n",
       "      <td>0</td>\n",
       "      <td>0</td>\n",
       "      <td>267,628.55</td>\n",
       "      <td>дополнительное образование</td>\n",
       "      <td>6</td>\n",
       "      <td>1</td>\n",
       "      <td>[образование]</td>\n",
       "    </tr>\n",
       "    <tr>\n",
       "      <td>4</td>\n",
       "      <td>0</td>\n",
       "      <td>340,266.07</td>\n",
       "      <td>53</td>\n",
       "      <td>1</td>\n",
       "      <td>1</td>\n",
       "      <td>0</td>\n",
       "      <td>158,616.08</td>\n",
       "      <td>сыграть свадьбу</td>\n",
       "      <td>4</td>\n",
       "      <td>0</td>\n",
       "      <td>[свадьба]</td>\n",
       "    </tr>\n",
       "  </tbody>\n",
       "</table>\n",
       "</div>"
      ],
      "text/plain": [
       "   children  days_employed  dob_years  education_id  family_status_id  debt  \\\n",
       "0         1      -8,437.67         42             0                 0     0   \n",
       "1         1      -4,024.80         36             1                 0     0   \n",
       "2         0      -5,623.42         33             1                 0     0   \n",
       "3         3      -4,124.75         32             1                 0     0   \n",
       "4         0     340,266.07         53             1                 1     0   \n",
       "\n",
       "   total_income                     purpose  income_type_id  gender_id  \\\n",
       "0    253,875.64               покупка жилья               6          0   \n",
       "1    112,080.01     приобретение автомобиля               6          0   \n",
       "2    145,885.95               покупка жилья               6          1   \n",
       "3    267,628.55  дополнительное образование               6          1   \n",
       "4    158,616.08             сыграть свадьбу               4          0   \n",
       "\n",
       "               purpose_lemmas  \n",
       "0            [покупка, жилье]  \n",
       "1  [приобретение, автомобиль]  \n",
       "2            [покупка, жилье]  \n",
       "3               [образование]  \n",
       "4                   [свадьба]  "
      ]
     },
     "execution_count": 28,
     "metadata": {},
     "output_type": "execute_result"
    }
   ],
   "source": [
    "df.head()"
   ]
  },
  {
   "cell_type": "code",
   "execution_count": 29,
   "id": "c25621f9",
   "metadata": {},
   "outputs": [
    {
     "data": {
      "text/plain": [
       "array([\"['покупка', 'жилье']\", \"['приобретение', 'автомобиль']\",\n",
       "       \"['образование']\", \"['свадьба']\", \"['операция', 'жилье']\",\n",
       "       \"['проведение', 'свадьба']\", \"['покупка', 'жилье', 'семья']\",\n",
       "       \"['покупка', 'недвижимость']\", \"['строительство', 'недвижимость']\",\n",
       "       \"['недвижимость']\", \"['покупка', 'автомобиль']\",\n",
       "       \"['операция', 'недвижимость']\", \"['жилье']\", \"['автомобиль']\",\n",
       "       \"['сделка', 'автомобиль']\", \"['получение', 'образование']\",\n",
       "       \"['покупка', 'жилье', 'сдача']\", \"['ремонт', 'жилье']\"],\n",
       "      dtype=object)"
      ]
     },
     "execution_count": 29,
     "metadata": {},
     "output_type": "execute_result"
    }
   ],
   "source": [
    "df['purpose_lemmas'].astype('str').unique()"
   ]
  },
  {
   "cell_type": "markdown",
   "id": "9835c3d5",
   "metadata": {},
   "source": [
    "Видно, что некоторые слова в наших списках лемм синонимичны (\"недвижимость\" и \"жильё\"), а некотрорые существуют исключительно в привязке к другим: \"строительство\" + \"недвижимость\", \"получение\"+\"образование\", ... И чистку можно было бы продолжить. Но мы отдаём себе отчёт в том, что в реальных выгрузках данных поля, заполненные в свободной форме будут иметь существенно больше уникальных значений и подобная ручная чистка будет невозможной. Поэтому оставим как есть, держа в уме связь между некоторыми из лемм."
   ]
  },
  {
   "cell_type": "markdown",
   "id": "286048d3",
   "metadata": {},
   "source": [
    "Теперь нам нужно получить список всех существительных, которые используются в \"целях кредита\". На основе этого списка создадим новые колонки, которые образуют категории. В соответствующих колонках будем отмечать содержит ли цель данное слово (принадлежит ли к соответствующей категории)  "
   ]
  },
  {
   "cell_type": "code",
   "execution_count": 30,
   "id": "caf4aa45",
   "metadata": {
    "tags": []
   },
   "outputs": [],
   "source": [
    "targets = reduce(lambda x,y: x+y, df['purpose_lemmas'])"
   ]
  },
  {
   "cell_type": "markdown",
   "id": "36f98178",
   "metadata": {},
   "source": [
    "Выведем список лемм и список лемматезированных фраз, отсортированных по частотности"
   ]
  },
  {
   "cell_type": "code",
   "execution_count": 31,
   "id": "25f48b61",
   "metadata": {
    "scrolled": true
   },
   "outputs": [
    {
     "data": {
      "text/plain": [
       "[('недвижимость', 6367),\n",
       " ('покупка', 5912),\n",
       " ('жилье', 4473),\n",
       " ('автомобиль', 4315),\n",
       " ('образование', 4022),\n",
       " ('операция', 2610),\n",
       " ('свадьба', 2348),\n",
       " ('строительство', 1881),\n",
       " ('получение', 1316),\n",
       " ('сделка', 944),\n",
       " ('проведение', 777),\n",
       " ('сдача', 653),\n",
       " ('семья', 641),\n",
       " ('ремонт', 612),\n",
       " ('приобретение', 462)]"
      ]
     },
     "execution_count": 31,
     "metadata": {},
     "output_type": "execute_result"
    }
   ],
   "source": [
    "Counter(targets).most_common()"
   ]
  },
  {
   "cell_type": "code",
   "execution_count": 32,
   "id": "4e68910f",
   "metadata": {},
   "outputs": [
    {
     "data": {
      "text/plain": [
       "[(\"['образование']\", 2706),\n",
       " (\"['операция', 'недвижимость']\", 1957),\n",
       " (\"['покупка', 'недвижимость']\", 1895),\n",
       " (\"['строительство', 'недвижимость']\", 1881),\n",
       " (\"['свадьба']\", 1571),\n",
       " (\"['покупка', 'автомобиль']\", 1456),\n",
       " (\"['автомобиль']\", 1453),\n",
       " (\"['получение', 'образование']\", 1316),\n",
       " (\"['покупка', 'жилье']\", 1267),\n",
       " (\"['сделка', 'автомобиль']\", 944),\n",
       " (\"['проведение', 'свадьба']\", 777),\n",
       " (\"['операция', 'жилье']\", 653),\n",
       " (\"['покупка', 'жилье', 'сдача']\", 653),\n",
       " (\"['жилье']\", 647),\n",
       " (\"['покупка', 'жилье', 'семья']\", 641),\n",
       " (\"['недвижимость']\", 634),\n",
       " (\"['ремонт', 'жилье']\", 612),\n",
       " (\"['приобретение', 'автомобиль']\", 462)]"
      ]
     },
     "execution_count": 32,
     "metadata": {},
     "output_type": "execute_result"
    }
   ],
   "source": [
    "Counter(df['purpose_lemmas'].astype('str')).most_common()"
   ]
  },
  {
   "cell_type": "markdown",
   "id": "74d192be",
   "metadata": {},
   "source": [
    "Видно, что при частоте менее 2000 повторов идут только уточняющие слова типа \"сделка\", \"проведение\", ... Поскольку главное слово, очевидно присудствует среди лемм, эти слова также становятся ненужными. Похожи на них и два более частотных слова: \"покупка\" и \"операция\". С очевидностью слово \"покупка\" тоже уточняющее (['покупка', 'жилье'], ['покупка', 'жилье', 'семья'], ['покупка', 'недвижимость'], ['покупка', 'автомобиль']) и участвует сразу в двух целях (авто и недвижимость). \n",
    "\n",
    "Остаётся только \"операция\", но можно также легко проверить в ручном режиме и убедиться, что речь не идёт о медицине.\n",
    "\n",
    "Таким образом у нас остаётся всего несколько лемм: 'недвижимость', 'жилье', 'автомобиль', 'образование', 'свадьба', причём у каждого клиента присутствует одна и только из этих целей. Это даёт нам возможность построить ещё одну категорию. Есстественно, синонимы 'недвижимость' и 'жилье' мы объединим."
   ]
  },
  {
   "cell_type": "code",
   "execution_count": 33,
   "id": "ad3721c9",
   "metadata": {},
   "outputs": [
    {
     "data": {
      "text/html": [
       "<div>\n",
       "<style scoped>\n",
       "    .dataframe tbody tr th:only-of-type {\n",
       "        vertical-align: middle;\n",
       "    }\n",
       "\n",
       "    .dataframe tbody tr th {\n",
       "        vertical-align: top;\n",
       "    }\n",
       "\n",
       "    .dataframe thead th {\n",
       "        text-align: right;\n",
       "    }\n",
       "</style>\n",
       "<table border=\"1\" class=\"dataframe\">\n",
       "  <thead>\n",
       "    <tr style=\"text-align: right;\">\n",
       "      <th></th>\n",
       "      <th>purpose</th>\n",
       "    </tr>\n",
       "    <tr>\n",
       "      <th>purpose_id</th>\n",
       "      <th></th>\n",
       "    </tr>\n",
       "  </thead>\n",
       "  <tbody>\n",
       "    <tr>\n",
       "      <td>0</td>\n",
       "      <td>недвижимость</td>\n",
       "    </tr>\n",
       "    <tr>\n",
       "      <td>1</td>\n",
       "      <td>автомобиль</td>\n",
       "    </tr>\n",
       "    <tr>\n",
       "      <td>2</td>\n",
       "      <td>образование</td>\n",
       "    </tr>\n",
       "    <tr>\n",
       "      <td>3</td>\n",
       "      <td>свадьба</td>\n",
       "    </tr>\n",
       "  </tbody>\n",
       "</table>\n",
       "</div>"
      ],
      "text/plain": [
       "                 purpose\n",
       "purpose_id              \n",
       "0           недвижимость\n",
       "1             автомобиль\n",
       "2            образование\n",
       "3                свадьба"
      ]
     },
     "execution_count": 33,
     "metadata": {},
     "output_type": "execute_result"
    }
   ],
   "source": [
    "purpose_dict = pd.DataFrame({\"purpose\":['недвижимость', 'автомобиль', 'образование', 'свадьба'], \n",
    "                            \"purpose_id\":range(4)})\n",
    "purpose_dict.set_index(\"purpose_id\", inplace=True)\n",
    "purpose_dict"
   ]
  },
  {
   "cell_type": "code",
   "execution_count": 34,
   "id": "fe1c5997",
   "metadata": {},
   "outputs": [],
   "source": [
    "lemmas_dict = {\n",
    "    \"недвижимость\": 0,\n",
    "    \"жилье\": 0,\n",
    "    \"автомобиль\": 1,\n",
    "    \"образование\": 2,\n",
    "    \"свадьба\": 3,\n",
    "}\n",
    "\n",
    "\n",
    "def lemma2category(lemmmas):\n",
    "    \"\"\"функция принимает на вход список лемм и возвращает id категории\"\"\"\n",
    "    for l, id in lemmas_dict.items():\n",
    "        if l in lemmmas:\n",
    "            return id"
   ]
  },
  {
   "cell_type": "markdown",
   "id": "f0170d6d",
   "metadata": {},
   "source": [
    "Применим нашу функцию к таблице: "
   ]
  },
  {
   "cell_type": "code",
   "execution_count": 35,
   "id": "f6b0ec91",
   "metadata": {},
   "outputs": [],
   "source": [
    "df['purpose_id'] = df[\"purpose_lemmas\"].apply(lemma2category)"
   ]
  },
  {
   "cell_type": "code",
   "execution_count": 36,
   "id": "254964fa",
   "metadata": {},
   "outputs": [
    {
     "data": {
      "text/html": [
       "<div>\n",
       "<style scoped>\n",
       "    .dataframe tbody tr th:only-of-type {\n",
       "        vertical-align: middle;\n",
       "    }\n",
       "\n",
       "    .dataframe tbody tr th {\n",
       "        vertical-align: top;\n",
       "    }\n",
       "\n",
       "    .dataframe thead th {\n",
       "        text-align: right;\n",
       "    }\n",
       "</style>\n",
       "<table border=\"1\" class=\"dataframe\">\n",
       "  <thead>\n",
       "    <tr style=\"text-align: right;\">\n",
       "      <th></th>\n",
       "      <th>children</th>\n",
       "      <th>days_employed</th>\n",
       "      <th>dob_years</th>\n",
       "      <th>education_id</th>\n",
       "      <th>family_status_id</th>\n",
       "      <th>debt</th>\n",
       "      <th>total_income</th>\n",
       "      <th>purpose</th>\n",
       "      <th>income_type_id</th>\n",
       "      <th>gender_id</th>\n",
       "      <th>purpose_lemmas</th>\n",
       "      <th>purpose_id</th>\n",
       "    </tr>\n",
       "  </thead>\n",
       "  <tbody>\n",
       "    <tr>\n",
       "      <td>0</td>\n",
       "      <td>1</td>\n",
       "      <td>-8,437.67</td>\n",
       "      <td>42</td>\n",
       "      <td>0</td>\n",
       "      <td>0</td>\n",
       "      <td>0</td>\n",
       "      <td>253,875.64</td>\n",
       "      <td>покупка жилья</td>\n",
       "      <td>6</td>\n",
       "      <td>0</td>\n",
       "      <td>[покупка, жилье]</td>\n",
       "      <td>0</td>\n",
       "    </tr>\n",
       "    <tr>\n",
       "      <td>1</td>\n",
       "      <td>1</td>\n",
       "      <td>-4,024.80</td>\n",
       "      <td>36</td>\n",
       "      <td>1</td>\n",
       "      <td>0</td>\n",
       "      <td>0</td>\n",
       "      <td>112,080.01</td>\n",
       "      <td>приобретение автомобиля</td>\n",
       "      <td>6</td>\n",
       "      <td>0</td>\n",
       "      <td>[приобретение, автомобиль]</td>\n",
       "      <td>1</td>\n",
       "    </tr>\n",
       "    <tr>\n",
       "      <td>2</td>\n",
       "      <td>0</td>\n",
       "      <td>-5,623.42</td>\n",
       "      <td>33</td>\n",
       "      <td>1</td>\n",
       "      <td>0</td>\n",
       "      <td>0</td>\n",
       "      <td>145,885.95</td>\n",
       "      <td>покупка жилья</td>\n",
       "      <td>6</td>\n",
       "      <td>1</td>\n",
       "      <td>[покупка, жилье]</td>\n",
       "      <td>0</td>\n",
       "    </tr>\n",
       "    <tr>\n",
       "      <td>3</td>\n",
       "      <td>3</td>\n",
       "      <td>-4,124.75</td>\n",
       "      <td>32</td>\n",
       "      <td>1</td>\n",
       "      <td>0</td>\n",
       "      <td>0</td>\n",
       "      <td>267,628.55</td>\n",
       "      <td>дополнительное образование</td>\n",
       "      <td>6</td>\n",
       "      <td>1</td>\n",
       "      <td>[образование]</td>\n",
       "      <td>2</td>\n",
       "    </tr>\n",
       "    <tr>\n",
       "      <td>4</td>\n",
       "      <td>0</td>\n",
       "      <td>340,266.07</td>\n",
       "      <td>53</td>\n",
       "      <td>1</td>\n",
       "      <td>1</td>\n",
       "      <td>0</td>\n",
       "      <td>158,616.08</td>\n",
       "      <td>сыграть свадьбу</td>\n",
       "      <td>4</td>\n",
       "      <td>0</td>\n",
       "      <td>[свадьба]</td>\n",
       "      <td>3</td>\n",
       "    </tr>\n",
       "  </tbody>\n",
       "</table>\n",
       "</div>"
      ],
      "text/plain": [
       "   children  days_employed  dob_years  education_id  family_status_id  debt  \\\n",
       "0         1      -8,437.67         42             0                 0     0   \n",
       "1         1      -4,024.80         36             1                 0     0   \n",
       "2         0      -5,623.42         33             1                 0     0   \n",
       "3         3      -4,124.75         32             1                 0     0   \n",
       "4         0     340,266.07         53             1                 1     0   \n",
       "\n",
       "   total_income                     purpose  income_type_id  gender_id  \\\n",
       "0    253,875.64               покупка жилья               6          0   \n",
       "1    112,080.01     приобретение автомобиля               6          0   \n",
       "2    145,885.95               покупка жилья               6          1   \n",
       "3    267,628.55  дополнительное образование               6          1   \n",
       "4    158,616.08             сыграть свадьбу               4          0   \n",
       "\n",
       "               purpose_lemmas  purpose_id  \n",
       "0            [покупка, жилье]           0  \n",
       "1  [приобретение, автомобиль]           1  \n",
       "2            [покупка, жилье]           0  \n",
       "3               [образование]           2  \n",
       "4                   [свадьба]           3  "
      ]
     },
     "execution_count": 36,
     "metadata": {},
     "output_type": "execute_result"
    }
   ],
   "source": [
    "df.head()"
   ]
  },
  {
   "cell_type": "markdown",
   "id": "e6c62d5d",
   "metadata": {},
   "source": [
    "Колонки `purpose` и `purpose_lemmas` нам больше не нужны"
   ]
  },
  {
   "cell_type": "code",
   "execution_count": 37,
   "id": "743dc8eb",
   "metadata": {},
   "outputs": [],
   "source": [
    "df = df.drop(['purpose','purpose_lemmas'],axis=1)"
   ]
  },
  {
   "cell_type": "markdown",
   "id": "6995e488",
   "metadata": {},
   "source": [
    "#### Вывод\n",
    "\n",
    "Проведена лемматизация значений критерия \"цель кредита\" и чистка от незначимых лемм. В результате каждому клиенту соответствует категориальная цель. "
   ]
  },
  {
   "cell_type": "markdown",
   "id": "ac92d9bc",
   "metadata": {
    "tags": []
   },
   "source": [
    "### Возраст\n",
    "\n",
    "Возраст &mdash; числовой параметр без явных пропусков (`NaN`). Но он имеет неявные пропуски: у 101 клиента указан нулевой возраст. В тоже время явно несовершеннолетних ($0 < dob\\_years\\leq 18$) среди клиентов не наблюдается. Скорее всего это человеческая ошибка в заполнении данных."
   ]
  },
  {
   "cell_type": "code",
   "execution_count": 38,
   "id": "300ca950",
   "metadata": {},
   "outputs": [
    {
     "data": {
      "text/html": [
       "<div>\n",
       "<style scoped>\n",
       "    .dataframe tbody tr th:only-of-type {\n",
       "        vertical-align: middle;\n",
       "    }\n",
       "\n",
       "    .dataframe tbody tr th {\n",
       "        vertical-align: top;\n",
       "    }\n",
       "\n",
       "    .dataframe thead th {\n",
       "        text-align: right;\n",
       "    }\n",
       "</style>\n",
       "<table border=\"1\" class=\"dataframe\">\n",
       "  <thead>\n",
       "    <tr style=\"text-align: right;\">\n",
       "      <th></th>\n",
       "      <th>children</th>\n",
       "      <th>days_employed</th>\n",
       "      <th>dob_years</th>\n",
       "      <th>education_id</th>\n",
       "      <th>family_status_id</th>\n",
       "      <th>debt</th>\n",
       "      <th>total_income</th>\n",
       "      <th>income_type_id</th>\n",
       "      <th>gender_id</th>\n",
       "      <th>purpose_id</th>\n",
       "    </tr>\n",
       "  </thead>\n",
       "  <tbody>\n",
       "    <tr>\n",
       "      <td>99</td>\n",
       "      <td>0</td>\n",
       "      <td>346,541.62</td>\n",
       "      <td>0</td>\n",
       "      <td>1</td>\n",
       "      <td>0</td>\n",
       "      <td>0</td>\n",
       "      <td>71,291.52</td>\n",
       "      <td>4</td>\n",
       "      <td>0</td>\n",
       "      <td>1</td>\n",
       "    </tr>\n",
       "    <tr>\n",
       "      <td>149</td>\n",
       "      <td>0</td>\n",
       "      <td>-2,664.27</td>\n",
       "      <td>0</td>\n",
       "      <td>1</td>\n",
       "      <td>3</td>\n",
       "      <td>0</td>\n",
       "      <td>70,176.44</td>\n",
       "      <td>6</td>\n",
       "      <td>0</td>\n",
       "      <td>0</td>\n",
       "    </tr>\n",
       "    <tr>\n",
       "      <td>270</td>\n",
       "      <td>3</td>\n",
       "      <td>-1,872.66</td>\n",
       "      <td>0</td>\n",
       "      <td>1</td>\n",
       "      <td>0</td>\n",
       "      <td>0</td>\n",
       "      <td>102,166.46</td>\n",
       "      <td>6</td>\n",
       "      <td>0</td>\n",
       "      <td>0</td>\n",
       "    </tr>\n",
       "    <tr>\n",
       "      <td>578</td>\n",
       "      <td>0</td>\n",
       "      <td>397,856.57</td>\n",
       "      <td>0</td>\n",
       "      <td>1</td>\n",
       "      <td>0</td>\n",
       "      <td>0</td>\n",
       "      <td>97,620.69</td>\n",
       "      <td>4</td>\n",
       "      <td>0</td>\n",
       "      <td>0</td>\n",
       "    </tr>\n",
       "    <tr>\n",
       "      <td>1040</td>\n",
       "      <td>0</td>\n",
       "      <td>-1,158.03</td>\n",
       "      <td>0</td>\n",
       "      <td>0</td>\n",
       "      <td>3</td>\n",
       "      <td>0</td>\n",
       "      <td>303,994.13</td>\n",
       "      <td>3</td>\n",
       "      <td>0</td>\n",
       "      <td>1</td>\n",
       "    </tr>\n",
       "    <tr>\n",
       "      <td>1149</td>\n",
       "      <td>0</td>\n",
       "      <td>-934.65</td>\n",
       "      <td>0</td>\n",
       "      <td>1</td>\n",
       "      <td>0</td>\n",
       "      <td>0</td>\n",
       "      <td>201,852.43</td>\n",
       "      <td>3</td>\n",
       "      <td>0</td>\n",
       "      <td>0</td>\n",
       "    </tr>\n",
       "    <tr>\n",
       "      <td>1175</td>\n",
       "      <td>0</td>\n",
       "      <td>370,879.51</td>\n",
       "      <td>0</td>\n",
       "      <td>1</td>\n",
       "      <td>0</td>\n",
       "      <td>0</td>\n",
       "      <td>313,949.85</td>\n",
       "      <td>4</td>\n",
       "      <td>0</td>\n",
       "      <td>2</td>\n",
       "    </tr>\n",
       "    <tr>\n",
       "      <td>1386</td>\n",
       "      <td>0</td>\n",
       "      <td>-5,043.22</td>\n",
       "      <td>0</td>\n",
       "      <td>0</td>\n",
       "      <td>0</td>\n",
       "      <td>0</td>\n",
       "      <td>240,523.62</td>\n",
       "      <td>2</td>\n",
       "      <td>1</td>\n",
       "      <td>1</td>\n",
       "    </tr>\n",
       "    <tr>\n",
       "      <td>1890</td>\n",
       "      <td>0</td>\n",
       "      <td>nan</td>\n",
       "      <td>0</td>\n",
       "      <td>0</td>\n",
       "      <td>4</td>\n",
       "      <td>0</td>\n",
       "      <td>nan</td>\n",
       "      <td>6</td>\n",
       "      <td>0</td>\n",
       "      <td>0</td>\n",
       "    </tr>\n",
       "    <tr>\n",
       "      <td>1898</td>\n",
       "      <td>0</td>\n",
       "      <td>370,144.54</td>\n",
       "      <td>0</td>\n",
       "      <td>1</td>\n",
       "      <td>2</td>\n",
       "      <td>0</td>\n",
       "      <td>127,400.27</td>\n",
       "      <td>4</td>\n",
       "      <td>0</td>\n",
       "      <td>1</td>\n",
       "    </tr>\n",
       "  </tbody>\n",
       "</table>\n",
       "</div>"
      ],
      "text/plain": [
       "      children  days_employed  dob_years  education_id  family_status_id  \\\n",
       "99           0     346,541.62          0             1                 0   \n",
       "149          0      -2,664.27          0             1                 3   \n",
       "270          3      -1,872.66          0             1                 0   \n",
       "578          0     397,856.57          0             1                 0   \n",
       "1040         0      -1,158.03          0             0                 3   \n",
       "1149         0        -934.65          0             1                 0   \n",
       "1175         0     370,879.51          0             1                 0   \n",
       "1386         0      -5,043.22          0             0                 0   \n",
       "1890         0            nan          0             0                 4   \n",
       "1898         0     370,144.54          0             1                 2   \n",
       "\n",
       "      debt  total_income  income_type_id  gender_id  purpose_id  \n",
       "99       0     71,291.52               4          0           1  \n",
       "149      0     70,176.44               6          0           0  \n",
       "270      0    102,166.46               6          0           0  \n",
       "578      0     97,620.69               4          0           0  \n",
       "1040     0    303,994.13               3          0           1  \n",
       "1149     0    201,852.43               3          0           0  \n",
       "1175     0    313,949.85               4          0           2  \n",
       "1386     0    240,523.62               2          1           1  \n",
       "1890     0           nan               6          0           0  \n",
       "1898     0    127,400.27               4          0           1  "
      ]
     },
     "execution_count": 38,
     "metadata": {},
     "output_type": "execute_result"
    }
   ],
   "source": [
    "df[df[\"dob_years\"] == 0].head(10)"
   ]
  },
  {
   "cell_type": "code",
   "execution_count": 39,
   "id": "47d06143",
   "metadata": {},
   "outputs": [
    {
     "data": {
      "text/plain": [
       "count   21,424.00\n",
       "mean        43.50\n",
       "std         12.25\n",
       "min         19.00\n",
       "25%         33.00\n",
       "50%         43.00\n",
       "75%         53.00\n",
       "max         75.00\n",
       "Name: dob_years, dtype: float64"
      ]
     },
     "execution_count": 39,
     "metadata": {},
     "output_type": "execute_result"
    }
   ],
   "source": [
    "df[df[\"dob_years\"] > 0][\"dob_years\"].describe()"
   ]
  },
  {
   "cell_type": "markdown",
   "id": "aa8bab10",
   "metadata": {},
   "source": [
    "Приводим нулевой возраст к явным `NaN` и переходим к заполнению пробелов в значениях. В качестве значения для заполнения используем средний возраст взятый по группе с одинаковым типом занятости"
   ]
  },
  {
   "cell_type": "code",
   "execution_count": 40,
   "id": "cbd54b76",
   "metadata": {},
   "outputs": [],
   "source": [
    "df.loc[df[\"dob_years\"] == 0, \"dob_years\"] = np.nan"
   ]
  },
  {
   "cell_type": "code",
   "execution_count": 41,
   "id": "9df3085f",
   "metadata": {},
   "outputs": [],
   "source": [
    "df[\"dob_years\"]=df.groupby(\"income_type_id\")[\"dob_years\"].transform(lambda x: x.fillna(x.mean()))"
   ]
  },
  {
   "cell_type": "markdown",
   "id": "2809cf51",
   "metadata": {},
   "source": [
    "#### Вывод\n",
    "\n",
    "Обнаруженные в столбце \"возраст\" нулевые значения приведены к явным NaN для дальнейшего заполнения. "
   ]
  },
  {
   "cell_type": "markdown",
   "id": "72bd84eb",
   "metadata": {},
   "source": [
    "### Стаж в днях\n",
    "\n",
    "Хоть этот параметр и не указан явно среди целевых в задаче, его стоит проверить как возможную альтернативную гипотезу. Что если, предсказательная сила данного параметра окажется выше, чем у семейного положения и количества детей?"
   ]
  },
  {
   "cell_type": "code",
   "execution_count": 42,
   "id": "0fd937a7",
   "metadata": {},
   "outputs": [
    {
     "data": {
      "image/png": "[encoded data removed]",
      "text/plain": [
       "<Figure size 864x576 with 1 Axes>"
      ]
     },
     "metadata": {
      "needs_background": "light"
     },
     "output_type": "display_data"
    }
   ],
   "source": [
    "fig = plt.gcf()\n",
    "fig.set_size_inches(12, 8)\n",
    "\n",
    "ax = sns.histplot(x=\"days_employed\", data=df)\n",
    "ax.set_xlabel(\"Стаж в днях\")\n",
    "ax.set_title(\"Распределение клиентов по стажу\");"
   ]
  },
  {
   "cell_type": "code",
   "execution_count": 43,
   "id": "c43397fb",
   "metadata": {
    "tags": []
   },
   "outputs": [
    {
     "data": {
      "image/png": "[encoded data removed]",
      "text/plain": [
       "<Figure size 1728x576 with 2 Axes>"
      ]
     },
     "metadata": {
      "needs_background": "light"
     },
     "output_type": "display_data"
    }
   ],
   "source": [
    "fig, ax = plt.subplots(1, 2, figsize=(24, 8), sharey=True)\n",
    "\n",
    "sns.histplot(ax=ax[0], x=\"days_employed\", data=df[df[\"days_employed\"] < 0])\n",
    "ax[0].set_title(\"Клиенты с отрицательным стажем\")\n",
    "ax[0].set_xlabel(\"Стаж, дни\")\n",
    "ax[0].set_ylabel(\"Количество клиентов\")\n",
    "\n",
    "sns.histplot(ax=ax[1], x=\"days_employed\", data=df[df[\"days_employed\"] > 0])\n",
    "ax[1].set_title(\"Клиенты с положительным стажем\")\n",
    "ax[1].set_xlabel(\"Стаж, дни\")\n",
    "ax[1].set_ylabel(\"Количество клиентов\");"
   ]
  },
  {
   "cell_type": "markdown",
   "id": "1cd86021",
   "metadata": {},
   "source": [
    "Очень странное распределение. Выглядит так, будто информация поступали из разных источников и, возможно, имеет разный смысл: данные чётко делятся на две группы. Большая часть данных имеет отрицательное значение (что само по себе странно для стажа) и имеет колоколообразное распределение. Другая часть &mdash; положительные, распределены более-менее равномерно. Положительные значения по абсолютной величине существенно превосходят отрицательные (401755.400475 против -18388.949901). Между этими группами большой пустой зазор. Отсюда напрашивается вывод, что эти подмножества заданы в разных единицах измерения.\n",
    "\n",
    "Всё вместе указывает на технический характер ошибки и делает невозможным использование данного параметра в дальнейшем анализе. "
   ]
  },
  {
   "cell_type": "markdown",
   "id": "066d0c71",
   "metadata": {
    "tags": []
   },
   "source": [
    "Помимо уже выявленных проблем с этим показателем, наблюдается 2174  неопределённых значений у `days_employed` и `total_income`: в таблице 21525 строк, но `days_employed` и `total_income` имеется только по 19351."
   ]
  },
  {
   "cell_type": "markdown",
   "id": "0177bd08",
   "metadata": {},
   "source": [
    "Интересная закономерность: не существует строк, в которых был бы только один пропуск. Если `NaN` присутствует в строке, то в `days_employed` и `total_income` одновременно:"
   ]
  },
  {
   "cell_type": "code",
   "execution_count": 44,
   "id": "c971ec39",
   "metadata": {},
   "outputs": [
    {
     "data": {
      "text/plain": [
       "set()"
      ]
     },
     "execution_count": 44,
     "metadata": {},
     "output_type": "execute_result"
    }
   ],
   "source": [
    "set(df[df[\"days_employed\"].isnull()].index) ^ set(df[df[\"total_income\"].isnull()].index)"
   ]
  },
  {
   "cell_type": "markdown",
   "id": "28284c01",
   "metadata": {},
   "source": [
    "Можно было бы предположить, что эти клиенты не имели официального стажа и дохода. Но среди них есть и госслужащие и пенсионеры, так что эта гипотеза несостоятельна. Это именно ошибка. Судя по количенству пропусков (2174 совпадающих пропуска в двух признаках разом), напрашивается вывод о техническом природе данной ошибки."
   ]
  },
  {
   "cell_type": "code",
   "execution_count": 45,
   "id": "442d6591",
   "metadata": {},
   "outputs": [
    {
     "data": {
      "image/png": "[encoded data removed]",
      "text/plain": [
       "<Figure size 864x576 with 1 Axes>"
      ]
     },
     "metadata": {
      "needs_background": "light"
     },
     "output_type": "display_data"
    }
   ],
   "source": [
    "fig = plt.gcf()\n",
    "fig.set_size_inches(12, 8)\n",
    "\n",
    "ax = sns.histplot(x=\"total_income\", data=df, bins=50)\n",
    "ax.set_xlabel(\"Доход в месяц\")\n",
    "ax.set_ylabel(\"Количество клиентов\")\n",
    "ax.set_title(\"Распределение клиентов по доходу\");"
   ]
  },
  {
   "cell_type": "markdown",
   "id": "725c86be",
   "metadata": {},
   "source": [
    "Распределение доходов выглядит вполне правдоподобно: большое количество людей имеют небольшой доход, но среди них есть и клиенты с доходом на порядки больше среднего. С другой стороны, в данных имеется 2174 пропусков, что составляет $10\\%$ от всего набора данных. Просто отбросить такое количество клиентов нельзя. Заполним их медианным значением дохода по группе с одинаковым типом занятости"
   ]
  },
  {
   "cell_type": "code",
   "execution_count": 46,
   "id": "476dee7c",
   "metadata": {},
   "outputs": [],
   "source": [
    "df[\"total_income\"]=df.groupby(\"income_type_id\")[\"total_income\"].transform(lambda x: x.fillna(x.median()))"
   ]
  },
  {
   "cell_type": "raw",
   "id": "f8110f65",
   "metadata": {},
   "source": [
    "df = df.drop(columns=[\"days_employed\"])"
   ]
  },
  {
   "cell_type": "markdown",
   "id": "d52428fd",
   "metadata": {},
   "source": [
    "Будем пока рассматривать отдельно группу с отрицательным значением стажа и группу с большим положительным стажем. Начнём с первой.\n",
    "\n",
    "Можно было бы предположить, что отрицательные значения в стаже возникли из-за того, что стаж представлен не абсолютной величиной, а разностью с какой-то константой. Если бы это было среднее, то мы бы имели плотное распределение по обе стороны от нуля. Но у нас нет небольших положиттельных значений. Рассмотрим левый край распределения."
   ]
  },
  {
   "cell_type": "markdown",
   "id": "568a74fb",
   "metadata": {},
   "source": [
    "Для удобства временно разделим датафрейм на два, но перед этим заполним пропуски в данных: заполним пропущенные значения средними по типу занятости. "
   ]
  },
  {
   "cell_type": "code",
   "execution_count": 47,
   "id": "4436100b",
   "metadata": {},
   "outputs": [
    {
     "data": {
      "text/html": [
       "<div>\n",
       "<style scoped>\n",
       "    .dataframe tbody tr th:only-of-type {\n",
       "        vertical-align: middle;\n",
       "    }\n",
       "\n",
       "    .dataframe tbody tr th {\n",
       "        vertical-align: top;\n",
       "    }\n",
       "\n",
       "    .dataframe thead th {\n",
       "        text-align: right;\n",
       "    }\n",
       "</style>\n",
       "<table border=\"1\" class=\"dataframe\">\n",
       "  <thead>\n",
       "    <tr style=\"text-align: right;\">\n",
       "      <th></th>\n",
       "      <th>children</th>\n",
       "      <th>days_employed</th>\n",
       "      <th>dob_years</th>\n",
       "      <th>education_id</th>\n",
       "      <th>family_status_id</th>\n",
       "      <th>debt</th>\n",
       "      <th>total_income</th>\n",
       "      <th>income_type_id</th>\n",
       "      <th>gender_id</th>\n",
       "      <th>purpose_id</th>\n",
       "    </tr>\n",
       "  </thead>\n",
       "  <tbody>\n",
       "    <tr>\n",
       "      <td>count</td>\n",
       "      <td>21,525.00</td>\n",
       "      <td>19,351.00</td>\n",
       "      <td>21,525.00</td>\n",
       "      <td>21,525.00</td>\n",
       "      <td>21,525.00</td>\n",
       "      <td>21,525.00</td>\n",
       "      <td>21,525.00</td>\n",
       "      <td>21,525.00</td>\n",
       "      <td>21,525.00</td>\n",
       "      <td>21,525.00</td>\n",
       "    </tr>\n",
       "    <tr>\n",
       "      <td>mean</td>\n",
       "      <td>0.48</td>\n",
       "      <td>63,046.50</td>\n",
       "      <td>43.50</td>\n",
       "      <td>0.82</td>\n",
       "      <td>0.97</td>\n",
       "      <td>0.08</td>\n",
       "      <td>165,225.32</td>\n",
       "      <td>4.66</td>\n",
       "      <td>0.34</td>\n",
       "      <td>0.90</td>\n",
       "    </tr>\n",
       "    <tr>\n",
       "      <td>std</td>\n",
       "      <td>0.76</td>\n",
       "      <td>140,827.31</td>\n",
       "      <td>12.23</td>\n",
       "      <td>0.55</td>\n",
       "      <td>1.42</td>\n",
       "      <td>0.27</td>\n",
       "      <td>98,043.67</td>\n",
       "      <td>1.46</td>\n",
       "      <td>0.47</td>\n",
       "      <td>1.06</td>\n",
       "    </tr>\n",
       "    <tr>\n",
       "      <td>min</td>\n",
       "      <td>0.00</td>\n",
       "      <td>-18,388.95</td>\n",
       "      <td>19.00</td>\n",
       "      <td>0.00</td>\n",
       "      <td>0.00</td>\n",
       "      <td>0.00</td>\n",
       "      <td>20,667.26</td>\n",
       "      <td>0.00</td>\n",
       "      <td>0.00</td>\n",
       "      <td>0.00</td>\n",
       "    </tr>\n",
       "    <tr>\n",
       "      <td>25%</td>\n",
       "      <td>0.00</td>\n",
       "      <td>-2,747.42</td>\n",
       "      <td>34.00</td>\n",
       "      <td>1.00</td>\n",
       "      <td>0.00</td>\n",
       "      <td>0.00</td>\n",
       "      <td>107,798.17</td>\n",
       "      <td>3.00</td>\n",
       "      <td>0.00</td>\n",
       "      <td>0.00</td>\n",
       "    </tr>\n",
       "    <tr>\n",
       "      <td>50%</td>\n",
       "      <td>0.00</td>\n",
       "      <td>-1,203.37</td>\n",
       "      <td>43.00</td>\n",
       "      <td>1.00</td>\n",
       "      <td>0.00</td>\n",
       "      <td>0.00</td>\n",
       "      <td>142,594.40</td>\n",
       "      <td>6.00</td>\n",
       "      <td>0.00</td>\n",
       "      <td>0.00</td>\n",
       "    </tr>\n",
       "    <tr>\n",
       "      <td>75%</td>\n",
       "      <td>1.00</td>\n",
       "      <td>-291.10</td>\n",
       "      <td>53.00</td>\n",
       "      <td>1.00</td>\n",
       "      <td>1.00</td>\n",
       "      <td>0.00</td>\n",
       "      <td>195,549.94</td>\n",
       "      <td>6.00</td>\n",
       "      <td>1.00</td>\n",
       "      <td>2.00</td>\n",
       "    </tr>\n",
       "    <tr>\n",
       "      <td>max</td>\n",
       "      <td>5.00</td>\n",
       "      <td>401,755.40</td>\n",
       "      <td>75.00</td>\n",
       "      <td>4.00</td>\n",
       "      <td>4.00</td>\n",
       "      <td>1.00</td>\n",
       "      <td>2,265,604.03</td>\n",
       "      <td>7.00</td>\n",
       "      <td>1.00</td>\n",
       "      <td>3.00</td>\n",
       "    </tr>\n",
       "  </tbody>\n",
       "</table>\n",
       "</div>"
      ],
      "text/plain": [
       "       children  days_employed  dob_years  education_id  family_status_id  \\\n",
       "count 21,525.00      19,351.00  21,525.00     21,525.00         21,525.00   \n",
       "mean       0.48      63,046.50      43.50          0.82              0.97   \n",
       "std        0.76     140,827.31      12.23          0.55              1.42   \n",
       "min        0.00     -18,388.95      19.00          0.00              0.00   \n",
       "25%        0.00      -2,747.42      34.00          1.00              0.00   \n",
       "50%        0.00      -1,203.37      43.00          1.00              0.00   \n",
       "75%        1.00        -291.10      53.00          1.00              1.00   \n",
       "max        5.00     401,755.40      75.00          4.00              4.00   \n",
       "\n",
       "           debt  total_income  income_type_id  gender_id  purpose_id  \n",
       "count 21,525.00     21,525.00       21,525.00  21,525.00   21,525.00  \n",
       "mean       0.08    165,225.32            4.66       0.34        0.90  \n",
       "std        0.27     98,043.67            1.46       0.47        1.06  \n",
       "min        0.00     20,667.26            0.00       0.00        0.00  \n",
       "25%        0.00    107,798.17            3.00       0.00        0.00  \n",
       "50%        0.00    142,594.40            6.00       0.00        0.00  \n",
       "75%        0.00    195,549.94            6.00       1.00        2.00  \n",
       "max        1.00  2,265,604.03            7.00       1.00        3.00  "
      ]
     },
     "execution_count": 47,
     "metadata": {},
     "output_type": "execute_result"
    }
   ],
   "source": [
    "df.describe()"
   ]
  },
  {
   "cell_type": "code",
   "execution_count": 48,
   "id": "5cd76261",
   "metadata": {},
   "outputs": [],
   "source": [
    "df[\"days_employed\"]=df.groupby(\"income_type_id\")[\"days_employed\"].transform(lambda x: x.fillna(x.mean()))"
   ]
  },
  {
   "cell_type": "code",
   "execution_count": 49,
   "id": "1dd4f012",
   "metadata": {},
   "outputs": [],
   "source": [
    "df1 = df[df[\"days_employed\"] < 0]\n",
    "df2 = df[df[\"days_employed\"] > 0]"
   ]
  },
  {
   "cell_type": "code",
   "execution_count": 50,
   "id": "36cb227b",
   "metadata": {},
   "outputs": [
    {
     "data": {
      "text/html": [
       "<div>\n",
       "<style scoped>\n",
       "    .dataframe tbody tr th:only-of-type {\n",
       "        vertical-align: middle;\n",
       "    }\n",
       "\n",
       "    .dataframe tbody tr th {\n",
       "        vertical-align: top;\n",
       "    }\n",
       "\n",
       "    .dataframe thead th {\n",
       "        text-align: right;\n",
       "    }\n",
       "</style>\n",
       "<table border=\"1\" class=\"dataframe\">\n",
       "  <thead>\n",
       "    <tr style=\"text-align: right;\">\n",
       "      <th></th>\n",
       "      <th>children</th>\n",
       "      <th>days_employed</th>\n",
       "      <th>dob_years</th>\n",
       "      <th>education_id</th>\n",
       "      <th>family_status_id</th>\n",
       "      <th>debt</th>\n",
       "      <th>total_income</th>\n",
       "      <th>income_type_id</th>\n",
       "      <th>gender_id</th>\n",
       "      <th>purpose_id</th>\n",
       "    </tr>\n",
       "  </thead>\n",
       "  <tbody>\n",
       "    <tr>\n",
       "      <td>count</td>\n",
       "      <td>17,667.00</td>\n",
       "      <td>17,667.00</td>\n",
       "      <td>17,667.00</td>\n",
       "      <td>17,667.00</td>\n",
       "      <td>17,667.00</td>\n",
       "      <td>17,667.00</td>\n",
       "      <td>17,667.00</td>\n",
       "      <td>17,667.00</td>\n",
       "      <td>17,667.00</td>\n",
       "      <td>17,667.00</td>\n",
       "    </tr>\n",
       "    <tr>\n",
       "      <td>mean</td>\n",
       "      <td>0.56</td>\n",
       "      <td>-2,353.02</td>\n",
       "      <td>40.04</td>\n",
       "      <td>0.80</td>\n",
       "      <td>0.97</td>\n",
       "      <td>0.09</td>\n",
       "      <td>171,796.91</td>\n",
       "      <td>4.81</td>\n",
       "      <td>0.37</td>\n",
       "      <td>0.90</td>\n",
       "    </tr>\n",
       "    <tr>\n",
       "      <td>std</td>\n",
       "      <td>0.79</td>\n",
       "      <td>2,188.90</td>\n",
       "      <td>10.32</td>\n",
       "      <td>0.55</td>\n",
       "      <td>1.44</td>\n",
       "      <td>0.28</td>\n",
       "      <td>101,036.45</td>\n",
       "      <td>1.58</td>\n",
       "      <td>0.48</td>\n",
       "      <td>1.06</td>\n",
       "    </tr>\n",
       "    <tr>\n",
       "      <td>min</td>\n",
       "      <td>0.00</td>\n",
       "      <td>-18,388.95</td>\n",
       "      <td>19.00</td>\n",
       "      <td>0.00</td>\n",
       "      <td>0.00</td>\n",
       "      <td>0.00</td>\n",
       "      <td>21,367.65</td>\n",
       "      <td>1.00</td>\n",
       "      <td>0.00</td>\n",
       "      <td>0.00</td>\n",
       "    </tr>\n",
       "    <tr>\n",
       "      <td>25%</td>\n",
       "      <td>0.00</td>\n",
       "      <td>-3,004.62</td>\n",
       "      <td>32.00</td>\n",
       "      <td>0.00</td>\n",
       "      <td>0.00</td>\n",
       "      <td>0.00</td>\n",
       "      <td>112,527.65</td>\n",
       "      <td>3.00</td>\n",
       "      <td>0.00</td>\n",
       "      <td>0.00</td>\n",
       "    </tr>\n",
       "    <tr>\n",
       "      <td>50%</td>\n",
       "      <td>0.00</td>\n",
       "      <td>-1,885.78</td>\n",
       "      <td>39.85</td>\n",
       "      <td>1.00</td>\n",
       "      <td>0.00</td>\n",
       "      <td>0.00</td>\n",
       "      <td>148,235.14</td>\n",
       "      <td>6.00</td>\n",
       "      <td>0.00</td>\n",
       "      <td>0.00</td>\n",
       "    </tr>\n",
       "    <tr>\n",
       "      <td>75%</td>\n",
       "      <td>1.00</td>\n",
       "      <td>-843.31</td>\n",
       "      <td>48.00</td>\n",
       "      <td>1.00</td>\n",
       "      <td>1.00</td>\n",
       "      <td>0.00</td>\n",
       "      <td>201,813.01</td>\n",
       "      <td>6.00</td>\n",
       "      <td>1.00</td>\n",
       "      <td>2.00</td>\n",
       "    </tr>\n",
       "    <tr>\n",
       "      <td>max</td>\n",
       "      <td>5.00</td>\n",
       "      <td>-24.14</td>\n",
       "      <td>75.00</td>\n",
       "      <td>4.00</td>\n",
       "      <td>4.00</td>\n",
       "      <td>1.00</td>\n",
       "      <td>2,265,604.03</td>\n",
       "      <td>7.00</td>\n",
       "      <td>1.00</td>\n",
       "      <td>3.00</td>\n",
       "    </tr>\n",
       "  </tbody>\n",
       "</table>\n",
       "</div>"
      ],
      "text/plain": [
       "       children  days_employed  dob_years  education_id  family_status_id  \\\n",
       "count 17,667.00      17,667.00  17,667.00     17,667.00         17,667.00   \n",
       "mean       0.56      -2,353.02      40.04          0.80              0.97   \n",
       "std        0.79       2,188.90      10.32          0.55              1.44   \n",
       "min        0.00     -18,388.95      19.00          0.00              0.00   \n",
       "25%        0.00      -3,004.62      32.00          0.00              0.00   \n",
       "50%        0.00      -1,885.78      39.85          1.00              0.00   \n",
       "75%        1.00        -843.31      48.00          1.00              1.00   \n",
       "max        5.00         -24.14      75.00          4.00              4.00   \n",
       "\n",
       "           debt  total_income  income_type_id  gender_id  purpose_id  \n",
       "count 17,667.00     17,667.00       17,667.00  17,667.00   17,667.00  \n",
       "mean       0.09    171,796.91            4.81       0.37        0.90  \n",
       "std        0.28    101,036.45            1.58       0.48        1.06  \n",
       "min        0.00     21,367.65            1.00       0.00        0.00  \n",
       "25%        0.00    112,527.65            3.00       0.00        0.00  \n",
       "50%        0.00    148,235.14            6.00       0.00        0.00  \n",
       "75%        0.00    201,813.01            6.00       1.00        2.00  \n",
       "max        1.00  2,265,604.03            7.00       1.00        3.00  "
      ]
     },
     "execution_count": 50,
     "metadata": {},
     "output_type": "execute_result"
    }
   ],
   "source": [
    "df1.describe()"
   ]
  },
  {
   "cell_type": "code",
   "execution_count": 51,
   "id": "0fd90ba5",
   "metadata": {},
   "outputs": [
    {
     "data": {
      "text/html": [
       "<div>\n",
       "<style scoped>\n",
       "    .dataframe tbody tr th:only-of-type {\n",
       "        vertical-align: middle;\n",
       "    }\n",
       "\n",
       "    .dataframe tbody tr th {\n",
       "        vertical-align: top;\n",
       "    }\n",
       "\n",
       "    .dataframe thead th {\n",
       "        text-align: right;\n",
       "    }\n",
       "</style>\n",
       "<table border=\"1\" class=\"dataframe\">\n",
       "  <thead>\n",
       "    <tr style=\"text-align: right;\">\n",
       "      <th></th>\n",
       "      <th>children</th>\n",
       "      <th>days_employed</th>\n",
       "      <th>dob_years</th>\n",
       "      <th>education_id</th>\n",
       "      <th>family_status_id</th>\n",
       "      <th>debt</th>\n",
       "      <th>total_income</th>\n",
       "      <th>income_type_id</th>\n",
       "      <th>gender_id</th>\n",
       "      <th>purpose_id</th>\n",
       "    </tr>\n",
       "  </thead>\n",
       "  <tbody>\n",
       "    <tr>\n",
       "      <td>count</td>\n",
       "      <td>3,858.00</td>\n",
       "      <td>3,858.00</td>\n",
       "      <td>3,858.00</td>\n",
       "      <td>3,858.00</td>\n",
       "      <td>3,858.00</td>\n",
       "      <td>3,858.00</td>\n",
       "      <td>3,858.00</td>\n",
       "      <td>3,858.00</td>\n",
       "      <td>3,858.00</td>\n",
       "      <td>3,858.00</td>\n",
       "    </tr>\n",
       "    <tr>\n",
       "      <td>mean</td>\n",
       "      <td>0.09</td>\n",
       "      <td>365,004.22</td>\n",
       "      <td>59.36</td>\n",
       "      <td>0.91</td>\n",
       "      <td>0.99</td>\n",
       "      <td>0.06</td>\n",
       "      <td>135,131.94</td>\n",
       "      <td>4.00</td>\n",
       "      <td>0.18</td>\n",
       "      <td>0.92</td>\n",
       "    </tr>\n",
       "    <tr>\n",
       "      <td>std</td>\n",
       "      <td>0.34</td>\n",
       "      <td>19,914.74</td>\n",
       "      <td>6.33</td>\n",
       "      <td>0.51</td>\n",
       "      <td>1.31</td>\n",
       "      <td>0.23</td>\n",
       "      <td>76,042.56</td>\n",
       "      <td>0.09</td>\n",
       "      <td>0.39</td>\n",
       "      <td>1.06</td>\n",
       "    </tr>\n",
       "    <tr>\n",
       "      <td>min</td>\n",
       "      <td>0.00</td>\n",
       "      <td>328,728.72</td>\n",
       "      <td>22.00</td>\n",
       "      <td>0.00</td>\n",
       "      <td>0.00</td>\n",
       "      <td>0.00</td>\n",
       "      <td>20,667.26</td>\n",
       "      <td>0.00</td>\n",
       "      <td>0.00</td>\n",
       "      <td>0.00</td>\n",
       "    </tr>\n",
       "    <tr>\n",
       "      <td>25%</td>\n",
       "      <td>0.00</td>\n",
       "      <td>348,799.95</td>\n",
       "      <td>56.00</td>\n",
       "      <td>1.00</td>\n",
       "      <td>0.00</td>\n",
       "      <td>0.00</td>\n",
       "      <td>87,162.98</td>\n",
       "      <td>4.00</td>\n",
       "      <td>0.00</td>\n",
       "      <td>0.00</td>\n",
       "    </tr>\n",
       "    <tr>\n",
       "      <td>50%</td>\n",
       "      <td>0.00</td>\n",
       "      <td>365,003.49</td>\n",
       "      <td>60.00</td>\n",
       "      <td>1.00</td>\n",
       "      <td>0.00</td>\n",
       "      <td>0.00</td>\n",
       "      <td>118,514.49</td>\n",
       "      <td>4.00</td>\n",
       "      <td>0.00</td>\n",
       "      <td>1.00</td>\n",
       "    </tr>\n",
       "    <tr>\n",
       "      <td>75%</td>\n",
       "      <td>0.00</td>\n",
       "      <td>380,759.82</td>\n",
       "      <td>64.00</td>\n",
       "      <td>1.00</td>\n",
       "      <td>2.00</td>\n",
       "      <td>0.00</td>\n",
       "      <td>162,144.55</td>\n",
       "      <td>4.00</td>\n",
       "      <td>0.00</td>\n",
       "      <td>2.00</td>\n",
       "    </tr>\n",
       "    <tr>\n",
       "      <td>max</td>\n",
       "      <td>4.00</td>\n",
       "      <td>401,755.40</td>\n",
       "      <td>74.00</td>\n",
       "      <td>4.00</td>\n",
       "      <td>4.00</td>\n",
       "      <td>1.00</td>\n",
       "      <td>735,103.27</td>\n",
       "      <td>4.00</td>\n",
       "      <td>1.00</td>\n",
       "      <td>3.00</td>\n",
       "    </tr>\n",
       "  </tbody>\n",
       "</table>\n",
       "</div>"
      ],
      "text/plain": [
       "       children  days_employed  dob_years  education_id  family_status_id  \\\n",
       "count  3,858.00       3,858.00   3,858.00      3,858.00          3,858.00   \n",
       "mean       0.09     365,004.22      59.36          0.91              0.99   \n",
       "std        0.34      19,914.74       6.33          0.51              1.31   \n",
       "min        0.00     328,728.72      22.00          0.00              0.00   \n",
       "25%        0.00     348,799.95      56.00          1.00              0.00   \n",
       "50%        0.00     365,003.49      60.00          1.00              0.00   \n",
       "75%        0.00     380,759.82      64.00          1.00              2.00   \n",
       "max        4.00     401,755.40      74.00          4.00              4.00   \n",
       "\n",
       "          debt  total_income  income_type_id  gender_id  purpose_id  \n",
       "count 3,858.00      3,858.00        3,858.00   3,858.00    3,858.00  \n",
       "mean      0.06    135,131.94            4.00       0.18        0.92  \n",
       "std       0.23     76,042.56            0.09       0.39        1.06  \n",
       "min       0.00     20,667.26            0.00       0.00        0.00  \n",
       "25%       0.00     87,162.98            4.00       0.00        0.00  \n",
       "50%       0.00    118,514.49            4.00       0.00        1.00  \n",
       "75%       0.00    162,144.55            4.00       0.00        2.00  \n",
       "max       1.00    735,103.27            4.00       1.00        3.00  "
      ]
     },
     "execution_count": 51,
     "metadata": {},
     "output_type": "execute_result"
    }
   ],
   "source": [
    "df2.describe()"
   ]
  },
  {
   "cell_type": "code",
   "execution_count": 52,
   "id": "a9f01b73",
   "metadata": {},
   "outputs": [
    {
     "data": {
      "text/html": [
       "<div>\n",
       "<style scoped>\n",
       "    .dataframe tbody tr th:only-of-type {\n",
       "        vertical-align: middle;\n",
       "    }\n",
       "\n",
       "    .dataframe tbody tr th {\n",
       "        vertical-align: top;\n",
       "    }\n",
       "\n",
       "    .dataframe thead th {\n",
       "        text-align: right;\n",
       "    }\n",
       "</style>\n",
       "<table border=\"1\" class=\"dataframe\">\n",
       "  <thead>\n",
       "    <tr style=\"text-align: right;\">\n",
       "      <th></th>\n",
       "      <th>children</th>\n",
       "      <th>days_employed</th>\n",
       "      <th>dob_years</th>\n",
       "      <th>education_id</th>\n",
       "      <th>family_status_id</th>\n",
       "      <th>debt</th>\n",
       "      <th>total_income</th>\n",
       "      <th>income_type_id</th>\n",
       "      <th>gender_id</th>\n",
       "      <th>purpose_id</th>\n",
       "    </tr>\n",
       "  </thead>\n",
       "  <tbody>\n",
       "    <tr>\n",
       "      <td>1539</td>\n",
       "      <td>0</td>\n",
       "      <td>-15,785.68</td>\n",
       "      <td>59.00</td>\n",
       "      <td>0</td>\n",
       "      <td>4</td>\n",
       "      <td>0</td>\n",
       "      <td>119,563.85</td>\n",
       "      <td>6</td>\n",
       "      <td>0</td>\n",
       "      <td>0</td>\n",
       "    </tr>\n",
       "    <tr>\n",
       "      <td>3974</td>\n",
       "      <td>0</td>\n",
       "      <td>-15,835.73</td>\n",
       "      <td>64.00</td>\n",
       "      <td>1</td>\n",
       "      <td>1</td>\n",
       "      <td>0</td>\n",
       "      <td>96,858.53</td>\n",
       "      <td>3</td>\n",
       "      <td>0</td>\n",
       "      <td>3</td>\n",
       "    </tr>\n",
       "    <tr>\n",
       "      <td>4299</td>\n",
       "      <td>0</td>\n",
       "      <td>-17,615.56</td>\n",
       "      <td>61.00</td>\n",
       "      <td>1</td>\n",
       "      <td>0</td>\n",
       "      <td>0</td>\n",
       "      <td>122,560.74</td>\n",
       "      <td>3</td>\n",
       "      <td>0</td>\n",
       "      <td>0</td>\n",
       "    </tr>\n",
       "    <tr>\n",
       "      <td>4321</td>\n",
       "      <td>0</td>\n",
       "      <td>-15,773.06</td>\n",
       "      <td>61.00</td>\n",
       "      <td>1</td>\n",
       "      <td>1</td>\n",
       "      <td>0</td>\n",
       "      <td>205,868.59</td>\n",
       "      <td>6</td>\n",
       "      <td>0</td>\n",
       "      <td>3</td>\n",
       "    </tr>\n",
       "    <tr>\n",
       "      <td>5581</td>\n",
       "      <td>0</td>\n",
       "      <td>-15,079.22</td>\n",
       "      <td>55.00</td>\n",
       "      <td>1</td>\n",
       "      <td>0</td>\n",
       "      <td>0</td>\n",
       "      <td>178,761.37</td>\n",
       "      <td>2</td>\n",
       "      <td>0</td>\n",
       "      <td>0</td>\n",
       "    </tr>\n",
       "    <tr>\n",
       "      <td>7329</td>\n",
       "      <td>0</td>\n",
       "      <td>-16,593.47</td>\n",
       "      <td>60.00</td>\n",
       "      <td>0</td>\n",
       "      <td>0</td>\n",
       "      <td>0</td>\n",
       "      <td>124,697.85</td>\n",
       "      <td>6</td>\n",
       "      <td>0</td>\n",
       "      <td>2</td>\n",
       "    </tr>\n",
       "    <tr>\n",
       "      <td>7731</td>\n",
       "      <td>0</td>\n",
       "      <td>-15,618.06</td>\n",
       "      <td>64.00</td>\n",
       "      <td>1</td>\n",
       "      <td>0</td>\n",
       "      <td>0</td>\n",
       "      <td>296,525.36</td>\n",
       "      <td>3</td>\n",
       "      <td>0</td>\n",
       "      <td>2</td>\n",
       "    </tr>\n",
       "    <tr>\n",
       "      <td>15675</td>\n",
       "      <td>0</td>\n",
       "      <td>-15,410.04</td>\n",
       "      <td>65.00</td>\n",
       "      <td>0</td>\n",
       "      <td>0</td>\n",
       "      <td>0</td>\n",
       "      <td>188,800.07</td>\n",
       "      <td>6</td>\n",
       "      <td>0</td>\n",
       "      <td>0</td>\n",
       "    </tr>\n",
       "    <tr>\n",
       "      <td>16335</td>\n",
       "      <td>1</td>\n",
       "      <td>-18,388.95</td>\n",
       "      <td>61.00</td>\n",
       "      <td>1</td>\n",
       "      <td>0</td>\n",
       "      <td>0</td>\n",
       "      <td>186,178.93</td>\n",
       "      <td>6</td>\n",
       "      <td>0</td>\n",
       "      <td>0</td>\n",
       "    </tr>\n",
       "    <tr>\n",
       "      <td>16825</td>\n",
       "      <td>0</td>\n",
       "      <td>-16,119.69</td>\n",
       "      <td>64.00</td>\n",
       "      <td>1</td>\n",
       "      <td>0</td>\n",
       "      <td>0</td>\n",
       "      <td>91,527.69</td>\n",
       "      <td>6</td>\n",
       "      <td>0</td>\n",
       "      <td>0</td>\n",
       "    </tr>\n",
       "    <tr>\n",
       "      <td>16868</td>\n",
       "      <td>0</td>\n",
       "      <td>-15,193.03</td>\n",
       "      <td>57.00</td>\n",
       "      <td>1</td>\n",
       "      <td>0</td>\n",
       "      <td>0</td>\n",
       "      <td>194,993.88</td>\n",
       "      <td>2</td>\n",
       "      <td>0</td>\n",
       "      <td>0</td>\n",
       "    </tr>\n",
       "    <tr>\n",
       "      <td>17838</td>\n",
       "      <td>0</td>\n",
       "      <td>-16,264.70</td>\n",
       "      <td>59.00</td>\n",
       "      <td>1</td>\n",
       "      <td>0</td>\n",
       "      <td>0</td>\n",
       "      <td>51,238.97</td>\n",
       "      <td>6</td>\n",
       "      <td>0</td>\n",
       "      <td>1</td>\n",
       "    </tr>\n",
       "    <tr>\n",
       "      <td>19788</td>\n",
       "      <td>0</td>\n",
       "      <td>-15,267.54</td>\n",
       "      <td>56.00</td>\n",
       "      <td>1</td>\n",
       "      <td>0</td>\n",
       "      <td>0</td>\n",
       "      <td>122,976.37</td>\n",
       "      <td>6</td>\n",
       "      <td>1</td>\n",
       "      <td>1</td>\n",
       "    </tr>\n",
       "  </tbody>\n",
       "</table>\n",
       "</div>"
      ],
      "text/plain": [
       "       children  days_employed  dob_years  education_id  family_status_id  \\\n",
       "1539          0     -15,785.68      59.00             0                 4   \n",
       "3974          0     -15,835.73      64.00             1                 1   \n",
       "4299          0     -17,615.56      61.00             1                 0   \n",
       "4321          0     -15,773.06      61.00             1                 1   \n",
       "5581          0     -15,079.22      55.00             1                 0   \n",
       "7329          0     -16,593.47      60.00             0                 0   \n",
       "7731          0     -15,618.06      64.00             1                 0   \n",
       "15675         0     -15,410.04      65.00             0                 0   \n",
       "16335         1     -18,388.95      61.00             1                 0   \n",
       "16825         0     -16,119.69      64.00             1                 0   \n",
       "16868         0     -15,193.03      57.00             1                 0   \n",
       "17838         0     -16,264.70      59.00             1                 0   \n",
       "19788         0     -15,267.54      56.00             1                 0   \n",
       "\n",
       "       debt  total_income  income_type_id  gender_id  purpose_id  \n",
       "1539      0    119,563.85               6          0           0  \n",
       "3974      0     96,858.53               3          0           3  \n",
       "4299      0    122,560.74               3          0           0  \n",
       "4321      0    205,868.59               6          0           3  \n",
       "5581      0    178,761.37               2          0           0  \n",
       "7329      0    124,697.85               6          0           2  \n",
       "7731      0    296,525.36               3          0           2  \n",
       "15675     0    188,800.07               6          0           0  \n",
       "16335     0    186,178.93               6          0           0  \n",
       "16825     0     91,527.69               6          0           0  \n",
       "16868     0    194,993.88               2          0           0  \n",
       "17838     0     51,238.97               6          0           1  \n",
       "19788     0    122,976.37               6          1           1  "
      ]
     },
     "execution_count": 52,
     "metadata": {},
     "output_type": "execute_result"
    }
   ],
   "source": [
    "df1[df1[\"days_employed\"] < -15000]"
   ]
  },
  {
   "cell_type": "markdown",
   "id": "04089661",
   "metadata": {},
   "source": [
    "Видно, что самым большим по абсолютной величине стажем обладают люди солидного возраста. Напротив, возле нуля преобладает молодёжь. Исключения есть, но это можно считать выбросами, в конце концов, можно представить человека, дожившего до средних лет и нигде толком не работавшего, получающего доход из других источников. Стало быть, логично предположить, что для данной группы имеет значение только абсолютная величина стажа: по какой-то причине, очевидно, технической, знак стажа сменился на отрицательный. "
   ]
  },
  {
   "cell_type": "code",
   "execution_count": 53,
   "id": "230fcfed",
   "metadata": {},
   "outputs": [
    {
     "data": {
      "image/png": "[encoded data removed]",
      "text/plain": [
       "<Figure size 864x576 with 1 Axes>"
      ]
     },
     "metadata": {
      "needs_background": "light"
     },
     "output_type": "display_data"
    }
   ],
   "source": [
    "fig = plt.gcf()\n",
    "fig.set_size_inches(12, 8)\n",
    "\n",
    "ax = sns.scatterplot(data=df, x=\"days_employed\", y=\"dob_years\")\n",
    "ax.set_xlabel(\"Стаж в днях\")\n",
    "ax.set_ylabel(\"Возраст\")\n",
    "ax.set_title(\"Распределение клиентов по стажу\");"
   ]
  },
  {
   "cell_type": "markdown",
   "id": "09441ee0",
   "metadata": {},
   "source": [
    "Осталось разобраться со второй группой. Проблема в том, что в ней не только более высокие значения стажа, что можно было бы решить простым масштабированием и сдвигом, но и совершенно другой характер распределения: равномерное вместо спадающего (условно \"половинка колокола\"). \n",
    "\n",
    "Может ли это быть связано с однородностью группы? Ведь, как мы уже выяснили все члены этой группы неработающие пенсионеры?"
   ]
  },
  {
   "cell_type": "code",
   "execution_count": 54,
   "id": "8f91e6ef",
   "metadata": {},
   "outputs": [
    {
     "data": {
      "text/plain": [
       "count   3,858.00\n",
       "mean       59.36\n",
       "std         6.33\n",
       "min        22.00\n",
       "25%        56.00\n",
       "50%        60.00\n",
       "75%        64.00\n",
       "max        74.00\n",
       "Name: dob_years, dtype: float64"
      ]
     },
     "execution_count": 54,
     "metadata": {},
     "output_type": "execute_result"
    }
   ],
   "source": [
    "df2['dob_years'].describe()"
   ]
  },
  {
   "cell_type": "code",
   "execution_count": 55,
   "id": "181291dd",
   "metadata": {},
   "outputs": [
    {
     "data": {
      "text/plain": [
       "365003.4912448612"
      ]
     },
     "execution_count": 55,
     "metadata": {},
     "output_type": "execute_result"
    }
   ],
   "source": [
    "df2[\"days_employed\"].median() "
   ]
  },
  {
   "cell_type": "markdown",
   "id": "f9694cd7",
   "metadata": {},
   "source": [
    "Если сделать предположение, что стаж в группе пенсионеров выражен не в днях, а в часах, медианное значение в днях составит 15217, что близко к максимальному по абсолютной величине стажу непенсионеров. Что само по себе логично.\n",
    "\n",
    "Таким образом, чтобы починить данные по стажу нам нужно взять по модулю стаж из df1 и поделить стаж из df2 на 24 и свести всё обратно в общую таблицу"
   ]
  },
  {
   "cell_type": "markdown",
   "id": "2761869d",
   "metadata": {},
   "source": [
    "У группы с наибольшим отрицательным стажем больше 14000 дней (по модулю) как раз медианный возраст 60 лет. Тогда в нашем предположении достаточно привести медианный стаж пенсионеров к медианному стажу этой группы."
   ]
  },
  {
   "cell_type": "code",
   "execution_count": 56,
   "id": "89b4d003",
   "metadata": {},
   "outputs": [],
   "source": [
    "df1[\"days_employed\"] = df1[\"days_employed\"].apply(np.abs)\n",
    "df2[\"days_employed\"] = df2[\"days_employed\"]/24\n",
    "df = df1.append(df2)"
   ]
  },
  {
   "cell_type": "code",
   "execution_count": 57,
   "id": "6f6168e0",
   "metadata": {},
   "outputs": [
    {
     "data": {
      "text/html": [
       "<div>\n",
       "<style scoped>\n",
       "    .dataframe tbody tr th:only-of-type {\n",
       "        vertical-align: middle;\n",
       "    }\n",
       "\n",
       "    .dataframe tbody tr th {\n",
       "        vertical-align: top;\n",
       "    }\n",
       "\n",
       "    .dataframe thead th {\n",
       "        text-align: right;\n",
       "    }\n",
       "</style>\n",
       "<table border=\"1\" class=\"dataframe\">\n",
       "  <thead>\n",
       "    <tr style=\"text-align: right;\">\n",
       "      <th></th>\n",
       "      <th>children</th>\n",
       "      <th>days_employed</th>\n",
       "      <th>dob_years</th>\n",
       "      <th>education_id</th>\n",
       "      <th>family_status_id</th>\n",
       "      <th>debt</th>\n",
       "      <th>total_income</th>\n",
       "      <th>income_type_id</th>\n",
       "      <th>gender_id</th>\n",
       "      <th>purpose_id</th>\n",
       "    </tr>\n",
       "  </thead>\n",
       "  <tbody>\n",
       "    <tr>\n",
       "      <td>count</td>\n",
       "      <td>21,525.00</td>\n",
       "      <td>21,525.00</td>\n",
       "      <td>21,525.00</td>\n",
       "      <td>21,525.00</td>\n",
       "      <td>21,525.00</td>\n",
       "      <td>21,525.00</td>\n",
       "      <td>21,525.00</td>\n",
       "      <td>21,525.00</td>\n",
       "      <td>21,525.00</td>\n",
       "      <td>21,525.00</td>\n",
       "    </tr>\n",
       "    <tr>\n",
       "      <td>mean</td>\n",
       "      <td>0.48</td>\n",
       "      <td>4,657.15</td>\n",
       "      <td>43.50</td>\n",
       "      <td>0.82</td>\n",
       "      <td>0.97</td>\n",
       "      <td>0.08</td>\n",
       "      <td>165,225.32</td>\n",
       "      <td>4.66</td>\n",
       "      <td>0.34</td>\n",
       "      <td>0.90</td>\n",
       "    </tr>\n",
       "    <tr>\n",
       "      <td>std</td>\n",
       "      <td>0.76</td>\n",
       "      <td>5,326.23</td>\n",
       "      <td>12.23</td>\n",
       "      <td>0.55</td>\n",
       "      <td>1.42</td>\n",
       "      <td>0.27</td>\n",
       "      <td>98,043.67</td>\n",
       "      <td>1.46</td>\n",
       "      <td>0.47</td>\n",
       "      <td>1.06</td>\n",
       "    </tr>\n",
       "    <tr>\n",
       "      <td>min</td>\n",
       "      <td>0.00</td>\n",
       "      <td>24.14</td>\n",
       "      <td>19.00</td>\n",
       "      <td>0.00</td>\n",
       "      <td>0.00</td>\n",
       "      <td>0.00</td>\n",
       "      <td>20,667.26</td>\n",
       "      <td>0.00</td>\n",
       "      <td>0.00</td>\n",
       "      <td>0.00</td>\n",
       "    </tr>\n",
       "    <tr>\n",
       "      <td>25%</td>\n",
       "      <td>0.00</td>\n",
       "      <td>1,025.55</td>\n",
       "      <td>34.00</td>\n",
       "      <td>1.00</td>\n",
       "      <td>0.00</td>\n",
       "      <td>0.00</td>\n",
       "      <td>107,798.17</td>\n",
       "      <td>3.00</td>\n",
       "      <td>0.00</td>\n",
       "      <td>0.00</td>\n",
       "    </tr>\n",
       "    <tr>\n",
       "      <td>50%</td>\n",
       "      <td>0.00</td>\n",
       "      <td>2,326.50</td>\n",
       "      <td>43.00</td>\n",
       "      <td>1.00</td>\n",
       "      <td>0.00</td>\n",
       "      <td>0.00</td>\n",
       "      <td>142,594.40</td>\n",
       "      <td>6.00</td>\n",
       "      <td>0.00</td>\n",
       "      <td>0.00</td>\n",
       "    </tr>\n",
       "    <tr>\n",
       "      <td>75%</td>\n",
       "      <td>1.00</td>\n",
       "      <td>5,347.02</td>\n",
       "      <td>53.00</td>\n",
       "      <td>1.00</td>\n",
       "      <td>1.00</td>\n",
       "      <td>0.00</td>\n",
       "      <td>195,549.94</td>\n",
       "      <td>6.00</td>\n",
       "      <td>1.00</td>\n",
       "      <td>2.00</td>\n",
       "    </tr>\n",
       "    <tr>\n",
       "      <td>max</td>\n",
       "      <td>5.00</td>\n",
       "      <td>18,388.95</td>\n",
       "      <td>75.00</td>\n",
       "      <td>4.00</td>\n",
       "      <td>4.00</td>\n",
       "      <td>1.00</td>\n",
       "      <td>2,265,604.03</td>\n",
       "      <td>7.00</td>\n",
       "      <td>1.00</td>\n",
       "      <td>3.00</td>\n",
       "    </tr>\n",
       "  </tbody>\n",
       "</table>\n",
       "</div>"
      ],
      "text/plain": [
       "       children  days_employed  dob_years  education_id  family_status_id  \\\n",
       "count 21,525.00      21,525.00  21,525.00     21,525.00         21,525.00   \n",
       "mean       0.48       4,657.15      43.50          0.82              0.97   \n",
       "std        0.76       5,326.23      12.23          0.55              1.42   \n",
       "min        0.00          24.14      19.00          0.00              0.00   \n",
       "25%        0.00       1,025.55      34.00          1.00              0.00   \n",
       "50%        0.00       2,326.50      43.00          1.00              0.00   \n",
       "75%        1.00       5,347.02      53.00          1.00              1.00   \n",
       "max        5.00      18,388.95      75.00          4.00              4.00   \n",
       "\n",
       "           debt  total_income  income_type_id  gender_id  purpose_id  \n",
       "count 21,525.00     21,525.00       21,525.00  21,525.00   21,525.00  \n",
       "mean       0.08    165,225.32            4.66       0.34        0.90  \n",
       "std        0.27     98,043.67            1.46       0.47        1.06  \n",
       "min        0.00     20,667.26            0.00       0.00        0.00  \n",
       "25%        0.00    107,798.17            3.00       0.00        0.00  \n",
       "50%        0.00    142,594.40            6.00       0.00        0.00  \n",
       "75%        0.00    195,549.94            6.00       1.00        2.00  \n",
       "max        1.00  2,265,604.03            7.00       1.00        3.00  "
      ]
     },
     "execution_count": 57,
     "metadata": {},
     "output_type": "execute_result"
    }
   ],
   "source": [
    "df.describe()"
   ]
  },
  {
   "cell_type": "code",
   "execution_count": 58,
   "id": "f8f5c79e",
   "metadata": {},
   "outputs": [
    {
     "data": {
      "image/png": "[encoded data removed]",
      "text/plain": [
       "<Figure size 864x576 with 1 Axes>"
      ]
     },
     "metadata": {
      "needs_background": "light"
     },
     "output_type": "display_data"
    }
   ],
   "source": [
    "fig = plt.gcf()\n",
    "fig.set_size_inches(12, 8)\n",
    "\n",
    "ax = sns.scatterplot(data=df, x=\"days_employed\", y=\"dob_years\")\n",
    "ax.set_xlabel(\"Стаж в днях\")\n",
    "ax.set_ylabel(\"Возраст\")\n",
    "ax.set_title(\"Распределение клиентов по стажу\");"
   ]
  },
  {
   "cell_type": "markdown",
   "id": "8a5ddd02",
   "metadata": {
    "tags": []
   },
   "source": [
    "#### Вывод\n",
    "\n",
    "Признак \"стаж\" был сильно искажён, видимо, по техническим причинам.  \n",
    "\n",
    "Признак \"доход\" выглядит правдоподобно, его можно использовать при анализе. Необходимо только заполнить выявленые ранее пропуски."
   ]
  },
  {
   "cell_type": "markdown",
   "id": "51d0d7e7",
   "metadata": {},
   "source": [
    "## Проверка гипотезы о предсказательной силе параметров \"дети\" и \"семейное положение\"\n",
    "\n",
    "Прежде всего, нам необходимо найти ответ на вопрос, влияют ли семейное положение и количество детей на шанс невозврата кредита. Наиболее простым и очевидным критерием будет количество невозвратов кредитов в группах клиентов построенных по исследуемым показателям. "
   ]
  },
  {
   "cell_type": "code",
   "execution_count": 59,
   "id": "4d5d6000",
   "metadata": {
    "tags": []
   },
   "outputs": [
    {
     "data": {
      "image/png": "[encoded data removed]",
      "text/plain": [
       "<Figure size 864x576 with 1 Axes>"
      ]
     },
     "metadata": {
      "needs_background": "light"
     },
     "output_type": "display_data"
    }
   ],
   "source": [
    "fig = plt.gcf()\n",
    "fig.set_size_inches(12, 8)\n",
    "\n",
    "data = (df.groupby(\"children\").agg({\"debt\": \"mean\"}) * 100)\n",
    "data.reset_index(inplace=True)\n",
    "\n",
    "ax = sns.barplot(\n",
    "    x=\"children\",\n",
    "    y='debt',\n",
    "    data=data,\n",
    "    palette=\"deep\",\n",
    ")\n",
    "ax.set_title(\"Зависимость кредитных рисков от семейного положения\")\n",
    "ax.set_xticks(np.arange(0, 6, 1))\n",
    "ax.set_ylabel(\"Процент клиентов с задолженностями\")\n",
    "ax.set_xlabel(\"Количество детей\");"
   ]
  },
  {
   "cell_type": "markdown",
   "id": "4bfb38c4",
   "metadata": {},
   "source": [
    "Подсчитаем количество многодетных клиентов с 5 детьми:"
   ]
  },
  {
   "cell_type": "code",
   "execution_count": 60,
   "id": "5dd77ff3",
   "metadata": {},
   "outputs": [
    {
     "data": {
      "text/plain": [
       "9"
      ]
     },
     "execution_count": 60,
     "metadata": {},
     "output_type": "execute_result"
    }
   ],
   "source": [
    "df[df['children']>4]['children'].count()"
   ]
  },
  {
   "cell_type": "markdown",
   "id": "f006eb92",
   "metadata": {},
   "source": [
    "Из графика видно, что количество детей не дают я уверенного прогноза невозврата кредита. Количество детей имеет значение только когда детей больше четверых: они несут минимальные риски. К сожалению, в выборке их всего $9$."
   ]
  },
  {
   "cell_type": "code",
   "execution_count": 61,
   "id": "5dbaf121",
   "metadata": {
    "tags": []
   },
   "outputs": [
    {
     "data": {
      "image/png": "[encoded data removed]",
      "text/plain": [
       "<Figure size 864x576 with 1 Axes>"
      ]
     },
     "metadata": {
      "needs_background": "light"
     },
     "output_type": "display_data"
    }
   ],
   "source": [
    "fig = plt.gcf()\n",
    "fig.set_size_inches(12, 8)\n",
    "data = (df.groupby(\"family_status_id\").agg({\"debt\": \"mean\"}) * 100)\n",
    "\n",
    "data = data.merge(family_status_dict, left_index=True, right_index=True)\n",
    "data.sort_values('debt', inplace=True)\n",
    "    \n",
    "ax = sns.barplot(\n",
    "    x=\"family_status\",\n",
    "    y=\"debt\",\n",
    "    data=data,\n",
    "    palette=\"deep\",\n",
    ")\n",
    "ax.set_title(\"Зависимость кредитных рисков от семейного положения\")\n",
    "ax.set_xticklabels(ax.get_xticklabels(), rotation=45)\n",
    "ax.set_ylabel(\"Процент клиентов с задолженностями\")\n",
    "ax.set_xlabel(\"Семейное положение\");"
   ]
  },
  {
   "cell_type": "markdown",
   "id": "aa154927",
   "metadata": {},
   "source": [
    "Видно, что все клиенты разделились на три неравные группы:\n",
    "- вдовы/вдовцы с наименьшими рисками (риск в районе $6.5\\%$),\n",
    "- женатые/замужние + \"в разводе\" с чуть большими рисками ($7-7.5\\%$) и \n",
    "- неженатые/незамужние + находящиеся в гражданском браке с наибольшими рисками ($>9\\%$).\n",
    "\n",
    "Подсчитаем объём каждой из групп: "
   ]
  },
  {
   "cell_type": "code",
   "execution_count": 62,
   "id": "88795001",
   "metadata": {},
   "outputs": [],
   "source": [
    "def family_status_count(categories):\n",
    "    count = 0\n",
    "    for category in categories:\n",
    "        idx = family_status_dict[family_status_dict[\"family_status\"]==category].index.values[0]\n",
    "        count += df[df[\"family_status_id\"]==idx][\"family_status_id\"].count()\n",
    "    return count"
   ]
  },
  {
   "cell_type": "code",
   "execution_count": 63,
   "id": "1d018d72",
   "metadata": {},
   "outputs": [
    {
     "name": "stdout",
     "output_type": "stream",
     "text": [
      "Объём группы с минимальными рисками: 960\n",
      "Объём группы со средними рисками: 13575\n",
      "Объём группы с высокими рисками: 6990\n"
     ]
    }
   ],
   "source": [
    "print(f\"Объём группы с минимальными рисками: {family_status_count(['вдовец / вдова'])}\")\n",
    "print(f\"Объём группы со средними рисками: {family_status_count(['женат / замужем', 'в разводе'])}\")\n",
    "print(f\"Объём группы с высокими рисками: {family_status_count(['гражданский брак', 'Не женат / не замужем'])}\")"
   ]
  },
  {
   "cell_type": "markdown",
   "id": "02209b53",
   "metadata": {},
   "source": [
    "Итак, у нас есть 960 клиентов с рисками <7%, большую группу в 13575 человек с рисками от 7 до 7,5% и 6990 заёмщиков с рисками выше 9%."
   ]
  },
  {
   "cell_type": "markdown",
   "id": "7123a1ed",
   "metadata": {},
   "source": [
    "### Вывод\n",
    "\n",
    "Из построенного графика видно, что количество детей и семейное положение не дают я уверенного прогноза невозврата кредита. \n",
    "\n",
    "Количество детей имеет значение только когда детей больше четверых: такие заёмщики, очевидно, более добросовестны. К сожалению, в выборке их всего $8$.\n",
    "\n",
    "В случае же семейного положения, мы получили большую группу клиентов с высокими рисками (более $9\\%$) и оставшееся большинство ($2/3$ от всей выборки) с рисками в пределах $6.5-7.5\\%$. Судить об эффективности данного показателя можно, зная уровни риска, приемлемые для бизнеса."
   ]
  },
  {
   "cell_type": "markdown",
   "id": "19092f6f",
   "metadata": {},
   "source": [
    "## Проверка влиянии возраста, дохода и образования на возврат кредита\n",
    "\n",
    "Семейное положение и количество детей не показали хороших корреляций с кредитоспособностью для широких масс заёмщиков, так что попробуем найти более подходящие. Традиционно, хорошими показателями считаются возраст, доход и образования. Проверим это."
   ]
  },
  {
   "cell_type": "markdown",
   "id": "9d143f11",
   "metadata": {},
   "source": [
    "Разделим всех клиентов на 10 возростных групп. После этого внутри каждой группы расчитаем процент клиентов с пробелалми с погашением кредита."
   ]
  },
  {
   "cell_type": "code",
   "execution_count": 64,
   "id": "dfe33e62",
   "metadata": {},
   "outputs": [],
   "source": [
    "bins = np.linspace(df[\"dob_years\"].min(), df[\"dob_years\"].max()+1, num=4)\n",
    "df[\"age_group\"] = pd.cut(df[\"dob_years\"], bins=bins, right=False)\n",
    "df[\"age_group\"] = df[\"age_group\"].apply(\n",
    "    lambda x: round((x.left + x.right) / 2)\n",
    ")\n",
    "df[\"age_group\"] = df[\"age_group\"].astype('str')"
   ]
  },
  {
   "cell_type": "code",
   "execution_count": 65,
   "id": "f47b3a5d",
   "metadata": {},
   "outputs": [
    {
     "data": {
      "image/png": "[encoded data removed]",
      "text/plain": [
       "<Figure size 864x576 with 1 Axes>"
      ]
     },
     "metadata": {
      "needs_background": "light"
     },
     "output_type": "display_data"
    }
   ],
   "source": [
    "fig = plt.gcf()\n",
    "fig.set_size_inches(12, 8)\n",
    "data = (df.groupby(\"age_group\").agg({\"debt\": \"mean\"}) * 100)\n",
    "data[\"age_group\"] = data.index\n",
    "\n",
    "ax = sns.barplot(\n",
    "    x=\"age_group\",\n",
    "    y=\"debt\",\n",
    "    data=data,\n",
    "    palette=\"deep\",\n",
    ")\n",
    "ax.set_title(\"Зависимость кредитных рисков от возраста\")\n",
    "ax.set_ylabel(\"Процент клиентов с задолженностями\")\n",
    "ax.set_xlabel(\"Возрастная группа\");"
   ]
  },
  {
   "cell_type": "markdown",
   "id": "dd941be4",
   "metadata": {},
   "source": [
    "Из графика видна прекрасная обратная корреляция между возрастом заёмщика и кредитными рисками.\n",
    "\n",
    "Проделаем такие же построения для дохода"
   ]
  },
  {
   "cell_type": "code",
   "execution_count": 66,
   "id": "60880a44",
   "metadata": {},
   "outputs": [
    {
     "data": {
      "image/png": "[encoded data removed]",
      "text/plain": [
       "<Figure size 864x576 with 1 Axes>"
      ]
     },
     "metadata": {
      "needs_background": "light"
     },
     "output_type": "display_data"
    }
   ],
   "source": [
    "# разделим всех клиентов на 20 групп по доходу\n",
    "bins = np.linspace(\n",
    "    df[\"total_income\"].min(), df[\"total_income\"].max(), num=6\n",
    ")\n",
    "df[\"income_group\"] = pd.cut(df[\"total_income\"], bins=bins, right=False)\n",
    "df[\"income_group\"] = df[\"income_group\"].apply(\n",
    "    lambda x: (x.left + x.right) / 2 / 1e6\n",
    ")\n",
    "\n",
    "fig = plt.gcf()\n",
    "fig.set_size_inches(12, 8)\n",
    "data = df.groupby(\"income_group\").agg({\"debt\": \"mean\"})  * 100\n",
    "data.reset_index(inplace=True)\n",
    "\n",
    "ax = sns.lineplot(\n",
    "    x=\"income_group\",\n",
    "    y=\"debt\",\n",
    "    data=data,\n",
    "    palette=\"deep\",\n",
    ")\n",
    "ax.set_title(\"Зависимость кредитных рисков от доходов\")\n",
    "# ax.set_xticklabels(ax.get_xticklabels(), rotation=45)\n",
    "ax.set_ylabel(\"Процент клиентов с задолженностями\")\n",
    "ax.set_xlabel(\"Доход, млн. рублей\");"
   ]
  },
  {
   "cell_type": "code",
   "execution_count": 67,
   "id": "7a58c13c",
   "metadata": {},
   "outputs": [
    {
     "data": {
      "image/png": "[encoded data removed]",
      "text/plain": [
       "<Figure size 864x576 with 1 Axes>"
      ]
     },
     "metadata": {
      "needs_background": "light"
     },
     "output_type": "display_data"
    }
   ],
   "source": [
    "# разделим всех клиентов на 20 групп по доходу\n",
    "bins = np.linspace(\n",
    "    df[\"total_income\"].min(), df[\"total_income\"].max(), num=6\n",
    ")\n",
    "df[\"income_group\"] = pd.cut(df[\"total_income\"], bins=bins, right=False)\n",
    "df[\"income_group\"] = df[\"income_group\"].apply(\n",
    "    lambda x: (x.left + x.right) / 2 / 1e6\n",
    ")\n",
    "\n",
    "fig = plt.gcf()\n",
    "fig.set_size_inches(12, 8)\n",
    "data = df.groupby(\"income_group\").agg({\"debt\": \"mean\"})  * 100\n",
    "data.reset_index(inplace=True)\n",
    "\n",
    "ax = sns.barplot(\n",
    "    x=\"income_group\",\n",
    "    y=\"debt\",\n",
    "    data=data,\n",
    "    palette=\"deep\",\n",
    ")\n",
    "ax.set_title(\"Зависимость кредитных рисков от доходов\")\n",
    "ax.set_ylabel(\"Процент клиентов с задолженностями\")\n",
    "ax.set_xlabel(\"Доход, млн. рублей\");"
   ]
  },
  {
   "cell_type": "code",
   "execution_count": 68,
   "id": "5f8ec155",
   "metadata": {},
   "outputs": [
    {
     "data": {
      "image/png": "[encoded data removed]",
      "text/plain": [
       "<Figure size 864x576 with 1 Axes>"
      ]
     },
     "metadata": {
      "needs_background": "light"
     },
     "output_type": "display_data"
    }
   ],
   "source": [
    "# разделим всех клиентов на 10 групп по доходу\n",
    "bins = np.linspace(\n",
    "    df[\"total_income\"].min(), df[\"total_income\"].max(), num=11\n",
    ")\n",
    "df[\"income_group\"] = pd.cut(df[\"total_income\"], bins=bins, right=False)\n",
    "df[\"income_group\"] = df[\"income_group\"].apply(\n",
    "    lambda x: (x.left + x.right) / 2 / 1e6\n",
    ")\n",
    "\n",
    "fig = plt.gcf()\n",
    "fig.set_size_inches(12, 8)\n",
    "data = df.groupby(\"income_group\").agg({\"debt\": \"mean\"})  * 100\n",
    "data.reset_index(inplace=True)\n",
    "\n",
    "ax = sns.lineplot(\n",
    "    x=\"income_group\",\n",
    "    y=\"debt\",\n",
    "    data=data,\n",
    "    palette=\"deep\",\n",
    ")\n",
    "# ax.set(ylim=(-1, 16), xlim=(0, 1.8))\n",
    "ax.set_title(\"Зависимость кредитных рисков от доходов\")\n",
    "ax.set_ylabel(\"Процент клиентов с задолженностями\")\n",
    "ax.set_xlabel(\"Доход, млн. рублей\");"
   ]
  },
  {
   "cell_type": "code",
   "execution_count": 69,
   "id": "87ac902e",
   "metadata": {
    "tags": []
   },
   "outputs": [
    {
     "data": {
      "image/png": "[encoded data removed]",
      "text/plain": [
       "<Figure size 864x576 with 1 Axes>"
      ]
     },
     "metadata": {
      "needs_background": "light"
     },
     "output_type": "display_data"
    }
   ],
   "source": [
    "bins = np.linspace(\n",
    "    df[\"total_income\"].min(), df[\"total_income\"].max(), num=11\n",
    ")\n",
    "df[\"income_group\"] = pd.cut(df[\"total_income\"], bins=bins, right=False)\n",
    "df[\"income_group\"] = df[\"income_group\"].apply(\n",
    "    lambda x: (x.left + x.right) / 2 / 1e6\n",
    ")\n",
    "\n",
    "fig = plt.gcf()\n",
    "fig.set_size_inches(12, 8)\n",
    "data = df.groupby(\"income_group\").agg({\"debt\": \"mean\"})  * 100\n",
    "data.reset_index(inplace=True)\n",
    "\n",
    "ax = sns.barplot(\n",
    "    x=\"income_group\",\n",
    "    y=\"debt\",\n",
    "    data=data,\n",
    "    palette=\"deep\",\n",
    ")\n",
    "# ax.set(ylim=(-1, 16), xlim=(0, 1.8))\n",
    "ax.set_xticklabels(ax.get_xticklabels(), rotation=45)\n",
    "ax.set_title(\"Зависимость кредитных рисков от доходов\")\n",
    "ax.set_ylabel(\"Процент клиентов с задолженностями\")\n",
    "ax.set_xlabel(\"Доход, млн. рублей\");\n"
   ]
  },
  {
   "cell_type": "markdown",
   "id": "118f42cf",
   "metadata": {},
   "source": [
    "График зависимости кредитных рисков от доходов показывает, что существует очень надёжная группа заёмщиков: клиенты с доходом выше $~1.15$ миллионов рублей, которые не имели проблем с кредитами. Также из графика следует, что люди с доходом около 1 миллиона имеют наибольшие проблемы с обслуживанием долга. Из остальных клиентов наименьшие риски несут люди с доходом около 0.5 миллиона рублей.\n",
    "\n",
    "Можно предположить, что клиенты с высокими доходами в принципе не имеют проблем с обслуживанием долга. Примыкающая же к ним гркппа со средне-высокими доходами имеют амбиции потреблять так же как и первые, но не имеют возможности обеспечить такое потребление реальными доходами. Группа со средними доходами получают достаточно. чтобы обслуживать умеренные долги и проявляют осторожность в расходах. Группа же с низкими доходами просто наиболее финансово неустойчива.  "
   ]
  },
  {
   "cell_type": "code",
   "execution_count": 70,
   "id": "2e67da2c",
   "metadata": {
    "tags": []
   },
   "outputs": [
    {
     "data": {
      "image/png": "[encoded data removed]",
      "text/plain": [
       "<Figure size 864x576 with 1 Axes>"
      ]
     },
     "metadata": {
      "needs_background": "light"
     },
     "output_type": "display_data"
    }
   ],
   "source": [
    "fig = plt.gcf()\n",
    "fig.set_size_inches(12, 8)\n",
    "\n",
    "data = (df.groupby(\"education_id\").agg({\"debt\": \"mean\"}) * 100)\n",
    "data.reset_index(inplace=True)\n",
    "data.sort_values('debt', inplace=True)\n",
    "data = data.merge(education_dict)\n",
    "\n",
    "ax = sns.barplot(\n",
    "    x=\"education\",\n",
    "    y=\"debt\",\n",
    "    data=data,\n",
    "    palette=\"deep\",\n",
    ")\n",
    "\n",
    "ax.set_title(\"Зависимость кредитных рисков от образования\")\n",
    "ax.set_xticklabels(ax.get_xticklabels(), rotation=45)\n",
    "ax.set_xticks(np.arange(0, 5, 1))\n",
    "ax.set_ylabel(\"Процент клиентов с задолженностями\")\n",
    "ax.set_xlabel(\"Образование\");"
   ]
  },
  {
   "cell_type": "markdown",
   "id": "1cc1ad1c",
   "metadata": {},
   "source": [
    "Как и в случае возраста, прослеживается чёткая связь между уровнем образования и рисками по кредиту: чем выше образовани, тем ниже риски. Наиболее рискованными заёмщиками являются клиенты с начальным образованием, наименее &mdash; с вышим. Немногочисленная группа клиентов с научными степенями (6 человек) практически не создаёт кредитных рисков."
   ]
  },
  {
   "cell_type": "markdown",
   "id": "6e0481cb",
   "metadata": {},
   "source": [
    "## Влияние цели кредита на кредитные риски"
   ]
  },
  {
   "cell_type": "code",
   "execution_count": 71,
   "id": "48934f44",
   "metadata": {},
   "outputs": [
    {
     "data": {
      "image/png": "[encoded data removed]",
      "text/plain": [
       "<Figure size 864x576 with 1 Axes>"
      ]
     },
     "metadata": {
      "needs_background": "light"
     },
     "output_type": "display_data"
    }
   ],
   "source": [
    "fig = plt.gcf()\n",
    "fig.set_size_inches(12, 8)\n",
    "\n",
    "data = (df.groupby(\"purpose_id\").agg({\"debt\": \"mean\"}) * 100)\n",
    "data.sort_values('debt', inplace=True)\n",
    "data = data.merge(purpose_dict, left_index=True, right_index=True)\n",
    "\n",
    "# data = df[targets + [\"debt\"]].groupby(\"debt\").sum()\n",
    "# data.reset_index(inplace=True)\n",
    "# data=data.merge(purpose_dict)\n",
    "# data.sort_values(\"debt\", inplace=True)\n",
    "\n",
    "ax = sns.barplot(\n",
    "    x='purpose',\n",
    "    y='debt',\n",
    "    data=data,\n",
    "    palette=\"deep\",\n",
    ")\n",
    "\n",
    "ax.set_title(\"Зависимость кредитных рисков от целей кредита\")\n",
    "# ax.set_xticklabels(targets, rotation=45)\n",
    "# ax.set_xticks(np.arange(0, 5, 1))\n",
    "ax.set_ylabel(\"Процент клиентов с задолженностями\")\n",
    "ax.set_xlabel(\"Леммы из целей кредита\");"
   ]
  },
  {
   "cell_type": "markdown",
   "id": "3bb80972",
   "metadata": {},
   "source": [
    "На графике видно, что цели кредита связанные с леммами \"автомобиль\" и \"образование\"несут самые высокие риски. Можно предположить, что люди которые разбили машины и не осилили образование менее пунктуальны в выплете долга под эти траты.\n",
    "\n",
    "Цель \"недвижимость\"сопряжена с наименьшими рисками. Это серьёзное и ответственное вложение, и заёмщики серьёзно относятся к погашению кредита.\n",
    "\n",
    "\"Свадьба\" находится между ними, чуть тяготея к низкорисковой недвижимости."
   ]
  },
  {
   "cell_type": "markdown",
   "id": "15efb044",
   "metadata": {},
   "source": [
    "### Вывод\n",
    "\n",
    "Из построенного графика следует, что наибольший риск несут кредиты взятые под цели, связанные с автомобилем и образованием. Наименее рискованы кредиты, связанные с недвижимостью."
   ]
  },
  {
   "cell_type": "markdown",
   "id": "ee790b2e",
   "metadata": {},
   "source": [
    "## Итоги исследования\n",
    "\n",
    "В ходе исследования был проверен ряд гипотез. Основные:\n",
    "- семейное положение предсказывает кредитные риски\n",
    "- количество детей предсказывает кредитные риски\n",
    "\n",
    "И альтернативные:\n",
    "- доход предсказывает кредитные риски\n",
    "- возраст предсказывает кредитные риски\n",
    "- цели кредита предсказывают кредитные риски\n",
    "\n",
    "Также была предпринята попытка объективизировать подбор параметров для предсказания кредитных рисков.\n",
    "\n",
    "Проверка основных гипотез показала крайне низкую эффективность показателя \"количество детей\": он имеет предсказательную силу лишь очень маленькой группы многодетных клиентов.\n",
    "\n",
    "Семейное положение позволило разделить клиентов на три группы. Этот показатель можно считать эффективным. \n",
    "\n",
    "Доход как предиктор кредитных рисков также показал свою эффективность, выявив группы практически безрисковые клиенты с высоким доходом и высокорисковую группу клиентов с доходом около 1 млн. рублей. Этот результат не вполне интуитивен, а потому ценен.\n",
    "\n",
    "Возраст продемонстрировал отчётливую корреляцию с кредитными рисками: с росто возраста заёмщика риски в целом снижаются. При этом наибольшие риски несут клиенты в возрасте до 30 лет\n",
    "\n",
    "Анализ целей кредита показал, что наименьшие риски несут кредиты связанные с покупкой и ремонтом недвижимости, а наибольше &mdash; связанные с авто и образованием."
   ]
  }
 ],
 "metadata": {
  "ExecuteTimeLog": [
   {
    "duration": 2006,
    "start_time": "2021-07-20T18:20:06.214Z"
   },
   {
    "duration": -747,
    "start_time": "2021-07-20T18:20:08.974Z"
   },
   {
    "duration": -774,
    "start_time": "2021-07-20T18:20:09.003Z"
   },
   {
    "duration": -788,
    "start_time": "2021-07-20T18:20:09.019Z"
   },
   {
    "duration": -799,
    "start_time": "2021-07-20T18:20:09.032Z"
   },
   {
    "duration": -810,
    "start_time": "2021-07-20T18:20:09.046Z"
   },
   {
    "duration": -824,
    "start_time": "2021-07-20T18:20:09.062Z"
   },
   {
    "duration": -829,
    "start_time": "2021-07-20T18:20:09.069Z"
   },
   {
    "duration": -830,
    "start_time": "2021-07-20T18:20:09.073Z"
   },
   {
    "duration": -830,
    "start_time": "2021-07-20T18:20:09.075Z"
   },
   {
    "duration": -831,
    "start_time": "2021-07-20T18:20:09.078Z"
   },
   {
    "duration": -834,
    "start_time": "2021-07-20T18:20:09.083Z"
   },
   {
    "duration": -835,
    "start_time": "2021-07-20T18:20:09.086Z"
   },
   {
    "duration": -835,
    "start_time": "2021-07-20T18:20:09.088Z"
   },
   {
    "duration": -834,
    "start_time": "2021-07-20T18:20:09.090Z"
   },
   {
    "duration": -835,
    "start_time": "2021-07-20T18:20:09.093Z"
   },
   {
    "duration": -883,
    "start_time": "2021-07-20T18:20:09.143Z"
   },
   {
    "duration": -885,
    "start_time": "2021-07-20T18:20:09.147Z"
   },
   {
    "duration": -850,
    "start_time": "2021-07-20T18:20:09.151Z"
   },
   {
    "duration": -850,
    "start_time": "2021-07-20T18:20:09.153Z"
   },
   {
    "duration": -850,
    "start_time": "2021-07-20T18:20:09.155Z"
   },
   {
    "duration": -849,
    "start_time": "2021-07-20T18:20:09.157Z"
   },
   {
    "duration": -848,
    "start_time": "2021-07-20T18:20:09.158Z"
   },
   {
    "duration": -848,
    "start_time": "2021-07-20T18:20:09.160Z"
   },
   {
    "duration": -911,
    "start_time": "2021-07-20T18:20:09.225Z"
   },
   {
    "duration": -912,
    "start_time": "2021-07-20T18:20:09.228Z"
   },
   {
    "duration": -921,
    "start_time": "2021-07-20T18:20:09.240Z"
   },
   {
    "duration": -948,
    "start_time": "2021-07-20T18:20:09.268Z"
   },
   {
    "duration": -956,
    "start_time": "2021-07-20T18:20:09.278Z"
   },
   {
    "duration": -959,
    "start_time": "2021-07-20T18:20:09.283Z"
   },
   {
    "duration": -971,
    "start_time": "2021-07-20T18:20:09.298Z"
   },
   {
    "duration": -1081,
    "start_time": "2021-07-20T18:20:09.410Z"
   },
   {
    "duration": -1082,
    "start_time": "2021-07-20T18:20:09.413Z"
   },
   {
    "duration": -1082,
    "start_time": "2021-07-20T18:20:09.415Z"
   },
   {
    "duration": -1080,
    "start_time": "2021-07-20T18:20:09.417Z"
   },
   {
    "duration": -1079,
    "start_time": "2021-07-20T18:20:09.418Z"
   },
   {
    "duration": -1080,
    "start_time": "2021-07-20T18:20:09.420Z"
   },
   {
    "duration": -1080,
    "start_time": "2021-07-20T18:20:09.422Z"
   },
   {
    "duration": -1022,
    "start_time": "2021-07-20T18:20:09.423Z"
   },
   {
    "duration": -1058,
    "start_time": "2021-07-20T18:20:09.461Z"
   },
   {
    "duration": -1068,
    "start_time": "2021-07-20T18:20:09.473Z"
   },
   {
    "duration": -1067,
    "start_time": "2021-07-20T18:20:09.475Z"
   },
   {
    "duration": -1067,
    "start_time": "2021-07-20T18:20:09.477Z"
   },
   {
    "duration": -1066,
    "start_time": "2021-07-20T18:20:09.479Z"
   },
   {
    "duration": -1067,
    "start_time": "2021-07-20T18:20:09.481Z"
   },
   {
    "duration": -1066,
    "start_time": "2021-07-20T18:20:09.483Z"
   },
   {
    "duration": -1065,
    "start_time": "2021-07-20T18:20:09.484Z"
   },
   {
    "duration": -1065,
    "start_time": "2021-07-20T18:20:09.486Z"
   },
   {
    "duration": -1072,
    "start_time": "2021-07-20T18:20:09.496Z"
   },
   {
    "duration": -1074,
    "start_time": "2021-07-20T18:20:09.500Z"
   },
   {
    "duration": -1075,
    "start_time": "2021-07-20T18:20:09.503Z"
   },
   {
    "duration": -1075,
    "start_time": "2021-07-20T18:20:09.505Z"
   },
   {
    "duration": -1083,
    "start_time": "2021-07-20T18:20:09.515Z"
   },
   {
    "duration": -1083,
    "start_time": "2021-07-20T18:20:09.517Z"
   },
   {
    "duration": -1082,
    "start_time": "2021-07-20T18:20:09.519Z"
   },
   {
    "duration": -1020,
    "start_time": "2021-07-20T18:20:09.520Z"
   },
   {
    "duration": -1019,
    "start_time": "2021-07-20T18:20:09.522Z"
   },
   {
    "duration": -1019,
    "start_time": "2021-07-20T18:20:09.524Z"
   },
   {
    "duration": 15227,
    "start_time": "2021-07-20T18:23:09.770Z"
   },
   {
    "duration": 323,
    "start_time": "2021-07-20T18:23:28.076Z"
   },
   {
    "duration": 5558,
    "start_time": "2021-07-20T18:24:20.212Z"
   },
   {
    "duration": 308,
    "start_time": "2021-07-20T18:24:30.432Z"
   },
   {
    "duration": 4,
    "start_time": "2021-07-20T18:27:24.648Z"
   },
   {
    "duration": 4,
    "start_time": "2021-07-20T18:28:43.867Z"
   },
   {
    "duration": 259,
    "start_time": "2021-07-20T18:28:46.282Z"
   },
   {
    "duration": 3876,
    "start_time": "2021-07-20T18:29:34.865Z"
   },
   {
    "duration": 5,
    "start_time": "2021-07-20T18:29:47.450Z"
   },
   {
    "duration": 298,
    "start_time": "2021-07-20T18:29:50.672Z"
   },
   {
    "duration": 259,
    "start_time": "2021-07-20T18:30:23.472Z"
   },
   {
    "duration": 1411,
    "start_time": "2021-07-20T18:31:48.753Z"
   },
   {
    "duration": 3874,
    "start_time": "2021-07-20T18:31:50.167Z"
   },
   {
    "duration": 656,
    "start_time": "2021-07-20T18:31:54.044Z"
   },
   {
    "duration": 3,
    "start_time": "2021-07-20T18:31:54.703Z"
   },
   {
    "duration": 269,
    "start_time": "2021-07-20T18:31:54.709Z"
   },
   {
    "duration": 21,
    "start_time": "2021-07-20T18:31:54.981Z"
   },
   {
    "duration": 50,
    "start_time": "2021-07-20T18:31:55.004Z"
   },
   {
    "duration": 14,
    "start_time": "2021-07-20T18:31:55.056Z"
   },
   {
    "duration": 31,
    "start_time": "2021-07-20T18:31:55.075Z"
   },
   {
    "duration": 8,
    "start_time": "2021-07-20T18:31:55.109Z"
   },
   {
    "duration": 10,
    "start_time": "2021-07-20T18:31:55.119Z"
   },
   {
    "duration": 8,
    "start_time": "2021-07-20T18:31:55.131Z"
   },
   {
    "duration": 63,
    "start_time": "2021-07-20T18:31:55.142Z"
   },
   {
    "duration": 37,
    "start_time": "2021-07-20T18:31:55.207Z"
   },
   {
    "duration": 8,
    "start_time": "2021-07-20T18:31:55.246Z"
   },
   {
    "duration": 12,
    "start_time": "2021-07-20T18:31:55.256Z"
   },
   {
    "duration": 450,
    "start_time": "2021-07-20T18:31:55.300Z"
   },
   {
    "duration": -861,
    "start_time": "2021-07-20T18:31:56.617Z"
   },
   {
    "duration": -864,
    "start_time": "2021-07-20T18:31:56.621Z"
   },
   {
    "duration": -865,
    "start_time": "2021-07-20T18:31:56.624Z"
   },
   {
    "duration": -866,
    "start_time": "2021-07-20T18:31:56.626Z"
   },
   {
    "duration": -867,
    "start_time": "2021-07-20T18:31:56.628Z"
   },
   {
    "duration": -866,
    "start_time": "2021-07-20T18:31:56.629Z"
   },
   {
    "duration": -866,
    "start_time": "2021-07-20T18:31:56.631Z"
   },
   {
    "duration": -868,
    "start_time": "2021-07-20T18:31:56.634Z"
   },
   {
    "duration": -868,
    "start_time": "2021-07-20T18:31:56.636Z"
   },
   {
    "duration": -871,
    "start_time": "2021-07-20T18:31:56.640Z"
   },
   {
    "duration": -871,
    "start_time": "2021-07-20T18:31:56.642Z"
   },
   {
    "duration": -872,
    "start_time": "2021-07-20T18:31:56.644Z"
   },
   {
    "duration": -886,
    "start_time": "2021-07-20T18:31:56.660Z"
   },
   {
    "duration": -888,
    "start_time": "2021-07-20T18:31:56.663Z"
   },
   {
    "duration": -888,
    "start_time": "2021-07-20T18:31:56.665Z"
   },
   {
    "duration": -889,
    "start_time": "2021-07-20T18:31:56.667Z"
   },
   {
    "duration": -890,
    "start_time": "2021-07-20T18:31:56.669Z"
   },
   {
    "duration": -892,
    "start_time": "2021-07-20T18:31:56.673Z"
   },
   {
    "duration": -892,
    "start_time": "2021-07-20T18:31:56.675Z"
   },
   {
    "duration": -891,
    "start_time": "2021-07-20T18:31:56.677Z"
   },
   {
    "duration": -891,
    "start_time": "2021-07-20T18:31:56.678Z"
   },
   {
    "duration": -891,
    "start_time": "2021-07-20T18:31:56.680Z"
   },
   {
    "duration": -892,
    "start_time": "2021-07-20T18:31:56.682Z"
   },
   {
    "duration": -892,
    "start_time": "2021-07-20T18:31:56.684Z"
   },
   {
    "duration": -885,
    "start_time": "2021-07-20T18:31:56.685Z"
   },
   {
    "duration": -887,
    "start_time": "2021-07-20T18:31:56.689Z"
   },
   {
    "duration": -889,
    "start_time": "2021-07-20T18:31:56.692Z"
   },
   {
    "duration": -889,
    "start_time": "2021-07-20T18:31:56.694Z"
   },
   {
    "duration": -890,
    "start_time": "2021-07-20T18:31:56.696Z"
   },
   {
    "duration": -890,
    "start_time": "2021-07-20T18:31:56.698Z"
   },
   {
    "duration": -891,
    "start_time": "2021-07-20T18:31:56.700Z"
   },
   {
    "duration": -890,
    "start_time": "2021-07-20T18:31:56.701Z"
   },
   {
    "duration": -890,
    "start_time": "2021-07-20T18:31:56.703Z"
   },
   {
    "duration": -891,
    "start_time": "2021-07-20T18:31:56.705Z"
   },
   {
    "duration": -892,
    "start_time": "2021-07-20T18:31:56.707Z"
   },
   {
    "duration": -892,
    "start_time": "2021-07-20T18:31:56.709Z"
   },
   {
    "duration": -893,
    "start_time": "2021-07-20T18:31:56.711Z"
   },
   {
    "duration": -892,
    "start_time": "2021-07-20T18:31:56.712Z"
   },
   {
    "duration": -893,
    "start_time": "2021-07-20T18:31:56.714Z"
   },
   {
    "duration": -894,
    "start_time": "2021-07-20T18:31:56.716Z"
   },
   {
    "duration": -894,
    "start_time": "2021-07-20T18:31:56.717Z"
   },
   {
    "duration": -894,
    "start_time": "2021-07-20T18:31:56.719Z"
   },
   {
    "duration": -895,
    "start_time": "2021-07-20T18:31:56.721Z"
   },
   {
    "duration": 4682,
    "start_time": "2021-07-20T18:32:40.318Z"
   },
   {
    "duration": 283,
    "start_time": "2021-07-20T18:32:50.444Z"
   },
   {
    "duration": 3,
    "start_time": "2021-07-20T18:33:04.285Z"
   },
   {
    "duration": 264,
    "start_time": "2021-07-20T18:33:05.014Z"
   },
   {
    "duration": 80,
    "start_time": "2021-07-20T18:34:03.753Z"
   },
   {
    "duration": 1474,
    "start_time": "2021-07-20T18:34:32.617Z"
   },
   {
    "duration": 3477,
    "start_time": "2021-07-20T18:34:34.094Z"
   },
   {
    "duration": 723,
    "start_time": "2021-07-20T18:34:37.574Z"
   },
   {
    "duration": 3,
    "start_time": "2021-07-20T18:34:38.301Z"
   },
   {
    "duration": 252,
    "start_time": "2021-07-20T18:34:38.307Z"
   },
   {
    "duration": 22,
    "start_time": "2021-07-20T18:34:38.562Z"
   },
   {
    "duration": 56,
    "start_time": "2021-07-20T18:34:38.587Z"
   },
   {
    "duration": 14,
    "start_time": "2021-07-20T18:34:38.647Z"
   },
   {
    "duration": 15,
    "start_time": "2021-07-20T18:34:38.665Z"
   },
   {
    "duration": 8,
    "start_time": "2021-07-20T18:34:38.701Z"
   },
   {
    "duration": 24,
    "start_time": "2021-07-20T18:34:38.712Z"
   },
   {
    "duration": 25,
    "start_time": "2021-07-20T18:34:38.738Z"
   },
   {
    "duration": 25,
    "start_time": "2021-07-20T18:34:38.766Z"
   },
   {
    "duration": 34,
    "start_time": "2021-07-20T18:34:38.801Z"
   },
   {
    "duration": 7,
    "start_time": "2021-07-20T18:34:38.838Z"
   },
   {
    "duration": 12,
    "start_time": "2021-07-20T18:34:38.847Z"
   },
   {
    "duration": 369,
    "start_time": "2021-07-20T18:34:38.862Z"
   },
   {
    "duration": 16,
    "start_time": "2021-07-20T18:34:39.233Z"
   },
   {
    "duration": 51,
    "start_time": "2021-07-20T18:34:39.251Z"
   },
   {
    "duration": 9,
    "start_time": "2021-07-20T18:34:39.305Z"
   },
   {
    "duration": 27,
    "start_time": "2021-07-20T18:34:39.316Z"
   },
   {
    "duration": 22,
    "start_time": "2021-07-20T18:34:39.345Z"
   },
   {
    "duration": 35,
    "start_time": "2021-07-20T18:34:39.374Z"
   },
   {
    "duration": 6,
    "start_time": "2021-07-20T18:34:39.413Z"
   },
   {
    "duration": 28,
    "start_time": "2021-07-20T18:34:39.421Z"
   },
   {
    "duration": 4510,
    "start_time": "2021-07-20T18:34:39.452Z"
   },
   {
    "duration": 35,
    "start_time": "2021-07-20T18:34:43.965Z"
   },
   {
    "duration": 31,
    "start_time": "2021-07-20T18:34:44.003Z"
   },
   {
    "duration": 3705,
    "start_time": "2021-07-20T18:34:44.037Z"
   },
   {
    "duration": 417,
    "start_time": "2021-07-20T18:34:47.745Z"
   },
   {
    "duration": -823,
    "start_time": "2021-07-20T18:34:48.988Z"
   },
   {
    "duration": -824,
    "start_time": "2021-07-20T18:34:48.990Z"
   },
   {
    "duration": -824,
    "start_time": "2021-07-20T18:34:48.992Z"
   },
   {
    "duration": -824,
    "start_time": "2021-07-20T18:34:48.994Z"
   },
   {
    "duration": -825,
    "start_time": "2021-07-20T18:34:48.996Z"
   },
   {
    "duration": -825,
    "start_time": "2021-07-20T18:34:48.998Z"
   },
   {
    "duration": -825,
    "start_time": "2021-07-20T18:34:49.000Z"
   },
   {
    "duration": -826,
    "start_time": "2021-07-20T18:34:49.002Z"
   },
   {
    "duration": -825,
    "start_time": "2021-07-20T18:34:49.003Z"
   },
   {
    "duration": -826,
    "start_time": "2021-07-20T18:34:49.005Z"
   },
   {
    "duration": -827,
    "start_time": "2021-07-20T18:34:49.007Z"
   },
   {
    "duration": -828,
    "start_time": "2021-07-20T18:34:49.010Z"
   },
   {
    "duration": -828,
    "start_time": "2021-07-20T18:34:49.011Z"
   },
   {
    "duration": -830,
    "start_time": "2021-07-20T18:34:49.014Z"
   },
   {
    "duration": -830,
    "start_time": "2021-07-20T18:34:49.016Z"
   },
   {
    "duration": -831,
    "start_time": "2021-07-20T18:34:49.018Z"
   },
   {
    "duration": -847,
    "start_time": "2021-07-20T18:34:49.035Z"
   },
   {
    "duration": -852,
    "start_time": "2021-07-20T18:34:49.041Z"
   },
   {
    "duration": -852,
    "start_time": "2021-07-20T18:34:49.043Z"
   },
   {
    "duration": -854,
    "start_time": "2021-07-20T18:34:49.046Z"
   },
   {
    "duration": -855,
    "start_time": "2021-07-20T18:34:49.048Z"
   },
   {
    "duration": -856,
    "start_time": "2021-07-20T18:34:49.051Z"
   },
   {
    "duration": -857,
    "start_time": "2021-07-20T18:34:49.053Z"
   },
   {
    "duration": -858,
    "start_time": "2021-07-20T18:34:49.055Z"
   },
   {
    "duration": -859,
    "start_time": "2021-07-20T18:34:49.057Z"
   },
   {
    "duration": -858,
    "start_time": "2021-07-20T18:34:49.058Z"
   },
   {
    "duration": -859,
    "start_time": "2021-07-20T18:34:49.060Z"
   },
   {
    "duration": -859,
    "start_time": "2021-07-20T18:34:49.062Z"
   },
   {
    "duration": -860,
    "start_time": "2021-07-20T18:34:49.064Z"
   },
   {
    "duration": -861,
    "start_time": "2021-07-20T18:34:49.066Z"
   },
   {
    "duration": 1344,
    "start_time": "2021-07-21T08:37:48.406Z"
   },
   {
    "duration": -47,
    "start_time": "2021-07-21T08:37:49.801Z"
   },
   {
    "duration": -61,
    "start_time": "2021-07-21T08:37:49.816Z"
   },
   {
    "duration": -68,
    "start_time": "2021-07-21T08:37:49.824Z"
   },
   {
    "duration": -74,
    "start_time": "2021-07-21T08:37:49.831Z"
   },
   {
    "duration": -86,
    "start_time": "2021-07-21T08:37:49.843Z"
   },
   {
    "duration": -93,
    "start_time": "2021-07-21T08:37:49.851Z"
   },
   {
    "duration": -105,
    "start_time": "2021-07-21T08:37:49.864Z"
   },
   {
    "duration": -115,
    "start_time": "2021-07-21T08:37:49.875Z"
   },
   {
    "duration": -121,
    "start_time": "2021-07-21T08:37:49.882Z"
   },
   {
    "duration": -130,
    "start_time": "2021-07-21T08:37:49.892Z"
   },
   {
    "duration": -136,
    "start_time": "2021-07-21T08:37:49.899Z"
   },
   {
    "duration": -147,
    "start_time": "2021-07-21T08:37:49.911Z"
   },
   {
    "duration": -153,
    "start_time": "2021-07-21T08:37:49.918Z"
   },
   {
    "duration": -164,
    "start_time": "2021-07-21T08:37:49.929Z"
   },
   {
    "duration": -174,
    "start_time": "2021-07-21T08:37:49.940Z"
   },
   {
    "duration": -180,
    "start_time": "2021-07-21T08:37:49.947Z"
   },
   {
    "duration": -188,
    "start_time": "2021-07-21T08:37:49.956Z"
   },
   {
    "duration": -192,
    "start_time": "2021-07-21T08:37:49.961Z"
   },
   {
    "duration": -199,
    "start_time": "2021-07-21T08:37:49.969Z"
   },
   {
    "duration": -210,
    "start_time": "2021-07-21T08:37:49.981Z"
   },
   {
    "duration": -219,
    "start_time": "2021-07-21T08:37:49.991Z"
   },
   {
    "duration": -223,
    "start_time": "2021-07-21T08:37:49.996Z"
   },
   {
    "duration": -233,
    "start_time": "2021-07-21T08:37:50.007Z"
   },
   {
    "duration": -237,
    "start_time": "2021-07-21T08:37:50.012Z"
   },
   {
    "duration": -248,
    "start_time": "2021-07-21T08:37:50.023Z"
   },
   {
    "duration": -252,
    "start_time": "2021-07-21T08:37:50.028Z"
   },
   {
    "duration": -262,
    "start_time": "2021-07-21T08:37:50.039Z"
   },
   {
    "duration": -267,
    "start_time": "2021-07-21T08:37:50.045Z"
   },
   {
    "duration": -306,
    "start_time": "2021-07-21T08:37:50.085Z"
   },
   {
    "duration": -311,
    "start_time": "2021-07-21T08:37:50.091Z"
   },
   {
    "duration": -316,
    "start_time": "2021-07-21T08:37:50.097Z"
   },
   {
    "duration": -328,
    "start_time": "2021-07-21T08:37:50.110Z"
   },
   {
    "duration": -335,
    "start_time": "2021-07-21T08:37:50.118Z"
   },
   {
    "duration": -342,
    "start_time": "2021-07-21T08:37:50.126Z"
   },
   {
    "duration": -348,
    "start_time": "2021-07-21T08:37:50.133Z"
   },
   {
    "duration": -357,
    "start_time": "2021-07-21T08:37:50.143Z"
   },
   {
    "duration": -364,
    "start_time": "2021-07-21T08:37:50.151Z"
   },
   {
    "duration": -371,
    "start_time": "2021-07-21T08:37:50.159Z"
   },
   {
    "duration": -380,
    "start_time": "2021-07-21T08:37:50.169Z"
   },
   {
    "duration": -388,
    "start_time": "2021-07-21T08:37:50.178Z"
   },
   {
    "duration": -393,
    "start_time": "2021-07-21T08:37:50.185Z"
   },
   {
    "duration": -401,
    "start_time": "2021-07-21T08:37:50.194Z"
   },
   {
    "duration": -411,
    "start_time": "2021-07-21T08:37:50.205Z"
   },
   {
    "duration": -416,
    "start_time": "2021-07-21T08:37:50.211Z"
   },
   {
    "duration": -422,
    "start_time": "2021-07-21T08:37:50.218Z"
   },
   {
    "duration": -433,
    "start_time": "2021-07-21T08:37:50.230Z"
   },
   {
    "duration": -442,
    "start_time": "2021-07-21T08:37:50.240Z"
   },
   {
    "duration": -446,
    "start_time": "2021-07-21T08:37:50.245Z"
   },
   {
    "duration": -454,
    "start_time": "2021-07-21T08:37:50.254Z"
   },
   {
    "duration": -459,
    "start_time": "2021-07-21T08:37:50.260Z"
   },
   {
    "duration": -465,
    "start_time": "2021-07-21T08:37:50.267Z"
   },
   {
    "duration": -473,
    "start_time": "2021-07-21T08:37:50.276Z"
   },
   {
    "duration": -479,
    "start_time": "2021-07-21T08:37:50.283Z"
   },
   {
    "duration": -488,
    "start_time": "2021-07-21T08:37:50.293Z"
   },
   {
    "duration": -496,
    "start_time": "2021-07-21T08:37:50.302Z"
   },
   {
    "duration": -504,
    "start_time": "2021-07-21T08:37:50.311Z"
   },
   {
    "duration": -513,
    "start_time": "2021-07-21T08:37:50.322Z"
   },
   {
    "duration": 239,
    "start_time": "2021-07-21T08:40:57.368Z"
   },
   {
    "duration": 2019,
    "start_time": "2021-07-21T08:41:13.314Z"
   },
   {
    "duration": -33,
    "start_time": "2021-07-21T08:50:16.294Z"
   },
   {
    "duration": 199003,
    "start_time": "2021-07-21T08:50:19.974Z"
   },
   {
    "duration": 3,
    "start_time": "2021-07-21T08:54:02.470Z"
   },
   {
    "duration": 182,
    "start_time": "2021-07-21T08:54:31.778Z"
   },
   {
    "duration": 136,
    "start_time": "2021-07-21T08:54:57.314Z"
   },
   {
    "duration": 2,
    "start_time": "2021-07-21T08:55:09.894Z"
   },
   {
    "duration": 171,
    "start_time": "2021-07-21T08:55:12.294Z"
   },
   {
    "duration": 17,
    "start_time": "2021-07-21T08:55:14.956Z"
   },
   {
    "duration": 33,
    "start_time": "2021-07-21T08:55:20.548Z"
   },
   {
    "duration": 11,
    "start_time": "2021-07-21T08:55:24.374Z"
   },
   {
    "duration": 9,
    "start_time": "2021-07-21T08:55:28.837Z"
   },
   {
    "duration": 6,
    "start_time": "2021-07-21T08:55:31.951Z"
   },
   {
    "duration": 7,
    "start_time": "2021-07-21T08:55:35.174Z"
   },
   {
    "duration": 5,
    "start_time": "2021-07-21T08:56:37.713Z"
   },
   {
    "duration": 18,
    "start_time": "2021-07-21T08:56:45.397Z"
   },
   {
    "duration": 23,
    "start_time": "2021-07-21T08:56:48.756Z"
   },
   {
    "duration": 5,
    "start_time": "2021-07-21T08:56:56.005Z"
   },
   {
    "duration": 9,
    "start_time": "2021-07-21T08:56:59.570Z"
   },
   {
    "duration": 197,
    "start_time": "2021-07-21T08:57:00.037Z"
   },
   {
    "duration": 4,
    "start_time": "2021-07-21T08:59:18.814Z"
   },
   {
    "duration": 5,
    "start_time": "2021-07-21T09:06:32.075Z"
   },
   {
    "duration": 12,
    "start_time": "2021-07-21T09:21:04.129Z"
   },
   {
    "duration": 20,
    "start_time": "2021-07-21T09:21:08.653Z"
   },
   {
    "duration": 7,
    "start_time": "2021-07-21T09:21:11.957Z"
   },
   {
    "duration": 8,
    "start_time": "2021-07-21T09:21:14.062Z"
   },
   {
    "duration": 8,
    "start_time": "2021-07-21T09:21:19.279Z"
   },
   {
    "duration": 18,
    "start_time": "2021-07-21T09:21:22.996Z"
   },
   {
    "duration": 5,
    "start_time": "2021-07-21T09:21:26.445Z"
   },
   {
    "duration": 8,
    "start_time": "2021-07-21T09:21:27.015Z"
   },
   {
    "duration": 3511,
    "start_time": "2021-07-21T09:21:32.758Z"
   },
   {
    "duration": 13,
    "start_time": "2021-07-21T09:21:38.461Z"
   },
   {
    "duration": 23,
    "start_time": "2021-07-21T09:21:41.526Z"
   },
   {
    "duration": 2096,
    "start_time": "2021-07-21T09:21:46.652Z"
   },
   {
    "duration": 194,
    "start_time": "2021-07-21T09:21:52.388Z"
   },
   {
    "duration": 517,
    "start_time": "2021-07-21T09:26:21.522Z"
   },
   {
    "duration": 11,
    "start_time": "2021-07-21T09:27:05.100Z"
   },
   {
    "duration": 24,
    "start_time": "2021-07-21T09:27:07.003Z"
   },
   {
    "duration": 4,
    "start_time": "2021-07-21T09:27:42.386Z"
   },
   {
    "duration": 4,
    "start_time": "2021-07-21T09:28:05.263Z"
   },
   {
    "duration": 3,
    "start_time": "2021-07-21T09:48:13.299Z"
   },
   {
    "duration": 4,
    "start_time": "2021-07-21T09:48:19.637Z"
   },
   {
    "duration": 4,
    "start_time": "2021-07-21T09:49:55.442Z"
   },
   {
    "duration": 4,
    "start_time": "2021-07-21T09:57:30.229Z"
   },
   {
    "duration": 9546,
    "start_time": "2021-07-21T10:05:40.801Z"
   },
   {
    "duration": 166557,
    "start_time": "2021-07-21T10:05:57.237Z"
   },
   {
    "duration": 30405,
    "start_time": "2021-07-21T10:13:12.774Z"
   },
   {
    "duration": 20,
    "start_time": "2021-07-21T10:13:50.781Z"
   },
   {
    "duration": 4,
    "start_time": "2021-07-21T10:14:13.879Z"
   },
   {
    "duration": 196,
    "start_time": "2021-07-21T10:14:17.014Z"
   },
   {
    "duration": 9,
    "start_time": "2021-07-21T10:14:44.823Z"
   },
   {
    "duration": 5,
    "start_time": "2021-07-21T10:14:52.261Z"
   },
   {
    "duration": 18,
    "start_time": "2021-07-21T10:14:54.909Z"
   },
   {
    "duration": 12,
    "start_time": "2021-07-21T10:14:57.855Z"
   },
   {
    "duration": 7,
    "start_time": "2021-07-21T10:14:59.743Z"
   },
   {
    "duration": 7,
    "start_time": "2021-07-21T10:15:03.549Z"
   },
   {
    "duration": 205,
    "start_time": "2021-07-21T10:15:06.395Z"
   },
   {
    "duration": 8,
    "start_time": "2021-07-21T10:19:10.550Z"
   },
   {
    "duration": 224,
    "start_time": "2021-07-21T10:19:30.790Z"
   },
   {
    "duration": 342,
    "start_time": "2021-07-21T10:21:14.270Z"
   },
   {
    "duration": 61,
    "start_time": "2021-07-21T10:22:16.669Z"
   },
   {
    "duration": 4578,
    "start_time": "2021-07-21T10:22:44.641Z"
   },
   {
    "duration": 15,
    "start_time": "2021-07-21T10:23:29.300Z"
   },
   {
    "duration": 14,
    "start_time": "2021-07-21T10:23:44.717Z"
   },
   {
    "duration": 12,
    "start_time": "2021-07-21T10:23:50.076Z"
   },
   {
    "duration": 14,
    "start_time": "2021-07-21T10:23:56.930Z"
   },
   {
    "duration": 15,
    "start_time": "2021-07-21T10:24:00.763Z"
   },
   {
    "duration": 16,
    "start_time": "2021-07-21T10:24:05.939Z"
   },
   {
    "duration": 4481,
    "start_time": "2021-07-21T10:24:46.407Z"
   },
   {
    "duration": 6,
    "start_time": "2021-07-21T10:25:13.419Z"
   },
   {
    "duration": 4746,
    "start_time": "2021-07-21T10:25:41.150Z"
   },
   {
    "duration": 16,
    "start_time": "2021-07-21T10:29:20.708Z"
   },
   {
    "duration": 213,
    "start_time": "2021-07-21T10:29:36.611Z"
   },
   {
    "duration": 17,
    "start_time": "2021-07-21T10:30:05.013Z"
   },
   {
    "duration": 17,
    "start_time": "2021-07-21T10:30:15.210Z"
   },
   {
    "duration": 18,
    "start_time": "2021-07-21T10:30:55.359Z"
   },
   {
    "duration": 19,
    "start_time": "2021-07-21T10:31:09.505Z"
   },
   {
    "duration": 58,
    "start_time": "2021-07-21T10:31:24.490Z"
   },
   {
    "duration": 20,
    "start_time": "2021-07-21T10:31:28.713Z"
   },
   {
    "duration": 20,
    "start_time": "2021-07-21T10:31:37.901Z"
   },
   {
    "duration": 3,
    "start_time": "2021-07-21T10:31:57.938Z"
   },
   {
    "duration": 2,
    "start_time": "2021-07-21T10:32:00.985Z"
   },
   {
    "duration": 1081,
    "start_time": "2021-07-21T10:32:18.355Z"
   },
   {
    "duration": 3,
    "start_time": "2021-07-21T10:32:21.759Z"
   },
   {
    "duration": 174,
    "start_time": "2021-07-21T10:32:23.211Z"
   },
   {
    "duration": 16,
    "start_time": "2021-07-21T10:32:28.596Z"
   },
   {
    "duration": 31,
    "start_time": "2021-07-21T10:32:28.951Z"
   },
   {
    "duration": 11,
    "start_time": "2021-07-21T10:32:31.485Z"
   },
   {
    "duration": 10,
    "start_time": "2021-07-21T10:32:33.993Z"
   },
   {
    "duration": 8,
    "start_time": "2021-07-21T10:32:36.988Z"
   },
   {
    "duration": 17,
    "start_time": "2021-07-21T10:32:40.843Z"
   },
   {
    "duration": 25,
    "start_time": "2021-07-21T10:32:42.764Z"
   },
   {
    "duration": 6,
    "start_time": "2021-07-21T10:32:45.860Z"
   },
   {
    "duration": 9,
    "start_time": "2021-07-21T10:32:47.964Z"
   },
   {
    "duration": 281,
    "start_time": "2021-07-21T10:32:49.613Z"
   },
   {
    "duration": 11,
    "start_time": "2021-07-21T10:33:09.741Z"
   },
   {
    "duration": 21,
    "start_time": "2021-07-21T10:33:13.670Z"
   },
   {
    "duration": 7,
    "start_time": "2021-07-21T10:33:16.293Z"
   },
   {
    "duration": 7,
    "start_time": "2021-07-21T10:33:18.973Z"
   },
   {
    "duration": 7,
    "start_time": "2021-07-21T10:33:21.860Z"
   },
   {
    "duration": 17,
    "start_time": "2021-07-21T10:33:23.101Z"
   },
   {
    "duration": 5,
    "start_time": "2021-07-21T10:33:26.453Z"
   },
   {
    "duration": 8,
    "start_time": "2021-07-21T10:33:28.076Z"
   },
   {
    "duration": 3233,
    "start_time": "2021-07-21T10:33:33.373Z"
   },
   {
    "duration": 12,
    "start_time": "2021-07-21T10:33:38.614Z"
   },
   {
    "duration": 23,
    "start_time": "2021-07-21T10:33:40.941Z"
   },
   {
    "duration": 2127,
    "start_time": "2021-07-21T10:33:43.260Z"
   },
   {
    "duration": 10,
    "start_time": "2021-07-21T10:33:51.622Z"
   },
   {
    "duration": 25,
    "start_time": "2021-07-21T10:33:53.054Z"
   },
   {
    "duration": 30120,
    "start_time": "2021-07-21T10:33:57.892Z"
   },
   {
    "duration": 20,
    "start_time": "2021-07-21T10:34:34.343Z"
   },
   {
    "duration": 5,
    "start_time": "2021-07-21T10:34:36.542Z"
   },
   {
    "duration": 8,
    "start_time": "2021-07-21T10:34:42.359Z"
   },
   {
    "duration": 5,
    "start_time": "2021-07-21T10:34:47.463Z"
   },
   {
    "duration": 17,
    "start_time": "2021-07-21T10:34:51.638Z"
   },
   {
    "duration": 11,
    "start_time": "2021-07-21T10:34:53.850Z"
   },
   {
    "duration": 6,
    "start_time": "2021-07-21T10:34:55.314Z"
   },
   {
    "duration": 7,
    "start_time": "2021-07-21T10:34:58.897Z"
   },
   {
    "duration": 20,
    "start_time": "2021-07-21T10:35:32.935Z"
   },
   {
    "duration": 16,
    "start_time": "2021-07-21T10:36:06.423Z"
   },
   {
    "duration": 167,
    "start_time": "2021-07-21T10:36:23.398Z"
   },
   {
    "duration": 238,
    "start_time": "2021-07-21T10:37:06.976Z"
   },
   {
    "duration": 240,
    "start_time": "2021-07-21T10:39:24.566Z"
   },
   {
    "duration": 6,
    "start_time": "2021-07-21T10:39:35.325Z"
   },
   {
    "duration": 75,
    "start_time": "2021-07-21T10:40:39.144Z"
   },
   {
    "duration": 324,
    "start_time": "2021-07-21T10:40:48.467Z"
   },
   {
    "duration": 3,
    "start_time": "2021-07-21T10:40:56.382Z"
   },
   {
    "duration": 12,
    "start_time": "2021-07-21T10:40:57.759Z"
   },
   {
    "duration": 20,
    "start_time": "2021-07-21T10:43:21.782Z"
   },
   {
    "duration": 257,
    "start_time": "2021-07-21T10:44:30.134Z"
   },
   {
    "duration": 21,
    "start_time": "2021-07-21T10:45:06.173Z"
   },
   {
    "duration": 254,
    "start_time": "2021-07-21T10:45:07.037Z"
   },
   {
    "duration": 21,
    "start_time": "2021-07-21T10:49:13.883Z"
   },
   {
    "duration": 251,
    "start_time": "2021-07-21T10:49:15.922Z"
   },
   {
    "duration": 18,
    "start_time": "2021-07-21T10:50:41.469Z"
   },
   {
    "duration": 246,
    "start_time": "2021-07-21T10:50:41.964Z"
   },
   {
    "duration": 21,
    "start_time": "2021-07-21T10:53:51.157Z"
   },
   {
    "duration": 245,
    "start_time": "2021-07-21T10:53:52.547Z"
   },
   {
    "duration": 19,
    "start_time": "2021-07-21T10:54:30.859Z"
   },
   {
    "duration": 253,
    "start_time": "2021-07-21T10:54:31.515Z"
   },
   {
    "duration": 21,
    "start_time": "2021-07-21T10:54:50.124Z"
   },
   {
    "duration": 251,
    "start_time": "2021-07-21T10:54:51.110Z"
   },
   {
    "duration": 10,
    "start_time": "2021-07-21T10:55:06.360Z"
   },
   {
    "duration": 348,
    "start_time": "2021-07-21T10:56:03.467Z"
   },
   {
    "duration": 196,
    "start_time": "2021-07-21T10:56:15.956Z"
   },
   {
    "duration": 253,
    "start_time": "2021-07-21T10:57:02.044Z"
   },
   {
    "duration": 297,
    "start_time": "2021-07-21T10:57:21.625Z"
   },
   {
    "duration": 3100,
    "start_time": "2021-07-21T11:29:27.959Z"
   },
   {
    "duration": 128274,
    "start_time": "2021-07-21T11:29:31.061Z"
   },
   {
    "duration": 1090,
    "start_time": "2021-07-21T11:31:39.337Z"
   },
   {
    "duration": 3,
    "start_time": "2021-07-21T11:31:47.881Z"
   },
   {
    "duration": 1230,
    "start_time": "2021-07-21T11:31:47.892Z"
   },
   {
    "duration": 581,
    "start_time": "2021-07-21T11:31:49.124Z"
   },
   {
    "duration": -98,
    "start_time": "2021-07-21T11:31:49.806Z"
   },
   {
    "duration": -104,
    "start_time": "2021-07-21T11:31:49.813Z"
   },
   {
    "duration": -105,
    "start_time": "2021-07-21T11:31:49.815Z"
   },
   {
    "duration": -106,
    "start_time": "2021-07-21T11:31:49.817Z"
   },
   {
    "duration": -107,
    "start_time": "2021-07-21T11:31:49.819Z"
   },
   {
    "duration": -108,
    "start_time": "2021-07-21T11:31:49.821Z"
   },
   {
    "duration": -116,
    "start_time": "2021-07-21T11:31:49.830Z"
   },
   {
    "duration": -118,
    "start_time": "2021-07-21T11:31:49.833Z"
   },
   {
    "duration": -119,
    "start_time": "2021-07-21T11:31:49.835Z"
   },
   {
    "duration": -120,
    "start_time": "2021-07-21T11:31:49.837Z"
   },
   {
    "duration": -121,
    "start_time": "2021-07-21T11:31:49.839Z"
   },
   {
    "duration": -123,
    "start_time": "2021-07-21T11:31:49.843Z"
   },
   {
    "duration": -126,
    "start_time": "2021-07-21T11:31:49.846Z"
   },
   {
    "duration": -127,
    "start_time": "2021-07-21T11:31:49.849Z"
   },
   {
    "duration": -129,
    "start_time": "2021-07-21T11:31:49.851Z"
   },
   {
    "duration": -130,
    "start_time": "2021-07-21T11:31:49.853Z"
   },
   {
    "duration": -131,
    "start_time": "2021-07-21T11:31:49.855Z"
   },
   {
    "duration": -132,
    "start_time": "2021-07-21T11:31:49.857Z"
   },
   {
    "duration": -134,
    "start_time": "2021-07-21T11:31:49.860Z"
   },
   {
    "duration": -135,
    "start_time": "2021-07-21T11:31:49.862Z"
   },
   {
    "duration": -156,
    "start_time": "2021-07-21T11:31:49.884Z"
   },
   {
    "duration": -160,
    "start_time": "2021-07-21T11:31:49.889Z"
   },
   {
    "duration": -163,
    "start_time": "2021-07-21T11:31:49.893Z"
   },
   {
    "duration": -164,
    "start_time": "2021-07-21T11:31:49.895Z"
   },
   {
    "duration": -166,
    "start_time": "2021-07-21T11:31:49.897Z"
   },
   {
    "duration": -168,
    "start_time": "2021-07-21T11:31:49.900Z"
   },
   {
    "duration": -169,
    "start_time": "2021-07-21T11:31:49.902Z"
   },
   {
    "duration": -170,
    "start_time": "2021-07-21T11:31:49.904Z"
   },
   {
    "duration": -171,
    "start_time": "2021-07-21T11:31:49.906Z"
   },
   {
    "duration": -177,
    "start_time": "2021-07-21T11:31:49.913Z"
   },
   {
    "duration": -180,
    "start_time": "2021-07-21T11:31:49.917Z"
   },
   {
    "duration": -182,
    "start_time": "2021-07-21T11:31:49.920Z"
   },
   {
    "duration": -183,
    "start_time": "2021-07-21T11:31:49.922Z"
   },
   {
    "duration": -184,
    "start_time": "2021-07-21T11:31:49.924Z"
   },
   {
    "duration": -179,
    "start_time": "2021-07-21T11:31:49.927Z"
   },
   {
    "duration": -180,
    "start_time": "2021-07-21T11:31:49.929Z"
   },
   {
    "duration": -181,
    "start_time": "2021-07-21T11:31:49.931Z"
   },
   {
    "duration": -182,
    "start_time": "2021-07-21T11:31:49.933Z"
   },
   {
    "duration": -184,
    "start_time": "2021-07-21T11:31:49.935Z"
   },
   {
    "duration": -185,
    "start_time": "2021-07-21T11:31:49.937Z"
   },
   {
    "duration": -186,
    "start_time": "2021-07-21T11:31:49.939Z"
   },
   {
    "duration": -188,
    "start_time": "2021-07-21T11:31:49.941Z"
   },
   {
    "duration": -189,
    "start_time": "2021-07-21T11:31:49.943Z"
   },
   {
    "duration": -153,
    "start_time": "2021-07-21T11:31:49.945Z"
   },
   {
    "duration": -154,
    "start_time": "2021-07-21T11:31:49.947Z"
   },
   {
    "duration": -156,
    "start_time": "2021-07-21T11:31:49.949Z"
   },
   {
    "duration": -158,
    "start_time": "2021-07-21T11:31:49.952Z"
   },
   {
    "duration": -160,
    "start_time": "2021-07-21T11:31:49.955Z"
   },
   {
    "duration": -162,
    "start_time": "2021-07-21T11:31:49.958Z"
   },
   {
    "duration": -170,
    "start_time": "2021-07-21T11:31:49.967Z"
   },
   {
    "duration": -183,
    "start_time": "2021-07-21T11:31:49.980Z"
   },
   {
    "duration": -195,
    "start_time": "2021-07-21T11:31:49.993Z"
   },
   {
    "duration": -206,
    "start_time": "2021-07-21T11:31:50.005Z"
   },
   {
    "duration": -210,
    "start_time": "2021-07-21T11:31:50.010Z"
   },
   {
    "duration": -221,
    "start_time": "2021-07-21T11:31:50.022Z"
   },
   {
    "duration": -236,
    "start_time": "2021-07-21T11:31:50.037Z"
   },
   {
    "duration": -237,
    "start_time": "2021-07-21T11:31:50.039Z"
   },
   {
    "duration": -250,
    "start_time": "2021-07-21T11:31:50.053Z"
   },
   {
    "duration": 3,
    "start_time": "2021-07-21T11:32:36.532Z"
   },
   {
    "duration": 9093,
    "start_time": "2021-07-21T11:32:36.548Z"
   },
   {
    "duration": 962,
    "start_time": "2021-07-21T11:32:45.643Z"
   },
   {
    "duration": 484,
    "start_time": "2021-07-21T11:32:46.608Z"
   },
   {
    "duration": 3,
    "start_time": "2021-07-21T11:32:47.094Z"
   },
   {
    "duration": 192,
    "start_time": "2021-07-21T11:32:47.098Z"
   },
   {
    "duration": 14,
    "start_time": "2021-07-21T11:32:47.291Z"
   },
   {
    "duration": 27,
    "start_time": "2021-07-21T11:32:47.306Z"
   },
   {
    "duration": 9,
    "start_time": "2021-07-21T11:32:47.336Z"
   },
   {
    "duration": 8,
    "start_time": "2021-07-21T11:32:47.346Z"
   },
   {
    "duration": 5,
    "start_time": "2021-07-21T11:32:47.356Z"
   },
   {
    "duration": 34,
    "start_time": "2021-07-21T11:32:47.362Z"
   },
   {
    "duration": 9,
    "start_time": "2021-07-21T11:32:47.398Z"
   },
   {
    "duration": 15,
    "start_time": "2021-07-21T11:32:47.408Z"
   },
   {
    "duration": 20,
    "start_time": "2021-07-21T11:32:47.424Z"
   },
   {
    "duration": 4,
    "start_time": "2021-07-21T11:32:47.446Z"
   },
   {
    "duration": 8,
    "start_time": "2021-07-21T11:32:47.452Z"
   },
   {
    "duration": 208,
    "start_time": "2021-07-21T11:32:47.462Z"
   },
   {
    "duration": 20,
    "start_time": "2021-07-21T11:32:47.672Z"
   },
   {
    "duration": 20,
    "start_time": "2021-07-21T11:32:47.693Z"
   },
   {
    "duration": 7,
    "start_time": "2021-07-21T11:32:47.715Z"
   },
   {
    "duration": 7,
    "start_time": "2021-07-21T11:32:47.724Z"
   },
   {
    "duration": 7,
    "start_time": "2021-07-21T11:32:47.732Z"
   },
   {
    "duration": 48,
    "start_time": "2021-07-21T11:32:47.744Z"
   },
   {
    "duration": 5,
    "start_time": "2021-07-21T11:32:47.794Z"
   },
   {
    "duration": 8,
    "start_time": "2021-07-21T11:32:47.801Z"
   },
   {
    "duration": 3134,
    "start_time": "2021-07-21T11:32:47.811Z"
   },
   {
    "duration": 12,
    "start_time": "2021-07-21T11:32:50.947Z"
   },
   {
    "duration": 37,
    "start_time": "2021-07-21T11:32:50.960Z"
   },
   {
    "duration": 2153,
    "start_time": "2021-07-21T11:32:50.999Z"
   },
   {
    "duration": 10,
    "start_time": "2021-07-21T11:32:53.153Z"
   },
   {
    "duration": 36,
    "start_time": "2021-07-21T11:32:53.164Z"
   },
   {
    "duration": 29374,
    "start_time": "2021-07-21T11:32:53.202Z"
   },
   {
    "duration": 21,
    "start_time": "2021-07-21T11:33:22.578Z"
   },
   {
    "duration": 4,
    "start_time": "2021-07-21T11:33:22.601Z"
   },
   {
    "duration": 3655,
    "start_time": "2021-07-21T11:33:22.606Z"
   },
   {
    "duration": 770,
    "start_time": "2021-07-21T11:33:26.262Z"
   },
   {
    "duration": 8,
    "start_time": "2021-07-21T11:33:27.034Z"
   },
   {
    "duration": 305,
    "start_time": "2021-07-21T11:33:27.044Z"
   },
   {
    "duration": 5,
    "start_time": "2021-07-21T11:33:27.351Z"
   },
   {
    "duration": 16,
    "start_time": "2021-07-21T11:33:27.358Z"
   },
   {
    "duration": 23,
    "start_time": "2021-07-21T11:33:27.376Z"
   },
   {
    "duration": 6,
    "start_time": "2021-07-21T11:33:27.400Z"
   },
   {
    "duration": 8,
    "start_time": "2021-07-21T11:33:27.407Z"
   },
   {
    "duration": 3,
    "start_time": "2021-07-21T11:33:27.416Z"
   },
   {
    "duration": 8,
    "start_time": "2021-07-21T11:33:27.420Z"
   },
   {
    "duration": 5346,
    "start_time": "2021-07-21T11:33:27.430Z"
   },
   {
    "duration": 16,
    "start_time": "2021-07-21T11:33:32.778Z"
   },
   {
    "duration": 6,
    "start_time": "2021-07-21T11:33:32.796Z"
   },
   {
    "duration": 10,
    "start_time": "2021-07-21T11:33:32.803Z"
   },
   {
    "duration": 9,
    "start_time": "2021-07-21T11:33:32.814Z"
   },
   {
    "duration": 227,
    "start_time": "2021-07-21T11:33:32.825Z"
   },
   {
    "duration": 6,
    "start_time": "2021-07-21T11:33:33.054Z"
   },
   {
    "duration": 243,
    "start_time": "2021-07-21T11:33:33.061Z"
   },
   {
    "duration": 4,
    "start_time": "2021-07-21T11:33:33.306Z"
   },
   {
    "duration": 12,
    "start_time": "2021-07-21T11:33:33.312Z"
   },
   {
    "duration": 21,
    "start_time": "2021-07-21T11:33:33.326Z"
   },
   {
    "duration": 239,
    "start_time": "2021-07-21T11:33:33.348Z"
   },
   {
    "duration": 9,
    "start_time": "2021-07-21T11:33:33.588Z"
   },
   {
    "duration": 259,
    "start_time": "2021-07-21T11:33:33.598Z"
   },
   {
    "duration": 237,
    "start_time": "2021-07-21T11:33:33.858Z"
   },
   {
    "duration": 265,
    "start_time": "2021-07-21T11:33:34.097Z"
   },
   {
    "duration": 5,
    "start_time": "2021-07-21T12:10:36.602Z"
   },
   {
    "duration": 3,
    "start_time": "2021-07-21T12:14:41.836Z"
   },
   {
    "duration": 4717,
    "start_time": "2021-07-21T12:14:41.841Z"
   },
   {
    "duration": 1045,
    "start_time": "2021-07-21T12:14:46.560Z"
   },
   {
    "duration": 462,
    "start_time": "2021-07-21T12:14:47.607Z"
   },
   {
    "duration": 2,
    "start_time": "2021-07-21T12:14:48.071Z"
   },
   {
    "duration": 219,
    "start_time": "2021-07-21T12:14:48.075Z"
   },
   {
    "duration": 13,
    "start_time": "2021-07-21T12:14:48.296Z"
   },
   {
    "duration": 30,
    "start_time": "2021-07-21T12:14:48.311Z"
   },
   {
    "duration": 9,
    "start_time": "2021-07-21T12:14:48.343Z"
   },
   {
    "duration": 8,
    "start_time": "2021-07-21T12:14:48.354Z"
   },
   {
    "duration": 30,
    "start_time": "2021-07-21T12:14:48.363Z"
   },
   {
    "duration": 8,
    "start_time": "2021-07-21T12:14:48.394Z"
   },
   {
    "duration": 6,
    "start_time": "2021-07-21T12:14:48.403Z"
   },
   {
    "duration": 15,
    "start_time": "2021-07-21T12:14:48.411Z"
   },
   {
    "duration": 20,
    "start_time": "2021-07-21T12:14:48.427Z"
   },
   {
    "duration": 5,
    "start_time": "2021-07-21T12:14:48.448Z"
   },
   {
    "duration": 39,
    "start_time": "2021-07-21T12:14:48.454Z"
   },
   {
    "duration": 191,
    "start_time": "2021-07-21T12:14:48.495Z"
   },
   {
    "duration": 11,
    "start_time": "2021-07-21T12:14:48.688Z"
   },
   {
    "duration": 18,
    "start_time": "2021-07-21T12:14:48.700Z"
   },
   {
    "duration": 6,
    "start_time": "2021-07-21T12:14:48.719Z"
   },
   {
    "duration": 9,
    "start_time": "2021-07-21T12:14:48.726Z"
   },
   {
    "duration": 8,
    "start_time": "2021-07-21T12:14:48.736Z"
   },
   {
    "duration": 15,
    "start_time": "2021-07-21T12:14:48.746Z"
   },
   {
    "duration": 5,
    "start_time": "2021-07-21T12:14:48.791Z"
   },
   {
    "duration": 10,
    "start_time": "2021-07-21T12:14:48.798Z"
   },
   {
    "duration": 3009,
    "start_time": "2021-07-21T12:14:48.812Z"
   },
   {
    "duration": 11,
    "start_time": "2021-07-21T12:14:51.824Z"
   },
   {
    "duration": 22,
    "start_time": "2021-07-21T12:14:51.837Z"
   },
   {
    "duration": 2106,
    "start_time": "2021-07-21T12:14:51.861Z"
   },
   {
    "duration": 9,
    "start_time": "2021-07-21T12:14:53.968Z"
   },
   {
    "duration": 34,
    "start_time": "2021-07-21T12:14:53.979Z"
   },
   {
    "duration": 29078,
    "start_time": "2021-07-21T12:14:54.014Z"
   },
   {
    "duration": 16,
    "start_time": "2021-07-21T12:15:23.094Z"
   },
   {
    "duration": 8,
    "start_time": "2021-07-21T12:15:23.111Z"
   },
   {
    "duration": 3573,
    "start_time": "2021-07-21T12:15:23.121Z"
   },
   {
    "duration": 730,
    "start_time": "2021-07-21T12:15:26.696Z"
   },
   {
    "duration": 7,
    "start_time": "2021-07-21T12:15:27.428Z"
   },
   {
    "duration": 297,
    "start_time": "2021-07-21T12:15:27.436Z"
   },
   {
    "duration": 4,
    "start_time": "2021-07-21T12:15:27.735Z"
   },
   {
    "duration": 22,
    "start_time": "2021-07-21T12:15:27.740Z"
   },
   {
    "duration": 8,
    "start_time": "2021-07-21T12:15:27.763Z"
   },
   {
    "duration": 20,
    "start_time": "2021-07-21T12:15:27.773Z"
   },
   {
    "duration": 7,
    "start_time": "2021-07-21T12:15:27.794Z"
   },
   {
    "duration": 2,
    "start_time": "2021-07-21T12:15:27.803Z"
   },
   {
    "duration": 7,
    "start_time": "2021-07-21T12:15:27.807Z"
   },
   {
    "duration": 5380,
    "start_time": "2021-07-21T12:15:27.816Z"
   },
   {
    "duration": 7,
    "start_time": "2021-07-21T12:15:33.198Z"
   },
   {
    "duration": 8,
    "start_time": "2021-07-21T12:15:33.206Z"
   },
   {
    "duration": 15,
    "start_time": "2021-07-21T12:15:33.215Z"
   },
   {
    "duration": 12,
    "start_time": "2021-07-21T12:15:33.231Z"
   },
   {
    "duration": 223,
    "start_time": "2021-07-21T12:15:33.245Z"
   },
   {
    "duration": 5,
    "start_time": "2021-07-21T12:15:33.469Z"
   },
   {
    "duration": 241,
    "start_time": "2021-07-21T12:15:33.476Z"
   },
   {
    "duration": 3,
    "start_time": "2021-07-21T12:15:33.719Z"
   },
   {
    "duration": 14,
    "start_time": "2021-07-21T12:15:33.723Z"
   },
   {
    "duration": 20,
    "start_time": "2021-07-21T12:15:33.738Z"
   },
   {
    "duration": 237,
    "start_time": "2021-07-21T12:15:33.760Z"
   },
   {
    "duration": 8,
    "start_time": "2021-07-21T12:15:33.998Z"
   },
   {
    "duration": 266,
    "start_time": "2021-07-21T12:15:34.008Z"
   },
   {
    "duration": 229,
    "start_time": "2021-07-21T12:15:34.275Z"
   },
   {
    "duration": 270,
    "start_time": "2021-07-21T12:15:34.506Z"
   },
   {
    "duration": 19,
    "start_time": "2021-07-21T12:16:12.048Z"
   },
   {
    "duration": 2695,
    "start_time": "2021-07-21T12:16:40.633Z"
   },
   {
    "duration": 21,
    "start_time": "2021-07-21T12:16:45.672Z"
   },
   {
    "duration": 102,
    "start_time": "2021-07-21T12:18:24.974Z"
   },
   {
    "duration": 32,
    "start_time": "2021-07-21T12:18:28.484Z"
   },
   {
    "duration": 42,
    "start_time": "2021-07-21T12:18:57.844Z"
   },
   {
    "duration": 20,
    "start_time": "2021-07-21T12:19:02.892Z"
   },
   {
    "duration": 19,
    "start_time": "2021-07-21T12:19:06.923Z"
   },
   {
    "duration": 16,
    "start_time": "2021-07-21T12:19:53.280Z"
   },
   {
    "duration": 19,
    "start_time": "2021-07-21T12:19:58.552Z"
   },
   {
    "duration": 19,
    "start_time": "2021-07-21T12:20:02.132Z"
   },
   {
    "duration": 26,
    "start_time": "2021-07-21T12:34:44.824Z"
   },
   {
    "duration": 12,
    "start_time": "2021-07-21T12:36:45.674Z"
   },
   {
    "duration": 8,
    "start_time": "2021-07-21T12:37:45.283Z"
   },
   {
    "duration": 1026,
    "start_time": "2021-07-21T12:37:55.600Z"
   },
   {
    "duration": 8,
    "start_time": "2021-07-21T12:37:59.864Z"
   },
   {
    "duration": 8,
    "start_time": "2021-07-21T12:38:10.272Z"
   },
   {
    "duration": 8,
    "start_time": "2021-07-21T12:38:14.351Z"
   },
   {
    "duration": 8,
    "start_time": "2021-07-21T12:38:19.187Z"
   },
   {
    "duration": 214,
    "start_time": "2021-07-21T12:42:23.783Z"
   },
   {
    "duration": 215,
    "start_time": "2021-07-21T12:42:31.564Z"
   },
   {
    "duration": 6,
    "start_time": "2021-07-21T12:42:56.551Z"
   },
   {
    "duration": 216,
    "start_time": "2021-07-21T12:44:07.410Z"
   },
   {
    "duration": 51,
    "start_time": "2021-07-21T12:44:15.159Z"
   },
   {
    "duration": 25,
    "start_time": "2021-07-21T12:44:25.291Z"
   },
   {
    "duration": 7,
    "start_time": "2021-07-21T12:44:30.087Z"
   },
   {
    "duration": 6,
    "start_time": "2021-07-21T12:44:36.644Z"
   },
   {
    "duration": 7,
    "start_time": "2021-07-21T12:46:42.591Z"
   },
   {
    "duration": 4,
    "start_time": "2021-07-21T12:46:50.419Z"
   },
   {
    "duration": 5532,
    "start_time": "2021-07-21T12:46:57.871Z"
   },
   {
    "duration": 5,
    "start_time": "2021-07-21T12:47:12.835Z"
   },
   {
    "duration": 232,
    "start_time": "2021-07-21T12:47:24.516Z"
   },
   {
    "duration": 4,
    "start_time": "2021-07-21T12:47:27.903Z"
   },
   {
    "duration": 192,
    "start_time": "2021-07-21T13:19:11.227Z"
   },
   {
    "duration": 10395,
    "start_time": "2021-07-21T13:20:06.354Z"
   },
   {
    "duration": 1046,
    "start_time": "2021-07-21T13:23:23.106Z"
   },
   {
    "duration": 303,
    "start_time": "2021-07-21T13:23:34.233Z"
   },
   {
    "duration": 3,
    "start_time": "2021-07-21T13:24:16.886Z"
   },
   {
    "duration": 169,
    "start_time": "2021-07-21T13:24:42.712Z"
   },
   {
    "duration": 15,
    "start_time": "2021-07-21T13:24:46.448Z"
   },
   {
    "duration": 31,
    "start_time": "2021-07-21T13:24:51.056Z"
   },
   {
    "duration": 11,
    "start_time": "2021-07-21T13:26:14.978Z"
   },
   {
    "duration": 16,
    "start_time": "2021-07-21T13:26:29.667Z"
   },
   {
    "duration": 7,
    "start_time": "2021-07-21T13:26:41.593Z"
   },
   {
    "duration": 7,
    "start_time": "2021-07-21T13:26:45.465Z"
   },
   {
    "duration": 7,
    "start_time": "2021-07-21T13:26:47.463Z"
   },
   {
    "duration": 17,
    "start_time": "2021-07-21T13:27:38.785Z"
   },
   {
    "duration": 23,
    "start_time": "2021-07-21T13:27:41.939Z"
   },
   {
    "duration": 6,
    "start_time": "2021-07-21T13:28:27.548Z"
   },
   {
    "duration": 8,
    "start_time": "2021-07-21T13:28:29.688Z"
   },
   {
    "duration": 282,
    "start_time": "2021-07-21T13:28:32.410Z"
   },
   {
    "duration": 11,
    "start_time": "2021-07-21T13:29:19.264Z"
   },
   {
    "duration": 22,
    "start_time": "2021-07-21T13:29:20.187Z"
   },
   {
    "duration": 6,
    "start_time": "2021-07-21T13:30:47.737Z"
   },
   {
    "duration": 7,
    "start_time": "2021-07-21T13:30:50.070Z"
   },
   {
    "duration": 9,
    "start_time": "2021-07-21T13:31:28.437Z"
   },
   {
    "duration": 18,
    "start_time": "2021-07-21T13:31:32.053Z"
   },
   {
    "duration": 6,
    "start_time": "2021-07-21T14:42:35.245Z"
   },
   {
    "duration": 4714,
    "start_time": "2021-07-21T14:48:50.355Z"
   },
   {
    "duration": 4510,
    "start_time": "2021-07-21T14:49:25.313Z"
   },
   {
    "duration": 1103,
    "start_time": "2021-07-21T14:49:29.825Z"
   },
   {
    "duration": 333,
    "start_time": "2021-07-21T14:49:30.930Z"
   },
   {
    "duration": 3,
    "start_time": "2021-07-21T14:49:31.265Z"
   },
   {
    "duration": 192,
    "start_time": "2021-07-21T14:49:31.269Z"
   },
   {
    "duration": 14,
    "start_time": "2021-07-21T14:49:31.463Z"
   },
   {
    "duration": 39,
    "start_time": "2021-07-21T14:49:31.479Z"
   },
   {
    "duration": 10,
    "start_time": "2021-07-21T14:49:31.521Z"
   },
   {
    "duration": 10,
    "start_time": "2021-07-21T14:49:31.533Z"
   },
   {
    "duration": 13,
    "start_time": "2021-07-21T14:49:31.545Z"
   },
   {
    "duration": 29,
    "start_time": "2021-07-21T14:49:31.560Z"
   },
   {
    "duration": 11,
    "start_time": "2021-07-21T14:49:31.592Z"
   },
   {
    "duration": 18,
    "start_time": "2021-07-21T14:49:31.605Z"
   },
   {
    "duration": 22,
    "start_time": "2021-07-21T14:49:31.625Z"
   },
   {
    "duration": 5,
    "start_time": "2021-07-21T14:49:31.649Z"
   },
   {
    "duration": 37,
    "start_time": "2021-07-21T14:49:31.656Z"
   },
   {
    "duration": 303,
    "start_time": "2021-07-21T14:49:31.699Z"
   },
   {
    "duration": 11,
    "start_time": "2021-07-21T14:49:32.004Z"
   },
   {
    "duration": 20,
    "start_time": "2021-07-21T14:49:32.016Z"
   },
   {
    "duration": 6,
    "start_time": "2021-07-21T14:49:32.038Z"
   },
   {
    "duration": 10,
    "start_time": "2021-07-21T14:49:32.045Z"
   },
   {
    "duration": 15,
    "start_time": "2021-07-21T14:49:36.927Z"
   },
   {
    "duration": 11,
    "start_time": "2021-07-21T14:53:31.645Z"
   },
   {
    "duration": 110,
    "start_time": "2021-07-22T11:36:12.896Z"
   },
   {
    "duration": 22125,
    "start_time": "2021-07-22T11:41:32.370Z"
   },
   {
    "duration": 1449,
    "start_time": "2021-07-22T11:41:54.498Z"
   },
   {
    "duration": 719,
    "start_time": "2021-07-22T11:41:55.950Z"
   },
   {
    "duration": 4,
    "start_time": "2021-07-22T11:41:56.671Z"
   },
   {
    "duration": 254,
    "start_time": "2021-07-22T11:41:56.685Z"
   },
   {
    "duration": 20,
    "start_time": "2021-07-22T11:41:56.942Z"
   },
   {
    "duration": 58,
    "start_time": "2021-07-22T11:41:56.965Z"
   },
   {
    "duration": 13,
    "start_time": "2021-07-22T11:41:57.027Z"
   },
   {
    "duration": 12,
    "start_time": "2021-07-22T11:41:57.043Z"
   },
   {
    "duration": 34,
    "start_time": "2021-07-22T11:41:57.057Z"
   },
   {
    "duration": 12,
    "start_time": "2021-07-22T11:41:57.093Z"
   },
   {
    "duration": 9,
    "start_time": "2021-07-22T11:41:57.108Z"
   },
   {
    "duration": 24,
    "start_time": "2021-07-22T11:41:57.120Z"
   },
   {
    "duration": 71,
    "start_time": "2021-07-22T11:41:57.146Z"
   },
   {
    "duration": 8,
    "start_time": "2021-07-22T11:41:57.220Z"
   },
   {
    "duration": 10,
    "start_time": "2021-07-22T11:41:57.231Z"
   },
   {
    "duration": 494,
    "start_time": "2021-07-22T11:41:57.243Z"
   },
   {
    "duration": 15,
    "start_time": "2021-07-22T11:41:57.740Z"
   },
   {
    "duration": 47,
    "start_time": "2021-07-22T11:41:57.757Z"
   },
   {
    "duration": 8,
    "start_time": "2021-07-22T11:41:57.806Z"
   },
   {
    "duration": 10,
    "start_time": "2021-07-22T11:41:57.817Z"
   },
   {
    "duration": 57,
    "start_time": "2021-07-22T11:41:57.830Z"
   },
   {
    "duration": 10,
    "start_time": "2021-07-22T11:41:57.893Z"
   },
   {
    "duration": 24,
    "start_time": "2021-07-22T11:41:57.906Z"
   },
   {
    "duration": 13,
    "start_time": "2021-07-22T11:41:57.932Z"
   },
   {
    "duration": 4492,
    "start_time": "2021-07-22T11:41:57.947Z"
   },
   {
    "duration": 24,
    "start_time": "2021-07-22T11:42:02.441Z"
   },
   {
    "duration": 32,
    "start_time": "2021-07-22T11:42:02.485Z"
   },
   {
    "duration": 3839,
    "start_time": "2021-07-22T11:42:02.520Z"
   },
   {
    "duration": 7,
    "start_time": "2021-07-22T11:42:06.361Z"
   },
   {
    "duration": 31,
    "start_time": "2021-07-22T11:42:06.386Z"
   },
   {
    "duration": 832,
    "start_time": "2021-07-22T11:42:06.419Z"
   },
   {
    "duration": -78,
    "start_time": "2021-07-22T11:42:07.333Z"
   },
   {
    "duration": -92,
    "start_time": "2021-07-22T11:42:07.349Z"
   },
   {
    "duration": -111,
    "start_time": "2021-07-22T11:42:07.370Z"
   },
   {
    "duration": -122,
    "start_time": "2021-07-22T11:42:07.383Z"
   },
   {
    "duration": -139,
    "start_time": "2021-07-22T11:42:07.401Z"
   },
   {
    "duration": -156,
    "start_time": "2021-07-22T11:42:07.419Z"
   },
   {
    "duration": -165,
    "start_time": "2021-07-22T11:42:07.430Z"
   },
   {
    "duration": -214,
    "start_time": "2021-07-22T11:42:07.481Z"
   },
   {
    "duration": -231,
    "start_time": "2021-07-22T11:42:07.499Z"
   },
   {
    "duration": -247,
    "start_time": "2021-07-22T11:42:07.516Z"
   },
   {
    "duration": -263,
    "start_time": "2021-07-22T11:42:07.534Z"
   },
   {
    "duration": -279,
    "start_time": "2021-07-22T11:42:07.551Z"
   },
   {
    "duration": -293,
    "start_time": "2021-07-22T11:42:07.566Z"
   },
   {
    "duration": -307,
    "start_time": "2021-07-22T11:42:07.582Z"
   },
   {
    "duration": -322,
    "start_time": "2021-07-22T11:42:07.598Z"
   },
   {
    "duration": -338,
    "start_time": "2021-07-22T11:42:07.615Z"
   },
   {
    "duration": -360,
    "start_time": "2021-07-22T11:42:07.639Z"
   },
   {
    "duration": -370,
    "start_time": "2021-07-22T11:42:07.650Z"
   },
   {
    "duration": -384,
    "start_time": "2021-07-22T11:42:07.665Z"
   },
   {
    "duration": -398,
    "start_time": "2021-07-22T11:42:07.681Z"
   },
   {
    "duration": -412,
    "start_time": "2021-07-22T11:42:07.697Z"
   },
   {
    "duration": -429,
    "start_time": "2021-07-22T11:42:07.715Z"
   },
   {
    "duration": -446,
    "start_time": "2021-07-22T11:42:07.733Z"
   },
   {
    "duration": -460,
    "start_time": "2021-07-22T11:42:07.749Z"
   },
   {
    "duration": -478,
    "start_time": "2021-07-22T11:42:07.768Z"
   },
   {
    "duration": -494,
    "start_time": "2021-07-22T11:42:07.786Z"
   },
   {
    "duration": -511,
    "start_time": "2021-07-22T11:42:07.804Z"
   },
   {
    "duration": -522,
    "start_time": "2021-07-22T11:42:07.816Z"
   },
   {
    "duration": -536,
    "start_time": "2021-07-22T11:42:07.832Z"
   },
   {
    "duration": -552,
    "start_time": "2021-07-22T11:42:07.849Z"
   },
   {
    "duration": -583,
    "start_time": "2021-07-22T11:42:07.882Z"
   },
   {
    "duration": -591,
    "start_time": "2021-07-22T11:42:07.891Z"
   },
   {
    "duration": -626,
    "start_time": "2021-07-22T11:42:07.927Z"
   },
   {
    "duration": -640,
    "start_time": "2021-07-22T11:42:07.942Z"
   },
   {
    "duration": 11,
    "start_time": "2021-07-22T11:42:42.411Z"
   },
   {
    "duration": 5,
    "start_time": "2021-07-22T11:42:48.558Z"
   },
   {
    "duration": 26,
    "start_time": "2021-07-22T11:42:53.180Z"
   },
   {
    "duration": 24,
    "start_time": "2021-07-22T11:43:00.666Z"
   },
   {
    "duration": 14,
    "start_time": "2021-07-22T11:43:04.702Z"
   },
   {
    "duration": 25,
    "start_time": "2021-07-22T11:43:12.697Z"
   },
   {
    "duration": 16,
    "start_time": "2021-07-22T11:43:16.263Z"
   },
   {
    "duration": 7,
    "start_time": "2021-07-22T11:43:21.335Z"
   },
   {
    "duration": 25,
    "start_time": "2021-07-22T11:43:22.241Z"
   },
   {
    "duration": 7061,
    "start_time": "2021-07-22T11:44:21.346Z"
   },
   {
    "duration": 1378,
    "start_time": "2021-07-22T11:44:31.794Z"
   },
   {
    "duration": 13,
    "start_time": "2021-07-22T11:44:38.394Z"
   },
   {
    "duration": 553,
    "start_time": "2021-07-22T11:44:42.056Z"
   },
   {
    "duration": 43,
    "start_time": "2021-07-22T11:46:06.056Z"
   },
   {
    "duration": 5,
    "start_time": "2021-07-22T11:46:23.177Z"
   },
   {
    "duration": 859,
    "start_time": "2021-07-22T11:46:28.515Z"
   },
   {
    "duration": 19,
    "start_time": "2021-07-22T12:00:56.449Z"
   },
   {
    "duration": 11,
    "start_time": "2021-07-22T12:17:34.269Z"
   },
   {
    "duration": 8,
    "start_time": "2021-07-22T12:21:05.950Z"
   },
   {
    "duration": 10,
    "start_time": "2021-07-22T13:02:42.799Z"
   },
   {
    "duration": 776,
    "start_time": "2021-07-22T13:08:40.549Z"
   },
   {
    "duration": 10,
    "start_time": "2021-07-22T13:09:08.285Z"
   },
   {
    "duration": 756,
    "start_time": "2021-07-22T13:09:10.529Z"
   },
   {
    "duration": 941,
    "start_time": "2021-07-22T13:09:53.349Z"
   },
   {
    "duration": 14,
    "start_time": "2021-07-22T13:15:23.799Z"
   },
   {
    "duration": 9890,
    "start_time": "2021-07-22T13:15:42.283Z"
   },
   {
    "duration": 5,
    "start_time": "2021-07-22T13:15:52.176Z"
   },
   {
    "duration": 12,
    "start_time": "2021-07-22T13:15:52.184Z"
   },
   {
    "duration": 10,
    "start_time": "2021-07-22T13:15:52.198Z"
   },
   {
    "duration": 285,
    "start_time": "2021-07-22T13:15:52.210Z"
   },
   {
    "duration": 17,
    "start_time": "2021-07-22T13:15:52.498Z"
   },
   {
    "duration": 69,
    "start_time": "2021-07-22T13:15:52.518Z"
   },
   {
    "duration": 16,
    "start_time": "2021-07-22T13:15:52.593Z"
   },
   {
    "duration": 12,
    "start_time": "2021-07-22T13:15:52.613Z"
   },
   {
    "duration": 8,
    "start_time": "2021-07-22T13:15:52.627Z"
   },
   {
    "duration": 54,
    "start_time": "2021-07-22T13:15:52.637Z"
   },
   {
    "duration": 13,
    "start_time": "2021-07-22T13:15:52.694Z"
   },
   {
    "duration": 29,
    "start_time": "2021-07-22T13:15:52.710Z"
   },
   {
    "duration": 58,
    "start_time": "2021-07-22T13:15:52.742Z"
   },
   {
    "duration": 8,
    "start_time": "2021-07-22T13:15:52.803Z"
   },
   {
    "duration": 14,
    "start_time": "2021-07-22T13:15:52.813Z"
   },
   {
    "duration": 473,
    "start_time": "2021-07-22T13:15:52.829Z"
   },
   {
    "duration": 15,
    "start_time": "2021-07-22T13:15:53.304Z"
   },
   {
    "duration": 30,
    "start_time": "2021-07-22T13:15:53.322Z"
   },
   {
    "duration": 37,
    "start_time": "2021-07-22T13:15:53.354Z"
   },
   {
    "duration": 9,
    "start_time": "2021-07-22T13:15:53.394Z"
   },
   {
    "duration": 21,
    "start_time": "2021-07-22T13:15:53.406Z"
   },
   {
    "duration": 9,
    "start_time": "2021-07-22T13:15:53.433Z"
   },
   {
    "duration": 26,
    "start_time": "2021-07-22T13:15:53.486Z"
   },
   {
    "duration": 16,
    "start_time": "2021-07-22T13:15:53.515Z"
   },
   {
    "duration": 4486,
    "start_time": "2021-07-22T13:15:53.533Z"
   },
   {
    "duration": 22,
    "start_time": "2021-07-22T13:15:58.021Z"
   },
   {
    "duration": 53,
    "start_time": "2021-07-22T13:15:58.045Z"
   },
   {
    "duration": 3789,
    "start_time": "2021-07-22T13:15:58.101Z"
   },
   {
    "duration": 6,
    "start_time": "2021-07-22T13:16:01.893Z"
   },
   {
    "duration": 69,
    "start_time": "2021-07-22T13:16:01.901Z"
   },
   {
    "duration": 34,
    "start_time": "2021-07-22T13:16:01.979Z"
   },
   {
    "duration": 9,
    "start_time": "2021-07-22T13:16:02.020Z"
   },
   {
    "duration": 77,
    "start_time": "2021-07-22T13:16:02.033Z"
   },
   {
    "duration": 43,
    "start_time": "2021-07-22T13:16:02.119Z"
   },
   {
    "duration": 29,
    "start_time": "2021-07-22T13:16:02.166Z"
   },
   {
    "duration": 44,
    "start_time": "2021-07-22T13:16:02.199Z"
   },
   {
    "duration": 16,
    "start_time": "2021-07-22T13:16:02.246Z"
   },
   {
    "duration": 25,
    "start_time": "2021-07-22T13:16:02.265Z"
   },
   {
    "duration": 40,
    "start_time": "2021-07-22T13:16:02.293Z"
   },
   {
    "duration": 7651,
    "start_time": "2021-07-22T13:16:02.335Z"
   },
   {
    "duration": 1471,
    "start_time": "2021-07-22T13:16:09.989Z"
   },
   {
    "duration": 24,
    "start_time": "2021-07-22T13:16:11.462Z"
   },
   {
    "duration": 809,
    "start_time": "2021-07-22T13:16:11.489Z"
   },
   {
    "duration": 11,
    "start_time": "2021-07-22T13:16:12.300Z"
   },
   {
    "duration": 26,
    "start_time": "2021-07-22T13:16:18.762Z"
   },
   {
    "duration": 837,
    "start_time": "2021-07-22T13:16:24.448Z"
   },
   {
    "duration": 12,
    "start_time": "2021-07-22T13:17:04.258Z"
   },
   {
    "duration": 14,
    "start_time": "2021-07-22T13:17:27.796Z"
   },
   {
    "duration": 929,
    "start_time": "2021-07-22T13:19:32.356Z"
   },
   {
    "duration": 960,
    "start_time": "2021-07-22T13:23:04.068Z"
   },
   {
    "duration": 926,
    "start_time": "2021-07-22T13:23:22.378Z"
   },
   {
    "duration": 10,
    "start_time": "2021-07-22T13:30:27.752Z"
   },
   {
    "duration": 10,
    "start_time": "2021-07-22T13:30:47.253Z"
   },
   {
    "duration": 734,
    "start_time": "2021-07-22T13:46:16.068Z"
   },
   {
    "duration": 8,
    "start_time": "2021-07-22T13:51:16.967Z"
   },
   {
    "duration": 17,
    "start_time": "2021-07-22T14:04:56.795Z"
   },
   {
    "duration": 797,
    "start_time": "2021-07-22T14:06:57.153Z"
   },
   {
    "duration": 800,
    "start_time": "2021-07-22T14:28:18.962Z"
   },
   {
    "duration": 872,
    "start_time": "2021-07-22T14:28:39.729Z"
   },
   {
    "duration": 16,
    "start_time": "2021-07-22T14:33:53.921Z"
   },
   {
    "duration": 99,
    "start_time": "2021-07-22T14:39:20.582Z"
   },
   {
    "duration": 50,
    "start_time": "2021-07-22T14:39:30.870Z"
   },
   {
    "duration": 80,
    "start_time": "2021-07-22T14:39:44.322Z"
   },
   {
    "duration": 13,
    "start_time": "2021-07-22T14:40:30.927Z"
   },
   {
    "duration": 407,
    "start_time": "2021-07-22T14:52:37.886Z"
   },
   {
    "duration": 348,
    "start_time": "2021-07-22T14:53:10.875Z"
   },
   {
    "duration": 10,
    "start_time": "2021-07-22T14:53:43.213Z"
   },
   {
    "duration": 10,
    "start_time": "2021-07-22T14:54:34.059Z"
   },
   {
    "duration": 331,
    "start_time": "2021-07-22T14:55:51.728Z"
   },
   {
    "duration": 441,
    "start_time": "2021-07-22T14:56:00.832Z"
   },
   {
    "duration": 11,
    "start_time": "2021-07-22T14:56:25.320Z"
   },
   {
    "duration": 604,
    "start_time": "2021-07-22T14:57:20.783Z"
   },
   {
    "duration": 338,
    "start_time": "2021-07-22T14:57:29.060Z"
   },
   {
    "duration": 11,
    "start_time": "2021-07-22T14:58:01.210Z"
   },
   {
    "duration": 406,
    "start_time": "2021-07-22T15:00:25.038Z"
   },
   {
    "duration": 9,
    "start_time": "2021-07-22T15:00:35.589Z"
   },
   {
    "duration": 379,
    "start_time": "2021-07-22T15:01:20.078Z"
   },
   {
    "duration": 112,
    "start_time": "2021-07-22T15:01:28.415Z"
   },
   {
    "duration": 486,
    "start_time": "2021-07-22T15:01:52.597Z"
   },
   {
    "duration": 393,
    "start_time": "2021-07-22T15:02:13.494Z"
   },
   {
    "duration": 412,
    "start_time": "2021-07-22T15:02:24.926Z"
   },
   {
    "duration": 10,
    "start_time": "2021-07-22T15:05:46.992Z"
   },
   {
    "duration": 406,
    "start_time": "2021-07-22T15:08:29.484Z"
   },
   {
    "duration": 392,
    "start_time": "2021-07-22T15:08:47.806Z"
   },
   {
    "duration": 410,
    "start_time": "2021-07-22T15:11:02.395Z"
   },
   {
    "duration": 345,
    "start_time": "2021-07-22T15:13:34.209Z"
   },
   {
    "duration": 13,
    "start_time": "2021-07-22T15:13:43.045Z"
   },
   {
    "duration": 9,
    "start_time": "2021-07-22T15:13:48.363Z"
   },
   {
    "duration": 328,
    "start_time": "2021-07-22T15:13:58.973Z"
   },
   {
    "duration": 309,
    "start_time": "2021-07-22T15:14:34.284Z"
   },
   {
    "duration": 9,
    "start_time": "2021-07-22T15:16:20.363Z"
   },
   {
    "duration": 8,
    "start_time": "2021-07-22T15:16:31.474Z"
   },
   {
    "duration": 353,
    "start_time": "2021-07-22T15:16:48.278Z"
   },
   {
    "duration": 486,
    "start_time": "2021-07-22T15:17:12.914Z"
   },
   {
    "duration": 9,
    "start_time": "2021-07-22T15:17:36.691Z"
   },
   {
    "duration": 12,
    "start_time": "2021-07-22T15:17:41.240Z"
   },
   {
    "duration": 8,
    "start_time": "2021-07-22T15:17:42.339Z"
   },
   {
    "duration": 309,
    "start_time": "2021-07-22T15:17:45.865Z"
   },
   {
    "duration": 307,
    "start_time": "2021-07-22T15:18:16.769Z"
   },
   {
    "duration": 319,
    "start_time": "2021-07-22T15:18:40.589Z"
   },
   {
    "duration": 333,
    "start_time": "2021-07-22T15:18:51.442Z"
   },
   {
    "duration": 11,
    "start_time": "2021-07-22T15:19:59.624Z"
   },
   {
    "duration": 21,
    "start_time": "2021-07-22T15:20:20.884Z"
   },
   {
    "duration": 9,
    "start_time": "2021-07-22T15:20:26.282Z"
   },
   {
    "duration": 14,
    "start_time": "2021-07-22T15:20:34.822Z"
   },
   {
    "duration": 9,
    "start_time": "2021-07-22T15:20:37.184Z"
   },
   {
    "duration": 15,
    "start_time": "2021-07-22T15:20:48.744Z"
   },
   {
    "duration": 14,
    "start_time": "2021-07-22T15:20:56.249Z"
   },
   {
    "duration": 8,
    "start_time": "2021-07-22T15:21:26.148Z"
   },
   {
    "duration": 282,
    "start_time": "2021-07-22T15:21:30.910Z"
   },
   {
    "duration": 284,
    "start_time": "2021-07-22T15:21:53.783Z"
   },
   {
    "duration": 273,
    "start_time": "2021-07-22T15:22:09.198Z"
   },
   {
    "duration": 591,
    "start_time": "2021-07-22T15:22:44.447Z"
   },
   {
    "duration": 123,
    "start_time": "2021-07-22T15:22:50.304Z"
   },
   {
    "duration": 129,
    "start_time": "2021-07-22T15:22:59.553Z"
   },
   {
    "duration": 280,
    "start_time": "2021-07-22T15:23:03.164Z"
   },
   {
    "duration": 408,
    "start_time": "2021-07-22T15:23:30.015Z"
   },
   {
    "duration": 497,
    "start_time": "2021-07-22T15:25:10.264Z"
   },
   {
    "duration": 391,
    "start_time": "2021-07-22T15:25:34.290Z"
   },
   {
    "duration": 5,
    "start_time": "2021-07-22T15:25:44.299Z"
   },
   {
    "duration": 17,
    "start_time": "2021-07-22T15:30:51.821Z"
   },
   {
    "duration": 64,
    "start_time": "2021-07-22T15:31:12.197Z"
   },
   {
    "duration": 338,
    "start_time": "2021-07-22T15:31:37.183Z"
   },
   {
    "duration": 410,
    "start_time": "2021-07-22T15:31:59.133Z"
   },
   {
    "duration": 8330,
    "start_time": "2021-07-22T15:32:57.123Z"
   },
   {
    "duration": 4,
    "start_time": "2021-07-22T15:33:47.699Z"
   },
   {
    "duration": 15987,
    "start_time": "2021-07-22T15:33:53.652Z"
   },
   {
    "duration": 18,
    "start_time": "2021-07-22T15:42:12.172Z"
   },
   {
    "duration": 17,
    "start_time": "2021-07-22T15:42:42.962Z"
   },
   {
    "duration": 5,
    "start_time": "2021-07-22T15:49:19.714Z"
   },
   {
    "duration": 26,
    "start_time": "2021-07-22T15:49:21.163Z"
   },
   {
    "duration": 30,
    "start_time": "2021-07-22T15:50:40.801Z"
   },
   {
    "duration": 369,
    "start_time": "2021-07-22T15:50:54.127Z"
   },
   {
    "duration": 30,
    "start_time": "2021-07-22T15:53:22.011Z"
   },
   {
    "duration": 362,
    "start_time": "2021-07-22T15:53:23.419Z"
   },
   {
    "duration": 372,
    "start_time": "2021-07-22T15:53:37.928Z"
   },
   {
    "duration": 14,
    "start_time": "2021-07-22T15:55:05.203Z"
   },
   {
    "duration": 13,
    "start_time": "2021-07-22T15:55:34.865Z"
   },
   {
    "duration": 466,
    "start_time": "2021-07-22T15:55:36.594Z"
   },
   {
    "duration": 396,
    "start_time": "2021-07-22T15:55:49.173Z"
   },
   {
    "duration": 392,
    "start_time": "2021-07-22T15:56:15.052Z"
   },
   {
    "duration": 383,
    "start_time": "2021-07-22T15:56:40.530Z"
   },
   {
    "duration": 475,
    "start_time": "2021-07-22T16:07:24.115Z"
   },
   {
    "duration": 7388,
    "start_time": "2021-07-22T16:07:54.757Z"
   },
   {
    "duration": 1469,
    "start_time": "2021-07-22T16:08:02.148Z"
   },
   {
    "duration": 1163,
    "start_time": "2021-07-22T16:08:03.620Z"
   },
   {
    "duration": 3,
    "start_time": "2021-07-22T16:08:04.787Z"
   },
   {
    "duration": 285,
    "start_time": "2021-07-22T16:08:04.793Z"
   },
   {
    "duration": 21,
    "start_time": "2021-07-22T16:08:05.081Z"
   },
   {
    "duration": 48,
    "start_time": "2021-07-22T16:08:05.105Z"
   },
   {
    "duration": 35,
    "start_time": "2021-07-22T16:08:05.157Z"
   },
   {
    "duration": 16,
    "start_time": "2021-07-22T16:08:05.196Z"
   },
   {
    "duration": 8,
    "start_time": "2021-07-22T16:08:05.215Z"
   },
   {
    "duration": 12,
    "start_time": "2021-07-22T16:08:05.226Z"
   },
   {
    "duration": 47,
    "start_time": "2021-07-22T16:08:05.241Z"
   },
   {
    "duration": 26,
    "start_time": "2021-07-22T16:08:05.291Z"
   },
   {
    "duration": 36,
    "start_time": "2021-07-22T16:08:05.320Z"
   },
   {
    "duration": 10,
    "start_time": "2021-07-22T16:08:05.386Z"
   },
   {
    "duration": 15,
    "start_time": "2021-07-22T16:08:05.400Z"
   },
   {
    "duration": 488,
    "start_time": "2021-07-22T16:08:05.418Z"
   },
   {
    "duration": 16,
    "start_time": "2021-07-22T16:08:05.909Z"
   },
   {
    "duration": 58,
    "start_time": "2021-07-22T16:08:05.928Z"
   },
   {
    "duration": 13,
    "start_time": "2021-07-22T16:08:05.989Z"
   },
   {
    "duration": 16,
    "start_time": "2021-07-22T16:08:06.005Z"
   },
   {
    "duration": 24,
    "start_time": "2021-07-22T16:08:06.024Z"
   },
   {
    "duration": 10,
    "start_time": "2021-07-22T16:08:06.087Z"
   },
   {
    "duration": 30,
    "start_time": "2021-07-22T16:08:06.100Z"
   },
   {
    "duration": 13,
    "start_time": "2021-07-22T16:08:06.132Z"
   },
   {
    "duration": 4488,
    "start_time": "2021-07-22T16:08:06.148Z"
   },
   {
    "duration": 24,
    "start_time": "2021-07-22T16:08:10.639Z"
   },
   {
    "duration": 49,
    "start_time": "2021-07-22T16:08:10.665Z"
   },
   {
    "duration": 3782,
    "start_time": "2021-07-22T16:08:10.717Z"
   },
   {
    "duration": 6,
    "start_time": "2021-07-22T16:08:14.502Z"
   },
   {
    "duration": 41,
    "start_time": "2021-07-22T16:08:14.510Z"
   },
   {
    "duration": 33,
    "start_time": "2021-07-22T16:08:14.554Z"
   },
   {
    "duration": 7,
    "start_time": "2021-07-22T16:08:14.589Z"
   },
   {
    "duration": 31,
    "start_time": "2021-07-22T16:08:14.598Z"
   },
   {
    "duration": 23,
    "start_time": "2021-07-22T16:08:14.631Z"
   },
   {
    "duration": 40,
    "start_time": "2021-07-22T16:08:14.657Z"
   },
   {
    "duration": 25,
    "start_time": "2021-07-22T16:08:14.700Z"
   },
   {
    "duration": 18,
    "start_time": "2021-07-22T16:08:14.727Z"
   },
   {
    "duration": 7,
    "start_time": "2021-07-22T16:08:14.747Z"
   },
   {
    "duration": 6951,
    "start_time": "2021-07-22T16:08:14.786Z"
   },
   {
    "duration": 1282,
    "start_time": "2021-07-22T16:08:21.740Z"
   },
   {
    "duration": 13,
    "start_time": "2021-07-22T16:08:23.025Z"
   },
   {
    "duration": 562,
    "start_time": "2021-07-22T16:08:23.040Z"
   },
   {
    "duration": 10,
    "start_time": "2021-07-22T16:08:23.604Z"
   },
   {
    "duration": 34,
    "start_time": "2021-07-22T16:08:23.617Z"
   },
   {
    "duration": 906,
    "start_time": "2021-07-22T16:08:23.654Z"
   },
   {
    "duration": 25,
    "start_time": "2021-07-22T16:08:24.562Z"
   },
   {
    "duration": 11,
    "start_time": "2021-07-22T16:08:24.589Z"
   },
   {
    "duration": 18,
    "start_time": "2021-07-22T16:08:24.602Z"
   },
   {
    "duration": 834,
    "start_time": "2021-07-22T16:08:24.623Z"
   },
   {
    "duration": 83,
    "start_time": "2021-07-22T16:08:25.460Z"
   },
   {
    "duration": 15,
    "start_time": "2021-07-22T16:08:25.546Z"
   },
   {
    "duration": 29,
    "start_time": "2021-07-22T16:08:25.564Z"
   },
   {
    "duration": 400,
    "start_time": "2021-07-22T16:08:25.596Z"
   },
   {
    "duration": 10,
    "start_time": "2021-07-22T16:08:26.000Z"
   },
   {
    "duration": 424,
    "start_time": "2021-07-22T16:08:26.012Z"
   },
   {
    "duration": 5,
    "start_time": "2021-07-22T16:08:26.438Z"
   },
   {
    "duration": 40,
    "start_time": "2021-07-22T16:08:26.446Z"
   },
   {
    "duration": 29,
    "start_time": "2021-07-22T16:08:26.489Z"
   },
   {
    "duration": 382,
    "start_time": "2021-07-22T16:08:26.521Z"
   },
   {
    "duration": 14,
    "start_time": "2021-07-22T16:08:26.906Z"
   },
   {
    "duration": 452,
    "start_time": "2021-07-22T16:08:35.644Z"
   },
   {
    "duration": 11,
    "start_time": "2021-07-22T16:14:19.262Z"
   },
   {
    "duration": 393,
    "start_time": "2021-07-22T16:47:15.657Z"
   },
   {
    "duration": 413,
    "start_time": "2021-07-22T16:47:25.851Z"
   },
   {
    "duration": 398,
    "start_time": "2021-07-22T16:47:37.312Z"
   },
   {
    "duration": 404,
    "start_time": "2021-07-22T16:48:31.183Z"
   },
   {
    "duration": 402,
    "start_time": "2021-07-22T16:49:22.416Z"
   },
   {
    "duration": 25,
    "start_time": "2021-07-22T16:49:57.447Z"
   },
   {
    "duration": 474,
    "start_time": "2021-07-22T16:50:33.414Z"
   },
   {
    "duration": 18,
    "start_time": "2021-07-22T16:50:40.683Z"
   },
   {
    "duration": 272,
    "start_time": "2021-07-22T16:50:42.509Z"
   },
   {
    "duration": 427,
    "start_time": "2021-07-22T16:50:53.935Z"
   },
   {
    "duration": 8231,
    "start_time": "2021-07-22T16:52:02.434Z"
   },
   {
    "duration": 1475,
    "start_time": "2021-07-22T16:52:10.668Z"
   },
   {
    "duration": 766,
    "start_time": "2021-07-22T16:52:12.147Z"
   },
   {
    "duration": 3,
    "start_time": "2021-07-22T16:52:12.916Z"
   },
   {
    "duration": 282,
    "start_time": "2021-07-22T16:52:12.921Z"
   },
   {
    "duration": 21,
    "start_time": "2021-07-22T16:52:13.205Z"
   },
   {
    "duration": 57,
    "start_time": "2021-07-22T16:52:13.229Z"
   },
   {
    "duration": 15,
    "start_time": "2021-07-22T16:52:13.290Z"
   },
   {
    "duration": 12,
    "start_time": "2021-07-22T16:52:13.308Z"
   },
   {
    "duration": 8,
    "start_time": "2021-07-22T16:52:13.323Z"
   },
   {
    "duration": 11,
    "start_time": "2021-07-22T16:52:13.333Z"
   },
   {
    "duration": 9,
    "start_time": "2021-07-22T16:52:13.385Z"
   },
   {
    "duration": 25,
    "start_time": "2021-07-22T16:52:13.396Z"
   },
   {
    "duration": 62,
    "start_time": "2021-07-22T16:52:13.423Z"
   },
   {
    "duration": 8,
    "start_time": "2021-07-22T16:52:13.488Z"
   },
   {
    "duration": 13,
    "start_time": "2021-07-22T16:52:13.498Z"
   },
   {
    "duration": 544,
    "start_time": "2021-07-22T16:52:13.513Z"
   },
   {
    "duration": 36,
    "start_time": "2021-07-22T16:52:14.060Z"
   },
   {
    "duration": 31,
    "start_time": "2021-07-22T16:52:14.099Z"
   },
   {
    "duration": 16,
    "start_time": "2021-07-22T16:52:14.132Z"
   },
   {
    "duration": 35,
    "start_time": "2021-07-22T16:52:14.150Z"
   },
   {
    "duration": 21,
    "start_time": "2021-07-22T16:52:14.188Z"
   },
   {
    "duration": 11,
    "start_time": "2021-07-22T16:52:14.215Z"
   },
   {
    "duration": 41,
    "start_time": "2021-07-22T16:52:14.229Z"
   },
   {
    "duration": 14,
    "start_time": "2021-07-22T16:52:14.286Z"
   },
   {
    "duration": 4541,
    "start_time": "2021-07-22T16:52:14.303Z"
   },
   {
    "duration": 38,
    "start_time": "2021-07-22T16:52:18.847Z"
   },
   {
    "duration": 35,
    "start_time": "2021-07-22T16:52:18.888Z"
   },
   {
    "duration": 4209,
    "start_time": "2021-07-22T16:52:18.926Z"
   },
   {
    "duration": 8,
    "start_time": "2021-07-22T16:52:23.138Z"
   },
   {
    "duration": 65,
    "start_time": "2021-07-22T16:52:23.148Z"
   },
   {
    "duration": 18,
    "start_time": "2021-07-22T16:52:23.216Z"
   },
   {
    "duration": 22,
    "start_time": "2021-07-22T16:52:23.237Z"
   },
   {
    "duration": 53,
    "start_time": "2021-07-22T16:52:23.262Z"
   },
   {
    "duration": 26,
    "start_time": "2021-07-22T16:52:23.318Z"
   },
   {
    "duration": 24,
    "start_time": "2021-07-22T16:52:23.346Z"
   },
   {
    "duration": 36,
    "start_time": "2021-07-22T16:52:23.373Z"
   },
   {
    "duration": 17,
    "start_time": "2021-07-22T16:52:23.413Z"
   },
   {
    "duration": 9,
    "start_time": "2021-07-22T16:52:23.434Z"
   },
   {
    "duration": 7466,
    "start_time": "2021-07-22T16:52:23.446Z"
   },
   {
    "duration": 1358,
    "start_time": "2021-07-22T16:52:30.915Z"
   },
   {
    "duration": 22,
    "start_time": "2021-07-22T16:52:32.275Z"
   },
   {
    "duration": 598,
    "start_time": "2021-07-22T16:52:32.301Z"
   },
   {
    "duration": 9,
    "start_time": "2021-07-22T16:52:32.902Z"
   },
   {
    "duration": 66,
    "start_time": "2021-07-22T16:52:32.914Z"
   },
   {
    "duration": 878,
    "start_time": "2021-07-22T16:52:32.982Z"
   },
   {
    "duration": 25,
    "start_time": "2021-07-22T16:52:33.862Z"
   },
   {
    "duration": 7,
    "start_time": "2021-07-22T16:52:33.890Z"
   },
   {
    "duration": 62,
    "start_time": "2021-07-22T16:52:33.900Z"
   },
   {
    "duration": 830,
    "start_time": "2021-07-22T16:52:33.986Z"
   },
   {
    "duration": 90,
    "start_time": "2021-07-22T16:52:34.818Z"
   },
   {
    "duration": 14,
    "start_time": "2021-07-22T16:52:34.911Z"
   },
   {
    "duration": 13,
    "start_time": "2021-07-22T16:52:34.928Z"
   },
   {
    "duration": 432,
    "start_time": "2021-07-22T16:52:34.943Z"
   },
   {
    "duration": 14,
    "start_time": "2021-07-22T16:52:35.377Z"
   },
   {
    "duration": 433,
    "start_time": "2021-07-22T16:52:35.393Z"
   },
   {
    "duration": 5,
    "start_time": "2021-07-22T16:52:35.828Z"
   },
   {
    "duration": 29,
    "start_time": "2021-07-22T16:52:35.836Z"
   },
   {
    "duration": 36,
    "start_time": "2021-07-22T16:52:35.884Z"
   },
   {
    "duration": 389,
    "start_time": "2021-07-22T16:52:35.923Z"
   },
   {
    "duration": 12,
    "start_time": "2021-07-22T16:52:36.315Z"
   },
   {
    "duration": 13,
    "start_time": "2021-07-22T16:52:36.330Z"
   },
   {
    "duration": 490,
    "start_time": "2021-07-22T16:52:36.346Z"
   },
   {
    "duration": 410,
    "start_time": "2021-07-22T16:52:36.838Z"
   },
   {
    "duration": 519,
    "start_time": "2021-07-22T16:52:37.250Z"
   },
   {
    "duration": 594,
    "start_time": "2021-07-22T16:52:37.773Z"
   },
   {
    "duration": 486,
    "start_time": "2021-07-22T17:00:30.339Z"
   },
   {
    "duration": 475,
    "start_time": "2021-07-22T17:00:45.811Z"
   },
   {
    "duration": 447,
    "start_time": "2021-07-22T17:01:02.129Z"
   },
   {
    "duration": 12,
    "start_time": "2021-07-22T17:01:16.392Z"
   },
   {
    "duration": 467,
    "start_time": "2021-07-22T17:01:18.482Z"
   },
   {
    "duration": 443,
    "start_time": "2021-07-22T17:01:40.515Z"
   },
   {
    "duration": 442,
    "start_time": "2021-07-22T17:02:45.651Z"
   },
   {
    "duration": 475,
    "start_time": "2021-07-22T17:02:55.185Z"
   },
   {
    "duration": 475,
    "start_time": "2021-07-22T17:03:32.263Z"
   },
   {
    "duration": 358,
    "start_time": "2021-07-22T17:04:01.730Z"
   },
   {
    "duration": 517,
    "start_time": "2021-07-22T17:05:03.021Z"
   },
   {
    "duration": 1285,
    "start_time": "2021-07-22T17:05:09.449Z"
   },
   {
    "duration": 456,
    "start_time": "2021-07-22T17:05:40.691Z"
   },
   {
    "duration": 427,
    "start_time": "2021-07-22T17:06:07.839Z"
   },
   {
    "duration": 574,
    "start_time": "2021-07-22T17:06:52.431Z"
   },
   {
    "duration": 398,
    "start_time": "2021-07-22T17:07:14.132Z"
   },
   {
    "duration": 467,
    "start_time": "2021-07-22T17:07:47.727Z"
   },
   {
    "duration": 415,
    "start_time": "2021-07-22T17:08:48.329Z"
   },
   {
    "duration": 412,
    "start_time": "2021-07-22T17:09:25.301Z"
   },
   {
    "duration": 445,
    "start_time": "2021-07-22T17:09:31.253Z"
   },
   {
    "duration": 616,
    "start_time": "2021-07-22T17:10:02.719Z"
   },
   {
    "duration": 31,
    "start_time": "2021-07-22T17:11:08.779Z"
   },
   {
    "duration": 22,
    "start_time": "2021-07-22T17:11:32.069Z"
   },
   {
    "duration": 27,
    "start_time": "2021-07-22T17:12:04.773Z"
   },
   {
    "duration": 453,
    "start_time": "2021-07-22T17:12:52.389Z"
   },
   {
    "duration": 663,
    "start_time": "2021-07-22T17:13:36.693Z"
   },
   {
    "duration": 453,
    "start_time": "2021-07-22T17:14:06.900Z"
   },
   {
    "duration": 466,
    "start_time": "2021-07-22T17:14:14.996Z"
   },
   {
    "duration": 403,
    "start_time": "2021-07-22T17:14:27.532Z"
   },
   {
    "duration": 448,
    "start_time": "2021-07-22T17:14:51.083Z"
   },
   {
    "duration": 475,
    "start_time": "2021-07-22T17:14:55.873Z"
   },
   {
    "duration": 444,
    "start_time": "2021-07-22T17:15:26.378Z"
   },
   {
    "duration": 472,
    "start_time": "2021-07-22T17:15:33.387Z"
   },
   {
    "duration": 414,
    "start_time": "2021-07-22T17:16:02.281Z"
   },
   {
    "duration": 483,
    "start_time": "2021-07-22T17:16:13.894Z"
   },
   {
    "duration": 9,
    "start_time": "2021-07-22T17:19:32.017Z"
   },
   {
    "duration": 562,
    "start_time": "2021-07-22T17:20:45.077Z"
   },
   {
    "duration": 389,
    "start_time": "2021-07-22T17:22:10.568Z"
   },
   {
    "duration": 341,
    "start_time": "2021-07-22T17:22:21.485Z"
   },
   {
    "duration": 328,
    "start_time": "2021-07-22T17:23:05.904Z"
   },
   {
    "duration": 21,
    "start_time": "2021-07-22T17:23:41.741Z"
   },
   {
    "duration": 358,
    "start_time": "2021-07-22T17:24:47.976Z"
   },
   {
    "duration": 16,
    "start_time": "2021-07-22T17:26:23.960Z"
   },
   {
    "duration": 9,
    "start_time": "2021-07-22T17:26:32.728Z"
   },
   {
    "duration": 22,
    "start_time": "2021-07-22T17:26:52.577Z"
   },
   {
    "duration": 323,
    "start_time": "2021-07-22T17:27:14.258Z"
   },
   {
    "duration": 23,
    "start_time": "2021-07-22T17:27:45.282Z"
   },
   {
    "duration": 22,
    "start_time": "2021-07-22T17:27:59.781Z"
   },
   {
    "duration": 335,
    "start_time": "2021-07-22T17:28:03.466Z"
   },
   {
    "duration": 237,
    "start_time": "2021-07-22T17:28:10.607Z"
   },
   {
    "duration": 353,
    "start_time": "2021-07-22T17:28:25.794Z"
   },
   {
    "duration": 7857,
    "start_time": "2021-07-22T17:34:40.343Z"
   },
   {
    "duration": 1434,
    "start_time": "2021-07-22T17:34:48.203Z"
   },
   {
    "duration": 942,
    "start_time": "2021-07-22T17:34:49.639Z"
   },
   {
    "duration": 3,
    "start_time": "2021-07-22T17:34:50.585Z"
   },
   {
    "duration": 280,
    "start_time": "2021-07-22T17:34:50.591Z"
   },
   {
    "duration": 23,
    "start_time": "2021-07-22T17:34:50.874Z"
   },
   {
    "duration": 47,
    "start_time": "2021-07-22T17:34:50.900Z"
   },
   {
    "duration": 39,
    "start_time": "2021-07-22T17:34:50.951Z"
   },
   {
    "duration": 16,
    "start_time": "2021-07-22T17:34:50.994Z"
   },
   {
    "duration": 26,
    "start_time": "2021-07-22T17:34:51.013Z"
   },
   {
    "duration": 13,
    "start_time": "2021-07-22T17:34:51.042Z"
   },
   {
    "duration": 29,
    "start_time": "2021-07-22T17:34:51.058Z"
   },
   {
    "duration": 26,
    "start_time": "2021-07-22T17:34:51.090Z"
   },
   {
    "duration": 38,
    "start_time": "2021-07-22T17:34:51.119Z"
   },
   {
    "duration": 10,
    "start_time": "2021-07-22T17:34:51.187Z"
   },
   {
    "duration": 14,
    "start_time": "2021-07-22T17:34:51.200Z"
   },
   {
    "duration": 496,
    "start_time": "2021-07-22T17:34:51.217Z"
   },
   {
    "duration": 18,
    "start_time": "2021-07-22T17:34:51.717Z"
   },
   {
    "duration": 58,
    "start_time": "2021-07-22T17:34:51.738Z"
   },
   {
    "duration": 12,
    "start_time": "2021-07-22T17:34:51.799Z"
   },
   {
    "duration": 13,
    "start_time": "2021-07-22T17:34:51.814Z"
   },
   {
    "duration": 68,
    "start_time": "2021-07-22T17:34:51.830Z"
   },
   {
    "duration": 10,
    "start_time": "2021-07-22T17:34:51.906Z"
   },
   {
    "duration": 27,
    "start_time": "2021-07-22T17:34:51.922Z"
   },
   {
    "duration": 16,
    "start_time": "2021-07-22T17:34:51.985Z"
   },
   {
    "duration": 4750,
    "start_time": "2021-07-22T17:34:52.004Z"
   },
   {
    "duration": 39,
    "start_time": "2021-07-22T17:34:56.757Z"
   },
   {
    "duration": 36,
    "start_time": "2021-07-22T17:34:56.799Z"
   },
   {
    "duration": 3809,
    "start_time": "2021-07-22T17:34:56.838Z"
   },
   {
    "duration": 7,
    "start_time": "2021-07-22T17:35:00.649Z"
   },
   {
    "duration": 55,
    "start_time": "2021-07-22T17:35:00.658Z"
   },
   {
    "duration": 18,
    "start_time": "2021-07-22T17:35:00.716Z"
   },
   {
    "duration": 32,
    "start_time": "2021-07-22T17:35:00.737Z"
   },
   {
    "duration": 55,
    "start_time": "2021-07-22T17:35:00.771Z"
   },
   {
    "duration": 33,
    "start_time": "2021-07-22T17:35:00.829Z"
   },
   {
    "duration": 25,
    "start_time": "2021-07-22T17:35:00.866Z"
   },
   {
    "duration": 39,
    "start_time": "2021-07-22T17:35:00.894Z"
   },
   {
    "duration": 16,
    "start_time": "2021-07-22T17:35:00.936Z"
   },
   {
    "duration": 7,
    "start_time": "2021-07-22T17:35:00.954Z"
   },
   {
    "duration": 7330,
    "start_time": "2021-07-22T17:35:00.963Z"
   },
   {
    "duration": 1381,
    "start_time": "2021-07-22T17:35:08.296Z"
   },
   {
    "duration": 17,
    "start_time": "2021-07-22T17:35:09.679Z"
   },
   {
    "duration": 596,
    "start_time": "2021-07-22T17:35:09.698Z"
   },
   {
    "duration": 11,
    "start_time": "2021-07-22T17:35:10.296Z"
   },
   {
    "duration": 24,
    "start_time": "2021-07-22T17:35:10.309Z"
   },
   {
    "duration": 837,
    "start_time": "2021-07-22T17:35:10.336Z"
   },
   {
    "duration": 14,
    "start_time": "2021-07-22T17:35:11.176Z"
   },
   {
    "duration": 5,
    "start_time": "2021-07-22T17:35:11.193Z"
   },
   {
    "duration": 17,
    "start_time": "2021-07-22T17:35:11.200Z"
   },
   {
    "duration": 58,
    "start_time": "2021-07-22T17:35:11.220Z"
   },
   {
    "duration": 962,
    "start_time": "2021-07-22T17:35:11.286Z"
   },
   {
    "duration": 74,
    "start_time": "2021-07-22T17:35:12.251Z"
   },
   {
    "duration": 13,
    "start_time": "2021-07-22T17:35:12.327Z"
   },
   {
    "duration": 10,
    "start_time": "2021-07-22T17:35:12.342Z"
   },
   {
    "duration": 571,
    "start_time": "2021-07-22T17:35:12.354Z"
   },
   {
    "duration": 8,
    "start_time": "2021-07-22T17:35:12.928Z"
   },
   {
    "duration": 437,
    "start_time": "2021-07-22T17:35:12.939Z"
   },
   {
    "duration": 9,
    "start_time": "2021-07-22T17:35:13.379Z"
   },
   {
    "duration": 28,
    "start_time": "2021-07-22T17:35:13.390Z"
   },
   {
    "duration": 30,
    "start_time": "2021-07-22T17:35:13.421Z"
   },
   {
    "duration": 386,
    "start_time": "2021-07-22T17:35:13.454Z"
   },
   {
    "duration": 454,
    "start_time": "2021-07-22T17:35:13.843Z"
   },
   {
    "duration": 413,
    "start_time": "2021-07-22T17:35:14.300Z"
   },
   {
    "duration": 472,
    "start_time": "2021-07-22T17:35:14.716Z"
   },
   {
    "duration": 500,
    "start_time": "2021-07-22T17:35:15.191Z"
   },
   {
    "duration": 419,
    "start_time": "2021-07-22T17:35:15.693Z"
   },
   {
    "duration": 9,
    "start_time": "2021-07-22T17:35:16.114Z"
   },
   {
    "duration": 391,
    "start_time": "2021-07-22T17:35:16.134Z"
   },
   {
    "duration": 495,
    "start_time": "2021-07-22T17:36:05.683Z"
   },
   {
    "duration": 454,
    "start_time": "2021-07-22T17:36:22.642Z"
   },
   {
    "duration": 429,
    "start_time": "2021-07-22T17:37:23.984Z"
   },
   {
    "duration": 7662,
    "start_time": "2021-07-22T17:43:13.130Z"
   },
   {
    "duration": 7938,
    "start_time": "2021-07-22T17:43:42.689Z"
   },
   {
    "duration": 5,
    "start_time": "2021-07-22T17:43:50.633Z"
   },
   {
    "duration": 10,
    "start_time": "2021-07-22T17:43:50.641Z"
   },
   {
    "duration": 15,
    "start_time": "2021-07-22T17:43:50.654Z"
   },
   {
    "duration": 364,
    "start_time": "2021-07-22T17:43:50.672Z"
   },
   {
    "duration": 17,
    "start_time": "2021-07-22T17:43:51.038Z"
   },
   {
    "duration": 58,
    "start_time": "2021-07-22T17:43:51.058Z"
   },
   {
    "duration": 14,
    "start_time": "2021-07-22T17:43:51.120Z"
   },
   {
    "duration": 17,
    "start_time": "2021-07-22T17:43:51.137Z"
   },
   {
    "duration": 33,
    "start_time": "2021-07-22T17:43:51.156Z"
   },
   {
    "duration": 17,
    "start_time": "2021-07-22T17:43:51.191Z"
   },
   {
    "duration": 19,
    "start_time": "2021-07-22T17:43:51.211Z"
   },
   {
    "duration": 136,
    "start_time": "2021-07-22T17:53:40.419Z"
   },
   {
    "duration": 9192,
    "start_time": "2021-07-22T17:53:47.467Z"
   },
   {
    "duration": 7441,
    "start_time": "2021-07-22T17:54:09.778Z"
   },
   {
    "duration": 5,
    "start_time": "2021-07-22T17:54:17.222Z"
   },
   {
    "duration": 9,
    "start_time": "2021-07-22T17:54:17.231Z"
   },
   {
    "duration": 6,
    "start_time": "2021-07-22T17:54:17.243Z"
   },
   {
    "duration": 326,
    "start_time": "2021-07-22T17:54:17.252Z"
   },
   {
    "duration": 17,
    "start_time": "2021-07-22T17:54:17.580Z"
   },
   {
    "duration": 49,
    "start_time": "2021-07-22T17:54:17.600Z"
   },
   {
    "duration": 32,
    "start_time": "2021-07-22T17:54:17.653Z"
   },
   {
    "duration": 14,
    "start_time": "2021-07-22T17:54:17.689Z"
   },
   {
    "duration": 7,
    "start_time": "2021-07-22T17:54:17.705Z"
   },
   {
    "duration": 21,
    "start_time": "2021-07-22T17:54:17.715Z"
   },
   {
    "duration": 11,
    "start_time": "2021-07-22T17:54:17.739Z"
   },
   {
    "duration": 56,
    "start_time": "2021-07-22T17:54:17.752Z"
   },
   {
    "duration": 34,
    "start_time": "2021-07-22T17:54:17.810Z"
   },
   {
    "duration": 7,
    "start_time": "2021-07-22T17:54:17.847Z"
   },
   {
    "duration": 39,
    "start_time": "2021-07-22T17:54:17.857Z"
   },
   {
    "duration": 477,
    "start_time": "2021-07-22T17:54:17.898Z"
   },
   {
    "duration": 20,
    "start_time": "2021-07-22T17:54:18.377Z"
   },
   {
    "duration": 29,
    "start_time": "2021-07-22T17:54:18.400Z"
   },
   {
    "duration": 8,
    "start_time": "2021-07-22T17:54:18.432Z"
   },
   {
    "duration": 53,
    "start_time": "2021-07-22T17:54:18.443Z"
   },
   {
    "duration": 19,
    "start_time": "2021-07-22T17:54:18.499Z"
   },
   {
    "duration": 9,
    "start_time": "2021-07-22T17:54:18.522Z"
   },
   {
    "duration": 23,
    "start_time": "2021-07-22T17:54:18.534Z"
   },
   {
    "duration": 30,
    "start_time": "2021-07-22T17:54:18.559Z"
   },
   {
    "duration": 15,
    "start_time": "2021-07-22T17:54:18.592Z"
   },
   {
    "duration": 4827,
    "start_time": "2021-07-22T17:54:18.609Z"
   },
   {
    "duration": 17,
    "start_time": "2021-07-22T17:54:23.439Z"
   },
   {
    "duration": 50,
    "start_time": "2021-07-22T17:54:23.459Z"
   },
   {
    "duration": 3840,
    "start_time": "2021-07-22T17:54:28.493Z"
   },
   {
    "duration": 11,
    "start_time": "2021-07-22T17:54:36.312Z"
   },
   {
    "duration": 12,
    "start_time": "2021-07-22T17:59:04.095Z"
   },
   {
    "duration": 30,
    "start_time": "2021-07-22T17:59:05.384Z"
   },
   {
    "duration": 12,
    "start_time": "2021-07-22T17:59:07.310Z"
   },
   {
    "duration": 5,
    "start_time": "2021-07-22T17:59:08.000Z"
   },
   {
    "duration": 29,
    "start_time": "2021-07-22T17:59:09.399Z"
   },
   {
    "duration": 19,
    "start_time": "2021-07-22T17:59:12.007Z"
   },
   {
    "duration": 11,
    "start_time": "2021-07-22T17:59:13.070Z"
   },
   {
    "duration": 18,
    "start_time": "2021-07-22T17:59:15.313Z"
   },
   {
    "duration": 13,
    "start_time": "2021-07-22T17:59:15.779Z"
   },
   {
    "duration": 8,
    "start_time": "2021-07-22T17:59:16.773Z"
   },
   {
    "duration": 6916,
    "start_time": "2021-07-22T17:59:19.262Z"
   },
   {
    "duration": 1142,
    "start_time": "2021-07-22T17:59:26.181Z"
   },
   {
    "duration": 12,
    "start_time": "2021-07-22T17:59:33.333Z"
   },
   {
    "duration": 549,
    "start_time": "2021-07-22T17:59:35.943Z"
   },
   {
    "duration": 8,
    "start_time": "2021-07-22T17:59:41.024Z"
   },
   {
    "duration": 18,
    "start_time": "2021-07-22T17:59:41.931Z"
   },
   {
    "duration": 847,
    "start_time": "2021-07-22T17:59:43.205Z"
   },
   {
    "duration": 12,
    "start_time": "2021-07-22T17:59:46.356Z"
   },
   {
    "duration": 9,
    "start_time": "2021-07-22T17:59:47.369Z"
   },
   {
    "duration": 10,
    "start_time": "2021-07-22T17:59:53.142Z"
   },
   {
    "duration": 58,
    "start_time": "2021-07-22T17:59:53.974Z"
   },
   {
    "duration": 844,
    "start_time": "2021-07-22T17:59:55.286Z"
   },
   {
    "duration": 31,
    "start_time": "2021-07-22T18:00:03.159Z"
   },
   {
    "duration": 8434,
    "start_time": "2021-07-22T18:03:05.812Z"
   },
   {
    "duration": 5,
    "start_time": "2021-07-22T18:03:14.249Z"
   },
   {
    "duration": 13,
    "start_time": "2021-07-22T18:03:14.256Z"
   },
   {
    "duration": 7,
    "start_time": "2021-07-22T18:03:14.272Z"
   },
   {
    "duration": 265,
    "start_time": "2021-07-22T18:03:14.281Z"
   },
   {
    "duration": 17,
    "start_time": "2021-07-22T18:03:14.549Z"
   },
   {
    "duration": 55,
    "start_time": "2021-07-22T18:03:14.569Z"
   },
   {
    "duration": 14,
    "start_time": "2021-07-22T18:03:14.628Z"
   },
   {
    "duration": 13,
    "start_time": "2021-07-22T18:03:14.645Z"
   },
   {
    "duration": 31,
    "start_time": "2021-07-22T18:03:14.660Z"
   },
   {
    "duration": 13,
    "start_time": "2021-07-22T18:03:14.694Z"
   },
   {
    "duration": 10,
    "start_time": "2021-07-22T18:03:14.709Z"
   },
   {
    "duration": 24,
    "start_time": "2021-07-22T18:03:14.722Z"
   },
   {
    "duration": 70,
    "start_time": "2021-07-22T18:03:14.748Z"
   },
   {
    "duration": 7,
    "start_time": "2021-07-22T18:03:14.821Z"
   },
   {
    "duration": 12,
    "start_time": "2021-07-22T18:03:14.831Z"
   },
   {
    "duration": 496,
    "start_time": "2021-07-22T18:03:14.846Z"
   },
   {
    "duration": 18,
    "start_time": "2021-07-22T18:03:15.345Z"
   },
   {
    "duration": 48,
    "start_time": "2021-07-22T18:03:15.366Z"
   },
   {
    "duration": 9,
    "start_time": "2021-07-22T18:03:15.416Z"
   },
   {
    "duration": 12,
    "start_time": "2021-07-22T18:03:15.427Z"
   },
   {
    "duration": 60,
    "start_time": "2021-07-22T18:03:15.441Z"
   },
   {
    "duration": 10,
    "start_time": "2021-07-22T18:03:15.506Z"
   },
   {
    "duration": 27,
    "start_time": "2021-07-22T18:03:15.520Z"
   },
   {
    "duration": 6,
    "start_time": "2021-07-22T18:03:15.549Z"
   },
   {
    "duration": 37,
    "start_time": "2021-07-22T18:03:15.557Z"
   },
   {
    "duration": 4453,
    "start_time": "2021-07-22T18:03:15.597Z"
   },
   {
    "duration": 18,
    "start_time": "2021-07-22T18:03:20.053Z"
   },
   {
    "duration": 40,
    "start_time": "2021-07-22T18:03:20.085Z"
   },
   {
    "duration": 4025,
    "start_time": "2021-07-22T18:03:20.127Z"
   },
   {
    "duration": 18,
    "start_time": "2021-07-22T18:03:24.155Z"
   },
   {
    "duration": 30,
    "start_time": "2021-07-22T18:03:24.186Z"
   },
   {
    "duration": 19,
    "start_time": "2021-07-22T18:03:24.219Z"
   },
   {
    "duration": 13,
    "start_time": "2021-07-22T18:03:24.240Z"
   },
   {
    "duration": 55,
    "start_time": "2021-07-22T18:03:24.256Z"
   },
   {
    "duration": 17,
    "start_time": "2021-07-22T18:03:24.314Z"
   },
   {
    "duration": 17,
    "start_time": "2021-07-22T18:03:24.333Z"
   },
   {
    "duration": 35,
    "start_time": "2021-07-22T18:03:24.353Z"
   },
   {
    "duration": 21,
    "start_time": "2021-07-22T18:03:24.392Z"
   },
   {
    "duration": 10,
    "start_time": "2021-07-22T18:03:24.417Z"
   },
   {
    "duration": 7791,
    "start_time": "2021-07-22T18:03:24.429Z"
   },
   {
    "duration": 2078,
    "start_time": "2021-07-22T18:03:32.223Z"
   },
   {
    "duration": 15,
    "start_time": "2021-07-22T18:03:34.304Z"
   },
   {
    "duration": 907,
    "start_time": "2021-07-22T18:03:34.322Z"
   },
   {
    "duration": 97,
    "start_time": "2021-07-22T18:03:35.232Z"
   },
   {
    "duration": 10,
    "start_time": "2021-07-22T18:03:35.332Z"
   },
   {
    "duration": 77,
    "start_time": "2021-07-22T18:03:35.345Z"
   },
   {
    "duration": 64,
    "start_time": "2021-07-22T18:03:35.424Z"
   },
   {
    "duration": 16,
    "start_time": "2021-07-22T18:03:35.490Z"
   },
   {
    "duration": 860,
    "start_time": "2021-07-22T18:03:35.508Z"
   },
   {
    "duration": 20,
    "start_time": "2021-07-22T18:03:36.370Z"
   },
   {
    "duration": 7,
    "start_time": "2021-07-22T18:03:36.393Z"
   },
   {
    "duration": 13,
    "start_time": "2021-07-22T18:03:36.402Z"
   },
   {
    "duration": 103,
    "start_time": "2021-07-22T18:03:36.417Z"
   },
   {
    "duration": 813,
    "start_time": "2021-07-22T18:03:36.523Z"
   },
   {
    "duration": 28,
    "start_time": "2021-07-22T18:03:55.631Z"
   },
   {
    "duration": 9,
    "start_time": "2021-07-22T18:15:22.548Z"
   },
   {
    "duration": 7678,
    "start_time": "2021-07-22T18:15:34.118Z"
   },
   {
    "duration": 1470,
    "start_time": "2021-07-22T18:15:41.799Z"
   },
   {
    "duration": 759,
    "start_time": "2021-07-22T18:15:43.272Z"
   },
   {
    "duration": 4,
    "start_time": "2021-07-22T18:15:44.034Z"
   },
   {
    "duration": 375,
    "start_time": "2021-07-22T18:15:44.042Z"
   },
   {
    "duration": 24,
    "start_time": "2021-07-22T18:15:44.420Z"
   },
   {
    "duration": 87,
    "start_time": "2021-07-22T18:15:44.447Z"
   },
   {
    "duration": 23,
    "start_time": "2021-07-22T18:15:44.540Z"
   },
   {
    "duration": 30,
    "start_time": "2021-07-22T18:15:44.566Z"
   },
   {
    "duration": 12,
    "start_time": "2021-07-22T18:15:44.598Z"
   },
   {
    "duration": 13,
    "start_time": "2021-07-22T18:15:44.612Z"
   },
   {
    "duration": 23,
    "start_time": "2021-07-22T18:15:44.628Z"
   },
   {
    "duration": 59,
    "start_time": "2021-07-22T18:15:44.654Z"
   },
   {
    "duration": 72,
    "start_time": "2021-07-22T18:15:44.715Z"
   },
   {
    "duration": 10,
    "start_time": "2021-07-22T18:15:44.790Z"
   },
   {
    "duration": 28,
    "start_time": "2021-07-22T18:15:44.803Z"
   },
   {
    "duration": 508,
    "start_time": "2021-07-22T18:15:44.833Z"
   },
   {
    "duration": 16,
    "start_time": "2021-07-22T18:15:45.343Z"
   },
   {
    "duration": 49,
    "start_time": "2021-07-22T18:15:45.361Z"
   },
   {
    "duration": 9,
    "start_time": "2021-07-22T18:15:45.412Z"
   },
   {
    "duration": 19,
    "start_time": "2021-07-22T18:15:45.423Z"
   },
   {
    "duration": 41,
    "start_time": "2021-07-22T18:15:45.445Z"
   },
   {
    "duration": 12,
    "start_time": "2021-07-22T18:15:45.495Z"
   },
   {
    "duration": 32,
    "start_time": "2021-07-22T18:15:45.511Z"
   },
   {
    "duration": 6,
    "start_time": "2021-07-22T18:15:45.546Z"
   },
   {
    "duration": 39,
    "start_time": "2021-07-22T18:15:45.554Z"
   },
   {
    "duration": 4810,
    "start_time": "2021-07-22T18:15:45.595Z"
   },
   {
    "duration": 18,
    "start_time": "2021-07-22T18:15:50.408Z"
   },
   {
    "duration": 58,
    "start_time": "2021-07-22T18:15:50.429Z"
   },
   {
    "duration": 3791,
    "start_time": "2021-07-22T18:15:50.489Z"
   },
   {
    "duration": 12,
    "start_time": "2021-07-22T18:15:54.285Z"
   },
   {
    "duration": 41,
    "start_time": "2021-07-22T18:15:54.299Z"
   },
   {
    "duration": 16,
    "start_time": "2021-07-22T18:15:54.342Z"
   },
   {
    "duration": 27,
    "start_time": "2021-07-22T18:15:54.361Z"
   },
   {
    "duration": 34,
    "start_time": "2021-07-22T18:15:54.390Z"
   },
   {
    "duration": 19,
    "start_time": "2021-07-22T18:15:54.427Z"
   },
   {
    "duration": 42,
    "start_time": "2021-07-22T18:15:54.449Z"
   },
   {
    "duration": 17,
    "start_time": "2021-07-22T18:15:54.493Z"
   },
   {
    "duration": 37,
    "start_time": "2021-07-22T18:15:54.513Z"
   },
   {
    "duration": 8,
    "start_time": "2021-07-22T18:15:54.553Z"
   },
   {
    "duration": 31,
    "start_time": "2021-07-22T18:15:54.564Z"
   },
   {
    "duration": 6881,
    "start_time": "2021-07-22T18:15:54.598Z"
   },
   {
    "duration": 1304,
    "start_time": "2021-07-22T18:16:01.486Z"
   },
   {
    "duration": 12,
    "start_time": "2021-07-22T18:16:02.792Z"
   },
   {
    "duration": 626,
    "start_time": "2021-07-22T18:16:02.806Z"
   },
   {
    "duration": 30,
    "start_time": "2021-07-22T18:16:03.436Z"
   },
   {
    "duration": 73,
    "start_time": "2021-07-22T18:16:03.468Z"
   },
   {
    "duration": 16,
    "start_time": "2021-07-22T18:16:03.544Z"
   },
   {
    "duration": 25,
    "start_time": "2021-07-22T18:16:03.563Z"
   },
   {
    "duration": 56,
    "start_time": "2021-07-22T18:16:03.591Z"
   },
   {
    "duration": 76,
    "start_time": "2021-07-22T18:16:03.650Z"
   },
   {
    "duration": 18,
    "start_time": "2021-07-22T18:16:03.729Z"
   },
   {
    "duration": 924,
    "start_time": "2021-07-22T18:16:03.750Z"
   },
   {
    "duration": 18,
    "start_time": "2021-07-22T18:16:04.677Z"
   },
   {
    "duration": 9,
    "start_time": "2021-07-22T18:16:04.698Z"
   },
   {
    "duration": 13,
    "start_time": "2021-07-22T18:16:04.710Z"
   },
   {
    "duration": 93,
    "start_time": "2021-07-22T18:16:04.725Z"
   },
   {
    "duration": 851,
    "start_time": "2021-07-22T18:16:04.821Z"
   },
   {
    "duration": 404,
    "start_time": "2021-07-22T18:16:05.674Z"
   },
   {
    "duration": 7,
    "start_time": "2021-07-22T18:16:06.085Z"
   },
   {
    "duration": 427,
    "start_time": "2021-07-22T18:16:06.094Z"
   },
   {
    "duration": 6,
    "start_time": "2021-07-22T18:16:06.523Z"
   },
   {
    "duration": 28,
    "start_time": "2021-07-22T18:16:06.531Z"
   },
   {
    "duration": 52,
    "start_time": "2021-07-22T18:16:06.561Z"
   },
   {
    "duration": 359,
    "start_time": "2021-07-22T18:16:06.615Z"
   },
   {
    "duration": 462,
    "start_time": "2021-07-22T18:16:06.977Z"
   },
   {
    "duration": 406,
    "start_time": "2021-07-22T18:16:07.442Z"
   },
   {
    "duration": 742,
    "start_time": "2021-07-22T18:16:07.857Z"
   },
   {
    "duration": 811,
    "start_time": "2021-07-22T18:16:08.603Z"
   },
   {
    "duration": 582,
    "start_time": "2021-07-22T18:16:09.417Z"
   },
   {
    "duration": 398,
    "start_time": "2021-07-22T18:16:10.002Z"
   }
  ],
  "kernelspec": {
   "display_name": "Python 3 (ipykernel)",
   "language": "python",
   "name": "python3"
  },
  "language_info": {
   "codemirror_mode": {
    "name": "ipython",
    "version": 3
   },
   "file_extension": ".py",
   "mimetype": "text/x-python",
   "name": "python",
   "nbconvert_exporter": "python",
   "pygments_lexer": "ipython3",
   "version": "3.10.6"
  },
  "toc": {
   "base_numbering": 1,
   "nav_menu": {},
   "number_sections": true,
   "sideBar": true,
   "skip_h1_title": true,
   "title_cell": "Table of Contents",
   "title_sidebar": "Contents",
   "toc_cell": false,
   "toc_position": {},
   "toc_section_display": true,
   "toc_window_display": false
  }
 },
 "nbformat": 4,
 "nbformat_minor": 5
}
