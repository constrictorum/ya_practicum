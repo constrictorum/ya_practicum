{
 "cells": [
  {
   "cell_type": "markdown",
   "metadata": {},
   "source": [
    "# Определение стоимости автомобилей"
   ]
  },
  {
   "cell_type": "markdown",
   "metadata": {},
   "source": [
    "Сервис по продаже автомобилей с пробегом «Не бит, не крашен» разрабатывает приложение для привлечения новых клиентов. В нём можно быстро узнать рыночную стоимость своего автомобиля. В вашем распоряжении исторические данные: технические характеристики, комплектации и цены автомобилей. Вам нужно построить модель для определения стоимости. \n",
    "\n",
    "Заказчику важны:\n",
    "\n",
    "- качество предсказания;\n",
    "- скорость предсказания;\n",
    "- время обучения."
   ]
  },
  {
   "cell_type": "code",
   "execution_count": 37,
   "metadata": {},
   "outputs": [],
   "source": [
    "import warnings\n",
    "from datetime import datetime\n",
    "\n",
    "import matplotlib.pyplot as plt\n",
    "import numpy as np\n",
    "import pandas as pd\n",
    "import seaborn as sns\n",
    "from lightgbm import LGBMRegressor\n",
    "from sklearn.ensemble import RandomForestRegressor\n",
    "from sklearn.linear_model import LinearRegression\n",
    "from sklearn.metrics import mean_squared_error, roc_auc_score\n",
    "from sklearn.model_selection import GridSearchCV, RandomizedSearchCV, train_test_split\n",
    "from sklearn.preprocessing import OrdinalEncoder\n",
    "from sklearn.tree import DecisionTreeRegressor"
   ]
  },
  {
   "cell_type": "code",
   "execution_count": 2,
   "metadata": {},
   "outputs": [],
   "source": [
    "try:\n",
    "    import category_encoders as ce\n",
    "except ModuleNotFoundError:\n",
    "    !pip install -U category_encoders\n",
    "    import category_encoders as ce"
   ]
  },
  {
   "cell_type": "code",
   "execution_count": 3,
   "metadata": {},
   "outputs": [],
   "source": [
    "pd.set_option(\"display.precision\", 2)\n",
    "pd.set_option(\"display.max_columns\", 100)\n",
    "pd.options.mode.chained_assignment = None\n",
    "\n",
    "sns.set(rc={\"figure.figsize\": (12, 8)})\n",
    "\n",
    "warnings.filterwarnings(\"ignore\")"
   ]
  },
  {
   "cell_type": "code",
   "execution_count": 4,
   "metadata": {},
   "outputs": [],
   "source": [
    "try:\n",
    "    df_raw = pd.read_csv(\"./autos.csv\")\n",
    "except FileNotFoundError:\n",
    "    df_raw = pd.read_csv(\"/datasets/autos.csv\")"
   ]
  },
  {
   "cell_type": "code",
   "execution_count": 5,
   "metadata": {},
   "outputs": [
    {
     "data": {
      "text/html": [
       "<div>\n",
       "<style scoped>\n",
       "    .dataframe tbody tr th:only-of-type {\n",
       "        vertical-align: middle;\n",
       "    }\n",
       "\n",
       "    .dataframe tbody tr th {\n",
       "        vertical-align: top;\n",
       "    }\n",
       "\n",
       "    .dataframe thead th {\n",
       "        text-align: right;\n",
       "    }\n",
       "</style>\n",
       "<table border=\"1\" class=\"dataframe\">\n",
       "  <thead>\n",
       "    <tr style=\"text-align: right;\">\n",
       "      <th></th>\n",
       "      <th>DateCrawled</th>\n",
       "      <th>Price</th>\n",
       "      <th>VehicleType</th>\n",
       "      <th>RegistrationYear</th>\n",
       "      <th>Gearbox</th>\n",
       "      <th>Power</th>\n",
       "      <th>Model</th>\n",
       "      <th>Kilometer</th>\n",
       "      <th>RegistrationMonth</th>\n",
       "      <th>FuelType</th>\n",
       "      <th>Brand</th>\n",
       "      <th>NotRepaired</th>\n",
       "      <th>DateCreated</th>\n",
       "      <th>NumberOfPictures</th>\n",
       "      <th>PostalCode</th>\n",
       "      <th>LastSeen</th>\n",
       "    </tr>\n",
       "  </thead>\n",
       "  <tbody>\n",
       "    <tr>\n",
       "      <th>0</th>\n",
       "      <td>2016-03-24 11:52:17</td>\n",
       "      <td>480</td>\n",
       "      <td>NaN</td>\n",
       "      <td>1993</td>\n",
       "      <td>manual</td>\n",
       "      <td>0</td>\n",
       "      <td>golf</td>\n",
       "      <td>150000</td>\n",
       "      <td>0</td>\n",
       "      <td>petrol</td>\n",
       "      <td>volkswagen</td>\n",
       "      <td>NaN</td>\n",
       "      <td>2016-03-24 00:00:00</td>\n",
       "      <td>0</td>\n",
       "      <td>70435</td>\n",
       "      <td>2016-04-07 03:16:57</td>\n",
       "    </tr>\n",
       "    <tr>\n",
       "      <th>1</th>\n",
       "      <td>2016-03-24 10:58:45</td>\n",
       "      <td>18300</td>\n",
       "      <td>coupe</td>\n",
       "      <td>2011</td>\n",
       "      <td>manual</td>\n",
       "      <td>190</td>\n",
       "      <td>NaN</td>\n",
       "      <td>125000</td>\n",
       "      <td>5</td>\n",
       "      <td>gasoline</td>\n",
       "      <td>audi</td>\n",
       "      <td>yes</td>\n",
       "      <td>2016-03-24 00:00:00</td>\n",
       "      <td>0</td>\n",
       "      <td>66954</td>\n",
       "      <td>2016-04-07 01:46:50</td>\n",
       "    </tr>\n",
       "    <tr>\n",
       "      <th>2</th>\n",
       "      <td>2016-03-14 12:52:21</td>\n",
       "      <td>9800</td>\n",
       "      <td>suv</td>\n",
       "      <td>2004</td>\n",
       "      <td>auto</td>\n",
       "      <td>163</td>\n",
       "      <td>grand</td>\n",
       "      <td>125000</td>\n",
       "      <td>8</td>\n",
       "      <td>gasoline</td>\n",
       "      <td>jeep</td>\n",
       "      <td>NaN</td>\n",
       "      <td>2016-03-14 00:00:00</td>\n",
       "      <td>0</td>\n",
       "      <td>90480</td>\n",
       "      <td>2016-04-05 12:47:46</td>\n",
       "    </tr>\n",
       "    <tr>\n",
       "      <th>3</th>\n",
       "      <td>2016-03-17 16:54:04</td>\n",
       "      <td>1500</td>\n",
       "      <td>small</td>\n",
       "      <td>2001</td>\n",
       "      <td>manual</td>\n",
       "      <td>75</td>\n",
       "      <td>golf</td>\n",
       "      <td>150000</td>\n",
       "      <td>6</td>\n",
       "      <td>petrol</td>\n",
       "      <td>volkswagen</td>\n",
       "      <td>no</td>\n",
       "      <td>2016-03-17 00:00:00</td>\n",
       "      <td>0</td>\n",
       "      <td>91074</td>\n",
       "      <td>2016-03-17 17:40:17</td>\n",
       "    </tr>\n",
       "    <tr>\n",
       "      <th>4</th>\n",
       "      <td>2016-03-31 17:25:20</td>\n",
       "      <td>3600</td>\n",
       "      <td>small</td>\n",
       "      <td>2008</td>\n",
       "      <td>manual</td>\n",
       "      <td>69</td>\n",
       "      <td>fabia</td>\n",
       "      <td>90000</td>\n",
       "      <td>7</td>\n",
       "      <td>gasoline</td>\n",
       "      <td>skoda</td>\n",
       "      <td>no</td>\n",
       "      <td>2016-03-31 00:00:00</td>\n",
       "      <td>0</td>\n",
       "      <td>60437</td>\n",
       "      <td>2016-04-06 10:17:21</td>\n",
       "    </tr>\n",
       "  </tbody>\n",
       "</table>\n",
       "</div>"
      ],
      "text/plain": [
       "           DateCrawled  Price VehicleType  RegistrationYear Gearbox  Power  \\\n",
       "0  2016-03-24 11:52:17    480         NaN              1993  manual      0   \n",
       "1  2016-03-24 10:58:45  18300       coupe              2011  manual    190   \n",
       "2  2016-03-14 12:52:21   9800         suv              2004    auto    163   \n",
       "3  2016-03-17 16:54:04   1500       small              2001  manual     75   \n",
       "4  2016-03-31 17:25:20   3600       small              2008  manual     69   \n",
       "\n",
       "   Model  Kilometer  RegistrationMonth  FuelType       Brand NotRepaired  \\\n",
       "0   golf     150000                  0    petrol  volkswagen         NaN   \n",
       "1    NaN     125000                  5  gasoline        audi         yes   \n",
       "2  grand     125000                  8  gasoline        jeep         NaN   \n",
       "3   golf     150000                  6    petrol  volkswagen          no   \n",
       "4  fabia      90000                  7  gasoline       skoda          no   \n",
       "\n",
       "           DateCreated  NumberOfPictures  PostalCode             LastSeen  \n",
       "0  2016-03-24 00:00:00                 0       70435  2016-04-07 03:16:57  \n",
       "1  2016-03-24 00:00:00                 0       66954  2016-04-07 01:46:50  \n",
       "2  2016-03-14 00:00:00                 0       90480  2016-04-05 12:47:46  \n",
       "3  2016-03-17 00:00:00                 0       91074  2016-03-17 17:40:17  \n",
       "4  2016-03-31 00:00:00                 0       60437  2016-04-06 10:17:21  "
      ]
     },
     "execution_count": 5,
     "metadata": {},
     "output_type": "execute_result"
    }
   ],
   "source": [
    "df_raw.head()"
   ]
  },
  {
   "cell_type": "code",
   "execution_count": 6,
   "metadata": {
    "scrolled": true
   },
   "outputs": [
    {
     "data": {
      "text/html": [
       "<div>\n",
       "<style scoped>\n",
       "    .dataframe tbody tr th:only-of-type {\n",
       "        vertical-align: middle;\n",
       "    }\n",
       "\n",
       "    .dataframe tbody tr th {\n",
       "        vertical-align: top;\n",
       "    }\n",
       "\n",
       "    .dataframe thead th {\n",
       "        text-align: right;\n",
       "    }\n",
       "</style>\n",
       "<table border=\"1\" class=\"dataframe\">\n",
       "  <thead>\n",
       "    <tr style=\"text-align: right;\">\n",
       "      <th></th>\n",
       "      <th>Price</th>\n",
       "      <th>RegistrationYear</th>\n",
       "      <th>Power</th>\n",
       "      <th>Kilometer</th>\n",
       "      <th>RegistrationMonth</th>\n",
       "      <th>NumberOfPictures</th>\n",
       "      <th>PostalCode</th>\n",
       "    </tr>\n",
       "  </thead>\n",
       "  <tbody>\n",
       "    <tr>\n",
       "      <th>count</th>\n",
       "      <td>354369.00</td>\n",
       "      <td>354369.00</td>\n",
       "      <td>354369.00</td>\n",
       "      <td>354369.00</td>\n",
       "      <td>354369.00</td>\n",
       "      <td>354369.0</td>\n",
       "      <td>354369.00</td>\n",
       "    </tr>\n",
       "    <tr>\n",
       "      <th>mean</th>\n",
       "      <td>4416.66</td>\n",
       "      <td>2004.23</td>\n",
       "      <td>110.09</td>\n",
       "      <td>128211.17</td>\n",
       "      <td>5.71</td>\n",
       "      <td>0.0</td>\n",
       "      <td>50508.69</td>\n",
       "    </tr>\n",
       "    <tr>\n",
       "      <th>std</th>\n",
       "      <td>4514.16</td>\n",
       "      <td>90.23</td>\n",
       "      <td>189.85</td>\n",
       "      <td>37905.34</td>\n",
       "      <td>3.73</td>\n",
       "      <td>0.0</td>\n",
       "      <td>25783.10</td>\n",
       "    </tr>\n",
       "    <tr>\n",
       "      <th>min</th>\n",
       "      <td>0.00</td>\n",
       "      <td>1000.00</td>\n",
       "      <td>0.00</td>\n",
       "      <td>5000.00</td>\n",
       "      <td>0.00</td>\n",
       "      <td>0.0</td>\n",
       "      <td>1067.00</td>\n",
       "    </tr>\n",
       "    <tr>\n",
       "      <th>25%</th>\n",
       "      <td>1050.00</td>\n",
       "      <td>1999.00</td>\n",
       "      <td>69.00</td>\n",
       "      <td>125000.00</td>\n",
       "      <td>3.00</td>\n",
       "      <td>0.0</td>\n",
       "      <td>30165.00</td>\n",
       "    </tr>\n",
       "    <tr>\n",
       "      <th>50%</th>\n",
       "      <td>2700.00</td>\n",
       "      <td>2003.00</td>\n",
       "      <td>105.00</td>\n",
       "      <td>150000.00</td>\n",
       "      <td>6.00</td>\n",
       "      <td>0.0</td>\n",
       "      <td>49413.00</td>\n",
       "    </tr>\n",
       "    <tr>\n",
       "      <th>75%</th>\n",
       "      <td>6400.00</td>\n",
       "      <td>2008.00</td>\n",
       "      <td>143.00</td>\n",
       "      <td>150000.00</td>\n",
       "      <td>9.00</td>\n",
       "      <td>0.0</td>\n",
       "      <td>71083.00</td>\n",
       "    </tr>\n",
       "    <tr>\n",
       "      <th>max</th>\n",
       "      <td>20000.00</td>\n",
       "      <td>9999.00</td>\n",
       "      <td>20000.00</td>\n",
       "      <td>150000.00</td>\n",
       "      <td>12.00</td>\n",
       "      <td>0.0</td>\n",
       "      <td>99998.00</td>\n",
       "    </tr>\n",
       "  </tbody>\n",
       "</table>\n",
       "</div>"
      ],
      "text/plain": [
       "           Price  RegistrationYear      Power  Kilometer  RegistrationMonth  \\\n",
       "count  354369.00         354369.00  354369.00  354369.00          354369.00   \n",
       "mean     4416.66           2004.23     110.09  128211.17               5.71   \n",
       "std      4514.16             90.23     189.85   37905.34               3.73   \n",
       "min         0.00           1000.00       0.00    5000.00               0.00   \n",
       "25%      1050.00           1999.00      69.00  125000.00               3.00   \n",
       "50%      2700.00           2003.00     105.00  150000.00               6.00   \n",
       "75%      6400.00           2008.00     143.00  150000.00               9.00   \n",
       "max     20000.00           9999.00   20000.00  150000.00              12.00   \n",
       "\n",
       "       NumberOfPictures  PostalCode  \n",
       "count          354369.0   354369.00  \n",
       "mean                0.0    50508.69  \n",
       "std                 0.0    25783.10  \n",
       "min                 0.0     1067.00  \n",
       "25%                 0.0    30165.00  \n",
       "50%                 0.0    49413.00  \n",
       "75%                 0.0    71083.00  \n",
       "max                 0.0    99998.00  "
      ]
     },
     "execution_count": 6,
     "metadata": {},
     "output_type": "execute_result"
    }
   ],
   "source": [
    "df_raw.describe()"
   ]
  },
  {
   "cell_type": "code",
   "execution_count": 7,
   "metadata": {},
   "outputs": [
    {
     "name": "stdout",
     "output_type": "stream",
     "text": [
      "<class 'pandas.core.frame.DataFrame'>\n",
      "RangeIndex: 354369 entries, 0 to 354368\n",
      "Data columns (total 16 columns):\n",
      " #   Column             Non-Null Count   Dtype \n",
      "---  ------             --------------   ----- \n",
      " 0   DateCrawled        354369 non-null  object\n",
      " 1   Price              354369 non-null  int64 \n",
      " 2   VehicleType        316879 non-null  object\n",
      " 3   RegistrationYear   354369 non-null  int64 \n",
      " 4   Gearbox            334536 non-null  object\n",
      " 5   Power              354369 non-null  int64 \n",
      " 6   Model              334664 non-null  object\n",
      " 7   Kilometer          354369 non-null  int64 \n",
      " 8   RegistrationMonth  354369 non-null  int64 \n",
      " 9   FuelType           321474 non-null  object\n",
      " 10  Brand              354369 non-null  object\n",
      " 11  NotRepaired        283215 non-null  object\n",
      " 12  DateCreated        354369 non-null  object\n",
      " 13  NumberOfPictures   354369 non-null  int64 \n",
      " 14  PostalCode         354369 non-null  int64 \n",
      " 15  LastSeen           354369 non-null  object\n",
      "dtypes: int64(7), object(9)\n",
      "memory usage: 43.3+ MB\n"
     ]
    }
   ],
   "source": [
    "df_raw.info()"
   ]
  },
  {
   "cell_type": "markdown",
   "metadata": {},
   "source": [
    "В данных имеются пропуски, но это, очевидно, является неизбежным следствием неполноты данных о машинах как в учебной выборке, так и в будущих входных данных, на которых придётся работать моделям."
   ]
  },
  {
   "cell_type": "code",
   "execution_count": 8,
   "metadata": {},
   "outputs": [
    {
     "data": {
      "text/html": [
       "<div>\n",
       "<style scoped>\n",
       "    .dataframe tbody tr th:only-of-type {\n",
       "        vertical-align: middle;\n",
       "    }\n",
       "\n",
       "    .dataframe tbody tr th {\n",
       "        vertical-align: top;\n",
       "    }\n",
       "\n",
       "    .dataframe thead th {\n",
       "        text-align: right;\n",
       "    }\n",
       "</style>\n",
       "<table border=\"1\" class=\"dataframe\">\n",
       "  <thead>\n",
       "    <tr style=\"text-align: right;\">\n",
       "      <th></th>\n",
       "      <th>DateCrawled</th>\n",
       "      <th>Price</th>\n",
       "      <th>VehicleType</th>\n",
       "      <th>RegistrationYear</th>\n",
       "      <th>Gearbox</th>\n",
       "      <th>Power</th>\n",
       "      <th>Model</th>\n",
       "      <th>Kilometer</th>\n",
       "      <th>RegistrationMonth</th>\n",
       "      <th>FuelType</th>\n",
       "      <th>Brand</th>\n",
       "      <th>NotRepaired</th>\n",
       "      <th>DateCreated</th>\n",
       "      <th>NumberOfPictures</th>\n",
       "      <th>PostalCode</th>\n",
       "      <th>LastSeen</th>\n",
       "    </tr>\n",
       "  </thead>\n",
       "  <tbody>\n",
       "    <tr>\n",
       "      <th>41529</th>\n",
       "      <td>2016-03-18 18:46:15</td>\n",
       "      <td>1999</td>\n",
       "      <td>wagon</td>\n",
       "      <td>2001</td>\n",
       "      <td>manual</td>\n",
       "      <td>131</td>\n",
       "      <td>passat</td>\n",
       "      <td>150000</td>\n",
       "      <td>7</td>\n",
       "      <td>gasoline</td>\n",
       "      <td>volkswagen</td>\n",
       "      <td>no</td>\n",
       "      <td>2016-03-18 00:00:00</td>\n",
       "      <td>0</td>\n",
       "      <td>36391</td>\n",
       "      <td>2016-03-18 18:46:15</td>\n",
       "    </tr>\n",
       "    <tr>\n",
       "      <th>325651</th>\n",
       "      <td>2016-03-18 18:46:15</td>\n",
       "      <td>1999</td>\n",
       "      <td>wagon</td>\n",
       "      <td>2001</td>\n",
       "      <td>manual</td>\n",
       "      <td>131</td>\n",
       "      <td>passat</td>\n",
       "      <td>150000</td>\n",
       "      <td>7</td>\n",
       "      <td>gasoline</td>\n",
       "      <td>volkswagen</td>\n",
       "      <td>no</td>\n",
       "      <td>2016-03-18 00:00:00</td>\n",
       "      <td>0</td>\n",
       "      <td>36391</td>\n",
       "      <td>2016-03-18 18:46:15</td>\n",
       "    </tr>\n",
       "    <tr>\n",
       "      <th>90964</th>\n",
       "      <td>2016-03-28 00:56:10</td>\n",
       "      <td>1000</td>\n",
       "      <td>small</td>\n",
       "      <td>2002</td>\n",
       "      <td>manual</td>\n",
       "      <td>83</td>\n",
       "      <td>other</td>\n",
       "      <td>150000</td>\n",
       "      <td>1</td>\n",
       "      <td>petrol</td>\n",
       "      <td>suzuki</td>\n",
       "      <td>no</td>\n",
       "      <td>2016-03-28 00:00:00</td>\n",
       "      <td>0</td>\n",
       "      <td>66589</td>\n",
       "      <td>2016-03-28 08:46:21</td>\n",
       "    </tr>\n",
       "    <tr>\n",
       "      <th>231258</th>\n",
       "      <td>2016-03-28 00:56:10</td>\n",
       "      <td>1000</td>\n",
       "      <td>small</td>\n",
       "      <td>2002</td>\n",
       "      <td>manual</td>\n",
       "      <td>83</td>\n",
       "      <td>other</td>\n",
       "      <td>150000</td>\n",
       "      <td>1</td>\n",
       "      <td>petrol</td>\n",
       "      <td>suzuki</td>\n",
       "      <td>no</td>\n",
       "      <td>2016-03-28 00:00:00</td>\n",
       "      <td>0</td>\n",
       "      <td>66589</td>\n",
       "      <td>2016-03-28 08:46:21</td>\n",
       "    </tr>\n",
       "    <tr>\n",
       "      <th>187735</th>\n",
       "      <td>2016-04-03 09:01:15</td>\n",
       "      <td>4699</td>\n",
       "      <td>coupe</td>\n",
       "      <td>2003</td>\n",
       "      <td>auto</td>\n",
       "      <td>218</td>\n",
       "      <td>clk</td>\n",
       "      <td>125000</td>\n",
       "      <td>6</td>\n",
       "      <td>petrol</td>\n",
       "      <td>mercedes_benz</td>\n",
       "      <td>yes</td>\n",
       "      <td>2016-04-03 00:00:00</td>\n",
       "      <td>0</td>\n",
       "      <td>75196</td>\n",
       "      <td>2016-04-07 09:44:54</td>\n",
       "    </tr>\n",
       "    <tr>\n",
       "      <th>258109</th>\n",
       "      <td>2016-04-03 09:01:15</td>\n",
       "      <td>4699</td>\n",
       "      <td>coupe</td>\n",
       "      <td>2003</td>\n",
       "      <td>auto</td>\n",
       "      <td>218</td>\n",
       "      <td>clk</td>\n",
       "      <td>125000</td>\n",
       "      <td>6</td>\n",
       "      <td>petrol</td>\n",
       "      <td>mercedes_benz</td>\n",
       "      <td>yes</td>\n",
       "      <td>2016-04-03 00:00:00</td>\n",
       "      <td>0</td>\n",
       "      <td>75196</td>\n",
       "      <td>2016-04-07 09:44:54</td>\n",
       "    </tr>\n",
       "    <tr>\n",
       "      <th>88087</th>\n",
       "      <td>2016-03-08 18:42:48</td>\n",
       "      <td>1799</td>\n",
       "      <td>coupe</td>\n",
       "      <td>1999</td>\n",
       "      <td>auto</td>\n",
       "      <td>193</td>\n",
       "      <td>clk</td>\n",
       "      <td>20000</td>\n",
       "      <td>7</td>\n",
       "      <td>petrol</td>\n",
       "      <td>mercedes_benz</td>\n",
       "      <td>no</td>\n",
       "      <td>2016-03-08 00:00:00</td>\n",
       "      <td>0</td>\n",
       "      <td>89518</td>\n",
       "      <td>2016-03-09 09:46:57</td>\n",
       "    </tr>\n",
       "    <tr>\n",
       "      <th>171088</th>\n",
       "      <td>2016-03-08 18:42:48</td>\n",
       "      <td>1799</td>\n",
       "      <td>coupe</td>\n",
       "      <td>1999</td>\n",
       "      <td>auto</td>\n",
       "      <td>193</td>\n",
       "      <td>clk</td>\n",
       "      <td>20000</td>\n",
       "      <td>7</td>\n",
       "      <td>petrol</td>\n",
       "      <td>mercedes_benz</td>\n",
       "      <td>no</td>\n",
       "      <td>2016-03-08 00:00:00</td>\n",
       "      <td>0</td>\n",
       "      <td>89518</td>\n",
       "      <td>2016-03-09 09:46:57</td>\n",
       "    </tr>\n",
       "  </tbody>\n",
       "</table>\n",
       "</div>"
      ],
      "text/plain": [
       "                DateCrawled  Price VehicleType  RegistrationYear Gearbox  \\\n",
       "41529   2016-03-18 18:46:15   1999       wagon              2001  manual   \n",
       "325651  2016-03-18 18:46:15   1999       wagon              2001  manual   \n",
       "90964   2016-03-28 00:56:10   1000       small              2002  manual   \n",
       "231258  2016-03-28 00:56:10   1000       small              2002  manual   \n",
       "187735  2016-04-03 09:01:15   4699       coupe              2003    auto   \n",
       "258109  2016-04-03 09:01:15   4699       coupe              2003    auto   \n",
       "88087   2016-03-08 18:42:48   1799       coupe              1999    auto   \n",
       "171088  2016-03-08 18:42:48   1799       coupe              1999    auto   \n",
       "\n",
       "        Power   Model  Kilometer  RegistrationMonth  FuelType          Brand  \\\n",
       "41529     131  passat     150000                  7  gasoline     volkswagen   \n",
       "325651    131  passat     150000                  7  gasoline     volkswagen   \n",
       "90964      83   other     150000                  1    petrol         suzuki   \n",
       "231258     83   other     150000                  1    petrol         suzuki   \n",
       "187735    218     clk     125000                  6    petrol  mercedes_benz   \n",
       "258109    218     clk     125000                  6    petrol  mercedes_benz   \n",
       "88087     193     clk      20000                  7    petrol  mercedes_benz   \n",
       "171088    193     clk      20000                  7    petrol  mercedes_benz   \n",
       "\n",
       "       NotRepaired          DateCreated  NumberOfPictures  PostalCode  \\\n",
       "41529           no  2016-03-18 00:00:00                 0       36391   \n",
       "325651          no  2016-03-18 00:00:00                 0       36391   \n",
       "90964           no  2016-03-28 00:00:00                 0       66589   \n",
       "231258          no  2016-03-28 00:00:00                 0       66589   \n",
       "187735         yes  2016-04-03 00:00:00                 0       75196   \n",
       "258109         yes  2016-04-03 00:00:00                 0       75196   \n",
       "88087           no  2016-03-08 00:00:00                 0       89518   \n",
       "171088          no  2016-03-08 00:00:00                 0       89518   \n",
       "\n",
       "                   LastSeen  \n",
       "41529   2016-03-18 18:46:15  \n",
       "325651  2016-03-18 18:46:15  \n",
       "90964   2016-03-28 08:46:21  \n",
       "231258  2016-03-28 08:46:21  \n",
       "187735  2016-04-07 09:44:54  \n",
       "258109  2016-04-07 09:44:54  \n",
       "88087   2016-03-09 09:46:57  \n",
       "171088  2016-03-09 09:46:57  "
      ]
     },
     "execution_count": 8,
     "metadata": {},
     "output_type": "execute_result"
    }
   ],
   "source": [
    "df_raw[df_raw.duplicated(keep=False)].sort_values(by=\"PostalCode\")"
   ]
  },
  {
   "cell_type": "markdown",
   "metadata": {},
   "source": [
    "В базе обнаружилось 4 дубля."
   ]
  },
  {
   "cell_type": "code",
   "execution_count": 9,
   "metadata": {},
   "outputs": [],
   "source": [
    "df = df_raw.drop_duplicates()"
   ]
  },
  {
   "cell_type": "markdown",
   "metadata": {},
   "source": [
    "## Подготовка данных"
   ]
  },
  {
   "cell_type": "markdown",
   "metadata": {},
   "source": [
    "Прежде всего, не все признаки имеют правильный тип. Так,  DateCrawled, DateCreated и LastSeen стоит преобразовать в datetime, а VehicleType, Gearbox, Model, FuelType, Brand и NotRepaired - в категориальные. Последний можно было сделать и булевым, но там присутствуют пропуски, так что возможных значений больше 2.\n",
    "\n",
    "С другой стороны, не все регрессоры умеют работать с временными рядами, так что лучше преобразовать datetime в timestamp."
   ]
  },
  {
   "cell_type": "markdown",
   "metadata": {},
   "source": [
    "Полезным признаком видится возраст автомобиля на момент публикации анкеты."
   ]
  },
  {
   "cell_type": "code",
   "execution_count": 10,
   "metadata": {},
   "outputs": [],
   "source": [
    "df[\"DateCrawled\"] = pd.to_datetime(df[\"DateCrawled\"], format=\"%Y-%m-%d %H:%M:%S\")"
   ]
  },
  {
   "cell_type": "code",
   "execution_count": 11,
   "metadata": {},
   "outputs": [],
   "source": [
    "df[\"AgeYears\"] = df[\"DateCrawled\"].dt.year - df[\"RegistrationYear\"]"
   ]
  },
  {
   "cell_type": "markdown",
   "metadata": {},
   "source": [
    "Очевидно, что возраст автомобиля не может быть отрицательным"
   ]
  },
  {
   "cell_type": "code",
   "execution_count": 12,
   "metadata": {},
   "outputs": [
    {
     "data": {
      "text/html": [
       "<div>\n",
       "<style scoped>\n",
       "    .dataframe tbody tr th:only-of-type {\n",
       "        vertical-align: middle;\n",
       "    }\n",
       "\n",
       "    .dataframe tbody tr th {\n",
       "        vertical-align: top;\n",
       "    }\n",
       "\n",
       "    .dataframe thead th {\n",
       "        text-align: right;\n",
       "    }\n",
       "</style>\n",
       "<table border=\"1\" class=\"dataframe\">\n",
       "  <thead>\n",
       "    <tr style=\"text-align: right;\">\n",
       "      <th></th>\n",
       "      <th>DateCrawled</th>\n",
       "      <th>Price</th>\n",
       "      <th>VehicleType</th>\n",
       "      <th>RegistrationYear</th>\n",
       "      <th>Gearbox</th>\n",
       "      <th>Power</th>\n",
       "      <th>Model</th>\n",
       "      <th>Kilometer</th>\n",
       "      <th>RegistrationMonth</th>\n",
       "      <th>FuelType</th>\n",
       "      <th>Brand</th>\n",
       "      <th>NotRepaired</th>\n",
       "      <th>DateCreated</th>\n",
       "      <th>NumberOfPictures</th>\n",
       "      <th>PostalCode</th>\n",
       "      <th>LastSeen</th>\n",
       "      <th>AgeYears</th>\n",
       "    </tr>\n",
       "  </thead>\n",
       "  <tbody>\n",
       "    <tr>\n",
       "      <th>22</th>\n",
       "      <td>2016-03-23 14:52:51</td>\n",
       "      <td>2900</td>\n",
       "      <td>NaN</td>\n",
       "      <td>2018</td>\n",
       "      <td>manual</td>\n",
       "      <td>90</td>\n",
       "      <td>meriva</td>\n",
       "      <td>150000</td>\n",
       "      <td>5</td>\n",
       "      <td>petrol</td>\n",
       "      <td>opel</td>\n",
       "      <td>no</td>\n",
       "      <td>2016-03-23 00:00:00</td>\n",
       "      <td>0</td>\n",
       "      <td>49716</td>\n",
       "      <td>2016-03-31 01:16:33</td>\n",
       "      <td>-2</td>\n",
       "    </tr>\n",
       "    <tr>\n",
       "      <th>26</th>\n",
       "      <td>2016-03-10 19:38:18</td>\n",
       "      <td>5555</td>\n",
       "      <td>NaN</td>\n",
       "      <td>2017</td>\n",
       "      <td>manual</td>\n",
       "      <td>125</td>\n",
       "      <td>c4</td>\n",
       "      <td>125000</td>\n",
       "      <td>4</td>\n",
       "      <td>NaN</td>\n",
       "      <td>citroen</td>\n",
       "      <td>no</td>\n",
       "      <td>2016-03-10 00:00:00</td>\n",
       "      <td>0</td>\n",
       "      <td>31139</td>\n",
       "      <td>2016-03-16 09:16:46</td>\n",
       "      <td>-1</td>\n",
       "    </tr>\n",
       "    <tr>\n",
       "      <th>48</th>\n",
       "      <td>2016-03-25 14:40:12</td>\n",
       "      <td>7750</td>\n",
       "      <td>NaN</td>\n",
       "      <td>2017</td>\n",
       "      <td>manual</td>\n",
       "      <td>80</td>\n",
       "      <td>golf</td>\n",
       "      <td>100000</td>\n",
       "      <td>1</td>\n",
       "      <td>petrol</td>\n",
       "      <td>volkswagen</td>\n",
       "      <td>NaN</td>\n",
       "      <td>2016-03-25 00:00:00</td>\n",
       "      <td>0</td>\n",
       "      <td>48499</td>\n",
       "      <td>2016-03-31 21:47:44</td>\n",
       "      <td>-1</td>\n",
       "    </tr>\n",
       "    <tr>\n",
       "      <th>51</th>\n",
       "      <td>2016-03-07 18:57:08</td>\n",
       "      <td>2000</td>\n",
       "      <td>NaN</td>\n",
       "      <td>2017</td>\n",
       "      <td>manual</td>\n",
       "      <td>90</td>\n",
       "      <td>punto</td>\n",
       "      <td>150000</td>\n",
       "      <td>11</td>\n",
       "      <td>gasoline</td>\n",
       "      <td>fiat</td>\n",
       "      <td>yes</td>\n",
       "      <td>2016-03-07 00:00:00</td>\n",
       "      <td>0</td>\n",
       "      <td>66115</td>\n",
       "      <td>2016-03-07 18:57:08</td>\n",
       "      <td>-1</td>\n",
       "    </tr>\n",
       "    <tr>\n",
       "      <th>57</th>\n",
       "      <td>2016-03-10 20:53:19</td>\n",
       "      <td>2399</td>\n",
       "      <td>NaN</td>\n",
       "      <td>2018</td>\n",
       "      <td>manual</td>\n",
       "      <td>64</td>\n",
       "      <td>other</td>\n",
       "      <td>125000</td>\n",
       "      <td>3</td>\n",
       "      <td>NaN</td>\n",
       "      <td>seat</td>\n",
       "      <td>no</td>\n",
       "      <td>2016-03-10 00:00:00</td>\n",
       "      <td>0</td>\n",
       "      <td>33397</td>\n",
       "      <td>2016-03-25 10:17:37</td>\n",
       "      <td>-2</td>\n",
       "    </tr>\n",
       "    <tr>\n",
       "      <th>...</th>\n",
       "      <td>...</td>\n",
       "      <td>...</td>\n",
       "      <td>...</td>\n",
       "      <td>...</td>\n",
       "      <td>...</td>\n",
       "      <td>...</td>\n",
       "      <td>...</td>\n",
       "      <td>...</td>\n",
       "      <td>...</td>\n",
       "      <td>...</td>\n",
       "      <td>...</td>\n",
       "      <td>...</td>\n",
       "      <td>...</td>\n",
       "      <td>...</td>\n",
       "      <td>...</td>\n",
       "      <td>...</td>\n",
       "      <td>...</td>\n",
       "    </tr>\n",
       "    <tr>\n",
       "      <th>354112</th>\n",
       "      <td>2016-03-11 15:49:51</td>\n",
       "      <td>3600</td>\n",
       "      <td>NaN</td>\n",
       "      <td>2017</td>\n",
       "      <td>manual</td>\n",
       "      <td>86</td>\n",
       "      <td>transit</td>\n",
       "      <td>150000</td>\n",
       "      <td>5</td>\n",
       "      <td>gasoline</td>\n",
       "      <td>ford</td>\n",
       "      <td>NaN</td>\n",
       "      <td>2016-03-11 00:00:00</td>\n",
       "      <td>0</td>\n",
       "      <td>32339</td>\n",
       "      <td>2016-03-12 05:45:02</td>\n",
       "      <td>-1</td>\n",
       "    </tr>\n",
       "    <tr>\n",
       "      <th>354140</th>\n",
       "      <td>2016-03-29 16:47:29</td>\n",
       "      <td>1000</td>\n",
       "      <td>NaN</td>\n",
       "      <td>2017</td>\n",
       "      <td>manual</td>\n",
       "      <td>101</td>\n",
       "      <td>a4</td>\n",
       "      <td>150000</td>\n",
       "      <td>9</td>\n",
       "      <td>NaN</td>\n",
       "      <td>audi</td>\n",
       "      <td>NaN</td>\n",
       "      <td>2016-03-29 00:00:00</td>\n",
       "      <td>0</td>\n",
       "      <td>38315</td>\n",
       "      <td>2016-04-06 02:44:27</td>\n",
       "      <td>-1</td>\n",
       "    </tr>\n",
       "    <tr>\n",
       "      <th>354203</th>\n",
       "      <td>2016-03-17 00:56:26</td>\n",
       "      <td>2140</td>\n",
       "      <td>NaN</td>\n",
       "      <td>2018</td>\n",
       "      <td>manual</td>\n",
       "      <td>80</td>\n",
       "      <td>fiesta</td>\n",
       "      <td>150000</td>\n",
       "      <td>6</td>\n",
       "      <td>NaN</td>\n",
       "      <td>ford</td>\n",
       "      <td>no</td>\n",
       "      <td>2016-03-17 00:00:00</td>\n",
       "      <td>0</td>\n",
       "      <td>44866</td>\n",
       "      <td>2016-03-29 15:45:04</td>\n",
       "      <td>-2</td>\n",
       "    </tr>\n",
       "    <tr>\n",
       "      <th>354253</th>\n",
       "      <td>2016-03-25 09:37:59</td>\n",
       "      <td>1250</td>\n",
       "      <td>NaN</td>\n",
       "      <td>2018</td>\n",
       "      <td>NaN</td>\n",
       "      <td>0</td>\n",
       "      <td>corsa</td>\n",
       "      <td>150000</td>\n",
       "      <td>0</td>\n",
       "      <td>petrol</td>\n",
       "      <td>opel</td>\n",
       "      <td>NaN</td>\n",
       "      <td>2016-03-25 00:00:00</td>\n",
       "      <td>0</td>\n",
       "      <td>45527</td>\n",
       "      <td>2016-04-06 07:46:13</td>\n",
       "      <td>-2</td>\n",
       "    </tr>\n",
       "    <tr>\n",
       "      <th>354289</th>\n",
       "      <td>2016-03-05 14:55:29</td>\n",
       "      <td>5000</td>\n",
       "      <td>NaN</td>\n",
       "      <td>2017</td>\n",
       "      <td>manual</td>\n",
       "      <td>120</td>\n",
       "      <td>other</td>\n",
       "      <td>150000</td>\n",
       "      <td>7</td>\n",
       "      <td>NaN</td>\n",
       "      <td>citroen</td>\n",
       "      <td>yes</td>\n",
       "      <td>2016-03-05 00:00:00</td>\n",
       "      <td>0</td>\n",
       "      <td>15518</td>\n",
       "      <td>2016-04-05 11:48:09</td>\n",
       "      <td>-1</td>\n",
       "    </tr>\n",
       "  </tbody>\n",
       "</table>\n",
       "<p>14530 rows × 17 columns</p>\n",
       "</div>"
      ],
      "text/plain": [
       "               DateCrawled  Price VehicleType  RegistrationYear Gearbox  \\\n",
       "22     2016-03-23 14:52:51   2900         NaN              2018  manual   \n",
       "26     2016-03-10 19:38:18   5555         NaN              2017  manual   \n",
       "48     2016-03-25 14:40:12   7750         NaN              2017  manual   \n",
       "51     2016-03-07 18:57:08   2000         NaN              2017  manual   \n",
       "57     2016-03-10 20:53:19   2399         NaN              2018  manual   \n",
       "...                    ...    ...         ...               ...     ...   \n",
       "354112 2016-03-11 15:49:51   3600         NaN              2017  manual   \n",
       "354140 2016-03-29 16:47:29   1000         NaN              2017  manual   \n",
       "354203 2016-03-17 00:56:26   2140         NaN              2018  manual   \n",
       "354253 2016-03-25 09:37:59   1250         NaN              2018     NaN   \n",
       "354289 2016-03-05 14:55:29   5000         NaN              2017  manual   \n",
       "\n",
       "        Power    Model  Kilometer  RegistrationMonth  FuelType       Brand  \\\n",
       "22         90   meriva     150000                  5    petrol        opel   \n",
       "26        125       c4     125000                  4       NaN     citroen   \n",
       "48         80     golf     100000                  1    petrol  volkswagen   \n",
       "51         90    punto     150000                 11  gasoline        fiat   \n",
       "57         64    other     125000                  3       NaN        seat   \n",
       "...       ...      ...        ...                ...       ...         ...   \n",
       "354112     86  transit     150000                  5  gasoline        ford   \n",
       "354140    101       a4     150000                  9       NaN        audi   \n",
       "354203     80   fiesta     150000                  6       NaN        ford   \n",
       "354253      0    corsa     150000                  0    petrol        opel   \n",
       "354289    120    other     150000                  7       NaN     citroen   \n",
       "\n",
       "       NotRepaired          DateCreated  NumberOfPictures  PostalCode  \\\n",
       "22              no  2016-03-23 00:00:00                 0       49716   \n",
       "26              no  2016-03-10 00:00:00                 0       31139   \n",
       "48             NaN  2016-03-25 00:00:00                 0       48499   \n",
       "51             yes  2016-03-07 00:00:00                 0       66115   \n",
       "57              no  2016-03-10 00:00:00                 0       33397   \n",
       "...            ...                  ...               ...         ...   \n",
       "354112         NaN  2016-03-11 00:00:00                 0       32339   \n",
       "354140         NaN  2016-03-29 00:00:00                 0       38315   \n",
       "354203          no  2016-03-17 00:00:00                 0       44866   \n",
       "354253         NaN  2016-03-25 00:00:00                 0       45527   \n",
       "354289         yes  2016-03-05 00:00:00                 0       15518   \n",
       "\n",
       "                   LastSeen  AgeYears  \n",
       "22      2016-03-31 01:16:33        -2  \n",
       "26      2016-03-16 09:16:46        -1  \n",
       "48      2016-03-31 21:47:44        -1  \n",
       "51      2016-03-07 18:57:08        -1  \n",
       "57      2016-03-25 10:17:37        -2  \n",
       "...                     ...       ...  \n",
       "354112  2016-03-12 05:45:02        -1  \n",
       "354140  2016-04-06 02:44:27        -1  \n",
       "354203  2016-03-29 15:45:04        -2  \n",
       "354253  2016-04-06 07:46:13        -2  \n",
       "354289  2016-04-05 11:48:09        -1  \n",
       "\n",
       "[14530 rows x 17 columns]"
      ]
     },
     "execution_count": 12,
     "metadata": {},
     "output_type": "execute_result"
    }
   ],
   "source": [
    "df[df[\"AgeYears\"] < 0]"
   ]
  },
  {
   "cell_type": "markdown",
   "metadata": {},
   "source": [
    "Видим 14,5 тысяч автомобилей для которых регистрация произошла позже даты скачивания анкеты. Это явная аномалия с неочевидным методом исправления. Поэтому просто удалим соответствующие записи "
   ]
  },
  {
   "cell_type": "code",
   "execution_count": 13,
   "metadata": {},
   "outputs": [],
   "source": [
    "df = df[df[\"AgeYears\"] >= 0]"
   ]
  },
  {
   "cell_type": "markdown",
   "metadata": {},
   "source": [
    "Такие признаки как дата выгрузки анкеты из базы, дата создания анкеты, дата активности пользователя и почтовый индекс владельца никак не характиризуют автомобиль. Возраст автомобиля с точностью до месяца врдли нужен, так что и колонка RegistrationMonth лишняя."
   ]
  },
  {
   "cell_type": "code",
   "execution_count": 14,
   "metadata": {},
   "outputs": [],
   "source": [
    "df = df.drop(\n",
    "    [\n",
    "        \"DateCrawled\",\n",
    "        \"DateCreated\",\n",
    "        \"LastSeen\",\n",
    "        \"PostalCode\",\n",
    "        \"NumberOfPictures\",\n",
    "        \"RegistrationMonth\",\n",
    "    ],\n",
    "    axis=1,\n",
    ")"
   ]
  },
  {
   "cell_type": "markdown",
   "metadata": {},
   "source": [
    "Посмотрим на такой признак как мощность автомобиля "
   ]
  },
  {
   "cell_type": "code",
   "execution_count": 15,
   "metadata": {},
   "outputs": [
    {
     "data": {
      "text/html": [
       "<div>\n",
       "<style scoped>\n",
       "    .dataframe tbody tr th:only-of-type {\n",
       "        vertical-align: middle;\n",
       "    }\n",
       "\n",
       "    .dataframe tbody tr th {\n",
       "        vertical-align: top;\n",
       "    }\n",
       "\n",
       "    .dataframe thead th {\n",
       "        text-align: right;\n",
       "    }\n",
       "</style>\n",
       "<table border=\"1\" class=\"dataframe\">\n",
       "  <thead>\n",
       "    <tr style=\"text-align: right;\">\n",
       "      <th></th>\n",
       "      <th>Power</th>\n",
       "    </tr>\n",
       "  </thead>\n",
       "  <tbody>\n",
       "    <tr>\n",
       "      <th>count</th>\n",
       "      <td>339835.00</td>\n",
       "    </tr>\n",
       "    <tr>\n",
       "      <th>mean</th>\n",
       "      <td>111.02</td>\n",
       "    </tr>\n",
       "    <tr>\n",
       "      <th>std</th>\n",
       "      <td>186.98</td>\n",
       "    </tr>\n",
       "    <tr>\n",
       "      <th>min</th>\n",
       "      <td>0.00</td>\n",
       "    </tr>\n",
       "    <tr>\n",
       "      <th>25%</th>\n",
       "      <td>69.00</td>\n",
       "    </tr>\n",
       "    <tr>\n",
       "      <th>50%</th>\n",
       "      <td>105.00</td>\n",
       "    </tr>\n",
       "    <tr>\n",
       "      <th>75%</th>\n",
       "      <td>143.00</td>\n",
       "    </tr>\n",
       "    <tr>\n",
       "      <th>max</th>\n",
       "      <td>20000.00</td>\n",
       "    </tr>\n",
       "  </tbody>\n",
       "</table>\n",
       "</div>"
      ],
      "text/plain": [
       "           Power\n",
       "count  339835.00\n",
       "mean      111.02\n",
       "std       186.98\n",
       "min         0.00\n",
       "25%        69.00\n",
       "50%       105.00\n",
       "75%       143.00\n",
       "max     20000.00"
      ]
     },
     "execution_count": 15,
     "metadata": {},
     "output_type": "execute_result"
    }
   ],
   "source": [
    "df[[\"Power\"]].describe()"
   ]
  },
  {
   "cell_type": "markdown",
   "metadata": {},
   "source": [
    "Видим, что есть записи с нулевой мощность и с запредельно большой мощностью в 20000 л.с. И это при том, что самые мощные из легковых автомобилей имеют двигатели менее 2000 л.с."
   ]
  },
  {
   "cell_type": "code",
   "execution_count": 16,
   "metadata": {},
   "outputs": [
    {
     "data": {
      "text/html": [
       "<div>\n",
       "<style scoped>\n",
       "    .dataframe tbody tr th:only-of-type {\n",
       "        vertical-align: middle;\n",
       "    }\n",
       "\n",
       "    .dataframe tbody tr th {\n",
       "        vertical-align: top;\n",
       "    }\n",
       "\n",
       "    .dataframe thead th {\n",
       "        text-align: right;\n",
       "    }\n",
       "</style>\n",
       "<table border=\"1\" class=\"dataframe\">\n",
       "  <thead>\n",
       "    <tr style=\"text-align: right;\">\n",
       "      <th></th>\n",
       "      <th>Price</th>\n",
       "      <th>VehicleType</th>\n",
       "      <th>RegistrationYear</th>\n",
       "      <th>Gearbox</th>\n",
       "      <th>Power</th>\n",
       "      <th>Model</th>\n",
       "      <th>Kilometer</th>\n",
       "      <th>FuelType</th>\n",
       "      <th>Brand</th>\n",
       "      <th>NotRepaired</th>\n",
       "      <th>AgeYears</th>\n",
       "    </tr>\n",
       "  </thead>\n",
       "  <tbody>\n",
       "    <tr>\n",
       "      <th>7661</th>\n",
       "      <td>1499</td>\n",
       "      <td>small</td>\n",
       "      <td>1999</td>\n",
       "      <td>manual</td>\n",
       "      <td>7515</td>\n",
       "      <td>lupo</td>\n",
       "      <td>150000</td>\n",
       "      <td>petrol</td>\n",
       "      <td>volkswagen</td>\n",
       "      <td>NaN</td>\n",
       "      <td>17</td>\n",
       "    </tr>\n",
       "    <tr>\n",
       "      <th>11039</th>\n",
       "      <td>0</td>\n",
       "      <td>sedan</td>\n",
       "      <td>1998</td>\n",
       "      <td>manual</td>\n",
       "      <td>10317</td>\n",
       "      <td>other</td>\n",
       "      <td>150000</td>\n",
       "      <td>petrol</td>\n",
       "      <td>fiat</td>\n",
       "      <td>no</td>\n",
       "      <td>18</td>\n",
       "    </tr>\n",
       "    <tr>\n",
       "      <th>19092</th>\n",
       "      <td>9750</td>\n",
       "      <td>wagon</td>\n",
       "      <td>2005</td>\n",
       "      <td>auto</td>\n",
       "      <td>2729</td>\n",
       "      <td>5er</td>\n",
       "      <td>150000</td>\n",
       "      <td>gasoline</td>\n",
       "      <td>bmw</td>\n",
       "      <td>no</td>\n",
       "      <td>11</td>\n",
       "    </tr>\n",
       "    <tr>\n",
       "      <th>25232</th>\n",
       "      <td>10900</td>\n",
       "      <td>bus</td>\n",
       "      <td>2009</td>\n",
       "      <td>manual</td>\n",
       "      <td>10520</td>\n",
       "      <td>caddy</td>\n",
       "      <td>150000</td>\n",
       "      <td>gasoline</td>\n",
       "      <td>volkswagen</td>\n",
       "      <td>no</td>\n",
       "      <td>7</td>\n",
       "    </tr>\n",
       "    <tr>\n",
       "      <th>33952</th>\n",
       "      <td>3740</td>\n",
       "      <td>small</td>\n",
       "      <td>2006</td>\n",
       "      <td>manual</td>\n",
       "      <td>6920</td>\n",
       "      <td>aygo</td>\n",
       "      <td>90000</td>\n",
       "      <td>NaN</td>\n",
       "      <td>toyota</td>\n",
       "      <td>no</td>\n",
       "      <td>10</td>\n",
       "    </tr>\n",
       "  </tbody>\n",
       "</table>\n",
       "</div>"
      ],
      "text/plain": [
       "       Price VehicleType  RegistrationYear Gearbox  Power  Model  Kilometer  \\\n",
       "7661    1499       small              1999  manual   7515   lupo     150000   \n",
       "11039      0       sedan              1998  manual  10317  other     150000   \n",
       "19092   9750       wagon              2005    auto   2729    5er     150000   \n",
       "25232  10900         bus              2009  manual  10520  caddy     150000   \n",
       "33952   3740       small              2006  manual   6920   aygo      90000   \n",
       "\n",
       "       FuelType       Brand NotRepaired  AgeYears  \n",
       "7661     petrol  volkswagen         NaN        17  \n",
       "11039    petrol        fiat          no        18  \n",
       "19092  gasoline         bmw          no        11  \n",
       "25232  gasoline  volkswagen          no         7  \n",
       "33952       NaN      toyota          no        10  "
      ]
     },
     "execution_count": 16,
     "metadata": {},
     "output_type": "execute_result"
    }
   ],
   "source": [
    "df[df[\"Power\"] > 2000].head()"
   ]
  },
  {
   "cell_type": "markdown",
   "metadata": {},
   "source": [
    "Volkswagen lupo с двигателем 7515 л.с это очень сильно. Можно было бы предположить ошибку в единицах измерения, но исправления этих аномально больших значений не очевидно."
   ]
  },
  {
   "cell_type": "code",
   "execution_count": 17,
   "metadata": {},
   "outputs": [
    {
     "data": {
      "image/png": "[encoded data removed]",
      "text/plain": [
       "<Figure size 432x288 with 1 Axes>"
      ]
     },
     "metadata": {
      "needs_background": "light"
     },
     "output_type": "display_data"
    }
   ],
   "source": [
    "sns.histplot(data=df[df[\"Power\"] < 2000], x=\"Power\");"
   ]
  },
  {
   "cell_type": "markdown",
   "metadata": {},
   "source": [
    "Мощный выброс виден в области значений мощности двигателя в 0 л.с., что явно невозможно. Избавимся от аномальных значений."
   ]
  },
  {
   "cell_type": "code",
   "execution_count": 18,
   "metadata": {},
   "outputs": [],
   "source": [
    "df = df[(df[\"Power\"] > 0) & (df[\"Power\"] < 2000)]"
   ]
  },
  {
   "cell_type": "markdown",
   "metadata": {},
   "source": [
    "Так же посмотрим на год регистрации автомобилей:"
   ]
  },
  {
   "cell_type": "code",
   "execution_count": 19,
   "metadata": {},
   "outputs": [
    {
     "data": {
      "text/html": [
       "<div>\n",
       "<style scoped>\n",
       "    .dataframe tbody tr th:only-of-type {\n",
       "        vertical-align: middle;\n",
       "    }\n",
       "\n",
       "    .dataframe tbody tr th {\n",
       "        vertical-align: top;\n",
       "    }\n",
       "\n",
       "    .dataframe thead th {\n",
       "        text-align: right;\n",
       "    }\n",
       "</style>\n",
       "<table border=\"1\" class=\"dataframe\">\n",
       "  <thead>\n",
       "    <tr style=\"text-align: right;\">\n",
       "      <th></th>\n",
       "      <th>RegistrationYear</th>\n",
       "    </tr>\n",
       "  </thead>\n",
       "  <tbody>\n",
       "    <tr>\n",
       "      <th>count</th>\n",
       "      <td>303221.00</td>\n",
       "    </tr>\n",
       "    <tr>\n",
       "      <th>mean</th>\n",
       "      <td>2002.71</td>\n",
       "    </tr>\n",
       "    <tr>\n",
       "      <th>std</th>\n",
       "      <td>8.79</td>\n",
       "    </tr>\n",
       "    <tr>\n",
       "      <th>min</th>\n",
       "      <td>1000.00</td>\n",
       "    </tr>\n",
       "    <tr>\n",
       "      <th>25%</th>\n",
       "      <td>1999.00</td>\n",
       "    </tr>\n",
       "    <tr>\n",
       "      <th>50%</th>\n",
       "      <td>2003.00</td>\n",
       "    </tr>\n",
       "    <tr>\n",
       "      <th>75%</th>\n",
       "      <td>2007.00</td>\n",
       "    </tr>\n",
       "    <tr>\n",
       "      <th>max</th>\n",
       "      <td>2016.00</td>\n",
       "    </tr>\n",
       "  </tbody>\n",
       "</table>\n",
       "</div>"
      ],
      "text/plain": [
       "       RegistrationYear\n",
       "count         303221.00\n",
       "mean            2002.71\n",
       "std                8.79\n",
       "min             1000.00\n",
       "25%             1999.00\n",
       "50%             2003.00\n",
       "75%             2007.00\n",
       "max             2016.00"
      ]
     },
     "execution_count": 19,
     "metadata": {},
     "output_type": "execute_result"
    }
   ],
   "source": [
    "df[[\"RegistrationYear\"]].describe()"
   ]
  },
  {
   "cell_type": "markdown",
   "metadata": {},
   "source": [
    "Явно в этом признаке также присутсвуют ошибки: в 1000 году, насколько известно, автомобили не производились. От ошибочных данных нужно избавиться. За одно отбросим и правильно заполненные, но очень старые автомобили, скажем, до 1960 года. Такие экземпляры редкость и оценивать их наравне с массовыми современными машинами некорректно. В принципе, можно сделать отсечку и по более поздней дате, тем более, что 25-процентная квартиль приходится га 1999 год."
   ]
  },
  {
   "cell_type": "code",
   "execution_count": 20,
   "metadata": {},
   "outputs": [],
   "source": [
    "df = df[df[\"RegistrationYear\"] > 1960]"
   ]
  },
  {
   "cell_type": "markdown",
   "metadata": {},
   "source": [
    "наконец, рассмотрим целевой признак - цену."
   ]
  },
  {
   "cell_type": "code",
   "execution_count": 21,
   "metadata": {},
   "outputs": [
    {
     "data": {
      "text/html": [
       "<div>\n",
       "<style scoped>\n",
       "    .dataframe tbody tr th:only-of-type {\n",
       "        vertical-align: middle;\n",
       "    }\n",
       "\n",
       "    .dataframe tbody tr th {\n",
       "        vertical-align: top;\n",
       "    }\n",
       "\n",
       "    .dataframe thead th {\n",
       "        text-align: right;\n",
       "    }\n",
       "</style>\n",
       "<table border=\"1\" class=\"dataframe\">\n",
       "  <thead>\n",
       "    <tr style=\"text-align: right;\">\n",
       "      <th></th>\n",
       "      <th>Price</th>\n",
       "    </tr>\n",
       "  </thead>\n",
       "  <tbody>\n",
       "    <tr>\n",
       "      <th>count</th>\n",
       "      <td>302976.00</td>\n",
       "    </tr>\n",
       "    <tr>\n",
       "      <th>mean</th>\n",
       "      <td>4748.23</td>\n",
       "    </tr>\n",
       "    <tr>\n",
       "      <th>std</th>\n",
       "      <td>4613.61</td>\n",
       "    </tr>\n",
       "    <tr>\n",
       "      <th>min</th>\n",
       "      <td>0.00</td>\n",
       "    </tr>\n",
       "    <tr>\n",
       "      <th>25%</th>\n",
       "      <td>1250.00</td>\n",
       "    </tr>\n",
       "    <tr>\n",
       "      <th>50%</th>\n",
       "      <td>3000.00</td>\n",
       "    </tr>\n",
       "    <tr>\n",
       "      <th>75%</th>\n",
       "      <td>6900.00</td>\n",
       "    </tr>\n",
       "    <tr>\n",
       "      <th>max</th>\n",
       "      <td>20000.00</td>\n",
       "    </tr>\n",
       "  </tbody>\n",
       "</table>\n",
       "</div>"
      ],
      "text/plain": [
       "           Price\n",
       "count  302976.00\n",
       "mean     4748.23\n",
       "std      4613.61\n",
       "min         0.00\n",
       "25%      1250.00\n",
       "50%      3000.00\n",
       "75%      6900.00\n",
       "max     20000.00"
      ]
     },
     "execution_count": 21,
     "metadata": {},
     "output_type": "execute_result"
    }
   ],
   "source": [
    "df[[\"Price\"]].describe()"
   ]
  },
  {
   "cell_type": "markdown",
   "metadata": {},
   "source": [
    "Минимальная цена 0 - это не хорошо."
   ]
  },
  {
   "cell_type": "code",
   "execution_count": 22,
   "metadata": {},
   "outputs": [
    {
     "data": {
      "image/png": "[encoded data removed]",
      "text/plain": [
       "<Figure size 432x288 with 1 Axes>"
      ]
     },
     "metadata": {
      "needs_background": "light"
     },
     "output_type": "display_data"
    }
   ],
   "source": [
    "sns.histplot(data=df, x=\"Price\");"
   ]
  },
  {
   "cell_type": "code",
   "execution_count": 23,
   "metadata": {},
   "outputs": [
    {
     "data": {
      "image/png": "[encoded data removed]",
      "text/plain": [
       "<Figure size 432x288 with 1 Axes>"
      ]
     },
     "metadata": {
      "needs_background": "light"
     },
     "output_type": "display_data"
    }
   ],
   "source": [
    "sns.histplot(data=df[df[\"Price\"] > 10000], x=\"Price\");"
   ]
  },
  {
   "cell_type": "markdown",
   "metadata": {},
   "source": [
    "Максимальная цена в 20k выглядит как явный выброс: по ней много больше придлжений, чем по ближайшим ценам. Впрочем, это может быть связано с эффектом \"круглого\" числа. Это подтверждается ярко выраженными всплесками возле нескольких \"круглых\" значений"
   ]
  },
  {
   "cell_type": "code",
   "execution_count": 24,
   "metadata": {},
   "outputs": [],
   "source": [
    "df = df[df[\"Price\"] > 0]"
   ]
  },
  {
   "cell_type": "code",
   "execution_count": 25,
   "metadata": {},
   "outputs": [
    {
     "name": "stdout",
     "output_type": "stream",
     "text": [
      "<class 'pandas.core.frame.DataFrame'>\n",
      "Int64Index: 296580 entries, 1 to 354368\n",
      "Data columns (total 11 columns):\n",
      " #   Column            Non-Null Count   Dtype \n",
      "---  ------            --------------   ----- \n",
      " 0   Price             296580 non-null  int64 \n",
      " 1   VehicleType       285533 non-null  object\n",
      " 2   RegistrationYear  296580 non-null  int64 \n",
      " 3   Gearbox           291202 non-null  object\n",
      " 4   Power             296580 non-null  int64 \n",
      " 5   Model             285430 non-null  object\n",
      " 6   Kilometer         296580 non-null  int64 \n",
      " 7   FuelType          280990 non-null  object\n",
      " 8   Brand             296580 non-null  object\n",
      " 9   NotRepaired       253611 non-null  object\n",
      " 10  AgeYears          296580 non-null  int64 \n",
      "dtypes: int64(5), object(6)\n",
      "memory usage: 27.2+ MB\n"
     ]
    }
   ],
   "source": [
    "df.info()"
   ]
  },
  {
   "cell_type": "code",
   "execution_count": 26,
   "metadata": {},
   "outputs": [],
   "source": [
    "df[[\"VehicleType\", \"Gearbox\", \"Model\", \"FuelType\", \"Brand\", \"NotRepaired\"]] = df[\n",
    "    [\"VehicleType\", \"Gearbox\", \"Model\", \"FuelType\", \"Brand\", \"NotRepaired\"]\n",
    "].astype(\"category\")"
   ]
  },
  {
   "cell_type": "code",
   "execution_count": 27,
   "metadata": {},
   "outputs": [
    {
     "name": "stdout",
     "output_type": "stream",
     "text": [
      "<class 'pandas.core.frame.DataFrame'>\n",
      "Int64Index: 296580 entries, 1 to 354368\n",
      "Data columns (total 11 columns):\n",
      " #   Column            Non-Null Count   Dtype   \n",
      "---  ------            --------------   -----   \n",
      " 0   Price             296580 non-null  int64   \n",
      " 1   VehicleType       285533 non-null  category\n",
      " 2   RegistrationYear  296580 non-null  int64   \n",
      " 3   Gearbox           291202 non-null  category\n",
      " 4   Power             296580 non-null  int64   \n",
      " 5   Model             285430 non-null  category\n",
      " 6   Kilometer         296580 non-null  int64   \n",
      " 7   FuelType          280990 non-null  category\n",
      " 8   Brand             296580 non-null  category\n",
      " 9   NotRepaired       253611 non-null  category\n",
      " 10  AgeYears          296580 non-null  int64   \n",
      "dtypes: category(6), int64(5)\n",
      "memory usage: 15.6 MB\n"
     ]
    }
   ],
   "source": [
    "df.info()"
   ]
  },
  {
   "cell_type": "code",
   "execution_count": 28,
   "metadata": {},
   "outputs": [],
   "source": [
    "X_train, X_valid, y_train, y_valid = train_test_split(\n",
    "    df.drop(\"Price\", axis=1), df[\"Price\"], test_size=0.25\n",
    ")"
   ]
  },
  {
   "cell_type": "markdown",
   "metadata": {},
   "source": [
    "Помимо этого набора данных, нам придётся сделать второй, чисто числовой, поскольку многие модели не умеют работать с категориальными данными. \n",
    "\n",
    "Преобразуем категориальные значения в числовые c учётом того, что все категориальные признаки являются номинативными, т.е. не предполагают упорядочености."
   ]
  },
  {
   "cell_type": "code",
   "execution_count": 29,
   "metadata": {
    "tags": []
   },
   "outputs": [
    {
     "data": {
      "text/plain": [
       "VehicleType      8\n",
       "Gearbox          2\n",
       "Model          249\n",
       "FuelType         7\n",
       "Brand           40\n",
       "NotRepaired      2\n",
       "dtype: int64"
      ]
     },
     "execution_count": 29,
     "metadata": {},
     "output_type": "execute_result"
    }
   ],
   "source": [
    "df[[\"VehicleType\", \"Gearbox\", \"Model\", \"FuelType\", \"Brand\", \"NotRepaired\"]].nunique()"
   ]
  },
  {
   "cell_type": "markdown",
   "metadata": {},
   "source": [
    "Как видно, большинство наших категориальных признаков имеет небольшую размерность. Для их кодирования можно использовать OHE. Исключени составляют Model и Brand. Для них используем HashingEncoder, который работает аналогично OHE, но благодаря хэшированию порождает меньше новых изменений. По умолчанию для кодирования используется 8 бит, чего хватит для кодирования 250 моделей."
   ]
  },
  {
   "cell_type": "code",
   "execution_count": 30,
   "metadata": {},
   "outputs": [],
   "source": [
    "df1 = df.copy()"
   ]
  },
  {
   "cell_type": "code",
   "execution_count": 31,
   "metadata": {},
   "outputs": [],
   "source": [
    "df1 = pd.get_dummies(\n",
    "    df1,\n",
    "    columns=[\"VehicleType\", \"Gearbox\", \"FuelType\", \"NotRepaired\"],\n",
    "    prefix=[\"VehicleType\", \"Gearbox\", \"FuelType\", \"NotRepaired\"],\n",
    "    dummy_na=True,\n",
    ")"
   ]
  },
  {
   "cell_type": "code",
   "execution_count": 32,
   "metadata": {},
   "outputs": [
    {
     "name": "stdout",
     "output_type": "stream",
     "text": [
      "CPU times: user 131 ms, sys: 246 ms, total: 378 ms\n",
      "Wall time: 1min 2s\n"
     ]
    }
   ],
   "source": [
    "%%time\n",
    "df1 = ce.hashing.HashingEncoder(cols=[\"Model\", \"Brand\"]).fit_transform(df1)"
   ]
  },
  {
   "cell_type": "code",
   "execution_count": 33,
   "metadata": {
    "scrolled": true
   },
   "outputs": [
    {
     "data": {
      "text/html": [
       "<div>\n",
       "<style scoped>\n",
       "    .dataframe tbody tr th:only-of-type {\n",
       "        vertical-align: middle;\n",
       "    }\n",
       "\n",
       "    .dataframe tbody tr th {\n",
       "        vertical-align: top;\n",
       "    }\n",
       "\n",
       "    .dataframe thead th {\n",
       "        text-align: right;\n",
       "    }\n",
       "</style>\n",
       "<table border=\"1\" class=\"dataframe\">\n",
       "  <thead>\n",
       "    <tr style=\"text-align: right;\">\n",
       "      <th></th>\n",
       "      <th>col_0</th>\n",
       "      <th>col_1</th>\n",
       "      <th>col_2</th>\n",
       "      <th>col_3</th>\n",
       "      <th>col_4</th>\n",
       "      <th>col_5</th>\n",
       "      <th>col_6</th>\n",
       "      <th>col_7</th>\n",
       "      <th>Price</th>\n",
       "      <th>RegistrationYear</th>\n",
       "      <th>Power</th>\n",
       "      <th>Kilometer</th>\n",
       "      <th>AgeYears</th>\n",
       "      <th>VehicleType_bus</th>\n",
       "      <th>VehicleType_convertible</th>\n",
       "      <th>VehicleType_coupe</th>\n",
       "      <th>VehicleType_other</th>\n",
       "      <th>VehicleType_sedan</th>\n",
       "      <th>VehicleType_small</th>\n",
       "      <th>VehicleType_suv</th>\n",
       "      <th>VehicleType_wagon</th>\n",
       "      <th>VehicleType_nan</th>\n",
       "      <th>Gearbox_auto</th>\n",
       "      <th>Gearbox_manual</th>\n",
       "      <th>Gearbox_nan</th>\n",
       "      <th>FuelType_cng</th>\n",
       "      <th>FuelType_electric</th>\n",
       "      <th>FuelType_gasoline</th>\n",
       "      <th>FuelType_hybrid</th>\n",
       "      <th>FuelType_lpg</th>\n",
       "      <th>FuelType_other</th>\n",
       "      <th>FuelType_petrol</th>\n",
       "      <th>FuelType_nan</th>\n",
       "      <th>NotRepaired_no</th>\n",
       "      <th>NotRepaired_yes</th>\n",
       "      <th>NotRepaired_nan</th>\n",
       "    </tr>\n",
       "  </thead>\n",
       "  <tbody>\n",
       "    <tr>\n",
       "      <th>1</th>\n",
       "      <td>2</td>\n",
       "      <td>0</td>\n",
       "      <td>0</td>\n",
       "      <td>0</td>\n",
       "      <td>0</td>\n",
       "      <td>0</td>\n",
       "      <td>0</td>\n",
       "      <td>0</td>\n",
       "      <td>18300</td>\n",
       "      <td>2011</td>\n",
       "      <td>190</td>\n",
       "      <td>125000</td>\n",
       "      <td>5</td>\n",
       "      <td>0</td>\n",
       "      <td>0</td>\n",
       "      <td>1</td>\n",
       "      <td>0</td>\n",
       "      <td>0</td>\n",
       "      <td>0</td>\n",
       "      <td>0</td>\n",
       "      <td>0</td>\n",
       "      <td>0</td>\n",
       "      <td>0</td>\n",
       "      <td>1</td>\n",
       "      <td>0</td>\n",
       "      <td>0</td>\n",
       "      <td>0</td>\n",
       "      <td>1</td>\n",
       "      <td>0</td>\n",
       "      <td>0</td>\n",
       "      <td>0</td>\n",
       "      <td>0</td>\n",
       "      <td>0</td>\n",
       "      <td>0</td>\n",
       "      <td>1</td>\n",
       "      <td>0</td>\n",
       "    </tr>\n",
       "    <tr>\n",
       "      <th>2</th>\n",
       "      <td>0</td>\n",
       "      <td>1</td>\n",
       "      <td>1</td>\n",
       "      <td>0</td>\n",
       "      <td>0</td>\n",
       "      <td>0</td>\n",
       "      <td>0</td>\n",
       "      <td>0</td>\n",
       "      <td>9800</td>\n",
       "      <td>2004</td>\n",
       "      <td>163</td>\n",
       "      <td>125000</td>\n",
       "      <td>12</td>\n",
       "      <td>0</td>\n",
       "      <td>0</td>\n",
       "      <td>0</td>\n",
       "      <td>0</td>\n",
       "      <td>0</td>\n",
       "      <td>0</td>\n",
       "      <td>1</td>\n",
       "      <td>0</td>\n",
       "      <td>0</td>\n",
       "      <td>1</td>\n",
       "      <td>0</td>\n",
       "      <td>0</td>\n",
       "      <td>0</td>\n",
       "      <td>0</td>\n",
       "      <td>1</td>\n",
       "      <td>0</td>\n",
       "      <td>0</td>\n",
       "      <td>0</td>\n",
       "      <td>0</td>\n",
       "      <td>0</td>\n",
       "      <td>0</td>\n",
       "      <td>0</td>\n",
       "      <td>1</td>\n",
       "    </tr>\n",
       "    <tr>\n",
       "      <th>3</th>\n",
       "      <td>0</td>\n",
       "      <td>0</td>\n",
       "      <td>0</td>\n",
       "      <td>0</td>\n",
       "      <td>0</td>\n",
       "      <td>0</td>\n",
       "      <td>1</td>\n",
       "      <td>1</td>\n",
       "      <td>1500</td>\n",
       "      <td>2001</td>\n",
       "      <td>75</td>\n",
       "      <td>150000</td>\n",
       "      <td>15</td>\n",
       "      <td>0</td>\n",
       "      <td>0</td>\n",
       "      <td>0</td>\n",
       "      <td>0</td>\n",
       "      <td>0</td>\n",
       "      <td>1</td>\n",
       "      <td>0</td>\n",
       "      <td>0</td>\n",
       "      <td>0</td>\n",
       "      <td>0</td>\n",
       "      <td>1</td>\n",
       "      <td>0</td>\n",
       "      <td>0</td>\n",
       "      <td>0</td>\n",
       "      <td>0</td>\n",
       "      <td>0</td>\n",
       "      <td>0</td>\n",
       "      <td>0</td>\n",
       "      <td>1</td>\n",
       "      <td>0</td>\n",
       "      <td>1</td>\n",
       "      <td>0</td>\n",
       "      <td>0</td>\n",
       "    </tr>\n",
       "    <tr>\n",
       "      <th>4</th>\n",
       "      <td>0</td>\n",
       "      <td>0</td>\n",
       "      <td>1</td>\n",
       "      <td>1</td>\n",
       "      <td>0</td>\n",
       "      <td>0</td>\n",
       "      <td>0</td>\n",
       "      <td>0</td>\n",
       "      <td>3600</td>\n",
       "      <td>2008</td>\n",
       "      <td>69</td>\n",
       "      <td>90000</td>\n",
       "      <td>8</td>\n",
       "      <td>0</td>\n",
       "      <td>0</td>\n",
       "      <td>0</td>\n",
       "      <td>0</td>\n",
       "      <td>0</td>\n",
       "      <td>1</td>\n",
       "      <td>0</td>\n",
       "      <td>0</td>\n",
       "      <td>0</td>\n",
       "      <td>0</td>\n",
       "      <td>1</td>\n",
       "      <td>0</td>\n",
       "      <td>0</td>\n",
       "      <td>0</td>\n",
       "      <td>1</td>\n",
       "      <td>0</td>\n",
       "      <td>0</td>\n",
       "      <td>0</td>\n",
       "      <td>0</td>\n",
       "      <td>0</td>\n",
       "      <td>1</td>\n",
       "      <td>0</td>\n",
       "      <td>0</td>\n",
       "    </tr>\n",
       "    <tr>\n",
       "      <th>5</th>\n",
       "      <td>0</td>\n",
       "      <td>0</td>\n",
       "      <td>0</td>\n",
       "      <td>0</td>\n",
       "      <td>1</td>\n",
       "      <td>1</td>\n",
       "      <td>0</td>\n",
       "      <td>0</td>\n",
       "      <td>650</td>\n",
       "      <td>1995</td>\n",
       "      <td>102</td>\n",
       "      <td>150000</td>\n",
       "      <td>21</td>\n",
       "      <td>0</td>\n",
       "      <td>0</td>\n",
       "      <td>0</td>\n",
       "      <td>0</td>\n",
       "      <td>1</td>\n",
       "      <td>0</td>\n",
       "      <td>0</td>\n",
       "      <td>0</td>\n",
       "      <td>0</td>\n",
       "      <td>0</td>\n",
       "      <td>1</td>\n",
       "      <td>0</td>\n",
       "      <td>0</td>\n",
       "      <td>0</td>\n",
       "      <td>0</td>\n",
       "      <td>0</td>\n",
       "      <td>0</td>\n",
       "      <td>0</td>\n",
       "      <td>1</td>\n",
       "      <td>0</td>\n",
       "      <td>0</td>\n",
       "      <td>1</td>\n",
       "      <td>0</td>\n",
       "    </tr>\n",
       "  </tbody>\n",
       "</table>\n",
       "</div>"
      ],
      "text/plain": [
       "   col_0  col_1  col_2  col_3  col_4  col_5  col_6  col_7  Price  \\\n",
       "1      2      0      0      0      0      0      0      0  18300   \n",
       "2      0      1      1      0      0      0      0      0   9800   \n",
       "3      0      0      0      0      0      0      1      1   1500   \n",
       "4      0      0      1      1      0      0      0      0   3600   \n",
       "5      0      0      0      0      1      1      0      0    650   \n",
       "\n",
       "   RegistrationYear  Power  Kilometer  AgeYears  VehicleType_bus  \\\n",
       "1              2011    190     125000         5                0   \n",
       "2              2004    163     125000        12                0   \n",
       "3              2001     75     150000        15                0   \n",
       "4              2008     69      90000         8                0   \n",
       "5              1995    102     150000        21                0   \n",
       "\n",
       "   VehicleType_convertible  VehicleType_coupe  VehicleType_other  \\\n",
       "1                        0                  1                  0   \n",
       "2                        0                  0                  0   \n",
       "3                        0                  0                  0   \n",
       "4                        0                  0                  0   \n",
       "5                        0                  0                  0   \n",
       "\n",
       "   VehicleType_sedan  VehicleType_small  VehicleType_suv  VehicleType_wagon  \\\n",
       "1                  0                  0                0                  0   \n",
       "2                  0                  0                1                  0   \n",
       "3                  0                  1                0                  0   \n",
       "4                  0                  1                0                  0   \n",
       "5                  1                  0                0                  0   \n",
       "\n",
       "   VehicleType_nan  Gearbox_auto  Gearbox_manual  Gearbox_nan  FuelType_cng  \\\n",
       "1                0             0               1            0             0   \n",
       "2                0             1               0            0             0   \n",
       "3                0             0               1            0             0   \n",
       "4                0             0               1            0             0   \n",
       "5                0             0               1            0             0   \n",
       "\n",
       "   FuelType_electric  FuelType_gasoline  FuelType_hybrid  FuelType_lpg  \\\n",
       "1                  0                  1                0             0   \n",
       "2                  0                  1                0             0   \n",
       "3                  0                  0                0             0   \n",
       "4                  0                  1                0             0   \n",
       "5                  0                  0                0             0   \n",
       "\n",
       "   FuelType_other  FuelType_petrol  FuelType_nan  NotRepaired_no  \\\n",
       "1               0                0             0               0   \n",
       "2               0                0             0               0   \n",
       "3               0                1             0               1   \n",
       "4               0                0             0               1   \n",
       "5               0                1             0               0   \n",
       "\n",
       "   NotRepaired_yes  NotRepaired_nan  \n",
       "1                1                0  \n",
       "2                0                1  \n",
       "3                0                0  \n",
       "4                0                0  \n",
       "5                1                0  "
      ]
     },
     "execution_count": 33,
     "metadata": {},
     "output_type": "execute_result"
    }
   ],
   "source": [
    "df1.head()"
   ]
  },
  {
   "cell_type": "markdown",
   "metadata": {},
   "source": [
    "В итоге мы упаковали 250х40 значений модель-бренд в 8 новых измерений. Платой за такую компактнойсть стало, в частности, время вычисления, которе для нашего не очень большого датасета составила почти минуту."
   ]
  },
  {
   "cell_type": "code",
   "execution_count": 34,
   "metadata": {},
   "outputs": [],
   "source": [
    "X1_train, X1_valid, y1_train, y1_valid = train_test_split(\n",
    "    df1.drop(\"Price\", axis=1), df1[\"Price\"], test_size=0.2\n",
    ")"
   ]
  },
  {
   "cell_type": "markdown",
   "metadata": {},
   "source": [
    "Поскольку полного консенсуса по кодированию категориальных признаков нет, как альтернативу рассмотрим простое, но широко роаспространённое OrdinalEncoding и посмотрим, какой из методов покажет лучшие результаты на моделях на основе деревьев. Для линейной регрессии OrdinalEncoding не подойдёт."
   ]
  },
  {
   "cell_type": "code",
   "execution_count": 40,
   "metadata": {},
   "outputs": [],
   "source": [
    "df2 = df.copy()"
   ]
  },
  {
   "cell_type": "code",
   "execution_count": 41,
   "metadata": {},
   "outputs": [
    {
     "data": {
      "text/html": [
       "<div>\n",
       "<style scoped>\n",
       "    .dataframe tbody tr th:only-of-type {\n",
       "        vertical-align: middle;\n",
       "    }\n",
       "\n",
       "    .dataframe tbody tr th {\n",
       "        vertical-align: top;\n",
       "    }\n",
       "\n",
       "    .dataframe thead th {\n",
       "        text-align: right;\n",
       "    }\n",
       "</style>\n",
       "<table border=\"1\" class=\"dataframe\">\n",
       "  <thead>\n",
       "    <tr style=\"text-align: right;\">\n",
       "      <th></th>\n",
       "      <th>Price</th>\n",
       "      <th>VehicleType</th>\n",
       "      <th>RegistrationYear</th>\n",
       "      <th>Gearbox</th>\n",
       "      <th>Power</th>\n",
       "      <th>Model</th>\n",
       "      <th>Kilometer</th>\n",
       "      <th>FuelType</th>\n",
       "      <th>Brand</th>\n",
       "      <th>NotRepaired</th>\n",
       "      <th>AgeYears</th>\n",
       "    </tr>\n",
       "  </thead>\n",
       "  <tbody>\n",
       "    <tr>\n",
       "      <th>1</th>\n",
       "      <td>18300</td>\n",
       "      <td>2.0</td>\n",
       "      <td>2011</td>\n",
       "      <td>1.0</td>\n",
       "      <td>190</td>\n",
       "      <td>-1.0</td>\n",
       "      <td>125000</td>\n",
       "      <td>2.0</td>\n",
       "      <td>1.0</td>\n",
       "      <td>1.0</td>\n",
       "      <td>5</td>\n",
       "    </tr>\n",
       "    <tr>\n",
       "      <th>2</th>\n",
       "      <td>9800</td>\n",
       "      <td>6.0</td>\n",
       "      <td>2004</td>\n",
       "      <td>0.0</td>\n",
       "      <td>163</td>\n",
       "      <td>117.0</td>\n",
       "      <td>125000</td>\n",
       "      <td>2.0</td>\n",
       "      <td>14.0</td>\n",
       "      <td>-1.0</td>\n",
       "      <td>12</td>\n",
       "    </tr>\n",
       "    <tr>\n",
       "      <th>3</th>\n",
       "      <td>1500</td>\n",
       "      <td>5.0</td>\n",
       "      <td>2001</td>\n",
       "      <td>1.0</td>\n",
       "      <td>75</td>\n",
       "      <td>116.0</td>\n",
       "      <td>150000</td>\n",
       "      <td>6.0</td>\n",
       "      <td>38.0</td>\n",
       "      <td>0.0</td>\n",
       "      <td>15</td>\n",
       "    </tr>\n",
       "    <tr>\n",
       "      <th>4</th>\n",
       "      <td>3600</td>\n",
       "      <td>5.0</td>\n",
       "      <td>2008</td>\n",
       "      <td>1.0</td>\n",
       "      <td>69</td>\n",
       "      <td>101.0</td>\n",
       "      <td>90000</td>\n",
       "      <td>2.0</td>\n",
       "      <td>31.0</td>\n",
       "      <td>0.0</td>\n",
       "      <td>8</td>\n",
       "    </tr>\n",
       "    <tr>\n",
       "      <th>5</th>\n",
       "      <td>650</td>\n",
       "      <td>4.0</td>\n",
       "      <td>1995</td>\n",
       "      <td>1.0</td>\n",
       "      <td>102</td>\n",
       "      <td>11.0</td>\n",
       "      <td>150000</td>\n",
       "      <td>6.0</td>\n",
       "      <td>2.0</td>\n",
       "      <td>1.0</td>\n",
       "      <td>21</td>\n",
       "    </tr>\n",
       "  </tbody>\n",
       "</table>\n",
       "</div>"
      ],
      "text/plain": [
       "   Price  VehicleType  RegistrationYear  Gearbox  Power  Model  Kilometer  \\\n",
       "1  18300          2.0              2011      1.0    190   -1.0     125000   \n",
       "2   9800          6.0              2004      0.0    163  117.0     125000   \n",
       "3   1500          5.0              2001      1.0     75  116.0     150000   \n",
       "4   3600          5.0              2008      1.0     69  101.0      90000   \n",
       "5    650          4.0              1995      1.0    102   11.0     150000   \n",
       "\n",
       "   FuelType  Brand  NotRepaired  AgeYears  \n",
       "1       2.0    1.0          1.0         5  \n",
       "2       2.0   14.0         -1.0        12  \n",
       "3       6.0   38.0          0.0        15  \n",
       "4       2.0   31.0          0.0         8  \n",
       "5       6.0    2.0          1.0        21  "
      ]
     },
     "execution_count": 41,
     "metadata": {},
     "output_type": "execute_result"
    }
   ],
   "source": [
    "oe = OrdinalEncoder()\n",
    "df2[[\"VehicleType\", \"Gearbox\", \"FuelType\", \"NotRepaired\", \"Model\", \"Brand\"]] = oe.fit_transform(\n",
    "    df2[[\"VehicleType\", \"Gearbox\", \"FuelType\", \"NotRepaired\", \"Model\", \"Brand\"]]\n",
    ")\n",
    "df2 = df2.fillna(-1)\n",
    "df2.head()"
   ]
  },
  {
   "cell_type": "code",
   "execution_count": 42,
   "metadata": {},
   "outputs": [],
   "source": [
    "X2_train, X2_valid, y2_train, y2_valid = train_test_split(\n",
    "    df2.drop(\"Price\", axis=1), df2[\"Price\"], test_size=0.2\n",
    ")"
   ]
  },
  {
   "cell_type": "markdown",
   "metadata": {},
   "source": [
    "## Обучение моделей\n",
    "\n",
    "### Линейная регрессия\n",
    "\n",
    "Начнём с самой просто й модели: линейной регрессии. Она не умеет работать с параметрами иных типов нежели числовые, так что приведём всё к вещественным и обучим модель"
   ]
  },
  {
   "cell_type": "code",
   "execution_count": 43,
   "metadata": {},
   "outputs": [
    {
     "name": "stdout",
     "output_type": "stream",
     "text": [
      "CPU times: user 1.78 s, sys: 479 ms, total: 2.26 s\n",
      "Wall time: 461 ms\n"
     ]
    }
   ],
   "source": [
    "%%time\n",
    "lr_model = LinearRegression(n_jobs=-1).fit(X1_train, y1_train)"
   ]
  },
  {
   "cell_type": "code",
   "execution_count": 44,
   "metadata": {
    "scrolled": true
   },
   "outputs": [
    {
     "name": "stdout",
     "output_type": "stream",
     "text": [
      "CPU times: user 43.2 ms, sys: 37.3 ms, total: 80.5 ms\n",
      "Wall time: 22.1 ms\n"
     ]
    },
    {
     "data": {
      "text/plain": [
       "2955.1185233138553"
      ]
     },
     "execution_count": 44,
     "metadata": {},
     "output_type": "execute_result"
    }
   ],
   "source": [
    "%%time\n",
    "mean_squared_error(y1_valid, lr_model.predict(X1_valid)) ** 0.5"
   ]
  },
  {
   "cell_type": "markdown",
   "metadata": {},
   "source": [
    "### Решающее дерево\n",
    "\n",
    "Далее попробуем использовать регрессор на решающем дереве"
   ]
  },
  {
   "cell_type": "code",
   "execution_count": 50,
   "metadata": {},
   "outputs": [],
   "source": [
    "dtr_model1 = DecisionTreeRegressor(random_state=42)"
   ]
  },
  {
   "cell_type": "code",
   "execution_count": 51,
   "metadata": {},
   "outputs": [
    {
     "name": "stdout",
     "output_type": "stream",
     "text": [
      "CPU times: user 1.4 s, sys: 19.1 ms, total: 1.42 s\n",
      "Wall time: 1.42 s\n"
     ]
    },
    {
     "data": {
      "text/plain": [
       "DecisionTreeRegressor(random_state=42)"
      ]
     },
     "execution_count": 51,
     "metadata": {},
     "output_type": "execute_result"
    }
   ],
   "source": [
    "%%time\n",
    "dtr_model1.fit(X1_train, y1_train)"
   ]
  },
  {
   "cell_type": "code",
   "execution_count": 52,
   "metadata": {},
   "outputs": [
    {
     "name": "stdout",
     "output_type": "stream",
     "text": [
      "CPU times: user 36 ms, sys: 375 µs, total: 36.4 ms\n",
      "Wall time: 34.5 ms\n"
     ]
    },
    {
     "data": {
      "text/plain": [
       "1911.8985845210848"
      ]
     },
     "execution_count": 52,
     "metadata": {},
     "output_type": "execute_result"
    }
   ],
   "source": [
    "%%time\n",
    "mean_squared_error(y1_valid, dtr_model1.predict(X1_valid)) ** 0.5"
   ]
  },
  {
   "cell_type": "markdown",
   "metadata": {},
   "source": [
    "И тоже самое на `df2`"
   ]
  },
  {
   "cell_type": "code",
   "execution_count": 53,
   "metadata": {},
   "outputs": [],
   "source": [
    "dtr_model2 = DecisionTreeRegressor(random_state=42)"
   ]
  },
  {
   "cell_type": "code",
   "execution_count": 54,
   "metadata": {},
   "outputs": [
    {
     "name": "stdout",
     "output_type": "stream",
     "text": [
      "CPU times: user 769 ms, sys: 0 ns, total: 769 ms\n",
      "Wall time: 768 ms\n"
     ]
    },
    {
     "data": {
      "text/plain": [
       "DecisionTreeRegressor(random_state=42)"
      ]
     },
     "execution_count": 54,
     "metadata": {},
     "output_type": "execute_result"
    }
   ],
   "source": [
    "%%time\n",
    "dtr_model2.fit(X2_train, y2_train)"
   ]
  },
  {
   "cell_type": "code",
   "execution_count": 55,
   "metadata": {},
   "outputs": [
    {
     "name": "stdout",
     "output_type": "stream",
     "text": [
      "CPU times: user 25.1 ms, sys: 3.73 ms, total: 28.8 ms\n",
      "Wall time: 27.1 ms\n"
     ]
    },
    {
     "data": {
      "text/plain": [
       "1897.8440206294372"
      ]
     },
     "execution_count": 55,
     "metadata": {},
     "output_type": "execute_result"
    }
   ],
   "source": [
    "%%time\n",
    "mean_squared_error(y2_valid, dtr_model2.predict(X2_valid)) ** 0.5"
   ]
  },
  {
   "cell_type": "markdown",
   "metadata": {},
   "source": [
    "Время обучения на втором датафрейме (с OrdinalEncoder) уменьшилось вдвое, ошибка так же уменьшилась, но незначительно (меньше процента).\n",
    "\n",
    "Поскольку дерево обучается быстро, можно подобрать гиперпараметры простым перебором по сетке: "
   ]
  },
  {
   "cell_type": "code",
   "execution_count": 56,
   "metadata": {},
   "outputs": [],
   "source": [
    "gs_dtr1 = GridSearchCV(\n",
    "    estimator=dtr_model1,\n",
    "    param_grid={\n",
    "        \"max_depth\": range(2, 52 + 1, 10),\n",
    "        \"min_samples_split\": range(2, 10 + 1, 2),\n",
    "        \"min_samples_leaf\": range(1, 5 + 1),\n",
    "    },\n",
    "    cv=3,\n",
    "    n_jobs=-1,\n",
    "    scoring=\"neg_root_mean_squared_error\",\n",
    ")"
   ]
  },
  {
   "cell_type": "code",
   "execution_count": 57,
   "metadata": {},
   "outputs": [
    {
     "name": "stdout",
     "output_type": "stream",
     "text": [
      "CPU times: user 4.06 s, sys: 1.14 s, total: 5.21 s\n",
      "Wall time: 2min 22s\n"
     ]
    },
    {
     "data": {
      "text/plain": [
       "GridSearchCV(cv=3, estimator=DecisionTreeRegressor(random_state=42), n_jobs=-1,\n",
       "             param_grid={'max_depth': range(2, 53, 10),\n",
       "                         'min_samples_leaf': range(1, 6),\n",
       "                         'min_samples_split': range(2, 11, 2)},\n",
       "             scoring='neg_root_mean_squared_error')"
      ]
     },
     "execution_count": 57,
     "metadata": {},
     "output_type": "execute_result"
    }
   ],
   "source": [
    "%%time\n",
    "gs_dtr1.fit(X1_train, y1_train)"
   ]
  },
  {
   "cell_type": "code",
   "execution_count": 58,
   "metadata": {},
   "outputs": [
    {
     "name": "stdout",
     "output_type": "stream",
     "text": [
      "CPU times: user 25.3 ms, sys: 8.18 ms, total: 33.5 ms\n",
      "Wall time: 31.2 ms\n"
     ]
    },
    {
     "data": {
      "text/plain": [
       "1755.073491908329"
      ]
     },
     "execution_count": 58,
     "metadata": {},
     "output_type": "execute_result"
    }
   ],
   "source": [
    "%%time\n",
    "mean_squared_error(y1_valid, gs_dtr1.best_estimator_.predict(X1_valid)) ** 0.5"
   ]
  },
  {
   "cell_type": "code",
   "execution_count": 59,
   "metadata": {},
   "outputs": [],
   "source": [
    "gs_dtr2 = GridSearchCV(\n",
    "    estimator=dtr_model2,\n",
    "    param_grid={\n",
    "        \"max_depth\": range(2, 52 + 1, 10),\n",
    "        \"min_samples_split\": range(2, 10 + 1, 2),\n",
    "        \"min_samples_leaf\": range(1, 5 + 1),\n",
    "    },\n",
    "    cv=3,\n",
    "    n_jobs=-1,\n",
    "    scoring=\"neg_root_mean_squared_error\",\n",
    ")"
   ]
  },
  {
   "cell_type": "code",
   "execution_count": 60,
   "metadata": {},
   "outputs": [
    {
     "name": "stdout",
     "output_type": "stream",
     "text": [
      "CPU times: user 2.94 s, sys: 919 ms, total: 3.85 s\n",
      "Wall time: 1min 3s\n"
     ]
    },
    {
     "data": {
      "text/plain": [
       "GridSearchCV(cv=3, estimator=DecisionTreeRegressor(random_state=42), n_jobs=-1,\n",
       "             param_grid={'max_depth': range(2, 53, 10),\n",
       "                         'min_samples_leaf': range(1, 6),\n",
       "                         'min_samples_split': range(2, 11, 2)},\n",
       "             scoring='neg_root_mean_squared_error')"
      ]
     },
     "execution_count": 60,
     "metadata": {},
     "output_type": "execute_result"
    }
   ],
   "source": [
    "%%time\n",
    "gs_dtr2.fit(X2_train, y2_train)"
   ]
  },
  {
   "cell_type": "code",
   "execution_count": 61,
   "metadata": {},
   "outputs": [
    {
     "name": "stdout",
     "output_type": "stream",
     "text": [
      "CPU times: user 19.9 ms, sys: 0 ns, total: 19.9 ms\n",
      "Wall time: 18.3 ms\n"
     ]
    },
    {
     "data": {
      "text/plain": [
       "1723.6206663125454"
      ]
     },
     "execution_count": 61,
     "metadata": {},
     "output_type": "execute_result"
    }
   ],
   "source": [
    "%%time\n",
    "mean_squared_error(y2_valid, gs_dtr2.best_estimator_.predict(X2_valid)) ** 0.5"
   ]
  },
  {
   "cell_type": "markdown",
   "metadata": {},
   "source": [
    "После подбора гиперпараметров решающего дерева, результаты датафреймов с разными методами кодирования также отличаются незначительно. Уменьшение времени обучения примерно вдвое при переходе на OrdinalEncoder на лицо."
   ]
  },
  {
   "cell_type": "markdown",
   "metadata": {},
   "source": [
    "### Случайный лес\n",
    "\n",
    "Следующий класс моделей &mdash; случайный лес. Для начала в дефолтных настройках"
   ]
  },
  {
   "cell_type": "code",
   "execution_count": 62,
   "metadata": {},
   "outputs": [],
   "source": [
    "rfr_model1 = RandomForestRegressor(n_jobs=-1, random_state=42)"
   ]
  },
  {
   "cell_type": "code",
   "execution_count": 63,
   "metadata": {},
   "outputs": [
    {
     "name": "stdout",
     "output_type": "stream",
     "text": [
      "CPU times: user 4min 17s, sys: 1.24 s, total: 4min 19s\n",
      "Wall time: 34.5 s\n"
     ]
    },
    {
     "data": {
      "text/plain": [
       "RandomForestRegressor(n_jobs=-1, random_state=42)"
      ]
     },
     "execution_count": 63,
     "metadata": {},
     "output_type": "execute_result"
    }
   ],
   "source": [
    "%%time\n",
    "rfr_model1.fit(X1_train, y1_train)"
   ]
  },
  {
   "cell_type": "code",
   "execution_count": 64,
   "metadata": {},
   "outputs": [
    {
     "name": "stdout",
     "output_type": "stream",
     "text": [
      "CPU times: user 4.62 s, sys: 32.6 ms, total: 4.65 s\n",
      "Wall time: 639 ms\n"
     ]
    },
    {
     "data": {
      "text/plain": [
       "1595.8231888779237"
      ]
     },
     "execution_count": 64,
     "metadata": {},
     "output_type": "execute_result"
    }
   ],
   "source": [
    "%%time\n",
    "mean_squared_error(y1_valid, rfr_model1.predict(X1_valid)) ** 0.5"
   ]
  },
  {
   "cell_type": "code",
   "execution_count": 65,
   "metadata": {},
   "outputs": [],
   "source": [
    "rfr_model2 = RandomForestRegressor(n_jobs=-1, random_state=42)"
   ]
  },
  {
   "cell_type": "code",
   "execution_count": 66,
   "metadata": {},
   "outputs": [
    {
     "name": "stdout",
     "output_type": "stream",
     "text": [
      "CPU times: user 1min 55s, sys: 706 ms, total: 1min 55s\n",
      "Wall time: 15.2 s\n"
     ]
    },
    {
     "data": {
      "text/plain": [
       "RandomForestRegressor(n_jobs=-1, random_state=42)"
      ]
     },
     "execution_count": 66,
     "metadata": {},
     "output_type": "execute_result"
    }
   ],
   "source": [
    "%%time\n",
    "rfr_model2.fit(X2_train, y2_train)"
   ]
  },
  {
   "cell_type": "code",
   "execution_count": 67,
   "metadata": {},
   "outputs": [
    {
     "name": "stdout",
     "output_type": "stream",
     "text": [
      "CPU times: user 4.56 s, sys: 19.8 ms, total: 4.58 s\n",
      "Wall time: 664 ms\n"
     ]
    },
    {
     "data": {
      "text/plain": [
       "1561.014690426967"
      ]
     },
     "execution_count": 67,
     "metadata": {},
     "output_type": "execute_result"
    }
   ],
   "source": [
    "%%time\n",
    "mean_squared_error(y2_valid, rfr_model2.predict(X2_valid)) ** 0.5"
   ]
  },
  {
   "cell_type": "markdown",
   "metadata": {},
   "source": [
    "Видно, что случайный лес показывает меньшую ошибку, чем отдельное дерево и тем более линейная регрессия. Платой за точность является существенно, на порядок, возросшее время на обучения модели и на прогнозирование. \n",
    "\n",
    "Что же касается методов кодирования категориальных переменных, то по скоорстим обучения вновь двухкратно лидирует ordinalEncoder, тогда как измение ошибки находится в пределах 2%. В целом, можно сделать вывод, что на моделях, основанных на деревьях простой и быстрый OrdinalEncoder действительно имеет приемущество: если точность предсказаний почти не меняется, то время обучения снижается значительно. А если нет разницы...?"
   ]
  },
  {
   "cell_type": "markdown",
   "metadata": {},
   "source": [
    "### Градиентный бустинг\n",
    "\n",
    "Наконец, посмотрим, что нам даст применение градиентного бустинга. Используем модуль `LightGBM`, Опять же, начнём со значений по умолчанию:"
   ]
  },
  {
   "cell_type": "code",
   "execution_count": 46,
   "metadata": {},
   "outputs": [],
   "source": [
    "lgr_model = LGBMRegressor(random_state=42, n_jobs=-1)"
   ]
  },
  {
   "cell_type": "code",
   "execution_count": 47,
   "metadata": {},
   "outputs": [
    {
     "data": {},
     "execution_count": 47,
     "metadata": {},
     "output_type": "execute_result"
    }
   ],
   "source": [
    "%%time\n",
    "lgr_model.fit(X_train, y_train)"
   ]
  },
  {
   "cell_type": "code",
   "execution_count": 48,
   "metadata": {},
   "outputs": [
    {
     "data": {},
     "execution_count": 48,
     "metadata": {},
     "output_type": "execute_result"
    }
   ],
   "source": [
    "%%time\n",
    "mean_squared_error(y_valid, lgr_model.predict(X_valid)) ** 0.5"
   ]
  },
  {
   "cell_type": "markdown",
   "metadata": {},
   "source": [
    "Что тут интересно. Ошибка прогнозирования LightGBM со значениями по умолчанию сравнима с аналогичной моделью случайного леса, но скорость работы существенно выше и сравнима с одиночным решающим деревом"
   ]
  },
  {
   "cell_type": "markdown",
   "metadata": {},
   "source": [
    "Попробуем улучшить результаты LightGBM за счёт оптимизации гиперпараметров. Наиболее перспективными представляются следующие: `n_estimators`, `max_depth`, `num_leaves`, `min_split_gain` и `min_child_weight`. На одной машине без мощной видеокарты нам вряд ли удастся перебрать все перспективные значения параметров, так что попробуем как и в прошлые разы использовать случайный поиск, чтобы выявить наиболее важные признаки и сузить круг поиска оптимума. "
   ]
  },
  {
   "cell_type": "code",
   "execution_count": 55,
   "metadata": {
    "tags": []
   },
   "outputs": [],
   "source": [
    "param_dist = {\n",
    "    \"n_estimators\": [int(x) for x in np.linspace(start=20, stop=300, num=20)],\n",
    "    \"max_depth\": [int(x) for x in np.linspace(start=5, stop=50, num=10)],\n",
    "    \"min_split_gain\": [0.01, 0.1, 1, 2, 10],\n",
    "    \"min_child_weight\": [int(x) for x in np.linspace(start=25, stop=150, num=15)],\n",
    "}\n",
    "rs_lgr = RandomizedSearchCV(\n",
    "    lgr_model,\n",
    "    param_dist,\n",
    "    n_iter=50,\n",
    "    cv=3,\n",
    "    verbose=1,\n",
    "    n_jobs=-1,\n",
    "    random_state=42,\n",
    ")"
   ]
  },
  {
   "cell_type": "code",
   "execution_count": 56,
   "metadata": {
    "tags": []
   },
   "outputs": [
    {
     "data": {},
     "execution_count": 56,
     "metadata": {},
     "output_type": "execute_result"
    }
   ],
   "source": [
    "%%time\n",
    "rs_lgr.fit(X_train, y_train)\n",
    "rs_lgr.best_params_"
   ]
  },
  {
   "cell_type": "code",
   "execution_count": 57,
   "metadata": {},
   "outputs": [],
   "source": [
    "rs_lgr_df = (\n",
    "    pd.DataFrame(rs_lgr.cv_results_)\n",
    "    .sort_values(\"rank_test_score\")\n",
    "    .reset_index(drop=True)\n",
    ")\n",
    "rs_lgr_df = rs_lgr_df.drop(\n",
    "    [\n",
    "        \"mean_fit_time\",\n",
    "        \"std_fit_time\",\n",
    "        \"mean_score_time\",\n",
    "        \"std_score_time\",\n",
    "        \"params\",\n",
    "        \"split0_test_score\",\n",
    "        \"split1_test_score\",\n",
    "        \"std_test_score\",\n",
    "    ],\n",
    "    axis=1,\n",
    ")"
   ]
  },
  {
   "cell_type": "code",
   "execution_count": 59,
   "metadata": {},
   "outputs": [
    {
     "data": {
      "image/png": "[encoded data removed]"
     },
     "metadata": {
      "needs_background": "light"
     },
     "output_type": "display_data"
    }
   ],
   "source": [
    "fig, axs = plt.subplots(2, 2, figsize=(20, 15), sharey=True)\n",
    "sns.barplot(\n",
    "    x=\"param_n_estimators\",\n",
    "    y=\"mean_test_score\",\n",
    "    data=rs_lgr_df,\n",
    "    ax=axs[0, 0],\n",
    "    color=\"skyblue\",\n",
    ")\n",
    "axs[0, 0].set_ylim([0.85, 0.9])\n",
    "axs[0, 0].set_title(label=\"n_estimators\")\n",
    "sns.barplot(\n",
    "    x=\"param_max_depth\",\n",
    "    y=\"mean_test_score\",\n",
    "    data=rs_lgr_df,\n",
    "    ax=axs[0, 1],\n",
    "    color=\"skyblue\",\n",
    ")\n",
    "axs[0, 1].set_title(label=\"max_depth\")\n",
    "sns.barplot(\n",
    "    x=\"param_min_split_gain\",\n",
    "    y=\"mean_test_score\",\n",
    "    data=rs_lgr_df,\n",
    "    ax=axs[1, 0],\n",
    "    color=\"skyblue\",\n",
    ")\n",
    "axs[1, 0].set_title(label=\"min_split_gain\")\n",
    "\n",
    "sns.barplot(\n",
    "    x=\"param_min_child_weight\",\n",
    "    y=\"mean_test_score\",\n",
    "    data=rs_lgr_df,\n",
    "    ax=axs[1, 1],\n",
    "    color=\"skyblue\",\n",
    ")\n",
    "axs[1, 1].set_title(label=\"min_child_weight\");"
   ]
  },
  {
   "cell_type": "code",
   "execution_count": 60,
   "metadata": {},
   "outputs": [],
   "source": [
    "gs_lgr = GridSearchCV(\n",
    "    estimator=lgr_model,\n",
    "    param_grid={\n",
    "        \"n_estimators\": [110, 115, 120, 125, 130],\n",
    "        \"max_depth\": [18, 20, 22, 50, 55],\n",
    "        \"min_split_gain\": [1],\n",
    "        \"min_child_weight\": [60],\n",
    "    },\n",
    "    cv=3,\n",
    "    n_jobs=-1,\n",
    "    scoring=\"neg_root_mean_squared_error\",\n",
    ")"
   ]
  },
  {
   "cell_type": "code",
   "execution_count": 61,
   "metadata": {
    "tags": []
   },
   "outputs": [
    {
     "data": {},
     "execution_count": 61,
     "metadata": {},
     "output_type": "execute_result"
    }
   ],
   "source": [
    "%%time\n",
    "gs_lgr.fit(X_train, y_train)"
   ]
  },
  {
   "cell_type": "code",
   "execution_count": 62,
   "metadata": {},
   "outputs": [
    {
     "data": {},
     "execution_count": 62,
     "metadata": {},
     "output_type": "execute_result"
    }
   ],
   "source": [
    "%%time\n",
    "mean_squared_error(y_valid, gs_lgr.best_estimator_.predict(X_valid)) ** 0.5"
   ]
  },
  {
   "cell_type": "markdown",
   "metadata": {
    "tags": []
   },
   "source": [
    "## Анализ моделей\n",
    "\n",
    "Перейдём к анализу исследованных моделей. Все выводы будем делать в рамках заданного бизнесом критерия качества работы молелеё цены: минимизации средне-квадратичной ошибки."
   ]
  },
  {
   "cell_type": "markdown",
   "metadata": {},
   "source": [
    "### Линейная регрессия\n",
    "\n",
    "Эта достаточно простая модель, как и следовало ожидать, показала чрезвычайно высокую скорость обучения и работы (единицы микросекунд) при весьма посредственном качестве прогноза: средне-квадратичная ошибка оказалась в районе 4000 (долларов?) при медианной цене в выборке 2700."
   ]
  },
  {
   "cell_type": "markdown",
   "metadata": {},
   "source": [
    "### Решающее дерево\n",
    "\n",
    "Одиночное решающее дерево также показало довольно высокую скорость обучения (порядка 3с) и работы (около ста микросекунд). Качество её работы оказалось ощутимо лучше линейной регрессии: после тюнинга среднеквадратичная ошибка составила 2000."
   ]
  },
  {
   "cell_type": "markdown",
   "metadata": {},
   "source": [
    "### Случайный лес\n",
    "\n",
    "Ансамбль из решающих деревьев продемонстрировал умеренный прирост точности прогноза до 1700, но ценой значительного роста времени как обучения (), так и прогнозирования ()."
   ]
  },
  {
   "cell_type": "markdown",
   "metadata": {},
   "source": [
    "### Градиентный бустинг\n",
    "\n",
    "Библиотека градиентного бустинга показала качество прогноза сравнимое со случайным лесом: около 1700, что не удивительно, поскольку в основе LGBM лежит случайный лес. При этом скорость обучения и прогнозирования оказались на уровне одиночного решающего дереве: порядка 1 секунды и 200 мс, соответственно."
   ]
  },
  {
   "cell_type": "code",
   "execution_count": 63,
   "metadata": {},
   "outputs": [],
   "source": [
    "results = pd.DataFrame(\n",
    "    {\n",
    "        \"model\": [\"LR\", \"DT\", \"RF\", \"GBM\"],\n",
    "        \"fitting\": [0.468, 1.42, 33.4, 0.723],\n",
    "        \"prediction\": [0.017, 0.022, 0.646, 0.2],\n",
    "        \"RMSE\": [2936, 1809, 1629, 1583],\n",
    "    }\n",
    ")"
   ]
  },
  {
   "cell_type": "code",
   "execution_count": 66,
   "metadata": {},
   "outputs": [
    {
     "data": {
      "image/png": "[encoded data removed]"
     },
     "metadata": {
      "needs_background": "light"
     },
     "output_type": "display_data"
    }
   ],
   "source": [
    "fig, ax1 = plt.subplots(figsize=(12, 8))\n",
    "ax2 = ax1.twinx()\n",
    "sns.scatterplot(ax=ax1, data=results, x=\"RMSE\", y=\"fitting\", hue=\"model\", marker=\"o\")\n",
    "sns.scatterplot(ax=ax2, data=results, x=\"RMSE\", y=\"prediction\", hue=\"model\", marker=\"x\");"
   ]
  },
  {
   "cell_type": "markdown",
   "metadata": {},
   "source": [
    "Видно, что в самом низу графика засположены линейная регрессия и решающее дерево. При этом они и праввее конкурентов, поскольку демонстрируют большую средне-квадратичную ошибку. С другой стороны, красные маркеры градиентного бустинга ближе всех к началу координат: эта модель демонстрирует и скорость и точность. "
   ]
  },
  {
   "cell_type": "markdown",
   "metadata": {},
   "source": [
    "# Вывод\n",
    "\n",
    "Библиотека градиентного бустинга LightGBM показала себя отлично оптимизированным регрессором на основе слкчайного леса, который сочетает в себе высокую точность прогноза с высокой скоростью прогноза.\n",
    "\n",
    "В ходе исследование было проведено сравнение двух разных методов кодирования каиегориальных переменных: OHE(на кактенгориях малой размернойсти) + Hashing (на категориях большой размерности) и OrdinalEncoder. В результате были получены очень близкие значения среднеквадратичных ошибок предсказания, но время обучения при OrdinalEncoder оказалось в два раза меньше. "
   ]
  },
  {
   "cell_type": "markdown",
   "metadata": {},
   "source": [
    "## Заметки\n",
    "\n",
    "В качестве дополнительных направлений исследования можно было бы рассмотреть, как другие критерии (кажется, что тут был бы уместен коэффициент детеминации $R^2$), так и другие параметры модели. Так, помимо времени вычислений, интересно изучить расход памяти. Известно, что отличные скоростные характеристики показывают оптимизации, активно использующие кеширование в память, расплачиваясь за рост производительности расходом памяти. А это может стать ограничивающим фактором в ряде приложений.   "
   ]
  }
 ],
 "metadata": {
  "ExecuteTimeLog": [
   {
    "duration": 1830,
    "start_time": "2022-05-04T05:56:19.899Z"
   },
   {
    "duration": 5,
    "start_time": "2022-05-04T05:56:21.731Z"
   },
   {
    "duration": 952,
    "start_time": "2022-05-04T05:56:21.738Z"
   },
   {
    "duration": 20,
    "start_time": "2022-05-04T05:56:22.692Z"
   },
   {
    "duration": 124,
    "start_time": "2022-05-04T05:56:22.714Z"
   },
   {
    "duration": 179,
    "start_time": "2022-05-04T05:56:22.840Z"
   },
   {
    "duration": 366,
    "start_time": "2022-05-04T05:56:25.591Z"
   },
   {
    "duration": 105,
    "start_time": "2022-05-04T05:56:26.151Z"
   },
   {
    "duration": 280,
    "start_time": "2022-05-04T05:56:26.511Z"
   },
   {
    "duration": 30,
    "start_time": "2022-05-04T05:56:26.863Z"
   },
   {
    "duration": 65,
    "start_time": "2022-05-04T05:56:27.223Z"
   },
   {
    "duration": 352,
    "start_time": "2022-05-04T05:56:27.880Z"
   },
   {
    "duration": 888,
    "start_time": "2022-05-04T05:56:28.234Z"
   },
   {
    "duration": 601,
    "start_time": "2022-05-04T05:56:29.124Z"
   },
   {
    "duration": 28389,
    "start_time": "2022-05-04T05:56:29.728Z"
   },
   {
    "duration": 290,
    "start_time": "2022-05-04T05:56:58.119Z"
   },
   {
    "duration": 4,
    "start_time": "2022-05-04T05:56:58.411Z"
   },
   {
    "duration": 15766,
    "start_time": "2022-05-04T05:56:58.417Z"
   },
   {
    "duration": 204,
    "start_time": "2022-05-04T05:57:14.184Z"
   },
   {
    "duration": 3,
    "start_time": "2022-05-04T05:57:14.390Z"
   },
   {
    "duration": 1005285,
    "start_time": "2022-05-04T05:57:14.407Z"
   },
   {
    "duration": 88,
    "start_time": "2022-05-04T06:13:59.695Z"
   },
   {
    "duration": 3,
    "start_time": "2022-05-04T06:13:59.786Z"
   },
   {
    "duration": 68,
    "start_time": "2022-05-04T06:13:59.791Z"
   },
   {
    "duration": 2304,
    "start_time": "2022-05-08T07:42:34.390Z"
   },
   {
    "duration": 3299,
    "start_time": "2022-05-08T07:42:36.696Z"
   },
   {
    "duration": 5,
    "start_time": "2022-05-08T07:42:39.997Z"
   },
   {
    "duration": 855,
    "start_time": "2022-05-08T07:42:40.004Z"
   },
   {
    "duration": 16,
    "start_time": "2022-05-08T07:42:40.861Z"
   },
   {
    "duration": 87,
    "start_time": "2022-05-08T07:42:40.878Z"
   },
   {
    "duration": 122,
    "start_time": "2022-05-08T07:42:40.967Z"
   },
   {
    "duration": 419,
    "start_time": "2022-05-08T07:42:41.090Z"
   },
   {
    "duration": 420,
    "start_time": "2022-05-08T07:42:41.511Z"
   },
   {
    "duration": 104,
    "start_time": "2022-05-08T07:42:41.934Z"
   },
   {
    "duration": 32,
    "start_time": "2022-05-08T07:42:42.040Z"
   },
   {
    "duration": 50,
    "start_time": "2022-05-08T07:42:42.074Z"
   },
   {
    "duration": 40,
    "start_time": "2022-05-08T07:42:42.126Z"
   },
   {
    "duration": 38,
    "start_time": "2022-05-08T07:42:42.168Z"
   },
   {
    "duration": 21,
    "start_time": "2022-05-08T07:42:42.207Z"
   },
   {
    "duration": 10,
    "start_time": "2022-05-08T07:42:42.230Z"
   },
   {
    "duration": 1242,
    "start_time": "2022-05-08T07:42:42.242Z"
   },
   {
    "duration": 31,
    "start_time": "2022-05-08T07:42:43.485Z"
   },
   {
    "duration": 20,
    "start_time": "2022-05-08T07:42:43.517Z"
   },
   {
    "duration": 19,
    "start_time": "2022-05-08T07:42:43.562Z"
   },
   {
    "duration": 19,
    "start_time": "2022-05-08T07:42:44.699Z"
   },
   {
    "duration": 300,
    "start_time": "2022-05-08T07:42:45.507Z"
   },
   {
    "duration": 312,
    "start_time": "2022-05-08T07:42:45.809Z"
   },
   {
    "duration": 19,
    "start_time": "2022-05-08T07:42:46.763Z"
   },
   {
    "duration": 72,
    "start_time": "2022-05-08T07:42:47.555Z"
   },
   {
    "duration": 139,
    "start_time": "2022-05-08T07:42:48.076Z"
   },
   {
    "duration": 20,
    "start_time": "2022-05-08T07:42:48.986Z"
   },
   {
    "duration": 41,
    "start_time": "2022-05-08T07:42:49.403Z"
   },
   {
    "duration": 29,
    "start_time": "2022-05-08T07:42:51.267Z"
   },
   {
    "duration": 7,
    "start_time": "2022-05-08T07:42:51.404Z"
   },
   {
    "duration": 34,
    "start_time": "2022-05-08T07:42:52.027Z"
   },
   {
    "duration": 200435,
    "start_time": "2022-05-08T07:42:52.267Z"
   },
   {
    "duration": 16,
    "start_time": "2022-05-08T07:46:12.704Z"
   },
   {
    "duration": 4,
    "start_time": "2022-05-08T07:47:01.952Z"
   },
   {
    "duration": 227,
    "start_time": "2022-05-08T07:47:49.464Z"
   },
   {
    "duration": 14,
    "start_time": "2022-05-08T07:48:05.984Z"
   },
   {
    "duration": 91,
    "start_time": "2022-05-08T07:48:10.486Z"
   },
   {
    "duration": 805,
    "start_time": "2022-05-08T07:48:27.495Z"
   },
   {
    "duration": 22,
    "start_time": "2022-05-08T07:48:28.302Z"
   },
   {
    "duration": 3,
    "start_time": "2022-05-08T07:48:41.446Z"
   },
   {
    "duration": 1584,
    "start_time": "2022-05-08T07:48:44.078Z"
   },
   {
    "duration": 45,
    "start_time": "2022-05-08T07:48:45.664Z"
   },
   {
    "duration": 52,
    "start_time": "2022-05-08T10:43:12.439Z"
   }
  ],
  "kernelspec": {
   "display_name": "Python 3 (ipykernel)",
   "language": "python",
   "name": "python3"
  },
  "language_info": {
   "codemirror_mode": {
    "name": "ipython",
    "version": 3
   },
   "file_extension": ".py",
   "mimetype": "text/x-python",
   "name": "python",
   "nbconvert_exporter": "python",
   "pygments_lexer": "ipython3",
   "version": "3.10.6"
  },
  "toc": {
   "base_numbering": 1,
   "nav_menu": {},
   "number_sections": true,
   "sideBar": true,
   "skip_h1_title": true,
   "title_cell": "Table of Contents",
   "title_sidebar": "Contents",
   "toc_cell": false,
   "toc_position": {},
   "toc_section_display": true,
   "toc_window_display": false
  }
 },
 "nbformat": 4,
 "nbformat_minor": 4
}
