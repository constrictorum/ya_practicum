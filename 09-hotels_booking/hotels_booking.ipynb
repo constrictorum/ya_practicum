{
 "cells": [
  {
   "cell_type": "markdown",
   "id": "1da01ade",
   "metadata": {},
   "source": [
    "# Цена предзаказа\n",
    "\n",
    "Заказчик исследования — сеть отелей «Как в гостях».\n",
    "\n",
    "Чтобы привлечь клиентов, сеть отелей добавила на свой сайт возможность забронировать номер без предоплаты. Однако если клиент отменял бронирование, то компания терпела убытки. Сотрудники отеля могли, например, закупить продукты к приезду гостя или просто не успеть найти другого клиента.\n",
    "\n",
    "## Цель\n",
    "\n",
    "Оценить влияние на бизнес-показатели опции бронирования номера без предоплаты.  \n",
    "\n",
    "## Задачи\n",
    "\n",
    "1. Оцените прибыль отеля без внедрения депозитов.\n",
    "1. Разработать систему предсказания отказа от брони\n",
    "1. Выявить признаки «ненадёжного» клиента\n",
    "\n",
    "## Дополнительные условия\n",
    "\n",
    "Основная бизнес-метрика для любой сети отелей — её прибыль. Прибыль отеля — это разница между стоимостью номера за все ночи и затраты на обслуживание: как при подготовке номера, так и при проживании постояльца.\n",
    "\n",
    "В отеле есть несколько типов номеров. В зависимости от типа номера назначается стоимость за одну ночь. Есть также затраты на уборку. Если клиент снял номер надолго, то убираются каждые два дня.\n",
    "\n",
    "Стоимость номеров отеля:\n",
    "- категория A: за ночь — 1 000, разовое обслуживание — 400;\n",
    "- категория B: за ночь — 800, разовое обслуживание — 350;\n",
    "- категория C: за ночь — 600, разовое обслуживание — 350;\n",
    "- категория D: за ночь — 550, разовое обслуживание — 150;\n",
    "- категория E: за ночь — 500, разовое обслуживание — 150;\n",
    "- категория F: за ночь — 450, разовое обслуживание — 150;\n",
    "- категория G: за ночь — 350, разовое обслуживание — 150.\n",
    "\n",
    "В ценовой политике отеля используются сезонные коэффициенты: весной и осенью цены повышаются на 20%, летом — на 40%.\n",
    "\n",
    "На разработку системы прогнозирования заложен бюджет — 400 000. При этом необходимо учесть, что внедрение модели должно окупиться за год. Затраты на разработку должны быть меньше той выручки, которую система принесёт компании."
   ]
  },
  {
   "cell_type": "markdown",
   "id": "99798014",
   "metadata": {},
   "source": [
    "## Описание данных\n",
    "\n",
    "В таблицах hotel_train и hotel_test содержатся одинаковые столбцы:\n",
    "- id — номер записи;\n",
    "- adults — количество взрослых постояльцев;\n",
    "- arrival_date_year — год заезда;\n",
    "- arrival_date_month — месяц заезда;\n",
    "- arrival_date_week_number — неделя заезда;\n",
    "- arrival_date_day_of_month — день заезда;\n",
    "- babies — количество младенцев;\n",
    "- booking_changes — количество изменений параметров заказа;\n",
    "- children — количество детей от 3 до 14 лет;\n",
    "- country — гражданство постояльца;\n",
    "- customer_type — тип заказчика:\n",
    "    * Contract — договор с юридическим лицом;\n",
    "    * Group — групповой заезд;\n",
    "    * Transient — не связано с договором или групповым заездом;\n",
    "    * Transient-party — не связано с договором или групповым заездом, но связано с бронированием типа Transient.\n",
    "- days_in_waiting_list — сколько дней заказ ожидал подтверждения;\n",
    "- distribution_channel — канал дистрибуции заказа;\n",
    "- is_canceled — отмена заказа;\n",
    "- is_repeated_guest — признак того, что гость бронирует номер второй раз;\n",
    "- lead_time — количество дней между датой бронирования и датой прибытия;\n",
    "- meal — опции заказа:\n",
    "    - SC — нет дополнительных опций;\n",
    "    - BB — включён завтрак;\n",
    "    - HB — включён завтрак и обед;\n",
    "    - FB — включён завтрак, обед и ужин.\n",
    "- previous_bookings_not_canceled — количество подтверждённых заказов у клиента;\n",
    "- previous_cancellations — количество отменённых заказов у клиента;\n",
    "- required_car_parking_spaces — необходимость места для автомобиля;\n",
    "- reserved_room_type — тип забронированной комнаты;\n",
    "- stays_in_weekend_nights — количество ночей в выходные дни;\n",
    "- stays_in_week_nights — количество ночей в будние дни;\n",
    "- total_nights — общее количество ночей;\n",
    "- total_of_special_requests — количество специальных отметок."
   ]
  },
  {
   "cell_type": "markdown",
   "id": "889cdb7c",
   "metadata": {},
   "source": [
    "## Загрузка библиотек и данных"
   ]
  },
  {
   "cell_type": "code",
   "execution_count": 1,
   "id": "d46c2299",
   "metadata": {},
   "outputs": [],
   "source": [
    "import sys\n",
    "from distutils.version import StrictVersion\n",
    "\n",
    "if StrictVersion(sys.version.split()[0]) < StrictVersion('3.8.0'):\n",
    "    !pip install -U seaborn"
   ]
  },
  {
   "cell_type": "code",
   "execution_count": 2,
   "id": "de2503ee",
   "metadata": {},
   "outputs": [],
   "source": [
    "import warnings\n",
    "\n",
    "import matplotlib.pyplot as plt\n",
    "import numpy as np\n",
    "import pandas as pd\n",
    "import seaborn as sns\n",
    "from sklearn.ensemble import GradientBoostingClassifier, RandomForestClassifier\n",
    "from sklearn.linear_model import LogisticRegression\n",
    "from sklearn.metrics import (\n",
    "    f1_score,\n",
    "    precision_score,\n",
    "    recall_score,\n",
    "    roc_auc_score,\n",
    "    roc_curve,\n",
    ")\n",
    "from sklearn.model_selection import GridSearchCV, cross_val_score\n",
    "from sklearn.neighbors import KNeighborsClassifier\n",
    "from sklearn.preprocessing import LabelEncoder\n",
    "from sklearn.tree import DecisionTreeClassifier"
   ]
  },
  {
   "cell_type": "code",
   "execution_count": 3,
   "id": "320706f9",
   "metadata": {},
   "outputs": [],
   "source": [
    "try:\n",
    "    from imblearn.over_sampling import ADASYN\n",
    "    from imblearn.under_sampling import ClusterCentroids\n",
    "except:\n",
    "    !pip install imblearn\n",
    "    from imblearn.over_sampling import ADASYN\n",
    "    from imblearn.under_sampling import ClusterCentroids"
   ]
  },
  {
   "cell_type": "code",
   "execution_count": 4,
   "id": "f6d17217",
   "metadata": {
    "tags": []
   },
   "outputs": [],
   "source": [
    "pd.set_option(\"display.precision\", 2)\n",
    "pd.set_option(\"display.max_columns\", 100)\n",
    "pd.options.mode.chained_assignment = None\n",
    "\n",
    "sns.set(rc={\"figure.figsize\": (12, 8)})\n",
    "\n",
    "warnings.filterwarnings(\"ignore\")"
   ]
  },
  {
   "cell_type": "code",
   "execution_count": 5,
   "id": "cf0cc790",
   "metadata": {},
   "outputs": [],
   "source": [
    "try:\n",
    "    hotel_train = pd.read_csv(\"./hotel_train.csv\")\n",
    "    hotel_test = pd.read_csv(\"./hotel_test.csv\")\n",
    "except FileNotFoundError:\n",
    "    hotel_train = pd.read_csv(\"/datasets/hotel_train.csv\")\n",
    "    hotel_test = pd.read_csv(\"/datasets/hotel_test.csv\")"
   ]
  },
  {
   "cell_type": "code",
   "execution_count": 6,
   "id": "c687fda4",
   "metadata": {},
   "outputs": [
    {
     "data": {},
     "execution_count": 6,
     "metadata": {},
     "output_type": "execute_result"
    }
   ],
   "source": [
    "hotel_train.head()"
   ]
  },
  {
   "cell_type": "code",
   "execution_count": 7,
   "id": "26a23ca9",
   "metadata": {
    "tags": []
   },
   "outputs": [],
   "source": [
    "hotel_train.info()"
   ]
  },
  {
   "cell_type": "code",
   "execution_count": 8,
   "id": "322d15aa",
   "metadata": {
    "tags": []
   },
   "outputs": [],
   "source": [
    "hotel_test.info()"
   ]
  },
  {
   "cell_type": "code",
   "execution_count": 9,
   "id": "b0e78036",
   "metadata": {},
   "outputs": [
    {
     "data": {},
     "execution_count": 9,
     "metadata": {},
     "output_type": "execute_result"
    }
   ],
   "source": [
    "hotel_train.describe()"
   ]
  },
  {
   "cell_type": "code",
   "execution_count": 10,
   "id": "dea8f8f4",
   "metadata": {},
   "outputs": [
    {
     "data": {},
     "execution_count": 10,
     "metadata": {},
     "output_type": "execute_result"
    }
   ],
   "source": [
    "(\n",
    "    hotel_train.drop(\"id\", axis=1).duplicated().sum(),\n",
    "    hotel_test.drop(\"id\", axis=1).duplicated().sum(),\n",
    ")"
   ]
  },
  {
   "cell_type": "markdown",
   "id": "ebd84a23",
   "metadata": {},
   "source": [
    "Обнаружились дубликаты, причём и в тренировочной и в тестовой выборках. Избавимся от них."
   ]
  },
  {
   "cell_type": "code",
   "execution_count": 11,
   "id": "5b40b514",
   "metadata": {},
   "outputs": [],
   "source": [
    "cols = list(hotel_train.columns)\n",
    "cols.remove(\"id\")\n",
    "hotel_train.drop_duplicates(subset=cols, inplace=True)\n",
    "hotel_test.drop_duplicates(subset=cols, inplace=True)"
   ]
  },
  {
   "cell_type": "markdown",
   "id": "01f1b1eb",
   "metadata": {},
   "source": [
    "Теперь в данных отсутствуют пропуски и дубликаты, но типы данных не во всех колонках соответсвуют содержанию. \n",
    "\n",
    "## Предобработка данных \n",
    "\n",
    "Для того, чтобы единообразно преобразовать типы и тренировочной и тестовой выборок напишем функецию преобразования и применим её к обоим датафреймам"
   ]
  },
  {
   "cell_type": "code",
   "execution_count": 12,
   "id": "1bb2a2ae",
   "metadata": {},
   "outputs": [],
   "source": [
    "def types_repair(df):\n",
    "    # значения по смыслу целые\n",
    "    df[[\"adults\", \"children\", \"babies\", \"lead_time\"]] = df[\n",
    "        [\"adults\", \"children\", \"babies\", \"lead_time\"]\n",
    "    ].astype(\"int\")\n",
    "    # в полях meal и reserved_room_type присутсвуют значения с лишними пробелами\n",
    "    df[\"meal\"] = df[\"meal\"].str.strip()\n",
    "    df[\"reserved_room_type\"] = df[\"reserved_room_type\"].str.strip()\n",
    "    # категориальные значения\n",
    "    # в том числе и связанные с датами: это устраняет ненужную упорядоченность значений (52я неделя не больше 2й)\n",
    "    df[\n",
    "        [\n",
    "            \"meal\",\n",
    "            \"country\",\n",
    "            \"arrival_date_month\",\n",
    "            \"arrival_date_week_number\",\n",
    "            \"arrival_date_day_of_month\",\n",
    "            \"distribution_channel\",\n",
    "            \"reserved_room_type\",\n",
    "            \"customer_type\",\n",
    "        ]\n",
    "    ] = df[\n",
    "        [\n",
    "            \"meal\",\n",
    "            \"country\",\n",
    "            \"arrival_date_month\",\n",
    "            \"arrival_date_week_number\",\n",
    "            \"arrival_date_day_of_month\",\n",
    "            \"distribution_channel\",\n",
    "            \"reserved_room_type\",\n",
    "            \"customer_type\",\n",
    "        ]\n",
    "    ].astype(\n",
    "        \"category\"\n",
    "    )\n",
    "    return df"
   ]
  },
  {
   "cell_type": "code",
   "execution_count": 13,
   "id": "c8b6a516",
   "metadata": {},
   "outputs": [],
   "source": [
    "hotel_train = types_repair(hotel_train)\n",
    "hotel_test = types_repair(hotel_test)"
   ]
  },
  {
   "cell_type": "markdown",
   "id": "bb16ffc8",
   "metadata": {},
   "source": [
    "Теперь взглянем на соотношение целевых классов:"
   ]
  },
  {
   "cell_type": "code",
   "execution_count": 14,
   "id": "84f1d998",
   "metadata": {},
   "outputs": [
    {
     "data": {},
     "execution_count": 14,
     "metadata": {},
     "output_type": "execute_result"
    }
   ],
   "source": [
    "(\n",
    "    hotel_train[hotel_train[\"is_canceled\"] == 0].shape[0],\n",
    "    hotel_train[hotel_train[\"is_canceled\"] == 1].shape[0],\n",
    ")"
   ]
  },
  {
   "cell_type": "markdown",
   "id": "faf3a813",
   "metadata": {},
   "source": [
    "Дисбаланс классов присутствует, но он не слишком велик: из забронировавших номер, отказывается в среднем каждый третий. Значит можно обойтись без балансировки."
   ]
  },
  {
   "cell_type": "markdown",
   "id": "58a64ba5",
   "metadata": {},
   "source": [
    "### Анализ признаков ненадёжных постояльцев\n",
    "\n",
    "Перед тем, как переходить к обучению моделей, попробуем увидеть особенности в исходных данных."
   ]
  },
  {
   "cell_type": "code",
   "execution_count": null,
   "id": "db528a7c",
   "metadata": {},
   "outputs": [],
   "source": [
    "%%time\n",
    "sns.pairplot(hotel_train.drop([\"id\"], axis=1), hue=\"is_canceled\");"
   ]
  },
  {
   "cell_type": "markdown",
   "id": "8c3b57eb",
   "metadata": {},
   "source": [
    "В глаза бросаются ряд различий.\n",
    "\n",
    "Ненадёжные клиенты значительно реже отдыхают с младенцами, что логично: родители с маленькими детьми, в среднем достаточно ответствены."
   ]
  },
  {
   "cell_type": "code",
   "execution_count": 15,
   "id": "ffca374b",
   "metadata": {},
   "outputs": [
    {
     "data": {},
     "execution_count": 15,
     "metadata": {},
     "output_type": "execute_result"
    }
   ],
   "source": [
    "(\n",
    "    hotel_train[hotel_train[\"is_canceled\"] == 0][\"babies\"].mean(),\n",
    "    hotel_train[hotel_train[\"is_canceled\"] == 1][\"babies\"].mean(),\n",
    ")"
   ]
  },
  {
   "cell_type": "markdown",
   "id": "db0c742a",
   "metadata": {},
   "source": [
    "Большинство и надёжных и ненадёжных постояльцев отдыхают без младенцев, но среди тех, кто живёт в отеле с младенцами, доль надёжных существенна, даже с учётом их большей численности."
   ]
  },
  {
   "cell_type": "code",
   "execution_count": 16,
   "id": "4daf3224",
   "metadata": {},
   "outputs": [
    {
     "data": {
      "image/png": "[encoded data removed]"
     },
     "metadata": {},
     "output_type": "display_data"
    }
   ],
   "source": [
    "ax = sns.histplot(\n",
    "    data=hotel_train[hotel_train[\"babies\"] > 0],\n",
    "    x=\"babies\",\n",
    "    hue=\"is_canceled\",\n",
    "    multiple=\"dodge\",\n",
    ")\n",
    "ax.legend([\"canceled\", \"not canceled\"]);"
   ]
  },
  {
   "cell_type": "markdown",
   "id": "81d4371b",
   "metadata": {},
   "source": [
    "Странно, что количество младенцев может достигать 10. Это какие-то передвижные ясли.\n",
    "\n",
    "Также ненадёжные поcтояльцы не бронируют парковочные места."
   ]
  },
  {
   "cell_type": "code",
   "execution_count": 17,
   "id": "94443122",
   "metadata": {},
   "outputs": [
    {
     "data": {},
     "execution_count": 17,
     "metadata": {},
     "output_type": "execute_result"
    }
   ],
   "source": [
    "(\n",
    "    hotel_train[hotel_train[\"is_canceled\"] == 0][\"required_car_parking_spaces\"].mean(),\n",
    "    hotel_train[hotel_train[\"is_canceled\"] == 1][\"required_car_parking_spaces\"].mean(),\n",
    ")"
   ]
  },
  {
   "cell_type": "markdown",
   "id": "d924bec0",
   "metadata": {},
   "source": [
    "Кроме того, выделяется заметная разница в странах, откуда прибывают туристы."
   ]
  },
  {
   "cell_type": "code",
   "execution_count": 18,
   "id": "a091f556",
   "metadata": {
    "tags": []
   },
   "outputs": [
    {
     "data": {
      "image/png": "[encoded data removed]"
     },
     "metadata": {},
     "output_type": "display_data"
    }
   ],
   "source": [
    "fig, ax = plt.subplots(figsize=(24, 8))\n",
    "sns.histplot(\n",
    "    data=hotel_train,\n",
    "    x=\"country\",\n",
    "    hue=\"is_canceled\",\n",
    "    multiple=\"dodge\",\n",
    ")\n",
    "\n",
    "# ax.set_xticklabels(ax.get_xticklabels(), rotation=30)\n",
    "plt.xticks(rotation=90)\n",
    "ax.legend([\"not canceled\", \"canceled\"]);"
   ]
  },
  {
   "cell_type": "markdown",
   "id": "8ac70c67",
   "metadata": {},
   "source": [
    "Видно, что существуют страны, путешественники из которых чаще отменяют бронь, чем пользуются ею. "
   ]
  },
  {
   "cell_type": "code",
   "execution_count": 19,
   "id": "0033e709",
   "metadata": {
    "tags": []
   },
   "outputs": [
    {
     "data": {},
     "execution_count": 19,
     "metadata": {},
     "output_type": "execute_result"
    }
   ],
   "source": [
    "cnts = hotel_train[\"country\"].value_counts()\n",
    "\n",
    "hotel_train[hotel_train[\"country\"].isin(cnts[cnts > 5].index)].groupby(\"country\").agg(\n",
    "    {\"is_canceled\": lambda x: sum(x) / len(x)}\n",
    ").sort_values(by=\"is_canceled\", ascending=False).dropna().head(20)"
   ]
  },
  {
   "cell_type": "markdown",
   "id": "ce3a9924",
   "metadata": {},
   "source": [
    "Наша функция возвращает отношение числа отказов к общему числу бронирований, так что значение [0, 0.5] говорит, о том, что число отказов не превышает число заездов  из данной страны. "
   ]
  },
  {
   "cell_type": "markdown",
   "id": "3e222b56",
   "metadata": {},
   "source": [
    "Интересно, что путешествующие двоём и имевшые до того отмены брони, склонны часто повторно отказываться от забронированных номеров.\n",
    "\n",
    "Интересно, что если путешественник делает специальные отметки, то шансы отмены брони существенно снижаются."
   ]
  },
  {
   "cell_type": "code",
   "execution_count": 20,
   "id": "07149aa1",
   "metadata": {
    "tags": []
   },
   "outputs": [
    {
     "data": {
      "image/png": "[encoded data removed]"
     },
     "metadata": {},
     "output_type": "display_data"
    }
   ],
   "source": [
    "ax = sns.histplot(\n",
    "    data=hotel_train,\n",
    "    x=\"total_of_special_requests\",\n",
    "    hue=\"is_canceled\",\n",
    "    multiple=\"dodge\",\n",
    ")\n",
    "ax.legend([\"canceled\", \"not canceled\"]);"
   ]
  },
  {
   "cell_type": "code",
   "execution_count": 21,
   "id": "e61bc174",
   "metadata": {
    "tags": []
   },
   "outputs": [
    {
     "data": {},
     "execution_count": 21,
     "metadata": {},
     "output_type": "execute_result"
    }
   ],
   "source": [
    "hotel_train[hotel_train[\"days_in_waiting_list\"] == 224]"
   ]
  },
  {
   "cell_type": "code",
   "execution_count": 22,
   "id": "9e090df2",
   "metadata": {
    "tags": []
   },
   "outputs": [
    {
     "data": {},
     "execution_count": 22,
     "metadata": {},
     "output_type": "execute_result"
    }
   ],
   "source": [
    "hotel_train[hotel_train[\"adults\"] == 0].shape[0]"
   ]
  },
  {
   "cell_type": "markdown",
   "id": "fca5c0ae",
   "metadata": {},
   "source": [
    "И даже"
   ]
  },
  {
   "cell_type": "code",
   "execution_count": 23,
   "id": "1d8fc862",
   "metadata": {},
   "outputs": [
    {
     "data": {},
     "execution_count": 23,
     "metadata": {},
     "output_type": "execute_result"
    }
   ],
   "source": [
    "hotel_train[\n",
    "    (hotel_train[\"adults\"] == 0)\n",
    "    & (hotel_train[\"children\"] == 0)\n",
    "    & (hotel_train[\"babies\"] == 0)\n",
    "].shape[0]"
   ]
  },
  {
   "cell_type": "markdown",
   "id": "a5058730",
   "metadata": {},
   "source": [
    "Можно предположить, что это ошибка: дети до 14 лет не могут путешествовать самостоятельно. От записей с нулевым количеством взрослых постояльцев следует избавиться. От записей с 9 и 10 младенцами - тоже."
   ]
  },
  {
   "cell_type": "code",
   "execution_count": 24,
   "id": "d9b056cd",
   "metadata": {},
   "outputs": [],
   "source": [
    "hotel_train.drop(hotel_train[hotel_train[\"babies\"] >= 9].index, axis=0, inplace=True)\n",
    "hotel_train.drop(hotel_train[hotel_train[\"adults\"] == 0].index, axis=0, inplace=True)"
   ]
  },
  {
   "cell_type": "markdown",
   "id": "835fd931",
   "metadata": {},
   "source": [
    "### Выводы\n",
    "\n",
    "Данные подготовлены: проведено преобразование типов к более соответсвующим значениям параметров. \n",
    "\n",
    "Кроме того, был проведён исследовательский анализ исходных данных, который позволил выявить некоторые закономерности, связвающие вероятность отказа от брони к такими параметрами, как наличие в семье младенцев, бронирование парковочных мест, страна, из которой прибыл путешественник, а также наличие у туриста особых пожеланий.\n",
    "\n",
    "## Вычисление бизнес-метрик\n",
    "\n",
    "Основная метрика - это прибыль. Она равна разнице между стоимостью проживания в номере и затратами на обслуживание перед заездом постояльца и во время его проживания (уборка производится раз в два дня). Стоимость проживания и обслуживаниязависит от класса номера. Кроме того на стоимость номера влияет сезонный фактор: весной +20%, летом +40%.\n",
    "\n",
    "Бюджет разработки системы прогнозирования составляет 400 тысяч. Проект будет успешным, если прибыль от внедрения системы в течении года превысит затраты на разработку.\n",
    "\n",
    "Для удобства заведём соответствующие константы."
   ]
  },
  {
   "cell_type": "code",
   "execution_count": 25,
   "id": "82f79986",
   "metadata": {},
   "outputs": [],
   "source": [
    "development_budget = 4e5"
   ]
  },
  {
   "cell_type": "code",
   "execution_count": 26,
   "id": "e6da5a55",
   "metadata": {},
   "outputs": [],
   "source": [
    "classes = [\"A\", \"B\", \"C\", \"D\", \"E\", \"F\", \"G\"]\n",
    "price = [1000, 800, 600, 550, 500, 450, 350]\n",
    "service = [400, 350, 350, 150, 150, 150, 150]\n",
    "taxes = pd.DataFrame(\n",
    "    data={\"reserved_room_type\": classes, \"price\": price, \"service\": service},\n",
    ")"
   ]
  },
  {
   "cell_type": "code",
   "execution_count": 27,
   "id": "fe294bac",
   "metadata": {},
   "outputs": [
    {
     "data": {},
     "execution_count": 27,
     "metadata": {},
     "output_type": "execute_result"
    }
   ],
   "source": [
    "taxes"
   ]
  },
  {
   "cell_type": "markdown",
   "id": "cc6f2d2f",
   "metadata": {},
   "source": [
    "Поскольку цена номера зависит от сезона, полезно добавить в датафреймы соответсвующий множитель"
   ]
  },
  {
   "cell_type": "code",
   "execution_count": 28,
   "id": "d681db9b",
   "metadata": {},
   "outputs": [],
   "source": [
    "seasons = pd.DataFrame(\n",
    "    {\n",
    "        \"arrival_date_month\": [\n",
    "            \"March\",\n",
    "            \"April\",\n",
    "            \"May\",\n",
    "            \"June\",\n",
    "            \"July\",\n",
    "            \"August\",\n",
    "            \"September\",\n",
    "            \"October\",\n",
    "            \"November\",\n",
    "            \"December\",\n",
    "            \"January\",\n",
    "            \"February\",\n",
    "        ],\n",
    "        \"season_factor\": [1.2, 1.2, 1.2, 1.4, 1.4, 1.4, 1, 1, 1, 1, 1, 1],\n",
    "    }\n",
    ")"
   ]
  },
  {
   "cell_type": "code",
   "execution_count": 29,
   "id": "475e5baf",
   "metadata": {},
   "outputs": [
    {
     "data": {},
     "execution_count": 29,
     "metadata": {},
     "output_type": "execute_result"
    }
   ],
   "source": [
    "hotel_train.merge(seasons, on=\"arrival_date_month\", how=\"left\").head()"
   ]
  },
  {
   "cell_type": "markdown",
   "id": "8f00237b",
   "metadata": {},
   "source": [
    "Напишем функцию, вычисляющую размер депозита при бронировании номера в зависимости от класса номера и сезона:"
   ]
  },
  {
   "cell_type": "code",
   "execution_count": 30,
   "id": "415db6ee",
   "metadata": {},
   "outputs": [],
   "source": [
    "def add_deposit(df):\n",
    "    df = df.merge(seasons, on=\"arrival_date_month\", how=\"left\").merge(\n",
    "        taxes, on=\"reserved_room_type\", how=\"left\"\n",
    "    )\n",
    "    df[\"deposit\"] = 0\n",
    "    df.loc[df[\"predict_canceled\"] == 1, \"deposit\"] = (\n",
    "        (df[\"price\"] + df[\"service\"]) * df[\"season_factor\"] * 0.8\n",
    "    )\n",
    "    return df"
   ]
  },
  {
   "cell_type": "markdown",
   "id": "6227affb",
   "metadata": {},
   "source": [
    "Также нам пригодится функция вычисляющая дополнительный доход от внедрения предсказательной системы, который принесут депозиты, удержанные у постояльцев, отменивших бронь"
   ]
  },
  {
   "cell_type": "code",
   "execution_count": 31,
   "id": "3e1f3454",
   "metadata": {},
   "outputs": [],
   "source": [
    "def model_income(df):\n",
    "    # берём постояльцев отменивших бронь, которых предсказала наша модель\n",
    "    df = df[(df[\"is_canceled\"] == 1) & (df[\"predict_canceled\"] == 1)]\n",
    "    # вычисляем прибыль как сумма удержанных депозитов\n",
    "    return df[\"deposit\"].sum()"
   ]
  },
  {
   "cell_type": "markdown",
   "id": "2a7163a7",
   "metadata": {},
   "source": [
    "Наконец, напишем функцию вычисляющую доход:"
   ]
  },
  {
   "cell_type": "code",
   "execution_count": 32,
   "id": "4f89f6c8",
   "metadata": {},
   "outputs": [],
   "source": [
    "def income(df):\n",
    "    \"\"\"\n",
    "    функция принимает датафрейм и вычисляет доход отеля вычитая из прибыли расходы\n",
    "    \"\"\"\n",
    "    df = df.merge(taxes, on=\"reserved_room_type\", how=\"left\").merge(\n",
    "        seasons, on=\"arrival_date_month\", how=\"left\"\n",
    "    )\n",
    "    # расходы на уборку перед заездом постояльца (без учёта отмены брони)\n",
    "    costs = (df[\"service\"] * df[\"season_factor\"]).sum()\n",
    "    df = df[df[\"is_canceled\"] == 0]\n",
    "    # уборки при длительном проживании раз в 2 дня\n",
    "    costs += (df[\"total_nights\"] // 2 * df[\"service\"] * df[\"season_factor\"]).sum()\n",
    "    profit = (df[\"total_nights\"] * df[\"price\"] * df[\"season_factor\"]).sum()\n",
    "    print(f\"costs: {costs}\")\n",
    "    print(f\"profit: {profit}\")\n",
    "    return profit - costs"
   ]
  },
  {
   "cell_type": "code",
   "execution_count": 33,
   "id": "542b0ddb",
   "metadata": {},
   "outputs": [],
   "source": [
    "income_train_base = income(hotel_train)\n",
    "print(f\"income: {income_train_base}\")"
   ]
  },
  {
   "cell_type": "code",
   "execution_count": 34,
   "id": "afa484b9",
   "metadata": {},
   "outputs": [],
   "source": [
    "income_test_base = income(hotel_test)\n",
    "print(f\"income: {income_test_base}\")"
   ]
  },
  {
   "cell_type": "markdown",
   "id": "66459c0f",
   "metadata": {},
   "source": [
    "На тренировочной выборке без системы прогнозирования доход сети отелей составила 68 млн за полтора года. На тестовой выборке доход составил 42 млн за 8 месяцев. Похоже, дела у сети отелей идут в гору: прогнозируемая доходность в 2017 почти на 30% больше, чем в 20105-2016.\n",
    "\n",
    "### Выводы\n",
    "\n",
    "Мы подготовились к вычислению бизнес-метрик и создали необходимые константы, а также написали ряд вспомогательных функций для вычисления прибыли и разметки сезонов."
   ]
  },
  {
   "cell_type": "markdown",
   "id": "76b47b53",
   "metadata": {},
   "source": [
    "## Разработка предсказательной модели\n",
    "\n",
    "Прежде чем обучать модели подготовим датафреймы признаков и целевых параметров"
   ]
  },
  {
   "cell_type": "code",
   "execution_count": 35,
   "id": "4a26c51c",
   "metadata": {},
   "outputs": [],
   "source": [
    "X_train = hotel_train.drop([\"is_canceled\", \"id\"], axis=1)\n",
    "y_train = hotel_train[\"is_canceled\"]\n",
    "X_test = hotel_test.drop([\"is_canceled\", \"id\"], axis=1)\n",
    "y_test = hotel_test[\"is_canceled\"]"
   ]
  },
  {
   "cell_type": "markdown",
   "id": "e4097a8f",
   "metadata": {},
   "source": [
    "Классификаторы, которые мы собираемся использовать в дальнейшем требуют числовых значений признаков, поэтому категориальные значения нужно превратить в наборы числовых колонок. Это лучше всего сделать временно объединив тренировочную и тестовую выборки"
   ]
  },
  {
   "cell_type": "code",
   "execution_count": 36,
   "id": "6023fa86",
   "metadata": {},
   "outputs": [],
   "source": [
    "X = X_train.append(X_test)\n",
    "X_w = pd.get_dummies(X, drop_first=True)\n",
    "X_train_w = X_w.iloc[: X_train.shape[0]]\n",
    "X_test_w = X_w.iloc[X_train.shape[0] :]"
   ]
  },
  {
   "cell_type": "code",
   "execution_count": 37,
   "id": "a6502bf8",
   "metadata": {},
   "outputs": [
    {
     "data": {},
     "execution_count": 37,
     "metadata": {},
     "output_type": "execute_result"
    }
   ],
   "source": [
    "X_train.shape, X_train_w.shape, X_test.shape, X_test_w.shape"
   ]
  },
  {
   "cell_type": "code",
   "execution_count": 38,
   "id": "1b365f28",
   "metadata": {},
   "outputs": [
    {
     "data": {},
     "execution_count": 38,
     "metadata": {},
     "output_type": "execute_result"
    }
   ],
   "source": [
    "X_train_w.describe()"
   ]
  },
  {
   "cell_type": "markdown",
   "id": "cac570ef",
   "metadata": {},
   "source": [
    "Классификаторы на деревьях не очень хорошо работаю на данных с one-hot-кодированием, т.к. при это порождается большое количество признаков, что замедляет работу и снижает точность результатов. Для обучения этих моделей используем порядковое кодирование с помощью функции LabelEncoder библиотеки sklearn"
   ]
  },
  {
   "cell_type": "code",
   "execution_count": 39,
   "id": "2fc2af11",
   "metadata": {},
   "outputs": [],
   "source": [
    "enc = LabelEncoder()\n",
    "caterories = [\n",
    "    \"meal\",\n",
    "    \"country\",\n",
    "    \"arrival_date_year\",\n",
    "    \"arrival_date_month\",\n",
    "    \"arrival_date_week_number\",\n",
    "    \"arrival_date_day_of_month\",\n",
    "    \"distribution_channel\",\n",
    "    \"reserved_room_type\",\n",
    "    \"customer_type\",\n",
    "]\n",
    "for c in caterories:\n",
    "    X[c] = enc.fit_transform(X[c])\n",
    "\n",
    "X_train_lbl = X.iloc[: X_train.shape[0]]\n",
    "X_test_lbl = X.iloc[X_train.shape[0] :]"
   ]
  },
  {
   "cell_type": "code",
   "execution_count": 40,
   "id": "5d9af56d",
   "metadata": {
    "tags": []
   },
   "outputs": [
    {
     "data": {},
     "execution_count": 40,
     "metadata": {},
     "output_type": "execute_result"
    }
   ],
   "source": [
    "X_train_lbl.head()"
   ]
  },
  {
   "cell_type": "markdown",
   "id": "cc0a0384",
   "metadata": {},
   "source": [
    "Не смотря на то, что дисбаланс классов в исходных данных не очень велик, проверим, как балансировка скажется на моделях решающего дерева и случайного леса. Способов достич цели существует много. В простейшем случае можно просто случайным образом дублировать записи из класса 1. Но существует библиотека `imblearn`, в которой реализованы разные методы oversampling. Одним из наиболее эффективных является `ADASYN` (Adaptive Synthetic), который на основе информации о ближайших соседях элементов малого класса достраивает новые элементы \"подобные\" имеющимся (Haibo He, Yang Bai, Edwardo A Garcia, and Shutao Li. Adasyn: adaptive synthetic sampling approach for imbalanced learning)."
   ]
  },
  {
   "cell_type": "code",
   "execution_count": 41,
   "id": "c333c313",
   "metadata": {},
   "outputs": [],
   "source": [
    "X_over, y_over = ADASYN().fit_resample(X_train_lbl, y_train)"
   ]
  },
  {
   "cell_type": "code",
   "execution_count": 42,
   "id": "9e3f24e0",
   "metadata": {},
   "outputs": [
    {
     "data": {},
     "execution_count": 42,
     "metadata": {},
     "output_type": "execute_result"
    }
   ],
   "source": [
    "y_over.value_counts(normalize=True)"
   ]
  },
  {
   "cell_type": "markdown",
   "id": "5d9582d4",
   "metadata": {},
   "source": [
    "Далее нам нужно определиться с метриками: какие характеристики модели мы хотим улучшать. \n",
    "- В случае `accuracy` мы максимизируем количество точных прогнозов (как положительных, так и отрицательных). Вряд ли она является оптимальной в нашем случае.\n",
    "- При использовании `precision` мы минимизируем ложно-положительные срабатывания, т.е. уменьшаем шанс на то, что потребуем депозита с надёжного постояльца. Это хорошо для имиджа отеля. Если модель будет считать всех туристов ненадёжными, `precision` будет равна доли реально ненадёжных постояльцев.\n",
    "- Метрика `recall` минимизирует ложно-отрицательные срабатывания, т.е. старается любой ценой неупустить ненадёжного жильца. Это полоезно для бизнес-показателей. При нгаивной модели, недоверяющей никому, `recall` равен 1.\n",
    "- Метрика `F1` гармонизирует два предыдущих метрики.\n",
    "- Метрика `AUC-ROC` тем больше, чем меньше ошибок делает модель. \n",
    "\n",
    "Поскольку наша основная задача - предсказать как можно больше отмен брони и по возможности не беспокоить надёжных постояльцев, наиболее подхоящей мерой видится `AUC-ROC`"
   ]
  },
  {
   "cell_type": "markdown",
   "id": "2d5cf714",
   "metadata": {},
   "source": [
    "### Логистическая регрессия\n",
    "\n",
    "Первая простая и быстрая модель - логистическая регрессия:"
   ]
  },
  {
   "cell_type": "code",
   "execution_count": 43,
   "id": "7e3fb540",
   "metadata": {},
   "outputs": [],
   "source": [
    "%%time\n",
    "lr = LogisticRegression(random_state=42, n_jobs=-1, max_iter=100).fit(\n",
    "    X_train_w, y_train\n",
    ")"
   ]
  },
  {
   "cell_type": "code",
   "execution_count": 44,
   "id": "01f6e3a9",
   "metadata": {},
   "outputs": [],
   "source": [
    "%%time\n",
    "print(\n",
    "    f\"Precision: {cross_val_score(lr, X_train_w, y_train, scoring='precision').mean()}\"\n",
    ")\n",
    "print(f\"Recall: {cross_val_score(lr, X_train_w, y_train, scoring='recall').mean()}\")\n",
    "print(f\"F1: {cross_val_score(lr, X_train_w, y_train, scoring='f1').mean()}\")\n",
    "roc_auc = cross_val_score(lr, X_train_w, y_train, scoring=\"roc_auc\").mean()\n",
    "print(f\"AUC-ROC: {roc_auc}\")"
   ]
  },
  {
   "cell_type": "markdown",
   "id": "5e518785",
   "metadata": {},
   "source": [
    "Получается, что наша модель угадывает достаточно посредственно: значение AUC-ROC 0,59. Попробуем её оптимизировать."
   ]
  },
  {
   "cell_type": "code",
   "execution_count": 45,
   "id": "890490a1",
   "metadata": {
    "tags": []
   },
   "outputs": [
    {
     "data": {},
     "execution_count": 45,
     "metadata": {},
     "output_type": "execute_result"
    }
   ],
   "source": [
    "%%time\n",
    "lr_cv = GridSearchCV(\n",
    "    LogisticRegression(random_state=42, max_iter=100),\n",
    "    param_grid={\n",
    "        \"C\": [0.001, 0.1, 1, 10, 20],\n",
    "    },\n",
    "    cv=5,\n",
    "    scoring=\"roc_auc\",\n",
    ")\n",
    "lr_cv.fit(X_train_w, y_train)"
   ]
  },
  {
   "cell_type": "code",
   "execution_count": 46,
   "id": "d7172868",
   "metadata": {
    "tags": []
   },
   "outputs": [
    {
     "data": {},
     "execution_count": 46,
     "metadata": {},
     "output_type": "execute_result"
    }
   ],
   "source": [
    "lr_cv.best_estimator_"
   ]
  },
  {
   "cell_type": "markdown",
   "id": "0bada3fe",
   "metadata": {},
   "source": [
    "Оценим качество полученной модели:"
   ]
  },
  {
   "cell_type": "code",
   "execution_count": 47,
   "id": "e1bd6acd",
   "metadata": {
    "tags": []
   },
   "outputs": [],
   "source": [
    "%%time\n",
    "print(\n",
    "    f\"Precision: {cross_val_score(lr_cv.best_estimator_, X_train_w, y_train, scoring='precision').mean()}\"\n",
    ")\n",
    "print(\n",
    "    f\"Recall: {cross_val_score(lr_cv.best_estimator_, X_train_w, y_train, scoring='recall').mean()}\"\n",
    ")\n",
    "print(\n",
    "    f\"F1: {cross_val_score(lr_cv.best_estimator_, X_train_w, y_train, scoring='f1').mean()}\"\n",
    ")\n",
    "print(\n",
    "    f'AUC-ROC: {cross_val_score(lr_cv.best_estimator_, X_train_w, y_train, scoring=\"roc_auc\").mean()}'\n",
    ")"
   ]
  },
  {
   "cell_type": "markdown",
   "id": "ee36bf1a",
   "metadata": {},
   "source": [
    "После оптимизации гиперпараметров наша логистическая регрессия демонстрирует AUC-ROC равный 0,67. "
   ]
  },
  {
   "cell_type": "markdown",
   "id": "4f6b99fd",
   "metadata": {},
   "source": [
    "### Решающее дерево\n",
    "\n",
    "Ещё одной простой и быстрой моделью я вляется решающее дерево. Для начала попробуем построить дерево с параметрами по умолчанию:"
   ]
  },
  {
   "cell_type": "code",
   "execution_count": 48,
   "id": "f8eaeca7",
   "metadata": {},
   "outputs": [],
   "source": [
    "%%time\n",
    "dt = DecisionTreeClassifier(random_state=42).fit(X_train_lbl, y_train)"
   ]
  },
  {
   "cell_type": "code",
   "execution_count": 49,
   "id": "5d5fd0fd",
   "metadata": {
    "tags": []
   },
   "outputs": [],
   "source": [
    "%%time\n",
    "print(\n",
    "    f\"Precision: {cross_val_score(dt, X_train_lbl, y_train, scoring='precision').mean()}\"\n",
    ")\n",
    "print(f\"Recall: {cross_val_score(dt, X_train_lbl, y_train, scoring='recall').mean()}\")\n",
    "print(\n",
    "    f\"F1: {cross_val_score(dt, X_train_lbl, y_train, scoring='f1', n_jobs=-1).mean()}\"\n",
    ")\n",
    "print(f\"AUC-ROC: {cross_val_score(dt, X_train_lbl, y_train, scoring='roc_auc').mean()}\")"
   ]
  },
  {
   "cell_type": "markdown",
   "id": "a3386064",
   "metadata": {},
   "source": [
    "Если судить по метрике AUC-ROC, наше решающее дерево справляется с предсказаниями хуже подбрасывания монетки."
   ]
  },
  {
   "cell_type": "code",
   "execution_count": 50,
   "id": "32a3a76d",
   "metadata": {},
   "outputs": [
    {
     "data": {},
     "execution_count": 50,
     "metadata": {},
     "output_type": "execute_result"
    }
   ],
   "source": [
    "%%time\n",
    "dt_cv = GridSearchCV(\n",
    "    DecisionTreeClassifier(random_state=42),\n",
    "    n_jobs=-1,\n",
    "    param_grid={\n",
    "        \"max_leaf_nodes\": range(6, 12, 1),\n",
    "        \"max_depth\": range(2, 10 + 1, 2),\n",
    "    },\n",
    "    cv=5,\n",
    "    scoring=\"roc_auc\",\n",
    ")\n",
    "dt_cv.fit(X_train_lbl, y_train)"
   ]
  },
  {
   "cell_type": "code",
   "execution_count": 51,
   "id": "f5d759cd",
   "metadata": {},
   "outputs": [
    {
     "data": {},
     "execution_count": 51,
     "metadata": {},
     "output_type": "execute_result"
    }
   ],
   "source": [
    "dt_cv.best_estimator_"
   ]
  },
  {
   "cell_type": "code",
   "execution_count": 52,
   "id": "8c89397a",
   "metadata": {},
   "outputs": [],
   "source": [
    "%%time\n",
    "print(\n",
    "    f\"Precision: {cross_val_score(dt_cv.best_estimator_, X_train_lbl, y_train, scoring='precision').mean()}\"\n",
    ")\n",
    "print(\n",
    "    f\"Recall: {cross_val_score(dt_cv.best_estimator_, X_train_lbl, y_train, scoring='recall').mean()}\"\n",
    ")\n",
    "print(\n",
    "    f\"F1: {cross_val_score(dt_cv.best_estimator_, X_train_lbl, y_train, scoring='f1').mean()}\"\n",
    ")\n",
    "print(\n",
    "    f\"AUC-ROC: {cross_val_score(dt_cv.best_estimator_, X_train_lbl, y_train, scoring='roc_auc').mean()}\"\n",
    ")"
   ]
  },
  {
   "cell_type": "markdown",
   "id": "f2081a3a",
   "metadata": {},
   "source": [
    "После тюнинга наше решающее дерево догнало логистическую регрессию по метрике `AUC-ROC`. Пока лучшее значение  0,64.\n",
    "\n",
    "Посмотрим, как поведёт себя дерево на сбалансированных данных"
   ]
  },
  {
   "cell_type": "code",
   "execution_count": 53,
   "id": "e8ea97f3",
   "metadata": {},
   "outputs": [],
   "source": [
    "dt_over = DecisionTreeClassifier(max_depth=4, max_leaf_nodes=7, random_state=42).fit(\n",
    "    X_over, y_over\n",
    ")"
   ]
  },
  {
   "cell_type": "code",
   "execution_count": 81,
   "id": "9418b346",
   "metadata": {},
   "outputs": [],
   "source": [
    "%%time\n",
    "print(\n",
    "    f\"Precision: {cross_val_score(dt_over, X_train_lbl, y_train, scoring='precision').mean()}\"\n",
    ")\n",
    "print(f\"Recall: {cross_val_score(dt_over, X_train_lbl, y_train, scoring='recall').mean()}\")\n",
    "print(f\"F1: {cross_val_score(dt_over, X_train_lbl, y_train, scoring='f1').mean()}\")\n",
    "print(f\"AUC-ROC: {cross_val_score(dt_over, X_train_lbl, y_train, scoring='roc_auc').mean()}\")"
   ]
  },
  {
   "cell_type": "markdown",
   "id": "f0217cda",
   "metadata": {},
   "source": [
    "Решающее дерево, обученное на сбалансированных данных практически не повысило качество прогноза на исходных. В рамках данной задачи балансировка классов не дала дереву преимуществ. "
   ]
  },
  {
   "cell_type": "markdown",
   "id": "bc1ca955",
   "metadata": {},
   "source": [
    "### Случайный лес\n",
    "\n",
    "Опять же начнём со значений по умолчанию."
   ]
  },
  {
   "cell_type": "code",
   "execution_count": 82,
   "id": "211c1b70",
   "metadata": {},
   "outputs": [],
   "source": [
    "%%time\n",
    "rf = RandomForestClassifier(random_state=42).fit(X_train_lbl, y_train)"
   ]
  },
  {
   "cell_type": "code",
   "execution_count": 83,
   "id": "514319a3",
   "metadata": {},
   "outputs": [],
   "source": [
    "%%time\n",
    "print(\n",
    "    f\"Precision: {cross_val_score(rf, X_train_lbl, y_train, scoring='precision', ).mean()}\"\n",
    ")\n",
    "print(f\"Recall: {cross_val_score(rf, X_train_lbl, y_train, scoring='recall',).mean()}\")\n",
    "print(f\"F1: {cross_val_score(rf, X_train_lbl, y_train, scoring='f1', ).mean()}\")\n",
    "print(f\"AUC-ROC: {cross_val_score(rf, X_train_lbl, y_train, scoring='roc_auc').mean()}\")"
   ]
  },
  {
   "cell_type": "markdown",
   "id": "2783969b",
   "metadata": {},
   "source": [
    "Так же как и одиночное дерево, лес со значениями по умолчанию едва способен соперничать даже с монеткой. Посмотрим, чего можно добиться тюнингом гиперпараметров. "
   ]
  },
  {
   "cell_type": "code",
   "execution_count": 84,
   "id": "bad1fdce",
   "metadata": {},
   "outputs": [
    {
     "data": {},
     "execution_count": 84,
     "metadata": {},
     "output_type": "execute_result"
    }
   ],
   "source": [
    "%%time\n",
    "rf_cv = GridSearchCV(\n",
    "    RandomForestClassifier(random_state=42),\n",
    "    n_jobs=-1,\n",
    "    param_grid={\n",
    "        \"n_estimators\": range(10, 51, 10),\n",
    "        \"max_depth\": range(2, 13, 2),\n",
    "        \"min_samples_leaf\": range(1, 8),\n",
    "        \"min_samples_split\": range(2, 10, 2),\n",
    "    },\n",
    "    cv=5,\n",
    "    scoring=\"roc_auc\",\n",
    ")\n",
    "rf_cv.fit(X_train_lbl, y_train)"
   ]
  },
  {
   "cell_type": "code",
   "execution_count": 85,
   "id": "7de679f7",
   "metadata": {},
   "outputs": [
    {
     "data": {},
     "execution_count": 85,
     "metadata": {},
     "output_type": "execute_result"
    }
   ],
   "source": [
    "rf_cv.best_estimator_"
   ]
  },
  {
   "cell_type": "markdown",
   "id": "bab2a4ef",
   "metadata": {},
   "source": [
    "Посмотрим результаты оттюнингованного случайного леса на кросс-валидации: "
   ]
  },
  {
   "cell_type": "code",
   "execution_count": 86,
   "id": "ba093402",
   "metadata": {},
   "outputs": [],
   "source": [
    "%%time\n",
    "print(\n",
    "    f\"Precision: {cross_val_score(rf_cv.best_estimator_, X_train_lbl, y_train, scoring='precision').mean()}\"\n",
    ")\n",
    "print(\n",
    "    f\"Recall: {cross_val_score(rf_cv.best_estimator_, X_train_lbl, y_train, scoring='recall').mean()}\"\n",
    ")\n",
    "print(\n",
    "    f\"F1: {cross_val_score(rf_cv.best_estimator_, X_train_lbl, y_train, scoring='f1').mean()}\"\n",
    ")\n",
    "print(\n",
    "    f\"AUC-ROC: { cross_val_score(rf_cv.best_estimator_, X_train_lbl, y_train, scoring='roc_auc').mean()}\"\n",
    ")"
   ]
  },
  {
   "cell_type": "markdown",
   "id": "7cc16b14",
   "metadata": {},
   "source": [
    "Пока наилучшие показатели имеет решающее дерево на сбалансированных данных. Пора попробовать на них же и случайный лес."
   ]
  },
  {
   "cell_type": "code",
   "execution_count": 87,
   "id": "7f3af089",
   "metadata": {},
   "outputs": [],
   "source": [
    "rf_over = RandomForestClassifier(max_depth=2, n_estimators=10, random_state=42).fit(\n",
    "    X_over, y_over\n",
    ")"
   ]
  },
  {
   "cell_type": "code",
   "execution_count": 108,
   "id": "a03dd6f6",
   "metadata": {},
   "outputs": [],
   "source": [
    "%%time\n",
    "print(\n",
    "    f\"Precision: {cross_val_score(rf_over, X_train_lbl, y_train, scoring='precision').mean()}\"\n",
    ")\n",
    "print(f\"Recall: {cross_val_score(rf_over, X_train_lbl, y_train, scoring='recall').mean()}\")\n",
    "print(f\"F1: {cross_val_score(rf_over, X_train_lbl, y_train, scoring='f1').mean()}\")\n",
    "print(f\"AUC-ROC: {cross_val_score(rf_over, X_train_lbl, y_train, scoring='roc_auc').mean()}\")"
   ]
  },
  {
   "cell_type": "markdown",
   "id": "0224b309",
   "metadata": {},
   "source": [
    "Значение `AUC-ROC` для случайного леса также не изменилось при обучении на сбалансированных данных. "
   ]
  },
  {
   "cell_type": "markdown",
   "id": "889b0e8b",
   "metadata": {},
   "source": [
    "### Проверка моделей на тестовой выборке\n",
    "\n",
    "Порезультатам обучения моделей на тренировочной выборке и проверки на кросс-валидации, наилучшее значение метрики `AUC-ROC` показало оттюнингованное решающее дерево. Посмотрим как оно поведёт себя на тестовой выборке. За одно посмотрим на тестовых значениях и остальные модели, благо их результаты чрезвычайно близки."
   ]
  },
  {
   "cell_type": "code",
   "execution_count": 109,
   "id": "afd6e260",
   "metadata": {},
   "outputs": [],
   "source": [
    "%%time\n",
    "predict = rf_over.predict(X_test_lbl)\n",
    "print(f\"Precision: {precision_score(y_test, predict)}\")\n",
    "print(f\"Recall: {recall_score(y_test, predict)}\")\n",
    "print(f\"F1: {f1_score(y_test, predict)}\")\n",
    "probs = rf_over.predict_proba(X_test_lbl)\n",
    "probs = probs[:, 1]\n",
    "roc_auc = roc_auc_score(y_test, probs)\n",
    "print(f\"AUC-ROC: {roc_auc}\")"
   ]
  },
  {
   "cell_type": "code",
   "execution_count": 110,
   "id": "8dd8672d",
   "metadata": {
    "tags": []
   },
   "outputs": [
    {
     "data": {
      "image/png": "[encoded data removed]"
     },
     "metadata": {},
     "output_type": "display_data"
    }
   ],
   "source": [
    "probs = rf_over.predict_proba(X_test_lbl)\n",
    "preds = probs[:, 1]\n",
    "fpr, tpr, threshold = roc_curve(y_test, preds)\n",
    "\n",
    "plt.title(\"ROC-кривая. Случайный лес\")\n",
    "plt.plot(fpr, tpr, \"b\", label=f\"AUC = {roc_auc:0.2f}\")\n",
    "plt.legend(loc=\"lower right\")\n",
    "plt.plot([0, 1], [0, 1], \"r--\")\n",
    "plt.ylabel(\"True Positive Rate\")\n",
    "plt.xlabel(\"False Positive Rate\")\n",
    "plt.show()"
   ]
  },
  {
   "cell_type": "markdown",
   "id": "7517aedb",
   "metadata": {},
   "source": [
    "Метрика `AUC-ROC` на тестовой выборке чуть снизилась, но не сильно: до 0,72."
   ]
  },
  {
   "cell_type": "code",
   "execution_count": 111,
   "id": "83c7270f",
   "metadata": {},
   "outputs": [],
   "source": [
    "%%time\n",
    "predict = dt_over.predict(X_test_lbl)\n",
    "print(f\"Precision: {precision_score(y_test, predict)}\")\n",
    "print(f\"Recall: {recall_score(y_test, predict)}\")\n",
    "print(f\"F1: {f1_score(y_test, predict)}\")\n",
    "probs = dt_over.predict_proba(X_test_lbl)\n",
    "probs = probs[:, 1]\n",
    "roc_auc = roc_auc_score(y_test, probs)\n",
    "print(f\"AUC-ROC: {roc_auc}\")"
   ]
  },
  {
   "cell_type": "code",
   "execution_count": 112,
   "id": "64d32889",
   "metadata": {
    "tags": []
   },
   "outputs": [
    {
     "data": {
      "image/png": "[encoded data removed]"
     },
     "metadata": {},
     "output_type": "display_data"
    }
   ],
   "source": [
    "probs = dt_over.predict_proba(X_test_lbl)\n",
    "preds = probs[:, 1]\n",
    "fpr, tpr, threshold = roc_curve(y_test, preds)\n",
    "\n",
    "plt.title(\"ROC-кривая. решающее дерево\")\n",
    "plt.plot(fpr, tpr, \"b\", label=f\"AUC = {roc_auc:0.2f}\")\n",
    "plt.legend(loc=\"lower right\")\n",
    "plt.plot([0, 1], [0, 1], \"r--\")\n",
    "plt.ylabel(\"True Positive Rate\")\n",
    "plt.xlabel(\"False Positive Rate\")\n",
    "plt.show()"
   ]
  },
  {
   "cell_type": "markdown",
   "id": "962cc1aa",
   "metadata": {},
   "source": [
    "Решающее дерево на тестовой выборке показали заметное падение метрик `AUC-ROC` и отставание от случайного леса, хотя показатели ощутимо выше случайной модели."
   ]
  },
  {
   "cell_type": "markdown",
   "id": "130e761f",
   "metadata": {},
   "source": [
    "Посмотрим как логистическая регрессия покажет себя на тестовой выборке."
   ]
  },
  {
   "cell_type": "code",
   "execution_count": 113,
   "id": "d1e6e196",
   "metadata": {},
   "outputs": [],
   "source": [
    "%%time\n",
    "predict = lr_cv.best_estimator_.predict(X_test_w)\n",
    "print(f\"Precision: {precision_score(y_test, predict)}\")\n",
    "print(f\"Recall: {recall_score(y_test, predict)}\")\n",
    "print(f\"F1: {f1_score(y_test, predict)}\")\n",
    "probs = lr_cv.predict_proba(X_test_w)\n",
    "probs = probs[:, 1]\n",
    "roc_auc = roc_auc_score(y_test, probs)\n",
    "print(f\"AUC-ROC: {roc_auc}\")"
   ]
  },
  {
   "cell_type": "markdown",
   "id": "c9aa716e",
   "metadata": {},
   "source": [
    "Переобучение логистической регрессии не свойственно и она хорошо показала себя на тестовой выборке: падение метрики `AUC-ROC` произошло, но не так драматично, как у дерева и леса."
   ]
  },
  {
   "cell_type": "code",
   "execution_count": 114,
   "id": "87c2c104",
   "metadata": {
    "tags": []
   },
   "outputs": [
    {
     "data": {
      "image/png": "[encoded data removed]"
     },
     "metadata": {},
     "output_type": "display_data"
    }
   ],
   "source": [
    "probs = lr_cv.best_estimator_.predict_proba(X_test_w)\n",
    "preds = probs[:, 1]\n",
    "fpr, tpr, threshold = roc_curve(y_test, preds)\n",
    "\n",
    "plt.title(\"ROC-кривая. Логистическая регрессия\")\n",
    "plt.plot(fpr, tpr, \"b\", label=f\"AUC = {roc_auc:0.2f}\")\n",
    "plt.legend(loc=\"lower right\")\n",
    "plt.plot([0, 1], [0, 1], \"r--\")\n",
    "plt.ylabel(\"True Positive Rate\")\n",
    "plt.xlabel(\"False Positive Rate\")\n",
    "plt.show()"
   ]
  },
  {
   "cell_type": "markdown",
   "id": "7d0902e2",
   "metadata": {},
   "source": [
    "Удивительно, но логистическая кривая на тестовой выборке обогнала всех, пусть и с минимальным отрывом: `AUC-ROC` 0,73."
   ]
  },
  {
   "cell_type": "markdown",
   "id": "116825e2",
   "metadata": {},
   "source": [
    "Посмотрим, какие из признаков оказались наиболее значимыми при прогнозе:"
   ]
  },
  {
   "cell_type": "code",
   "execution_count": 115,
   "id": "e0e01515",
   "metadata": {},
   "outputs": [
    {
     "data": {},
     "execution_count": 115,
     "metadata": {},
     "output_type": "execute_result"
    }
   ],
   "source": [
    "feature_importance = pd.DataFrame(\n",
    "    {\n",
    "        \"feature\": list(X_test_w.columns),\n",
    "        \"feature_importance\": [abs(i) for i in lr_cv.best_estimator_.coef_[0]],\n",
    "    }\n",
    ")\n",
    "feature_importance.sort_values(\"feature_importance\", ascending=False).head(20)"
   ]
  },
  {
   "cell_type": "markdown",
   "id": "444a13ad",
   "metadata": {},
   "source": [
    "Одним из направлений дальнейшего улучшения модели логистической регрессии может стать отбрасывание наименее значимых признаков:"
   ]
  },
  {
   "cell_type": "code",
   "execution_count": 116,
   "id": "0e63031b",
   "metadata": {
    "tags": []
   },
   "outputs": [],
   "source": [
    "%%time\n",
    "predict = lr_cv.best_estimator_.predict(X_test_w)\n",
    "# roc_auc = roc_auc_score(y_test, predict) ### должны быть вероятности\n",
    "probs = lr_cv.predict_proba(X_test_w)\n",
    "probs = probs[:, 1]\n",
    "\n",
    "X_train_new = X_train_w.copy()\n",
    "X_test_new = X_test_w.copy()\n",
    "aucs = [{\"params\": X_test_new.shape[1], \"auc\": roc_auc, \"X_test\": X_test_new}]\n",
    "best_auc = 0\n",
    "\n",
    "features_rank = feature_importance.sort_values(\"feature_importance\", ascending=True)[\n",
    "    \"feature\"\n",
    "]\n",
    "lr_new = LogisticRegression(random_state=42, max_iter=75)\n",
    "\n",
    "for f in features_rank[:-2]:\n",
    "    X_train_new.drop([f], axis=1, inplace=True)\n",
    "    X_test_new.drop([f], axis=1, inplace=True)\n",
    "    roc_auc = cross_val_score(lr_new, X_train_new, y_train, scoring=\"roc_auc\").mean()\n",
    "    aucs.append({\"params\": X_test_new.shape[1], \"auc\": roc_auc, \"X_test\": X_test_new})\n",
    "    if best_auc < roc_auc:\n",
    "        best_auc = roc_auc\n",
    "\n",
    "print(f\"best AUC-ROC: {best_auc}\")"
   ]
  },
  {
   "cell_type": "code",
   "execution_count": 117,
   "id": "92b3759e",
   "metadata": {},
   "outputs": [],
   "source": [
    "aucs = pd.DataFrame(aucs)"
   ]
  },
  {
   "cell_type": "code",
   "execution_count": 118,
   "id": "f819e2fb",
   "metadata": {},
   "outputs": [
    {
     "data": {},
     "execution_count": 118,
     "metadata": {},
     "output_type": "execute_result"
    }
   ],
   "source": [
    "aucs.head()"
   ]
  },
  {
   "cell_type": "code",
   "execution_count": 119,
   "id": "df4d2f81",
   "metadata": {},
   "outputs": [
    {
     "data": {
      "image/png": "[encoded data removed]"
     },
     "metadata": {},
     "output_type": "display_data"
    }
   ],
   "source": [
    "aucs.plot(\n",
    "    kind=\"line\",\n",
    "    x=\"params\",\n",
    "    y=\"auc\",\n",
    "    rot=90,\n",
    "    figsize=(24, 8),\n",
    "    xlabel=\"# params\",\n",
    "    ylabel=\"auc-roc\",\n",
    ");"
   ]
  },
  {
   "cell_type": "markdown",
   "id": "1a7957c5",
   "metadata": {},
   "source": [
    "Интересно, что пик находится вблизи довольно малого числа параметров от 15 до 22. "
   ]
  },
  {
   "cell_type": "code",
   "execution_count": 120,
   "id": "d1b79c40",
   "metadata": {},
   "outputs": [
    {
     "data": {},
     "execution_count": 120,
     "metadata": {},
     "output_type": "execute_result"
    }
   ],
   "source": [
    "aucs.sort_values(by='auc', ascending=False).head(10)"
   ]
  },
  {
   "cell_type": "markdown",
   "id": "c4722402",
   "metadata": {},
   "source": [
    "На кросс-валидации было достигнуто наилучшее значение `AUC-ROC` 0.75. Посмотрим, что удастся получить на тестовой выборке"
   ]
  },
  {
   "cell_type": "code",
   "execution_count": 121,
   "id": "fa8763af",
   "metadata": {},
   "outputs": [
    {
     "data": {},
     "execution_count": 121,
     "metadata": {},
     "output_type": "execute_result"
    }
   ],
   "source": [
    "lr_best = GridSearchCV(\n",
    "    LogisticRegression(random_state=42, max_iter=100),\n",
    "    param_grid={\n",
    "        \"C\": [0.001, 0.01, 1, 10, 100],\n",
    "    },\n",
    "    cv=5,\n",
    "    scoring=\"roc_auc\",\n",
    ")\n",
    "lr_best.fit(X_train_w[list(features_rank.iloc[::-1].loc[:16])], y_train)"
   ]
  },
  {
   "cell_type": "code",
   "execution_count": 122,
   "id": "e933dd99",
   "metadata": {},
   "outputs": [],
   "source": [
    "%%time\n",
    "probs = lr_best.predict_proba(X_test_w[list(features_rank.iloc[::-1].loc[:16])])\n",
    "probs = probs[:, 1]\n",
    "roc_auc = roc_auc_score(y_test, probs)\n",
    "print(f\"AUC-ROC: {roc_auc}\")"
   ]
  },
  {
   "cell_type": "code",
   "execution_count": 123,
   "id": "0ca3d6e5",
   "metadata": {
    "tags": []
   },
   "outputs": [
    {
     "data": {
      "image/png": "[encoded data removed]"
     },
     "metadata": {},
     "output_type": "display_data"
    }
   ],
   "source": [
    "probs = lr_best.best_estimator_.predict_proba(X_test_w[list(features_rank.iloc[::-1].loc[:16])])\n",
    "preds = probs[:, 1]\n",
    "fpr, tpr, threshold = roc_curve(y_test, preds)\n",
    "\n",
    "plt.title(\"ROC-кривая. Логистическая регрессия\")\n",
    "plt.plot(fpr, tpr, \"b\", label=f\"AUC = {roc_auc:0.2f}\")\n",
    "plt.legend(loc=\"lower right\")\n",
    "plt.plot([0, 1], [0, 1], \"r--\")\n",
    "plt.ylabel(\"True Positive Rate\")\n",
    "plt.xlabel(\"False Positive Rate\")\n",
    "plt.show()"
   ]
  },
  {
   "cell_type": "markdown",
   "id": "1cebf5d3",
   "metadata": {},
   "source": [
    "При избавлении от наименее значимых параметров, когда количество признаков остаётся в диапазоне 15-22 можно выйти на более высокое плато значений (на тренировочной выборке), и там значение `AUC-ROC` на тестовой выборке оказывается на уровне 0,72. Так что наивысшее значение по-прежнему остаётся на полном множестве признаков и  `AUC-ROC` равно 0,73."
   ]
  },
  {
   "cell_type": "markdown",
   "id": "96fda4a9",
   "metadata": {},
   "source": [
    "### Выводы\n",
    "\n",
    "После обучения на тренировочной выборке и проверки на тестовой, и наилучшее значение метрики `ROC-AUC` демонстрирует логистическая регрессия."
   ]
  },
  {
   "cell_type": "markdown",
   "id": "8a92a28f",
   "metadata": {},
   "source": [
    "## Оценка годовой прибыли предсказательной модели\n",
    "\n",
    "Оценим, какой дополнительный доход принесёт наша модель за год, чтобы понять, окупит ли она затраты на внедрение.\n",
    "\n",
    "Наша тренировочная выборка охватывает период в год, тогда как тестовая выборка покрывает лишь первые 35 недель 2017 года. Вычислим доход в виде депозита, удержанного с ненадёжных постояльцев на имеющемся интервале и экстраполируем результат на полный год."
   ]
  },
  {
   "cell_type": "code",
   "execution_count": 124,
   "id": "4b871e50",
   "metadata": {},
   "outputs": [],
   "source": [
    "predict_canceled = pd.Series(\n",
    "    lr_cv.best_estimator_.predict(X_test_w), name=\"predict_canceled\"\n",
    ")"
   ]
  },
  {
   "cell_type": "markdown",
   "id": "8c0ec525",
   "metadata": {},
   "source": [
    "Совместим предсказания, фактические отказы и необходимы для расчётов признаки постояльцев:"
   ]
  },
  {
   "cell_type": "code",
   "execution_count": 125,
   "id": "bbbffb60",
   "metadata": {},
   "outputs": [],
   "source": [
    "predict_profit_loss = pd.concat(\n",
    "    [\n",
    "        X_test[[\"arrival_date_month\", \"reserved_room_type\"]],\n",
    "        y_test,\n",
    "        predict_canceled,\n",
    "    ],\n",
    "    axis=1,\n",
    ")"
   ]
  },
  {
   "cell_type": "markdown",
   "id": "cf90f2a2",
   "metadata": {},
   "source": [
    "Добавим информацию о востребованном депозите на основе прогноза отмены брони. Попутно в датафрейм будут добавлены данные о ценах и сезонных факторах."
   ]
  },
  {
   "cell_type": "code",
   "execution_count": 126,
   "id": "6ac6a722",
   "metadata": {},
   "outputs": [],
   "source": [
    "predict_profit_loss = add_deposit(predict_profit_loss)"
   ]
  },
  {
   "cell_type": "markdown",
   "id": "4e69d1ce",
   "metadata": {},
   "source": [
    "Осталось посчитать доход за период, когда мы правильно предсказали отмену брони и затребовали депозит:"
   ]
  },
  {
   "cell_type": "code",
   "execution_count": 127,
   "id": "c450bc6f",
   "metadata": {},
   "outputs": [
    {
     "data": {},
     "execution_count": 127,
     "metadata": {},
     "output_type": "execute_result"
    }
   ],
   "source": [
    "incoming_additional = model_income(predict_profit_loss)\n",
    "incoming_additional"
   ]
  },
  {
   "cell_type": "markdown",
   "id": "39d4bf6d",
   "metadata": {},
   "source": [
    "Внедрение предсказательной системы обещает прирост прибыли в размере более 1 млн. уже на первых (хотя и наиболее \"горячих\") 8 месяцах года.\n",
    "\n",
    "В ситуации же, когда мы не смогли предсказать отмену, отель несёт те же расходы, что и без внедрения предсказательной системы."
   ]
  },
  {
   "cell_type": "markdown",
   "id": "5a1e0426",
   "metadata": {},
   "source": [
    "### Выводы\n",
    "\n",
    "В ходе подготовки данных к машинному обучению были исследованы признаки, которые помогли бы выявить ненадёжных постояльцев: это как правило путешественники без маленьких детей и автомобиля, а также, возможно, из ряда \"ненадёжных\" стран.\n",
    "\n",
    "По результатам обучения моделей на тренировочной выборке и проверки на кросс-валидации, наилучшее значение метрики `AUC-ROC` показала оттюнингованная логистическая регрессия. \n",
    "\n",
    "Вычисление ожидаемой дополнительной прибыли составило на тестовой выборке более 1 млн. на 8 месяцах, что позволяет прогнозировать окупаимость внедрения прогностической системы в течение первого года эксплуатации."
   ]
  }
 ],
 "metadata": {
  "ExecuteTimeLog": [
   {
    "duration": 1069,
    "start_time": "2021-12-15T11:34:00.150Z"
   },
   {
    "duration": 5,
    "start_time": "2021-12-15T11:34:01.221Z"
   },
   {
    "duration": 337,
    "start_time": "2021-12-15T11:34:01.229Z"
   },
   {
    "duration": 20,
    "start_time": "2021-12-15T11:34:01.569Z"
   },
   {
    "duration": 29,
    "start_time": "2021-12-15T11:34:01.591Z"
   },
   {
    "duration": 17,
    "start_time": "2021-12-15T11:34:01.622Z"
   },
   {
    "duration": 87,
    "start_time": "2021-12-15T11:34:01.641Z"
   },
   {
    "duration": 4,
    "start_time": "2021-12-15T11:34:01.732Z"
   },
   {
    "duration": 116,
    "start_time": "2021-12-15T11:34:01.738Z"
   },
   {
    "duration": 53,
    "start_time": "2021-12-15T11:34:01.856Z"
   },
   {
    "duration": 15,
    "start_time": "2021-12-15T11:34:01.911Z"
   },
   {
    "duration": 337,
    "start_time": "2021-12-15T11:34:20.430Z"
   },
   {
    "duration": 340,
    "start_time": "2021-12-15T11:34:46.360Z"
   },
   {
    "duration": 336,
    "start_time": "2021-12-15T11:34:52.655Z"
   },
   {
    "duration": 13,
    "start_time": "2021-12-15T11:35:35.263Z"
   },
   {
    "duration": 12,
    "start_time": "2021-12-15T11:35:44.260Z"
   },
   {
    "duration": 9,
    "start_time": "2021-12-15T11:35:48.396Z"
   },
   {
    "duration": 327,
    "start_time": "2021-12-15T11:36:15.119Z"
   },
   {
    "duration": 5,
    "start_time": "2021-12-15T11:36:46.234Z"
   },
   {
    "duration": 4,
    "start_time": "2021-12-15T11:36:59.847Z"
   },
   {
    "duration": 37,
    "start_time": "2021-12-15T12:09:00.009Z"
   },
   {
    "duration": 4,
    "start_time": "2021-12-15T12:09:20.999Z"
   },
   {
    "duration": 5,
    "start_time": "2021-12-15T12:09:27.010Z"
   },
   {
    "duration": 4,
    "start_time": "2021-12-15T12:09:33.431Z"
   },
   {
    "duration": 14,
    "start_time": "2021-12-15T12:13:22.776Z"
   },
   {
    "duration": 37,
    "start_time": "2021-12-15T12:13:31.439Z"
   },
   {
    "duration": 34,
    "start_time": "2021-12-15T12:13:39.041Z"
   },
   {
    "duration": 59,
    "start_time": "2021-12-15T12:13:51.512Z"
   },
   {
    "duration": 32,
    "start_time": "2021-12-15T12:14:31.059Z"
   },
   {
    "duration": 169,
    "start_time": "2021-12-15T12:15:46.975Z"
   },
   {
    "duration": 4,
    "start_time": "2021-12-15T12:18:29.772Z"
   },
   {
    "duration": 4,
    "start_time": "2021-12-15T12:18:40.276Z"
   },
   {
    "duration": 1549,
    "start_time": "2021-12-19T09:07:44.550Z"
   },
   {
    "duration": 139959,
    "start_time": "2021-12-19T09:07:46.101Z"
   },
   {
    "duration": -405,
    "start_time": "2021-12-19T09:10:06.469Z"
   },
   {
    "duration": -416,
    "start_time": "2021-12-19T09:10:06.481Z"
   },
   {
    "duration": -423,
    "start_time": "2021-12-19T09:10:06.490Z"
   },
   {
    "duration": -429,
    "start_time": "2021-12-19T09:10:06.497Z"
   },
   {
    "duration": -435,
    "start_time": "2021-12-19T09:10:06.504Z"
   },
   {
    "duration": -440,
    "start_time": "2021-12-19T09:10:06.511Z"
   },
   {
    "duration": -445,
    "start_time": "2021-12-19T09:10:06.517Z"
   },
   {
    "duration": -450,
    "start_time": "2021-12-19T09:10:06.524Z"
   },
   {
    "duration": -454,
    "start_time": "2021-12-19T09:10:06.530Z"
   },
   {
    "duration": -459,
    "start_time": "2021-12-19T09:10:06.536Z"
   },
   {
    "duration": -463,
    "start_time": "2021-12-19T09:10:06.542Z"
   },
   {
    "duration": -468,
    "start_time": "2021-12-19T09:10:06.548Z"
   },
   {
    "duration": -473,
    "start_time": "2021-12-19T09:10:06.555Z"
   },
   {
    "duration": -488,
    "start_time": "2021-12-19T09:10:06.572Z"
   },
   {
    "duration": 1517,
    "start_time": "2021-12-19T09:13:48.728Z"
   },
   {
    "duration": 44,
    "start_time": "2021-12-19T09:13:50.248Z"
   },
   {
    "duration": 6,
    "start_time": "2021-12-19T09:13:50.294Z"
   },
   {
    "duration": 464,
    "start_time": "2021-12-19T09:13:50.303Z"
   },
   {
    "duration": 36,
    "start_time": "2021-12-19T09:13:50.769Z"
   },
   {
    "duration": 30,
    "start_time": "2021-12-19T09:13:50.808Z"
   },
   {
    "duration": 21,
    "start_time": "2021-12-19T09:13:50.860Z"
   },
   {
    "duration": 141,
    "start_time": "2021-12-19T09:13:50.885Z"
   },
   {
    "duration": 131,
    "start_time": "2021-12-19T09:13:51.029Z"
   },
   {
    "duration": 111,
    "start_time": "2021-12-19T09:13:51.163Z"
   },
   {
    "duration": 8,
    "start_time": "2021-12-19T09:13:51.277Z"
   },
   {
    "duration": 181,
    "start_time": "2021-12-19T09:13:51.288Z"
   },
   {
    "duration": 21,
    "start_time": "2021-12-19T09:13:51.472Z"
   },
   {
    "duration": 16,
    "start_time": "2021-12-19T09:13:51.496Z"
   },
   {
    "duration": 429,
    "start_time": "2021-12-19T09:13:51.514Z"
   },
   {
    "duration": -60,
    "start_time": "2021-12-19T09:13:52.005Z"
   },
   {
    "duration": 97690,
    "start_time": "2021-12-19T09:43:47.285Z"
   },
   {
    "duration": 1514,
    "start_time": "2021-12-19T09:46:19.615Z"
   },
   {
    "duration": 48,
    "start_time": "2021-12-19T09:46:21.132Z"
   },
   {
    "duration": 7,
    "start_time": "2021-12-19T09:46:21.184Z"
   },
   {
    "duration": 535,
    "start_time": "2021-12-19T09:46:21.194Z"
   },
   {
    "duration": 41,
    "start_time": "2021-12-19T09:46:21.732Z"
   },
   {
    "duration": 32,
    "start_time": "2021-12-19T09:46:21.775Z"
   },
   {
    "duration": 22,
    "start_time": "2021-12-19T09:46:21.809Z"
   },
   {
    "duration": 132,
    "start_time": "2021-12-19T09:46:21.860Z"
   },
   {
    "duration": 125,
    "start_time": "2021-12-19T09:46:21.995Z"
   },
   {
    "duration": 105,
    "start_time": "2021-12-19T09:46:22.122Z"
   },
   {
    "duration": 7,
    "start_time": "2021-12-19T09:46:22.229Z"
   },
   {
    "duration": 164,
    "start_time": "2021-12-19T09:46:22.239Z"
   },
   {
    "duration": 21,
    "start_time": "2021-12-19T09:46:22.405Z"
   },
   {
    "duration": 39,
    "start_time": "2021-12-19T09:46:22.429Z"
   },
   {
    "duration": 699,
    "start_time": "2021-12-19T09:46:22.470Z"
   },
   {
    "duration": 3,
    "start_time": "2021-12-19T09:46:23.171Z"
   },
   {
    "duration": 21,
    "start_time": "2021-12-19T09:46:23.176Z"
   },
   {
    "duration": 6,
    "start_time": "2021-12-19T10:29:09.783Z"
   },
   {
    "duration": 22,
    "start_time": "2021-12-19T10:35:43.249Z"
   },
   {
    "duration": 70,
    "start_time": "2021-12-19T10:35:47.401Z"
   },
   {
    "duration": 1250,
    "start_time": "2021-12-19T10:35:55.793Z"
   },
   {
    "duration": 33,
    "start_time": "2021-12-19T10:36:01.800Z"
   },
   {
    "duration": 10,
    "start_time": "2021-12-19T10:36:03.125Z"
   },
   {
    "duration": 14,
    "start_time": "2021-12-19T10:36:06.270Z"
   },
   {
    "duration": 31,
    "start_time": "2021-12-19T10:36:23.226Z"
   },
   {
    "duration": 7,
    "start_time": "2021-12-19T10:36:36.676Z"
   },
   {
    "duration": 6,
    "start_time": "2021-12-19T10:36:37.235Z"
   },
   {
    "duration": 13,
    "start_time": "2021-12-19T10:36:37.854Z"
   },
   {
    "duration": 6,
    "start_time": "2021-12-19T10:36:42.608Z"
   },
   {
    "duration": 132,
    "start_time": "2021-12-19T10:36:43.246Z"
   },
   {
    "duration": 5,
    "start_time": "2021-12-19T10:36:52.202Z"
   },
   {
    "duration": 5,
    "start_time": "2021-12-19T10:37:10.568Z"
   },
   {
    "duration": 7,
    "start_time": "2021-12-19T10:37:14.250Z"
   },
   {
    "duration": 6,
    "start_time": "2021-12-19T10:38:15.435Z"
   },
   {
    "duration": 6,
    "start_time": "2021-12-19T10:38:28.801Z"
   },
   {
    "duration": 5,
    "start_time": "2021-12-19T10:38:50.181Z"
   },
   {
    "duration": 86,
    "start_time": "2021-12-19T10:49:49.646Z"
   },
   {
    "duration": 62,
    "start_time": "2021-12-19T10:49:50.927Z"
   },
   {
    "duration": 612,
    "start_time": "2021-12-19T10:52:28.710Z"
   },
   {
    "duration": 64,
    "start_time": "2021-12-19T10:53:01.955Z"
   },
   {
    "duration": 6,
    "start_time": "2021-12-19T10:56:03.699Z"
   },
   {
    "duration": 12,
    "start_time": "2021-12-19T10:56:14.438Z"
   },
   {
    "duration": 141,
    "start_time": "2021-12-19T10:56:17.335Z"
   },
   {
    "duration": 7,
    "start_time": "2021-12-19T10:56:20.560Z"
   },
   {
    "duration": 1086,
    "start_time": "2021-12-19T10:56:21.252Z"
   },
   {
    "duration": 156,
    "start_time": "2021-12-19T11:00:48.286Z"
   },
   {
    "duration": 23,
    "start_time": "2021-12-19T11:01:01.723Z"
   },
   {
    "duration": 91,
    "start_time": "2021-12-19T11:01:35.583Z"
   },
   {
    "duration": 290,
    "start_time": "2021-12-19T11:07:34.420Z"
   },
   {
    "duration": 8032,
    "start_time": "2021-12-19T11:07:44.461Z"
   },
   {
    "duration": 6,
    "start_time": "2021-12-19T11:07:53.749Z"
   },
   {
    "duration": 6,
    "start_time": "2021-12-19T11:08:00.301Z"
   },
   {
    "duration": 6,
    "start_time": "2021-12-19T11:08:05.759Z"
   },
   {
    "duration": 8,
    "start_time": "2021-12-19T11:08:12.856Z"
   },
   {
    "duration": 35,
    "start_time": "2021-12-19T11:09:20.582Z"
   },
   {
    "duration": 15,
    "start_time": "2021-12-19T11:09:25.241Z"
   },
   {
    "duration": 21926,
    "start_time": "2021-12-19T11:10:56.920Z"
   },
   {
    "duration": 9,
    "start_time": "2021-12-19T11:11:29.102Z"
   },
   {
    "duration": 46968,
    "start_time": "2021-12-19T22:26:11.871Z"
   },
   {
    "duration": 40469,
    "start_time": "2021-12-19T22:43:34.722Z"
   },
   {
    "duration": 1596,
    "start_time": "2021-12-19T22:44:15.197Z"
   },
   {
    "duration": 8,
    "start_time": "2021-12-19T22:44:58.463Z"
   },
   {
    "duration": 640,
    "start_time": "2021-12-19T22:44:59.386Z"
   },
   {
    "duration": 179,
    "start_time": "2021-12-19T22:45:05.249Z"
   },
   {
    "duration": 106,
    "start_time": "2021-12-19T22:45:07.716Z"
   },
   {
    "duration": 6,
    "start_time": "2021-12-19T22:45:12.387Z"
   },
   {
    "duration": 157,
    "start_time": "2021-12-19T22:45:17.292Z"
   },
   {
    "duration": 678,
    "start_time": "2021-12-19T22:45:30.678Z"
   }
  ],
  "kernelspec": {
   "display_name": "Python 3 (ipykernel)",
   "language": "python",
   "name": "python3"
  },
  "language_info": {
   "codemirror_mode": {
    "name": "ipython",
    "version": 3
   },
   "file_extension": ".py",
   "mimetype": "text/x-python",
   "name": "python",
   "nbconvert_exporter": "python",
   "pygments_lexer": "ipython3",
   "version": "3.10.6"
  },
  "toc": {
   "base_numbering": 1,
   "nav_menu": {},
   "number_sections": true,
   "sideBar": true,
   "skip_h1_title": true,
   "title_cell": "Table of Contents",
   "title_sidebar": "Contents",
   "toc_cell": false,
   "toc_position": {},
   "toc_section_display": true,
   "toc_window_display": false
  }
 },
 "nbformat": 4,
 "nbformat_minor": 5
}
