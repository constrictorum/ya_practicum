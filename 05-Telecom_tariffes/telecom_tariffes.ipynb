{
 "cells": [
  {
   "cell_type": "markdown",
   "id": "7fe79869",
   "metadata": {},
   "source": [
    "# Проект «Мегалайн»"
   ]
  },
  {
   "cell_type": "markdown",
   "id": "e338ef23",
   "metadata": {},
   "source": [
    "## Цели\n",
    "\n",
    "Исследование двух тарифных планов с целью выявления наиболее прибыльного.\n",
    "\n",
    "## Задачи\n",
    "\n",
    "- Исследовать поведения абонентов двух тарифов (количество звонков и сообщений, время разговоров и расход интернет-трафика)\n",
    "- Сравнение основных показателей тарифов на основании имеющейся выборки (средней выручки и выручки по регионам)"
   ]
  },
  {
   "cell_type": "markdown",
   "id": "3f0dbb05",
   "metadata": {
    "tags": []
   },
   "source": [
    "## Описание данных\n",
    "\n",
    "Данные представлены в пяти таблицах.\n",
    "\n",
    "Таблица users (информация о пользователях):\n",
    "- user_id — уникальный идентификатор пользователя\n",
    "- first_name — имя пользователя\n",
    "- last_name — фамилия пользователя\n",
    "- age — возраст пользователя (годы)\n",
    "- reg_date — дата подключения тарифа (день, месяц, год)\n",
    "- churn_date — дата прекращения пользования тарифом (если значение пропущено, то тариф ещё действовал на момент выгрузки данных)\n",
    "- city — город проживания пользователя\n",
    "- tariff — название тарифного плана\n",
    "\n",
    "Таблица calls (информация о звонках):\n",
    "- id — уникальный номер звонка\n",
    "- call_date — дата звонка\n",
    "- duration — длительность звонка в минутах\n",
    "- user_id — идентификатор пользователя, сделавшего звонок\n",
    "\n",
    "Таблица messages (информация о сообщениях):\n",
    "- id — уникальный номер звонка\n",
    "- message_date — дата сообщения\n",
    "- user_id — идентификатор пользователя, отправившего сообщение\n",
    "\n",
    "Таблица internet (информация об интернет-сессиях):\n",
    "- id — уникальный номер сессии\n",
    "- mb_used — объём потраченного за сессию интернет-трафика (в мегабайтах)\n",
    "- session_date — дата интернет-сессии\n",
    "- user_id — идентификатор пользователя\n",
    "\n",
    "Таблица tariffs (информация о тарифах):\n",
    "- tariff_name — название тарифа\n",
    "- rub_monthly_fee — ежемесячная абонентская плата в рублях\n",
    "- minutes_included — количество минут разговора в месяц, включённых в абонентскую плату\n",
    "- messages_included — количество сообщений в месяц, включённых в абонентскую плату\n",
    "- mb_per_month_included — объём интернет-трафика, включённого в абонентскую плату (в мегабайтах)\n",
    "- rub_per_minute — стоимость минуты разговора сверх тарифного пакета (например, если в тарифе 100 минут разговора в месяц, то со 101 минуты будет взиматься плата)\n",
    "- rub_per_message — стоимость отправки сообщения сверх тарифного пакета\n",
    "- rub_per_gb — стоимость дополнительного гигабайта интернет-трафика сверх тарифного пакета (1 гигабайт = 1024 мегабайта)"
   ]
  },
  {
   "cell_type": "markdown",
   "id": "af3ff44d",
   "metadata": {},
   "source": [
    "## Загрузка необходимых библиотек и данных"
   ]
  },
  {
   "cell_type": "code",
   "execution_count": 1,
   "id": "d2ff6e42",
   "metadata": {},
   "outputs": [
    {
     "name": "stdout",
     "output_type": "stream",
     "text": [
      "Defaulting to user installation because normal site-packages is not writeable\n",
      "Collecting seaborn\n",
      "  Downloading seaborn-0.11.2-py3-none-any.whl (292 kB)\n",
      "\u001b[K     |████████████████████████████████| 292 kB 976 kB/s eta 0:00:01\n",
      "\u001b[?25hRequirement already satisfied, skipping upgrade: pandas>=0.23 in /opt/conda/lib/python3.7/site-packages (from seaborn) (0.25.1)\n",
      "Requirement already satisfied, skipping upgrade: scipy>=1.0 in /opt/conda/lib/python3.7/site-packages (from seaborn) (1.4.1)\n",
      "Requirement already satisfied, skipping upgrade: matplotlib>=2.2 in /opt/conda/lib/python3.7/site-packages (from seaborn) (3.1.0)\n",
      "Requirement already satisfied, skipping upgrade: numpy>=1.15 in /opt/conda/lib/python3.7/site-packages (from seaborn) (1.19.5)\n",
      "Requirement already satisfied, skipping upgrade: python-dateutil>=2.6.1 in /opt/conda/lib/python3.7/site-packages (from pandas>=0.23->seaborn) (2.8.1)\n",
      "Requirement already satisfied, skipping upgrade: pytz>=2017.2 in /opt/conda/lib/python3.7/site-packages (from pandas>=0.23->seaborn) (2021.1)\n",
      "Requirement already satisfied, skipping upgrade: cycler>=0.10 in /opt/conda/lib/python3.7/site-packages (from matplotlib>=2.2->seaborn) (0.10.0)\n",
      "Requirement already satisfied, skipping upgrade: kiwisolver>=1.0.1 in /opt/conda/lib/python3.7/site-packages (from matplotlib>=2.2->seaborn) (1.3.1)\n",
      "Requirement already satisfied, skipping upgrade: pyparsing!=2.0.4,!=2.1.2,!=2.1.6,>=2.0.1 in /opt/conda/lib/python3.7/site-packages (from matplotlib>=2.2->seaborn) (2.4.7)\n",
      "Requirement already satisfied, skipping upgrade: six>=1.5 in /opt/conda/lib/python3.7/site-packages (from python-dateutil>=2.6.1->pandas>=0.23->seaborn) (1.15.0)\n",
      "Installing collected packages: seaborn\n",
      "Successfully installed seaborn-0.11.2\n"
     ]
    }
   ],
   "source": [
    "import sys\n",
    "from distutils.version import StrictVersion\n",
    "\n",
    "if StrictVersion(sys.version.split()[0]) < StrictVersion('3.8.0'):\n",
    "    !pip install -U seaborn"
   ]
  },
  {
   "cell_type": "code",
   "execution_count": 2,
   "id": "df78c90a",
   "metadata": {},
   "outputs": [],
   "source": [
    "from datetime import datetime\n",
    "\n",
    "import numpy as np\n",
    "import pandas as pd\n",
    "import seaborn as sns\n",
    "from matplotlib import pyplot as plt\n",
    "from scipy import stats as st"
   ]
  },
  {
   "cell_type": "code",
   "execution_count": 3,
   "id": "3e838be8",
   "metadata": {},
   "outputs": [],
   "source": [
    "pd.set_option(\"display.precision\", 2)\n",
    "pd.set_option(\"display.max_columns\", 100)"
   ]
  },
  {
   "cell_type": "code",
   "execution_count": 4,
   "id": "78c54e6c",
   "metadata": {},
   "outputs": [],
   "source": [
    "sns.set_style(\"whitegrid\")"
   ]
  },
  {
   "cell_type": "code",
   "execution_count": 5,
   "id": "f9ceceb3",
   "metadata": {},
   "outputs": [],
   "source": [
    "plt.rcParams[\"figure.figsize\"] = (12, 8)"
   ]
  },
  {
   "cell_type": "code",
   "execution_count": 6,
   "id": "6b261def",
   "metadata": {},
   "outputs": [],
   "source": [
    "try:\n",
    "    df_calls = pd.read_csv(\"calls.csv\")\n",
    "except FileNotFoundError:\n",
    "    df_calls = pd.read_csv(\"/datasets/calls.csv\")"
   ]
  },
  {
   "cell_type": "code",
   "execution_count": 7,
   "id": "ede17a8b",
   "metadata": {},
   "outputs": [],
   "source": [
    "try:\n",
    "    df_internet = pd.read_csv(\"internet.csv\", index_col=\"Unnamed: 0\")\n",
    "except FileNotFoundError:\n",
    "    df_internet = pd.read_csv(\"/datasets/internet.csv\")"
   ]
  },
  {
   "cell_type": "code",
   "execution_count": 8,
   "id": "4dfef426",
   "metadata": {},
   "outputs": [],
   "source": [
    "try:\n",
    "    df_messages = pd.read_csv(\"messages.csv\")\n",
    "except FileNotFoundError:\n",
    "    df_messages = pd.read_csv(\"/datasets/messages.csv\")"
   ]
  },
  {
   "cell_type": "code",
   "execution_count": 9,
   "id": "0ff750b8",
   "metadata": {},
   "outputs": [],
   "source": [
    "try:\n",
    "    df_tariffs = pd.read_csv(\"tariffs.csv\")\n",
    "except FileNotFoundError:\n",
    "    df_tariffs = pd.read_csv(\"/datasets/tariffs.csv\")"
   ]
  },
  {
   "cell_type": "code",
   "execution_count": 10,
   "id": "3609ad5a",
   "metadata": {},
   "outputs": [],
   "source": [
    "try:\n",
    "    df_users = pd.read_csv(\"users.csv\")\n",
    "except FileNotFoundError:\n",
    "    df_users = pd.read_csv(\"/datasets/users.csv\")"
   ]
  },
  {
   "cell_type": "markdown",
   "id": "d2f91bcf",
   "metadata": {},
   "source": [
    "## Подготовка данных\n",
    "\n",
    "Первым делом изучем полученные данные на предмет пропусков и аномальных значений. "
   ]
  },
  {
   "cell_type": "markdown",
   "id": "78e1ee3a",
   "metadata": {},
   "source": [
    "### Таблица тарифов"
   ]
  },
  {
   "cell_type": "code",
   "execution_count": 11,
   "id": "9d87c148",
   "metadata": {},
   "outputs": [
    {
     "data": {
      "text/html": [
       "<div>\n",
       "<style scoped>\n",
       "    .dataframe tbody tr th:only-of-type {\n",
       "        vertical-align: middle;\n",
       "    }\n",
       "\n",
       "    .dataframe tbody tr th {\n",
       "        vertical-align: top;\n",
       "    }\n",
       "\n",
       "    .dataframe thead th {\n",
       "        text-align: right;\n",
       "    }\n",
       "</style>\n",
       "<table border=\"1\" class=\"dataframe\">\n",
       "  <thead>\n",
       "    <tr style=\"text-align: right;\">\n",
       "      <th></th>\n",
       "      <th>messages_included</th>\n",
       "      <th>mb_per_month_included</th>\n",
       "      <th>minutes_included</th>\n",
       "      <th>rub_monthly_fee</th>\n",
       "      <th>rub_per_gb</th>\n",
       "      <th>rub_per_message</th>\n",
       "      <th>rub_per_minute</th>\n",
       "      <th>tariff_name</th>\n",
       "    </tr>\n",
       "  </thead>\n",
       "  <tbody>\n",
       "    <tr>\n",
       "      <td>0</td>\n",
       "      <td>50</td>\n",
       "      <td>15360</td>\n",
       "      <td>500</td>\n",
       "      <td>550</td>\n",
       "      <td>200</td>\n",
       "      <td>3</td>\n",
       "      <td>3</td>\n",
       "      <td>smart</td>\n",
       "    </tr>\n",
       "    <tr>\n",
       "      <td>1</td>\n",
       "      <td>1000</td>\n",
       "      <td>30720</td>\n",
       "      <td>3000</td>\n",
       "      <td>1950</td>\n",
       "      <td>150</td>\n",
       "      <td>1</td>\n",
       "      <td>1</td>\n",
       "      <td>ultra</td>\n",
       "    </tr>\n",
       "  </tbody>\n",
       "</table>\n",
       "</div>"
      ],
      "text/plain": [
       "   messages_included  mb_per_month_included  minutes_included  \\\n",
       "0                 50                  15360               500   \n",
       "1               1000                  30720              3000   \n",
       "\n",
       "   rub_monthly_fee  rub_per_gb  rub_per_message  rub_per_minute tariff_name  \n",
       "0              550         200                3               3       smart  \n",
       "1             1950         150                1               1       ultra  "
      ]
     },
     "execution_count": 11,
     "metadata": {},
     "output_type": "execute_result"
    }
   ],
   "source": [
    "df_tariffs.head()"
   ]
  },
  {
   "cell_type": "code",
   "execution_count": 12,
   "id": "34045d88",
   "metadata": {},
   "outputs": [
    {
     "data": {
      "text/plain": [
       "messages_included         int64\n",
       "mb_per_month_included     int64\n",
       "minutes_included          int64\n",
       "rub_monthly_fee           int64\n",
       "rub_per_gb                int64\n",
       "rub_per_message           int64\n",
       "rub_per_minute            int64\n",
       "tariff_name              object\n",
       "dtype: object"
      ]
     },
     "execution_count": 12,
     "metadata": {},
     "output_type": "execute_result"
    }
   ],
   "source": [
    "df_tariffs.dtypes"
   ]
  },
  {
   "cell_type": "markdown",
   "id": "c1672e8b",
   "metadata": {
    "tags": []
   },
   "source": [
    "Таблица с описаниями тарифов, значения и их типы в порядке. Можно было бы преобразовать колонку `tariff_name` к категориальному типу, но вданном случае, когда каждое значение представлено единожды, это кажется чтрезмерным.\n",
    "\n",
    "### Таблица пользователей"
   ]
  },
  {
   "cell_type": "code",
   "execution_count": 13,
   "id": "4b9b7604",
   "metadata": {},
   "outputs": [
    {
     "data": {
      "text/html": [
       "<div>\n",
       "<style scoped>\n",
       "    .dataframe tbody tr th:only-of-type {\n",
       "        vertical-align: middle;\n",
       "    }\n",
       "\n",
       "    .dataframe tbody tr th {\n",
       "        vertical-align: top;\n",
       "    }\n",
       "\n",
       "    .dataframe thead th {\n",
       "        text-align: right;\n",
       "    }\n",
       "</style>\n",
       "<table border=\"1\" class=\"dataframe\">\n",
       "  <thead>\n",
       "    <tr style=\"text-align: right;\">\n",
       "      <th></th>\n",
       "      <th>user_id</th>\n",
       "      <th>age</th>\n",
       "      <th>churn_date</th>\n",
       "      <th>city</th>\n",
       "      <th>first_name</th>\n",
       "      <th>last_name</th>\n",
       "      <th>reg_date</th>\n",
       "      <th>tariff</th>\n",
       "    </tr>\n",
       "  </thead>\n",
       "  <tbody>\n",
       "    <tr>\n",
       "      <td>19</td>\n",
       "      <td>1019</td>\n",
       "      <td>63</td>\n",
       "      <td>2018-10-05</td>\n",
       "      <td>Томск</td>\n",
       "      <td>Игнатий</td>\n",
       "      <td>Круглов</td>\n",
       "      <td>2018-05-16</td>\n",
       "      <td>ultra</td>\n",
       "    </tr>\n",
       "    <tr>\n",
       "      <td>20</td>\n",
       "      <td>1020</td>\n",
       "      <td>59</td>\n",
       "      <td>2018-12-18</td>\n",
       "      <td>Чита</td>\n",
       "      <td>Тала</td>\n",
       "      <td>Костина</td>\n",
       "      <td>2018-10-22</td>\n",
       "      <td>smart</td>\n",
       "    </tr>\n",
       "    <tr>\n",
       "      <td>34</td>\n",
       "      <td>1034</td>\n",
       "      <td>66</td>\n",
       "      <td>2018-11-21</td>\n",
       "      <td>Вологда</td>\n",
       "      <td>Святослав</td>\n",
       "      <td>Бондарев</td>\n",
       "      <td>2018-08-26</td>\n",
       "      <td>smart</td>\n",
       "    </tr>\n",
       "    <tr>\n",
       "      <td>50</td>\n",
       "      <td>1050</td>\n",
       "      <td>44</td>\n",
       "      <td>2018-10-03</td>\n",
       "      <td>Тюмень</td>\n",
       "      <td>Рузана</td>\n",
       "      <td>Аничкина</td>\n",
       "      <td>2018-06-16</td>\n",
       "      <td>ultra</td>\n",
       "    </tr>\n",
       "    <tr>\n",
       "      <td>51</td>\n",
       "      <td>1051</td>\n",
       "      <td>37</td>\n",
       "      <td>2018-10-14</td>\n",
       "      <td>Москва</td>\n",
       "      <td>Кристина</td>\n",
       "      <td>Сомова</td>\n",
       "      <td>2018-05-28</td>\n",
       "      <td>smart</td>\n",
       "    </tr>\n",
       "  </tbody>\n",
       "</table>\n",
       "</div>"
      ],
      "text/plain": [
       "    user_id  age  churn_date     city first_name last_name    reg_date tariff\n",
       "19     1019   63  2018-10-05    Томск    Игнатий   Круглов  2018-05-16  ultra\n",
       "20     1020   59  2018-12-18     Чита       Тала   Костина  2018-10-22  smart\n",
       "34     1034   66  2018-11-21  Вологда  Святослав  Бондарев  2018-08-26  smart\n",
       "50     1050   44  2018-10-03   Тюмень     Рузана  Аничкина  2018-06-16  ultra\n",
       "51     1051   37  2018-10-14   Москва   Кристина    Сомова  2018-05-28  smart"
      ]
     },
     "execution_count": 13,
     "metadata": {},
     "output_type": "execute_result"
    }
   ],
   "source": [
    "df_users[~df_users[\"churn_date\"].isna()].head()"
   ]
  },
  {
   "cell_type": "code",
   "execution_count": 14,
   "id": "6d8acd7c",
   "metadata": {},
   "outputs": [
    {
     "name": "stdout",
     "output_type": "stream",
     "text": [
      "<class 'pandas.core.frame.DataFrame'>\n",
      "RangeIndex: 500 entries, 0 to 499\n",
      "Data columns (total 8 columns):\n",
      "user_id       500 non-null int64\n",
      "age           500 non-null int64\n",
      "churn_date    38 non-null object\n",
      "city          500 non-null object\n",
      "first_name    500 non-null object\n",
      "last_name     500 non-null object\n",
      "reg_date      500 non-null object\n",
      "tariff        500 non-null object\n",
      "dtypes: int64(2), object(6)\n",
      "memory usage: 31.4+ KB\n"
     ]
    }
   ],
   "source": [
    "df_users.info()"
   ]
  },
  {
   "cell_type": "markdown",
   "id": "bde048dc",
   "metadata": {},
   "source": [
    "Колонки `reg_date` и `churn_date` имеют строковый тип, хотя хранят дату регистрации у мобильного оператора и дату ухода от него. Кроме того, дата ухода имеет пропуски, что, очевидно, указывает на то, что клиент на 2018 год остаётся с оператором. Приведём колонки к типу `datetime`"
   ]
  },
  {
   "cell_type": "code",
   "execution_count": 15,
   "id": "f6f4d8e5",
   "metadata": {},
   "outputs": [],
   "source": [
    "DATE_FORMAT = \"%Y-%m-%d\""
   ]
  },
  {
   "cell_type": "code",
   "execution_count": 16,
   "id": "759532e9",
   "metadata": {},
   "outputs": [],
   "source": [
    "df_users[\"reg_date\"] = pd.to_datetime(df_users[\"reg_date\"], format=DATE_FORMAT)\n",
    "df_users[\"churn_date\"] = pd.to_datetime(df_users[\"churn_date\"], format=DATE_FORMAT)"
   ]
  },
  {
   "cell_type": "markdown",
   "id": "d290cd3b",
   "metadata": {},
   "source": [
    "Тариф клиента является категориальной переменной с двумя возможными значениями"
   ]
  },
  {
   "cell_type": "code",
   "execution_count": 17,
   "id": "ce8a6683",
   "metadata": {},
   "outputs": [],
   "source": [
    "df_users[\"tariff\"] = df_users[\"tariff\"].astype(\"category\")"
   ]
  },
  {
   "cell_type": "code",
   "execution_count": 18,
   "id": "fb716336",
   "metadata": {},
   "outputs": [
    {
     "data": {
      "text/html": [
       "<div>\n",
       "<style scoped>\n",
       "    .dataframe tbody tr th:only-of-type {\n",
       "        vertical-align: middle;\n",
       "    }\n",
       "\n",
       "    .dataframe tbody tr th {\n",
       "        vertical-align: top;\n",
       "    }\n",
       "\n",
       "    .dataframe thead th {\n",
       "        text-align: right;\n",
       "    }\n",
       "</style>\n",
       "<table border=\"1\" class=\"dataframe\">\n",
       "  <thead>\n",
       "    <tr style=\"text-align: right;\">\n",
       "      <th></th>\n",
       "      <th>user_id</th>\n",
       "      <th>age</th>\n",
       "      <th>churn_date</th>\n",
       "      <th>city</th>\n",
       "      <th>first_name</th>\n",
       "      <th>last_name</th>\n",
       "      <th>reg_date</th>\n",
       "      <th>tariff</th>\n",
       "    </tr>\n",
       "  </thead>\n",
       "  <tbody>\n",
       "    <tr>\n",
       "      <td>count</td>\n",
       "      <td>500.00</td>\n",
       "      <td>500.00</td>\n",
       "      <td>38</td>\n",
       "      <td>500</td>\n",
       "      <td>500</td>\n",
       "      <td>500</td>\n",
       "      <td>500</td>\n",
       "      <td>500</td>\n",
       "    </tr>\n",
       "    <tr>\n",
       "      <td>unique</td>\n",
       "      <td>NaN</td>\n",
       "      <td>NaN</td>\n",
       "      <td>33</td>\n",
       "      <td>76</td>\n",
       "      <td>246</td>\n",
       "      <td>419</td>\n",
       "      <td>270</td>\n",
       "      <td>2</td>\n",
       "    </tr>\n",
       "    <tr>\n",
       "      <td>top</td>\n",
       "      <td>NaN</td>\n",
       "      <td>NaN</td>\n",
       "      <td>2018-10-03 00:00:00</td>\n",
       "      <td>Москва</td>\n",
       "      <td>Радим</td>\n",
       "      <td>Андреенко</td>\n",
       "      <td>2018-05-28 00:00:00</td>\n",
       "      <td>smart</td>\n",
       "    </tr>\n",
       "    <tr>\n",
       "      <td>freq</td>\n",
       "      <td>NaN</td>\n",
       "      <td>NaN</td>\n",
       "      <td>2</td>\n",
       "      <td>99</td>\n",
       "      <td>6</td>\n",
       "      <td>5</td>\n",
       "      <td>8</td>\n",
       "      <td>351</td>\n",
       "    </tr>\n",
       "    <tr>\n",
       "      <td>first</td>\n",
       "      <td>NaN</td>\n",
       "      <td>NaN</td>\n",
       "      <td>2018-08-17 00:00:00</td>\n",
       "      <td>NaN</td>\n",
       "      <td>NaN</td>\n",
       "      <td>NaN</td>\n",
       "      <td>2018-01-01 00:00:00</td>\n",
       "      <td>NaN</td>\n",
       "    </tr>\n",
       "    <tr>\n",
       "      <td>last</td>\n",
       "      <td>NaN</td>\n",
       "      <td>NaN</td>\n",
       "      <td>2018-12-30 00:00:00</td>\n",
       "      <td>NaN</td>\n",
       "      <td>NaN</td>\n",
       "      <td>NaN</td>\n",
       "      <td>2018-12-31 00:00:00</td>\n",
       "      <td>NaN</td>\n",
       "    </tr>\n",
       "    <tr>\n",
       "      <td>mean</td>\n",
       "      <td>1249.50</td>\n",
       "      <td>46.59</td>\n",
       "      <td>NaN</td>\n",
       "      <td>NaN</td>\n",
       "      <td>NaN</td>\n",
       "      <td>NaN</td>\n",
       "      <td>NaN</td>\n",
       "      <td>NaN</td>\n",
       "    </tr>\n",
       "    <tr>\n",
       "      <td>std</td>\n",
       "      <td>144.48</td>\n",
       "      <td>16.67</td>\n",
       "      <td>NaN</td>\n",
       "      <td>NaN</td>\n",
       "      <td>NaN</td>\n",
       "      <td>NaN</td>\n",
       "      <td>NaN</td>\n",
       "      <td>NaN</td>\n",
       "    </tr>\n",
       "    <tr>\n",
       "      <td>min</td>\n",
       "      <td>1000.00</td>\n",
       "      <td>18.00</td>\n",
       "      <td>NaN</td>\n",
       "      <td>NaN</td>\n",
       "      <td>NaN</td>\n",
       "      <td>NaN</td>\n",
       "      <td>NaN</td>\n",
       "      <td>NaN</td>\n",
       "    </tr>\n",
       "    <tr>\n",
       "      <td>25%</td>\n",
       "      <td>1124.75</td>\n",
       "      <td>32.00</td>\n",
       "      <td>NaN</td>\n",
       "      <td>NaN</td>\n",
       "      <td>NaN</td>\n",
       "      <td>NaN</td>\n",
       "      <td>NaN</td>\n",
       "      <td>NaN</td>\n",
       "    </tr>\n",
       "    <tr>\n",
       "      <td>50%</td>\n",
       "      <td>1249.50</td>\n",
       "      <td>46.00</td>\n",
       "      <td>NaN</td>\n",
       "      <td>NaN</td>\n",
       "      <td>NaN</td>\n",
       "      <td>NaN</td>\n",
       "      <td>NaN</td>\n",
       "      <td>NaN</td>\n",
       "    </tr>\n",
       "    <tr>\n",
       "      <td>75%</td>\n",
       "      <td>1374.25</td>\n",
       "      <td>62.00</td>\n",
       "      <td>NaN</td>\n",
       "      <td>NaN</td>\n",
       "      <td>NaN</td>\n",
       "      <td>NaN</td>\n",
       "      <td>NaN</td>\n",
       "      <td>NaN</td>\n",
       "    </tr>\n",
       "    <tr>\n",
       "      <td>max</td>\n",
       "      <td>1499.00</td>\n",
       "      <td>75.00</td>\n",
       "      <td>NaN</td>\n",
       "      <td>NaN</td>\n",
       "      <td>NaN</td>\n",
       "      <td>NaN</td>\n",
       "      <td>NaN</td>\n",
       "      <td>NaN</td>\n",
       "    </tr>\n",
       "  </tbody>\n",
       "</table>\n",
       "</div>"
      ],
      "text/plain": [
       "        user_id     age           churn_date    city first_name  last_name  \\\n",
       "count    500.00  500.00                   38     500        500        500   \n",
       "unique      NaN     NaN                   33      76        246        419   \n",
       "top         NaN     NaN  2018-10-03 00:00:00  Москва      Радим  Андреенко   \n",
       "freq        NaN     NaN                    2      99          6          5   \n",
       "first       NaN     NaN  2018-08-17 00:00:00     NaN        NaN        NaN   \n",
       "last        NaN     NaN  2018-12-30 00:00:00     NaN        NaN        NaN   \n",
       "mean    1249.50   46.59                  NaN     NaN        NaN        NaN   \n",
       "std      144.48   16.67                  NaN     NaN        NaN        NaN   \n",
       "min     1000.00   18.00                  NaN     NaN        NaN        NaN   \n",
       "25%     1124.75   32.00                  NaN     NaN        NaN        NaN   \n",
       "50%     1249.50   46.00                  NaN     NaN        NaN        NaN   \n",
       "75%     1374.25   62.00                  NaN     NaN        NaN        NaN   \n",
       "max     1499.00   75.00                  NaN     NaN        NaN        NaN   \n",
       "\n",
       "                   reg_date tariff  \n",
       "count                   500    500  \n",
       "unique                  270      2  \n",
       "top     2018-05-28 00:00:00  smart  \n",
       "freq                      8    351  \n",
       "first   2018-01-01 00:00:00    NaN  \n",
       "last    2018-12-31 00:00:00    NaN  \n",
       "mean                    NaN    NaN  \n",
       "std                     NaN    NaN  \n",
       "min                     NaN    NaN  \n",
       "25%                     NaN    NaN  \n",
       "50%                     NaN    NaN  \n",
       "75%                     NaN    NaN  \n",
       "max                     NaN    NaN  "
      ]
     },
     "execution_count": 18,
     "metadata": {},
     "output_type": "execute_result"
    }
   ],
   "source": [
    "df_users.describe(include=\"all\")"
   ]
  },
  {
   "cell_type": "markdown",
   "id": "f4846044",
   "metadata": {},
   "source": [
    "Аномальных значений не заметно: все даты в заданном диапазоне (в пределах 2018 года), возраста - от 18 до 75 лет."
   ]
  },
  {
   "cell_type": "code",
   "execution_count": 22,
   "id": "9aa03a45",
   "metadata": {},
   "outputs": [
    {
     "data": {
      "image/png": "[encoded data removed]",
      "text/plain": [
       "<Figure size 864x576 with 1 Axes>"
      ]
     },
     "metadata": {},
     "output_type": "display_data"
    }
   ],
   "source": [
    "ax=sns.histplot(data=df_users, x=\"reg_date\", bins=12)\n",
    "ax.set_xlabel(\"Дата\")\n",
    "ax.set_ylabel(\"Количество регистраций\");"
   ]
  },
  {
   "cell_type": "code",
   "execution_count": 23,
   "id": "e2d04569",
   "metadata": {},
   "outputs": [
    {
     "data": {
      "text/plain": [
       "41.5"
      ]
     },
     "execution_count": 23,
     "metadata": {},
     "output_type": "execute_result"
    }
   ],
   "source": [
    "df_users.groupby(pd.Grouper(key=\"reg_date\", freq=\"1M\"))[\"user_id\"].count().median()"
   ]
  },
  {
   "cell_type": "markdown",
   "id": "9f501173",
   "metadata": {},
   "source": [
    "Клиенты регистрировались у оператора более-менее равномерно в течение  года с медианной скоростью чуть более 40 человек в месяц."
   ]
  },
  {
   "cell_type": "code",
   "execution_count": 30,
   "id": "7236efaa",
   "metadata": {},
   "outputs": [
    {
     "data": {
      "text/plain": [
       "''"
      ]
     },
     "execution_count": 30,
     "metadata": {},
     "output_type": "execute_result"
    },
    {
     "data": {
      "image/png": "[encoded data removed]",
      "text/plain": [
       "<Figure size 864x576 with 1 Axes>"
      ]
     },
     "metadata": {},
     "output_type": "display_data"
    }
   ],
   "source": [
    "ax = sns.histplot(data=df_users, x=\"churn_date\", bins=12)\n",
    "plt.setp(ax.get_xticklabels(), rotation=45)\n",
    "ax.set_xlabel(\"Дата\")\n",
    "ax.set_ylabel(\"Отток клиентов\");"
   ]
  },
  {
   "cell_type": "markdown",
   "id": "4c1155f1",
   "metadata": {},
   "source": [
    "Объём месячного оттока растёт приблизительно линейно, что согласуется с почти линейным ростом клиентской базы.\n",
    "\n",
    "### Таблица звонков"
   ]
  },
  {
   "cell_type": "code",
   "execution_count": 31,
   "id": "becbd1dd",
   "metadata": {},
   "outputs": [
    {
     "data": {
      "text/html": [
       "<div>\n",
       "<style scoped>\n",
       "    .dataframe tbody tr th:only-of-type {\n",
       "        vertical-align: middle;\n",
       "    }\n",
       "\n",
       "    .dataframe tbody tr th {\n",
       "        vertical-align: top;\n",
       "    }\n",
       "\n",
       "    .dataframe thead th {\n",
       "        text-align: right;\n",
       "    }\n",
       "</style>\n",
       "<table border=\"1\" class=\"dataframe\">\n",
       "  <thead>\n",
       "    <tr style=\"text-align: right;\">\n",
       "      <th></th>\n",
       "      <th>id</th>\n",
       "      <th>call_date</th>\n",
       "      <th>duration</th>\n",
       "      <th>user_id</th>\n",
       "    </tr>\n",
       "  </thead>\n",
       "  <tbody>\n",
       "    <tr>\n",
       "      <td>0</td>\n",
       "      <td>1000_0</td>\n",
       "      <td>2018-07-25</td>\n",
       "      <td>0.00</td>\n",
       "      <td>1000</td>\n",
       "    </tr>\n",
       "    <tr>\n",
       "      <td>1</td>\n",
       "      <td>1000_1</td>\n",
       "      <td>2018-08-17</td>\n",
       "      <td>0.00</td>\n",
       "      <td>1000</td>\n",
       "    </tr>\n",
       "    <tr>\n",
       "      <td>2</td>\n",
       "      <td>1000_2</td>\n",
       "      <td>2018-06-11</td>\n",
       "      <td>2.85</td>\n",
       "      <td>1000</td>\n",
       "    </tr>\n",
       "    <tr>\n",
       "      <td>3</td>\n",
       "      <td>1000_3</td>\n",
       "      <td>2018-09-21</td>\n",
       "      <td>13.80</td>\n",
       "      <td>1000</td>\n",
       "    </tr>\n",
       "    <tr>\n",
       "      <td>4</td>\n",
       "      <td>1000_4</td>\n",
       "      <td>2018-12-15</td>\n",
       "      <td>5.18</td>\n",
       "      <td>1000</td>\n",
       "    </tr>\n",
       "  </tbody>\n",
       "</table>\n",
       "</div>"
      ],
      "text/plain": [
       "       id   call_date  duration  user_id\n",
       "0  1000_0  2018-07-25      0.00     1000\n",
       "1  1000_1  2018-08-17      0.00     1000\n",
       "2  1000_2  2018-06-11      2.85     1000\n",
       "3  1000_3  2018-09-21     13.80     1000\n",
       "4  1000_4  2018-12-15      5.18     1000"
      ]
     },
     "execution_count": 31,
     "metadata": {},
     "output_type": "execute_result"
    }
   ],
   "source": [
    "df_calls.head()"
   ]
  },
  {
   "cell_type": "code",
   "execution_count": 32,
   "id": "bc3dad47",
   "metadata": {},
   "outputs": [
    {
     "name": "stdout",
     "output_type": "stream",
     "text": [
      "<class 'pandas.core.frame.DataFrame'>\n",
      "RangeIndex: 202607 entries, 0 to 202606\n",
      "Data columns (total 4 columns):\n",
      "id           202607 non-null object\n",
      "call_date    202607 non-null object\n",
      "duration     202607 non-null float64\n",
      "user_id      202607 non-null int64\n",
      "dtypes: float64(1), int64(1), object(2)\n",
      "memory usage: 6.2+ MB\n"
     ]
    }
   ],
   "source": [
    "df_calls.info()"
   ]
  },
  {
   "cell_type": "markdown",
   "id": "335d4bce",
   "metadata": {},
   "source": [
    "Колонка `call_date` имеет строковый тип, хотя хранит дату звонка. Приведём её к типу `datetime`"
   ]
  },
  {
   "cell_type": "code",
   "execution_count": 33,
   "id": "3c0c7998",
   "metadata": {
    "tags": []
   },
   "outputs": [],
   "source": [
    "df_calls[\"call_date\"] = pd.to_datetime(df_calls[\"call_date\"], format=DATE_FORMAT)"
   ]
  },
  {
   "cell_type": "markdown",
   "id": "e2545f10",
   "metadata": {},
   "source": [
    "Поскольку нас интересуют округлённые вверх значение длительностей звонков, сразу преобразуем вещественные значения в целые:"
   ]
  },
  {
   "cell_type": "code",
   "execution_count": 37,
   "id": "fcceddb7",
   "metadata": {},
   "outputs": [],
   "source": [
    "df_calls[\"duration\"] = np.ceil(df_calls[\"duration\"]).astype(\"int\")"
   ]
  },
  {
   "cell_type": "code",
   "execution_count": 46,
   "id": "9a6f0b5d",
   "metadata": {},
   "outputs": [
    {
     "data": {
      "text/html": [
       "<div>\n",
       "<style scoped>\n",
       "    .dataframe tbody tr th:only-of-type {\n",
       "        vertical-align: middle;\n",
       "    }\n",
       "\n",
       "    .dataframe tbody tr th {\n",
       "        vertical-align: top;\n",
       "    }\n",
       "\n",
       "    .dataframe thead th {\n",
       "        text-align: right;\n",
       "    }\n",
       "</style>\n",
       "<table border=\"1\" class=\"dataframe\">\n",
       "  <thead>\n",
       "    <tr style=\"text-align: right;\">\n",
       "      <th></th>\n",
       "      <th>id</th>\n",
       "      <th>call_date</th>\n",
       "      <th>duration</th>\n",
       "      <th>user_id</th>\n",
       "    </tr>\n",
       "  </thead>\n",
       "  <tbody>\n",
       "    <tr>\n",
       "      <td>count</td>\n",
       "      <td>202607</td>\n",
       "      <td>202607</td>\n",
       "      <td>202607.00</td>\n",
       "      <td>202607.00</td>\n",
       "    </tr>\n",
       "    <tr>\n",
       "      <td>unique</td>\n",
       "      <td>202607</td>\n",
       "      <td>365</td>\n",
       "      <td>NaN</td>\n",
       "      <td>NaN</td>\n",
       "    </tr>\n",
       "    <tr>\n",
       "      <td>top</td>\n",
       "      <td>1179_389</td>\n",
       "      <td>2018-12-31 00:00:00</td>\n",
       "      <td>NaN</td>\n",
       "      <td>NaN</td>\n",
       "    </tr>\n",
       "    <tr>\n",
       "      <td>freq</td>\n",
       "      <td>1</td>\n",
       "      <td>1435</td>\n",
       "      <td>NaN</td>\n",
       "      <td>NaN</td>\n",
       "    </tr>\n",
       "    <tr>\n",
       "      <td>first</td>\n",
       "      <td>NaN</td>\n",
       "      <td>2018-01-01 00:00:00</td>\n",
       "      <td>NaN</td>\n",
       "      <td>NaN</td>\n",
       "    </tr>\n",
       "    <tr>\n",
       "      <td>last</td>\n",
       "      <td>NaN</td>\n",
       "      <td>2018-12-31 00:00:00</td>\n",
       "      <td>NaN</td>\n",
       "      <td>NaN</td>\n",
       "    </tr>\n",
       "    <tr>\n",
       "      <td>mean</td>\n",
       "      <td>NaN</td>\n",
       "      <td>NaN</td>\n",
       "      <td>7.16</td>\n",
       "      <td>1253.94</td>\n",
       "    </tr>\n",
       "    <tr>\n",
       "      <td>std</td>\n",
       "      <td>NaN</td>\n",
       "      <td>NaN</td>\n",
       "      <td>5.96</td>\n",
       "      <td>144.72</td>\n",
       "    </tr>\n",
       "    <tr>\n",
       "      <td>min</td>\n",
       "      <td>NaN</td>\n",
       "      <td>NaN</td>\n",
       "      <td>0.00</td>\n",
       "      <td>1000.00</td>\n",
       "    </tr>\n",
       "    <tr>\n",
       "      <td>25%</td>\n",
       "      <td>NaN</td>\n",
       "      <td>NaN</td>\n",
       "      <td>2.00</td>\n",
       "      <td>1126.00</td>\n",
       "    </tr>\n",
       "    <tr>\n",
       "      <td>50%</td>\n",
       "      <td>NaN</td>\n",
       "      <td>NaN</td>\n",
       "      <td>6.00</td>\n",
       "      <td>1260.00</td>\n",
       "    </tr>\n",
       "    <tr>\n",
       "      <td>75%</td>\n",
       "      <td>NaN</td>\n",
       "      <td>NaN</td>\n",
       "      <td>11.00</td>\n",
       "      <td>1379.00</td>\n",
       "    </tr>\n",
       "    <tr>\n",
       "      <td>max</td>\n",
       "      <td>NaN</td>\n",
       "      <td>NaN</td>\n",
       "      <td>38.00</td>\n",
       "      <td>1499.00</td>\n",
       "    </tr>\n",
       "  </tbody>\n",
       "</table>\n",
       "</div>"
      ],
      "text/plain": [
       "              id            call_date   duration    user_id\n",
       "count     202607               202607  202607.00  202607.00\n",
       "unique    202607                  365        NaN        NaN\n",
       "top     1179_389  2018-12-31 00:00:00        NaN        NaN\n",
       "freq           1                 1435        NaN        NaN\n",
       "first        NaN  2018-01-01 00:00:00        NaN        NaN\n",
       "last         NaN  2018-12-31 00:00:00        NaN        NaN\n",
       "mean         NaN                  NaN       7.16    1253.94\n",
       "std          NaN                  NaN       5.96     144.72\n",
       "min          NaN                  NaN       0.00    1000.00\n",
       "25%          NaN                  NaN       2.00    1126.00\n",
       "50%          NaN                  NaN       6.00    1260.00\n",
       "75%          NaN                  NaN      11.00    1379.00\n",
       "max          NaN                  NaN      38.00    1499.00"
      ]
     },
     "execution_count": 46,
     "metadata": {},
     "output_type": "execute_result"
    }
   ],
   "source": [
    "df_calls.describe(include='all')"
   ]
  },
  {
   "cell_type": "markdown",
   "id": "08882a9d",
   "metadata": {},
   "source": [
    "Аномальных значений не видно: продолжительность разговоров от 0 дло 38 минут, даты звонков в диапазоне 1 января - 31 декабря 2018, `user_id` - [1000, 1499] "
   ]
  },
  {
   "cell_type": "code",
   "execution_count": 39,
   "id": "24d1aada",
   "metadata": {},
   "outputs": [
    {
     "data": {
      "image/png": "[encoded data removed]",
      "text/plain": [
       "<Figure size 1728x576 with 2 Axes>"
      ]
     },
     "metadata": {},
     "output_type": "display_data"
    }
   ],
   "source": [
    "_, (ax1, ax2) = plt.subplots(1, 2, figsize=(24, 8))\n",
    "\n",
    "sns.histplot(ax=ax1, data=df_calls, x=\"duration\", stat=\"density\")\n",
    "ax1.set_xlabel(\"Длительность звонка (всех)\")\n",
    "ax1.set_ylabel(\"Плотность распределения\")\n",
    "\n",
    "sns.histplot(\n",
    "    ax=ax2, data=df_calls[df_calls[\"duration\"] > 0], x=\"duration\", stat=\"density\"\n",
    ")\n",
    "ax2.set_xlabel(\"Длительность звонка (без пропущенных вызовов)\")\n",
    "ax2.set_ylabel(\"Плотность распределения\");"
   ]
  },
  {
   "cell_type": "markdown",
   "id": "8ac734c4",
   "metadata": {},
   "source": [
    "### Таблица интернет-сессий"
   ]
  },
  {
   "cell_type": "code",
   "execution_count": 40,
   "id": "093a5817",
   "metadata": {},
   "outputs": [
    {
     "data": {
      "text/html": [
       "<div>\n",
       "<style scoped>\n",
       "    .dataframe tbody tr th:only-of-type {\n",
       "        vertical-align: middle;\n",
       "    }\n",
       "\n",
       "    .dataframe tbody tr th {\n",
       "        vertical-align: top;\n",
       "    }\n",
       "\n",
       "    .dataframe thead th {\n",
       "        text-align: right;\n",
       "    }\n",
       "</style>\n",
       "<table border=\"1\" class=\"dataframe\">\n",
       "  <thead>\n",
       "    <tr style=\"text-align: right;\">\n",
       "      <th></th>\n",
       "      <th>Unnamed: 0</th>\n",
       "      <th>id</th>\n",
       "      <th>mb_used</th>\n",
       "      <th>session_date</th>\n",
       "      <th>user_id</th>\n",
       "    </tr>\n",
       "  </thead>\n",
       "  <tbody>\n",
       "    <tr>\n",
       "      <td>0</td>\n",
       "      <td>0</td>\n",
       "      <td>1000_0</td>\n",
       "      <td>112.95</td>\n",
       "      <td>2018-11-25</td>\n",
       "      <td>1000</td>\n",
       "    </tr>\n",
       "    <tr>\n",
       "      <td>1</td>\n",
       "      <td>1</td>\n",
       "      <td>1000_1</td>\n",
       "      <td>1052.81</td>\n",
       "      <td>2018-09-07</td>\n",
       "      <td>1000</td>\n",
       "    </tr>\n",
       "    <tr>\n",
       "      <td>2</td>\n",
       "      <td>2</td>\n",
       "      <td>1000_2</td>\n",
       "      <td>1197.26</td>\n",
       "      <td>2018-06-25</td>\n",
       "      <td>1000</td>\n",
       "    </tr>\n",
       "    <tr>\n",
       "      <td>3</td>\n",
       "      <td>3</td>\n",
       "      <td>1000_3</td>\n",
       "      <td>550.27</td>\n",
       "      <td>2018-08-22</td>\n",
       "      <td>1000</td>\n",
       "    </tr>\n",
       "    <tr>\n",
       "      <td>4</td>\n",
       "      <td>4</td>\n",
       "      <td>1000_4</td>\n",
       "      <td>302.56</td>\n",
       "      <td>2018-09-24</td>\n",
       "      <td>1000</td>\n",
       "    </tr>\n",
       "  </tbody>\n",
       "</table>\n",
       "</div>"
      ],
      "text/plain": [
       "   Unnamed: 0      id  mb_used session_date  user_id\n",
       "0           0  1000_0   112.95   2018-11-25     1000\n",
       "1           1  1000_1  1052.81   2018-09-07     1000\n",
       "2           2  1000_2  1197.26   2018-06-25     1000\n",
       "3           3  1000_3   550.27   2018-08-22     1000\n",
       "4           4  1000_4   302.56   2018-09-24     1000"
      ]
     },
     "execution_count": 40,
     "metadata": {},
     "output_type": "execute_result"
    }
   ],
   "source": [
    "df_internet.head()"
   ]
  },
  {
   "cell_type": "code",
   "execution_count": 41,
   "id": "733cb698",
   "metadata": {},
   "outputs": [
    {
     "name": "stdout",
     "output_type": "stream",
     "text": [
      "<class 'pandas.core.frame.DataFrame'>\n",
      "RangeIndex: 149396 entries, 0 to 149395\n",
      "Data columns (total 5 columns):\n",
      "Unnamed: 0      149396 non-null int64\n",
      "id              149396 non-null object\n",
      "mb_used         149396 non-null float64\n",
      "session_date    149396 non-null object\n",
      "user_id         149396 non-null int64\n",
      "dtypes: float64(1), int64(2), object(2)\n",
      "memory usage: 5.7+ MB\n"
     ]
    }
   ],
   "source": [
    "df_internet.info()"
   ]
  },
  {
   "cell_type": "markdown",
   "id": "9087b1f5",
   "metadata": {},
   "source": [
    "Колонка `session_date` имеет строковый тип, хотя хранит дату начала интернет-сессии. Приведём её к типу `datetime`"
   ]
  },
  {
   "cell_type": "code",
   "execution_count": 42,
   "id": "87179556",
   "metadata": {},
   "outputs": [],
   "source": [
    "df_internet[\"session_date\"] = pd.to_datetime(\n",
    "    df_internet[\"session_date\"], format=DATE_FORMAT\n",
    ")"
   ]
  },
  {
   "cell_type": "code",
   "execution_count": 45,
   "id": "8c9e066f",
   "metadata": {},
   "outputs": [
    {
     "data": {
      "text/html": [
       "<div>\n",
       "<style scoped>\n",
       "    .dataframe tbody tr th:only-of-type {\n",
       "        vertical-align: middle;\n",
       "    }\n",
       "\n",
       "    .dataframe tbody tr th {\n",
       "        vertical-align: top;\n",
       "    }\n",
       "\n",
       "    .dataframe thead th {\n",
       "        text-align: right;\n",
       "    }\n",
       "</style>\n",
       "<table border=\"1\" class=\"dataframe\">\n",
       "  <thead>\n",
       "    <tr style=\"text-align: right;\">\n",
       "      <th></th>\n",
       "      <th>Unnamed: 0</th>\n",
       "      <th>id</th>\n",
       "      <th>mb_used</th>\n",
       "      <th>session_date</th>\n",
       "      <th>user_id</th>\n",
       "    </tr>\n",
       "  </thead>\n",
       "  <tbody>\n",
       "    <tr>\n",
       "      <td>count</td>\n",
       "      <td>149396.00</td>\n",
       "      <td>149396</td>\n",
       "      <td>149396.00</td>\n",
       "      <td>149396</td>\n",
       "      <td>149396.00</td>\n",
       "    </tr>\n",
       "    <tr>\n",
       "      <td>unique</td>\n",
       "      <td>NaN</td>\n",
       "      <td>149396</td>\n",
       "      <td>NaN</td>\n",
       "      <td>365</td>\n",
       "      <td>NaN</td>\n",
       "    </tr>\n",
       "    <tr>\n",
       "      <td>top</td>\n",
       "      <td>NaN</td>\n",
       "      <td>1324_354</td>\n",
       "      <td>NaN</td>\n",
       "      <td>2018-12-31 00:00:00</td>\n",
       "      <td>NaN</td>\n",
       "    </tr>\n",
       "    <tr>\n",
       "      <td>freq</td>\n",
       "      <td>NaN</td>\n",
       "      <td>1</td>\n",
       "      <td>NaN</td>\n",
       "      <td>1057</td>\n",
       "      <td>NaN</td>\n",
       "    </tr>\n",
       "    <tr>\n",
       "      <td>first</td>\n",
       "      <td>NaN</td>\n",
       "      <td>NaN</td>\n",
       "      <td>NaN</td>\n",
       "      <td>2018-01-01 00:00:00</td>\n",
       "      <td>NaN</td>\n",
       "    </tr>\n",
       "    <tr>\n",
       "      <td>last</td>\n",
       "      <td>NaN</td>\n",
       "      <td>NaN</td>\n",
       "      <td>NaN</td>\n",
       "      <td>2018-12-31 00:00:00</td>\n",
       "      <td>NaN</td>\n",
       "    </tr>\n",
       "    <tr>\n",
       "      <td>mean</td>\n",
       "      <td>74697.50</td>\n",
       "      <td>NaN</td>\n",
       "      <td>370.19</td>\n",
       "      <td>NaN</td>\n",
       "      <td>1252.10</td>\n",
       "    </tr>\n",
       "    <tr>\n",
       "      <td>std</td>\n",
       "      <td>43127.05</td>\n",
       "      <td>NaN</td>\n",
       "      <td>278.30</td>\n",
       "      <td>NaN</td>\n",
       "      <td>144.05</td>\n",
       "    </tr>\n",
       "    <tr>\n",
       "      <td>min</td>\n",
       "      <td>0.00</td>\n",
       "      <td>NaN</td>\n",
       "      <td>0.00</td>\n",
       "      <td>NaN</td>\n",
       "      <td>1000.00</td>\n",
       "    </tr>\n",
       "    <tr>\n",
       "      <td>25%</td>\n",
       "      <td>37348.75</td>\n",
       "      <td>NaN</td>\n",
       "      <td>138.19</td>\n",
       "      <td>NaN</td>\n",
       "      <td>1130.00</td>\n",
       "    </tr>\n",
       "    <tr>\n",
       "      <td>50%</td>\n",
       "      <td>74697.50</td>\n",
       "      <td>NaN</td>\n",
       "      <td>348.01</td>\n",
       "      <td>NaN</td>\n",
       "      <td>1251.00</td>\n",
       "    </tr>\n",
       "    <tr>\n",
       "      <td>75%</td>\n",
       "      <td>112046.25</td>\n",
       "      <td>NaN</td>\n",
       "      <td>559.55</td>\n",
       "      <td>NaN</td>\n",
       "      <td>1380.00</td>\n",
       "    </tr>\n",
       "    <tr>\n",
       "      <td>max</td>\n",
       "      <td>149395.00</td>\n",
       "      <td>NaN</td>\n",
       "      <td>1724.83</td>\n",
       "      <td>NaN</td>\n",
       "      <td>1499.00</td>\n",
       "    </tr>\n",
       "  </tbody>\n",
       "</table>\n",
       "</div>"
      ],
      "text/plain": [
       "        Unnamed: 0        id    mb_used         session_date    user_id\n",
       "count    149396.00    149396  149396.00               149396  149396.00\n",
       "unique         NaN    149396        NaN                  365        NaN\n",
       "top            NaN  1324_354        NaN  2018-12-31 00:00:00        NaN\n",
       "freq           NaN         1        NaN                 1057        NaN\n",
       "first          NaN       NaN        NaN  2018-01-01 00:00:00        NaN\n",
       "last           NaN       NaN        NaN  2018-12-31 00:00:00        NaN\n",
       "mean      74697.50       NaN     370.19                  NaN    1252.10\n",
       "std       43127.05       NaN     278.30                  NaN     144.05\n",
       "min           0.00       NaN       0.00                  NaN    1000.00\n",
       "25%       37348.75       NaN     138.19                  NaN    1130.00\n",
       "50%       74697.50       NaN     348.01                  NaN    1251.00\n",
       "75%      112046.25       NaN     559.55                  NaN    1380.00\n",
       "max      149395.00       NaN    1724.83                  NaN    1499.00"
      ]
     },
     "execution_count": 45,
     "metadata": {},
     "output_type": "execute_result"
    }
   ],
   "source": [
    "df_internet.describe(include='all')"
   ]
  },
  {
   "cell_type": "markdown",
   "id": "562f473a",
   "metadata": {},
   "source": [
    "Точно также преобразуем `session_date` в `datetime`:"
   ]
  },
  {
   "cell_type": "code",
   "execution_count": 47,
   "id": "7abdcc2e",
   "metadata": {},
   "outputs": [],
   "source": [
    "df_internet[\"session_date\"] = pd.to_datetime(\n",
    "    df_internet[\"session_date\"], format=DATE_FORMAT\n",
    ")"
   ]
  },
  {
   "cell_type": "code",
   "execution_count": 48,
   "id": "73989061",
   "metadata": {},
   "outputs": [
    {
     "data": {
      "image/png": "[encoded data removed]",
      "text/plain": [
       "<Figure size 864x576 with 1 Axes>"
      ]
     },
     "metadata": {},
     "output_type": "display_data"
    }
   ],
   "source": [
    "ax = sns.histplot(data=df_internet, x=\"mb_used\", stat=\"density\")\n",
    "ax.set_xlabel(\"Скачано мегабайт за сессию\")\n",
    "ax.set_ylabel(\"Плотность распределения\");"
   ]
  },
  {
   "cell_type": "markdown",
   "id": "4aeed3da",
   "metadata": {},
   "source": [
    "Диаграмма плотности интернет-сессий очень похожа на аналогичный график звонков и показывает, что среди интернет-сессий имеется аномально много нулевых. Возможно, это указывает на проблемы с доступом к сети, когда сессия обрывается сразу после открытия."
   ]
  },
  {
   "cell_type": "code",
   "execution_count": 49,
   "id": "da9fdede",
   "metadata": {},
   "outputs": [
    {
     "data": {
      "text/plain": [
       "(count     34.00\n",
       " mean      26.09\n",
       " std       25.62\n",
       " min        1.00\n",
       " 25%       10.00\n",
       " 50%       13.50\n",
       " 75%       40.25\n",
       " max      107.00\n",
       " Name: user_id, dtype: float64,\n",
       " count    460.00\n",
       " mean      40.68\n",
       " std       31.52\n",
       " min        1.00\n",
       " 25%       14.00\n",
       " 50%       32.50\n",
       " 75%       64.00\n",
       " max      144.00\n",
       " Name: user_id, dtype: float64)"
      ]
     },
     "execution_count": 49,
     "metadata": {},
     "output_type": "execute_result"
    }
   ],
   "source": [
    "df = df_internet.merge(right=df_users, on=\"user_id\", how=\"left\")\n",
    "df[\"churned\"] = np.where(~pd.isnull(df[\"churn_date\"]), True, False)\n",
    "df1 = df[df[\"mb_used\"] == 0].groupby([\"churned\", \"user_id\"])[\"user_id\"].count()\n",
    "df1[True].describe(), df1[False].describe()"
   ]
  },
  {
   "cell_type": "markdown",
   "id": "01a2a2a7",
   "metadata": {},
   "source": [
    "Не похоже, что эти пустые сессии стали причиной недовольства пользователей: медианное количество у тех, кто ушёл вдвое меньше, чем у тех, кто остался. Видимо, ничего страшного в пустых интернет-сессиях нет (с точки зрения пользователей мобильной связи, но не аналитика). Так что от них нужно избавиться"
   ]
  },
  {
   "cell_type": "code",
   "execution_count": 50,
   "id": "451a1c5e",
   "metadata": {},
   "outputs": [],
   "source": [
    "df_internet.drop(df_internet.loc[df_internet[\"mb_used\"] == 0].index, inplace=True)"
   ]
  },
  {
   "cell_type": "code",
   "execution_count": 51,
   "id": "04c14750",
   "metadata": {},
   "outputs": [
    {
     "data": {
      "image/png": "[encoded data removed]",
      "text/plain": [
       "<Figure size 864x576 with 1 Axes>"
      ]
     },
     "metadata": {},
     "output_type": "display_data"
    }
   ],
   "source": [
    "ax = sns.histplot(data=df_internet, x=\"mb_used\", stat=\"density\")\n",
    "ax.set_xlabel(\"Скачано мегабайт за сессию\")\n",
    "ax.set_ylabel(\"Плотность распределения\");"
   ]
  },
  {
   "cell_type": "markdown",
   "id": "727157c8",
   "metadata": {},
   "source": [
    "### Таблица сообщений"
   ]
  },
  {
   "cell_type": "code",
   "execution_count": 52,
   "id": "3c584aba",
   "metadata": {},
   "outputs": [
    {
     "data": {
      "text/html": [
       "<div>\n",
       "<style scoped>\n",
       "    .dataframe tbody tr th:only-of-type {\n",
       "        vertical-align: middle;\n",
       "    }\n",
       "\n",
       "    .dataframe tbody tr th {\n",
       "        vertical-align: top;\n",
       "    }\n",
       "\n",
       "    .dataframe thead th {\n",
       "        text-align: right;\n",
       "    }\n",
       "</style>\n",
       "<table border=\"1\" class=\"dataframe\">\n",
       "  <thead>\n",
       "    <tr style=\"text-align: right;\">\n",
       "      <th></th>\n",
       "      <th>id</th>\n",
       "      <th>message_date</th>\n",
       "      <th>user_id</th>\n",
       "    </tr>\n",
       "  </thead>\n",
       "  <tbody>\n",
       "    <tr>\n",
       "      <td>0</td>\n",
       "      <td>1000_0</td>\n",
       "      <td>2018-06-27</td>\n",
       "      <td>1000</td>\n",
       "    </tr>\n",
       "    <tr>\n",
       "      <td>1</td>\n",
       "      <td>1000_1</td>\n",
       "      <td>2018-10-08</td>\n",
       "      <td>1000</td>\n",
       "    </tr>\n",
       "    <tr>\n",
       "      <td>2</td>\n",
       "      <td>1000_2</td>\n",
       "      <td>2018-08-04</td>\n",
       "      <td>1000</td>\n",
       "    </tr>\n",
       "    <tr>\n",
       "      <td>3</td>\n",
       "      <td>1000_3</td>\n",
       "      <td>2018-06-16</td>\n",
       "      <td>1000</td>\n",
       "    </tr>\n",
       "    <tr>\n",
       "      <td>4</td>\n",
       "      <td>1000_4</td>\n",
       "      <td>2018-12-05</td>\n",
       "      <td>1000</td>\n",
       "    </tr>\n",
       "  </tbody>\n",
       "</table>\n",
       "</div>"
      ],
      "text/plain": [
       "       id message_date  user_id\n",
       "0  1000_0   2018-06-27     1000\n",
       "1  1000_1   2018-10-08     1000\n",
       "2  1000_2   2018-08-04     1000\n",
       "3  1000_3   2018-06-16     1000\n",
       "4  1000_4   2018-12-05     1000"
      ]
     },
     "execution_count": 52,
     "metadata": {},
     "output_type": "execute_result"
    }
   ],
   "source": [
    "df_messages.head()"
   ]
  },
  {
   "cell_type": "code",
   "execution_count": 53,
   "id": "767b3f0e",
   "metadata": {},
   "outputs": [
    {
     "name": "stdout",
     "output_type": "stream",
     "text": [
      "<class 'pandas.core.frame.DataFrame'>\n",
      "RangeIndex: 123036 entries, 0 to 123035\n",
      "Data columns (total 3 columns):\n",
      "id              123036 non-null object\n",
      "message_date    123036 non-null object\n",
      "user_id         123036 non-null int64\n",
      "dtypes: int64(1), object(2)\n",
      "memory usage: 2.8+ MB\n"
     ]
    }
   ],
   "source": [
    "df_messages.info()"
   ]
  },
  {
   "cell_type": "markdown",
   "id": "d8dce887",
   "metadata": {},
   "source": [
    "Точно также преобразуем `message_date` в `datetime`:"
   ]
  },
  {
   "cell_type": "code",
   "execution_count": 54,
   "id": "7548eeef",
   "metadata": {},
   "outputs": [],
   "source": [
    "df_messages[\"message_date\"] = pd.to_datetime(\n",
    "    df_messages[\"message_date\"], format=DATE_FORMAT\n",
    ")"
   ]
  },
  {
   "cell_type": "code",
   "execution_count": 56,
   "id": "7a9810c5",
   "metadata": {},
   "outputs": [
    {
     "data": {
      "text/html": [
       "<div>\n",
       "<style scoped>\n",
       "    .dataframe tbody tr th:only-of-type {\n",
       "        vertical-align: middle;\n",
       "    }\n",
       "\n",
       "    .dataframe tbody tr th {\n",
       "        vertical-align: top;\n",
       "    }\n",
       "\n",
       "    .dataframe thead th {\n",
       "        text-align: right;\n",
       "    }\n",
       "</style>\n",
       "<table border=\"1\" class=\"dataframe\">\n",
       "  <thead>\n",
       "    <tr style=\"text-align: right;\">\n",
       "      <th></th>\n",
       "      <th>id</th>\n",
       "      <th>message_date</th>\n",
       "      <th>user_id</th>\n",
       "    </tr>\n",
       "  </thead>\n",
       "  <tbody>\n",
       "    <tr>\n",
       "      <td>count</td>\n",
       "      <td>123036</td>\n",
       "      <td>123036</td>\n",
       "      <td>123036.00</td>\n",
       "    </tr>\n",
       "    <tr>\n",
       "      <td>unique</td>\n",
       "      <td>123036</td>\n",
       "      <td>364</td>\n",
       "      <td>NaN</td>\n",
       "    </tr>\n",
       "    <tr>\n",
       "      <td>top</td>\n",
       "      <td>1448_32</td>\n",
       "      <td>2018-12-31 00:00:00</td>\n",
       "      <td>NaN</td>\n",
       "    </tr>\n",
       "    <tr>\n",
       "      <td>freq</td>\n",
       "      <td>1</td>\n",
       "      <td>859</td>\n",
       "      <td>NaN</td>\n",
       "    </tr>\n",
       "    <tr>\n",
       "      <td>first</td>\n",
       "      <td>NaN</td>\n",
       "      <td>2018-01-02 00:00:00</td>\n",
       "      <td>NaN</td>\n",
       "    </tr>\n",
       "    <tr>\n",
       "      <td>last</td>\n",
       "      <td>NaN</td>\n",
       "      <td>2018-12-31 00:00:00</td>\n",
       "      <td>NaN</td>\n",
       "    </tr>\n",
       "    <tr>\n",
       "      <td>mean</td>\n",
       "      <td>NaN</td>\n",
       "      <td>NaN</td>\n",
       "      <td>1256.99</td>\n",
       "    </tr>\n",
       "    <tr>\n",
       "      <td>std</td>\n",
       "      <td>NaN</td>\n",
       "      <td>NaN</td>\n",
       "      <td>143.52</td>\n",
       "    </tr>\n",
       "    <tr>\n",
       "      <td>min</td>\n",
       "      <td>NaN</td>\n",
       "      <td>NaN</td>\n",
       "      <td>1000.00</td>\n",
       "    </tr>\n",
       "    <tr>\n",
       "      <td>25%</td>\n",
       "      <td>NaN</td>\n",
       "      <td>NaN</td>\n",
       "      <td>1134.00</td>\n",
       "    </tr>\n",
       "    <tr>\n",
       "      <td>50%</td>\n",
       "      <td>NaN</td>\n",
       "      <td>NaN</td>\n",
       "      <td>1271.00</td>\n",
       "    </tr>\n",
       "    <tr>\n",
       "      <td>75%</td>\n",
       "      <td>NaN</td>\n",
       "      <td>NaN</td>\n",
       "      <td>1381.00</td>\n",
       "    </tr>\n",
       "    <tr>\n",
       "      <td>max</td>\n",
       "      <td>NaN</td>\n",
       "      <td>NaN</td>\n",
       "      <td>1499.00</td>\n",
       "    </tr>\n",
       "  </tbody>\n",
       "</table>\n",
       "</div>"
      ],
      "text/plain": [
       "             id         message_date    user_id\n",
       "count    123036               123036  123036.00\n",
       "unique   123036                  364        NaN\n",
       "top     1448_32  2018-12-31 00:00:00        NaN\n",
       "freq          1                  859        NaN\n",
       "first       NaN  2018-01-02 00:00:00        NaN\n",
       "last        NaN  2018-12-31 00:00:00        NaN\n",
       "mean        NaN                  NaN    1256.99\n",
       "std         NaN                  NaN     143.52\n",
       "min         NaN                  NaN    1000.00\n",
       "25%         NaN                  NaN    1134.00\n",
       "50%         NaN                  NaN    1271.00\n",
       "75%         NaN                  NaN    1381.00\n",
       "max         NaN                  NaN    1499.00"
      ]
     },
     "execution_count": 56,
     "metadata": {},
     "output_type": "execute_result"
    }
   ],
   "source": [
    "df_messages.describe(include='all')"
   ]
  },
  {
   "cell_type": "markdown",
   "id": "49b94eb7",
   "metadata": {},
   "source": [
    "Точно также преобразуем `message_date` в `datetime`:"
   ]
  },
  {
   "cell_type": "code",
   "execution_count": 57,
   "id": "57934ba6",
   "metadata": {},
   "outputs": [],
   "source": [
    "df_messages[\"message_date\"] = pd.to_datetime(\n",
    "    df_messages[\"message_date\"], format=DATE_FORMAT\n",
    ")"
   ]
  },
  {
   "cell_type": "code",
   "execution_count": 58,
   "id": "0777e355",
   "metadata": {},
   "outputs": [
    {
     "data": {
      "image/png": "[encoded data removed]",
      "text/plain": [
       "<Figure size 864x576 with 1 Axes>"
      ]
     },
     "metadata": {},
     "output_type": "display_data"
    }
   ],
   "source": [
    "ax = sns.histplot(\n",
    "    x=df_messages[\"message_date\"].dt.month + 2,\n",
    "    shrink=5,\n",
    ")\n",
    "ax.set_xlabel(\"Месяцы\")\n",
    "ax.set_ylabel(\"Количество сообщений\");"
   ]
  },
  {
   "cell_type": "markdown",
   "id": "090a9e4c",
   "metadata": {},
   "source": [
    "Количество сообщений растёт линейно вместе с клиентской базой"
   ]
  },
  {
   "cell_type": "markdown",
   "id": "c5646de2",
   "metadata": {},
   "source": [
    "Наконец, проверим данные на наличие дубликатов"
   ]
  },
  {
   "cell_type": "code",
   "execution_count": 59,
   "id": "950b6d90",
   "metadata": {},
   "outputs": [
    {
     "data": {
      "text/plain": [
       "(0, 0, 0, 0, 0)"
      ]
     },
     "execution_count": 59,
     "metadata": {},
     "output_type": "execute_result"
    }
   ],
   "source": [
    "(\n",
    "    df_users.duplicated().sum(),\n",
    "    df_calls.duplicated().sum(),\n",
    "    df_messages.duplicated().sum(),\n",
    "    df_internet.duplicated().sum(),\n",
    "    df_tariffs.duplicated().sum(),\n",
    ")"
   ]
  },
  {
   "cell_type": "markdown",
   "id": "f571f9f7",
   "metadata": {},
   "source": [
    "Как видно, дубликатов нет."
   ]
  },
  {
   "cell_type": "markdown",
   "id": "1a78e036",
   "metadata": {},
   "source": [
    "### Выводы\n",
    "\n",
    "Данные во всех датасетах не содержат пропусков. Единственное исключение &mdash; параметр `churn_date` в файле `users`, но это и логично: большинство участников исследования не покинули оператора связи. \n",
    "\n",
    "В таблице интернет-сессий было выявлено большое количество пустых сессий (в ходе которых не было передачи данных). Эти сессии удалены."
   ]
  },
  {
   "cell_type": "markdown",
   "id": "4f76a079",
   "metadata": {},
   "source": [
    "## Вычисление вспомогательных параметров\n",
    "\n",
    "Для дальнейшего анализа нам потребуются вычислить дополнительные параметры по каждому из клиентов, как то: \n",
    "- количество сделанных звонков и израсходованных минут разговора по месяцам;\n",
    "- количество отправленных сообщений по месяцам;\n",
    "- объем израсходованного интернет-трафика по месяцам;\n",
    "- помесячную выручку с каждого пользователя (с учётом бесплатных лимитов по тарифам)."
   ]
  },
  {
   "cell_type": "code",
   "execution_count": 60,
   "id": "bf99639c",
   "metadata": {},
   "outputs": [],
   "source": [
    "month_rus = [\n",
    "    \"Январь\",\n",
    "    \"Февраль\",\n",
    "    \"Март\",\n",
    "    \"Апрель\",\n",
    "    \"Май\",\n",
    "    \"Июнь\",\n",
    "    \"Июль\",\n",
    "    \"Август\",\n",
    "    \"Сентябрь\",\n",
    "    \"Октябрь\",\n",
    "    \"Ноябрь\",\n",
    "    \"Декабрь\",\n",
    "]"
   ]
  },
  {
   "cell_type": "markdown",
   "id": "3daeea36",
   "metadata": {},
   "source": [
    "Добавим в датасет пользователей данные о звонках (количество и общая продолжительность) по месяцам:"
   ]
  },
  {
   "cell_type": "code",
   "execution_count": 61,
   "id": "ae617c43",
   "metadata": {},
   "outputs": [
    {
     "data": {
      "text/html": [
       "<div>\n",
       "<style scoped>\n",
       "    .dataframe tbody tr th:only-of-type {\n",
       "        vertical-align: middle;\n",
       "    }\n",
       "\n",
       "    .dataframe tbody tr th {\n",
       "        vertical-align: top;\n",
       "    }\n",
       "\n",
       "    .dataframe thead th {\n",
       "        text-align: right;\n",
       "    }\n",
       "</style>\n",
       "<table border=\"1\" class=\"dataframe\">\n",
       "  <thead>\n",
       "    <tr style=\"text-align: right;\">\n",
       "      <th></th>\n",
       "      <th>user_id</th>\n",
       "      <th>age</th>\n",
       "      <th>churn_date</th>\n",
       "      <th>city</th>\n",
       "      <th>first_name</th>\n",
       "      <th>last_name</th>\n",
       "      <th>reg_date</th>\n",
       "      <th>tariff</th>\n",
       "      <th>calls_1</th>\n",
       "      <th>calls_2</th>\n",
       "      <th>calls_3</th>\n",
       "      <th>calls_4</th>\n",
       "      <th>calls_5</th>\n",
       "      <th>calls_6</th>\n",
       "      <th>calls_7</th>\n",
       "      <th>calls_8</th>\n",
       "      <th>calls_9</th>\n",
       "      <th>calls_10</th>\n",
       "      <th>calls_11</th>\n",
       "      <th>calls_12</th>\n",
       "      <th>calls_duration_1</th>\n",
       "      <th>calls_duration_2</th>\n",
       "      <th>calls_duration_3</th>\n",
       "      <th>calls_duration_4</th>\n",
       "      <th>calls_duration_5</th>\n",
       "      <th>calls_duration_6</th>\n",
       "      <th>calls_duration_7</th>\n",
       "      <th>calls_duration_8</th>\n",
       "      <th>calls_duration_9</th>\n",
       "      <th>calls_duration_10</th>\n",
       "      <th>calls_duration_11</th>\n",
       "      <th>calls_duration_12</th>\n",
       "    </tr>\n",
       "  </thead>\n",
       "  <tbody>\n",
       "    <tr>\n",
       "      <td>0</td>\n",
       "      <td>1000</td>\n",
       "      <td>52</td>\n",
       "      <td>NaT</td>\n",
       "      <td>Краснодар</td>\n",
       "      <td>Рафаил</td>\n",
       "      <td>Верещагин</td>\n",
       "      <td>2018-05-25</td>\n",
       "      <td>ultra</td>\n",
       "      <td>NaN</td>\n",
       "      <td>NaN</td>\n",
       "      <td>NaN</td>\n",
       "      <td>NaN</td>\n",
       "      <td>22.0</td>\n",
       "      <td>43.0</td>\n",
       "      <td>47.0</td>\n",
       "      <td>52.0</td>\n",
       "      <td>58.0</td>\n",
       "      <td>57.0</td>\n",
       "      <td>43.0</td>\n",
       "      <td>46.0</td>\n",
       "      <td>NaN</td>\n",
       "      <td>NaN</td>\n",
       "      <td>NaN</td>\n",
       "      <td>NaN</td>\n",
       "      <td>159.0</td>\n",
       "      <td>172.0</td>\n",
       "      <td>340.0</td>\n",
       "      <td>408.0</td>\n",
       "      <td>466.0</td>\n",
       "      <td>350.0</td>\n",
       "      <td>338.0</td>\n",
       "      <td>333.0</td>\n",
       "    </tr>\n",
       "    <tr>\n",
       "      <td>1</td>\n",
       "      <td>1001</td>\n",
       "      <td>41</td>\n",
       "      <td>NaT</td>\n",
       "      <td>Москва</td>\n",
       "      <td>Иван</td>\n",
       "      <td>Ежов</td>\n",
       "      <td>2018-11-01</td>\n",
       "      <td>smart</td>\n",
       "      <td>NaN</td>\n",
       "      <td>NaN</td>\n",
       "      <td>NaN</td>\n",
       "      <td>NaN</td>\n",
       "      <td>NaN</td>\n",
       "      <td>NaN</td>\n",
       "      <td>NaN</td>\n",
       "      <td>NaN</td>\n",
       "      <td>NaN</td>\n",
       "      <td>NaN</td>\n",
       "      <td>59.0</td>\n",
       "      <td>63.0</td>\n",
       "      <td>NaN</td>\n",
       "      <td>NaN</td>\n",
       "      <td>NaN</td>\n",
       "      <td>NaN</td>\n",
       "      <td>NaN</td>\n",
       "      <td>NaN</td>\n",
       "      <td>NaN</td>\n",
       "      <td>NaN</td>\n",
       "      <td>NaN</td>\n",
       "      <td>NaN</td>\n",
       "      <td>430.0</td>\n",
       "      <td>414.0</td>\n",
       "    </tr>\n",
       "    <tr>\n",
       "      <td>2</td>\n",
       "      <td>1002</td>\n",
       "      <td>59</td>\n",
       "      <td>NaT</td>\n",
       "      <td>Стерлитамак</td>\n",
       "      <td>Евгений</td>\n",
       "      <td>Абрамович</td>\n",
       "      <td>2018-06-17</td>\n",
       "      <td>smart</td>\n",
       "      <td>NaN</td>\n",
       "      <td>NaN</td>\n",
       "      <td>NaN</td>\n",
       "      <td>NaN</td>\n",
       "      <td>NaN</td>\n",
       "      <td>15.0</td>\n",
       "      <td>26.0</td>\n",
       "      <td>42.0</td>\n",
       "      <td>36.0</td>\n",
       "      <td>33.0</td>\n",
       "      <td>32.0</td>\n",
       "      <td>33.0</td>\n",
       "      <td>NaN</td>\n",
       "      <td>NaN</td>\n",
       "      <td>NaN</td>\n",
       "      <td>NaN</td>\n",
       "      <td>NaN</td>\n",
       "      <td>117.0</td>\n",
       "      <td>214.0</td>\n",
       "      <td>289.0</td>\n",
       "      <td>206.0</td>\n",
       "      <td>212.0</td>\n",
       "      <td>243.0</td>\n",
       "      <td>236.0</td>\n",
       "    </tr>\n",
       "    <tr>\n",
       "      <td>3</td>\n",
       "      <td>1003</td>\n",
       "      <td>23</td>\n",
       "      <td>NaT</td>\n",
       "      <td>Москва</td>\n",
       "      <td>Белла</td>\n",
       "      <td>Белякова</td>\n",
       "      <td>2018-08-17</td>\n",
       "      <td>ultra</td>\n",
       "      <td>NaN</td>\n",
       "      <td>NaN</td>\n",
       "      <td>NaN</td>\n",
       "      <td>NaN</td>\n",
       "      <td>NaN</td>\n",
       "      <td>NaN</td>\n",
       "      <td>NaN</td>\n",
       "      <td>55.0</td>\n",
       "      <td>134.0</td>\n",
       "      <td>108.0</td>\n",
       "      <td>115.0</td>\n",
       "      <td>108.0</td>\n",
       "      <td>NaN</td>\n",
       "      <td>NaN</td>\n",
       "      <td>NaN</td>\n",
       "      <td>NaN</td>\n",
       "      <td>NaN</td>\n",
       "      <td>NaN</td>\n",
       "      <td>NaN</td>\n",
       "      <td>380.0</td>\n",
       "      <td>961.0</td>\n",
       "      <td>855.0</td>\n",
       "      <td>824.0</td>\n",
       "      <td>802.0</td>\n",
       "    </tr>\n",
       "    <tr>\n",
       "      <td>4</td>\n",
       "      <td>1004</td>\n",
       "      <td>68</td>\n",
       "      <td>NaT</td>\n",
       "      <td>Новокузнецк</td>\n",
       "      <td>Татьяна</td>\n",
       "      <td>Авдеенко</td>\n",
       "      <td>2018-05-14</td>\n",
       "      <td>ultra</td>\n",
       "      <td>NaN</td>\n",
       "      <td>NaN</td>\n",
       "      <td>NaN</td>\n",
       "      <td>NaN</td>\n",
       "      <td>9.0</td>\n",
       "      <td>31.0</td>\n",
       "      <td>22.0</td>\n",
       "      <td>19.0</td>\n",
       "      <td>26.0</td>\n",
       "      <td>29.0</td>\n",
       "      <td>19.0</td>\n",
       "      <td>21.0</td>\n",
       "      <td>NaN</td>\n",
       "      <td>NaN</td>\n",
       "      <td>NaN</td>\n",
       "      <td>NaN</td>\n",
       "      <td>35.0</td>\n",
       "      <td>171.0</td>\n",
       "      <td>135.0</td>\n",
       "      <td>137.0</td>\n",
       "      <td>117.0</td>\n",
       "      <td>145.0</td>\n",
       "      <td>117.0</td>\n",
       "      <td>130.0</td>\n",
       "    </tr>\n",
       "  </tbody>\n",
       "</table>\n",
       "</div>"
      ],
      "text/plain": [
       "   user_id  age churn_date         city first_name  last_name   reg_date  \\\n",
       "0     1000   52        NaT    Краснодар     Рафаил  Верещагин 2018-05-25   \n",
       "1     1001   41        NaT       Москва       Иван       Ежов 2018-11-01   \n",
       "2     1002   59        NaT  Стерлитамак    Евгений  Абрамович 2018-06-17   \n",
       "3     1003   23        NaT       Москва      Белла   Белякова 2018-08-17   \n",
       "4     1004   68        NaT  Новокузнецк    Татьяна   Авдеенко 2018-05-14   \n",
       "\n",
       "  tariff  calls_1  calls_2  calls_3  calls_4  calls_5  calls_6  calls_7  \\\n",
       "0  ultra      NaN      NaN      NaN      NaN     22.0     43.0     47.0   \n",
       "1  smart      NaN      NaN      NaN      NaN      NaN      NaN      NaN   \n",
       "2  smart      NaN      NaN      NaN      NaN      NaN     15.0     26.0   \n",
       "3  ultra      NaN      NaN      NaN      NaN      NaN      NaN      NaN   \n",
       "4  ultra      NaN      NaN      NaN      NaN      9.0     31.0     22.0   \n",
       "\n",
       "   calls_8  calls_9  calls_10  calls_11  calls_12  calls_duration_1  \\\n",
       "0     52.0     58.0      57.0      43.0      46.0               NaN   \n",
       "1      NaN      NaN       NaN      59.0      63.0               NaN   \n",
       "2     42.0     36.0      33.0      32.0      33.0               NaN   \n",
       "3     55.0    134.0     108.0     115.0     108.0               NaN   \n",
       "4     19.0     26.0      29.0      19.0      21.0               NaN   \n",
       "\n",
       "   calls_duration_2  calls_duration_3  calls_duration_4  calls_duration_5  \\\n",
       "0               NaN               NaN               NaN             159.0   \n",
       "1               NaN               NaN               NaN               NaN   \n",
       "2               NaN               NaN               NaN               NaN   \n",
       "3               NaN               NaN               NaN               NaN   \n",
       "4               NaN               NaN               NaN              35.0   \n",
       "\n",
       "   calls_duration_6  calls_duration_7  calls_duration_8  calls_duration_9  \\\n",
       "0             172.0             340.0             408.0             466.0   \n",
       "1               NaN               NaN               NaN               NaN   \n",
       "2             117.0             214.0             289.0             206.0   \n",
       "3               NaN               NaN             380.0             961.0   \n",
       "4             171.0             135.0             137.0             117.0   \n",
       "\n",
       "   calls_duration_10  calls_duration_11  calls_duration_12  \n",
       "0              350.0              338.0              333.0  \n",
       "1                NaN              430.0              414.0  \n",
       "2              212.0              243.0              236.0  \n",
       "3              855.0              824.0              802.0  \n",
       "4              145.0              117.0              130.0  "
      ]
     },
     "execution_count": 61,
     "metadata": {},
     "output_type": "execute_result"
    }
   ],
   "source": [
    "df_calls[\"call_month\"] = df_calls[\"call_date\"].dt.month\n",
    "\n",
    "pt = df_calls.pivot_table(\n",
    "    index=\"user_id\",\n",
    "    values=\"duration\",\n",
    "    columns=\"call_month\",\n",
    "    aggfunc=[\"count\", \"sum\"],\n",
    ").reset_index()\n",
    "\n",
    "pt.columns = (\n",
    "    [\"user_id\"]\n",
    "    + [f\"calls_{x}\" for x in range(1, 12 + 1)]\n",
    "    + [f\"calls_duration_{x}\" for x in range(1, 12 + 1)]\n",
    ")\n",
    "df_users = df_users.merge(pt, on=\"user_id\", how=\"left\")\n",
    "df_users.head()"
   ]
  },
  {
   "cell_type": "markdown",
   "id": "78c5f4c8",
   "metadata": {},
   "source": [
    "Видно, что в данных много пропусков, это связано с тем, что в эти месяцы клиент ещё не пользовался услучами оператора.\n",
    "\n",
    "Теперь добавим количество сообщений по месяцам для каждого пользователя:"
   ]
  },
  {
   "cell_type": "code",
   "execution_count": 62,
   "id": "fee2455d",
   "metadata": {
    "tags": []
   },
   "outputs": [
    {
     "data": {
      "text/html": [
       "<div>\n",
       "<style scoped>\n",
       "    .dataframe tbody tr th:only-of-type {\n",
       "        vertical-align: middle;\n",
       "    }\n",
       "\n",
       "    .dataframe tbody tr th {\n",
       "        vertical-align: top;\n",
       "    }\n",
       "\n",
       "    .dataframe thead th {\n",
       "        text-align: right;\n",
       "    }\n",
       "</style>\n",
       "<table border=\"1\" class=\"dataframe\">\n",
       "  <thead>\n",
       "    <tr style=\"text-align: right;\">\n",
       "      <th></th>\n",
       "      <th>user_id</th>\n",
       "      <th>age</th>\n",
       "      <th>churn_date</th>\n",
       "      <th>city</th>\n",
       "      <th>first_name</th>\n",
       "      <th>last_name</th>\n",
       "      <th>reg_date</th>\n",
       "      <th>tariff</th>\n",
       "      <th>calls_1</th>\n",
       "      <th>calls_2</th>\n",
       "      <th>calls_3</th>\n",
       "      <th>calls_4</th>\n",
       "      <th>calls_5</th>\n",
       "      <th>calls_6</th>\n",
       "      <th>calls_7</th>\n",
       "      <th>calls_8</th>\n",
       "      <th>calls_9</th>\n",
       "      <th>calls_10</th>\n",
       "      <th>calls_11</th>\n",
       "      <th>calls_12</th>\n",
       "      <th>calls_duration_1</th>\n",
       "      <th>calls_duration_2</th>\n",
       "      <th>calls_duration_3</th>\n",
       "      <th>calls_duration_4</th>\n",
       "      <th>calls_duration_5</th>\n",
       "      <th>calls_duration_6</th>\n",
       "      <th>calls_duration_7</th>\n",
       "      <th>calls_duration_8</th>\n",
       "      <th>calls_duration_9</th>\n",
       "      <th>calls_duration_10</th>\n",
       "      <th>calls_duration_11</th>\n",
       "      <th>calls_duration_12</th>\n",
       "      <th>messages_1</th>\n",
       "      <th>messages_2</th>\n",
       "      <th>messages_3</th>\n",
       "      <th>messages_4</th>\n",
       "      <th>messages_5</th>\n",
       "      <th>messages_6</th>\n",
       "      <th>messages_7</th>\n",
       "      <th>messages_8</th>\n",
       "      <th>messages_9</th>\n",
       "      <th>messages_10</th>\n",
       "      <th>messages_11</th>\n",
       "      <th>messages_12</th>\n",
       "    </tr>\n",
       "  </thead>\n",
       "  <tbody>\n",
       "    <tr>\n",
       "      <td>0</td>\n",
       "      <td>1000</td>\n",
       "      <td>52</td>\n",
       "      <td>NaT</td>\n",
       "      <td>Краснодар</td>\n",
       "      <td>Рафаил</td>\n",
       "      <td>Верещагин</td>\n",
       "      <td>2018-05-25</td>\n",
       "      <td>ultra</td>\n",
       "      <td>NaN</td>\n",
       "      <td>NaN</td>\n",
       "      <td>NaN</td>\n",
       "      <td>NaN</td>\n",
       "      <td>22.0</td>\n",
       "      <td>43.0</td>\n",
       "      <td>47.0</td>\n",
       "      <td>52.0</td>\n",
       "      <td>58.0</td>\n",
       "      <td>57.0</td>\n",
       "      <td>43.0</td>\n",
       "      <td>46.0</td>\n",
       "      <td>NaN</td>\n",
       "      <td>NaN</td>\n",
       "      <td>NaN</td>\n",
       "      <td>NaN</td>\n",
       "      <td>159.0</td>\n",
       "      <td>172.0</td>\n",
       "      <td>340.0</td>\n",
       "      <td>408.0</td>\n",
       "      <td>466.0</td>\n",
       "      <td>350.0</td>\n",
       "      <td>338.0</td>\n",
       "      <td>333.0</td>\n",
       "      <td>NaN</td>\n",
       "      <td>NaN</td>\n",
       "      <td>NaN</td>\n",
       "      <td>NaN</td>\n",
       "      <td>22.0</td>\n",
       "      <td>60.0</td>\n",
       "      <td>75.0</td>\n",
       "      <td>81.0</td>\n",
       "      <td>57.0</td>\n",
       "      <td>73.0</td>\n",
       "      <td>58.0</td>\n",
       "      <td>70.0</td>\n",
       "    </tr>\n",
       "    <tr>\n",
       "      <td>1</td>\n",
       "      <td>1001</td>\n",
       "      <td>41</td>\n",
       "      <td>NaT</td>\n",
       "      <td>Москва</td>\n",
       "      <td>Иван</td>\n",
       "      <td>Ежов</td>\n",
       "      <td>2018-11-01</td>\n",
       "      <td>smart</td>\n",
       "      <td>NaN</td>\n",
       "      <td>NaN</td>\n",
       "      <td>NaN</td>\n",
       "      <td>NaN</td>\n",
       "      <td>NaN</td>\n",
       "      <td>NaN</td>\n",
       "      <td>NaN</td>\n",
       "      <td>NaN</td>\n",
       "      <td>NaN</td>\n",
       "      <td>NaN</td>\n",
       "      <td>59.0</td>\n",
       "      <td>63.0</td>\n",
       "      <td>NaN</td>\n",
       "      <td>NaN</td>\n",
       "      <td>NaN</td>\n",
       "      <td>NaN</td>\n",
       "      <td>NaN</td>\n",
       "      <td>NaN</td>\n",
       "      <td>NaN</td>\n",
       "      <td>NaN</td>\n",
       "      <td>NaN</td>\n",
       "      <td>NaN</td>\n",
       "      <td>430.0</td>\n",
       "      <td>414.0</td>\n",
       "      <td>NaN</td>\n",
       "      <td>NaN</td>\n",
       "      <td>NaN</td>\n",
       "      <td>NaN</td>\n",
       "      <td>NaN</td>\n",
       "      <td>NaN</td>\n",
       "      <td>NaN</td>\n",
       "      <td>NaN</td>\n",
       "      <td>NaN</td>\n",
       "      <td>NaN</td>\n",
       "      <td>NaN</td>\n",
       "      <td>NaN</td>\n",
       "    </tr>\n",
       "    <tr>\n",
       "      <td>2</td>\n",
       "      <td>1002</td>\n",
       "      <td>59</td>\n",
       "      <td>NaT</td>\n",
       "      <td>Стерлитамак</td>\n",
       "      <td>Евгений</td>\n",
       "      <td>Абрамович</td>\n",
       "      <td>2018-06-17</td>\n",
       "      <td>smart</td>\n",
       "      <td>NaN</td>\n",
       "      <td>NaN</td>\n",
       "      <td>NaN</td>\n",
       "      <td>NaN</td>\n",
       "      <td>NaN</td>\n",
       "      <td>15.0</td>\n",
       "      <td>26.0</td>\n",
       "      <td>42.0</td>\n",
       "      <td>36.0</td>\n",
       "      <td>33.0</td>\n",
       "      <td>32.0</td>\n",
       "      <td>33.0</td>\n",
       "      <td>NaN</td>\n",
       "      <td>NaN</td>\n",
       "      <td>NaN</td>\n",
       "      <td>NaN</td>\n",
       "      <td>NaN</td>\n",
       "      <td>117.0</td>\n",
       "      <td>214.0</td>\n",
       "      <td>289.0</td>\n",
       "      <td>206.0</td>\n",
       "      <td>212.0</td>\n",
       "      <td>243.0</td>\n",
       "      <td>236.0</td>\n",
       "      <td>NaN</td>\n",
       "      <td>NaN</td>\n",
       "      <td>NaN</td>\n",
       "      <td>NaN</td>\n",
       "      <td>NaN</td>\n",
       "      <td>4.0</td>\n",
       "      <td>11.0</td>\n",
       "      <td>13.0</td>\n",
       "      <td>4.0</td>\n",
       "      <td>10.0</td>\n",
       "      <td>16.0</td>\n",
       "      <td>12.0</td>\n",
       "    </tr>\n",
       "    <tr>\n",
       "      <td>3</td>\n",
       "      <td>1003</td>\n",
       "      <td>23</td>\n",
       "      <td>NaT</td>\n",
       "      <td>Москва</td>\n",
       "      <td>Белла</td>\n",
       "      <td>Белякова</td>\n",
       "      <td>2018-08-17</td>\n",
       "      <td>ultra</td>\n",
       "      <td>NaN</td>\n",
       "      <td>NaN</td>\n",
       "      <td>NaN</td>\n",
       "      <td>NaN</td>\n",
       "      <td>NaN</td>\n",
       "      <td>NaN</td>\n",
       "      <td>NaN</td>\n",
       "      <td>55.0</td>\n",
       "      <td>134.0</td>\n",
       "      <td>108.0</td>\n",
       "      <td>115.0</td>\n",
       "      <td>108.0</td>\n",
       "      <td>NaN</td>\n",
       "      <td>NaN</td>\n",
       "      <td>NaN</td>\n",
       "      <td>NaN</td>\n",
       "      <td>NaN</td>\n",
       "      <td>NaN</td>\n",
       "      <td>NaN</td>\n",
       "      <td>380.0</td>\n",
       "      <td>961.0</td>\n",
       "      <td>855.0</td>\n",
       "      <td>824.0</td>\n",
       "      <td>802.0</td>\n",
       "      <td>NaN</td>\n",
       "      <td>NaN</td>\n",
       "      <td>NaN</td>\n",
       "      <td>NaN</td>\n",
       "      <td>NaN</td>\n",
       "      <td>NaN</td>\n",
       "      <td>NaN</td>\n",
       "      <td>37.0</td>\n",
       "      <td>91.0</td>\n",
       "      <td>83.0</td>\n",
       "      <td>94.0</td>\n",
       "      <td>75.0</td>\n",
       "    </tr>\n",
       "    <tr>\n",
       "      <td>4</td>\n",
       "      <td>1004</td>\n",
       "      <td>68</td>\n",
       "      <td>NaT</td>\n",
       "      <td>Новокузнецк</td>\n",
       "      <td>Татьяна</td>\n",
       "      <td>Авдеенко</td>\n",
       "      <td>2018-05-14</td>\n",
       "      <td>ultra</td>\n",
       "      <td>NaN</td>\n",
       "      <td>NaN</td>\n",
       "      <td>NaN</td>\n",
       "      <td>NaN</td>\n",
       "      <td>9.0</td>\n",
       "      <td>31.0</td>\n",
       "      <td>22.0</td>\n",
       "      <td>19.0</td>\n",
       "      <td>26.0</td>\n",
       "      <td>29.0</td>\n",
       "      <td>19.0</td>\n",
       "      <td>21.0</td>\n",
       "      <td>NaN</td>\n",
       "      <td>NaN</td>\n",
       "      <td>NaN</td>\n",
       "      <td>NaN</td>\n",
       "      <td>35.0</td>\n",
       "      <td>171.0</td>\n",
       "      <td>135.0</td>\n",
       "      <td>137.0</td>\n",
       "      <td>117.0</td>\n",
       "      <td>145.0</td>\n",
       "      <td>117.0</td>\n",
       "      <td>130.0</td>\n",
       "      <td>NaN</td>\n",
       "      <td>NaN</td>\n",
       "      <td>NaN</td>\n",
       "      <td>NaN</td>\n",
       "      <td>95.0</td>\n",
       "      <td>134.0</td>\n",
       "      <td>181.0</td>\n",
       "      <td>151.0</td>\n",
       "      <td>146.0</td>\n",
       "      <td>165.0</td>\n",
       "      <td>158.0</td>\n",
       "      <td>162.0</td>\n",
       "    </tr>\n",
       "  </tbody>\n",
       "</table>\n",
       "</div>"
      ],
      "text/plain": [
       "   user_id  age churn_date         city first_name  last_name   reg_date  \\\n",
       "0     1000   52        NaT    Краснодар     Рафаил  Верещагин 2018-05-25   \n",
       "1     1001   41        NaT       Москва       Иван       Ежов 2018-11-01   \n",
       "2     1002   59        NaT  Стерлитамак    Евгений  Абрамович 2018-06-17   \n",
       "3     1003   23        NaT       Москва      Белла   Белякова 2018-08-17   \n",
       "4     1004   68        NaT  Новокузнецк    Татьяна   Авдеенко 2018-05-14   \n",
       "\n",
       "  tariff  calls_1  calls_2  calls_3  calls_4  calls_5  calls_6  calls_7  \\\n",
       "0  ultra      NaN      NaN      NaN      NaN     22.0     43.0     47.0   \n",
       "1  smart      NaN      NaN      NaN      NaN      NaN      NaN      NaN   \n",
       "2  smart      NaN      NaN      NaN      NaN      NaN     15.0     26.0   \n",
       "3  ultra      NaN      NaN      NaN      NaN      NaN      NaN      NaN   \n",
       "4  ultra      NaN      NaN      NaN      NaN      9.0     31.0     22.0   \n",
       "\n",
       "   calls_8  calls_9  calls_10  calls_11  calls_12  calls_duration_1  \\\n",
       "0     52.0     58.0      57.0      43.0      46.0               NaN   \n",
       "1      NaN      NaN       NaN      59.0      63.0               NaN   \n",
       "2     42.0     36.0      33.0      32.0      33.0               NaN   \n",
       "3     55.0    134.0     108.0     115.0     108.0               NaN   \n",
       "4     19.0     26.0      29.0      19.0      21.0               NaN   \n",
       "\n",
       "   calls_duration_2  calls_duration_3  calls_duration_4  calls_duration_5  \\\n",
       "0               NaN               NaN               NaN             159.0   \n",
       "1               NaN               NaN               NaN               NaN   \n",
       "2               NaN               NaN               NaN               NaN   \n",
       "3               NaN               NaN               NaN               NaN   \n",
       "4               NaN               NaN               NaN              35.0   \n",
       "\n",
       "   calls_duration_6  calls_duration_7  calls_duration_8  calls_duration_9  \\\n",
       "0             172.0             340.0             408.0             466.0   \n",
       "1               NaN               NaN               NaN               NaN   \n",
       "2             117.0             214.0             289.0             206.0   \n",
       "3               NaN               NaN             380.0             961.0   \n",
       "4             171.0             135.0             137.0             117.0   \n",
       "\n",
       "   calls_duration_10  calls_duration_11  calls_duration_12  messages_1  \\\n",
       "0              350.0              338.0              333.0         NaN   \n",
       "1                NaN              430.0              414.0         NaN   \n",
       "2              212.0              243.0              236.0         NaN   \n",
       "3              855.0              824.0              802.0         NaN   \n",
       "4              145.0              117.0              130.0         NaN   \n",
       "\n",
       "   messages_2  messages_3  messages_4  messages_5  messages_6  messages_7  \\\n",
       "0         NaN         NaN         NaN        22.0        60.0        75.0   \n",
       "1         NaN         NaN         NaN         NaN         NaN         NaN   \n",
       "2         NaN         NaN         NaN         NaN         4.0        11.0   \n",
       "3         NaN         NaN         NaN         NaN         NaN         NaN   \n",
       "4         NaN         NaN         NaN        95.0       134.0       181.0   \n",
       "\n",
       "   messages_8  messages_9  messages_10  messages_11  messages_12  \n",
       "0        81.0        57.0         73.0         58.0         70.0  \n",
       "1         NaN         NaN          NaN          NaN          NaN  \n",
       "2        13.0         4.0         10.0         16.0         12.0  \n",
       "3        37.0        91.0         83.0         94.0         75.0  \n",
       "4       151.0       146.0        165.0        158.0        162.0  "
      ]
     },
     "execution_count": 62,
     "metadata": {},
     "output_type": "execute_result"
    }
   ],
   "source": [
    "df_messages[\"message_month\"] = df_messages[\"message_date\"].dt.month\n",
    "\n",
    "pt = df_messages.pivot_table(\n",
    "    index=\"user_id\",\n",
    "    values=\"id\",\n",
    "    columns=\"message_month\",\n",
    "    aggfunc=\"count\",\n",
    ").reset_index()\n",
    "\n",
    "pt.columns = [\"user_id\"] + [f\"messages_{x}\" for x in range(1, 12 + 1)]\n",
    "\n",
    "df_users = df_users.merge(pt, on=\"user_id\", how=\"left\")\n",
    "df_users.head()"
   ]
  },
  {
   "cell_type": "markdown",
   "id": "77731005",
   "metadata": {},
   "source": [
    "Наконец, добавим информацию об использовании интернета: количество сессий и общий трафик за месяц, округлённый вверх до гигабайта:"
   ]
  },
  {
   "cell_type": "code",
   "execution_count": 63,
   "id": "16ff4137",
   "metadata": {},
   "outputs": [],
   "source": [
    "df_internet[\"internet_month\"] = df_internet[\"session_date\"].dt.month"
   ]
  },
  {
   "cell_type": "code",
   "execution_count": 64,
   "id": "4cd588d3",
   "metadata": {
    "tags": []
   },
   "outputs": [
    {
     "data": {
      "text/html": [
       "<div>\n",
       "<style scoped>\n",
       "    .dataframe tbody tr th:only-of-type {\n",
       "        vertical-align: middle;\n",
       "    }\n",
       "\n",
       "    .dataframe tbody tr th {\n",
       "        vertical-align: top;\n",
       "    }\n",
       "\n",
       "    .dataframe thead th {\n",
       "        text-align: right;\n",
       "    }\n",
       "</style>\n",
       "<table border=\"1\" class=\"dataframe\">\n",
       "  <thead>\n",
       "    <tr style=\"text-align: right;\">\n",
       "      <th></th>\n",
       "      <th>user_id</th>\n",
       "      <th>age</th>\n",
       "      <th>churn_date</th>\n",
       "      <th>city</th>\n",
       "      <th>first_name</th>\n",
       "      <th>last_name</th>\n",
       "      <th>reg_date</th>\n",
       "      <th>tariff</th>\n",
       "      <th>calls_1</th>\n",
       "      <th>calls_2</th>\n",
       "      <th>calls_3</th>\n",
       "      <th>calls_4</th>\n",
       "      <th>calls_5</th>\n",
       "      <th>calls_6</th>\n",
       "      <th>calls_7</th>\n",
       "      <th>calls_8</th>\n",
       "      <th>calls_9</th>\n",
       "      <th>calls_10</th>\n",
       "      <th>calls_11</th>\n",
       "      <th>calls_12</th>\n",
       "      <th>calls_duration_1</th>\n",
       "      <th>calls_duration_2</th>\n",
       "      <th>calls_duration_3</th>\n",
       "      <th>calls_duration_4</th>\n",
       "      <th>calls_duration_5</th>\n",
       "      <th>calls_duration_6</th>\n",
       "      <th>calls_duration_7</th>\n",
       "      <th>calls_duration_8</th>\n",
       "      <th>calls_duration_9</th>\n",
       "      <th>calls_duration_10</th>\n",
       "      <th>calls_duration_11</th>\n",
       "      <th>calls_duration_12</th>\n",
       "      <th>messages_1</th>\n",
       "      <th>messages_2</th>\n",
       "      <th>messages_3</th>\n",
       "      <th>messages_4</th>\n",
       "      <th>messages_5</th>\n",
       "      <th>messages_6</th>\n",
       "      <th>messages_7</th>\n",
       "      <th>messages_8</th>\n",
       "      <th>messages_9</th>\n",
       "      <th>messages_10</th>\n",
       "      <th>messages_11</th>\n",
       "      <th>messages_12</th>\n",
       "      <th>sessions_1</th>\n",
       "      <th>sessions_2</th>\n",
       "      <th>sessions_3</th>\n",
       "      <th>sessions_4</th>\n",
       "      <th>sessions_5</th>\n",
       "      <th>sessions_6</th>\n",
       "      <th>sessions_7</th>\n",
       "      <th>sessions_8</th>\n",
       "      <th>sessions_9</th>\n",
       "      <th>sessions_10</th>\n",
       "      <th>sessions_11</th>\n",
       "      <th>sessions_12</th>\n",
       "      <th>mb_used_1</th>\n",
       "      <th>mb_used_2</th>\n",
       "      <th>mb_used_3</th>\n",
       "      <th>mb_used_4</th>\n",
       "      <th>mb_used_5</th>\n",
       "      <th>mb_used_6</th>\n",
       "      <th>mb_used_7</th>\n",
       "      <th>mb_used_8</th>\n",
       "      <th>mb_used_9</th>\n",
       "      <th>mb_used_10</th>\n",
       "      <th>mb_used_11</th>\n",
       "      <th>mb_used_12</th>\n",
       "    </tr>\n",
       "  </thead>\n",
       "  <tbody>\n",
       "    <tr>\n",
       "      <td>0</td>\n",
       "      <td>1000</td>\n",
       "      <td>52</td>\n",
       "      <td>NaT</td>\n",
       "      <td>Краснодар</td>\n",
       "      <td>Рафаил</td>\n",
       "      <td>Верещагин</td>\n",
       "      <td>2018-05-25</td>\n",
       "      <td>ultra</td>\n",
       "      <td>NaN</td>\n",
       "      <td>NaN</td>\n",
       "      <td>NaN</td>\n",
       "      <td>NaN</td>\n",
       "      <td>22.0</td>\n",
       "      <td>43.0</td>\n",
       "      <td>47.0</td>\n",
       "      <td>52.0</td>\n",
       "      <td>58.0</td>\n",
       "      <td>57.0</td>\n",
       "      <td>43.0</td>\n",
       "      <td>46.0</td>\n",
       "      <td>NaN</td>\n",
       "      <td>NaN</td>\n",
       "      <td>NaN</td>\n",
       "      <td>NaN</td>\n",
       "      <td>159.0</td>\n",
       "      <td>172.0</td>\n",
       "      <td>340.0</td>\n",
       "      <td>408.0</td>\n",
       "      <td>466.0</td>\n",
       "      <td>350.0</td>\n",
       "      <td>338.0</td>\n",
       "      <td>333.0</td>\n",
       "      <td>NaN</td>\n",
       "      <td>NaN</td>\n",
       "      <td>NaN</td>\n",
       "      <td>NaN</td>\n",
       "      <td>22.0</td>\n",
       "      <td>60.0</td>\n",
       "      <td>75.0</td>\n",
       "      <td>81.0</td>\n",
       "      <td>57.0</td>\n",
       "      <td>73.0</td>\n",
       "      <td>58.0</td>\n",
       "      <td>70.0</td>\n",
       "      <td>NaN</td>\n",
       "      <td>NaN</td>\n",
       "      <td>NaN</td>\n",
       "      <td>NaN</td>\n",
       "      <td>4.0</td>\n",
       "      <td>44.0</td>\n",
       "      <td>28.0</td>\n",
       "      <td>27.0</td>\n",
       "      <td>25.0</td>\n",
       "      <td>27.0</td>\n",
       "      <td>23.0</td>\n",
       "      <td>19.0</td>\n",
       "      <td>NaN</td>\n",
       "      <td>NaN</td>\n",
       "      <td>NaN</td>\n",
       "      <td>NaN</td>\n",
       "      <td>3072.0</td>\n",
       "      <td>23552.0</td>\n",
       "      <td>14336.0</td>\n",
       "      <td>14336.0</td>\n",
       "      <td>15360.0</td>\n",
       "      <td>15360.0</td>\n",
       "      <td>15360.0</td>\n",
       "      <td>10240.0</td>\n",
       "    </tr>\n",
       "    <tr>\n",
       "      <td>1</td>\n",
       "      <td>1001</td>\n",
       "      <td>41</td>\n",
       "      <td>NaT</td>\n",
       "      <td>Москва</td>\n",
       "      <td>Иван</td>\n",
       "      <td>Ежов</td>\n",
       "      <td>2018-11-01</td>\n",
       "      <td>smart</td>\n",
       "      <td>NaN</td>\n",
       "      <td>NaN</td>\n",
       "      <td>NaN</td>\n",
       "      <td>NaN</td>\n",
       "      <td>NaN</td>\n",
       "      <td>NaN</td>\n",
       "      <td>NaN</td>\n",
       "      <td>NaN</td>\n",
       "      <td>NaN</td>\n",
       "      <td>NaN</td>\n",
       "      <td>59.0</td>\n",
       "      <td>63.0</td>\n",
       "      <td>NaN</td>\n",
       "      <td>NaN</td>\n",
       "      <td>NaN</td>\n",
       "      <td>NaN</td>\n",
       "      <td>NaN</td>\n",
       "      <td>NaN</td>\n",
       "      <td>NaN</td>\n",
       "      <td>NaN</td>\n",
       "      <td>NaN</td>\n",
       "      <td>NaN</td>\n",
       "      <td>430.0</td>\n",
       "      <td>414.0</td>\n",
       "      <td>NaN</td>\n",
       "      <td>NaN</td>\n",
       "      <td>NaN</td>\n",
       "      <td>NaN</td>\n",
       "      <td>NaN</td>\n",
       "      <td>NaN</td>\n",
       "      <td>NaN</td>\n",
       "      <td>NaN</td>\n",
       "      <td>NaN</td>\n",
       "      <td>NaN</td>\n",
       "      <td>NaN</td>\n",
       "      <td>NaN</td>\n",
       "      <td>NaN</td>\n",
       "      <td>NaN</td>\n",
       "      <td>NaN</td>\n",
       "      <td>NaN</td>\n",
       "      <td>NaN</td>\n",
       "      <td>NaN</td>\n",
       "      <td>NaN</td>\n",
       "      <td>NaN</td>\n",
       "      <td>NaN</td>\n",
       "      <td>NaN</td>\n",
       "      <td>47.0</td>\n",
       "      <td>35.0</td>\n",
       "      <td>NaN</td>\n",
       "      <td>NaN</td>\n",
       "      <td>NaN</td>\n",
       "      <td>NaN</td>\n",
       "      <td>NaN</td>\n",
       "      <td>NaN</td>\n",
       "      <td>NaN</td>\n",
       "      <td>NaN</td>\n",
       "      <td>NaN</td>\n",
       "      <td>NaN</td>\n",
       "      <td>18432.0</td>\n",
       "      <td>14336.0</td>\n",
       "    </tr>\n",
       "    <tr>\n",
       "      <td>2</td>\n",
       "      <td>1002</td>\n",
       "      <td>59</td>\n",
       "      <td>NaT</td>\n",
       "      <td>Стерлитамак</td>\n",
       "      <td>Евгений</td>\n",
       "      <td>Абрамович</td>\n",
       "      <td>2018-06-17</td>\n",
       "      <td>smart</td>\n",
       "      <td>NaN</td>\n",
       "      <td>NaN</td>\n",
       "      <td>NaN</td>\n",
       "      <td>NaN</td>\n",
       "      <td>NaN</td>\n",
       "      <td>15.0</td>\n",
       "      <td>26.0</td>\n",
       "      <td>42.0</td>\n",
       "      <td>36.0</td>\n",
       "      <td>33.0</td>\n",
       "      <td>32.0</td>\n",
       "      <td>33.0</td>\n",
       "      <td>NaN</td>\n",
       "      <td>NaN</td>\n",
       "      <td>NaN</td>\n",
       "      <td>NaN</td>\n",
       "      <td>NaN</td>\n",
       "      <td>117.0</td>\n",
       "      <td>214.0</td>\n",
       "      <td>289.0</td>\n",
       "      <td>206.0</td>\n",
       "      <td>212.0</td>\n",
       "      <td>243.0</td>\n",
       "      <td>236.0</td>\n",
       "      <td>NaN</td>\n",
       "      <td>NaN</td>\n",
       "      <td>NaN</td>\n",
       "      <td>NaN</td>\n",
       "      <td>NaN</td>\n",
       "      <td>4.0</td>\n",
       "      <td>11.0</td>\n",
       "      <td>13.0</td>\n",
       "      <td>4.0</td>\n",
       "      <td>10.0</td>\n",
       "      <td>16.0</td>\n",
       "      <td>12.0</td>\n",
       "      <td>NaN</td>\n",
       "      <td>NaN</td>\n",
       "      <td>NaN</td>\n",
       "      <td>NaN</td>\n",
       "      <td>NaN</td>\n",
       "      <td>27.0</td>\n",
       "      <td>44.0</td>\n",
       "      <td>50.0</td>\n",
       "      <td>44.0</td>\n",
       "      <td>36.0</td>\n",
       "      <td>44.0</td>\n",
       "      <td>52.0</td>\n",
       "      <td>NaN</td>\n",
       "      <td>NaN</td>\n",
       "      <td>NaN</td>\n",
       "      <td>NaN</td>\n",
       "      <td>NaN</td>\n",
       "      <td>11264.0</td>\n",
       "      <td>18432.0</td>\n",
       "      <td>20480.0</td>\n",
       "      <td>17408.0</td>\n",
       "      <td>14336.0</td>\n",
       "      <td>19456.0</td>\n",
       "      <td>18432.0</td>\n",
       "    </tr>\n",
       "    <tr>\n",
       "      <td>3</td>\n",
       "      <td>1003</td>\n",
       "      <td>23</td>\n",
       "      <td>NaT</td>\n",
       "      <td>Москва</td>\n",
       "      <td>Белла</td>\n",
       "      <td>Белякова</td>\n",
       "      <td>2018-08-17</td>\n",
       "      <td>ultra</td>\n",
       "      <td>NaN</td>\n",
       "      <td>NaN</td>\n",
       "      <td>NaN</td>\n",
       "      <td>NaN</td>\n",
       "      <td>NaN</td>\n",
       "      <td>NaN</td>\n",
       "      <td>NaN</td>\n",
       "      <td>55.0</td>\n",
       "      <td>134.0</td>\n",
       "      <td>108.0</td>\n",
       "      <td>115.0</td>\n",
       "      <td>108.0</td>\n",
       "      <td>NaN</td>\n",
       "      <td>NaN</td>\n",
       "      <td>NaN</td>\n",
       "      <td>NaN</td>\n",
       "      <td>NaN</td>\n",
       "      <td>NaN</td>\n",
       "      <td>NaN</td>\n",
       "      <td>380.0</td>\n",
       "      <td>961.0</td>\n",
       "      <td>855.0</td>\n",
       "      <td>824.0</td>\n",
       "      <td>802.0</td>\n",
       "      <td>NaN</td>\n",
       "      <td>NaN</td>\n",
       "      <td>NaN</td>\n",
       "      <td>NaN</td>\n",
       "      <td>NaN</td>\n",
       "      <td>NaN</td>\n",
       "      <td>NaN</td>\n",
       "      <td>37.0</td>\n",
       "      <td>91.0</td>\n",
       "      <td>83.0</td>\n",
       "      <td>94.0</td>\n",
       "      <td>75.0</td>\n",
       "      <td>NaN</td>\n",
       "      <td>NaN</td>\n",
       "      <td>NaN</td>\n",
       "      <td>NaN</td>\n",
       "      <td>NaN</td>\n",
       "      <td>NaN</td>\n",
       "      <td>NaN</td>\n",
       "      <td>14.0</td>\n",
       "      <td>22.0</td>\n",
       "      <td>25.0</td>\n",
       "      <td>20.0</td>\n",
       "      <td>21.0</td>\n",
       "      <td>NaN</td>\n",
       "      <td>NaN</td>\n",
       "      <td>NaN</td>\n",
       "      <td>NaN</td>\n",
       "      <td>NaN</td>\n",
       "      <td>NaN</td>\n",
       "      <td>NaN</td>\n",
       "      <td>9216.0</td>\n",
       "      <td>13312.0</td>\n",
       "      <td>15360.0</td>\n",
       "      <td>12288.0</td>\n",
       "      <td>10240.0</td>\n",
       "    </tr>\n",
       "    <tr>\n",
       "      <td>4</td>\n",
       "      <td>1004</td>\n",
       "      <td>68</td>\n",
       "      <td>NaT</td>\n",
       "      <td>Новокузнецк</td>\n",
       "      <td>Татьяна</td>\n",
       "      <td>Авдеенко</td>\n",
       "      <td>2018-05-14</td>\n",
       "      <td>ultra</td>\n",
       "      <td>NaN</td>\n",
       "      <td>NaN</td>\n",
       "      <td>NaN</td>\n",
       "      <td>NaN</td>\n",
       "      <td>9.0</td>\n",
       "      <td>31.0</td>\n",
       "      <td>22.0</td>\n",
       "      <td>19.0</td>\n",
       "      <td>26.0</td>\n",
       "      <td>29.0</td>\n",
       "      <td>19.0</td>\n",
       "      <td>21.0</td>\n",
       "      <td>NaN</td>\n",
       "      <td>NaN</td>\n",
       "      <td>NaN</td>\n",
       "      <td>NaN</td>\n",
       "      <td>35.0</td>\n",
       "      <td>171.0</td>\n",
       "      <td>135.0</td>\n",
       "      <td>137.0</td>\n",
       "      <td>117.0</td>\n",
       "      <td>145.0</td>\n",
       "      <td>117.0</td>\n",
       "      <td>130.0</td>\n",
       "      <td>NaN</td>\n",
       "      <td>NaN</td>\n",
       "      <td>NaN</td>\n",
       "      <td>NaN</td>\n",
       "      <td>95.0</td>\n",
       "      <td>134.0</td>\n",
       "      <td>181.0</td>\n",
       "      <td>151.0</td>\n",
       "      <td>146.0</td>\n",
       "      <td>165.0</td>\n",
       "      <td>158.0</td>\n",
       "      <td>162.0</td>\n",
       "      <td>NaN</td>\n",
       "      <td>NaN</td>\n",
       "      <td>NaN</td>\n",
       "      <td>NaN</td>\n",
       "      <td>24.0</td>\n",
       "      <td>33.0</td>\n",
       "      <td>32.0</td>\n",
       "      <td>50.0</td>\n",
       "      <td>32.0</td>\n",
       "      <td>37.0</td>\n",
       "      <td>33.0</td>\n",
       "      <td>37.0</td>\n",
       "      <td>NaN</td>\n",
       "      <td>NaN</td>\n",
       "      <td>NaN</td>\n",
       "      <td>NaN</td>\n",
       "      <td>14336.0</td>\n",
       "      <td>18432.0</td>\n",
       "      <td>22528.0</td>\n",
       "      <td>28672.0</td>\n",
       "      <td>15360.0</td>\n",
       "      <td>19456.0</td>\n",
       "      <td>16384.0</td>\n",
       "      <td>18432.0</td>\n",
       "    </tr>\n",
       "  </tbody>\n",
       "</table>\n",
       "</div>"
      ],
      "text/plain": [
       "   user_id  age churn_date         city first_name  last_name   reg_date  \\\n",
       "0     1000   52        NaT    Краснодар     Рафаил  Верещагин 2018-05-25   \n",
       "1     1001   41        NaT       Москва       Иван       Ежов 2018-11-01   \n",
       "2     1002   59        NaT  Стерлитамак    Евгений  Абрамович 2018-06-17   \n",
       "3     1003   23        NaT       Москва      Белла   Белякова 2018-08-17   \n",
       "4     1004   68        NaT  Новокузнецк    Татьяна   Авдеенко 2018-05-14   \n",
       "\n",
       "  tariff  calls_1  calls_2  calls_3  calls_4  calls_5  calls_6  calls_7  \\\n",
       "0  ultra      NaN      NaN      NaN      NaN     22.0     43.0     47.0   \n",
       "1  smart      NaN      NaN      NaN      NaN      NaN      NaN      NaN   \n",
       "2  smart      NaN      NaN      NaN      NaN      NaN     15.0     26.0   \n",
       "3  ultra      NaN      NaN      NaN      NaN      NaN      NaN      NaN   \n",
       "4  ultra      NaN      NaN      NaN      NaN      9.0     31.0     22.0   \n",
       "\n",
       "   calls_8  calls_9  calls_10  calls_11  calls_12  calls_duration_1  \\\n",
       "0     52.0     58.0      57.0      43.0      46.0               NaN   \n",
       "1      NaN      NaN       NaN      59.0      63.0               NaN   \n",
       "2     42.0     36.0      33.0      32.0      33.0               NaN   \n",
       "3     55.0    134.0     108.0     115.0     108.0               NaN   \n",
       "4     19.0     26.0      29.0      19.0      21.0               NaN   \n",
       "\n",
       "   calls_duration_2  calls_duration_3  calls_duration_4  calls_duration_5  \\\n",
       "0               NaN               NaN               NaN             159.0   \n",
       "1               NaN               NaN               NaN               NaN   \n",
       "2               NaN               NaN               NaN               NaN   \n",
       "3               NaN               NaN               NaN               NaN   \n",
       "4               NaN               NaN               NaN              35.0   \n",
       "\n",
       "   calls_duration_6  calls_duration_7  calls_duration_8  calls_duration_9  \\\n",
       "0             172.0             340.0             408.0             466.0   \n",
       "1               NaN               NaN               NaN               NaN   \n",
       "2             117.0             214.0             289.0             206.0   \n",
       "3               NaN               NaN             380.0             961.0   \n",
       "4             171.0             135.0             137.0             117.0   \n",
       "\n",
       "   calls_duration_10  calls_duration_11  calls_duration_12  messages_1  \\\n",
       "0              350.0              338.0              333.0         NaN   \n",
       "1                NaN              430.0              414.0         NaN   \n",
       "2              212.0              243.0              236.0         NaN   \n",
       "3              855.0              824.0              802.0         NaN   \n",
       "4              145.0              117.0              130.0         NaN   \n",
       "\n",
       "   messages_2  messages_3  messages_4  messages_5  messages_6  messages_7  \\\n",
       "0         NaN         NaN         NaN        22.0        60.0        75.0   \n",
       "1         NaN         NaN         NaN         NaN         NaN         NaN   \n",
       "2         NaN         NaN         NaN         NaN         4.0        11.0   \n",
       "3         NaN         NaN         NaN         NaN         NaN         NaN   \n",
       "4         NaN         NaN         NaN        95.0       134.0       181.0   \n",
       "\n",
       "   messages_8  messages_9  messages_10  messages_11  messages_12  sessions_1  \\\n",
       "0        81.0        57.0         73.0         58.0         70.0         NaN   \n",
       "1         NaN         NaN          NaN          NaN          NaN         NaN   \n",
       "2        13.0         4.0         10.0         16.0         12.0         NaN   \n",
       "3        37.0        91.0         83.0         94.0         75.0         NaN   \n",
       "4       151.0       146.0        165.0        158.0        162.0         NaN   \n",
       "\n",
       "   sessions_2  sessions_3  sessions_4  sessions_5  sessions_6  sessions_7  \\\n",
       "0         NaN         NaN         NaN         4.0        44.0        28.0   \n",
       "1         NaN         NaN         NaN         NaN         NaN         NaN   \n",
       "2         NaN         NaN         NaN         NaN        27.0        44.0   \n",
       "3         NaN         NaN         NaN         NaN         NaN         NaN   \n",
       "4         NaN         NaN         NaN        24.0        33.0        32.0   \n",
       "\n",
       "   sessions_8  sessions_9  sessions_10  sessions_11  sessions_12  mb_used_1  \\\n",
       "0        27.0        25.0         27.0         23.0         19.0        NaN   \n",
       "1         NaN         NaN          NaN         47.0         35.0        NaN   \n",
       "2        50.0        44.0         36.0         44.0         52.0        NaN   \n",
       "3        14.0        22.0         25.0         20.0         21.0        NaN   \n",
       "4        50.0        32.0         37.0         33.0         37.0        NaN   \n",
       "\n",
       "   mb_used_2  mb_used_3  mb_used_4  mb_used_5  mb_used_6  mb_used_7  \\\n",
       "0        NaN        NaN        NaN     3072.0    23552.0    14336.0   \n",
       "1        NaN        NaN        NaN        NaN        NaN        NaN   \n",
       "2        NaN        NaN        NaN        NaN    11264.0    18432.0   \n",
       "3        NaN        NaN        NaN        NaN        NaN        NaN   \n",
       "4        NaN        NaN        NaN    14336.0    18432.0    22528.0   \n",
       "\n",
       "   mb_used_8  mb_used_9  mb_used_10  mb_used_11  mb_used_12  \n",
       "0    14336.0    15360.0     15360.0     15360.0     10240.0  \n",
       "1        NaN        NaN         NaN     18432.0     14336.0  \n",
       "2    20480.0    17408.0     14336.0     19456.0     18432.0  \n",
       "3     9216.0    13312.0     15360.0     12288.0     10240.0  \n",
       "4    28672.0    15360.0     19456.0     16384.0     18432.0  "
      ]
     },
     "execution_count": 64,
     "metadata": {},
     "output_type": "execute_result"
    }
   ],
   "source": [
    "pt = df_internet.pivot_table(\n",
    "    index=\"user_id\",\n",
    "    values=\"mb_used\",\n",
    "    columns=\"internet_month\",\n",
    "    aggfunc=[\"count\", \"sum\"],\n",
    ").reset_index()\n",
    "\n",
    "pt.columns = (\n",
    "    [\"user_id\"]\n",
    "    + [f\"sessions_{x}\" for x in range(1, 12 + 1)]\n",
    "    + [f\"mb_used_{x}\" for x in range(1, 12 + 1)]\n",
    ")\n",
    "\n",
    "# округлим интернет-трафик вверх до гигабайта\n",
    "for m in range(1, 12 + 1):\n",
    "    pt[f\"mb_used_{m}\"] = np.ceil(pt[f\"mb_used_{m}\"] / 1024) * 1024\n",
    "df_users = df_users.merge(pt, on=\"user_id\", how=\"left\")\n",
    "df_users.head()"
   ]
  },
  {
   "cell_type": "markdown",
   "id": "7e675e9a",
   "metadata": {},
   "source": [
    "Ещё для анализа нам потребуется информация о тратах пользователей с учётом бесплатных лимитов по тарифам. Для этого напишем пару функций:"
   ]
  },
  {
   "cell_type": "code",
   "execution_count": 65,
   "id": "7217dff4",
   "metadata": {},
   "outputs": [],
   "source": [
    "def month_payment(month, row):\n",
    "    \"\"\"\n",
    "    функция принимает номер месяца [1,12] и строку датафрейма с данными, возвращает платёж за месяц\n",
    "    \"\"\"\n",
    "    tariff = row[\"tariff\"]\n",
    "    payment = int(\n",
    "        df_tariffs.loc[df_tariffs[\"tariff_name\"] == tariff, \"rub_monthly_fee\"]\n",
    "    )\n",
    "\n",
    "    minutes_included = int(\n",
    "        df_tariffs.loc[df_tariffs[\"tariff_name\"] == tariff, \"minutes_included\"]\n",
    "    )\n",
    "    if (not np.isnan(row[f\"calls_duration_{month}\"])) and (\n",
    "        row[f\"calls_duration_{month}\"] > minutes_included\n",
    "    ):\n",
    "        rub_per_minute = int(\n",
    "            df_tariffs.loc[df_tariffs[\"tariff_name\"] == tariff, \"rub_per_minute\"]\n",
    "        )\n",
    "        payment += (row[f\"calls_duration_{month}\"] - minutes_included) * rub_per_minute\n",
    "\n",
    "    messages_included = int(\n",
    "        df_tariffs.loc[df_tariffs[\"tariff_name\"] == tariff, \"messages_included\"]\n",
    "    )\n",
    "    if (not np.isnan(row[f\"messages_{month}\"])) and (\n",
    "        row[f\"messages_{month}\"] > messages_included\n",
    "    ):\n",
    "        rub_per_message = int(\n",
    "            df_tariffs.loc[df_tariffs[\"tariff_name\"] == tariff, \"rub_per_message\"]\n",
    "        )\n",
    "        payment += (row[f\"messages_{month}\"] - messages_included) * rub_per_message\n",
    "\n",
    "    mb_per_month_included = int(\n",
    "        df_tariffs.loc[df_tariffs[\"tariff_name\"] == tariff, \"mb_per_month_included\"]\n",
    "    )\n",
    "    if (not np.isnan(row[f\"mb_used_{month}\"])) and (\n",
    "        row[f\"mb_used_{month}\"] > mb_per_month_included\n",
    "    ):\n",
    "        rub_per_gb = int(\n",
    "            df_tariffs.loc[df_tariffs[\"tariff_name\"] == tariff, \"rub_per_gb\"]\n",
    "        )\n",
    "        payment += (row[f\"mb_used_{month}\"] - mb_per_month_included) / 1024 * rub_per_gb\n",
    "    return payment\n",
    "\n",
    "\n",
    "def payments(row):\n",
    "    \"\"\"\n",
    "    функция принимает строку датафрейма с данными row, вычисляет платёжи за каждый месяц и заносит их в row.\n",
    "    Возвраящает пересчитанную строку row\n",
    "    \"\"\"\n",
    "    for m in range(1, 12 + 1):\n",
    "        if m < row[\"reg_date\"].month:\n",
    "            payment = np.nan\n",
    "        else:\n",
    "            payment = month_payment(m, row)\n",
    "        row[f\"payment_{m}\"] = payment\n",
    "    return row"
   ]
  },
  {
   "cell_type": "code",
   "execution_count": 66,
   "id": "291df79b",
   "metadata": {
    "tags": []
   },
   "outputs": [],
   "source": [
    "df_users = df_users.apply(payments, axis=1);"
   ]
  },
  {
   "cell_type": "code",
   "execution_count": 67,
   "id": "12483d1a",
   "metadata": {},
   "outputs": [
    {
     "data": {
      "text/html": [
       "<div>\n",
       "<style scoped>\n",
       "    .dataframe tbody tr th:only-of-type {\n",
       "        vertical-align: middle;\n",
       "    }\n",
       "\n",
       "    .dataframe tbody tr th {\n",
       "        vertical-align: top;\n",
       "    }\n",
       "\n",
       "    .dataframe thead th {\n",
       "        text-align: right;\n",
       "    }\n",
       "</style>\n",
       "<table border=\"1\" class=\"dataframe\">\n",
       "  <thead>\n",
       "    <tr style=\"text-align: right;\">\n",
       "      <th></th>\n",
       "      <th>user_id</th>\n",
       "      <th>age</th>\n",
       "      <th>churn_date</th>\n",
       "      <th>city</th>\n",
       "      <th>first_name</th>\n",
       "      <th>last_name</th>\n",
       "      <th>reg_date</th>\n",
       "      <th>tariff</th>\n",
       "      <th>calls_1</th>\n",
       "      <th>calls_2</th>\n",
       "      <th>calls_3</th>\n",
       "      <th>calls_4</th>\n",
       "      <th>calls_5</th>\n",
       "      <th>calls_6</th>\n",
       "      <th>calls_7</th>\n",
       "      <th>calls_8</th>\n",
       "      <th>calls_9</th>\n",
       "      <th>calls_10</th>\n",
       "      <th>calls_11</th>\n",
       "      <th>calls_12</th>\n",
       "      <th>calls_duration_1</th>\n",
       "      <th>calls_duration_2</th>\n",
       "      <th>calls_duration_3</th>\n",
       "      <th>calls_duration_4</th>\n",
       "      <th>calls_duration_5</th>\n",
       "      <th>calls_duration_6</th>\n",
       "      <th>calls_duration_7</th>\n",
       "      <th>calls_duration_8</th>\n",
       "      <th>calls_duration_9</th>\n",
       "      <th>calls_duration_10</th>\n",
       "      <th>calls_duration_11</th>\n",
       "      <th>calls_duration_12</th>\n",
       "      <th>messages_1</th>\n",
       "      <th>messages_2</th>\n",
       "      <th>messages_3</th>\n",
       "      <th>messages_4</th>\n",
       "      <th>messages_5</th>\n",
       "      <th>messages_6</th>\n",
       "      <th>messages_7</th>\n",
       "      <th>messages_8</th>\n",
       "      <th>messages_9</th>\n",
       "      <th>messages_10</th>\n",
       "      <th>messages_11</th>\n",
       "      <th>messages_12</th>\n",
       "      <th>sessions_1</th>\n",
       "      <th>sessions_2</th>\n",
       "      <th>sessions_3</th>\n",
       "      <th>sessions_4</th>\n",
       "      <th>sessions_5</th>\n",
       "      <th>sessions_6</th>\n",
       "      <th>sessions_7</th>\n",
       "      <th>sessions_8</th>\n",
       "      <th>sessions_9</th>\n",
       "      <th>sessions_10</th>\n",
       "      <th>sessions_11</th>\n",
       "      <th>sessions_12</th>\n",
       "      <th>mb_used_1</th>\n",
       "      <th>mb_used_2</th>\n",
       "      <th>mb_used_3</th>\n",
       "      <th>mb_used_4</th>\n",
       "      <th>mb_used_5</th>\n",
       "      <th>mb_used_6</th>\n",
       "      <th>mb_used_7</th>\n",
       "      <th>mb_used_8</th>\n",
       "      <th>mb_used_9</th>\n",
       "      <th>mb_used_10</th>\n",
       "      <th>mb_used_11</th>\n",
       "      <th>mb_used_12</th>\n",
       "      <th>payment_1</th>\n",
       "      <th>payment_2</th>\n",
       "      <th>payment_3</th>\n",
       "      <th>payment_4</th>\n",
       "      <th>payment_5</th>\n",
       "      <th>payment_6</th>\n",
       "      <th>payment_7</th>\n",
       "      <th>payment_8</th>\n",
       "      <th>payment_9</th>\n",
       "      <th>payment_10</th>\n",
       "      <th>payment_11</th>\n",
       "      <th>payment_12</th>\n",
       "    </tr>\n",
       "  </thead>\n",
       "  <tbody>\n",
       "    <tr>\n",
       "      <td>0</td>\n",
       "      <td>1000</td>\n",
       "      <td>52</td>\n",
       "      <td>NaT</td>\n",
       "      <td>Краснодар</td>\n",
       "      <td>Рафаил</td>\n",
       "      <td>Верещагин</td>\n",
       "      <td>2018-05-25</td>\n",
       "      <td>ultra</td>\n",
       "      <td>NaN</td>\n",
       "      <td>NaN</td>\n",
       "      <td>NaN</td>\n",
       "      <td>NaN</td>\n",
       "      <td>22.0</td>\n",
       "      <td>43.0</td>\n",
       "      <td>47.0</td>\n",
       "      <td>52.0</td>\n",
       "      <td>58.0</td>\n",
       "      <td>57.0</td>\n",
       "      <td>43.0</td>\n",
       "      <td>46.0</td>\n",
       "      <td>NaN</td>\n",
       "      <td>NaN</td>\n",
       "      <td>NaN</td>\n",
       "      <td>NaN</td>\n",
       "      <td>159.0</td>\n",
       "      <td>172.0</td>\n",
       "      <td>340.0</td>\n",
       "      <td>408.0</td>\n",
       "      <td>466.0</td>\n",
       "      <td>350.0</td>\n",
       "      <td>338.0</td>\n",
       "      <td>333.0</td>\n",
       "      <td>NaN</td>\n",
       "      <td>NaN</td>\n",
       "      <td>NaN</td>\n",
       "      <td>NaN</td>\n",
       "      <td>22.0</td>\n",
       "      <td>60.0</td>\n",
       "      <td>75.0</td>\n",
       "      <td>81.0</td>\n",
       "      <td>57.0</td>\n",
       "      <td>73.0</td>\n",
       "      <td>58.0</td>\n",
       "      <td>70.0</td>\n",
       "      <td>NaN</td>\n",
       "      <td>NaN</td>\n",
       "      <td>NaN</td>\n",
       "      <td>NaN</td>\n",
       "      <td>4.0</td>\n",
       "      <td>44.0</td>\n",
       "      <td>28.0</td>\n",
       "      <td>27.0</td>\n",
       "      <td>25.0</td>\n",
       "      <td>27.0</td>\n",
       "      <td>23.0</td>\n",
       "      <td>19.0</td>\n",
       "      <td>NaN</td>\n",
       "      <td>NaN</td>\n",
       "      <td>NaN</td>\n",
       "      <td>NaN</td>\n",
       "      <td>3072.0</td>\n",
       "      <td>23552.0</td>\n",
       "      <td>14336.0</td>\n",
       "      <td>14336.0</td>\n",
       "      <td>15360.0</td>\n",
       "      <td>15360.0</td>\n",
       "      <td>15360.0</td>\n",
       "      <td>10240.0</td>\n",
       "      <td>NaN</td>\n",
       "      <td>NaN</td>\n",
       "      <td>NaN</td>\n",
       "      <td>NaN</td>\n",
       "      <td>1950.0</td>\n",
       "      <td>1950.0</td>\n",
       "      <td>1950.0</td>\n",
       "      <td>1950.0</td>\n",
       "      <td>1950.0</td>\n",
       "      <td>1950.0</td>\n",
       "      <td>1950.0</td>\n",
       "      <td>1950.0</td>\n",
       "    </tr>\n",
       "    <tr>\n",
       "      <td>1</td>\n",
       "      <td>1001</td>\n",
       "      <td>41</td>\n",
       "      <td>NaT</td>\n",
       "      <td>Москва</td>\n",
       "      <td>Иван</td>\n",
       "      <td>Ежов</td>\n",
       "      <td>2018-11-01</td>\n",
       "      <td>smart</td>\n",
       "      <td>NaN</td>\n",
       "      <td>NaN</td>\n",
       "      <td>NaN</td>\n",
       "      <td>NaN</td>\n",
       "      <td>NaN</td>\n",
       "      <td>NaN</td>\n",
       "      <td>NaN</td>\n",
       "      <td>NaN</td>\n",
       "      <td>NaN</td>\n",
       "      <td>NaN</td>\n",
       "      <td>59.0</td>\n",
       "      <td>63.0</td>\n",
       "      <td>NaN</td>\n",
       "      <td>NaN</td>\n",
       "      <td>NaN</td>\n",
       "      <td>NaN</td>\n",
       "      <td>NaN</td>\n",
       "      <td>NaN</td>\n",
       "      <td>NaN</td>\n",
       "      <td>NaN</td>\n",
       "      <td>NaN</td>\n",
       "      <td>NaN</td>\n",
       "      <td>430.0</td>\n",
       "      <td>414.0</td>\n",
       "      <td>NaN</td>\n",
       "      <td>NaN</td>\n",
       "      <td>NaN</td>\n",
       "      <td>NaN</td>\n",
       "      <td>NaN</td>\n",
       "      <td>NaN</td>\n",
       "      <td>NaN</td>\n",
       "      <td>NaN</td>\n",
       "      <td>NaN</td>\n",
       "      <td>NaN</td>\n",
       "      <td>NaN</td>\n",
       "      <td>NaN</td>\n",
       "      <td>NaN</td>\n",
       "      <td>NaN</td>\n",
       "      <td>NaN</td>\n",
       "      <td>NaN</td>\n",
       "      <td>NaN</td>\n",
       "      <td>NaN</td>\n",
       "      <td>NaN</td>\n",
       "      <td>NaN</td>\n",
       "      <td>NaN</td>\n",
       "      <td>NaN</td>\n",
       "      <td>47.0</td>\n",
       "      <td>35.0</td>\n",
       "      <td>NaN</td>\n",
       "      <td>NaN</td>\n",
       "      <td>NaN</td>\n",
       "      <td>NaN</td>\n",
       "      <td>NaN</td>\n",
       "      <td>NaN</td>\n",
       "      <td>NaN</td>\n",
       "      <td>NaN</td>\n",
       "      <td>NaN</td>\n",
       "      <td>NaN</td>\n",
       "      <td>18432.0</td>\n",
       "      <td>14336.0</td>\n",
       "      <td>NaN</td>\n",
       "      <td>NaN</td>\n",
       "      <td>NaN</td>\n",
       "      <td>NaN</td>\n",
       "      <td>NaN</td>\n",
       "      <td>NaN</td>\n",
       "      <td>NaN</td>\n",
       "      <td>NaN</td>\n",
       "      <td>NaN</td>\n",
       "      <td>NaN</td>\n",
       "      <td>1150.0</td>\n",
       "      <td>550.0</td>\n",
       "    </tr>\n",
       "    <tr>\n",
       "      <td>2</td>\n",
       "      <td>1002</td>\n",
       "      <td>59</td>\n",
       "      <td>NaT</td>\n",
       "      <td>Стерлитамак</td>\n",
       "      <td>Евгений</td>\n",
       "      <td>Абрамович</td>\n",
       "      <td>2018-06-17</td>\n",
       "      <td>smart</td>\n",
       "      <td>NaN</td>\n",
       "      <td>NaN</td>\n",
       "      <td>NaN</td>\n",
       "      <td>NaN</td>\n",
       "      <td>NaN</td>\n",
       "      <td>15.0</td>\n",
       "      <td>26.0</td>\n",
       "      <td>42.0</td>\n",
       "      <td>36.0</td>\n",
       "      <td>33.0</td>\n",
       "      <td>32.0</td>\n",
       "      <td>33.0</td>\n",
       "      <td>NaN</td>\n",
       "      <td>NaN</td>\n",
       "      <td>NaN</td>\n",
       "      <td>NaN</td>\n",
       "      <td>NaN</td>\n",
       "      <td>117.0</td>\n",
       "      <td>214.0</td>\n",
       "      <td>289.0</td>\n",
       "      <td>206.0</td>\n",
       "      <td>212.0</td>\n",
       "      <td>243.0</td>\n",
       "      <td>236.0</td>\n",
       "      <td>NaN</td>\n",
       "      <td>NaN</td>\n",
       "      <td>NaN</td>\n",
       "      <td>NaN</td>\n",
       "      <td>NaN</td>\n",
       "      <td>4.0</td>\n",
       "      <td>11.0</td>\n",
       "      <td>13.0</td>\n",
       "      <td>4.0</td>\n",
       "      <td>10.0</td>\n",
       "      <td>16.0</td>\n",
       "      <td>12.0</td>\n",
       "      <td>NaN</td>\n",
       "      <td>NaN</td>\n",
       "      <td>NaN</td>\n",
       "      <td>NaN</td>\n",
       "      <td>NaN</td>\n",
       "      <td>27.0</td>\n",
       "      <td>44.0</td>\n",
       "      <td>50.0</td>\n",
       "      <td>44.0</td>\n",
       "      <td>36.0</td>\n",
       "      <td>44.0</td>\n",
       "      <td>52.0</td>\n",
       "      <td>NaN</td>\n",
       "      <td>NaN</td>\n",
       "      <td>NaN</td>\n",
       "      <td>NaN</td>\n",
       "      <td>NaN</td>\n",
       "      <td>11264.0</td>\n",
       "      <td>18432.0</td>\n",
       "      <td>20480.0</td>\n",
       "      <td>17408.0</td>\n",
       "      <td>14336.0</td>\n",
       "      <td>19456.0</td>\n",
       "      <td>18432.0</td>\n",
       "      <td>NaN</td>\n",
       "      <td>NaN</td>\n",
       "      <td>NaN</td>\n",
       "      <td>NaN</td>\n",
       "      <td>NaN</td>\n",
       "      <td>550.0</td>\n",
       "      <td>1150.0</td>\n",
       "      <td>1550.0</td>\n",
       "      <td>950.0</td>\n",
       "      <td>550.0</td>\n",
       "      <td>1350.0</td>\n",
       "      <td>1150.0</td>\n",
       "    </tr>\n",
       "    <tr>\n",
       "      <td>3</td>\n",
       "      <td>1003</td>\n",
       "      <td>23</td>\n",
       "      <td>NaT</td>\n",
       "      <td>Москва</td>\n",
       "      <td>Белла</td>\n",
       "      <td>Белякова</td>\n",
       "      <td>2018-08-17</td>\n",
       "      <td>ultra</td>\n",
       "      <td>NaN</td>\n",
       "      <td>NaN</td>\n",
       "      <td>NaN</td>\n",
       "      <td>NaN</td>\n",
       "      <td>NaN</td>\n",
       "      <td>NaN</td>\n",
       "      <td>NaN</td>\n",
       "      <td>55.0</td>\n",
       "      <td>134.0</td>\n",
       "      <td>108.0</td>\n",
       "      <td>115.0</td>\n",
       "      <td>108.0</td>\n",
       "      <td>NaN</td>\n",
       "      <td>NaN</td>\n",
       "      <td>NaN</td>\n",
       "      <td>NaN</td>\n",
       "      <td>NaN</td>\n",
       "      <td>NaN</td>\n",
       "      <td>NaN</td>\n",
       "      <td>380.0</td>\n",
       "      <td>961.0</td>\n",
       "      <td>855.0</td>\n",
       "      <td>824.0</td>\n",
       "      <td>802.0</td>\n",
       "      <td>NaN</td>\n",
       "      <td>NaN</td>\n",
       "      <td>NaN</td>\n",
       "      <td>NaN</td>\n",
       "      <td>NaN</td>\n",
       "      <td>NaN</td>\n",
       "      <td>NaN</td>\n",
       "      <td>37.0</td>\n",
       "      <td>91.0</td>\n",
       "      <td>83.0</td>\n",
       "      <td>94.0</td>\n",
       "      <td>75.0</td>\n",
       "      <td>NaN</td>\n",
       "      <td>NaN</td>\n",
       "      <td>NaN</td>\n",
       "      <td>NaN</td>\n",
       "      <td>NaN</td>\n",
       "      <td>NaN</td>\n",
       "      <td>NaN</td>\n",
       "      <td>14.0</td>\n",
       "      <td>22.0</td>\n",
       "      <td>25.0</td>\n",
       "      <td>20.0</td>\n",
       "      <td>21.0</td>\n",
       "      <td>NaN</td>\n",
       "      <td>NaN</td>\n",
       "      <td>NaN</td>\n",
       "      <td>NaN</td>\n",
       "      <td>NaN</td>\n",
       "      <td>NaN</td>\n",
       "      <td>NaN</td>\n",
       "      <td>9216.0</td>\n",
       "      <td>13312.0</td>\n",
       "      <td>15360.0</td>\n",
       "      <td>12288.0</td>\n",
       "      <td>10240.0</td>\n",
       "      <td>NaN</td>\n",
       "      <td>NaN</td>\n",
       "      <td>NaN</td>\n",
       "      <td>NaN</td>\n",
       "      <td>NaN</td>\n",
       "      <td>NaN</td>\n",
       "      <td>NaN</td>\n",
       "      <td>1950.0</td>\n",
       "      <td>1950.0</td>\n",
       "      <td>1950.0</td>\n",
       "      <td>1950.0</td>\n",
       "      <td>1950.0</td>\n",
       "    </tr>\n",
       "    <tr>\n",
       "      <td>4</td>\n",
       "      <td>1004</td>\n",
       "      <td>68</td>\n",
       "      <td>NaT</td>\n",
       "      <td>Новокузнецк</td>\n",
       "      <td>Татьяна</td>\n",
       "      <td>Авдеенко</td>\n",
       "      <td>2018-05-14</td>\n",
       "      <td>ultra</td>\n",
       "      <td>NaN</td>\n",
       "      <td>NaN</td>\n",
       "      <td>NaN</td>\n",
       "      <td>NaN</td>\n",
       "      <td>9.0</td>\n",
       "      <td>31.0</td>\n",
       "      <td>22.0</td>\n",
       "      <td>19.0</td>\n",
       "      <td>26.0</td>\n",
       "      <td>29.0</td>\n",
       "      <td>19.0</td>\n",
       "      <td>21.0</td>\n",
       "      <td>NaN</td>\n",
       "      <td>NaN</td>\n",
       "      <td>NaN</td>\n",
       "      <td>NaN</td>\n",
       "      <td>35.0</td>\n",
       "      <td>171.0</td>\n",
       "      <td>135.0</td>\n",
       "      <td>137.0</td>\n",
       "      <td>117.0</td>\n",
       "      <td>145.0</td>\n",
       "      <td>117.0</td>\n",
       "      <td>130.0</td>\n",
       "      <td>NaN</td>\n",
       "      <td>NaN</td>\n",
       "      <td>NaN</td>\n",
       "      <td>NaN</td>\n",
       "      <td>95.0</td>\n",
       "      <td>134.0</td>\n",
       "      <td>181.0</td>\n",
       "      <td>151.0</td>\n",
       "      <td>146.0</td>\n",
       "      <td>165.0</td>\n",
       "      <td>158.0</td>\n",
       "      <td>162.0</td>\n",
       "      <td>NaN</td>\n",
       "      <td>NaN</td>\n",
       "      <td>NaN</td>\n",
       "      <td>NaN</td>\n",
       "      <td>24.0</td>\n",
       "      <td>33.0</td>\n",
       "      <td>32.0</td>\n",
       "      <td>50.0</td>\n",
       "      <td>32.0</td>\n",
       "      <td>37.0</td>\n",
       "      <td>33.0</td>\n",
       "      <td>37.0</td>\n",
       "      <td>NaN</td>\n",
       "      <td>NaN</td>\n",
       "      <td>NaN</td>\n",
       "      <td>NaN</td>\n",
       "      <td>14336.0</td>\n",
       "      <td>18432.0</td>\n",
       "      <td>22528.0</td>\n",
       "      <td>28672.0</td>\n",
       "      <td>15360.0</td>\n",
       "      <td>19456.0</td>\n",
       "      <td>16384.0</td>\n",
       "      <td>18432.0</td>\n",
       "      <td>NaN</td>\n",
       "      <td>NaN</td>\n",
       "      <td>NaN</td>\n",
       "      <td>NaN</td>\n",
       "      <td>1950.0</td>\n",
       "      <td>1950.0</td>\n",
       "      <td>1950.0</td>\n",
       "      <td>1950.0</td>\n",
       "      <td>1950.0</td>\n",
       "      <td>1950.0</td>\n",
       "      <td>1950.0</td>\n",
       "      <td>1950.0</td>\n",
       "    </tr>\n",
       "    <tr>\n",
       "      <td>5</td>\n",
       "      <td>1005</td>\n",
       "      <td>67</td>\n",
       "      <td>NaT</td>\n",
       "      <td>Набережные Челны</td>\n",
       "      <td>Афанасий</td>\n",
       "      <td>Горлов</td>\n",
       "      <td>2018-01-25</td>\n",
       "      <td>smart</td>\n",
       "      <td>15.0</td>\n",
       "      <td>69.0</td>\n",
       "      <td>77.0</td>\n",
       "      <td>101.0</td>\n",
       "      <td>73.0</td>\n",
       "      <td>80.0</td>\n",
       "      <td>77.0</td>\n",
       "      <td>71.0</td>\n",
       "      <td>66.0</td>\n",
       "      <td>100.0</td>\n",
       "      <td>75.0</td>\n",
       "      <td>84.0</td>\n",
       "      <td>95.0</td>\n",
       "      <td>456.0</td>\n",
       "      <td>606.0</td>\n",
       "      <td>712.0</td>\n",
       "      <td>595.0</td>\n",
       "      <td>612.0</td>\n",
       "      <td>569.0</td>\n",
       "      <td>619.0</td>\n",
       "      <td>479.0</td>\n",
       "      <td>723.0</td>\n",
       "      <td>547.0</td>\n",
       "      <td>592.0</td>\n",
       "      <td>7.0</td>\n",
       "      <td>38.0</td>\n",
       "      <td>56.0</td>\n",
       "      <td>41.0</td>\n",
       "      <td>42.0</td>\n",
       "      <td>47.0</td>\n",
       "      <td>56.0</td>\n",
       "      <td>64.0</td>\n",
       "      <td>52.0</td>\n",
       "      <td>44.0</td>\n",
       "      <td>51.0</td>\n",
       "      <td>54.0</td>\n",
       "      <td>6.0</td>\n",
       "      <td>22.0</td>\n",
       "      <td>25.0</td>\n",
       "      <td>24.0</td>\n",
       "      <td>20.0</td>\n",
       "      <td>24.0</td>\n",
       "      <td>19.0</td>\n",
       "      <td>19.0</td>\n",
       "      <td>21.0</td>\n",
       "      <td>19.0</td>\n",
       "      <td>28.0</td>\n",
       "      <td>24.0</td>\n",
       "      <td>3072.0</td>\n",
       "      <td>8192.0</td>\n",
       "      <td>11264.0</td>\n",
       "      <td>10240.0</td>\n",
       "      <td>8192.0</td>\n",
       "      <td>10240.0</td>\n",
       "      <td>8192.0</td>\n",
       "      <td>8192.0</td>\n",
       "      <td>7168.0</td>\n",
       "      <td>8192.0</td>\n",
       "      <td>13312.0</td>\n",
       "      <td>9216.0</td>\n",
       "      <td>550.0</td>\n",
       "      <td>550.0</td>\n",
       "      <td>886.0</td>\n",
       "      <td>1186.0</td>\n",
       "      <td>835.0</td>\n",
       "      <td>886.0</td>\n",
       "      <td>775.0</td>\n",
       "      <td>949.0</td>\n",
       "      <td>556.0</td>\n",
       "      <td>1219.0</td>\n",
       "      <td>694.0</td>\n",
       "      <td>838.0</td>\n",
       "    </tr>\n",
       "    <tr>\n",
       "      <td>6</td>\n",
       "      <td>1006</td>\n",
       "      <td>21</td>\n",
       "      <td>NaT</td>\n",
       "      <td>Ульяновск</td>\n",
       "      <td>Леонид</td>\n",
       "      <td>Ермолаев</td>\n",
       "      <td>2018-02-26</td>\n",
       "      <td>smart</td>\n",
       "      <td>NaN</td>\n",
       "      <td>3.0</td>\n",
       "      <td>46.0</td>\n",
       "      <td>47.0</td>\n",
       "      <td>56.0</td>\n",
       "      <td>53.0</td>\n",
       "      <td>49.0</td>\n",
       "      <td>42.0</td>\n",
       "      <td>54.0</td>\n",
       "      <td>44.0</td>\n",
       "      <td>62.0</td>\n",
       "      <td>50.0</td>\n",
       "      <td>NaN</td>\n",
       "      <td>42.0</td>\n",
       "      <td>286.0</td>\n",
       "      <td>356.0</td>\n",
       "      <td>370.0</td>\n",
       "      <td>478.0</td>\n",
       "      <td>316.0</td>\n",
       "      <td>275.0</td>\n",
       "      <td>360.0</td>\n",
       "      <td>267.0</td>\n",
       "      <td>372.0</td>\n",
       "      <td>379.0</td>\n",
       "      <td>NaN</td>\n",
       "      <td>NaN</td>\n",
       "      <td>NaN</td>\n",
       "      <td>NaN</td>\n",
       "      <td>NaN</td>\n",
       "      <td>NaN</td>\n",
       "      <td>NaN</td>\n",
       "      <td>NaN</td>\n",
       "      <td>NaN</td>\n",
       "      <td>NaN</td>\n",
       "      <td>NaN</td>\n",
       "      <td>NaN</td>\n",
       "      <td>NaN</td>\n",
       "      <td>4.0</td>\n",
       "      <td>43.0</td>\n",
       "      <td>33.0</td>\n",
       "      <td>38.0</td>\n",
       "      <td>34.0</td>\n",
       "      <td>50.0</td>\n",
       "      <td>45.0</td>\n",
       "      <td>39.0</td>\n",
       "      <td>48.0</td>\n",
       "      <td>28.0</td>\n",
       "      <td>45.0</td>\n",
       "      <td>NaN</td>\n",
       "      <td>2048.0</td>\n",
       "      <td>17408.0</td>\n",
       "      <td>14336.0</td>\n",
       "      <td>13312.0</td>\n",
       "      <td>13312.0</td>\n",
       "      <td>20480.0</td>\n",
       "      <td>19456.0</td>\n",
       "      <td>16384.0</td>\n",
       "      <td>20480.0</td>\n",
       "      <td>13312.0</td>\n",
       "      <td>19456.0</td>\n",
       "      <td>NaN</td>\n",
       "      <td>550.0</td>\n",
       "      <td>950.0</td>\n",
       "      <td>550.0</td>\n",
       "      <td>550.0</td>\n",
       "      <td>550.0</td>\n",
       "      <td>1550.0</td>\n",
       "      <td>1350.0</td>\n",
       "      <td>750.0</td>\n",
       "      <td>1550.0</td>\n",
       "      <td>550.0</td>\n",
       "      <td>1350.0</td>\n",
       "    </tr>\n",
       "    <tr>\n",
       "      <td>7</td>\n",
       "      <td>1007</td>\n",
       "      <td>65</td>\n",
       "      <td>NaT</td>\n",
       "      <td>Москва</td>\n",
       "      <td>Юна</td>\n",
       "      <td>Березина</td>\n",
       "      <td>2018-04-19</td>\n",
       "      <td>smart</td>\n",
       "      <td>NaN</td>\n",
       "      <td>NaN</td>\n",
       "      <td>NaN</td>\n",
       "      <td>25.0</td>\n",
       "      <td>67.0</td>\n",
       "      <td>68.0</td>\n",
       "      <td>69.0</td>\n",
       "      <td>74.0</td>\n",
       "      <td>87.0</td>\n",
       "      <td>69.0</td>\n",
       "      <td>81.0</td>\n",
       "      <td>72.0</td>\n",
       "      <td>NaN</td>\n",
       "      <td>NaN</td>\n",
       "      <td>NaN</td>\n",
       "      <td>198.0</td>\n",
       "      <td>480.0</td>\n",
       "      <td>545.0</td>\n",
       "      <td>577.0</td>\n",
       "      <td>458.0</td>\n",
       "      <td>655.0</td>\n",
       "      <td>465.0</td>\n",
       "      <td>580.0</td>\n",
       "      <td>421.0</td>\n",
       "      <td>NaN</td>\n",
       "      <td>NaN</td>\n",
       "      <td>NaN</td>\n",
       "      <td>11.0</td>\n",
       "      <td>39.0</td>\n",
       "      <td>26.0</td>\n",
       "      <td>26.0</td>\n",
       "      <td>27.0</td>\n",
       "      <td>31.0</td>\n",
       "      <td>18.0</td>\n",
       "      <td>21.0</td>\n",
       "      <td>26.0</td>\n",
       "      <td>NaN</td>\n",
       "      <td>NaN</td>\n",
       "      <td>NaN</td>\n",
       "      <td>18.0</td>\n",
       "      <td>47.0</td>\n",
       "      <td>37.0</td>\n",
       "      <td>49.0</td>\n",
       "      <td>51.0</td>\n",
       "      <td>35.0</td>\n",
       "      <td>39.0</td>\n",
       "      <td>40.0</td>\n",
       "      <td>38.0</td>\n",
       "      <td>NaN</td>\n",
       "      <td>NaN</td>\n",
       "      <td>NaN</td>\n",
       "      <td>8192.0</td>\n",
       "      <td>18432.0</td>\n",
       "      <td>14336.0</td>\n",
       "      <td>16384.0</td>\n",
       "      <td>21504.0</td>\n",
       "      <td>13312.0</td>\n",
       "      <td>15360.0</td>\n",
       "      <td>16384.0</td>\n",
       "      <td>13312.0</td>\n",
       "      <td>NaN</td>\n",
       "      <td>NaN</td>\n",
       "      <td>NaN</td>\n",
       "      <td>550.0</td>\n",
       "      <td>1150.0</td>\n",
       "      <td>685.0</td>\n",
       "      <td>981.0</td>\n",
       "      <td>1750.0</td>\n",
       "      <td>1015.0</td>\n",
       "      <td>550.0</td>\n",
       "      <td>990.0</td>\n",
       "      <td>550.0</td>\n",
       "    </tr>\n",
       "    <tr>\n",
       "      <td>8</td>\n",
       "      <td>1008</td>\n",
       "      <td>63</td>\n",
       "      <td>NaT</td>\n",
       "      <td>Челябинск</td>\n",
       "      <td>Рустэм</td>\n",
       "      <td>Пономарёв</td>\n",
       "      <td>2018-12-19</td>\n",
       "      <td>smart</td>\n",
       "      <td>NaN</td>\n",
       "      <td>NaN</td>\n",
       "      <td>NaN</td>\n",
       "      <td>NaN</td>\n",
       "      <td>NaN</td>\n",
       "      <td>NaN</td>\n",
       "      <td>NaN</td>\n",
       "      <td>NaN</td>\n",
       "      <td>NaN</td>\n",
       "      <td>NaN</td>\n",
       "      <td>NaN</td>\n",
       "      <td>52.0</td>\n",
       "      <td>NaN</td>\n",
       "      <td>NaN</td>\n",
       "      <td>NaN</td>\n",
       "      <td>NaN</td>\n",
       "      <td>NaN</td>\n",
       "      <td>NaN</td>\n",
       "      <td>NaN</td>\n",
       "      <td>NaN</td>\n",
       "      <td>NaN</td>\n",
       "      <td>NaN</td>\n",
       "      <td>NaN</td>\n",
       "      <td>339.0</td>\n",
       "      <td>NaN</td>\n",
       "      <td>NaN</td>\n",
       "      <td>NaN</td>\n",
       "      <td>NaN</td>\n",
       "      <td>NaN</td>\n",
       "      <td>NaN</td>\n",
       "      <td>NaN</td>\n",
       "      <td>NaN</td>\n",
       "      <td>NaN</td>\n",
       "      <td>NaN</td>\n",
       "      <td>NaN</td>\n",
       "      <td>56.0</td>\n",
       "      <td>NaN</td>\n",
       "      <td>NaN</td>\n",
       "      <td>NaN</td>\n",
       "      <td>NaN</td>\n",
       "      <td>NaN</td>\n",
       "      <td>NaN</td>\n",
       "      <td>NaN</td>\n",
       "      <td>NaN</td>\n",
       "      <td>NaN</td>\n",
       "      <td>NaN</td>\n",
       "      <td>NaN</td>\n",
       "      <td>37.0</td>\n",
       "      <td>NaN</td>\n",
       "      <td>NaN</td>\n",
       "      <td>NaN</td>\n",
       "      <td>NaN</td>\n",
       "      <td>NaN</td>\n",
       "      <td>NaN</td>\n",
       "      <td>NaN</td>\n",
       "      <td>NaN</td>\n",
       "      <td>NaN</td>\n",
       "      <td>NaN</td>\n",
       "      <td>NaN</td>\n",
       "      <td>13312.0</td>\n",
       "      <td>NaN</td>\n",
       "      <td>NaN</td>\n",
       "      <td>NaN</td>\n",
       "      <td>NaN</td>\n",
       "      <td>NaN</td>\n",
       "      <td>NaN</td>\n",
       "      <td>NaN</td>\n",
       "      <td>NaN</td>\n",
       "      <td>NaN</td>\n",
       "      <td>NaN</td>\n",
       "      <td>NaN</td>\n",
       "      <td>568.0</td>\n",
       "    </tr>\n",
       "    <tr>\n",
       "      <td>9</td>\n",
       "      <td>1009</td>\n",
       "      <td>24</td>\n",
       "      <td>NaT</td>\n",
       "      <td>Пермь</td>\n",
       "      <td>Василиса</td>\n",
       "      <td>Блинова</td>\n",
       "      <td>2018-03-22</td>\n",
       "      <td>smart</td>\n",
       "      <td>NaN</td>\n",
       "      <td>NaN</td>\n",
       "      <td>13.0</td>\n",
       "      <td>39.0</td>\n",
       "      <td>28.0</td>\n",
       "      <td>31.0</td>\n",
       "      <td>22.0</td>\n",
       "      <td>33.0</td>\n",
       "      <td>25.0</td>\n",
       "      <td>28.0</td>\n",
       "      <td>39.0</td>\n",
       "      <td>32.0</td>\n",
       "      <td>NaN</td>\n",
       "      <td>NaN</td>\n",
       "      <td>109.0</td>\n",
       "      <td>324.0</td>\n",
       "      <td>170.0</td>\n",
       "      <td>289.0</td>\n",
       "      <td>183.0</td>\n",
       "      <td>249.0</td>\n",
       "      <td>133.0</td>\n",
       "      <td>213.0</td>\n",
       "      <td>290.0</td>\n",
       "      <td>229.0</td>\n",
       "      <td>NaN</td>\n",
       "      <td>NaN</td>\n",
       "      <td>2.0</td>\n",
       "      <td>14.0</td>\n",
       "      <td>7.0</td>\n",
       "      <td>14.0</td>\n",
       "      <td>14.0</td>\n",
       "      <td>9.0</td>\n",
       "      <td>12.0</td>\n",
       "      <td>15.0</td>\n",
       "      <td>11.0</td>\n",
       "      <td>12.0</td>\n",
       "      <td>NaN</td>\n",
       "      <td>NaN</td>\n",
       "      <td>20.0</td>\n",
       "      <td>39.0</td>\n",
       "      <td>37.0</td>\n",
       "      <td>40.0</td>\n",
       "      <td>59.0</td>\n",
       "      <td>56.0</td>\n",
       "      <td>48.0</td>\n",
       "      <td>53.0</td>\n",
       "      <td>41.0</td>\n",
       "      <td>49.0</td>\n",
       "      <td>NaN</td>\n",
       "      <td>NaN</td>\n",
       "      <td>8192.0</td>\n",
       "      <td>15360.0</td>\n",
       "      <td>14336.0</td>\n",
       "      <td>16384.0</td>\n",
       "      <td>25600.0</td>\n",
       "      <td>24576.0</td>\n",
       "      <td>22528.0</td>\n",
       "      <td>20480.0</td>\n",
       "      <td>17408.0</td>\n",
       "      <td>19456.0</td>\n",
       "      <td>NaN</td>\n",
       "      <td>NaN</td>\n",
       "      <td>550.0</td>\n",
       "      <td>550.0</td>\n",
       "      <td>550.0</td>\n",
       "      <td>750.0</td>\n",
       "      <td>2550.0</td>\n",
       "      <td>2350.0</td>\n",
       "      <td>1950.0</td>\n",
       "      <td>1550.0</td>\n",
       "      <td>950.0</td>\n",
       "      <td>1350.0</td>\n",
       "    </tr>\n",
       "  </tbody>\n",
       "</table>\n",
       "</div>"
      ],
      "text/plain": [
       "   user_id  age churn_date              city first_name  last_name   reg_date  \\\n",
       "0     1000   52        NaT         Краснодар     Рафаил  Верещагин 2018-05-25   \n",
       "1     1001   41        NaT            Москва       Иван       Ежов 2018-11-01   \n",
       "2     1002   59        NaT       Стерлитамак    Евгений  Абрамович 2018-06-17   \n",
       "3     1003   23        NaT            Москва      Белла   Белякова 2018-08-17   \n",
       "4     1004   68        NaT       Новокузнецк    Татьяна   Авдеенко 2018-05-14   \n",
       "5     1005   67        NaT  Набережные Челны   Афанасий     Горлов 2018-01-25   \n",
       "6     1006   21        NaT         Ульяновск     Леонид   Ермолаев 2018-02-26   \n",
       "7     1007   65        NaT            Москва        Юна   Березина 2018-04-19   \n",
       "8     1008   63        NaT         Челябинск     Рустэм  Пономарёв 2018-12-19   \n",
       "9     1009   24        NaT             Пермь   Василиса    Блинова 2018-03-22   \n",
       "\n",
       "  tariff  calls_1  calls_2  calls_3  calls_4  calls_5  calls_6  calls_7  \\\n",
       "0  ultra      NaN      NaN      NaN      NaN     22.0     43.0     47.0   \n",
       "1  smart      NaN      NaN      NaN      NaN      NaN      NaN      NaN   \n",
       "2  smart      NaN      NaN      NaN      NaN      NaN     15.0     26.0   \n",
       "3  ultra      NaN      NaN      NaN      NaN      NaN      NaN      NaN   \n",
       "4  ultra      NaN      NaN      NaN      NaN      9.0     31.0     22.0   \n",
       "5  smart     15.0     69.0     77.0    101.0     73.0     80.0     77.0   \n",
       "6  smart      NaN      3.0     46.0     47.0     56.0     53.0     49.0   \n",
       "7  smart      NaN      NaN      NaN     25.0     67.0     68.0     69.0   \n",
       "8  smart      NaN      NaN      NaN      NaN      NaN      NaN      NaN   \n",
       "9  smart      NaN      NaN     13.0     39.0     28.0     31.0     22.0   \n",
       "\n",
       "   calls_8  calls_9  calls_10  calls_11  calls_12  calls_duration_1  \\\n",
       "0     52.0     58.0      57.0      43.0      46.0               NaN   \n",
       "1      NaN      NaN       NaN      59.0      63.0               NaN   \n",
       "2     42.0     36.0      33.0      32.0      33.0               NaN   \n",
       "3     55.0    134.0     108.0     115.0     108.0               NaN   \n",
       "4     19.0     26.0      29.0      19.0      21.0               NaN   \n",
       "5     71.0     66.0     100.0      75.0      84.0              95.0   \n",
       "6     42.0     54.0      44.0      62.0      50.0               NaN   \n",
       "7     74.0     87.0      69.0      81.0      72.0               NaN   \n",
       "8      NaN      NaN       NaN       NaN      52.0               NaN   \n",
       "9     33.0     25.0      28.0      39.0      32.0               NaN   \n",
       "\n",
       "   calls_duration_2  calls_duration_3  calls_duration_4  calls_duration_5  \\\n",
       "0               NaN               NaN               NaN             159.0   \n",
       "1               NaN               NaN               NaN               NaN   \n",
       "2               NaN               NaN               NaN               NaN   \n",
       "3               NaN               NaN               NaN               NaN   \n",
       "4               NaN               NaN               NaN              35.0   \n",
       "5             456.0             606.0             712.0             595.0   \n",
       "6              42.0             286.0             356.0             370.0   \n",
       "7               NaN               NaN             198.0             480.0   \n",
       "8               NaN               NaN               NaN               NaN   \n",
       "9               NaN             109.0             324.0             170.0   \n",
       "\n",
       "   calls_duration_6  calls_duration_7  calls_duration_8  calls_duration_9  \\\n",
       "0             172.0             340.0             408.0             466.0   \n",
       "1               NaN               NaN               NaN               NaN   \n",
       "2             117.0             214.0             289.0             206.0   \n",
       "3               NaN               NaN             380.0             961.0   \n",
       "4             171.0             135.0             137.0             117.0   \n",
       "5             612.0             569.0             619.0             479.0   \n",
       "6             478.0             316.0             275.0             360.0   \n",
       "7             545.0             577.0             458.0             655.0   \n",
       "8               NaN               NaN               NaN               NaN   \n",
       "9             289.0             183.0             249.0             133.0   \n",
       "\n",
       "   calls_duration_10  calls_duration_11  calls_duration_12  messages_1  \\\n",
       "0              350.0              338.0              333.0         NaN   \n",
       "1                NaN              430.0              414.0         NaN   \n",
       "2              212.0              243.0              236.0         NaN   \n",
       "3              855.0              824.0              802.0         NaN   \n",
       "4              145.0              117.0              130.0         NaN   \n",
       "5              723.0              547.0              592.0         7.0   \n",
       "6              267.0              372.0              379.0         NaN   \n",
       "7              465.0              580.0              421.0         NaN   \n",
       "8                NaN                NaN              339.0         NaN   \n",
       "9              213.0              290.0              229.0         NaN   \n",
       "\n",
       "   messages_2  messages_3  messages_4  messages_5  messages_6  messages_7  \\\n",
       "0         NaN         NaN         NaN        22.0        60.0        75.0   \n",
       "1         NaN         NaN         NaN         NaN         NaN         NaN   \n",
       "2         NaN         NaN         NaN         NaN         4.0        11.0   \n",
       "3         NaN         NaN         NaN         NaN         NaN         NaN   \n",
       "4         NaN         NaN         NaN        95.0       134.0       181.0   \n",
       "5        38.0        56.0        41.0        42.0        47.0        56.0   \n",
       "6         NaN         NaN         NaN         NaN         NaN         NaN   \n",
       "7         NaN         NaN        11.0        39.0        26.0        26.0   \n",
       "8         NaN         NaN         NaN         NaN         NaN         NaN   \n",
       "9         NaN         2.0        14.0         7.0        14.0        14.0   \n",
       "\n",
       "   messages_8  messages_9  messages_10  messages_11  messages_12  sessions_1  \\\n",
       "0        81.0        57.0         73.0         58.0         70.0         NaN   \n",
       "1         NaN         NaN          NaN          NaN          NaN         NaN   \n",
       "2        13.0         4.0         10.0         16.0         12.0         NaN   \n",
       "3        37.0        91.0         83.0         94.0         75.0         NaN   \n",
       "4       151.0       146.0        165.0        158.0        162.0         NaN   \n",
       "5        64.0        52.0         44.0         51.0         54.0         6.0   \n",
       "6         NaN         NaN          NaN          NaN          NaN         NaN   \n",
       "7        27.0        31.0         18.0         21.0         26.0         NaN   \n",
       "8         NaN         NaN          NaN          NaN         56.0         NaN   \n",
       "9         9.0        12.0         15.0         11.0         12.0         NaN   \n",
       "\n",
       "   sessions_2  sessions_3  sessions_4  sessions_5  sessions_6  sessions_7  \\\n",
       "0         NaN         NaN         NaN         4.0        44.0        28.0   \n",
       "1         NaN         NaN         NaN         NaN         NaN         NaN   \n",
       "2         NaN         NaN         NaN         NaN        27.0        44.0   \n",
       "3         NaN         NaN         NaN         NaN         NaN         NaN   \n",
       "4         NaN         NaN         NaN        24.0        33.0        32.0   \n",
       "5        22.0        25.0        24.0        20.0        24.0        19.0   \n",
       "6         4.0        43.0        33.0        38.0        34.0        50.0   \n",
       "7         NaN         NaN        18.0        47.0        37.0        49.0   \n",
       "8         NaN         NaN         NaN         NaN         NaN         NaN   \n",
       "9         NaN        20.0        39.0        37.0        40.0        59.0   \n",
       "\n",
       "   sessions_8  sessions_9  sessions_10  sessions_11  sessions_12  mb_used_1  \\\n",
       "0        27.0        25.0         27.0         23.0         19.0        NaN   \n",
       "1         NaN         NaN          NaN         47.0         35.0        NaN   \n",
       "2        50.0        44.0         36.0         44.0         52.0        NaN   \n",
       "3        14.0        22.0         25.0         20.0         21.0        NaN   \n",
       "4        50.0        32.0         37.0         33.0         37.0        NaN   \n",
       "5        19.0        21.0         19.0         28.0         24.0     3072.0   \n",
       "6        45.0        39.0         48.0         28.0         45.0        NaN   \n",
       "7        51.0        35.0         39.0         40.0         38.0        NaN   \n",
       "8         NaN         NaN          NaN          NaN         37.0        NaN   \n",
       "9        56.0        48.0         53.0         41.0         49.0        NaN   \n",
       "\n",
       "   mb_used_2  mb_used_3  mb_used_4  mb_used_5  mb_used_6  mb_used_7  \\\n",
       "0        NaN        NaN        NaN     3072.0    23552.0    14336.0   \n",
       "1        NaN        NaN        NaN        NaN        NaN        NaN   \n",
       "2        NaN        NaN        NaN        NaN    11264.0    18432.0   \n",
       "3        NaN        NaN        NaN        NaN        NaN        NaN   \n",
       "4        NaN        NaN        NaN    14336.0    18432.0    22528.0   \n",
       "5     8192.0    11264.0    10240.0     8192.0    10240.0     8192.0   \n",
       "6     2048.0    17408.0    14336.0    13312.0    13312.0    20480.0   \n",
       "7        NaN        NaN     8192.0    18432.0    14336.0    16384.0   \n",
       "8        NaN        NaN        NaN        NaN        NaN        NaN   \n",
       "9        NaN     8192.0    15360.0    14336.0    16384.0    25600.0   \n",
       "\n",
       "   mb_used_8  mb_used_9  mb_used_10  mb_used_11  mb_used_12  payment_1  \\\n",
       "0    14336.0    15360.0     15360.0     15360.0     10240.0        NaN   \n",
       "1        NaN        NaN         NaN     18432.0     14336.0        NaN   \n",
       "2    20480.0    17408.0     14336.0     19456.0     18432.0        NaN   \n",
       "3     9216.0    13312.0     15360.0     12288.0     10240.0        NaN   \n",
       "4    28672.0    15360.0     19456.0     16384.0     18432.0        NaN   \n",
       "5     8192.0     7168.0      8192.0     13312.0      9216.0      550.0   \n",
       "6    19456.0    16384.0     20480.0     13312.0     19456.0        NaN   \n",
       "7    21504.0    13312.0     15360.0     16384.0     13312.0        NaN   \n",
       "8        NaN        NaN         NaN         NaN     13312.0        NaN   \n",
       "9    24576.0    22528.0     20480.0     17408.0     19456.0        NaN   \n",
       "\n",
       "   payment_2  payment_3  payment_4  payment_5  payment_6  payment_7  \\\n",
       "0        NaN        NaN        NaN     1950.0     1950.0     1950.0   \n",
       "1        NaN        NaN        NaN        NaN        NaN        NaN   \n",
       "2        NaN        NaN        NaN        NaN      550.0     1150.0   \n",
       "3        NaN        NaN        NaN        NaN        NaN        NaN   \n",
       "4        NaN        NaN        NaN     1950.0     1950.0     1950.0   \n",
       "5      550.0      886.0     1186.0      835.0      886.0      775.0   \n",
       "6      550.0      950.0      550.0      550.0      550.0     1550.0   \n",
       "7        NaN        NaN      550.0     1150.0      685.0      981.0   \n",
       "8        NaN        NaN        NaN        NaN        NaN        NaN   \n",
       "9        NaN      550.0      550.0      550.0      750.0     2550.0   \n",
       "\n",
       "   payment_8  payment_9  payment_10  payment_11  payment_12  \n",
       "0     1950.0     1950.0      1950.0      1950.0      1950.0  \n",
       "1        NaN        NaN         NaN      1150.0       550.0  \n",
       "2     1550.0      950.0       550.0      1350.0      1150.0  \n",
       "3     1950.0     1950.0      1950.0      1950.0      1950.0  \n",
       "4     1950.0     1950.0      1950.0      1950.0      1950.0  \n",
       "5      949.0      556.0      1219.0       694.0       838.0  \n",
       "6     1350.0      750.0      1550.0       550.0      1350.0  \n",
       "7     1750.0     1015.0       550.0       990.0       550.0  \n",
       "8        NaN        NaN         NaN         NaN       568.0  \n",
       "9     2350.0     1950.0      1550.0       950.0      1350.0  "
      ]
     },
     "execution_count": 67,
     "metadata": {},
     "output_type": "execute_result"
    }
   ],
   "source": [
    "df_users.head(10)"
   ]
  },
  {
   "cell_type": "markdown",
   "id": "1140b8fa",
   "metadata": {},
   "source": [
    "### Выводы\n",
    "\n",
    "Данные подготовлены к анализу: в датафрейм `df_users`  были добавлены помесячные данные об использованных услугах и уплаченных по тарифу суммах для каждого клиента."
   ]
  },
  {
   "cell_type": "markdown",
   "id": "1020847e",
   "metadata": {},
   "source": [
    "## Анализ данных\n",
    "\n",
    "Теперь изучим получившиеся данные в разрезе двух имеющихся тарифом. Для начала вычислим показатели использования звонков по тарифам:"
   ]
  },
  {
   "cell_type": "code",
   "execution_count": 68,
   "id": "c194a150",
   "metadata": {},
   "outputs": [
    {
     "data": {
      "text/html": [
       "<div>\n",
       "<style scoped>\n",
       "    .dataframe tbody tr th:only-of-type {\n",
       "        vertical-align: middle;\n",
       "    }\n",
       "\n",
       "    .dataframe tbody tr th {\n",
       "        vertical-align: top;\n",
       "    }\n",
       "\n",
       "    .dataframe thead tr th {\n",
       "        text-align: left;\n",
       "    }\n",
       "\n",
       "    .dataframe thead tr:last-of-type th {\n",
       "        text-align: right;\n",
       "    }\n",
       "</style>\n",
       "<table border=\"1\" class=\"dataframe\">\n",
       "  <thead>\n",
       "    <tr>\n",
       "      <th></th>\n",
       "      <th colspan=\"4\" halign=\"left\">calls</th>\n",
       "    </tr>\n",
       "    <tr>\n",
       "      <th></th>\n",
       "      <th>median</th>\n",
       "      <th>mean</th>\n",
       "      <th>std</th>\n",
       "      <th>var</th>\n",
       "    </tr>\n",
       "    <tr>\n",
       "      <th>tariff</th>\n",
       "      <th></th>\n",
       "      <th></th>\n",
       "      <th></th>\n",
       "      <th></th>\n",
       "    </tr>\n",
       "  </thead>\n",
       "  <tbody>\n",
       "    <tr>\n",
       "      <td>smart</td>\n",
       "      <td>60.0</td>\n",
       "      <td>58.62</td>\n",
       "      <td>25.8</td>\n",
       "      <td>665.44</td>\n",
       "    </tr>\n",
       "    <tr>\n",
       "      <td>ultra</td>\n",
       "      <td>75.0</td>\n",
       "      <td>76.02</td>\n",
       "      <td>42.4</td>\n",
       "      <td>1798.04</td>\n",
       "    </tr>\n",
       "  </tbody>\n",
       "</table>\n",
       "</div>"
      ],
      "text/plain": [
       "        calls                      \n",
       "       median   mean   std      var\n",
       "tariff                             \n",
       "smart    60.0  58.62  25.8   665.44\n",
       "ultra    75.0  76.02  42.4  1798.04"
      ]
     },
     "execution_count": 68,
     "metadata": {},
     "output_type": "execute_result"
    }
   ],
   "source": [
    "calls = pd.wide_to_long(df_users, [\"calls_\"], i=\"user_id\", j=\"month\")[\n",
    "    [\"tariff\", \"calls_\"]\n",
    "].rename(columns={\"calls_\": \"calls\"})\n",
    "\n",
    "calls.groupby(\"tariff\").agg([\"median\", \"mean\", \"std\", \"var\"])"
   ]
  },
  {
   "cell_type": "code",
   "execution_count": 69,
   "id": "9914c0b0",
   "metadata": {},
   "outputs": [
    {
     "data": {
      "image/png": "[encoded data removed]",
      "text/plain": [
       "<Figure size 864x576 with 1 Axes>"
      ]
     },
     "metadata": {},
     "output_type": "display_data"
    }
   ],
   "source": [
    "ax = sns.histplot(data=calls, x=\"calls\", hue=\"tariff\", stat=\"density\")\n",
    "ax.set_xlabel(\"Количество звонков\")\n",
    "ax.legend(ax.get_legend().legendHandles, [\"ультра\", \"смарт\"], title=\"Тариф\")\n",
    "ax.set_ylabel(\"Плотность распределения\");"
   ]
  },
  {
   "cell_type": "markdown",
   "id": "bd8ef390",
   "metadata": {},
   "source": [
    "Видно, что распределение количества звонков в тарифе \"Смарт\" более компактно и расположено в диапазоне 0-150 с ярко выраженным пиком в между 60 и 80 звонками. При это м в тарифе \"Ультра\" имеются в заметных колтчествах как пользователи, делающие небольшое количество звонков, так и звонящие очень часто. Вплоть до 250 вызовов в месяц."
   ]
  },
  {
   "cell_type": "markdown",
   "id": "3eac661b",
   "metadata": {},
   "source": [
    "И по продолжительности звонков:"
   ]
  },
  {
   "cell_type": "code",
   "execution_count": 70,
   "id": "5708592f",
   "metadata": {},
   "outputs": [
    {
     "data": {
      "text/html": [
       "<div>\n",
       "<style scoped>\n",
       "    .dataframe tbody tr th:only-of-type {\n",
       "        vertical-align: middle;\n",
       "    }\n",
       "\n",
       "    .dataframe tbody tr th {\n",
       "        vertical-align: top;\n",
       "    }\n",
       "\n",
       "    .dataframe thead tr th {\n",
       "        text-align: left;\n",
       "    }\n",
       "\n",
       "    .dataframe thead tr:last-of-type th {\n",
       "        text-align: right;\n",
       "    }\n",
       "</style>\n",
       "<table border=\"1\" class=\"dataframe\">\n",
       "  <thead>\n",
       "    <tr>\n",
       "      <th></th>\n",
       "      <th colspan=\"4\" halign=\"left\">calls_duration</th>\n",
       "    </tr>\n",
       "    <tr>\n",
       "      <th></th>\n",
       "      <th>median</th>\n",
       "      <th>mean</th>\n",
       "      <th>std</th>\n",
       "      <th>var</th>\n",
       "    </tr>\n",
       "    <tr>\n",
       "      <th>tariff</th>\n",
       "      <th></th>\n",
       "      <th></th>\n",
       "      <th></th>\n",
       "      <th></th>\n",
       "    </tr>\n",
       "  </thead>\n",
       "  <tbody>\n",
       "    <tr>\n",
       "      <td>smart</td>\n",
       "      <td>423.0</td>\n",
       "      <td>419.06</td>\n",
       "      <td>189.33</td>\n",
       "      <td>35844.19</td>\n",
       "    </tr>\n",
       "    <tr>\n",
       "      <td>ultra</td>\n",
       "      <td>528.0</td>\n",
       "      <td>545.45</td>\n",
       "      <td>306.93</td>\n",
       "      <td>94203.42</td>\n",
       "    </tr>\n",
       "  </tbody>\n",
       "</table>\n",
       "</div>"
      ],
      "text/plain": [
       "       calls_duration                          \n",
       "               median    mean     std       var\n",
       "tariff                                         \n",
       "smart           423.0  419.06  189.33  35844.19\n",
       "ultra           528.0  545.45  306.93  94203.42"
      ]
     },
     "execution_count": 70,
     "metadata": {},
     "output_type": "execute_result"
    }
   ],
   "source": [
    "durations = pd.wide_to_long(df_users, [\"calls_duration_\"], i=\"user_id\", j=\"month\")[\n",
    "    [\"tariff\", \"calls_duration_\"]\n",
    "].rename(columns={\"calls_duration_\": \"calls_duration\"})\n",
    "durations.groupby(\"tariff\").agg([\"median\", \"mean\", \"std\", \"var\"])"
   ]
  },
  {
   "cell_type": "code",
   "execution_count": 71,
   "id": "10b1a16d",
   "metadata": {},
   "outputs": [
    {
     "data": {
      "image/png": "[encoded data removed]",
      "text/plain": [
       "<Figure size 864x576 with 1 Axes>"
      ]
     },
     "metadata": {},
     "output_type": "display_data"
    }
   ],
   "source": [
    "ax = sns.histplot(data=durations, x=\"calls_duration\", hue=\"tariff\", stat=\"density\")\n",
    "ax.set_xlabel(\"Продолжительность звонков\")\n",
    "ax.legend(ax.get_legend().legendHandles, [\"ультра\", \"смарт\"], title=\"Тариф\")\n",
    "ax.set_ylabel(\"Плотность распределения\");"
   ]
  },
  {
   "cell_type": "markdown",
   "id": "a36f20f6",
   "metadata": {},
   "source": [
    "Видно, что клиенты с тарифом \"Ультра\" делают на 25% больше звонков, чем держатели тарифа \"Смарт\", как по количеству, так и по длительности. При этом дисперсия значений в обоих случаях в тарифе \"Ультра\" в 3 раза больше, чем в \"Смарте\". \n",
    "\n",
    "График распределения по времени разговоров за месяц аналогичем графику числа звонков."
   ]
  },
  {
   "cell_type": "markdown",
   "id": "d5ae44be",
   "metadata": {},
   "source": [
    "По количеству сообщений:"
   ]
  },
  {
   "cell_type": "code",
   "execution_count": 72,
   "id": "dc8f12fc",
   "metadata": {},
   "outputs": [
    {
     "data": {
      "text/html": [
       "<div>\n",
       "<style scoped>\n",
       "    .dataframe tbody tr th:only-of-type {\n",
       "        vertical-align: middle;\n",
       "    }\n",
       "\n",
       "    .dataframe tbody tr th {\n",
       "        vertical-align: top;\n",
       "    }\n",
       "\n",
       "    .dataframe thead tr th {\n",
       "        text-align: left;\n",
       "    }\n",
       "\n",
       "    .dataframe thead tr:last-of-type th {\n",
       "        text-align: right;\n",
       "    }\n",
       "</style>\n",
       "<table border=\"1\" class=\"dataframe\">\n",
       "  <thead>\n",
       "    <tr>\n",
       "      <th></th>\n",
       "      <th colspan=\"5\" halign=\"left\">messages</th>\n",
       "    </tr>\n",
       "    <tr>\n",
       "      <th></th>\n",
       "      <th>median</th>\n",
       "      <th>mean</th>\n",
       "      <th>std</th>\n",
       "      <th>var</th>\n",
       "      <th>max</th>\n",
       "    </tr>\n",
       "    <tr>\n",
       "      <th>tariff</th>\n",
       "      <th></th>\n",
       "      <th></th>\n",
       "      <th></th>\n",
       "      <th></th>\n",
       "      <th></th>\n",
       "    </tr>\n",
       "  </thead>\n",
       "  <tbody>\n",
       "    <tr>\n",
       "      <td>smart</td>\n",
       "      <td>34.0</td>\n",
       "      <td>38.72</td>\n",
       "      <td>26.79</td>\n",
       "      <td>717.59</td>\n",
       "      <td>143.0</td>\n",
       "    </tr>\n",
       "    <tr>\n",
       "      <td>ultra</td>\n",
       "      <td>51.0</td>\n",
       "      <td>61.16</td>\n",
       "      <td>45.93</td>\n",
       "      <td>2109.66</td>\n",
       "      <td>224.0</td>\n",
       "    </tr>\n",
       "  </tbody>\n",
       "</table>\n",
       "</div>"
      ],
      "text/plain": [
       "       messages                              \n",
       "         median   mean    std      var    max\n",
       "tariff                                       \n",
       "smart      34.0  38.72  26.79   717.59  143.0\n",
       "ultra      51.0  61.16  45.93  2109.66  224.0"
      ]
     },
     "execution_count": 72,
     "metadata": {},
     "output_type": "execute_result"
    }
   ],
   "source": [
    "messages = pd.wide_to_long(df_users, [\"messages_\"], i=\"user_id\", j=\"month\")[\n",
    "    [\"tariff\", \"messages_\"]\n",
    "].rename(columns={\"messages_\": \"messages\"})\n",
    "messages.groupby(\"tariff\").agg([\"median\", \"mean\", \"std\", \"var\", \"max\"])"
   ]
  },
  {
   "cell_type": "markdown",
   "id": "753c8de9",
   "metadata": {},
   "source": [
    "Пользователи \"Ультра\" отправляют в 1,5 раза больше сообщений (по медианному значению), чем \"Смарт\". Соотношение дисперсий такое же как в звонках - 3:1."
   ]
  },
  {
   "cell_type": "code",
   "execution_count": 73,
   "id": "6a70c389",
   "metadata": {},
   "outputs": [
    {
     "data": {
      "image/png": "[encoded data removed]",
      "text/plain": [
       "<Figure size 864x576 with 1 Axes>"
      ]
     },
     "metadata": {},
     "output_type": "display_data"
    }
   ],
   "source": [
    "ax = sns.histplot(data=messages, x=\"messages\", hue=\"tariff\", stat=\"density\")\n",
    "ax.set_xlabel(\"Количество сообщений\")\n",
    "ax.legend(ax.get_legend().legendHandles, [\"ультра\", \"смарт\"], title=\"Тариф\")\n",
    "ax.set_ylabel(\"Плотность распределения\");"
   ]
  },
  {
   "cell_type": "markdown",
   "id": "edfba445",
   "metadata": {},
   "source": [
    "Как и предыдущие графики, распределение количества сообщений напоминает распределение Пуассона (особенно хорошо это заметно для тарифа \"Смарт\").\n",
    "\n",
    "Среди пользователей тарифа \"Ультра\" есть как большое количество практически не пользующихся SMS (выброс вблизи 0), так активные пользователи сообщений (вплоть до 224 в месяц)."
   ]
  },
  {
   "cell_type": "markdown",
   "id": "04902bd3",
   "metadata": {},
   "source": [
    "И по использованию интернет-трафика:"
   ]
  },
  {
   "cell_type": "code",
   "execution_count": 74,
   "id": "e182e787",
   "metadata": {},
   "outputs": [
    {
     "data": {
      "text/html": [
       "<div>\n",
       "<style scoped>\n",
       "    .dataframe tbody tr th:only-of-type {\n",
       "        vertical-align: middle;\n",
       "    }\n",
       "\n",
       "    .dataframe tbody tr th {\n",
       "        vertical-align: top;\n",
       "    }\n",
       "\n",
       "    .dataframe thead tr th {\n",
       "        text-align: left;\n",
       "    }\n",
       "\n",
       "    .dataframe thead tr:last-of-type th {\n",
       "        text-align: right;\n",
       "    }\n",
       "</style>\n",
       "<table border=\"1\" class=\"dataframe\">\n",
       "  <thead>\n",
       "    <tr>\n",
       "      <th></th>\n",
       "      <th colspan=\"5\" halign=\"left\">mb_used</th>\n",
       "    </tr>\n",
       "    <tr>\n",
       "      <th></th>\n",
       "      <th>median</th>\n",
       "      <th>mean</th>\n",
       "      <th>std</th>\n",
       "      <th>var</th>\n",
       "      <th>max</th>\n",
       "    </tr>\n",
       "    <tr>\n",
       "      <th>tariff</th>\n",
       "      <th></th>\n",
       "      <th></th>\n",
       "      <th></th>\n",
       "      <th></th>\n",
       "      <th></th>\n",
       "    </tr>\n",
       "  </thead>\n",
       "  <tbody>\n",
       "    <tr>\n",
       "      <td>smart</td>\n",
       "      <td>17408.0</td>\n",
       "      <td>16735.76</td>\n",
       "      <td>5866.24</td>\n",
       "      <td>3.44e+07</td>\n",
       "      <td>38912.0</td>\n",
       "    </tr>\n",
       "    <tr>\n",
       "      <td>ultra</td>\n",
       "      <td>19456.0</td>\n",
       "      <td>20187.73</td>\n",
       "      <td>9919.83</td>\n",
       "      <td>9.84e+07</td>\n",
       "      <td>50176.0</td>\n",
       "    </tr>\n",
       "  </tbody>\n",
       "</table>\n",
       "</div>"
      ],
      "text/plain": [
       "        mb_used                                      \n",
       "         median      mean      std       var      max\n",
       "tariff                                               \n",
       "smart   17408.0  16735.76  5866.24  3.44e+07  38912.0\n",
       "ultra   19456.0  20187.73  9919.83  9.84e+07  50176.0"
      ]
     },
     "execution_count": 74,
     "metadata": {},
     "output_type": "execute_result"
    }
   ],
   "source": [
    "internet = pd.wide_to_long(df_users, [\"mb_used_\"], i=\"user_id\", j=\"month\")[\n",
    "    [\"tariff\", \"mb_used_\"]\n",
    "].rename(columns={\"mb_used_\": \"mb_used\"})\n",
    "internet.groupby(\"tariff\").agg([\"median\", \"mean\", \"std\", \"var\", \"max\"])"
   ]
  },
  {
   "cell_type": "code",
   "execution_count": 75,
   "id": "38326de8",
   "metadata": {},
   "outputs": [
    {
     "data": {
      "image/png": "[encoded data removed]",
      "text/plain": [
       "<Figure size 864x576 with 1 Axes>"
      ]
     },
     "metadata": {},
     "output_type": "display_data"
    }
   ],
   "source": [
    "ax = sns.histplot(data=internet, x=\"mb_used\", hue=\"tariff\", stat=\"density\")\n",
    "ax.set_xlabel(\"Израсходованный интернет-трафик\")\n",
    "ax.legend(ax.get_legend().legendHandles, [\"ультра\", \"смарт\"], title=\"Тариф\")\n",
    "ax.set_ylabel(\"Плотность распределения\");"
   ]
  },
  {
   "cell_type": "markdown",
   "id": "4849c0ec",
   "metadata": {
    "tags": []
   },
   "source": [
    "По объёму использованного трафика пользователи тарифа \"Ультра\" также обгоняют \"Смарт\", но не так значительно, как в звонках или сообщениях: чуть больше, чем на 10% (по медиане). При этом соотношение дисперсий остаётся на удивление похожим: 3:1.\n",
    "\n",
    "Видно, формы графиков использования интернета на обоих тарифах очень похожи и даже имеют пики в районе 18Гб. Но среди пользователей \"Ультра\" есть очень активные потребители мобильного интернета, вплоть до 50Гб в месяц.\n",
    "\n",
    "Этот выброс говорит о том, что заметное количество пользователей тарифа \"Смарт\" перерасходуют трафик (предоплаченный лимит 15Гб), а много пользователей \"Ультра\" недоиспользуют доступный трацик (лимит 30Гб). Это указывает на то, что пользователи тарифа \"Смарт\" больше платят за интернет сверх абонентской платы.\n",
    "\n",
    "Для удобства работы с платежами выделим их вместе с информацией о тарифе и городе в отдельный датафрейм"
   ]
  },
  {
   "cell_type": "code",
   "execution_count": 76,
   "id": "e28a46bc",
   "metadata": {},
   "outputs": [
    {
     "data": {
      "text/html": [
       "<div>\n",
       "<style scoped>\n",
       "    .dataframe tbody tr th:only-of-type {\n",
       "        vertical-align: middle;\n",
       "    }\n",
       "\n",
       "    .dataframe tbody tr th {\n",
       "        vertical-align: top;\n",
       "    }\n",
       "\n",
       "    .dataframe thead tr th {\n",
       "        text-align: left;\n",
       "    }\n",
       "\n",
       "    .dataframe thead tr:last-of-type th {\n",
       "        text-align: right;\n",
       "    }\n",
       "</style>\n",
       "<table border=\"1\" class=\"dataframe\">\n",
       "  <thead>\n",
       "    <tr>\n",
       "      <th></th>\n",
       "      <th colspan=\"5\" halign=\"left\">payment</th>\n",
       "    </tr>\n",
       "    <tr>\n",
       "      <th></th>\n",
       "      <th>median</th>\n",
       "      <th>mean</th>\n",
       "      <th>std</th>\n",
       "      <th>var</th>\n",
       "      <th>max</th>\n",
       "    </tr>\n",
       "    <tr>\n",
       "      <th>tariff</th>\n",
       "      <th></th>\n",
       "      <th></th>\n",
       "      <th></th>\n",
       "      <th></th>\n",
       "      <th></th>\n",
       "    </tr>\n",
       "  </thead>\n",
       "  <tbody>\n",
       "    <tr>\n",
       "      <td>smart</td>\n",
       "      <td>1009.0</td>\n",
       "      <td>1282.09</td>\n",
       "      <td>817.57</td>\n",
       "      <td>668420.97</td>\n",
       "      <td>6770.0</td>\n",
       "    </tr>\n",
       "    <tr>\n",
       "      <td>ultra</td>\n",
       "      <td>1950.0</td>\n",
       "      <td>2067.64</td>\n",
       "      <td>372.63</td>\n",
       "      <td>138855.04</td>\n",
       "      <td>4800.0</td>\n",
       "    </tr>\n",
       "  </tbody>\n",
       "</table>\n",
       "</div>"
      ],
      "text/plain": [
       "       payment                                    \n",
       "        median     mean     std        var     max\n",
       "tariff                                            \n",
       "smart   1009.0  1282.09  817.57  668420.97  6770.0\n",
       "ultra   1950.0  2067.64  372.63  138855.04  4800.0"
      ]
     },
     "execution_count": 76,
     "metadata": {},
     "output_type": "execute_result"
    }
   ],
   "source": [
    "payments = pd.wide_to_long(df_users, [\"payment_\"], i=\"user_id\", j=\"month\")[\n",
    "    [\"tariff\", \"payment_\", \"city\"]\n",
    "].rename(columns={\"payment_\": \"payment\"})\n",
    "payments.groupby(\"tariff\").agg([\"median\", \"mean\", \"std\", \"var\", \"max\"])"
   ]
  },
  {
   "cell_type": "code",
   "execution_count": 77,
   "id": "aafda364",
   "metadata": {},
   "outputs": [
    {
     "data": {
      "image/png": "[encoded data removed]",
      "text/plain": [
       "<Figure size 864x576 with 1 Axes>"
      ]
     },
     "metadata": {},
     "output_type": "display_data"
    }
   ],
   "source": [
    "ax = sns.histplot(data=payments, x=\"payment\", hue=\"tariff\", stat=\"density\")\n",
    "ax.set_xlabel(\"Ежемесячный платёж\")\n",
    "ax.legend(ax.get_legend().legendHandles, [\"ультра\", \"смарт\"], title=\"Тариф\")\n",
    "ax.set_ylabel(\"Плотность распределения\");"
   ]
  },
  {
   "cell_type": "markdown",
   "id": "509fefb6",
   "metadata": {},
   "source": [
    "Что касается ежемесячных платежей, то видно, что основная часть пользователей остаются в рамках ежемнесячных платежей по выбранному тарифу. С другой стороны, есть и те, кто оплачивает использование услуг связи сверх тарифа и среди пользователей \"смарт\" таких явно больше (более толстый и длинный хвост). Более того, рекорд по ежемесячным платежам (6700 рублей за месяц) принадлежит именно пользователю с тарифом \"Смарт\"."
   ]
  },
  {
   "cell_type": "markdown",
   "id": "6ac363aa",
   "metadata": {},
   "source": [
    "### Выводы\n",
    "\n",
    "В ходе исследования данных было установлено, что пользователи тарифа \"Ультра\" более активно используют услуги мобильной связи. Это не удивительно, иначе им бы не было смысла выбирать более дорогой тариф и большими лимитами.\n",
    "\n",
    "Что же касается оплаты связи, то ситуация выглядит не вполне однозначной: с одной стороны, в массе своей пользователи \"Ультра\" платят бОльшую абонентскую плату, но среди пользователей \"Смарт\" есть пользователи со значительным перерасходом предоплаченных лимитов.\n",
    "\n",
    "Исследуем платежи дополнительно."
   ]
  },
  {
   "cell_type": "markdown",
   "id": "aef190f3",
   "metadata": {},
   "source": [
    "## Анализ ежемесячных платежей\n",
    "\n",
    "Мы уже увидели, что расходы на мобильную связь у пользователей с разными тарифными планами заметно отличаются, но насколько это различие существено? Проверим и это.\n",
    "\n",
    "Прежде всего сформулируем статистическую гипотезу, которая в данном случае будет звучать как \"предположим, что средняя выручка пользователей тарифов «Ультра» и «Смарт» одинаковы\". Тогда альтернативная гипотеза будет утверждать, что средние платежи различаются. Гипотеза будет проверяться на двух независимых выборках (это непересекающиеся множества людей). Сравниваемые множества не одинаковы по длине и характер распределения платежей явно разный (это видно из графика выше), так что при проверке гипотезы мы будем использовать параметр `equal_var=False`.  "
   ]
  },
  {
   "cell_type": "code",
   "execution_count": 78,
   "id": "87561514",
   "metadata": {},
   "outputs": [
    {
     "data": {
      "text/plain": [
       "(2253, 1006)"
      ]
     },
     "execution_count": 78,
     "metadata": {},
     "output_type": "execute_result"
    }
   ],
   "source": [
    "(\n",
    "    payments.loc[payments[\"tariff\"] == \"smart\", \"payment\"].dropna().shape[0],\n",
    "    payments.loc[payments[\"tariff\"] == \"ultra\", \"payment\"].dropna().shape[0],\n",
    ")"
   ]
  },
  {
   "cell_type": "code",
   "execution_count": 79,
   "id": "ee759e25",
   "metadata": {},
   "outputs": [],
   "source": [
    "res = st.ttest_ind(\n",
    "    payments.loc[payments[\"tariff\"] == \"smart\", \"payment\"].dropna(),\n",
    "    payments.loc[payments[\"tariff\"] == \"ultra\", \"payment\"].dropna(),\n",
    "    equal_var=False,\n",
    ")"
   ]
  },
  {
   "cell_type": "code",
   "execution_count": 80,
   "id": "e8ef1517",
   "metadata": {},
   "outputs": [
    {
     "data": {
      "text/plain": [
       "3.6959751806665007e-258"
      ]
     },
     "execution_count": 80,
     "metadata": {},
     "output_type": "execute_result"
    }
   ],
   "source": [
    "res.pvalue"
   ]
  },
  {
   "cell_type": "markdown",
   "id": "00800003",
   "metadata": {},
   "source": [
    "Видно, что p-значение очень мало, настолько, что нет смысла выбирать между 1%, 5% или даже 0.1%. Средние заданных генеральных совокупностей отличают и очень значимо.\n",
    "\n",
    "Теперь сравним платежи клиентов из разных городов: посмотрим отличается выручка москичей от средней выручки жителей других регионов. Нулевая гипотеза в данном случае звучит так: предположим, что ежемесячные платежи москвичей и клиентов из других регионов одинаковы. И альтернативная: предположим, что эти платежи отличаются.\n",
    "\n",
    "В этом случае мы также имеем дело с непересекающимися группами людей. Группы эти существенно различаются по размеру, так что здесь также сть смысл исрользовать гипотезу о равенстве средних двух генеральных совокупностей в предположении неравенства их дисперсий:"
   ]
  },
  {
   "cell_type": "code",
   "execution_count": 81,
   "id": "cb2bcbd2",
   "metadata": {},
   "outputs": [
    {
     "data": {
      "text/plain": [
       "(1188, 4812)"
      ]
     },
     "execution_count": 81,
     "metadata": {},
     "output_type": "execute_result"
    }
   ],
   "source": [
    "(\n",
    "    payments.loc[payments[\"city\"] == \"Москва\"].shape[0],\n",
    "    payments.loc[payments[\"city\"] != \"Москва\"].shape[0],\n",
    ")"
   ]
  },
  {
   "cell_type": "code",
   "execution_count": 82,
   "id": "70e9a533",
   "metadata": {},
   "outputs": [],
   "source": [
    "res = st.ttest_ind(\n",
    "    payments.loc[payments[\"city\"] == \"Москва\", \"payment\"].dropna(),\n",
    "    payments.loc[payments[\"city\"] != \"Москва\", \"payment\"].dropna(),\n",
    "    equal_var=False,\n",
    ")"
   ]
  },
  {
   "cell_type": "code",
   "execution_count": 83,
   "id": "7c50ce34",
   "metadata": {},
   "outputs": [
    {
     "data": {
      "text/plain": [
       "Ttest_indResult(statistic=0.8034270065320763, pvalue=0.42192271461069386)"
      ]
     },
     "execution_count": 83,
     "metadata": {},
     "output_type": "execute_result"
    }
   ],
   "source": [
    "res"
   ]
  },
  {
   "cell_type": "markdown",
   "id": "c2a3ac7f",
   "metadata": {},
   "source": [
    "### Выводы\n",
    "\n",
    "Мы сравнили ежемесячные платежи пользователей оператора. Было установлено, что с очень высокой значимостью платежи пользователей тарифов \"Смарт\" и \"Ультра\" отличаются.\n",
    "\n",
    "С другой стороны, сравнение ежемесячных расходов москвичей и жителей других регионов не дало овозможностей отвергнуть гипотезу о равенстве расходов на мобильную связь этих двух групп."
   ]
  },
  {
   "cell_type": "markdown",
   "id": "31f3a51a",
   "metadata": {},
   "source": [
    "## Выводы\n",
    "\n",
    "В ходе анализа активности выборки пользователей двух тарифов оператора связи было установлено следующее:\n",
    "- пользователи тарифа \"Ультра\" активнее пользуются услугами связи: на 26% больше по звонкам, на 56% по сообщениям и на 20% по интернет-трафику (всё &mdash; по медианным значениям);\n",
    "- пользователи тарифа \"Смарт\" чаще и значительнее выходят за лимиты тарифа и как следствие платят сверх абонентской платы: медианные месячные переплаты для тарифа \"Смарт\" составляют 732 рубля против 118 для тарифа \"Ультра\".\n",
    "\n",
    "Если исходить из того, что абонентская плата назначена правильно (в соответствии с затаратами оператора на обслуживание клиентов), то тариф \"Смарт\" более выгоден оператору, поскольку генерирует больший дополнительный денежный поток."
   ]
  }
 ],
 "metadata": {
  "ExecuteTimeLog": [
   {
    "duration": 5182,
    "start_time": "2021-09-19T15:14:51.125Z"
   },
   {
    "duration": 1434,
    "start_time": "2021-09-19T15:14:56.310Z"
   },
   {
    "duration": 4,
    "start_time": "2021-09-19T15:14:57.747Z"
   },
   {
    "duration": 12,
    "start_time": "2021-09-19T15:14:57.753Z"
   },
   {
    "duration": 8,
    "start_time": "2021-09-19T15:14:57.767Z"
   },
   {
    "duration": 393,
    "start_time": "2021-09-19T15:14:57.777Z"
   },
   {
    "duration": 367,
    "start_time": "2021-09-19T15:14:58.173Z"
   },
   {
    "duration": 304,
    "start_time": "2021-09-19T15:14:58.544Z"
   },
   {
    "duration": 213,
    "start_time": "2021-09-19T15:14:58.851Z"
   },
   {
    "duration": 243,
    "start_time": "2021-09-19T15:14:59.066Z"
   },
   {
    "duration": 17,
    "start_time": "2021-09-19T15:14:59.311Z"
   },
   {
    "duration": 14,
    "start_time": "2021-09-19T15:14:59.330Z"
   },
   {
    "duration": 18,
    "start_time": "2021-09-19T15:14:59.346Z"
   },
   {
    "duration": 8,
    "start_time": "2021-09-19T15:14:59.367Z"
   },
   {
    "duration": 39,
    "start_time": "2021-09-19T15:14:59.377Z"
   },
   {
    "duration": 7,
    "start_time": "2021-09-19T15:14:59.419Z"
   },
   {
    "duration": 435,
    "start_time": "2021-09-19T15:14:59.427Z"
   },
   {
    "duration": 429,
    "start_time": "2021-09-19T15:14:59.440Z"
   },
   {
    "duration": 422,
    "start_time": "2021-09-19T15:14:59.449Z"
   },
   {
    "duration": 419,
    "start_time": "2021-09-19T15:14:59.454Z"
   },
   {
    "duration": 414,
    "start_time": "2021-09-19T15:14:59.460Z"
   },
   {
    "duration": 410,
    "start_time": "2021-09-19T15:14:59.466Z"
   },
   {
    "duration": 406,
    "start_time": "2021-09-19T15:14:59.471Z"
   },
   {
    "duration": 398,
    "start_time": "2021-09-19T15:14:59.481Z"
   },
   {
    "duration": 393,
    "start_time": "2021-09-19T15:14:59.487Z"
   },
   {
    "duration": 388,
    "start_time": "2021-09-19T15:14:59.494Z"
   },
   {
    "duration": 384,
    "start_time": "2021-09-19T15:14:59.499Z"
   },
   {
    "duration": 382,
    "start_time": "2021-09-19T15:14:59.503Z"
   },
   {
    "duration": 379,
    "start_time": "2021-09-19T15:14:59.507Z"
   },
   {
    "duration": 373,
    "start_time": "2021-09-19T15:14:59.515Z"
   },
   {
    "duration": 365,
    "start_time": "2021-09-19T15:14:59.524Z"
   },
   {
    "duration": 359,
    "start_time": "2021-09-19T15:14:59.531Z"
   },
   {
    "duration": 354,
    "start_time": "2021-09-19T15:14:59.538Z"
   },
   {
    "duration": 348,
    "start_time": "2021-09-19T15:14:59.545Z"
   },
   {
    "duration": 345,
    "start_time": "2021-09-19T15:14:59.550Z"
   },
   {
    "duration": 343,
    "start_time": "2021-09-19T15:14:59.553Z"
   },
   {
    "duration": 341,
    "start_time": "2021-09-19T15:14:59.556Z"
   },
   {
    "duration": 340,
    "start_time": "2021-09-19T15:14:59.559Z"
   },
   {
    "duration": 333,
    "start_time": "2021-09-19T15:14:59.567Z"
   },
   {
    "duration": 330,
    "start_time": "2021-09-19T15:14:59.572Z"
   },
   {
    "duration": 324,
    "start_time": "2021-09-19T15:14:59.579Z"
   },
   {
    "duration": 308,
    "start_time": "2021-09-19T15:14:59.596Z"
   },
   {
    "duration": 304,
    "start_time": "2021-09-19T15:14:59.601Z"
   },
   {
    "duration": 300,
    "start_time": "2021-09-19T15:14:59.606Z"
   },
   {
    "duration": 304,
    "start_time": "2021-09-19T15:14:59.612Z"
   },
   {
    "duration": 301,
    "start_time": "2021-09-19T15:14:59.616Z"
   },
   {
    "duration": 298,
    "start_time": "2021-09-19T15:14:59.621Z"
   },
   {
    "duration": 295,
    "start_time": "2021-09-19T15:14:59.625Z"
   },
   {
    "duration": 290,
    "start_time": "2021-09-19T15:14:59.632Z"
   },
   {
    "duration": 287,
    "start_time": "2021-09-19T15:14:59.636Z"
   },
   {
    "duration": 272,
    "start_time": "2021-09-19T15:14:59.652Z"
   },
   {
    "duration": 248,
    "start_time": "2021-09-19T15:14:59.678Z"
   },
   {
    "duration": 245,
    "start_time": "2021-09-19T15:14:59.682Z"
   },
   {
    "duration": 238,
    "start_time": "2021-09-19T15:14:59.691Z"
   },
   {
    "duration": 226,
    "start_time": "2021-09-19T15:14:59.704Z"
   },
   {
    "duration": 221,
    "start_time": "2021-09-19T15:14:59.710Z"
   },
   {
    "duration": 217,
    "start_time": "2021-09-19T15:14:59.716Z"
   },
   {
    "duration": 205,
    "start_time": "2021-09-19T15:14:59.730Z"
   },
   {
    "duration": 202,
    "start_time": "2021-09-19T15:14:59.734Z"
   },
   {
    "duration": 194,
    "start_time": "2021-09-19T15:14:59.744Z"
   },
   {
    "duration": 191,
    "start_time": "2021-09-19T15:14:59.749Z"
   },
   {
    "duration": 189,
    "start_time": "2021-09-19T15:14:59.752Z"
   },
   {
    "duration": 186,
    "start_time": "2021-09-19T15:14:59.756Z"
   },
   {
    "duration": 182,
    "start_time": "2021-09-19T15:14:59.761Z"
   },
   {
    "duration": 171,
    "start_time": "2021-09-19T15:14:59.774Z"
   },
   {
    "duration": 165,
    "start_time": "2021-09-19T15:14:59.781Z"
   },
   {
    "duration": 305,
    "start_time": "2021-09-19T15:15:27.159Z"
   },
   {
    "duration": 417,
    "start_time": "2021-09-19T15:15:27.052Z"
   },
   {
    "duration": 411,
    "start_time": "2021-09-19T15:15:27.060Z"
   },
   {
    "duration": 407,
    "start_time": "2021-09-19T15:15:27.065Z"
   },
   {
    "duration": 394,
    "start_time": "2021-09-19T15:15:27.080Z"
   },
   {
    "duration": 391,
    "start_time": "2021-09-19T15:15:27.085Z"
   },
   {
    "duration": 384,
    "start_time": "2021-09-19T15:15:27.093Z"
   },
   {
    "duration": 382,
    "start_time": "2021-09-19T15:15:27.097Z"
   },
   {
    "duration": 378,
    "start_time": "2021-09-19T15:15:27.102Z"
   },
   {
    "duration": 375,
    "start_time": "2021-09-19T15:15:27.107Z"
   },
   {
    "duration": 371,
    "start_time": "2021-09-19T15:15:27.112Z"
   },
   {
    "duration": 369,
    "start_time": "2021-09-19T15:15:27.116Z"
   },
   {
    "duration": 367,
    "start_time": "2021-09-19T15:15:27.120Z"
   },
   {
    "duration": 363,
    "start_time": "2021-09-19T15:15:27.125Z"
   },
   {
    "duration": 360,
    "start_time": "2021-09-19T15:15:27.130Z"
   },
   {
    "duration": 355,
    "start_time": "2021-09-19T15:15:27.136Z"
   },
   {
    "duration": 353,
    "start_time": "2021-09-19T15:15:27.140Z"
   },
   {
    "duration": 349,
    "start_time": "2021-09-19T15:15:27.145Z"
   },
   {
    "duration": 347,
    "start_time": "2021-09-19T15:15:27.148Z"
   },
   {
    "duration": 345,
    "start_time": "2021-09-19T15:15:27.152Z"
   },
   {
    "duration": 344,
    "start_time": "2021-09-19T15:15:27.155Z"
   },
   {
    "duration": 339,
    "start_time": "2021-09-19T15:15:27.161Z"
   },
   {
    "duration": 337,
    "start_time": "2021-09-19T15:15:27.165Z"
   },
   {
    "duration": 335,
    "start_time": "2021-09-19T15:15:27.168Z"
   },
   {
    "duration": 334,
    "start_time": "2021-09-19T15:15:27.171Z"
   },
   {
    "duration": 342,
    "start_time": "2021-09-19T15:15:27.175Z"
   },
   {
    "duration": 333,
    "start_time": "2021-09-19T15:15:27.186Z"
   },
   {
    "duration": 330,
    "start_time": "2021-09-19T15:15:27.190Z"
   },
   {
    "duration": 325,
    "start_time": "2021-09-19T15:15:27.197Z"
   },
   {
    "duration": 322,
    "start_time": "2021-09-19T15:15:27.202Z"
   },
   {
    "duration": 316,
    "start_time": "2021-09-19T15:15:27.209Z"
   },
   {
    "duration": 314,
    "start_time": "2021-09-19T15:15:27.213Z"
   },
   {
    "duration": 311,
    "start_time": "2021-09-19T15:15:27.218Z"
   },
   {
    "duration": 308,
    "start_time": "2021-09-19T15:15:27.222Z"
   },
   {
    "duration": 301,
    "start_time": "2021-09-19T15:15:27.230Z"
   },
   {
    "duration": 298,
    "start_time": "2021-09-19T15:15:27.235Z"
   },
   {
    "duration": 291,
    "start_time": "2021-09-19T15:15:27.243Z"
   },
   {
    "duration": 286,
    "start_time": "2021-09-19T15:15:27.249Z"
   },
   {
    "duration": 282,
    "start_time": "2021-09-19T15:15:27.255Z"
   },
   {
    "duration": 270,
    "start_time": "2021-09-19T15:15:27.268Z"
   },
   {
    "duration": 259,
    "start_time": "2021-09-19T15:15:27.280Z"
   },
   {
    "duration": 257,
    "start_time": "2021-09-19T15:15:27.284Z"
   },
   {
    "duration": 245,
    "start_time": "2021-09-19T15:15:27.297Z"
   },
   {
    "duration": 236,
    "start_time": "2021-09-19T15:15:27.307Z"
   },
   {
    "duration": 232,
    "start_time": "2021-09-19T15:15:27.312Z"
   },
   {
    "duration": 221,
    "start_time": "2021-09-19T15:15:27.325Z"
   },
   {
    "duration": 209,
    "start_time": "2021-09-19T15:15:27.339Z"
   },
   {
    "duration": 204,
    "start_time": "2021-09-19T15:15:27.345Z"
   },
   {
    "duration": 200,
    "start_time": "2021-09-19T15:15:27.350Z"
   },
   {
    "duration": 198,
    "start_time": "2021-09-19T15:15:27.354Z"
   },
   {
    "duration": 657,
    "start_time": "2021-09-19T15:15:42.112Z"
   },
   {
    "duration": 19,
    "start_time": "2021-09-19T15:15:42.771Z"
   },
   {
    "duration": 733,
    "start_time": "2021-09-19T15:15:42.793Z"
   },
   {
    "duration": 12,
    "start_time": "2021-09-19T15:15:43.529Z"
   },
   {
    "duration": 31,
    "start_time": "2021-09-19T15:15:43.543Z"
   },
   {
    "duration": 69,
    "start_time": "2021-09-19T15:15:43.577Z"
   },
   {
    "duration": 7,
    "start_time": "2021-09-19T15:15:43.649Z"
   },
   {
    "duration": 299,
    "start_time": "2021-09-19T15:15:43.660Z"
   },
   {
    "duration": 452,
    "start_time": "2021-09-19T15:15:43.511Z"
   },
   {
    "duration": 429,
    "start_time": "2021-09-19T15:15:43.536Z"
   },
   {
    "duration": 426,
    "start_time": "2021-09-19T15:15:43.540Z"
   },
   {
    "duration": 412,
    "start_time": "2021-09-19T15:15:43.555Z"
   },
   {
    "duration": 398,
    "start_time": "2021-09-19T15:15:43.571Z"
   },
   {
    "duration": 396,
    "start_time": "2021-09-19T15:15:43.574Z"
   },
   {
    "duration": 384,
    "start_time": "2021-09-19T15:15:43.587Z"
   },
   {
    "duration": 382,
    "start_time": "2021-09-19T15:15:43.590Z"
   },
   {
    "duration": 371,
    "start_time": "2021-09-19T15:15:43.603Z"
   },
   {
    "duration": 369,
    "start_time": "2021-09-19T15:15:43.606Z"
   },
   {
    "duration": 364,
    "start_time": "2021-09-19T15:15:43.612Z"
   },
   {
    "duration": 354,
    "start_time": "2021-09-19T15:15:43.623Z"
   },
   {
    "duration": 341,
    "start_time": "2021-09-19T15:15:43.638Z"
   },
   {
    "duration": 339,
    "start_time": "2021-09-19T15:15:43.641Z"
   },
   {
    "duration": 328,
    "start_time": "2021-09-19T15:15:43.654Z"
   },
   {
    "duration": 326,
    "start_time": "2021-09-19T15:15:43.657Z"
   },
   {
    "duration": 313,
    "start_time": "2021-09-19T15:15:43.671Z"
   },
   {
    "duration": 310,
    "start_time": "2021-09-19T15:15:43.675Z"
   },
   {
    "duration": 300,
    "start_time": "2021-09-19T15:15:43.687Z"
   },
   {
    "duration": 298,
    "start_time": "2021-09-19T15:15:43.690Z"
   },
   {
    "duration": 285,
    "start_time": "2021-09-19T15:15:43.704Z"
   },
   {
    "duration": 279,
    "start_time": "2021-09-19T15:15:43.711Z"
   },
   {
    "duration": 268,
    "start_time": "2021-09-19T15:15:43.723Z"
   },
   {
    "duration": 263,
    "start_time": "2021-09-19T15:15:43.729Z"
   },
   {
    "duration": 254,
    "start_time": "2021-09-19T15:15:43.740Z"
   },
   {
    "duration": 242,
    "start_time": "2021-09-19T15:15:43.753Z"
   },
   {
    "duration": 237,
    "start_time": "2021-09-19T15:15:43.760Z"
   },
   {
    "duration": 225,
    "start_time": "2021-09-19T15:15:43.773Z"
   },
   {
    "duration": 212,
    "start_time": "2021-09-19T15:15:43.787Z"
   },
   {
    "duration": 210,
    "start_time": "2021-09-19T15:15:43.806Z"
   },
   {
    "duration": 206,
    "start_time": "2021-09-19T15:15:43.811Z"
   },
   {
    "duration": 197,
    "start_time": "2021-09-19T15:15:43.822Z"
   },
   {
    "duration": 193,
    "start_time": "2021-09-19T15:15:43.828Z"
   },
   {
    "duration": 182,
    "start_time": "2021-09-19T15:15:43.840Z"
   },
   {
    "duration": 171,
    "start_time": "2021-09-19T15:15:43.852Z"
   },
   {
    "duration": 171,
    "start_time": "2021-09-19T15:15:43.854Z"
   },
   {
    "duration": 169,
    "start_time": "2021-09-19T15:15:43.857Z"
   },
   {
    "duration": 158,
    "start_time": "2021-09-19T15:15:43.870Z"
   },
   {
    "duration": 156,
    "start_time": "2021-09-19T15:15:43.873Z"
   },
   {
    "duration": 152,
    "start_time": "2021-09-19T15:15:43.878Z"
   },
   {
    "duration": 142,
    "start_time": "2021-09-19T15:15:43.890Z"
   },
   {
    "duration": 1956,
    "start_time": "2021-09-19T15:15:57.176Z"
   },
   {
    "duration": 11,
    "start_time": "2021-09-19T15:15:59.135Z"
   },
   {
    "duration": 29,
    "start_time": "2021-09-19T15:15:59.149Z"
   },
   {
    "duration": 53,
    "start_time": "2021-09-19T15:15:59.181Z"
   },
   {
    "duration": 404,
    "start_time": "2021-09-19T15:15:59.236Z"
   },
   {
    "duration": 433,
    "start_time": "2021-09-19T15:15:59.211Z"
   },
   {
    "duration": 429,
    "start_time": "2021-09-19T15:15:59.216Z"
   },
   {
    "duration": 425,
    "start_time": "2021-09-19T15:15:59.221Z"
   },
   {
    "duration": 419,
    "start_time": "2021-09-19T15:15:59.229Z"
   },
   {
    "duration": 412,
    "start_time": "2021-09-19T15:15:59.237Z"
   },
   {
    "duration": 405,
    "start_time": "2021-09-19T15:15:59.245Z"
   },
   {
    "duration": 401,
    "start_time": "2021-09-19T15:15:59.251Z"
   },
   {
    "duration": 397,
    "start_time": "2021-09-19T15:15:59.256Z"
   },
   {
    "duration": 392,
    "start_time": "2021-09-19T15:15:59.263Z"
   },
   {
    "duration": 379,
    "start_time": "2021-09-19T15:15:59.277Z"
   },
   {
    "duration": 375,
    "start_time": "2021-09-19T15:15:59.282Z"
   },
   {
    "duration": 372,
    "start_time": "2021-09-19T15:15:59.287Z"
   },
   {
    "duration": 366,
    "start_time": "2021-09-19T15:15:59.294Z"
   },
   {
    "duration": 363,
    "start_time": "2021-09-19T15:15:59.298Z"
   },
   {
    "duration": 361,
    "start_time": "2021-09-19T15:15:59.302Z"
   },
   {
    "duration": 358,
    "start_time": "2021-09-19T15:15:59.306Z"
   },
   {
    "duration": 354,
    "start_time": "2021-09-19T15:15:59.311Z"
   },
   {
    "duration": 353,
    "start_time": "2021-09-19T15:15:59.314Z"
   },
   {
    "duration": 349,
    "start_time": "2021-09-19T15:15:59.319Z"
   },
   {
    "duration": 347,
    "start_time": "2021-09-19T15:15:59.322Z"
   },
   {
    "duration": 344,
    "start_time": "2021-09-19T15:15:59.327Z"
   },
   {
    "duration": 342,
    "start_time": "2021-09-19T15:15:59.330Z"
   },
   {
    "duration": 340,
    "start_time": "2021-09-19T15:15:59.333Z"
   },
   {
    "duration": 330,
    "start_time": "2021-09-19T15:15:59.345Z"
   },
   {
    "duration": 327,
    "start_time": "2021-09-19T15:15:59.349Z"
   },
   {
    "duration": 322,
    "start_time": "2021-09-19T15:15:59.355Z"
   },
   {
    "duration": 316,
    "start_time": "2021-09-19T15:15:59.363Z"
   },
   {
    "duration": 312,
    "start_time": "2021-09-19T15:15:59.368Z"
   },
   {
    "duration": 308,
    "start_time": "2021-09-19T15:15:59.373Z"
   },
   {
    "duration": 304,
    "start_time": "2021-09-19T15:15:59.379Z"
   },
   {
    "duration": 334,
    "start_time": "2021-09-19T15:15:59.383Z"
   },
   {
    "duration": 332,
    "start_time": "2021-09-19T15:15:59.386Z"
   },
   {
    "duration": 329,
    "start_time": "2021-09-19T15:15:59.391Z"
   },
   {
    "duration": 327,
    "start_time": "2021-09-19T15:15:59.395Z"
   },
   {
    "duration": 324,
    "start_time": "2021-09-19T15:15:59.399Z"
   },
   {
    "duration": 322,
    "start_time": "2021-09-19T15:15:59.403Z"
   },
   {
    "duration": 9,
    "start_time": "2021-09-19T15:16:17.187Z"
   },
   {
    "duration": 994,
    "start_time": "2021-09-19T15:16:17.199Z"
   },
   {
    "duration": 121,
    "start_time": "2021-09-19T15:16:18.196Z"
   },
   {
    "duration": 23,
    "start_time": "2021-09-19T15:16:18.320Z"
   },
   {
    "duration": 974,
    "start_time": "2021-09-19T15:16:18.346Z"
   },
   {
    "duration": 10,
    "start_time": "2021-09-19T15:16:19.322Z"
   },
   {
    "duration": 23,
    "start_time": "2021-09-19T15:16:19.334Z"
   },
   {
    "duration": 24,
    "start_time": "2021-09-19T15:16:19.361Z"
   },
   {
    "duration": 305,
    "start_time": "2021-09-19T15:16:19.418Z"
   },
   {
    "duration": 453,
    "start_time": "2021-09-19T15:16:19.273Z"
   },
   {
    "duration": 425,
    "start_time": "2021-09-19T15:16:19.302Z"
   },
   {
    "duration": 419,
    "start_time": "2021-09-19T15:16:19.310Z"
   },
   {
    "duration": 412,
    "start_time": "2021-09-19T15:16:19.318Z"
   },
   {
    "duration": 408,
    "start_time": "2021-09-19T15:16:19.324Z"
   },
   {
    "duration": 401,
    "start_time": "2021-09-19T15:16:19.333Z"
   },
   {
    "duration": 396,
    "start_time": "2021-09-19T15:16:19.339Z"
   },
   {
    "duration": 383,
    "start_time": "2021-09-19T15:16:19.354Z"
   },
   {
    "duration": 378,
    "start_time": "2021-09-19T15:16:19.360Z"
   },
   {
    "duration": 372,
    "start_time": "2021-09-19T15:16:19.368Z"
   },
   {
    "duration": 365,
    "start_time": "2021-09-19T15:16:19.376Z"
   },
   {
    "duration": 360,
    "start_time": "2021-09-19T15:16:19.383Z"
   },
   {
    "duration": 358,
    "start_time": "2021-09-19T15:16:19.387Z"
   },
   {
    "duration": 354,
    "start_time": "2021-09-19T15:16:19.392Z"
   },
   {
    "duration": 351,
    "start_time": "2021-09-19T15:16:19.397Z"
   },
   {
    "duration": 348,
    "start_time": "2021-09-19T15:16:19.402Z"
   },
   {
    "duration": 345,
    "start_time": "2021-09-19T15:16:19.406Z"
   },
   {
    "duration": 343,
    "start_time": "2021-09-19T15:16:19.410Z"
   },
   {
    "duration": 338,
    "start_time": "2021-09-19T15:16:19.416Z"
   },
   {
    "duration": 336,
    "start_time": "2021-09-19T15:16:19.420Z"
   },
   {
    "duration": 334,
    "start_time": "2021-09-19T15:16:19.423Z"
   },
   {
    "duration": 331,
    "start_time": "2021-09-19T15:16:19.428Z"
   },
   {
    "duration": 326,
    "start_time": "2021-09-19T15:16:19.434Z"
   },
   {
    "duration": 322,
    "start_time": "2021-09-19T15:16:19.440Z"
   },
   {
    "duration": 314,
    "start_time": "2021-09-19T15:16:19.450Z"
   },
   {
    "duration": 301,
    "start_time": "2021-09-19T15:16:19.464Z"
   },
   {
    "duration": 294,
    "start_time": "2021-09-19T15:16:19.472Z"
   },
   {
    "duration": 4295,
    "start_time": "2021-09-19T15:16:51.380Z"
   },
   {
    "duration": 5,
    "start_time": "2021-09-19T15:16:55.679Z"
   },
   {
    "duration": 17,
    "start_time": "2021-09-19T15:16:55.689Z"
   },
   {
    "duration": 7,
    "start_time": "2021-09-19T15:16:55.709Z"
   },
   {
    "duration": 8,
    "start_time": "2021-09-19T15:16:55.718Z"
   },
   {
    "duration": 424,
    "start_time": "2021-09-19T15:16:55.728Z"
   },
   {
    "duration": 392,
    "start_time": "2021-09-19T15:16:56.155Z"
   },
   {
    "duration": 307,
    "start_time": "2021-09-19T15:16:56.551Z"
   },
   {
    "duration": 215,
    "start_time": "2021-09-19T15:16:56.861Z"
   },
   {
    "duration": 259,
    "start_time": "2021-09-19T15:16:57.079Z"
   },
   {
    "duration": 13,
    "start_time": "2021-09-19T15:16:57.340Z"
   },
   {
    "duration": 8,
    "start_time": "2021-09-19T15:16:57.355Z"
   },
   {
    "duration": 19,
    "start_time": "2021-09-19T15:16:57.365Z"
   },
   {
    "duration": 30,
    "start_time": "2021-09-19T15:16:57.386Z"
   },
   {
    "duration": 13,
    "start_time": "2021-09-19T15:16:57.419Z"
   },
   {
    "duration": 8,
    "start_time": "2021-09-19T15:16:57.434Z"
   },
   {
    "duration": 322,
    "start_time": "2021-09-19T15:16:57.444Z"
   },
   {
    "duration": 445,
    "start_time": "2021-09-19T15:16:57.325Z"
   },
   {
    "duration": 440,
    "start_time": "2021-09-19T15:16:57.331Z"
   },
   {
    "duration": 439,
    "start_time": "2021-09-19T15:16:57.334Z"
   },
   {
    "duration": 436,
    "start_time": "2021-09-19T15:16:57.338Z"
   },
   {
    "duration": 425,
    "start_time": "2021-09-19T15:16:57.350Z"
   },
   {
    "duration": 424,
    "start_time": "2021-09-19T15:16:57.353Z"
   },
   {
    "duration": 414,
    "start_time": "2021-09-19T15:16:57.364Z"
   },
   {
    "duration": 412,
    "start_time": "2021-09-19T15:16:57.367Z"
   },
   {
    "duration": 410,
    "start_time": "2021-09-19T15:16:57.370Z"
   },
   {
    "duration": 407,
    "start_time": "2021-09-19T15:16:57.375Z"
   },
   {
    "duration": 400,
    "start_time": "2021-09-19T15:16:57.384Z"
   },
   {
    "duration": 398,
    "start_time": "2021-09-19T15:16:57.387Z"
   },
   {
    "duration": 389,
    "start_time": "2021-09-19T15:16:57.397Z"
   },
   {
    "duration": 386,
    "start_time": "2021-09-19T15:16:57.401Z"
   },
   {
    "duration": 384,
    "start_time": "2021-09-19T15:16:57.404Z"
   },
   {
    "duration": 373,
    "start_time": "2021-09-19T15:16:57.417Z"
   },
   {
    "duration": 371,
    "start_time": "2021-09-19T15:16:57.421Z"
   },
   {
    "duration": 360,
    "start_time": "2021-09-19T15:16:57.433Z"
   },
   {
    "duration": 358,
    "start_time": "2021-09-19T15:16:57.436Z"
   },
   {
    "duration": 353,
    "start_time": "2021-09-19T15:16:57.442Z"
   },
   {
    "duration": 345,
    "start_time": "2021-09-19T15:16:57.452Z"
   },
   {
    "duration": 341,
    "start_time": "2021-09-19T15:16:57.457Z"
   },
   {
    "duration": 609,
    "start_time": "2021-09-19T15:17:03.550Z"
   },
   {
    "duration": 16,
    "start_time": "2021-09-19T15:17:05.762Z"
   },
   {
    "duration": 742,
    "start_time": "2021-09-19T15:17:06.814Z"
   },
   {
    "duration": 12,
    "start_time": "2021-09-19T15:17:07.559Z"
   },
   {
    "duration": 28,
    "start_time": "2021-09-19T15:17:07.829Z"
   },
   {
    "duration": 38,
    "start_time": "2021-09-19T15:17:08.407Z"
   },
   {
    "duration": 7,
    "start_time": "2021-09-19T15:17:08.940Z"
   },
   {
    "duration": 309,
    "start_time": "2021-09-19T15:17:09.196Z"
   },
   {
    "duration": 1993,
    "start_time": "2021-09-19T15:17:09.783Z"
   },
   {
    "duration": 13,
    "start_time": "2021-09-19T15:17:11.779Z"
   },
   {
    "duration": 42,
    "start_time": "2021-09-19T15:17:11.794Z"
   },
   {
    "duration": 29,
    "start_time": "2021-09-19T15:17:11.838Z"
   },
   {
    "duration": 295,
    "start_time": "2021-09-19T15:17:11.870Z"
   },
   {
    "duration": 9,
    "start_time": "2021-09-19T15:17:12.418Z"
   },
   {
    "duration": 877,
    "start_time": "2021-09-19T15:17:12.760Z"
   },
   {
    "duration": 113,
    "start_time": "2021-09-19T15:17:13.658Z"
   },
   {
    "duration": 25,
    "start_time": "2021-09-19T15:17:14.446Z"
   },
   {
    "duration": 1060,
    "start_time": "2021-09-19T15:17:14.806Z"
   },
   {
    "duration": 10,
    "start_time": "2021-09-19T15:17:15.869Z"
   },
   {
    "duration": 19,
    "start_time": "2021-09-19T15:17:15.942Z"
   },
   {
    "duration": 25,
    "start_time": "2021-09-19T15:17:16.963Z"
   },
   {
    "duration": 332,
    "start_time": "2021-09-19T15:17:17.377Z"
   },
   {
    "duration": 9,
    "start_time": "2021-09-19T15:17:18.158Z"
   },
   {
    "duration": 781,
    "start_time": "2021-09-19T15:17:18.553Z"
   },
   {
    "duration": 235,
    "start_time": "2021-09-19T15:17:19.590Z"
   },
   {
    "duration": 4,
    "start_time": "2021-09-19T15:17:21.315Z"
   },
   {
    "duration": 133,
    "start_time": "2021-09-19T15:17:22.184Z"
   },
   {
    "duration": 108,
    "start_time": "2021-09-19T15:17:22.961Z"
   },
   {
    "duration": 21,
    "start_time": "2021-09-19T15:17:23.723Z"
   },
   {
    "duration": 169,
    "start_time": "2021-09-19T15:17:24.052Z"
   },
   {
    "duration": 11,
    "start_time": "2021-09-19T15:17:24.870Z"
   },
   {
    "duration": 17271,
    "start_time": "2021-09-19T15:17:25.430Z"
   },
   {
    "duration": 113,
    "start_time": "2021-09-19T15:17:42.703Z"
   },
   {
    "duration": 63,
    "start_time": "2021-09-19T15:17:42.819Z"
   },
   {
    "duration": 936,
    "start_time": "2021-09-19T15:17:42.885Z"
   },
   {
    "duration": 63,
    "start_time": "2021-09-19T15:17:43.824Z"
   },
   {
    "duration": 1156,
    "start_time": "2021-09-19T15:17:43.890Z"
   },
   {
    "duration": 79,
    "start_time": "2021-09-19T15:17:45.048Z"
   },
   {
    "duration": 851,
    "start_time": "2021-09-19T15:17:45.131Z"
   },
   {
    "duration": 81,
    "start_time": "2021-09-19T15:17:45.986Z"
   },
   {
    "duration": 920,
    "start_time": "2021-09-19T15:17:46.070Z"
   },
   {
    "duration": 77,
    "start_time": "2021-09-19T15:17:46.994Z"
   },
   {
    "duration": 1035,
    "start_time": "2021-09-19T15:17:47.074Z"
   },
   {
    "duration": 13,
    "start_time": "2021-09-19T15:17:48.111Z"
   },
   {
    "duration": 11,
    "start_time": "2021-09-19T15:17:48.127Z"
   },
   {
    "duration": 5,
    "start_time": "2021-09-19T15:17:48.140Z"
   },
   {
    "duration": 13,
    "start_time": "2021-09-19T15:17:48.147Z"
   },
   {
    "duration": 61,
    "start_time": "2021-09-19T15:17:48.163Z"
   },
   {
    "duration": 8,
    "start_time": "2021-09-19T15:17:48.226Z"
   },
   {
    "duration": 84,
    "start_time": "2021-09-19T19:17:16.375Z"
   },
   {
    "duration": 3,
    "start_time": "2021-09-19T19:17:47.400Z"
   },
   {
    "duration": 3202,
    "start_time": "2021-09-19T19:25:42.217Z"
   },
   {
    "duration": 1090,
    "start_time": "2021-09-19T19:25:45.421Z"
   },
   {
    "duration": 2,
    "start_time": "2021-09-19T19:25:46.513Z"
   },
   {
    "duration": 5,
    "start_time": "2021-09-19T19:25:46.517Z"
   },
   {
    "duration": 4,
    "start_time": "2021-09-19T19:25:46.524Z"
   },
   {
    "duration": 285,
    "start_time": "2021-09-19T19:25:46.529Z"
   },
   {
    "duration": 265,
    "start_time": "2021-09-19T19:25:46.816Z"
   },
   {
    "duration": 239,
    "start_time": "2021-09-19T19:25:47.083Z"
   },
   {
    "duration": 178,
    "start_time": "2021-09-19T19:25:47.324Z"
   },
   {
    "duration": 183,
    "start_time": "2021-09-19T19:25:47.503Z"
   },
   {
    "duration": 10,
    "start_time": "2021-09-19T19:25:47.687Z"
   },
   {
    "duration": 6,
    "start_time": "2021-09-19T19:25:47.698Z"
   },
   {
    "duration": 10,
    "start_time": "2021-09-19T19:25:47.706Z"
   },
   {
    "duration": 8,
    "start_time": "2021-09-19T19:25:47.717Z"
   },
   {
    "duration": 4,
    "start_time": "2021-09-19T19:25:47.726Z"
   },
   {
    "duration": 9,
    "start_time": "2021-09-19T19:25:47.731Z"
   },
   {
    "duration": 6,
    "start_time": "2021-09-19T19:25:47.741Z"
   },
   {
    "duration": 41,
    "start_time": "2021-09-19T19:25:51.765Z"
   },
   {
    "duration": 83,
    "start_time": "2021-09-19T19:27:44.169Z"
   },
   {
    "duration": 328,
    "start_time": "2021-09-19T19:29:31.559Z"
   },
   {
    "duration": 1332,
    "start_time": "2021-09-19T19:32:18.580Z"
   },
   {
    "duration": 314,
    "start_time": "2021-09-19T19:32:27.604Z"
   },
   {
    "duration": 11,
    "start_time": "2021-09-19T19:33:03.755Z"
   },
   {
    "duration": 385,
    "start_time": "2021-09-19T19:33:05.331Z"
   },
   {
    "duration": 389,
    "start_time": "2021-09-19T19:34:34.857Z"
   },
   {
    "duration": 374,
    "start_time": "2021-09-19T19:36:04.708Z"
   },
   {
    "duration": 379,
    "start_time": "2021-09-19T19:37:07.714Z"
   },
   {
    "duration": 442,
    "start_time": "2021-09-19T19:37:33.674Z"
   },
   {
    "duration": 388,
    "start_time": "2021-09-19T19:37:54.691Z"
   },
   {
    "duration": 389,
    "start_time": "2021-09-19T19:38:05.603Z"
   },
   {
    "duration": 7,
    "start_time": "2021-09-19T19:40:23.077Z"
   },
   {
    "duration": 18,
    "start_time": "2021-09-19T19:40:24.374Z"
   },
   {
    "duration": 28,
    "start_time": "2021-09-19T19:40:26.085Z"
   },
   {
    "duration": 5,
    "start_time": "2021-09-19T19:40:27.199Z"
   },
   {
    "duration": 236,
    "start_time": "2021-09-19T19:40:27.612Z"
   },
   {
    "duration": 27,
    "start_time": "2021-09-19T19:40:57.476Z"
   },
   {
    "duration": 4,
    "start_time": "2021-09-19T19:41:06.714Z"
   },
   {
    "duration": 24,
    "start_time": "2021-09-19T19:41:07.664Z"
   },
   {
    "duration": 1095,
    "start_time": "2021-09-19T19:41:12.268Z"
   },
   {
    "duration": 8,
    "start_time": "2021-09-19T19:41:15.949Z"
   },
   {
    "duration": 17,
    "start_time": "2021-09-19T19:41:19.319Z"
   },
   {
    "duration": 20,
    "start_time": "2021-09-19T19:41:20.620Z"
   },
   {
    "duration": 253,
    "start_time": "2021-09-19T19:41:21.181Z"
   },
   {
    "duration": 24,
    "start_time": "2021-09-19T19:41:28.822Z"
   },
   {
    "duration": 121,
    "start_time": "2021-09-19T19:41:55.360Z"
   },
   {
    "duration": 328,
    "start_time": "2021-09-19T19:42:10.626Z"
   },
   {
    "duration": 6,
    "start_time": "2021-09-19T19:42:18.594Z"
   },
   {
    "duration": 486,
    "start_time": "2021-09-19T19:42:20.323Z"
   },
   {
    "duration": 75,
    "start_time": "2021-09-19T19:42:27.106Z"
   },
   {
    "duration": 16,
    "start_time": "2021-09-19T19:42:49.222Z"
   },
   {
    "duration": 490,
    "start_time": "2021-09-19T19:42:50.502Z"
   },
   {
    "duration": 7,
    "start_time": "2021-09-19T19:44:48.121Z"
   },
   {
    "duration": 13,
    "start_time": "2021-09-19T19:44:49.203Z"
   },
   {
    "duration": 15,
    "start_time": "2021-09-19T19:44:53.906Z"
   },
   {
    "duration": 300,
    "start_time": "2021-09-19T19:44:54.653Z"
   },
   {
    "duration": 103,
    "start_time": "2021-09-19T19:45:01.408Z"
   },
   {
    "duration": 5,
    "start_time": "2021-09-19T19:45:05.115Z"
   },
   {
    "duration": 479,
    "start_time": "2021-09-19T19:45:06.388Z"
   },
   {
    "duration": 135,
    "start_time": "2021-09-19T19:45:12.132Z"
   },
   {
    "duration": 2,
    "start_time": "2021-09-19T19:45:18.900Z"
   },
   {
    "duration": 81,
    "start_time": "2021-09-19T19:45:21.867Z"
   },
   {
    "duration": 68,
    "start_time": "2021-09-19T19:45:25.220Z"
   },
   {
    "duration": 14,
    "start_time": "2021-09-19T19:45:36.614Z"
   },
   {
    "duration": 76,
    "start_time": "2021-09-19T19:45:37.536Z"
   },
   {
    "duration": 7,
    "start_time": "2021-09-19T19:45:40.836Z"
   },
   {
    "duration": 8765,
    "start_time": "2021-09-19T19:45:48.536Z"
   },
   {
    "duration": 58,
    "start_time": "2021-09-19T19:45:57.303Z"
   },
   {
    "duration": 38,
    "start_time": "2021-09-19T19:46:05.932Z"
   },
   {
    "duration": 480,
    "start_time": "2021-09-19T19:46:06.905Z"
   },
   {
    "duration": 36,
    "start_time": "2021-09-19T19:46:14.263Z"
   },
   {
    "duration": 501,
    "start_time": "2021-09-19T19:46:15.073Z"
   },
   {
    "duration": 38,
    "start_time": "2021-09-19T19:46:19.081Z"
   },
   {
    "duration": 517,
    "start_time": "2021-09-19T19:46:21.017Z"
   },
   {
    "duration": 40,
    "start_time": "2021-09-19T19:46:26.713Z"
   },
   {
    "duration": 519,
    "start_time": "2021-09-19T19:46:27.384Z"
   },
   {
    "duration": 39,
    "start_time": "2021-09-19T19:46:31.692Z"
   },
   {
    "duration": 546,
    "start_time": "2021-09-19T19:46:34.450Z"
   },
   {
    "duration": 10,
    "start_time": "2021-09-19T19:46:52.234Z"
   },
   {
    "duration": 7,
    "start_time": "2021-09-19T19:46:55.161Z"
   },
   {
    "duration": 3,
    "start_time": "2021-09-19T19:46:59.572Z"
   },
   {
    "duration": 7,
    "start_time": "2021-09-19T19:47:04.992Z"
   },
   {
    "duration": 8,
    "start_time": "2021-09-19T19:47:05.834Z"
   },
   {
    "duration": 3,
    "start_time": "2021-09-19T19:47:08.112Z"
   }
  ],
  "kernelspec": {
   "display_name": "Python 3 (ipykernel)",
   "language": "python",
   "name": "python3"
  },
  "language_info": {
   "codemirror_mode": {
    "name": "ipython",
    "version": 3
   },
   "file_extension": ".py",
   "mimetype": "text/x-python",
   "name": "python",
   "nbconvert_exporter": "python",
   "pygments_lexer": "ipython3",
   "version": "3.10.6"
  },
  "toc": {
   "base_numbering": 1,
   "nav_menu": {},
   "number_sections": true,
   "sideBar": true,
   "skip_h1_title": true,
   "title_cell": "Table of Contents",
   "title_sidebar": "Contents",
   "toc_cell": false,
   "toc_position": {},
   "toc_section_display": true,
   "toc_window_display": false
  }
 },
 "nbformat": 4,
 "nbformat_minor": 5
}
