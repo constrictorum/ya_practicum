{
 "cells": [
  {
   "cell_type": "markdown",
   "metadata": {},
   "source": [
    "# Исследование объявлений о продаже квартир\n",
    "\n",
    "Мы имеем архив данных сервиса Яндекс.Недвижимость с объявлениями о продаже квартир в Санкт-Петербурге и соседних населённых пунктах за несколько лет. Нужно научиться определять рыночную стоимость объектов недвижимости. Наша задача — установить наиболее значимые параметры, что позволит построить автоматизированную систему, которая будет отслеживать аномалии и мошенническую деятельность.\n",
    "\n",
    "По каждой квартире на продажу доступны два вида данных. Первые вписаны пользователем, вторые получены автоматически на основе картографических данных. Например, расстояние до центра, аэропорта, ближайшего парка и водоёма. "
   ]
  },
  {
   "cell_type": "code",
   "execution_count": 1,
   "metadata": {},
   "outputs": [],
   "source": [
    "import sys\n",
    "from distutils.version import StrictVersion\n",
    "\n",
    "if StrictVersion(sys.version.split()[0]) < StrictVersion('3.8.0'):\n",
    "    !pip install -U seaborn"
   ]
  },
  {
   "cell_type": "code",
   "execution_count": 100,
   "metadata": {},
   "outputs": [],
   "source": [
    "from datetime import datetime\n",
    "\n",
    "import numpy as np\n",
    "import pandas as pd\n",
    "import seaborn as sns\n",
    "from matplotlib import pyplot as plt\n",
    "from sklearn.linear_model import LinearRegression"
   ]
  },
  {
   "cell_type": "code",
   "execution_count": 3,
   "metadata": {},
   "outputs": [],
   "source": [
    "pd.set_option(\"display.precision\", 2)\n",
    "pd.set_option(\"display.max_columns\", 50)"
   ]
  },
  {
   "cell_type": "code",
   "execution_count": 138,
   "metadata": {},
   "outputs": [],
   "source": [
    "sns.set_style(\"whitegrid\")"
   ]
  },
  {
   "cell_type": "code",
   "execution_count": 4,
   "metadata": {},
   "outputs": [],
   "source": [
    "plt.rcParams[\"figure.figsize\"] = (12, 8)"
   ]
  },
  {
   "cell_type": "markdown",
   "metadata": {},
   "source": [
    "## Изучение данных из файла"
   ]
  },
  {
   "cell_type": "markdown",
   "metadata": {},
   "source": [
    "### Описание данных\n",
    "\n",
    "Пользовательские:\n",
    "- `balcony` — число балконов\n",
    "- `ceiling_height` — высота потолков (м)\n",
    "- `first_day_exposition` — дата публикации\n",
    "- `floor` — этаж\n",
    "- `floors_total` — всего этажей в доме\n",
    "- `is_apartment` — апартаменты (булев тип)\n",
    "- `kitchen_area` — площадь кухни в квадратных метрах (м²)\n",
    "- `last_price` — цена на момент снятия с публикации\n",
    "- `living_area` — жилая площадь в квадратных метрах(м²)\n",
    "- `locality_name` — название населённого пункта\n",
    "- `open_plan` — свободная планировка (булев тип)\n",
    "- `rooms` — число комнат\n",
    "- `studio` — квартира-студия (булев тип)\n",
    "- `total_area` — площадь квартиры в квадратных метрах (м²)\n",
    "- `total_images` — число фотографий квартиры в объявлении\n",
    "\n",
    "От Яндекса:\n",
    "- `airports_nearest` — расстояние до ближайшего аэропорта в метрах (м)\n",
    "- `cityCenters_nearest` — расстояние до центра города (м)\n",
    "- `days_exposition` — сколько дней было размещено объявление (от публикации до снятия)\n",
    "- `parks_around3000` — число парков в радиусе 3 км\n",
    "- `parks_nearest` — расстояние до ближайшего парка (м)\n",
    "- `ponds_around3000` — число водоёмов в радиусе 3 км\n",
    "- `ponds_nearest` — расстояние до ближайшего водоёма (м)"
   ]
  },
  {
   "cell_type": "code",
   "execution_count": 5,
   "metadata": {},
   "outputs": [],
   "source": [
    "try:\n",
    "    df = pd.read_csv(\"real_estate_data.csv\", sep=\"\\t\")\n",
    "except FileNotFoundError:\n",
    "    df = pd.read_csv(\"/datasets/real_estate_data.csv\", sep=\"\\t\")"
   ]
  },
  {
   "cell_type": "code",
   "execution_count": 6,
   "metadata": {},
   "outputs": [
    {
     "data": {},
     "execution_count": 6,
     "metadata": {},
     "output_type": "execute_result"
    }
   ],
   "source": [
    "df.head()"
   ]
  },
  {
   "cell_type": "code",
   "execution_count": 7,
   "metadata": {
    "tags": []
   },
   "outputs": [
    {
     "data": {},
     "execution_count": 7,
     "metadata": {},
     "output_type": "execute_result"
    }
   ],
   "source": [
    "df.describe()"
   ]
  },
  {
   "cell_type": "code",
   "execution_count": 8,
   "metadata": {},
   "outputs": [],
   "source": [
    "df.info()"
   ]
  },
  {
   "cell_type": "markdown",
   "metadata": {},
   "source": [
    "Бросается в глаза, что некоторые колонки имеют неправильный тип: `first_day_exposition` содержит дату в строковом формате, `is_apartment` по смыслу и наполнению является флагом, так что его из строкового надо превратить в логический тип. Кроме того, такие колонки, как `floors_total`, `balcony`, `parks_around3000`, `ponds_around3000` и `days_exposition` описывают счётнве категории, но колонки имеют вещественный тип."
   ]
  },
  {
   "cell_type": "markdown",
   "metadata": {},
   "source": [
    "Ещё одна потенциальная аномалия в данных: максимальная цена, составляющая 763 млн. рублей. Впрочем, недвижимость за \\$10млн. хоть и редка, но точно не невозможна."
   ]
  },
  {
   "cell_type": "code",
   "execution_count": 9,
   "metadata": {},
   "outputs": [
    {
     "data": {},
     "execution_count": 9,
     "metadata": {},
     "output_type": "execute_result"
    }
   ],
   "source": [
    "df[df.last_price == df.last_price.max()]"
   ]
  },
  {
   "cell_type": "markdown",
   "metadata": {},
   "source": [
    "Похоже на пентхаус, тогда цена может быть и оправданной."
   ]
  },
  {
   "cell_type": "markdown",
   "metadata": {},
   "source": [
    "### Вывод"
   ]
  },
  {
   "cell_type": "markdown",
   "metadata": {},
   "source": [
    "В целом ряде столбцов имеются пропуски, которые нужно по возможности заполнить перед началом анализа данных. Кроме того, типы данных некоторых столбцов не соответсвуют содержимому. Это также предстоит исправить"
   ]
  },
  {
   "cell_type": "markdown",
   "metadata": {},
   "source": [
    "## Предобработка данных"
   ]
  },
  {
   "cell_type": "markdown",
   "metadata": {},
   "source": [
    "Как мы уже установили ранее, в данных имеются многочисленные пропуски, рассмотрим их:"
   ]
  },
  {
   "cell_type": "code",
   "execution_count": 10,
   "metadata": {
    "tags": []
   },
   "outputs": [
    {
     "data": {},
     "execution_count": 10,
     "metadata": {},
     "output_type": "execute_result"
    }
   ],
   "source": [
    "df.isna().mean() * 100"
   ]
  },
  {
   "cell_type": "code",
   "execution_count": 11,
   "metadata": {
    "tags": []
   },
   "outputs": [
    {
     "data": {},
     "execution_count": 11,
     "metadata": {},
     "output_type": "execute_result"
    }
   ],
   "source": [
    "df.isna().sum()"
   ]
  },
  {
   "cell_type": "markdown",
   "metadata": {},
   "source": [
    "Пропуски имеются в следующих столбцах:\n",
    "\n",
    "- `ceiling_height` &mdash; пропусков почти 40%. В этом столбце имеются и странные выбросы: присутствуют как очень маленькие значения (1м), так и очень большие (100м), что вряд ли соответсвует действительности. \n",
    "- `floors_total` &mdash; есть небольшое количество пропусков (0,36%). Если не удастся найти неочевидные закономерности, заполнить будет не просто.\n",
    "- `living_area` &mdash; важная характеристика квартиры, если её заполнить неправильно, можно сильно исказить результаты анализа. Здесь также наблюдаются выбросы: при медианном значении 30м², минимальное &mdash; 2, а максимальное &mdash; 409.\n",
    "- `is_apartment` &mdash; здесь, видимо, следует NaN интерпретировать как False. Тем более, что квартир с этим признаком заявлено всего 50 из 23699.\n",
    "- `kitchen_area` &mdash; ещё одна важная количественная характеристика квартиры с 10% пропусков. Здесь также наблюдаются значительный разброс: медиана &mdash; 9,1м², минимум &mdash; 1,3 (такие кухни вообще бывают?), а максимум &mdash; 112.\n",
    "- `balcony` &mdash; также как и признак аппартаменов, отсутсвующее значение можно понимать как отсутсвие признака, т.е. False.\n",
    "- `locality_name` &mdash; пропуски адекватно заполнить может быть затруднительно без доплнительной информации.\n",
    "- `airports_nearest`, `cityCenters_nearest`, `parks_around3000`, `ponds_around3000` &mdash; пропусков по 23%. Судя по тому, что эти данные подставляются сервисом Яндекса, имеют место проблемы с геолокацией недвижимости.\n",
    "- `parks_nearest` и `ponds_nearest` &mdash; пропусков ещё больше (66 и 62%, соответсвенно). Причина &mdash; таже, что и предыдущий пункт, хотя доля пропусков различается. Видимо, сервис определяет расстояние до ближайшего парка и пруда только если оно не превышает 3 км. Самый далёкий из парков &mdash; в 3190 м, а самый далёкий пруд &mdash; в 1344 м. \n",
    "- `days_exposition` - возможно, что причина 13% пропусков в том, что на момент выгрузки эта величина была определена не для всех объявлений, поскольку часть из них оставалась актуальной (не были сняты)"
   ]
  },
  {
   "cell_type": "markdown",
   "metadata": {},
   "source": [
    "### Подготовка параметров \"балкон\", \"аппартаменты\" и \"дата публикации\""
   ]
  },
  {
   "cell_type": "markdown",
   "metadata": {
    "tags": []
   },
   "source": [
    "Наиболее просто трактуются пропуски в таких параметрах, как `is_apartment` и `balcony`: пропуск соответсует отсутствию признака. За одно исправим и их типы: количество балконов, очевидно, должно быть целочисленным. А `is_apartment` &mdash; булев флаг"
   ]
  },
  {
   "cell_type": "code",
   "execution_count": 12,
   "metadata": {
    "tags": []
   },
   "outputs": [],
   "source": [
    "df[\"balcony\"] = df[\"balcony\"].fillna(0)\n",
    "df[\"balcony\"] = df[\"balcony\"].astype(\"int\")"
   ]
  },
  {
   "cell_type": "code",
   "execution_count": 13,
   "metadata": {
    "tags": []
   },
   "outputs": [],
   "source": [
    "df[\"is_apartment\"] = df[\"is_apartment\"].fillna(False)\n",
    "df[\"is_apartment\"] = df[\"is_apartment\"].astype(\"bool\")"
   ]
  },
  {
   "cell_type": "markdown",
   "metadata": {},
   "source": [
    "Также можно привести к правильному типу столбце `first_day_exposition`. В нём нет пропусков и его сразу можно преобразовать в `datetime`:"
   ]
  },
  {
   "cell_type": "code",
   "execution_count": 14,
   "metadata": {},
   "outputs": [],
   "source": [
    "df[\"first_day_exposition\"] = pd.to_datetime(\n",
    "    df[\"first_day_exposition\"], format=\"%Y-%m-%dT%H:%M:%S\", errors=\"coerce\"\n",
    ")"
   ]
  },
  {
   "cell_type": "markdown",
   "metadata": {},
   "source": [
    "#### Вывод"
   ]
  },
  {
   "cell_type": "markdown",
   "metadata": {},
   "source": [
    "Мы заполнили провуски в `is_apartment` и `balcony` и привели их к целому типу, а также сделали `first_day_exposition` датой."
   ]
  },
  {
   "cell_type": "markdown",
   "metadata": {},
   "source": [
    "### Время размещения публикации"
   ]
  },
  {
   "cell_type": "markdown",
   "metadata": {},
   "source": [
    "Столбец `days_exposition` содержит пропуски, которые, как мы предположили, соответсвуют объявлениям, которые не были сняты в момент выгрузки данных, так что время экспозиции просто не было определно. В выгрузке нет ни одного события, которое бы произошло после 3 мая 2019 года, очевидно, это и есть дата выгрузки данных. При заполнении пропусков следует учитывать, что подставляемое значение должно быть не меньше, чем количество дней между опубликованием и 4 мая 2019, так что простая замена средним (181 день) или медианой (95 дней) не подойдёт"
   ]
  },
  {
   "cell_type": "code",
   "execution_count": 15,
   "metadata": {
    "tags": []
   },
   "outputs": [
    {
     "data": {},
     "execution_count": 15,
     "metadata": {},
     "output_type": "execute_result"
    }
   ],
   "source": [
    "df[\"days_exposition\"].describe()"
   ]
  },
  {
   "cell_type": "markdown",
   "metadata": {},
   "source": [
    "Посмотрим статистику \"незакрытых\" объявлений:"
   ]
  },
  {
   "cell_type": "code",
   "execution_count": 16,
   "metadata": {
    "tags": []
   },
   "outputs": [
    {
     "data": {},
     "execution_count": 16,
     "metadata": {},
     "output_type": "execute_result"
    }
   ],
   "source": [
    "(\n",
    "    datetime(2019, 5, 4) - df[df[\"days_exposition\"].isna()].first_day_exposition\n",
    ").dt.days.describe()"
   ]
  },
  {
   "cell_type": "markdown",
   "metadata": {},
   "source": [
    "Обе величины статистически близки, так что можно заменить экспозицию её нижней оценкой (в предположении, что неснятые объявления были сняты 4 мая 2019)"
   ]
  },
  {
   "cell_type": "code",
   "execution_count": 17,
   "metadata": {},
   "outputs": [],
   "source": [
    "df[\"days_exposition\"] = np.where(\n",
    "    df[\"days_exposition\"].isna(),\n",
    "    (datetime(2019, 5, 4) - df[\"first_day_exposition\"]).dt.days,\n",
    "    df[\"days_exposition\"],\n",
    ")"
   ]
  },
  {
   "cell_type": "code",
   "execution_count": 18,
   "metadata": {},
   "outputs": [
    {
     "data": {},
     "execution_count": 18,
     "metadata": {},
     "output_type": "execute_result"
    }
   ],
   "source": [
    "df[\"days_exposition\"].isna().sum()"
   ]
  },
  {
   "cell_type": "markdown",
   "metadata": {},
   "source": [
    "Можно было бы привести `days_exposition` к `Timedelta`, семантически это совершенно верно, но с целыми оперировать удобнее "
   ]
  },
  {
   "cell_type": "code",
   "execution_count": 19,
   "metadata": {
    "tags": []
   },
   "outputs": [],
   "source": [
    "df[\"days_exposition\"] = df[\"days_exposition\"].astype(\"int\")"
   ]
  },
  {
   "cell_type": "markdown",
   "metadata": {},
   "source": [
    "#### Вывод"
   ]
  },
  {
   "cell_type": "markdown",
   "metadata": {},
   "source": [
    "Мы заполнили пропуски в параметре времени размещения объявлений, но менять тип столбца не стали: дв задачах анализа будет удобнее использовать кличество дннй как целое число, нежели как Timedelta  "
   ]
  },
  {
   "cell_type": "markdown",
   "metadata": {},
   "source": [
    "### Населённый пункт"
   ]
  },
  {
   "cell_type": "markdown",
   "metadata": {},
   "source": [
    "Ещё один более-менее очевидный параметр с пропусками &mdash; населённый пункт. Из общих соображений его заполнить затруднительно. Но есть оин момент: если значение расстояния до центра Санкт-Петербурга известно и не велико (не превышает 12км, как подсказывают нам Яндекс.Карты), можно сделать предположение, что мы имеем дело с квартирой в черте города."
   ]
  },
  {
   "cell_type": "code",
   "execution_count": 20,
   "metadata": {},
   "outputs": [],
   "source": [
    "df[\"locality_name\"] = np.where(\n",
    "    df[\"locality_name\"].isna() & (df[\"cityCenters_nearest\"] < 12_000),\n",
    "    \"Санкт-Петербург\",\n",
    "    df[\"locality_name\"],\n",
    ")"
   ]
  },
  {
   "cell_type": "markdown",
   "metadata": {},
   "source": [
    "Остальные неизвестные наслённые пункты придётся заполнить значением \"Unknown\", поскольку ничего определённого о них мы сказать не можем. Можно и вовсе удалить, ибо объявление о продаже квартиры неизвестно где имеет невысокую ценность."
   ]
  },
  {
   "cell_type": "code",
   "execution_count": 21,
   "metadata": {},
   "outputs": [],
   "source": [
    "df[\"locality_name\"].fillna(\"Unknown\", inplace=True)"
   ]
  },
  {
   "cell_type": "code",
   "execution_count": 22,
   "metadata": {
    "tags": []
   },
   "outputs": [
    {
     "data": {},
     "execution_count": 22,
     "metadata": {},
     "output_type": "execute_result"
    }
   ],
   "source": [
    "df[df[\"locality_name\"] == \"Unknown\"].shape[0], df[\"locality_name\"].isna().sum()"
   ]
  },
  {
   "cell_type": "markdown",
   "metadata": {},
   "source": [
    "#### Вывод"
   ]
  },
  {
   "cell_type": "markdown",
   "metadata": {},
   "source": [
    "По мере возможности, постарались разрешить неопределённость в населённом пункте: для квартир близких центру города был занан в качестве населённого пункта \"Санкт-Петербург\", для остальных &mdash; \"Unknown\". "
   ]
  },
  {
   "cell_type": "markdown",
   "metadata": {},
   "source": [
    "### Высота потолка"
   ]
  },
  {
   "cell_type": "markdown",
   "metadata": {},
   "source": [
    "Важный параметр квартир с большим числом пропусков &mdash; высота потолков. Помимо пропусков, здесь имеются ещё и странные выбросы: трудно себе представить жилые помещения с высотой потолков в 1 или 100 метров, это явно ошибочные значения. Изучим их подробнее:"
   ]
  },
  {
   "cell_type": "code",
   "execution_count": 23,
   "metadata": {
    "tags": []
   },
   "outputs": [
    {
     "data": {},
     "execution_count": 23,
     "metadata": {},
     "output_type": "execute_result"
    }
   ],
   "source": [
    "df[df[\"ceiling_height\"] < 2.4]"
   ]
  },
  {
   "cell_type": "markdown",
   "metadata": {
    "tags": []
   },
   "source": [
    "Обычно, высота потолков в \"хрущёвках\" начинается от 2,4-2,45м. Можно допустить некоторое уменьшение высоты за счёт использования натяжных потолков и покрытий пола, допустим, до 2,3м. Но значения 2м и меньше кажутся очень странными (соответсвуют ли они вообще нормам для жилой недвижимости?). Так же было бы логично предположить связь между высотой потолков и удельной ценой квартиры: традиционно бюджетное жильё имеет невысокие потолки в пределах 2,7-2,8м, тогда как в бизне-классе потолки бывают и 3,5-4м. \n",
    "\n",
    "Это подтверждается и диаграммой рассеяния в пространстве \"высота потолков\"-\"цена квадратного метра\"  "
   ]
  },
  {
   "cell_type": "code",
   "execution_count": 24,
   "metadata": {},
   "outputs": [],
   "source": [
    "df[\"m2_price\"] = df[\"last_price\"] / df[\"total_area\"]"
   ]
  },
  {
   "cell_type": "code",
   "execution_count": 25,
   "metadata": {},
   "outputs": [
    {
     "data": {
      "image/png": "[encoded data removed]"
     },
     "metadata": {
      "needs_background": "light"
     },
     "output_type": "display_data"
    }
   ],
   "source": [
    "fig, ax = plt.subplots(1, 2, figsize=(24, 8), sharey=True)\n",
    "\n",
    "sns.scatterplot(\n",
    "    ax=ax[0], data=df[df[\"ceiling_height\"] < 10], x=\"ceiling_height\", y=\"m2_price\"\n",
    ")\n",
    "ax[0].set_title(\"Зависимость цены квадратного метра от высоты потолков (менее 10 м)\")\n",
    "ax[0].set_xlabel(\"Высота потолков\")\n",
    "ax[0].set_ylabel(\"Цена за м²\")\n",
    "\n",
    "sns.scatterplot(\n",
    "    ax=ax[1], data=df[df[\"ceiling_height\"] < 100], x=\"ceiling_height\", y=\"m2_price\"\n",
    ")\n",
    "ax[1].set_title(\"Зависимость цены квадратного метра от высоты потолков (менее 100 м)\")\n",
    "ax[1].set_xlabel(\"Высота потолков\")\n",
    "ax[1].set_ylabel(\"Цена за м²\");"
   ]
  },
  {
   "cell_type": "markdown",
   "metadata": {},
   "source": [
    "На диаграмме видно, что объявления с высотой потолка 2м и меньше, а также с высотой  больше 4,5м находятся в стороне от общей сравнительно плотной группы точек.\n",
    "\n",
    "На основании этого, будем считать подобные значения выбросами и исключим из вычисления медианы. Сами же величины сохраним, возможно, они будут полезными признаками при анализе."
   ]
  },
  {
   "cell_type": "code",
   "execution_count": 26,
   "metadata": {},
   "outputs": [
    {
     "data": {},
     "execution_count": 26,
     "metadata": {},
     "output_type": "execute_result"
    }
   ],
   "source": [
    "df.loc[\n",
    "    (df[\"ceiling_height\"] > 2) & (df[\"ceiling_height\"] <= 4.5), \"ceiling_height\"\n",
    "].describe()"
   ]
  },
  {
   "cell_type": "markdown",
   "metadata": {},
   "source": [
    "Медианное значение высоты потолка вполне согласуется со здравым смыслом и стандартное отклонение не велико. Остаётся заполнить пропуски:"
   ]
  },
  {
   "cell_type": "code",
   "execution_count": 27,
   "metadata": {},
   "outputs": [
    {
     "data": {},
     "execution_count": 27,
     "metadata": {},
     "output_type": "execute_result"
    }
   ],
   "source": [
    "df[\"ceiling_height\"].fillna(\n",
    "    df[(df[\"ceiling_height\"] > 2) & (df[\"ceiling_height\"] <= 4.5)][\n",
    "        \"ceiling_height\"\n",
    "    ].median(),\n",
    "    inplace=True,\n",
    ")\n",
    "df[\"ceiling_height\"].isna().sum()"
   ]
  },
  {
   "cell_type": "markdown",
   "metadata": {},
   "source": [
    "#### Вывод"
   ]
  },
  {
   "cell_type": "markdown",
   "metadata": {},
   "source": [
    "Мы заполнили пропуски в значения высот потолков, но выявили и аномально высокие и аномально низкие потолки. Заметив эту особенность, оставили её для дальнейшего анализа."
   ]
  },
  {
   "cell_type": "markdown",
   "metadata": {},
   "source": [
    "### Соотношения площадей недвижимости"
   ]
  },
  {
   "cell_type": "markdown",
   "metadata": {},
   "source": [
    "Важные параметры жилого объекта &mdash; соотношение общей площади, жилой площади и кухни. Если с первой всё, кажется. в порядке, то два других параметра имеют пропуски."
   ]
  },
  {
   "cell_type": "code",
   "execution_count": 28,
   "metadata": {},
   "outputs": [
    {
     "data": {},
     "execution_count": 28,
     "metadata": {},
     "output_type": "execute_result"
    }
   ],
   "source": [
    "(\n",
    "    df[df[\"living_area\"].isna() & df[\"kitchen_area\"].isna()].shape[0],\n",
    "    df[\n",
    "        (df[\"living_area\"].isna() & ~df[\"kitchen_area\"].isna())\n",
    "        | (~df[\"living_area\"].isna() & df[\"kitchen_area\"].isna())\n",
    "    ].shape[0],\n",
    ")"
   ]
  },
  {
   "cell_type": "markdown",
   "metadata": {},
   "source": [
    "Т.е. в 1464 случаях пропущены и жилая площадь и площадь кухни и в 1253 случаях пропущено одно из двух значений. Как видно, пропусков много, что не похоже на случайны выпадения. Скорее определённая категория продавцов квартир осознанно не заполняет эти поля. То ли потому, что не знают точных велечин, то ли желая их скрыть.  \n",
    "\n",
    "Рассчитаем такие показатели как отношение жилой площади к общей, а также площади кухни к общей площади квартиры: "
   ]
  },
  {
   "cell_type": "code",
   "execution_count": 29,
   "metadata": {},
   "outputs": [
    {
     "data": {},
     "execution_count": 29,
     "metadata": {},
     "output_type": "execute_result"
    }
   ],
   "source": [
    "df[\"living_area_ratio\"] = df[\"living_area\"] / df[\"total_area\"]\n",
    "df[\"living_area_ratio\"].describe()"
   ]
  },
  {
   "cell_type": "markdown",
   "metadata": {},
   "source": [
    "Отношение жилой площади к полной выглядит устойчивым: среднекавадратичное отклонение существенно меньше среднего. Более того, среднее и медиана весьма близки, что указывает на распределение, близкое к нормальному"
   ]
  },
  {
   "cell_type": "code",
   "execution_count": 30,
   "metadata": {},
   "outputs": [
    {
     "data": {
      "image/png": "[encoded data removed]"
     },
     "metadata": {
      "needs_background": "light"
     },
     "output_type": "display_data"
    }
   ],
   "source": [
    "sns.histplot(data=df, x=\"living_area_ratio\").set_xlabel(\n",
    "    \"Отношение жилой площади к общей\"\n",
    ");"
   ]
  },
  {
   "cell_type": "markdown",
   "metadata": {},
   "source": [
    "В принципе, если будет необходимость заполнять пропуски в жилой площади, то можно воспользоваться медианой этого отношения.\n",
    "\n",
    "Вычислим и отношение площади кухни к общей площади:"
   ]
  },
  {
   "cell_type": "code",
   "execution_count": 31,
   "metadata": {},
   "outputs": [
    {
     "data": {},
     "execution_count": 31,
     "metadata": {},
     "output_type": "execute_result"
    }
   ],
   "source": [
    "df[\"kitchen_area_ratio\"] = df[\"kitchen_area\"] / df[\"total_area\"]\n",
    "df[\"kitchen_area_ratio\"].describe()"
   ]
  },
  {
   "cell_type": "code",
   "execution_count": 32,
   "metadata": {},
   "outputs": [
    {
     "data": {
      "image/png": "[encoded data removed]"
     },
     "metadata": {
      "needs_background": "light"
     },
     "output_type": "display_data"
    }
   ],
   "source": [
    "sns.histplot(data=df, x=\"kitchen_area_ratio\").set_xlabel(\n",
    "    \"Отношение площади кухни к общей\"\n",
    ");"
   ]
  },
  {
   "cell_type": "markdown",
   "metadata": {},
   "source": [
    "Видно, что это распределнение уже не очень похоже на гауссовское, да ещё имеет признаки двумодальности (видимо, у квартир разной площади разная доля приходится на кухню). "
   ]
  },
  {
   "cell_type": "markdown",
   "metadata": {},
   "source": [
    "Ещё одним полезным показателем может быть отношение площади кухни к нежилой площади квартиры:"
   ]
  },
  {
   "cell_type": "code",
   "execution_count": 33,
   "metadata": {
    "tags": []
   },
   "outputs": [
    {
     "data": {},
     "execution_count": 33,
     "metadata": {},
     "output_type": "execute_result"
    }
   ],
   "source": [
    "df[\"kitchen_to_non_living_area_ratio\"] = df[\"kitchen_area\"] / (\n",
    "    df[\"total_area\"] - df[\"living_area\"]\n",
    ")\n",
    "df[\"kitchen_to_non_living_area_ratio\"].describe()"
   ]
  },
  {
   "cell_type": "markdown",
   "metadata": {},
   "source": [
    "Очень интересно: существуют квартиры у которых площадь кухни **в разы** больше нежилой площади. Как так?!"
   ]
  },
  {
   "cell_type": "code",
   "execution_count": 34,
   "metadata": {},
   "outputs": [
    {
     "data": {},
     "execution_count": 34,
     "metadata": {},
     "output_type": "execute_result"
    }
   ],
   "source": [
    "df.loc[\n",
    "    df[\"kitchen_to_non_living_area_ratio\"] >= 1, \"kitchen_to_non_living_area_ratio\"\n",
    "].describe()"
   ]
  },
  {
   "cell_type": "markdown",
   "metadata": {},
   "source": [
    "Подобных объявлений нашлось 129 штук и выглядят они весьма подозрительно"
   ]
  },
  {
   "cell_type": "markdown",
   "metadata": {},
   "source": [
    "#### Вывод"
   ]
  },
  {
   "cell_type": "markdown",
   "metadata": {},
   "source": [
    "Вычислили полезные параметры \"отношеие жилой площади к общей\", \"отношение площади кухни к общей\" и \"отношение площади кухни к нежилой\". \n",
    "\n",
    "Это, в частности, позволило выявить неочевидные странности в данных: у ряда квартир площадь кухни больше площади нежилых помещений, что абсурдно. Тут на лицо ошибка, либо обман."
   ]
  },
  {
   "cell_type": "markdown",
   "metadata": {
    "tags": []
   },
   "source": [
    "### Этажность"
   ]
  },
  {
   "cell_type": "markdown",
   "metadata": {},
   "source": [
    "Ещё один существенный показатель, описывающий квартиру &mdash; её этаж. Причём, он важен не только сам по себе, но и в соотношении с этажностью дома: для многих нежелательными, а то и неприемлемыми являются варианты первого и последнего этажей. Если в номерах этажей (`floor`) пропусков нет, то во `floors_total` пропуски имеются, хотя и не много: 86\n",
    "\n",
    "Посмотрим этажность представленную в данных и этажи в домах с неизвестной этажностью.  "
   ]
  },
  {
   "cell_type": "code",
   "execution_count": 35,
   "metadata": {
    "tags": []
   },
   "outputs": [
    {
     "data": {},
     "execution_count": 35,
     "metadata": {},
     "output_type": "execute_result"
    }
   ],
   "source": [
    "df.loc[~df[\"floors_total\"].isna(), \"floor\"].describe()  # .value_counts()"
   ]
  },
  {
   "cell_type": "code",
   "execution_count": 36,
   "metadata": {},
   "outputs": [
    {
     "data": {},
     "execution_count": 36,
     "metadata": {},
     "output_type": "execute_result"
    }
   ],
   "source": [
    "df.loc[df[\"floors_total\"].isna(), \"floor\"].describe()"
   ]
  },
  {
   "cell_type": "markdown",
   "metadata": {
    "tags": []
   },
   "source": [
    "Видно, что распределения квартир в домах с известной и с неизвестной этажностью сильно различаются: судя по среднему в первом случае средний этаж чуть более 5, видимо, большинство квартир первой группы &mdash; \"хрущёвки\", тогда как у второй группы среднее равно 10. "
   ]
  },
  {
   "cell_type": "markdown",
   "metadata": {
    "tags": []
   },
   "source": [
    "С другой стороны интересно, что это распределение совпадает с распределением домов по этажности: "
   ]
  },
  {
   "cell_type": "code",
   "execution_count": 37,
   "metadata": {},
   "outputs": [
    {
     "data": {},
     "execution_count": 37,
     "metadata": {},
     "output_type": "execute_result"
    }
   ],
   "source": [
    "df[\"floors_total\"].describe()"
   ]
  },
  {
   "cell_type": "markdown",
   "metadata": {},
   "source": [
    "Это даёт основание предположить, что неуказанная этажность означает, что продавцы квартир пытались скрыть факт, что это последний этаж. На основание этого предположения можно заполнить пропуски:"
   ]
  },
  {
   "cell_type": "code",
   "execution_count": 38,
   "metadata": {},
   "outputs": [
    {
     "data": {},
     "execution_count": 38,
     "metadata": {},
     "output_type": "execute_result"
    }
   ],
   "source": [
    "df[\"floors_total\"] = np.where(\n",
    "    df[\"floors_total\"].isna(), df[\"floor\"], df[\"floors_total\"]\n",
    ")\n",
    "\n",
    "df[\"floors_total\"].isna().sum()"
   ]
  },
  {
   "cell_type": "markdown",
   "metadata": {},
   "source": [
    "За одно приведём тип столбца к целому:"
   ]
  },
  {
   "cell_type": "code",
   "execution_count": 39,
   "metadata": {},
   "outputs": [],
   "source": [
    "df[\"floors_total\"] = df[\"floors_total\"].astype(\"int\")"
   ]
  },
  {
   "cell_type": "markdown",
   "metadata": {},
   "source": [
    "#### Вывод"
   ]
  },
  {
   "cell_type": "markdown",
   "metadata": {},
   "source": [
    "Мы заполнили пропущенную этажность домов в объявлениях, предположив, что авторы объявлений пытались скрыть, что квартира находится на последнем этаже. Тип этажности дома приведён к целому."
   ]
  },
  {
   "cell_type": "markdown",
   "metadata": {},
   "source": [
    "### Расстояние до центра Санкт-Петербурга и аэропорта"
   ]
  },
  {
   "cell_type": "markdown",
   "metadata": {},
   "source": [
    "Рассмотрим такие географические параметры, предоставляемые Яндексом, как `airports_nearest`, `cityCenters_nearest`, `ponds_nearest`, `ponds_around3000`, `parks_nearest`, `parks_around3000`. Начнём с первых двух.\n",
    "\n",
    "Видно, что количество пропусков довольно близко. "
   ]
  },
  {
   "cell_type": "markdown",
   "metadata": {},
   "source": [
    "Если посмотреть на максимальные значения расстояний до аэропорта и центра Санкт-Петербурга, то они весьма велики:"
   ]
  },
  {
   "cell_type": "code",
   "execution_count": 40,
   "metadata": {},
   "outputs": [
    {
     "data": {},
     "execution_count": 40,
     "metadata": {},
     "output_type": "execute_result"
    }
   ],
   "source": [
    "df.cityCenters_nearest.max(), df.airports_nearest.max()"
   ]
  },
  {
   "cell_type": "markdown",
   "metadata": {},
   "source": [
    "Очевидно, что ограничений по расстоянию нет, как в случае ближайших парков и водоёмов (см. раздел \"Праки и пруды\"). Для удобства дальнейшего анализа введём новый признак: `cityCenters_defined`, который принимает значение `False`, если `cityCenters_nearest` не определено (`NaN`) и `True` &mdash; для определённых значений."
   ]
  },
  {
   "cell_type": "code",
   "execution_count": 41,
   "metadata": {},
   "outputs": [],
   "source": [
    "df[\"cityCenters_defined\"] = np.where(df[\"cityCenters_nearest\"].isna(), False, True)"
   ]
  },
  {
   "cell_type": "markdown",
   "metadata": {},
   "source": [
    "Создадим сводную таблицу, в которой для разных населённых пунктов будем подсчитывать количество объявлений с определённым и неопределённым расстоянием до центра Санкт-Петербурга:"
   ]
  },
  {
   "cell_type": "code",
   "execution_count": 42,
   "metadata": {},
   "outputs": [],
   "source": [
    "locality_unknown_geo = df[\n",
    "    [\"total_images\", \"locality_name\", \"cityCenters_defined\"]\n",
    "].pivot_table(\n",
    "    index=\"locality_name\", columns=\"cityCenters_defined\", aggfunc=\"count\", fill_value=0\n",
    ")"
   ]
  },
  {
   "cell_type": "markdown",
   "metadata": {},
   "source": [
    "Видно, что есть довольно много населённых пунктов, для которых вообще нет ни одного объявления с известным расстоянием до центра СПб"
   ]
  },
  {
   "cell_type": "code",
   "execution_count": 43,
   "metadata": {
    "tags": []
   },
   "outputs": [
    {
     "data": {},
     "execution_count": 43,
     "metadata": {},
     "output_type": "execute_result"
    }
   ],
   "source": [
    "locality_unknown_geo[\n",
    "    (locality_unknown_geo[\"total_images\"][True] == 0)\n",
    "    & (locality_unknown_geo[\"total_images\"][False] > 0)\n",
    "]"
   ]
  },
  {
   "cell_type": "markdown",
   "metadata": {},
   "source": [
    "Эта неопределённость затрагивает 5386 объявлений"
   ]
  },
  {
   "cell_type": "code",
   "execution_count": 44,
   "metadata": {},
   "outputs": [
    {
     "data": {},
     "execution_count": 44,
     "metadata": {},
     "output_type": "execute_result"
    }
   ],
   "source": [
    "locality_unknown_geo[\n",
    "    (locality_unknown_geo[\"total_images\"][True] == 0)\n",
    "    & (locality_unknown_geo[\"total_images\"][False] > 0)\n",
    "][\"total_images\"][False].sum()"
   ]
  },
  {
   "cell_type": "markdown",
   "metadata": {},
   "source": [
    "Похоже, у Яндекса просто нет данных об этих населённых пунктах. В теории, можно было бы воспользоваться справочниками, чтобы восстановить недостающие данные хотя бы приблизительно: как кратчайшее расстояние между центрами СПб и этих населённых пунктов. Но это будет непростое дело: нужно извлечь информацию о 336 населённых пункта. Возможно, это задача для команды Data Engineers.\n",
    "\n",
    "Сейчас же перед нами стоит задача заполнить пропуски и привести столбцы к адекватным типам, чему мешают пропуски. В данной ситуации мы можем воспользоваться заполнителем в виде \"невозможного\" значения, например -1 (и расстояния и количества объектов должны быть неотрицательными), которое будет аналогом \"Unknown\" для названий населённых пунктов. Этот заполнитель можно применить и к параметрам `cityCenters_nearest`, `airports_nearest`, а также к `ponds_nearest`, `ponds_around3000`, `parks_nearest`,`parks_around3000`. "
   ]
  },
  {
   "cell_type": "markdown",
   "metadata": {},
   "source": [
    "Легко убедиться, что, если не известно расстояние до аэропорта и центра СПб, не известно и всё остальное:"
   ]
  },
  {
   "cell_type": "code",
   "execution_count": 45,
   "metadata": {},
   "outputs": [
    {
     "data": {},
     "execution_count": 45,
     "metadata": {},
     "output_type": "execute_result"
    }
   ],
   "source": [
    "df[\n",
    "    df[\"cityCenters_nearest\"].isna()\n",
    "    & df[\"airports_nearest\"].isna()\n",
    "    & (\n",
    "        ~df[\"ponds_nearest\"].isna()\n",
    "        | ~df[\"ponds_around3000\"].isna()\n",
    "        | ~df[\"parks_nearest\"].isna()\n",
    "        | ~df[\"parks_around3000\"].isna()\n",
    "    )\n",
    "].shape[0]"
   ]
  },
  {
   "cell_type": "markdown",
   "metadata": {},
   "source": [
    "Эти пропуски (во всех 6 столбцах) заполним нашим заполнителем -1:"
   ]
  },
  {
   "cell_type": "code",
   "execution_count": 46,
   "metadata": {},
   "outputs": [
    {
     "data": {},
     "execution_count": 46,
     "metadata": {},
     "output_type": "execute_result"
    }
   ],
   "source": [
    "df.loc[\n",
    "    df[\"cityCenters_nearest\"].isna() & df[\"airports_nearest\"].isna(),\n",
    "    [\n",
    "        \"cityCenters_nearest\",\n",
    "        \"airports_nearest\",\n",
    "        \"ponds_nearest\",\n",
    "        \"ponds_around3000\",\n",
    "        \"parks_nearest\",\n",
    "        \"parks_around3000\",\n",
    "    ],\n",
    "] = -1\n",
    "\n",
    "df[df[\"cityCenters_nearest\"].isna() & df[\"airports_nearest\"].isna()].shape[0]"
   ]
  },
  {
   "cell_type": "code",
   "execution_count": 47,
   "metadata": {
    "tags": []
   },
   "outputs": [
    {
     "data": {},
     "execution_count": 47,
     "metadata": {},
     "output_type": "execute_result"
    }
   ],
   "source": [
    "(\n",
    "    df[df[\"cityCenters_nearest\"].isna() & ~df[\"airports_nearest\"].isna()].shape[0],\n",
    "    df[~df[\"cityCenters_nearest\"].isna() & df[\"airports_nearest\"].isna()].shape[0],\n",
    ")"
   ]
  },
  {
   "cell_type": "markdown",
   "metadata": {},
   "source": [
    "Есть несколько объявлений (все в СПб) для которых не известно либо расстояние до центра города, либо расстояние до аэропорта (1 и 24 шт, соответственно). При этом остальные географические параметры определены. Их немногочисленность наводит на мысль о сбое. Для этих объявлений заполним пропуски в расстояниях `cityCenters_nearest` и `airports_nearest` значением -1, но оставим без изменений остальные параметры."
   ]
  },
  {
   "cell_type": "code",
   "execution_count": 48,
   "metadata": {},
   "outputs": [],
   "source": [
    "df.loc[\n",
    "    df[\"cityCenters_nearest\"].isna() & ~df[\"airports_nearest\"].isna(),\n",
    "    \"cityCenters_nearest\",\n",
    "] = -1\n",
    "df.loc[\n",
    "    ~df[\"cityCenters_nearest\"].isna() & df[\"airports_nearest\"].isna(),\n",
    "    \"airports_nearest\",\n",
    "] = -1"
   ]
  },
  {
   "cell_type": "code",
   "execution_count": 49,
   "metadata": {
    "tags": []
   },
   "outputs": [
    {
     "data": {},
     "execution_count": 49,
     "metadata": {},
     "output_type": "execute_result"
    }
   ],
   "source": [
    "df[[\"cityCenters_nearest\", \"airports_nearest\"]].isna().sum()"
   ]
  },
  {
   "cell_type": "markdown",
   "metadata": {},
   "source": [
    "Мы заполнили все пропуски и можем привести столбцы к целочисленному виду: все расстояния даны с точностью до километра:"
   ]
  },
  {
   "cell_type": "code",
   "execution_count": 50,
   "metadata": {},
   "outputs": [],
   "source": [
    "df[[\"cityCenters_nearest\", \"airports_nearest\"]] = df[\n",
    "    [\"cityCenters_nearest\", \"airports_nearest\"]\n",
    "].astype(\"int\")"
   ]
  },
  {
   "cell_type": "markdown",
   "metadata": {},
   "source": [
    "#### Вывод"
   ]
  },
  {
   "cell_type": "markdown",
   "metadata": {},
   "source": [
    "Мы столкнулись с ситуацией, когда не можем заполнить пропуски в географической информации какими-то осмысленными значениями. Поэтому мы ввели заполнитель смысла \"Unknown\", которйы будет просто сигнализировать, что значение не определено. Такая замена позволила нам исправить типы столбцов на целые."
   ]
  },
  {
   "cell_type": "markdown",
   "metadata": {},
   "source": [
    "### Парки и пруды\n",
    "\n",
    "Рассмотрим теперь данные, касающихся окрестных парков и прудов: `parks_nearest`, `ponds_nearest` и `parks_around3000`, `ponds_around3000`."
   ]
  },
  {
   "cell_type": "markdown",
   "metadata": {},
   "source": [
    "Легко видеть, что там, где нет сведений о расстоянии до ближайшего объекта, нет и количества объектов в 3 км вокруг квартиры:"
   ]
  },
  {
   "cell_type": "code",
   "execution_count": 51,
   "metadata": {},
   "outputs": [
    {
     "data": {},
     "execution_count": 51,
     "metadata": {},
     "output_type": "execute_result"
    }
   ],
   "source": [
    "(\n",
    "    df[~df[\"parks_nearest\"].isna() & df[\"parks_around3000\"].isna()].shape[0],\n",
    "    df[~df[\"ponds_nearest\"].isna() & df[\"ponds_around3000\"].isna()].shape[0],\n",
    ")"
   ]
  },
  {
   "cell_type": "markdown",
   "metadata": {},
   "source": [
    "С другой стороны, есть ситуации, когда количество прудов и парков в 3-км окрестности определено (не NaN), но расстояние до ближайшего не определено:"
   ]
  },
  {
   "cell_type": "code",
   "execution_count": 52,
   "metadata": {},
   "outputs": [
    {
     "data": {},
     "execution_count": 52,
     "metadata": {},
     "output_type": "execute_result"
    }
   ],
   "source": [
    "(\n",
    "    df[df[\"parks_nearest\"].isna() & ~df[\"parks_around3000\"].isna()].shape[0],\n",
    "    df[df[\"ponds_nearest\"].isna() & ~df[\"ponds_around3000\"].isna()].shape[0],\n",
    ")"
   ]
  },
  {
   "cell_type": "markdown",
   "metadata": {},
   "source": [
    "Видно, что все эти случаи соответствуют ситуации, когда в 3-км окрестности объектов нет:"
   ]
  },
  {
   "cell_type": "code",
   "execution_count": 53,
   "metadata": {},
   "outputs": [
    {
     "data": {},
     "execution_count": 53,
     "metadata": {},
     "output_type": "execute_result"
    }
   ],
   "source": [
    "(\n",
    "    df[df[\"parks_nearest\"].isna() & (df[\"parks_around3000\"] == 0)].shape[0],\n",
    "    df[df[\"ponds_nearest\"].isna() & (df[\"ponds_around3000\"] == 0)].shape[0],\n",
    ")"
   ]
  },
  {
   "cell_type": "code",
   "execution_count": 54,
   "metadata": {},
   "outputs": [
    {
     "data": {},
     "execution_count": 54,
     "metadata": {},
     "output_type": "execute_result"
    }
   ],
   "source": [
    "df[\"parks_nearest\"].max(), df[\"ponds_nearest\"].max()"
   ]
  },
  {
   "cell_type": "markdown",
   "metadata": {},
   "source": [
    "Похоже, если расстояние до ближайшего объекта известно и превышает 3 км (или чуть больше), то параметры `parks_nearest`, `ponds_nearest` не передаются. В таком случае для заполнения пропусков можно использовать число-заполнитель заведомо больше порога, положенного Яндексом. Например, 10 000 м или `np.inf`. Недостатком второго варианта является то, что `np.inf` &mdash; это вещественное значение, которое не удастся в дальнейшем привести к целому типу.\n",
    "\n",
    "Таким образом у параметров `ponds_nearest` и `parks_nearest` будет два заполнителя с разным смыслами: 10 000 указывает, что расстояние известно, но слишком велико, а `-1` &mdash; что расстояние не известно (может озачать и \"парк под окнами\" и \"ближайший парк в соседнем городе\")."
   ]
  },
  {
   "cell_type": "code",
   "execution_count": 55,
   "metadata": {},
   "outputs": [
    {
     "data": {},
     "execution_count": 55,
     "metadata": {},
     "output_type": "execute_result"
    }
   ],
   "source": [
    "df[\n",
    "    [\"parks_nearest\", \"ponds_nearest\", \"parks_around3000\", \"ponds_around3000\"]\n",
    "].isna().sum()"
   ]
  },
  {
   "cell_type": "code",
   "execution_count": 56,
   "metadata": {},
   "outputs": [],
   "source": [
    "df[\"parks_nearest\"] = np.where(df[\"parks_around3000\"] == 0, 10_000, df[\"parks_nearest\"])\n",
    "df[\"ponds_nearest\"] = np.where(df[\"ponds_around3000\"] == 0, 10_000, df[\"ponds_nearest\"])"
   ]
  },
  {
   "cell_type": "code",
   "execution_count": 57,
   "metadata": {},
   "outputs": [
    {
     "data": {},
     "execution_count": 57,
     "metadata": {},
     "output_type": "execute_result"
    }
   ],
   "source": [
    "df[\n",
    "    [\"parks_nearest\", \"ponds_nearest\", \"parks_around3000\", \"ponds_around3000\"]\n",
    "].isna().sum()"
   ]
  },
  {
   "cell_type": "markdown",
   "metadata": {},
   "source": [
    "Теперь, когда все пропуски заполнены, мы можем привести признаки `parks_nearest`, `ponds_nearest`, `parks_around3000` и `ponds_around3000` к целому виду: количество парков/прудов не может быть вещественным по смыслу, а расстояния до ближайших объектов измеряется всюду в целых метрах."
   ]
  },
  {
   "cell_type": "code",
   "execution_count": 58,
   "metadata": {},
   "outputs": [],
   "source": [
    "df = df.astype(\n",
    "    {\n",
    "        \"parks_around3000\": \"int\",\n",
    "        \"ponds_around3000\": \"int\",\n",
    "        \"parks_nearest\": \"int\",\n",
    "        \"ponds_nearest\": \"int\",\n",
    "    }\n",
    ")"
   ]
  },
  {
   "cell_type": "code",
   "execution_count": 59,
   "metadata": {},
   "outputs": [
    {
     "data": {},
     "execution_count": 59,
     "metadata": {},
     "output_type": "execute_result"
    }
   ],
   "source": [
    "df.dtypes"
   ]
  },
  {
   "cell_type": "markdown",
   "metadata": {},
   "source": [
    "#### Вывод"
   ]
  },
  {
   "cell_type": "markdown",
   "metadata": {},
   "source": [
    "Мы заполнили все пропуски, какие смогли и присвоили всем столбцам таблицы осмысленные типы. Теперь рассчитаем ряд полезных параметров квартир, которые помогут дальнейшему анализу"
   ]
  },
  {
   "cell_type": "markdown",
   "metadata": {},
   "source": [
    "## Расчёты и добавление результатов в таблицу"
   ]
  },
  {
   "cell_type": "markdown",
   "metadata": {},
   "source": [
    "Мы уже добавили в таблицу такие столбцы как `m2_price` (цена квадратного метра) см. раздел \"высота потолка\", `living_area_ratio` (отношение жилой площади к общей), `kitchen_area_ratio` (отношение площади кухни к общей), `kitchen_to_non_living_area_ratio` (отношение площади кухни к площади нежилых помещений) в разделе \"Соотношения площадей недвижимости\".\n",
    "\n"
   ]
  },
  {
   "cell_type": "markdown",
   "metadata": {},
   "source": [
    "Развернём в отдельные колонки данные о датах покупки: дне недели, месяце и годе публикации, а также превратим информацию об этаже в категорию: первый, последний, другой."
   ]
  },
  {
   "cell_type": "code",
   "execution_count": 60,
   "metadata": {},
   "outputs": [],
   "source": [
    "df[\"first_day_exposition_weekday\"] = df[\"first_day_exposition\"].dt.weekday\n",
    "df[\"first_day_exposition_month\"] = df[\"first_day_exposition\"].dt.month\n",
    "df[\"first_day_exposition_year\"] = df[\"first_day_exposition\"].dt.year"
   ]
  },
  {
   "cell_type": "markdown",
   "metadata": {},
   "source": [
    "С категоризацией этажа имеется небольшая неопределённость: единственный этаж одноэтажного дома считать первым или последним? К счастью, это не принципиально с учётом мизерности выборки"
   ]
  },
  {
   "cell_type": "code",
   "execution_count": 61,
   "metadata": {},
   "outputs": [
    {
     "data": {},
     "execution_count": 61,
     "metadata": {},
     "output_type": "execute_result"
    }
   ],
   "source": [
    "df[df[\"floors_total\"] == 1].shape[0]"
   ]
  },
  {
   "cell_type": "code",
   "execution_count": 62,
   "metadata": {},
   "outputs": [
    {
     "data": {},
     "execution_count": 62,
     "metadata": {},
     "output_type": "execute_result"
    }
   ],
   "source": [
    "df[\"floor_category\"] = \"другой\"\n",
    "df[\"floor_category\"] = np.where(\n",
    "    df[\"floors_total\"] == df[\"floor\"], \"последний\", df[\"floor_category\"]\n",
    ")\n",
    "df[\"floor_category\"] = np.where(df[\"floor\"] == 1, \"первый\", df[\"floor_category\"])\n",
    "df[\"floor_category\"].value_counts()"
   ]
  },
  {
   "cell_type": "markdown",
   "metadata": {},
   "source": [
    "Приведём новую колонку к категориальному виду:"
   ]
  },
  {
   "cell_type": "code",
   "execution_count": 63,
   "metadata": {},
   "outputs": [
    {
     "data": {},
     "execution_count": 63,
     "metadata": {},
     "output_type": "execute_result"
    }
   ],
   "source": [
    "floor_category = pd.api.types.CategoricalDtype(\n",
    "    categories=[\"первый\", \"другой\", \"последний\"], ordered=True\n",
    ")\n",
    "df[\"floor_category\"] = df[\"floor_category\"].astype(floor_category)\n",
    "df[\"floor_category\"].head()"
   ]
  },
  {
   "cell_type": "markdown",
   "metadata": {},
   "source": [
    "### Вывод"
   ]
  },
  {
   "cell_type": "markdown",
   "metadata": {},
   "source": [
    "Мы вывели в отдельные колонки информацию о днях недели, месяцах и годах, в которые были опубликованы объявления для целей дальнейшего анализа. Также мы создали категорию связанную с этажём, на котором расположена квартира: первый, другой, последний. "
   ]
  },
  {
   "cell_type": "markdown",
   "metadata": {},
   "source": [
    "## Исследовательский анализ данных"
   ]
  },
  {
   "cell_type": "markdown",
   "metadata": {},
   "source": [
    "### Параметры квартир"
   ]
  },
  {
   "cell_type": "markdown",
   "metadata": {},
   "source": [
    "Исследуем для начала такие ключевые признаки недвижимости как площадь, цена, число комнат, высота потолков"
   ]
  },
  {
   "cell_type": "code",
   "execution_count": 64,
   "metadata": {},
   "outputs": [
    {
     "data": {
      "image/png": "[encoded data removed]"
     },
     "metadata": {
      "needs_background": "light"
     },
     "output_type": "display_data"
    }
   ],
   "source": [
    "ax = sns.histplot(data=df, x=\"total_area\", binwidth=30)\n",
    "ax.set_xlabel(\"Общая площадь квартиры, м²\")\n",
    "ax.set_ylabel(\"Количество предложений\");"
   ]
  },
  {
   "cell_type": "markdown",
   "metadata": {},
   "source": [
    "Разброс цен весьма велик, немногочисленная группа особо дорогих квартир смазывают всю картину, так что сделаем два графика: один отображает всю картину, прижимая недорогое большинство к началу координат и более подробный график для большинства"
   ]
  },
  {
   "cell_type": "code",
   "execution_count": 65,
   "metadata": {},
   "outputs": [
    {
     "data": {
      "image/png": "[encoded data removed]"
     },
     "metadata": {
      "needs_background": "light"
     },
     "output_type": "display_data"
    }
   ],
   "source": [
    "fig, ax = plt.subplots(1, 2, figsize=(24, 8), sharey=True)\n",
    "\n",
    "sns.histplot(ax=ax[0], data=df, x=\"last_price\")\n",
    "ax[0].set_xlabel(\"Цена квартиры (полный диапазон цен)\")\n",
    "ax[0].set_ylabel(\"Количество предложений\")\n",
    "\n",
    "sns.histplot(ax=ax[1], data=df[df[\"last_price\"] < 3e7], x=\"last_price\")\n",
    "ax[1].set_xlabel(\"Цена квартиры (в пределах 30 млн. р)\")\n",
    "ax[1].set_ylabel(\"Количество предложений\");"
   ]
  },
  {
   "cell_type": "code",
   "execution_count": 66,
   "metadata": {},
   "outputs": [
    {
     "data": {
      "image/png": "[encoded data removed]"
     },
     "metadata": {
      "needs_background": "light"
     },
     "output_type": "display_data"
    }
   ],
   "source": [
    "ax = sns.histplot(data=df, x=\"rooms\", binwidth=1)\n",
    "ax.set_xlabel(\"Количество комнат\")\n",
    "ax.set_ylabel(\"Количество предложений\");"
   ]
  },
  {
   "cell_type": "markdown",
   "metadata": {},
   "source": [
    "Все три графика выглядят как типичная пуассоновская кривая."
   ]
  },
  {
   "cell_type": "code",
   "execution_count": 67,
   "metadata": {},
   "outputs": [
    {
     "data": {
      "image/png": "[encoded data removed]"
     },
     "metadata": {
      "needs_background": "light"
     },
     "output_type": "display_data"
    }
   ],
   "source": [
    "ax = sns.histplot(\n",
    "    data=df[(df[\"ceiling_height\"] <= 4.5) & (df[\"ceiling_height\"] > 2)],\n",
    "    x=\"ceiling_height\",\n",
    "    element=\"poly\",\n",
    ")  # , binwidth=0.5)\n",
    "ax.set_xlabel(\"Высота потолка\")\n",
    "ax.set_ylabel(\"Количество предложений\");"
   ]
  },
  {
   "cell_type": "markdown",
   "metadata": {},
   "source": [
    "Значения высот потолков, если смотреть по огибающей также похоже на пуассоновскую кривую. Но имеет и свои особенности: прежде всего, гистограмма не является \"заполненной\", на ней имеется \"гребёнка\" отстоящих друг от друга популярных значений высот потолков, зазор между которыми заполняют редкие варианты. \n",
    "\n",
    "Скорее всего, гребёнка из \"мод\" &mdash; это типовые значения из наиболее популярных проектов домов (СССР, ГОСТ и всё такое). А редкие значения &mdash; это, например, результат инбивидуальных переделок, а также экзотические проекты, например, очень старые или наоборот, новые, нетиповые."
   ]
  },
  {
   "cell_type": "markdown",
   "metadata": {},
   "source": [
    "#### Вывод"
   ]
  },
  {
   "cell_type": "markdown",
   "metadata": {},
   "source": [
    "Мы построили гистограммы для таких признаков как площадь квартиры, её цена и количество комнат. Все эти графики имеют сходный вид: они ограничены слева, имеют ярко выраженную моду и длинный правый хвост. Иначе выглядит график высоты потолка: на нём ярко выделяются типовые значения на фоне экзотики.  "
   ]
  },
  {
   "cell_type": "markdown",
   "metadata": {},
   "source": [
    "### Параметры продаж"
   ]
  },
  {
   "cell_type": "markdown",
   "metadata": {},
   "source": [
    "Важной мерой сделок является, время с момента выставления объявления до продажи. Хотелось бы определить характерное время средней продажи и границы нормы "
   ]
  },
  {
   "cell_type": "code",
   "execution_count": 68,
   "metadata": {},
   "outputs": [
    {
     "data": {
      "image/png": "[encoded data removed]"
     },
     "metadata": {
      "needs_background": "light"
     },
     "output_type": "display_data"
    }
   ],
   "source": [
    "ax = sns.histplot(data=df, x=\"days_exposition\", bins=50)\n",
    "ax.set_xlabel(\"Время продажи\")\n",
    "ax.set_ylabel(\"Количество продаж\");"
   ]
  },
  {
   "cell_type": "markdown",
   "metadata": {},
   "source": [
    "Поскольку кривая явно негауссова и имеет длинный правый хвост, такая мера как среднее будет давать существеенный перекос вправо (по факту, среднее превышает медиану вдвое):"
   ]
  },
  {
   "cell_type": "code",
   "execution_count": 69,
   "metadata": {},
   "outputs": [
    {
     "data": {},
     "execution_count": 69,
     "metadata": {},
     "output_type": "execute_result"
    }
   ],
   "source": [
    "df[\"days_exposition\"].agg([\"mean\", \"median\"])"
   ]
  },
  {
   "cell_type": "markdown",
   "metadata": {},
   "source": [
    "Таким образом, наиболее адекватной мерой типовой сделки будет считать медиану по времени экспозиции объявления. Чтобы очертить \"границы нормы\" можно использовать логику, используемую в графиках barplot: основное ядро дежит между внутри второй и третьей квартилей (50% всех сделок), а периферийя простирается на 1,5 размажа за их пределы. \n",
    "\n",
    "Недостатком этого метода является нечувствительность аномально быстрым сделкам: левая граница нормы гарантировано упрётся в 0."
   ]
  },
  {
   "cell_type": "code",
   "execution_count": 70,
   "metadata": {},
   "outputs": [
    {
     "data": {
      "image/png": "[encoded data removed]"
     },
     "metadata": {
      "needs_background": "light"
     },
     "output_type": "display_data"
    }
   ],
   "source": [
    "ax = sns.boxplot(data=df, y=\"days_exposition\")\n",
    "ax.set_ylabel(\"Время продажи, дней\");"
   ]
  },
  {
   "cell_type": "code",
   "execution_count": 71,
   "metadata": {},
   "outputs": [
    {
     "data": {},
     "execution_count": 71,
     "metadata": {},
     "output_type": "execute_result"
    }
   ],
   "source": [
    "df[\"days_exposition\"].describe()"
   ]
  },
  {
   "cell_type": "markdown",
   "metadata": {},
   "source": [
    "Поэтому разумнее выбрать более консервативный подход, например, распространяющий норму только на вторую и третью крвартили. Недостатком этого подхода станет то, что под подозрение автоматически попадут 50% сделак, что вряд ли правильно.\n",
    "\n",
    "Учитывая длинный правый хвост зависимости можно скомбинировать два педыдущих метода: слева ограничиться второй квартилью, а справа добавить к третьей полуторный размах $IQR$, что даст нам границы нормы между 43 и 528 днями. В этот интервал попадает 15755 сделок, что составляет 66% от общего числа. 5978 сделок (25%) можно считать подозрительно быстрыми, а 1966 (8%) &mdash; аномально медленными."
   ]
  },
  {
   "cell_type": "code",
   "execution_count": 72,
   "metadata": {},
   "outputs": [
    {
     "data": {},
     "execution_count": 72,
     "metadata": {},
     "output_type": "execute_result"
    }
   ],
   "source": [
    "x = df[(df[\"days_exposition\"] > 43) & (df[\"days_exposition\"] < 528)].shape[0]\n",
    "x, x / df.shape[0]"
   ]
  },
  {
   "cell_type": "code",
   "execution_count": 73,
   "metadata": {},
   "outputs": [
    {
     "data": {},
     "execution_count": 73,
     "metadata": {},
     "output_type": "execute_result"
    }
   ],
   "source": [
    "x = df[df[\"days_exposition\"] <= 43].shape[0]\n",
    "x, x / df.shape[0]"
   ]
  },
  {
   "cell_type": "code",
   "execution_count": 74,
   "metadata": {},
   "outputs": [
    {
     "data": {},
     "execution_count": 74,
     "metadata": {},
     "output_type": "execute_result"
    }
   ],
   "source": [
    "x = df[df[\"days_exposition\"] >= 528].shape[0]\n",
    "x, x / df.shape[0]"
   ]
  },
  {
   "cell_type": "markdown",
   "metadata": {},
   "source": [
    "Если отбросить самые медленные из сделок, мы получим следующее распределение:"
   ]
  },
  {
   "cell_type": "code",
   "execution_count": 75,
   "metadata": {},
   "outputs": [
    {
     "data": {
      "image/png": "[encoded data removed]"
     },
     "metadata": {
      "needs_background": "light"
     },
     "output_type": "display_data"
    }
   ],
   "source": [
    "ax = sns.histplot(\n",
    "    data=df[(df[\"days_exposition\"] < 528)], x=\"days_exposition\", binwidth=10\n",
    ")\n",
    "ax.set_xlabel(\"Время продажи\")\n",
    "ax.set_ylabel(\"Количество продаж\");"
   ]
  },
  {
   "cell_type": "markdown",
   "metadata": {},
   "source": [
    "Прежде всего, видно, что в области малых времён у нас есть ярко выраженная мода с окресностях 50 дней, а также аномальный подъём: такое количество быстрых сделок (в пределах 30 дней) действительно выглядит аномально.\n",
    "\n",
    "Остальной график выглядит более-менее гладкой пуассоновской кривой на которой выделяется некоторое количество выбросов в окрестностях 50, 90, 120 дней. Дальше пики не просматриваются, скрываясь на фоне гладкой кривой.\n",
    "\n",
    "В области длинных сделок особо ничего интересного не просматривается. Там всё гладко и спокойно: либо дорогая, а потому эксклюзивная недвижимость ждёт своего покупателя, либо продавцы выставили неадекватно высокие ценники, но упрямо продолжают ждать переезда в Спб персидских шейхов. "
   ]
  },
  {
   "cell_type": "markdown",
   "metadata": {},
   "source": [
    "#### Вывод"
   ]
  },
  {
   "cell_type": "markdown",
   "metadata": {},
   "source": [
    "Мы ограничили нормальные сделки по длительности и в области быстрых сделок обнаружили аномально большое колличество сделок. Эту аномалию стоит изучить более внимательно. "
   ]
  },
  {
   "cell_type": "code",
   "execution_count": 76,
   "metadata": {},
   "outputs": [
    {
     "data": {},
     "execution_count": 76,
     "metadata": {},
     "output_type": "execute_result"
    }
   ],
   "source": [
    "# КОД РЕВЬЮЕРА\n",
    "\n",
    "df[[\"last_price\", \"total_area\", \"rooms\", \"ceiling_height\"]].describe().loc[\n",
    "    [\"min\", \"max\"]\n",
    "]"
   ]
  },
  {
   "cell_type": "markdown",
   "metadata": {},
   "source": [
    "### Факторы стоимости квартиры"
   ]
  },
  {
   "cell_type": "markdown",
   "metadata": {},
   "source": [
    "Рассмотрим факторы, влияющие на стоимость квартиры. Исходя из здравого смысла, в число наиболее значимых входят следующие: площадь, число комнат, удалённость от\n",
    "центра. Также интересно изучить зависимость цены от того, на каком этаже расположена квартира (первый, последний, другой) и от даты размещения: дня недели, месяца и года."
   ]
  },
  {
   "cell_type": "code",
   "execution_count": 121,
   "metadata": {},
   "outputs": [
    {
     "data": {
      "image/png": "[encoded data removed]"
     },
     "metadata": {},
     "output_type": "display_data"
    }
   ],
   "source": [
    "ax = sns.regplot(data=df, x=\"total_area\", y=\"last_price\")\n",
    "ax.set_title(\"Зависимость цены квартиры от площади\")\n",
    "ax.set_xlabel(\"Площадь квартиры, м²\")\n",
    "ax.set_ylabel(\"Цена квартиры, руб\");"
   ]
  },
  {
   "cell_type": "code",
   "execution_count": 126,
   "metadata": {},
   "outputs": [],
   "source": [
    "price_lr = LinearRegression().fit(\n",
    "    X=np.array(df[\"total_area\"]).reshape((-1, 1)), y=df[\"last_price\"]\n",
    ")\n",
    "print(f\"Коэффициент регрессии: {price_lr.coef_[0]:.2f}\")"
   ]
  },
  {
   "cell_type": "markdown",
   "metadata": {},
   "source": [
    "Коэффициент регрессии указывает на угол наклона прямой, проходящей через множество измерений (в данном случае пар \"площадь-цена\"). В данном случае мы видим, что прирост площади квартиры на 1 м² приводит, в среднем, к приросту цены на 200 тысяч рублей. "
   ]
  },
  {
   "cell_type": "code",
   "execution_count": 78,
   "metadata": {},
   "outputs": [
    {
     "data": {
      "image/png": "[encoded data removed]"
     },
     "metadata": {
      "needs_background": "light"
     },
     "output_type": "display_data"
    }
   ],
   "source": [
    "ax = sns.regplot(\n",
    "    data=df[(df[\"total_area\"] < 550) & (df[\"last_price\"] < 1.5e8)],\n",
    "    x=\"total_area\",\n",
    "    y=\"last_price\",\n",
    ")\n",
    "ax.set_title(\"Зависимость цены квартиры от площади (без крайних значений)\")\n",
    "ax.set_xlabel(\"Площадь квартиры, м²\")\n",
    "ax.set_ylabel(\"Цена квартиры, руб\");"
   ]
  },
  {
   "cell_type": "markdown",
   "metadata": {},
   "source": [
    "Видно, что основная масса квартир тяготеют к некоей прямой, хотя есть и довольно рыхлое облако точек, отстоящиих от нашей регрессионной кривой довольно далеко. А некоторые и очень далеко. Впрочем, расстояние от регрессионной кривой тоже можно рассматривать как признак ценовой аномалии."
   ]
  },
  {
   "cell_type": "code",
   "execution_count": 79,
   "metadata": {},
   "outputs": [
    {
     "data": {
      "image/png": "[encoded data removed]"
     },
     "metadata": {
      "needs_background": "light"
     },
     "output_type": "display_data"
    }
   ],
   "source": [
    "ax = sns.boxplot(data=df, x=\"rooms\", y=\"last_price\")\n",
    "ax.set_title(\"Зависимость цены квартиры от количества комнат\")\n",
    "ax.set_xlabel(\"Количество комнат\")\n",
    "ax.set_ylabel(\"Цена квартиры, руб\");"
   ]
  },
  {
   "cell_type": "code",
   "execution_count": 80,
   "metadata": {},
   "outputs": [
    {
     "data": {
      "image/png": "[encoded data removed]"
     },
     "metadata": {
      "needs_background": "light"
     },
     "output_type": "display_data"
    }
   ],
   "source": [
    "ax = sns.boxplot(data=df[df[\"last_price\"] < 2e7], x=\"rooms\", y=\"last_price\")\n",
    "ax.set_title(\"Зависимость цены квартиры от количества комнат (без крайних значений)\")\n",
    "ax.set_xlabel(\"Количество комнат\")\n",
    "ax.set_ylabel(\"Цена квартиры, руб\");"
   ]
  },
  {
   "cell_type": "markdown",
   "metadata": {},
   "source": [
    "Глядя на графики, можно заметить, что в области небольшого числа комнать наблюдается монотонный рост цен на недвижимость, вплоть до 9 комнат. Дальше происходит насыщение: прирост числа комнат не приводит к заметному росту цены. Это может быть связано, помимо прочего, с редкостью подобных предложений и, как сделствие, неоднородности цен."
   ]
  },
  {
   "cell_type": "code",
   "execution_count": 137,
   "metadata": {},
   "outputs": [
    {
     "data": {
      "image/png": "[encoded data removed]"
     },
     "metadata": {},
     "output_type": "display_data"
    }
   ],
   "source": [
    "ax = sns.boxplot(data=df, x=\"floor_category\", y=\"last_price\")\n",
    "ax.set_title(\"Зависимость цены квартиры от этажа\")\n",
    "ax.set_xlabel(\"Этаж\")\n",
    "ax.set_ylabel(\"Цена квартиры, руб\");"
   ]
  },
  {
   "cell_type": "code",
   "execution_count": 82,
   "metadata": {},
   "outputs": [
    {
     "data": {},
     "execution_count": 82,
     "metadata": {},
     "output_type": "execute_result"
    },
    {
     "data": {
      "image/png": "[encoded data removed]"
     },
     "metadata": {
      "needs_background": "light"
     },
     "output_type": "display_data"
    }
   ],
   "source": [
    "ax = sns.boxplot(data=df[df[\"last_price\"] < 1.2e7], x=\"floor_category\", y=\"last_price\")\n",
    "ax.set_title(\"Зависимость цены квартиры от этажа (без крайних значений)\")\n",
    "ax.set_xlabel(\"Этаж\")\n",
    "ax.set_ylabel(\"Цена квартиры, руб\");"
   ]
  },
  {
   "cell_type": "markdown",
   "metadata": {},
   "source": [
    "График показывает, что квартиры на первом и последнем этажах действительно дисконтируются по сравнеию с остальными. Разница между первым и последним, если есть в среднем, то не значительна. \n",
    "\n",
    "Чем выделяются квартиры на последнем этаже, так это большим выбросом в область эестремально высоких цен: очевидно, это влияние того самого пентхауса."
   ]
  },
  {
   "cell_type": "code",
   "execution_count": 83,
   "metadata": {},
   "outputs": [],
   "source": [
    "df[[\"first_day_exposition_weekday\"]].info()"
   ]
  },
  {
   "cell_type": "code",
   "execution_count": 84,
   "metadata": {},
   "outputs": [],
   "source": [
    "weekdays = [\n",
    "    \"Понедельник\",\n",
    "    \"Вторник\",\n",
    "    \"Среда\",\n",
    "    \"Четверг\",\n",
    "    \"Пятница\",\n",
    "    \"Суббота\",\n",
    "    \"Воскресенье\",\n",
    "]"
   ]
  },
  {
   "cell_type": "code",
   "execution_count": 85,
   "metadata": {},
   "outputs": [
    {
     "data": {
      "image/png": "[encoded data removed]"
     },
     "metadata": {
      "needs_background": "light"
     },
     "output_type": "display_data"
    }
   ],
   "source": [
    "ax = sns.boxplot(data=df, x=\"first_day_exposition_weekday\", y=\"last_price\")\n",
    "ax.set_xticklabels(weekdays)\n",
    "ax.set_title(\"Зависимость цены квартиры от дня недели\")\n",
    "ax.set_xlabel(\"День недели публикации объявления\")\n",
    "ax.set_ylabel(\"Цена квартиры, руб\");"
   ]
  },
  {
   "cell_type": "code",
   "execution_count": 86,
   "metadata": {},
   "outputs": [
    {
     "data": {
      "image/png": "[encoded data removed]"
     },
     "metadata": {
      "needs_background": "light"
     },
     "output_type": "display_data"
    }
   ],
   "source": [
    "ax = sns.boxplot(\n",
    "    data=df[df[\"last_price\"] < 1.2e7], x=\"first_day_exposition_weekday\", y=\"last_price\"\n",
    ")\n",
    "ax.set_xticklabels(weekdays)\n",
    "ax.set_title(\"Зависимость цены квартиры от дня недели (без крайних значений)\")\n",
    "ax.set_xlabel(\"День недели публикации объявления\")\n",
    "ax.set_ylabel(\"Цена квартиры, руб\");"
   ]
  },
  {
   "cell_type": "markdown",
   "metadata": {},
   "source": [
    "Сколько-нибудь выраженной зависимость цены (без учёта выбросов) от дня недели не заметно."
   ]
  },
  {
   "cell_type": "code",
   "execution_count": 87,
   "metadata": {
    "tags": []
   },
   "outputs": [],
   "source": [
    "month = [\n",
    "    \"Январь\",\n",
    "    \"Февраль\",\n",
    "    \"Март\",\n",
    "    \"Апрель\",\n",
    "    \"Май\",\n",
    "    \"Июнь\",\n",
    "    \"Июль\",\n",
    "    \"Август\",\n",
    "    \"Сентябрь\",\n",
    "    \"Октябрь\",\n",
    "    \"Ноябрь\",\n",
    "    \"Декабрь\",\n",
    "]"
   ]
  },
  {
   "cell_type": "code",
   "execution_count": 88,
   "metadata": {
    "tags": []
   },
   "outputs": [
    {
     "data": {
      "image/png": "[encoded data removed]"
     },
     "metadata": {
      "needs_background": "light"
     },
     "output_type": "display_data"
    }
   ],
   "source": [
    "ax = sns.boxplot(data=df, x=\"first_day_exposition_month\", y=\"last_price\")\n",
    "ax.set_xticklabels(month)\n",
    "ax.set_title(\"Зависимость цены квартиры от месяца\")\n",
    "ax.set_xlabel(\"Месяц публикации объявления\")\n",
    "ax.set_ylabel(\"Цена квартиры, руб\");"
   ]
  },
  {
   "cell_type": "code",
   "execution_count": 89,
   "metadata": {
    "tags": []
   },
   "outputs": [
    {
     "data": {
      "image/png": "[encoded data removed]"
     },
     "metadata": {
      "needs_background": "light"
     },
     "output_type": "display_data"
    }
   ],
   "source": [
    "ax = sns.boxplot(\n",
    "    data=df[df[\"last_price\"] < 1.2e7], x=\"first_day_exposition_month\", y=\"last_price\"\n",
    ")\n",
    "ax.set_xticklabels(month)\n",
    "ax.set_title(\"Зависимость цены квартиры от месяца (без крайних значений)\")\n",
    "ax.set_xlabel(\"Месяц публикации объявления\")\n",
    "ax.set_ylabel(\"Цена квартиры, руб\");"
   ]
  },
  {
   "cell_type": "markdown",
   "metadata": {},
   "source": [
    "Заметныйх различий между месяцами выявить не удаётся. Выбросы есть, но на то они и выбросы, что это разовые эксклюзивные события."
   ]
  },
  {
   "cell_type": "code",
   "execution_count": 90,
   "metadata": {},
   "outputs": [
    {
     "data": {
      "image/png": "[encoded data removed]"
     },
     "metadata": {
      "needs_background": "light"
     },
     "output_type": "display_data"
    }
   ],
   "source": [
    "ax = sns.boxplot(data=df, x=\"first_day_exposition_year\", y=\"last_price\")\n",
    "ax.set_title(\"Зависимость цены квартиры от года публикации\")\n",
    "ax.set_xlabel(\"Год публикации объявления\")\n",
    "ax.set_ylabel(\"Цена квартиры, руб\");"
   ]
  },
  {
   "cell_type": "code",
   "execution_count": 91,
   "metadata": {},
   "outputs": [
    {
     "data": {
      "image/png": "[encoded data removed]"
     },
     "metadata": {
      "needs_background": "light"
     },
     "output_type": "display_data"
    }
   ],
   "source": [
    "ax = sns.boxplot(\n",
    "    data=df[df[\"last_price\"] < 3e7],\n",
    "    x=\"first_day_exposition_year\",\n",
    "    y=\"last_price\",\n",
    ")\n",
    "ax.set_title(\"Зависимость цены квартиры от года публикации (без крайних значений)\")\n",
    "ax.set_xlabel(\"Год публикации объявления\")\n",
    "ax.set_ylabel(\"Цена квартиры, руб\");"
   ]
  },
  {
   "cell_type": "markdown",
   "metadata": {},
   "source": [
    "По годам динамика хорошо заметна: наибольшую медианную цену и наибольший $IQR$ продемонстрировал 2014 год. Далее, очевидно, по макроэкономическим причином произошла заметная просадка. На 2016-2018 приходится некоторое плато, характеризуемое практически неизменной медианой и $IQR$. 2019 год показал заметный рост по обоим показателям."
   ]
  },
  {
   "cell_type": "markdown",
   "metadata": {},
   "source": [
    "#### Вывод"
   ]
  },
  {
   "cell_type": "markdown",
   "metadata": {},
   "source": [
    "Мы исследовали факторы, влияющие на цену недвижимости: \n",
    "- общая пложадь кавартиры, предсказуемо влияет;\n",
    "- тоже можно сказать и о количестве комнат, по крайней мере, если комнат не более 9;\n",
    "- влияние этажа имеется, но не очень значительное в среднем;\n",
    "- месяц выставления объявления никак не повлиял на цену: сезонность в ценах недвижимости не просматривается;\n",
    "- год публикации объявления оказался более важен."
   ]
  },
  {
   "cell_type": "markdown",
   "metadata": {},
   "source": [
    "### Населённые пункты и цена недвижимости"
   ]
  },
  {
   "cell_type": "markdown",
   "metadata": {},
   "source": [
    "Посмотрим, из каких населённых пунктов поступило больше всего объявлений:"
   ]
  },
  {
   "cell_type": "code",
   "execution_count": 92,
   "metadata": {},
   "outputs": [],
   "source": [
    "localities = pd.Series(df[\"locality_name\"].value_counts().head(10).index)"
   ]
  },
  {
   "cell_type": "code",
   "execution_count": 93,
   "metadata": {},
   "outputs": [
    {
     "data": {},
     "execution_count": 93,
     "metadata": {},
     "output_type": "execute_result"
    }
   ],
   "source": [
    "localities"
   ]
  },
  {
   "cell_type": "code",
   "execution_count": 94,
   "metadata": {},
   "outputs": [
    {
     "data": {},
     "execution_count": 94,
     "metadata": {},
     "output_type": "execute_result"
    }
   ],
   "source": [
    "df[df[\"locality_name\"].isin(localities)].groupby(\"locality_name\").agg(\n",
    "    {\"m2_price\": \"mean\"}\n",
    ").sort_values(by=\"m2_price\", ascending=False)"
   ]
  },
  {
   "cell_type": "markdown",
   "metadata": {},
   "source": [
    "Предсказуемо самый дорогой квадратный метр в Санкт-Петербурге, а самый дешёвый &mdash; в сравнительно крупном, но далёком от СПб Выборге."
   ]
  },
  {
   "cell_type": "markdown",
   "metadata": {},
   "source": [
    "#### Вывод"
   ]
  },
  {
   "cell_type": "markdown",
   "metadata": {},
   "source": [
    "Удельная цена недвижимости варьируется между населёнными пунктми. Наиболее вастребованы квартиры в Санкт-Петербурге. Далее по мере уменьшения масштаба населённого пункта и его удаления от СПб, цены падают."
   ]
  },
  {
   "cell_type": "markdown",
   "metadata": {},
   "source": [
    "### Цены внутри Санкт-Перербурга"
   ]
  },
  {
   "cell_type": "markdown",
   "metadata": {},
   "source": [
    "В большинстве городов цены распределены не равномерно: более низкие в спальных раёонах на периферии и более высокие в центре. Узнаем какую часть города петербуржцы считают центральной "
   ]
  },
  {
   "cell_type": "code",
   "execution_count": 95,
   "metadata": {},
   "outputs": [],
   "source": [
    "df[\"spb_center_km\"] = np.around(df[\"cityCenters_nearest\"] / 1000)\n",
    "df[\"spb_center_km\"] = df[\"spb_center_km\"].astype(\"int\")"
   ]
  },
  {
   "cell_type": "code",
   "execution_count": 96,
   "metadata": {},
   "outputs": [],
   "source": [
    "spb_m2_price = (\n",
    "    df[(df[\"locality_name\"] == \"Санкт-Петербург\") & (df[\"cityCenters_nearest\"] > 0)]\n",
    "    .groupby(\"spb_center_km\")\n",
    "    .agg({\"m2_price\": \"mean\"})\n",
    ")"
   ]
  },
  {
   "cell_type": "code",
   "execution_count": 97,
   "metadata": {},
   "outputs": [
    {
     "data": {
      "image/png": "[encoded data removed]"
     },
     "metadata": {
      "needs_background": "light"
     },
     "output_type": "display_data"
    }
   ],
   "source": [
    "ax = sns.barplot(x=spb_m2_price.index, y=spb_m2_price[\"m2_price\"])\n",
    "ax.set_title(\"Зависимость цены квартиры от расстояния от центра города\")\n",
    "ax.set_xlabel(\"Расстояние от центра СПб, км\")\n",
    "ax.set_ylabel(\"Количество предложений\");"
   ]
  },
  {
   "cell_type": "markdown",
   "metadata": {},
   "source": [
    "#### Вывод"
   ]
  },
  {
   "cell_type": "markdown",
   "metadata": {},
   "source": [
    "Центр СПб с аномально высокими ценами на недвижимость оказался на удивления небольшим: менее 3 км. \n",
    "\n",
    "В районе 7 км наблюдается ещё одна ценовая аномалия, видимо на таком расстоянии от центра находится какой-то престижный район города, но это вопрос к людям лучше разбирающимся в географии города."
   ]
  },
  {
   "cell_type": "markdown",
   "metadata": {},
   "source": [
    "### Квартиры в центре Санкт-Петербурга"
   ]
  },
  {
   "cell_type": "markdown",
   "metadata": {},
   "source": [
    "Проанализируем теперь квартиры в центре Санкт-Петербурга и посмотрим, чем эта недвижимость отличается от широкой выборки. Для удобства дальнейшего анализа соберём нужные квартиры в отдельный дата-фрейм"
   ]
  },
  {
   "cell_type": "code",
   "execution_count": 98,
   "metadata": {},
   "outputs": [
    {
     "data": {},
     "execution_count": 98,
     "metadata": {},
     "output_type": "execute_result"
    }
   ],
   "source": [
    "df_spb_center = df[(df[\"spb_center_km\"] < 3) & (df[\"cityCenters_nearest\"] > 0)]\n",
    "df_spb_center.describe()"
   ]
  },
  {
   "cell_type": "markdown",
   "metadata": {},
   "source": [
    "Для сравнения можно посмотреть на статистику по всем объявлениям СПб:"
   ]
  },
  {
   "cell_type": "code",
   "execution_count": 147,
   "metadata": {},
   "outputs": [
    {
     "data": {},
     "execution_count": 147,
     "metadata": {},
     "output_type": "execute_result"
    }
   ],
   "source": [
    "df[df['locality_name']==\"Санкт-Петербург\"].describe()"
   ]
  },
  {
   "cell_type": "code",
   "execution_count": 99,
   "metadata": {},
   "outputs": [
    {
     "data": {
      "image/png": "[encoded data removed]"
     },
     "metadata": {
      "needs_background": "light"
     },
     "output_type": "display_data"
    }
   ],
   "source": [
    "ax = sns.regplot(data=df_spb_center, x=\"total_area\", y=\"last_price\")\n",
    "ax.set_title(\"Зависимость цены квартиры от площади\")\n",
    "ax.set_xlabel(\"Площадь квартиры, м²\")\n",
    "ax.set_ylabel(\"Цена квартиры, руб\");"
   ]
  },
  {
   "cell_type": "markdown",
   "metadata": {},
   "source": [
    "В целом, характер зависимости цены квартиры от её площади сходно с тем, что мы видели на широкой выборке. Но уже по графику видно, что угол наклона регрессионой прямой заметно больше. Вычисления подтверждают, что это так: прирост площади квартиры на 1 м² приводет, в среднем, к росту цены на 300 тысяч рублей."
   ]
  },
  {
   "cell_type": "code",
   "execution_count": 127,
   "metadata": {},
   "outputs": [],
   "source": [
    "center_price_lr = LinearRegression().fit(\n",
    "    X=np.array(df_spb_center[\"total_area\"]).reshape((-1, 1)),\n",
    "    y=df_spb_center[\"last_price\"],\n",
    ")\n",
    "\n",
    "print(f\"Коэффициент регрессии: {center_price_lr.coef_[0]:.2f}\")"
   ]
  },
  {
   "cell_type": "code",
   "execution_count": 130,
   "metadata": {},
   "outputs": [
    {
     "data": {
      "image/png": "[encoded data removed]"
     },
     "metadata": {},
     "output_type": "display_data"
    }
   ],
   "source": [
    "ax = sns.boxplot(\n",
    "    data=df_spb_center[df_spb_center[\"last_price\"] < 0.7e8], x=\"rooms\", y=\"last_price\"\n",
    ")\n",
    "ax.set_title(\"Зависимость цены квартиры от количества комнат\")\n",
    "ax.set_xlabel(\"Количество комнат\")\n",
    "ax.set_ylabel(\"Цена квартиры, руб\");"
   ]
  },
  {
   "cell_type": "markdown",
   "metadata": {},
   "source": [
    "Цены квартир более-менее равномерно растут с ростом количества комнат вплоть до 7. Из общей картины выбиваются 8-комнатные квартиры, цены которых примерно соответсвуют 6-комнатным. Возможно, дело просто в малой выборке: 8-комнатных квартир всего 4, да и 6-комнатных не очень много (23). Квартиры с большим количеством комнат рассматривать вообще бессмысленно: они представлены единичными экземплярами."
   ]
  },
  {
   "cell_type": "code",
   "execution_count": 140,
   "metadata": {},
   "outputs": [
    {
     "data": {
      "image/png": "[encoded data removed]"
     },
     "metadata": {},
     "output_type": "display_data"
    }
   ],
   "source": [
    "ax = sns.boxplot(\n",
    "    data=df_spb_center[df_spb_center[\"last_price\"] < 1.5e7],\n",
    "    x=\"floor_category\",\n",
    "    y=\"last_price\",\n",
    ")\n",
    "ax.set_title(\"Зависимость цены квартиры от этажа (без крайних значений)\")\n",
    "ax.set_xlabel(\"Этаж\")\n",
    "ax.set_ylabel(\"Цена квартиры, руб\");"
   ]
  },
  {
   "cell_type": "markdown",
   "metadata": {},
   "source": [
    "В центре СПб разница в цене квартир в зависимости от этажа более ярко выражена: наибольший дисконт предоставляется за квартиры еа первом этаже, эти квартиры заметно дешевне квартир на последнем (медиана проходит ниже \"дна\" зелёного бокса)."
   ]
  },
  {
   "cell_type": "code",
   "execution_count": 142,
   "metadata": {},
   "outputs": [
    {
     "data": {
      "image/png": "[encoded data removed]"
     },
     "metadata": {},
     "output_type": "display_data"
    }
   ],
   "source": [
    "ax = sns.boxplot(\n",
    "    data=df_spb_center[df_spb_center[\"last_price\"] < 1.2e7],\n",
    "    x=\"first_day_exposition_weekday\",\n",
    "    y=\"last_price\",\n",
    ")\n",
    "ax.set_xticklabels(weekdays)\n",
    "ax.set_title(\"Зависимость цены квартиры от дня недели (без крайних значений)\")\n",
    "ax.set_xlabel(\"День недели публикации объявления\")\n",
    "ax.set_ylabel(\"Цена квартиры, руб\");"
   ]
  },
  {
   "cell_type": "markdown",
   "metadata": {},
   "source": [
    "Сколько-нибудь выраженной зависимость цены (без учёта выбросов) от дня недели не заметно."
   ]
  },
  {
   "cell_type": "code",
   "execution_count": 143,
   "metadata": {
    "tags": []
   },
   "outputs": [
    {
     "data": {
      "image/png": "[encoded data removed]"
     },
     "metadata": {},
     "output_type": "display_data"
    }
   ],
   "source": [
    "ax = sns.boxplot(\n",
    "    data=df_spb_center[df_spb_center[\"last_price\"] < 1.2e7],\n",
    "    x=\"first_day_exposition_month\",\n",
    "    y=\"last_price\",\n",
    ")\n",
    "ax.set_xticklabels(month)\n",
    "ax.set_title(\"Зависимость цены квартиры от месяца (без крайних значений)\")\n",
    "ax.set_xlabel(\"Месяц публикации объявления\")\n",
    "ax.set_ylabel(\"Цена квартиры, руб\");"
   ]
  },
  {
   "cell_type": "markdown",
   "metadata": {},
   "source": [
    "Как и в широкой выборке, цены квартир в центре СПб не проявляют заметной сезонгности и не зависят от дня недели публикации объявления."
   ]
  },
  {
   "cell_type": "code",
   "execution_count": 144,
   "metadata": {},
   "outputs": [
    {
     "data": {
      "image/png": "[encoded data removed]"
     },
     "metadata": {},
     "output_type": "display_data"
    }
   ],
   "source": [
    "ax = sns.boxplot(\n",
    "    data=df_spb_center[df_spb_center[\"last_price\"] < 3e7],\n",
    "    x=\"first_day_exposition_year\",\n",
    "    y=\"last_price\",\n",
    ")\n",
    "ax.set_title(\"Зависимость цены квартиры от года публикации (без крайних значений)\")\n",
    "ax.set_xlabel(\"Год публикации объявления\")\n",
    "ax.set_ylabel(\"Цена квартиры, руб\");"
   ]
  },
  {
   "cell_type": "markdown",
   "metadata": {},
   "source": [
    "К сожалению, объявлений из центра СПб в 2014 году нет, так что подтвердить или опровергнуть тезис о высоких ценах для центра в 2014 году нет возможности. Что же касается последующих лет, то в отличте от широкой выборки, центр города не показал снижения цен в 2016 году в сравнении с 2015. средняя цена даже чуть поднялась, хоть и не значимо, наиболее заметное изменение &mdash; сужение разброса цен. Заметное падение в центре произошло, но затронуло всего один год &mdash; 2017. Но уже в 2018 и 2019 наблюдается поступательный рост."
   ]
  },
  {
   "cell_type": "markdown",
   "metadata": {},
   "source": [
    "#### Вывод"
   ]
  },
  {
   "cell_type": "markdown",
   "metadata": {},
   "source": [
    "В целом, характер зависимостей между ценами и основными параметрами квартир в центре СПб и в широкой выборке сходны, хотя есть и нюансы. Так, средняя цена квартиры в центре выше, большей популярностью пользутся квартиры с б**о**льшим числом комнат и большей площадью. Меньше в центре разброс по значениям высоты потолков."
   ]
  },
  {
   "cell_type": "markdown",
   "metadata": {},
   "source": [
    "## Общий вывод"
   ]
  },
  {
   "cell_type": "markdown",
   "metadata": {},
   "source": [
    "Мы изучили базу объявлений о продаже недвижимости в Санкт-Петербурге и окрестностях. \n",
    "\n",
    "Были выявлены параметры оказывающие наибольшее влияние на цену, прежде всего это площадь квартиры, количество комнат и населённый пункт: наибольшим спросом пользуется Санкт-Петербурга и ближайшие к нему крупные населённые пункты. Такие факторы, как день недели, месяц публикации объявления или этаж ощутимого влияния на цену не оказали.\n",
    "\n",
    "В ходе анализа данных была выявлена аномалия в ряде объявлений, выраженная в том, что площадь кухни оказалась больше нежилой площади, что невозможно (кухня это часть нежилых помещений). Этьо может быть признаком умышленного искажения данных о предлагаемой на продажу недвижимости.\n",
    "\n",
    "При изучении времени продажи квартир была выявлена аномально большая доля сделок, закрытых в течение месяца (не более 30 дней) при том, что медианное время &mdash; три месяца. С другой стороны, есть и очень долгие сделки, к каковым мы отнесли те, что длятся около полутора лет (528 дней) с пиковыми значениями, превышающими 4 года. Аномально высокое количество быстрых сделок может быть как результатом деятельности добросовестных продавцов, нуждающихся максимально быстро получить деньги, пусть и с дисконтом, так и результатом работы недобросовестных продавцов, которые, в массе, стермятся как можно быстрее получить деньги и исчезнуть.\n",
    "\n",
    "Изучение данных по городу Санкт-Петербург показал, что в нём имеется компактная (с радиусом мене 3км) центральная часть, выделяющаяся на фоне остального города высокой ценой недвижимости (медианная цена в центер - 11 млн. против 5,5 млн в среднем по СПб). Цены в центре города зависят от ключевых параметрах по примерно тем же закономерностям, что и во всей выборке объявлений. Предложения в центре тяготеют, помимо более высоких цен, к большей средней площади и большему количеству комнат."
   ]
  }
 ],
 "metadata": {
  "ExecuteTimeLog": [
   {
    "duration": 1608,
    "start_time": "2021-08-12T12:33:56.218Z"
   },
   {
    "duration": 5,
    "start_time": "2021-08-12T12:33:57.829Z"
   },
   {
    "duration": 21,
    "start_time": "2021-08-12T12:33:57.839Z"
   },
   {
    "duration": 266,
    "start_time": "2021-08-12T12:33:57.863Z"
   },
   {
    "duration": 42,
    "start_time": "2021-08-12T12:33:58.132Z"
   },
   {
    "duration": 133,
    "start_time": "2021-08-12T12:33:58.177Z"
   },
   {
    "duration": 15,
    "start_time": "2021-08-12T12:33:58.312Z"
   },
   {
    "duration": 47,
    "start_time": "2021-08-12T12:33:58.329Z"
   },
   {
    "duration": 18,
    "start_time": "2021-08-12T12:33:58.380Z"
   },
   {
    "duration": 12,
    "start_time": "2021-08-12T12:33:58.402Z"
   },
   {
    "duration": 42,
    "start_time": "2021-08-12T12:33:58.417Z"
   },
   {
    "duration": 12,
    "start_time": "2021-08-12T12:33:58.462Z"
   },
   {
    "duration": 22,
    "start_time": "2021-08-12T12:33:58.477Z"
   },
   {
    "duration": 16,
    "start_time": "2021-08-12T12:33:58.503Z"
   },
   {
    "duration": 50,
    "start_time": "2021-08-12T12:33:58.521Z"
   },
   {
    "duration": 9,
    "start_time": "2021-08-12T12:33:58.574Z"
   },
   {
    "duration": 8,
    "start_time": "2021-08-12T12:33:58.585Z"
   },
   {
    "duration": 18,
    "start_time": "2021-08-12T12:33:58.596Z"
   },
   {
    "duration": 46,
    "start_time": "2021-08-12T12:33:58.616Z"
   },
   {
    "duration": 10,
    "start_time": "2021-08-12T12:33:58.665Z"
   },
   {
    "duration": 14,
    "start_time": "2021-08-12T12:33:58.678Z"
   },
   {
    "duration": 68,
    "start_time": "2021-08-12T12:33:58.695Z"
   },
   {
    "duration": 5,
    "start_time": "2021-08-12T12:33:58.765Z"
   },
   {
    "duration": 1462,
    "start_time": "2021-08-12T12:33:58.773Z"
   },
   {
    "duration": 22,
    "start_time": "2021-08-12T12:34:00.237Z"
   },
   {
    "duration": 27,
    "start_time": "2021-08-12T12:34:00.261Z"
   },
   {
    "duration": 27,
    "start_time": "2021-08-12T12:34:00.295Z"
   },
   {
    "duration": 29,
    "start_time": "2021-08-12T12:34:00.327Z"
   },
   {
    "duration": 522,
    "start_time": "2021-08-12T12:34:00.359Z"
   },
   {
    "duration": -1089,
    "start_time": "2021-08-12T12:34:01.974Z"
   },
   {
    "duration": -1099,
    "start_time": "2021-08-12T12:34:01.985Z"
   },
   {
    "duration": -1106,
    "start_time": "2021-08-12T12:34:01.994Z"
   },
   {
    "duration": -1116,
    "start_time": "2021-08-12T12:34:02.005Z"
   },
   {
    "duration": -1124,
    "start_time": "2021-08-12T12:34:02.015Z"
   },
   {
    "duration": -1133,
    "start_time": "2021-08-12T12:34:02.025Z"
   },
   {
    "duration": -1141,
    "start_time": "2021-08-12T12:34:02.035Z"
   },
   {
    "duration": -1154,
    "start_time": "2021-08-12T12:34:02.049Z"
   },
   {
    "duration": -1164,
    "start_time": "2021-08-12T12:34:02.061Z"
   },
   {
    "duration": -1182,
    "start_time": "2021-08-12T12:34:02.080Z"
   },
   {
    "duration": -1190,
    "start_time": "2021-08-12T12:34:02.090Z"
   },
   {
    "duration": -1201,
    "start_time": "2021-08-12T12:34:02.102Z"
   },
   {
    "duration": -1219,
    "start_time": "2021-08-12T12:34:02.122Z"
   },
   {
    "duration": -1229,
    "start_time": "2021-08-12T12:34:02.133Z"
   },
   {
    "duration": -1235,
    "start_time": "2021-08-12T12:34:02.141Z"
   },
   {
    "duration": -1243,
    "start_time": "2021-08-12T12:34:02.150Z"
   },
   {
    "duration": -1250,
    "start_time": "2021-08-12T12:34:02.158Z"
   },
   {
    "duration": -1257,
    "start_time": "2021-08-12T12:34:02.167Z"
   },
   {
    "duration": -1263,
    "start_time": "2021-08-12T12:34:02.175Z"
   },
   {
    "duration": -1282,
    "start_time": "2021-08-12T12:34:02.195Z"
   },
   {
    "duration": -1290,
    "start_time": "2021-08-12T12:34:02.204Z"
   },
   {
    "duration": -1297,
    "start_time": "2021-08-12T12:34:02.213Z"
   },
   {
    "duration": -1305,
    "start_time": "2021-08-12T12:34:02.222Z"
   },
   {
    "duration": -1312,
    "start_time": "2021-08-12T12:34:02.231Z"
   },
   {
    "duration": -1318,
    "start_time": "2021-08-12T12:34:02.238Z"
   },
   {
    "duration": -1326,
    "start_time": "2021-08-12T12:34:02.248Z"
   },
   {
    "duration": -1333,
    "start_time": "2021-08-12T12:34:02.256Z"
   },
   {
    "duration": -1341,
    "start_time": "2021-08-12T12:34:02.265Z"
   },
   {
    "duration": -1349,
    "start_time": "2021-08-12T12:34:02.274Z"
   },
   {
    "duration": -1357,
    "start_time": "2021-08-12T12:34:02.283Z"
   },
   {
    "duration": -1335,
    "start_time": "2021-08-12T12:34:02.291Z"
   },
   {
    "duration": -1359,
    "start_time": "2021-08-12T12:34:02.316Z"
   },
   {
    "duration": -1364,
    "start_time": "2021-08-12T12:34:02.323Z"
   },
   {
    "duration": -1373,
    "start_time": "2021-08-12T12:34:02.333Z"
   },
   {
    "duration": -1379,
    "start_time": "2021-08-12T12:34:02.341Z"
   },
   {
    "duration": -1386,
    "start_time": "2021-08-12T12:34:02.349Z"
   },
   {
    "duration": -1392,
    "start_time": "2021-08-12T12:34:02.357Z"
   },
   {
    "duration": -1400,
    "start_time": "2021-08-12T12:34:02.366Z"
   },
   {
    "duration": -1407,
    "start_time": "2021-08-12T12:34:02.375Z"
   },
   {
    "duration": -1413,
    "start_time": "2021-08-12T12:34:02.383Z"
   },
   {
    "duration": -1420,
    "start_time": "2021-08-12T12:34:02.391Z"
   },
   {
    "duration": -1428,
    "start_time": "2021-08-12T12:34:02.401Z"
   },
   {
    "duration": -1433,
    "start_time": "2021-08-12T12:34:02.408Z"
   },
   {
    "duration": -1452,
    "start_time": "2021-08-12T12:34:02.428Z"
   },
   {
    "duration": -1459,
    "start_time": "2021-08-12T12:34:02.436Z"
   },
   {
    "duration": -1466,
    "start_time": "2021-08-12T12:34:02.444Z"
   },
   {
    "duration": -1473,
    "start_time": "2021-08-12T12:34:02.453Z"
   },
   {
    "duration": -1481,
    "start_time": "2021-08-12T12:34:02.462Z"
   },
   {
    "duration": -1487,
    "start_time": "2021-08-12T12:34:02.469Z"
   },
   {
    "duration": -1494,
    "start_time": "2021-08-12T12:34:02.478Z"
   },
   {
    "duration": -1500,
    "start_time": "2021-08-12T12:34:02.485Z"
   },
   {
    "duration": -1508,
    "start_time": "2021-08-12T12:34:02.494Z"
   },
   {
    "duration": -1552,
    "start_time": "2021-08-12T12:34:02.540Z"
   },
   {
    "duration": -1560,
    "start_time": "2021-08-12T12:34:02.549Z"
   },
   {
    "duration": -1576,
    "start_time": "2021-08-12T12:34:02.566Z"
   },
   {
    "duration": -1635,
    "start_time": "2021-08-12T12:34:02.627Z"
   },
   {
    "duration": -1574,
    "start_time": "2021-08-12T12:34:02.634Z"
   },
   {
    "duration": -1578,
    "start_time": "2021-08-12T12:34:02.640Z"
   },
   {
    "duration": -1582,
    "start_time": "2021-08-12T12:34:02.646Z"
   },
   {
    "duration": -1588,
    "start_time": "2021-08-12T12:34:02.653Z"
   },
   {
    "duration": -1592,
    "start_time": "2021-08-12T12:34:02.659Z"
   },
   {
    "duration": -1599,
    "start_time": "2021-08-12T12:34:02.667Z"
   },
   {
    "duration": -1602,
    "start_time": "2021-08-12T12:34:02.672Z"
   },
   {
    "duration": -1608,
    "start_time": "2021-08-12T12:34:02.679Z"
   },
   {
    "duration": -1613,
    "start_time": "2021-08-12T12:34:02.686Z"
   },
   {
    "duration": -1618,
    "start_time": "2021-08-12T12:34:02.692Z"
   },
   {
    "duration": -1623,
    "start_time": "2021-08-12T12:34:02.699Z"
   },
   {
    "duration": -1628,
    "start_time": "2021-08-12T12:34:02.705Z"
   },
   {
    "duration": -1633,
    "start_time": "2021-08-12T12:34:02.711Z"
   },
   {
    "duration": -1638,
    "start_time": "2021-08-12T12:34:02.718Z"
   },
   {
    "duration": -1643,
    "start_time": "2021-08-12T12:34:02.724Z"
   },
   {
    "duration": 13,
    "start_time": "2021-08-12T12:40:55.953Z"
   },
   {
    "duration": 276,
    "start_time": "2021-08-12T12:40:56.283Z"
   },
   {
    "duration": 14,
    "start_time": "2021-08-12T12:41:12.306Z"
   },
   {
    "duration": 12,
    "start_time": "2021-08-12T12:41:12.322Z"
   },
   {
    "duration": 23,
    "start_time": "2021-08-12T12:41:12.337Z"
   },
   {
    "duration": 16,
    "start_time": "2021-08-12T12:41:12.362Z"
   },
   {
    "duration": 14,
    "start_time": "2021-08-12T12:41:12.381Z"
   },
   {
    "duration": 7,
    "start_time": "2021-08-12T12:41:12.397Z"
   },
   {
    "duration": 6,
    "start_time": "2021-08-12T12:41:12.407Z"
   },
   {
    "duration": 44,
    "start_time": "2021-08-12T12:41:12.416Z"
   },
   {
    "duration": 8,
    "start_time": "2021-08-12T12:41:12.462Z"
   },
   {
    "duration": 36,
    "start_time": "2021-08-12T12:41:12.472Z"
   },
   {
    "duration": 48,
    "start_time": "2021-08-12T12:41:12.510Z"
   },
   {
    "duration": 16,
    "start_time": "2021-08-12T12:41:12.561Z"
   },
   {
    "duration": 14,
    "start_time": "2021-08-12T12:41:12.579Z"
   },
   {
    "duration": 15,
    "start_time": "2021-08-12T12:41:12.596Z"
   },
   {
    "duration": 11,
    "start_time": "2021-08-12T12:41:12.659Z"
   },
   {
    "duration": 11,
    "start_time": "2021-08-12T12:41:12.673Z"
   },
   {
    "duration": 11,
    "start_time": "2021-08-12T12:41:12.687Z"
   },
   {
    "duration": 12,
    "start_time": "2021-08-12T12:41:12.700Z"
   },
   {
    "duration": 51,
    "start_time": "2021-08-12T12:41:12.715Z"
   },
   {
    "duration": 12,
    "start_time": "2021-08-12T12:41:12.769Z"
   },
   {
    "duration": 12,
    "start_time": "2021-08-12T12:41:12.784Z"
   },
   {
    "duration": 6,
    "start_time": "2021-08-12T12:41:12.798Z"
   },
   {
    "duration": 58,
    "start_time": "2021-08-12T12:41:12.806Z"
   },
   {
    "duration": 9,
    "start_time": "2021-08-12T12:41:12.866Z"
   },
   {
    "duration": 11,
    "start_time": "2021-08-12T12:41:12.877Z"
   },
   {
    "duration": 19,
    "start_time": "2021-08-12T12:41:12.890Z"
   },
   {
    "duration": 7,
    "start_time": "2021-08-12T12:41:12.912Z"
   },
   {
    "duration": 17,
    "start_time": "2021-08-12T12:41:12.957Z"
   },
   {
    "duration": 8,
    "start_time": "2021-08-12T12:41:12.976Z"
   },
   {
    "duration": 15,
    "start_time": "2021-08-12T12:41:12.987Z"
   },
   {
    "duration": 19,
    "start_time": "2021-08-12T12:41:13.004Z"
   },
   {
    "duration": 304,
    "start_time": "2021-08-12T12:41:13.025Z"
   },
   {
    "duration": -2284,
    "start_time": "2021-08-12T12:41:15.617Z"
   },
   {
    "duration": -2323,
    "start_time": "2021-08-12T12:41:15.657Z"
   },
   {
    "duration": -2344,
    "start_time": "2021-08-12T12:41:15.679Z"
   },
   {
    "duration": -2378,
    "start_time": "2021-08-12T12:41:15.715Z"
   },
   {
    "duration": -2387,
    "start_time": "2021-08-12T12:41:15.725Z"
   },
   {
    "duration": -2394,
    "start_time": "2021-08-12T12:41:15.733Z"
   },
   {
    "duration": -2400,
    "start_time": "2021-08-12T12:41:15.741Z"
   },
   {
    "duration": -2408,
    "start_time": "2021-08-12T12:41:15.750Z"
   },
   {
    "duration": -2417,
    "start_time": "2021-08-12T12:41:15.761Z"
   },
   {
    "duration": -2424,
    "start_time": "2021-08-12T12:41:15.770Z"
   },
   {
    "duration": -2433,
    "start_time": "2021-08-12T12:41:15.780Z"
   },
   {
    "duration": -2439,
    "start_time": "2021-08-12T12:41:15.788Z"
   },
   {
    "duration": -2447,
    "start_time": "2021-08-12T12:41:15.797Z"
   },
   {
    "duration": -2453,
    "start_time": "2021-08-12T12:41:15.805Z"
   },
   {
    "duration": -2474,
    "start_time": "2021-08-12T12:41:15.827Z"
   },
   {
    "duration": -2481,
    "start_time": "2021-08-12T12:41:15.836Z"
   },
   {
    "duration": -2493,
    "start_time": "2021-08-12T12:41:15.849Z"
   },
   {
    "duration": -2499,
    "start_time": "2021-08-12T12:41:15.857Z"
   },
   {
    "duration": -2510,
    "start_time": "2021-08-12T12:41:15.869Z"
   },
   {
    "duration": -2518,
    "start_time": "2021-08-12T12:41:15.879Z"
   },
   {
    "duration": -2524,
    "start_time": "2021-08-12T12:41:15.887Z"
   },
   {
    "duration": -2532,
    "start_time": "2021-08-12T12:41:15.896Z"
   },
   {
    "duration": -2539,
    "start_time": "2021-08-12T12:41:15.905Z"
   },
   {
    "duration": -2545,
    "start_time": "2021-08-12T12:41:15.912Z"
   },
   {
    "duration": -2551,
    "start_time": "2021-08-12T12:41:15.920Z"
   },
   {
    "duration": -2571,
    "start_time": "2021-08-12T12:41:15.941Z"
   },
   {
    "duration": -2579,
    "start_time": "2021-08-12T12:41:15.951Z"
   },
   {
    "duration": -2587,
    "start_time": "2021-08-12T12:41:15.960Z"
   },
   {
    "duration": -2594,
    "start_time": "2021-08-12T12:41:15.968Z"
   },
   {
    "duration": -2601,
    "start_time": "2021-08-12T12:41:15.977Z"
   },
   {
    "duration": -2609,
    "start_time": "2021-08-12T12:41:15.986Z"
   },
   {
    "duration": -2616,
    "start_time": "2021-08-12T12:41:15.994Z"
   },
   {
    "duration": -2624,
    "start_time": "2021-08-12T12:41:16.004Z"
   },
   {
    "duration": -2632,
    "start_time": "2021-08-12T12:41:16.013Z"
   },
   {
    "duration": -2639,
    "start_time": "2021-08-12T12:41:16.022Z"
   },
   {
    "duration": -2646,
    "start_time": "2021-08-12T12:41:16.030Z"
   },
   {
    "duration": -2664,
    "start_time": "2021-08-12T12:41:16.049Z"
   },
   {
    "duration": 19,
    "start_time": "2021-08-12T12:42:51.829Z"
   },
   {
    "duration": 1057,
    "start_time": "2021-08-12T12:45:03.828Z"
   },
   {
    "duration": 230,
    "start_time": "2021-08-12T12:45:04.658Z"
   },
   {
    "duration": 281,
    "start_time": "2021-08-12T12:45:05.214Z"
   },
   {
    "duration": 286,
    "start_time": "2021-08-12T12:45:11.256Z"
   },
   {
    "duration": 233,
    "start_time": "2021-08-12T12:45:11.313Z"
   },
   {
    "duration": 439,
    "start_time": "2021-08-12T12:45:11.859Z"
   },
   {
    "duration": 12,
    "start_time": "2021-08-12T12:46:34.787Z"
   },
   {
    "duration": 14,
    "start_time": "2021-08-12T12:46:38.603Z"
   },
   {
    "duration": 11,
    "start_time": "2021-08-12T12:46:39.080Z"
   },
   {
    "duration": 12,
    "start_time": "2021-08-12T12:46:39.561Z"
   },
   {
    "duration": 275,
    "start_time": "2021-08-12T12:46:40.639Z"
   },
   {
    "duration": 36,
    "start_time": "2021-08-12T12:49:07.789Z"
   },
   {
    "duration": 11,
    "start_time": "2021-08-12T12:50:42.204Z"
   },
   {
    "duration": 10,
    "start_time": "2021-08-12T12:50:45.422Z"
   },
   {
    "duration": 11,
    "start_time": "2021-08-12T12:50:54.437Z"
   },
   {
    "duration": 14,
    "start_time": "2021-08-12T12:51:18.172Z"
   },
   {
    "duration": 2769,
    "start_time": "2021-08-12T12:52:41.781Z"
   },
   {
    "duration": 2771,
    "start_time": "2021-08-12T12:52:44.556Z"
   },
   {
    "duration": 833,
    "start_time": "2021-08-12T12:53:09.024Z"
   },
   {
    "duration": 675,
    "start_time": "2021-08-12T12:53:13.915Z"
   },
   {
    "duration": 844,
    "start_time": "2021-08-12T12:54:27.113Z"
   },
   {
    "duration": 446,
    "start_time": "2021-08-12T12:54:27.960Z"
   },
   {
    "duration": 9,
    "start_time": "2021-08-12T12:54:38.890Z"
   },
   {
    "duration": 3,
    "start_time": "2021-08-12T12:54:43.453Z"
   },
   {
    "duration": 621,
    "start_time": "2021-08-12T12:54:45.061Z"
   },
   {
    "duration": 639,
    "start_time": "2021-08-12T12:54:50.905Z"
   },
   {
    "duration": 4,
    "start_time": "2021-08-12T12:54:54.441Z"
   },
   {
    "duration": 660,
    "start_time": "2021-08-12T12:54:54.767Z"
   },
   {
    "duration": 958,
    "start_time": "2021-08-12T12:54:55.656Z"
   },
   {
    "duration": 495,
    "start_time": "2021-08-12T12:56:09.024Z"
   },
   {
    "duration": 500,
    "start_time": "2021-08-12T12:56:11.886Z"
   },
   {
    "duration": 9,
    "start_time": "2021-08-12T12:56:40.898Z"
   },
   {
    "duration": 10,
    "start_time": "2021-08-12T12:56:40.909Z"
   },
   {
    "duration": 21,
    "start_time": "2021-08-12T12:56:40.922Z"
   },
   {
    "duration": 7,
    "start_time": "2021-08-12T12:56:40.946Z"
   },
   {
    "duration": 21,
    "start_time": "2021-08-12T12:56:40.955Z"
   },
   {
    "duration": 679,
    "start_time": "2021-08-12T12:56:40.980Z"
   },
   {
    "duration": 130,
    "start_time": "2021-08-12T12:56:41.662Z"
   },
   {
    "duration": 289,
    "start_time": "2021-08-12T12:56:41.795Z"
   },
   {
    "duration": 256,
    "start_time": "2021-08-12T12:56:41.831Z"
   },
   {
    "duration": 239,
    "start_time": "2021-08-12T12:56:41.851Z"
   },
   {
    "duration": 223,
    "start_time": "2021-08-12T12:56:41.869Z"
   },
   {
    "duration": 935,
    "start_time": "2021-08-12T12:58:26.830Z"
   },
   {
    "duration": 303,
    "start_time": "2021-08-12T12:58:29.097Z"
   },
   {
    "duration": 292,
    "start_time": "2021-08-12T12:58:30.500Z"
   },
   {
    "duration": 133,
    "start_time": "2021-08-12T13:02:22.320Z"
   },
   {
    "duration": 82,
    "start_time": "2021-08-12T14:26:31.644Z"
   },
   {
    "duration": 376,
    "start_time": "2021-08-12T14:31:07.474Z"
   },
   {
    "duration": 1138,
    "start_time": "2021-08-12T14:31:54.752Z"
   },
   {
    "duration": 2,
    "start_time": "2021-08-12T14:31:55.892Z"
   },
   {
    "duration": 5,
    "start_time": "2021-08-12T14:31:55.896Z"
   },
   {
    "duration": 233,
    "start_time": "2021-08-12T14:31:55.903Z"
   },
   {
    "duration": 19,
    "start_time": "2021-08-12T14:31:56.138Z"
   },
   {
    "duration": 66,
    "start_time": "2021-08-12T14:31:56.159Z"
   },
   {
    "duration": 18,
    "start_time": "2021-08-12T14:31:56.227Z"
   },
   {
    "duration": 21,
    "start_time": "2021-08-12T14:31:56.247Z"
   },
   {
    "duration": 10,
    "start_time": "2021-08-12T14:31:56.269Z"
   },
   {
    "duration": 8,
    "start_time": "2021-08-12T14:31:56.280Z"
   },
   {
    "duration": 5,
    "start_time": "2021-08-12T14:31:56.290Z"
   },
   {
    "duration": 7,
    "start_time": "2021-08-12T14:31:56.297Z"
   },
   {
    "duration": 39,
    "start_time": "2021-08-12T14:31:56.305Z"
   },
   {
    "duration": 11,
    "start_time": "2021-08-12T14:31:56.345Z"
   },
   {
    "duration": 10,
    "start_time": "2021-08-12T14:31:56.357Z"
   },
   {
    "duration": 5,
    "start_time": "2021-08-12T14:31:56.369Z"
   },
   {
    "duration": 6,
    "start_time": "2021-08-12T14:31:56.375Z"
   },
   {
    "duration": 5,
    "start_time": "2021-08-12T14:31:56.382Z"
   },
   {
    "duration": 6,
    "start_time": "2021-08-12T14:31:56.388Z"
   },
   {
    "duration": 6,
    "start_time": "2021-08-12T14:31:56.395Z"
   },
   {
    "duration": 40,
    "start_time": "2021-08-12T14:31:56.402Z"
   },
   {
    "duration": 24,
    "start_time": "2021-08-12T14:31:56.443Z"
   },
   {
    "duration": 6,
    "start_time": "2021-08-12T14:31:56.471Z"
   },
   {
    "duration": 1016,
    "start_time": "2021-08-12T14:31:56.479Z"
   },
   {
    "duration": 9,
    "start_time": "2021-08-12T14:31:57.497Z"
   },
   {
    "duration": 9,
    "start_time": "2021-08-12T14:31:57.507Z"
   },
   {
    "duration": 30,
    "start_time": "2021-08-12T14:31:57.518Z"
   },
   {
    "duration": 9,
    "start_time": "2021-08-12T14:31:57.550Z"
   },
   {
    "duration": 313,
    "start_time": "2021-08-12T14:31:57.561Z"
   },
   {
    "duration": -327,
    "start_time": "2021-08-12T14:31:58.204Z"
   },
   {
    "duration": -338,
    "start_time": "2021-08-12T14:31:58.216Z"
   },
   {
    "duration": -347,
    "start_time": "2021-08-12T14:31:58.226Z"
   },
   {
    "duration": -357,
    "start_time": "2021-08-12T14:31:58.237Z"
   },
   {
    "duration": -367,
    "start_time": "2021-08-12T14:31:58.248Z"
   },
   {
    "duration": -377,
    "start_time": "2021-08-12T14:31:58.259Z"
   },
   {
    "duration": -389,
    "start_time": "2021-08-12T14:31:58.272Z"
   },
   {
    "duration": -404,
    "start_time": "2021-08-12T14:31:58.288Z"
   },
   {
    "duration": -414,
    "start_time": "2021-08-12T14:31:58.299Z"
   },
   {
    "duration": -424,
    "start_time": "2021-08-12T14:31:58.310Z"
   },
   {
    "duration": -434,
    "start_time": "2021-08-12T14:31:58.320Z"
   },
   {
    "duration": -444,
    "start_time": "2021-08-12T14:31:58.331Z"
   },
   {
    "duration": -454,
    "start_time": "2021-08-12T14:31:58.342Z"
   },
   {
    "duration": -465,
    "start_time": "2021-08-12T14:31:58.354Z"
   },
   {
    "duration": -480,
    "start_time": "2021-08-12T14:31:58.370Z"
   },
   {
    "duration": -491,
    "start_time": "2021-08-12T14:31:58.382Z"
   },
   {
    "duration": -500,
    "start_time": "2021-08-12T14:31:58.392Z"
   },
   {
    "duration": -510,
    "start_time": "2021-08-12T14:31:58.403Z"
   },
   {
    "duration": -520,
    "start_time": "2021-08-12T14:31:58.414Z"
   },
   {
    "duration": -530,
    "start_time": "2021-08-12T14:31:58.425Z"
   },
   {
    "duration": -541,
    "start_time": "2021-08-12T14:31:58.437Z"
   },
   {
    "duration": -551,
    "start_time": "2021-08-12T14:31:58.448Z"
   },
   {
    "duration": -561,
    "start_time": "2021-08-12T14:31:58.459Z"
   },
   {
    "duration": -579,
    "start_time": "2021-08-12T14:31:58.477Z"
   },
   {
    "duration": -588,
    "start_time": "2021-08-12T14:31:58.487Z"
   },
   {
    "duration": -599,
    "start_time": "2021-08-12T14:31:58.499Z"
   },
   {
    "duration": -608,
    "start_time": "2021-08-12T14:31:58.509Z"
   },
   {
    "duration": -619,
    "start_time": "2021-08-12T14:31:58.520Z"
   },
   {
    "duration": -629,
    "start_time": "2021-08-12T14:31:58.531Z"
   },
   {
    "duration": -640,
    "start_time": "2021-08-12T14:31:58.543Z"
   },
   {
    "duration": -650,
    "start_time": "2021-08-12T14:31:58.554Z"
   },
   {
    "duration": -668,
    "start_time": "2021-08-12T14:31:58.573Z"
   },
   {
    "duration": -679,
    "start_time": "2021-08-12T14:31:58.585Z"
   },
   {
    "duration": -689,
    "start_time": "2021-08-12T14:31:58.596Z"
   },
   {
    "duration": -700,
    "start_time": "2021-08-12T14:31:58.608Z"
   },
   {
    "duration": -710,
    "start_time": "2021-08-12T14:31:58.619Z"
   },
   {
    "duration": -721,
    "start_time": "2021-08-12T14:31:58.631Z"
   },
   {
    "duration": -732,
    "start_time": "2021-08-12T14:31:58.643Z"
   },
   {
    "duration": -746,
    "start_time": "2021-08-12T14:31:58.657Z"
   },
   {
    "duration": -763,
    "start_time": "2021-08-12T14:31:58.675Z"
   },
   {
    "duration": -751,
    "start_time": "2021-08-12T14:31:58.691Z"
   },
   {
    "duration": -765,
    "start_time": "2021-08-12T14:31:58.706Z"
   },
   {
    "duration": -775,
    "start_time": "2021-08-12T14:31:58.717Z"
   },
   {
    "duration": -786,
    "start_time": "2021-08-12T14:31:58.729Z"
   },
   {
    "duration": -796,
    "start_time": "2021-08-12T14:31:58.740Z"
   },
   {
    "duration": -806,
    "start_time": "2021-08-12T14:31:58.751Z"
   },
   {
    "duration": -818,
    "start_time": "2021-08-12T14:31:58.764Z"
   },
   {
    "duration": -834,
    "start_time": "2021-08-12T14:31:58.781Z"
   },
   {
    "duration": -844,
    "start_time": "2021-08-12T14:31:58.792Z"
   },
   {
    "duration": -855,
    "start_time": "2021-08-12T14:31:58.804Z"
   },
   {
    "duration": -864,
    "start_time": "2021-08-12T14:31:58.814Z"
   },
   {
    "duration": -876,
    "start_time": "2021-08-12T14:31:58.826Z"
   },
   {
    "duration": -885,
    "start_time": "2021-08-12T14:31:58.836Z"
   },
   {
    "duration": -894,
    "start_time": "2021-08-12T14:31:58.847Z"
   },
   {
    "duration": -907,
    "start_time": "2021-08-12T14:31:58.860Z"
   },
   {
    "duration": -924,
    "start_time": "2021-08-12T14:31:58.878Z"
   },
   {
    "duration": -938,
    "start_time": "2021-08-12T14:31:58.893Z"
   },
   {
    "duration": -953,
    "start_time": "2021-08-12T14:31:58.909Z"
   },
   {
    "duration": -962,
    "start_time": "2021-08-12T14:31:58.919Z"
   },
   {
    "duration": -972,
    "start_time": "2021-08-12T14:31:58.930Z"
   },
   {
    "duration": -982,
    "start_time": "2021-08-12T14:31:58.941Z"
   },
   {
    "duration": -992,
    "start_time": "2021-08-12T14:31:58.952Z"
   },
   {
    "duration": -1001,
    "start_time": "2021-08-12T14:31:58.963Z"
   },
   {
    "duration": -1013,
    "start_time": "2021-08-12T14:31:58.976Z"
   },
   {
    "duration": -1028,
    "start_time": "2021-08-12T14:31:58.992Z"
   },
   {
    "duration": -1040,
    "start_time": "2021-08-12T14:31:59.006Z"
   },
   {
    "duration": -1049,
    "start_time": "2021-08-12T14:31:59.016Z"
   },
   {
    "duration": -1060,
    "start_time": "2021-08-12T14:31:59.028Z"
   },
   {
    "duration": -1070,
    "start_time": "2021-08-12T14:31:59.039Z"
   },
   {
    "duration": -1079,
    "start_time": "2021-08-12T14:31:59.049Z"
   },
   {
    "duration": -1089,
    "start_time": "2021-08-12T14:31:59.061Z"
   },
   {
    "duration": -1107,
    "start_time": "2021-08-12T14:31:59.080Z"
   },
   {
    "duration": 3490,
    "start_time": "2021-08-12T14:33:34.958Z"
   },
   {
    "duration": 4,
    "start_time": "2021-08-12T14:33:48.966Z"
   },
   {
    "duration": 3,
    "start_time": "2021-08-12T14:33:49.894Z"
   },
   {
    "duration": 2343,
    "start_time": "2021-08-12T14:34:04.046Z"
   },
   {
    "duration": 1050,
    "start_time": "2021-08-12T14:34:06.391Z"
   },
   {
    "duration": 2,
    "start_time": "2021-08-12T14:34:07.443Z"
   },
   {
    "duration": 23,
    "start_time": "2021-08-12T14:34:07.447Z"
   },
   {
    "duration": 248,
    "start_time": "2021-08-12T14:34:07.472Z"
   },
   {
    "duration": 19,
    "start_time": "2021-08-12T14:34:07.722Z"
   },
   {
    "duration": 64,
    "start_time": "2021-08-12T14:34:07.742Z"
   },
   {
    "duration": 9,
    "start_time": "2021-08-12T14:34:07.809Z"
   },
   {
    "duration": 28,
    "start_time": "2021-08-12T14:34:07.820Z"
   },
   {
    "duration": 9,
    "start_time": "2021-08-12T14:34:07.849Z"
   },
   {
    "duration": 8,
    "start_time": "2021-08-12T14:34:07.859Z"
   },
   {
    "duration": 7,
    "start_time": "2021-08-12T14:34:07.868Z"
   },
   {
    "duration": 6,
    "start_time": "2021-08-12T14:34:07.876Z"
   },
   {
    "duration": 10,
    "start_time": "2021-08-12T14:34:07.883Z"
   },
   {
    "duration": 9,
    "start_time": "2021-08-12T14:34:07.894Z"
   },
   {
    "duration": 38,
    "start_time": "2021-08-12T14:34:07.904Z"
   },
   {
    "duration": 5,
    "start_time": "2021-08-12T14:34:07.944Z"
   },
   {
    "duration": 7,
    "start_time": "2021-08-12T14:34:07.951Z"
   },
   {
    "duration": 7,
    "start_time": "2021-08-12T14:34:07.959Z"
   },
   {
    "duration": 6,
    "start_time": "2021-08-12T14:34:07.967Z"
   },
   {
    "duration": 5,
    "start_time": "2021-08-12T14:34:07.974Z"
   },
   {
    "duration": 10,
    "start_time": "2021-08-12T14:34:07.981Z"
   },
   {
    "duration": 48,
    "start_time": "2021-08-12T14:34:07.995Z"
   },
   {
    "duration": 5,
    "start_time": "2021-08-12T14:34:08.045Z"
   },
   {
    "duration": 928,
    "start_time": "2021-08-12T14:34:08.051Z"
   },
   {
    "duration": 9,
    "start_time": "2021-08-12T14:34:08.981Z"
   },
   {
    "duration": 9,
    "start_time": "2021-08-12T14:34:08.991Z"
   },
   {
    "duration": 9,
    "start_time": "2021-08-12T14:34:09.001Z"
   },
   {
    "duration": 35,
    "start_time": "2021-08-12T14:34:09.012Z"
   },
   {
    "duration": 370,
    "start_time": "2021-08-12T14:34:09.048Z"
   },
   {
    "duration": 10,
    "start_time": "2021-08-12T14:34:09.420Z"
   },
   {
    "duration": 389,
    "start_time": "2021-08-12T14:34:09.441Z"
   },
   {
    "duration": 16,
    "start_time": "2021-08-12T14:34:09.832Z"
   },
   {
    "duration": 8,
    "start_time": "2021-08-12T14:34:09.850Z"
   },
   {
    "duration": 14,
    "start_time": "2021-08-12T14:34:09.860Z"
   },
   {
    "duration": 8,
    "start_time": "2021-08-12T14:34:09.876Z"
   },
   {
    "duration": 9,
    "start_time": "2021-08-12T14:34:09.885Z"
   },
   {
    "duration": 5,
    "start_time": "2021-08-12T14:34:09.895Z"
   },
   {
    "duration": 5,
    "start_time": "2021-08-12T14:34:09.901Z"
   },
   {
    "duration": 36,
    "start_time": "2021-08-12T14:34:09.907Z"
   },
   {
    "duration": 3,
    "start_time": "2021-08-12T14:34:09.945Z"
   },
   {
    "duration": 23,
    "start_time": "2021-08-12T14:34:09.949Z"
   },
   {
    "duration": 11,
    "start_time": "2021-08-12T14:34:09.973Z"
   },
   {
    "duration": 8,
    "start_time": "2021-08-12T14:34:09.986Z"
   },
   {
    "duration": 21,
    "start_time": "2021-08-12T14:34:09.996Z"
   },
   {
    "duration": 23,
    "start_time": "2021-08-12T14:34:10.019Z"
   },
   {
    "duration": 8,
    "start_time": "2021-08-12T14:34:10.043Z"
   },
   {
    "duration": 18,
    "start_time": "2021-08-12T14:34:10.053Z"
   },
   {
    "duration": 6,
    "start_time": "2021-08-12T14:34:10.072Z"
   },
   {
    "duration": 11,
    "start_time": "2021-08-12T14:34:10.079Z"
   },
   {
    "duration": 15,
    "start_time": "2021-08-12T14:34:10.092Z"
   },
   {
    "duration": 8,
    "start_time": "2021-08-12T14:34:10.109Z"
   },
   {
    "duration": 25,
    "start_time": "2021-08-12T14:34:10.118Z"
   },
   {
    "duration": 4,
    "start_time": "2021-08-12T14:34:10.145Z"
   },
   {
    "duration": 7,
    "start_time": "2021-08-12T14:34:10.150Z"
   },
   {
    "duration": 5,
    "start_time": "2021-08-12T14:34:10.158Z"
   },
   {
    "duration": 7,
    "start_time": "2021-08-12T14:34:10.165Z"
   },
   {
    "duration": 11,
    "start_time": "2021-08-12T14:34:10.173Z"
   },
   {
    "duration": 4,
    "start_time": "2021-08-12T14:34:10.185Z"
   },
   {
    "duration": 13,
    "start_time": "2021-08-12T14:34:10.191Z"
   },
   {
    "duration": 37,
    "start_time": "2021-08-12T14:34:10.205Z"
   },
   {
    "duration": 10,
    "start_time": "2021-08-12T14:34:10.243Z"
   },
   {
    "duration": 6,
    "start_time": "2021-08-12T14:34:10.255Z"
   },
   {
    "duration": 279,
    "start_time": "2021-08-12T14:34:10.263Z"
   },
   {
    "duration": 5644,
    "start_time": "2021-08-12T14:34:10.544Z"
   },
   {
    "duration": 276,
    "start_time": "2021-08-12T14:34:16.190Z"
   },
   {
    "duration": 231,
    "start_time": "2021-08-12T14:34:16.468Z"
   },
   {
    "duration": 501,
    "start_time": "2021-08-12T14:34:16.704Z"
   },
   {
    "duration": 5,
    "start_time": "2021-08-12T14:34:17.207Z"
   },
   {
    "duration": 194,
    "start_time": "2021-08-12T14:34:17.214Z"
   },
   {
    "duration": 8,
    "start_time": "2021-08-12T14:34:17.409Z"
   },
   {
    "duration": 23,
    "start_time": "2021-08-12T14:34:17.418Z"
   },
   {
    "duration": 8,
    "start_time": "2021-08-12T14:34:17.442Z"
   },
   {
    "duration": 9,
    "start_time": "2021-08-12T14:34:17.452Z"
   },
   {
    "duration": 315,
    "start_time": "2021-08-12T14:34:17.463Z"
   },
   {
    "duration": 22,
    "start_time": "2021-08-12T14:34:17.780Z"
   },
   {
    "duration": 1816,
    "start_time": "2021-08-12T14:34:17.803Z"
   },
   {
    "duration": 1705,
    "start_time": "2021-08-12T14:34:19.621Z"
   },
   {
    "duration": 653,
    "start_time": "2021-08-12T14:34:21.328Z"
   },
   {
    "duration": 436,
    "start_time": "2021-08-12T14:34:21.984Z"
   },
   {
    "duration": 472,
    "start_time": "2021-08-12T14:34:22.423Z"
   },
   {
    "duration": 254,
    "start_time": "2021-08-12T14:34:22.897Z"
   },
   {
    "duration": 8,
    "start_time": "2021-08-12T14:34:23.153Z"
   },
   {
    "duration": 8,
    "start_time": "2021-08-12T14:34:23.162Z"
   },
   {
    "duration": 324,
    "start_time": "2021-08-12T14:34:23.172Z"
   },
   {
    "duration": 327,
    "start_time": "2021-08-12T14:34:23.497Z"
   },
   {
    "duration": 3,
    "start_time": "2021-08-12T14:34:23.826Z"
   },
   {
    "duration": 405,
    "start_time": "2021-08-12T14:34:23.831Z"
   },
   {
    "duration": 409,
    "start_time": "2021-08-12T14:34:24.240Z"
   },
   {
    "duration": 322,
    "start_time": "2021-08-12T14:34:24.651Z"
   },
   {
    "duration": 718,
    "start_time": "2021-08-12T14:34:24.975Z"
   },
   {
    "duration": 6,
    "start_time": "2021-08-12T14:34:25.695Z"
   },
   {
    "duration": 19,
    "start_time": "2021-08-12T14:34:25.703Z"
   },
   {
    "duration": 22,
    "start_time": "2021-08-12T14:34:25.723Z"
   },
   {
    "duration": 22,
    "start_time": "2021-08-12T14:34:25.747Z"
   },
   {
    "duration": 30,
    "start_time": "2021-08-12T14:34:25.771Z"
   },
   {
    "duration": 392,
    "start_time": "2021-08-12T14:34:25.803Z"
   },
   {
    "duration": 75,
    "start_time": "2021-08-12T14:34:26.197Z"
   },
   {
    "duration": 278,
    "start_time": "2021-08-12T14:34:26.275Z"
   },
   {
    "duration": 1060,
    "start_time": "2021-08-12T14:34:26.555Z"
   },
   {
    "duration": 394,
    "start_time": "2021-08-12T14:34:27.616Z"
   },
   {
    "duration": 368,
    "start_time": "2021-08-12T14:34:28.013Z"
   },
   {
    "duration": 83,
    "start_time": "2021-08-12T14:36:59.100Z"
   },
   {
    "duration": 367,
    "start_time": "2021-08-12T15:08:57.383Z"
   },
   {
    "duration": 1141,
    "start_time": "2021-08-12T15:13:01.826Z"
   },
   {
    "duration": 4,
    "start_time": "2021-08-12T15:15:06.528Z"
   }
  ],
  "kernelspec": {
   "display_name": "Python 3 (ipykernel)",
   "language": "python",
   "name": "python3"
  },
  "language_info": {
   "codemirror_mode": {
    "name": "ipython",
    "version": 3
   },
   "file_extension": ".py",
   "mimetype": "text/x-python",
   "name": "python",
   "nbconvert_exporter": "python",
   "pygments_lexer": "ipython3",
   "version": "3.10.6"
  },
  "toc": {
   "base_numbering": 1,
   "nav_menu": {},
   "number_sections": true,
   "sideBar": true,
   "skip_h1_title": true,
   "title_cell": "Содержание",
   "title_sidebar": "Contents",
   "toc_cell": true,
   "toc_position": {
    "height": "calc(100% - 180px)",
    "left": "10px",
    "top": "150px",
    "width": "366.4px"
   },
   "toc_section_display": true,
   "toc_window_display": true
  }
 },
 "nbformat": 4,
 "nbformat_minor": 4
}
